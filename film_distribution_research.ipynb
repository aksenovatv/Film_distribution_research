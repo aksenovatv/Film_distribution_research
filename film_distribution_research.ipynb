{
 "cells": [
  {
   "cell_type": "markdown",
   "metadata": {
    "id": "sIfNaMOxgFyK"
   },
   "source": [
    "## Исследование данных о российском кинопрокате\n",
    "\n"
   ]
  },
  {
   "cell_type": "markdown",
   "metadata": {
    "id": "3bSlkCsbgFyL"
   },
   "source": [
    "### Шаг 1. Открываем файлы с данными и объединяем их в один датафрейм. \n",
    "\n",
    "Объединяем данные таким образом, чтобы все объекты из датасета `mkrf_movies` обязательно вошли в получившийся датафрейм. "
   ]
  },
  {
   "cell_type": "markdown",
   "metadata": {},
   "source": [
    "**Добавим новые функции для работы**"
   ]
  },
  {
   "cell_type": "code",
   "execution_count": 1,
   "metadata": {},
   "outputs": [],
   "source": [
    "#функция для создания и заполнения столбца данными, которые выделим из передаваемого столбца, данные берутся до первой запятой\n",
    "\n",
    "def to_data(data, columns):\n",
    "    for column in columns:\n",
    "        data[f'main_{column}'] = data[column].str.split(',').str[0]\n",
    "    return data"
   ]
  },
  {
   "cell_type": "code",
   "execution_count": 2,
   "metadata": {},
   "outputs": [],
   "source": [
    "#функция сортировки и определения процентного соотношения указанных категорий в данных\n",
    "\n",
    "def to_sort(new_df, index, column):\n",
    "    try:\n",
    "        to_sort_df = (\n",
    "            new_df.pivot_table(index=index, values=column, aggfunc='count')\n",
    "            .sort_values(by=column, ascending = False)\n",
    "        )\n",
    "        to_sort_df['percent'] = (to_sort_df[column] / to_sort_df[column].sum()) * 100  \n",
    "        to_sort_df = to_sort_df.set_axis(['Количество в ' + column, 'Процент от общего'], axis='columns')\n",
    "        return to_sort_df\n",
    "    except:\n",
    "        return 'Ошибка'"
   ]
  },
  {
   "cell_type": "markdown",
   "metadata": {},
   "source": [
    "**Начнем работу с датасетом**"
   ]
  },
  {
   "cell_type": "code",
   "execution_count": 3,
   "metadata": {
    "id": "dw87FlzMgFyM"
   },
   "outputs": [],
   "source": [
    "import pandas as pd\n",
    "import matplotlib.pyplot as plt\n",
    "import numpy as np"
   ]
  },
  {
   "cell_type": "code",
   "execution_count": 4,
   "metadata": {},
   "outputs": [],
   "source": [
    "pd.set_option('display.max_columns', None) #установим опцию по выводу всех колонок датафрейма\n",
    "\n",
    "#укажем формат отображения больших чисел,\n",
    "pd.set_option('display.float_format', '{:.2f}'.format) #чтобы не применялась экспоненциальная запись в таблицах"
   ]
  },
  {
   "cell_type": "code",
   "execution_count": 5,
   "metadata": {},
   "outputs": [],
   "source": [
    "data = pd.read_csv('./mkrf_movies.csv', sep=',')\n",
    "data_dop = pd.read_csv('./mkrf_shows.csv', sep=',')"
   ]
  },
  {
   "cell_type": "markdown",
   "metadata": {},
   "source": [
    "**Посмотрим первые и последние 5 строк таблиц с данными, общую информацию**"
   ]
  },
  {
   "cell_type": "code",
   "execution_count": 6,
   "metadata": {},
   "outputs": [
    {
     "data": {
      "text/html": [
       "<div>\n",
       "<style scoped>\n",
       "    .dataframe tbody tr th:only-of-type {\n",
       "        vertical-align: middle;\n",
       "    }\n",
       "\n",
       "    .dataframe tbody tr th {\n",
       "        vertical-align: top;\n",
       "    }\n",
       "\n",
       "    .dataframe thead th {\n",
       "        text-align: right;\n",
       "    }\n",
       "</style>\n",
       "<table border=\"1\" class=\"dataframe\">\n",
       "  <thead>\n",
       "    <tr style=\"text-align: right;\">\n",
       "      <th></th>\n",
       "      <th>title</th>\n",
       "      <th>puNumber</th>\n",
       "      <th>show_start_date</th>\n",
       "      <th>type</th>\n",
       "      <th>film_studio</th>\n",
       "      <th>production_country</th>\n",
       "      <th>director</th>\n",
       "      <th>producer</th>\n",
       "      <th>age_restriction</th>\n",
       "      <th>refundable_support</th>\n",
       "      <th>nonrefundable_support</th>\n",
       "      <th>budget</th>\n",
       "      <th>financing_source</th>\n",
       "      <th>ratings</th>\n",
       "      <th>genres</th>\n",
       "    </tr>\n",
       "  </thead>\n",
       "  <tbody>\n",
       "    <tr>\n",
       "      <th>0</th>\n",
       "      <td>Открытый простор</td>\n",
       "      <td>221048915</td>\n",
       "      <td>2015-11-27T12:00:00.000Z</td>\n",
       "      <td>Художественный</td>\n",
       "      <td>Тачстоун Пикчерз, Кобальт Пикчерз, Бикон Пикче...</td>\n",
       "      <td>США</td>\n",
       "      <td>Кевин Костнер</td>\n",
       "      <td>Дэвид Валдес, Кевин Костнер, Джейк Эбертс</td>\n",
       "      <td>«18+» - запрещено для детей</td>\n",
       "      <td>NaN</td>\n",
       "      <td>NaN</td>\n",
       "      <td>NaN</td>\n",
       "      <td>NaN</td>\n",
       "      <td>7.2</td>\n",
       "      <td>боевик,драма,мелодрама</td>\n",
       "    </tr>\n",
       "    <tr>\n",
       "      <th>1</th>\n",
       "      <td>Особо важное задание</td>\n",
       "      <td>111013716</td>\n",
       "      <td>2016-09-13T12:00:00.000Z</td>\n",
       "      <td>Художественный</td>\n",
       "      <td>Киностудия \"Мосфильм\"</td>\n",
       "      <td>СССР</td>\n",
       "      <td>Е.Матвеев</td>\n",
       "      <td>NaN</td>\n",
       "      <td>«6+» - для детей старше 6 лет</td>\n",
       "      <td>NaN</td>\n",
       "      <td>NaN</td>\n",
       "      <td>NaN</td>\n",
       "      <td>NaN</td>\n",
       "      <td>6.6</td>\n",
       "      <td>драма,военный</td>\n",
       "    </tr>\n",
       "    <tr>\n",
       "      <th>2</th>\n",
       "      <td>Особо опасен</td>\n",
       "      <td>221038416</td>\n",
       "      <td>2016-10-10T12:00:00.000Z</td>\n",
       "      <td>Художественный</td>\n",
       "      <td>Юниверсал Пикчерз, Кикстарт Продакшнз, Марк Пл...</td>\n",
       "      <td>США</td>\n",
       "      <td>Тимур Бекмамбетов</td>\n",
       "      <td>Джим Лемли, Джейсон Нетер, Марк Е.Платт, Яйн Смит</td>\n",
       "      <td>«18+» - запрещено для детей</td>\n",
       "      <td>NaN</td>\n",
       "      <td>NaN</td>\n",
       "      <td>NaN</td>\n",
       "      <td>NaN</td>\n",
       "      <td>6.8</td>\n",
       "      <td>фантастика,боевик,триллер</td>\n",
       "    </tr>\n",
       "    <tr>\n",
       "      <th>3</th>\n",
       "      <td>Особо опасен</td>\n",
       "      <td>221026916</td>\n",
       "      <td>2016-06-10T12:00:00.000Z</td>\n",
       "      <td>Художественный</td>\n",
       "      <td>Юниверсал Пикчерз, Кикстарт Продакшнз, Марк Пл...</td>\n",
       "      <td>США</td>\n",
       "      <td>Тимур Бекмамбетов</td>\n",
       "      <td>Джим Лемли, Джейсон Нетер, Марк Е.Платт, Яйн Смит</td>\n",
       "      <td>«18+» - запрещено для детей</td>\n",
       "      <td>NaN</td>\n",
       "      <td>NaN</td>\n",
       "      <td>NaN</td>\n",
       "      <td>NaN</td>\n",
       "      <td>6.8</td>\n",
       "      <td>фантастика,боевик,триллер</td>\n",
       "    </tr>\n",
       "    <tr>\n",
       "      <th>4</th>\n",
       "      <td>Особо опасен</td>\n",
       "      <td>221030815</td>\n",
       "      <td>2015-07-29T12:00:00.000Z</td>\n",
       "      <td>Художественный</td>\n",
       "      <td>Юниверсал Пикчерз, Кикстарт Продакшнз, Марк Пл...</td>\n",
       "      <td>США</td>\n",
       "      <td>Тимур Бекмамбетов</td>\n",
       "      <td>Джим Лемли, Джейсон Нетер, Марк Е.Платт, Яйн Смит</td>\n",
       "      <td>«18+» - запрещено для детей</td>\n",
       "      <td>NaN</td>\n",
       "      <td>NaN</td>\n",
       "      <td>NaN</td>\n",
       "      <td>NaN</td>\n",
       "      <td>6.8</td>\n",
       "      <td>фантастика,боевик,триллер</td>\n",
       "    </tr>\n",
       "  </tbody>\n",
       "</table>\n",
       "</div>"
      ],
      "text/plain": [
       "                  title   puNumber           show_start_date            type  \\\n",
       "0      Открытый простор  221048915  2015-11-27T12:00:00.000Z  Художественный   \n",
       "1  Особо важное задание  111013716  2016-09-13T12:00:00.000Z  Художественный   \n",
       "2          Особо опасен  221038416  2016-10-10T12:00:00.000Z  Художественный   \n",
       "3          Особо опасен  221026916  2016-06-10T12:00:00.000Z  Художественный   \n",
       "4          Особо опасен  221030815  2015-07-29T12:00:00.000Z  Художественный   \n",
       "\n",
       "                                         film_studio production_country  \\\n",
       "0  Тачстоун Пикчерз, Кобальт Пикчерз, Бикон Пикче...                США   \n",
       "1                              Киностудия \"Мосфильм\"               СССР   \n",
       "2  Юниверсал Пикчерз, Кикстарт Продакшнз, Марк Пл...                США   \n",
       "3  Юниверсал Пикчерз, Кикстарт Продакшнз, Марк Пл...                США   \n",
       "4  Юниверсал Пикчерз, Кикстарт Продакшнз, Марк Пл...                США   \n",
       "\n",
       "            director                                           producer  \\\n",
       "0      Кевин Костнер          Дэвид Валдес, Кевин Костнер, Джейк Эбертс   \n",
       "1          Е.Матвеев                                                NaN   \n",
       "2  Тимур Бекмамбетов  Джим Лемли, Джейсон Нетер, Марк Е.Платт, Яйн Смит   \n",
       "3  Тимур Бекмамбетов  Джим Лемли, Джейсон Нетер, Марк Е.Платт, Яйн Смит   \n",
       "4  Тимур Бекмамбетов  Джим Лемли, Джейсон Нетер, Марк Е.Платт, Яйн Смит   \n",
       "\n",
       "                 age_restriction  refundable_support  nonrefundable_support  \\\n",
       "0    «18+» - запрещено для детей                 NaN                    NaN   \n",
       "1  «6+» - для детей старше 6 лет                 NaN                    NaN   \n",
       "2    «18+» - запрещено для детей                 NaN                    NaN   \n",
       "3    «18+» - запрещено для детей                 NaN                    NaN   \n",
       "4    «18+» - запрещено для детей                 NaN                    NaN   \n",
       "\n",
       "   budget financing_source ratings                     genres  \n",
       "0     NaN              NaN     7.2     боевик,драма,мелодрама  \n",
       "1     NaN              NaN     6.6              драма,военный  \n",
       "2     NaN              NaN     6.8  фантастика,боевик,триллер  \n",
       "3     NaN              NaN     6.8  фантастика,боевик,триллер  \n",
       "4     NaN              NaN     6.8  фантастика,боевик,триллер  "
      ]
     },
     "execution_count": 6,
     "metadata": {},
     "output_type": "execute_result"
    }
   ],
   "source": [
    "data.head()"
   ]
  },
  {
   "cell_type": "code",
   "execution_count": 7,
   "metadata": {},
   "outputs": [
    {
     "data": {
      "text/html": [
       "<div>\n",
       "<style scoped>\n",
       "    .dataframe tbody tr th:only-of-type {\n",
       "        vertical-align: middle;\n",
       "    }\n",
       "\n",
       "    .dataframe tbody tr th {\n",
       "        vertical-align: top;\n",
       "    }\n",
       "\n",
       "    .dataframe thead th {\n",
       "        text-align: right;\n",
       "    }\n",
       "</style>\n",
       "<table border=\"1\" class=\"dataframe\">\n",
       "  <thead>\n",
       "    <tr style=\"text-align: right;\">\n",
       "      <th></th>\n",
       "      <th>title</th>\n",
       "      <th>puNumber</th>\n",
       "      <th>show_start_date</th>\n",
       "      <th>type</th>\n",
       "      <th>film_studio</th>\n",
       "      <th>production_country</th>\n",
       "      <th>director</th>\n",
       "      <th>producer</th>\n",
       "      <th>age_restriction</th>\n",
       "      <th>refundable_support</th>\n",
       "      <th>nonrefundable_support</th>\n",
       "      <th>budget</th>\n",
       "      <th>financing_source</th>\n",
       "      <th>ratings</th>\n",
       "      <th>genres</th>\n",
       "    </tr>\n",
       "  </thead>\n",
       "  <tbody>\n",
       "    <tr>\n",
       "      <th>7481</th>\n",
       "      <td>Сад художника: Американский импрессионизм</td>\n",
       "      <td>126008019</td>\n",
       "      <td>2019-12-23T12:00:00.000Z</td>\n",
       "      <td>Прочие</td>\n",
       "      <td>Севен Артс Продакшнз</td>\n",
       "      <td>Великобритания</td>\n",
       "      <td>Фил Грабски</td>\n",
       "      <td>Фил Грабски</td>\n",
       "      <td>«12+» - для детей старше 12 лет</td>\n",
       "      <td>NaN</td>\n",
       "      <td>NaN</td>\n",
       "      <td>NaN</td>\n",
       "      <td>NaN</td>\n",
       "      <td>NaN</td>\n",
       "      <td>NaN</td>\n",
       "    </tr>\n",
       "    <tr>\n",
       "      <th>7482</th>\n",
       "      <td>Звериная ярость</td>\n",
       "      <td>121037819</td>\n",
       "      <td>2019-12-24T12:00:00.000Z</td>\n",
       "      <td>Художественный</td>\n",
       "      <td>Дэниел Гродник Продакшнз, Вандерфилм Медиа Кор...</td>\n",
       "      <td>США</td>\n",
       "      <td>Ник Пауэлл</td>\n",
       "      <td>Джефф Боулер, Дэниэл Гродник, Луильо Руис, Брэ...</td>\n",
       "      <td>«16+» - для детей старше 16 лет</td>\n",
       "      <td>NaN</td>\n",
       "      <td>NaN</td>\n",
       "      <td>NaN</td>\n",
       "      <td>NaN</td>\n",
       "      <td>5.4</td>\n",
       "      <td>боевик,триллер</td>\n",
       "    </tr>\n",
       "    <tr>\n",
       "      <th>7483</th>\n",
       "      <td>Щенячий патруль: Скорей спешим на помощь!</td>\n",
       "      <td>124010819</td>\n",
       "      <td>2019-12-28T12:00:00.000Z</td>\n",
       "      <td>Художественный</td>\n",
       "      <td>Никелодеон Анимейшн Студиос, Спин Мастер</td>\n",
       "      <td>США - Канада</td>\n",
       "      <td>Чарльз Е.Бастьен</td>\n",
       "      <td>Дженнифер Додж</td>\n",
       "      <td>«0+» - для любой зрительской аудитории</td>\n",
       "      <td>NaN</td>\n",
       "      <td>NaN</td>\n",
       "      <td>NaN</td>\n",
       "      <td>NaN</td>\n",
       "      <td>NaN</td>\n",
       "      <td>NaN</td>\n",
       "    </tr>\n",
       "    <tr>\n",
       "      <th>7484</th>\n",
       "      <td>Машины песенки. Серия \"Испанские мотивы\"</td>\n",
       "      <td>124010619</td>\n",
       "      <td>2019-12-30T12:00:00.000Z</td>\n",
       "      <td>Анимационный</td>\n",
       "      <td>Анимаккорд Лтд., ООО Студия \"АНИМАККОРД\"</td>\n",
       "      <td>Республика Кипр, Россия</td>\n",
       "      <td>А.Беляев</td>\n",
       "      <td>Д.Ловейко</td>\n",
       "      <td>«0+» - для любой зрительской аудитории</td>\n",
       "      <td>NaN</td>\n",
       "      <td>NaN</td>\n",
       "      <td>NaN</td>\n",
       "      <td>NaN</td>\n",
       "      <td>NaN</td>\n",
       "      <td>NaN</td>\n",
       "    </tr>\n",
       "    <tr>\n",
       "      <th>7485</th>\n",
       "      <td>Машины песенки. Серия \"Когда цветут кактусы\"</td>\n",
       "      <td>124010719</td>\n",
       "      <td>2019-12-30T12:00:00.000Z</td>\n",
       "      <td>Анимационный</td>\n",
       "      <td>Анимаккорд Лтд., ООО Студия \"АНИМАККОРД\"</td>\n",
       "      <td>Республика Кипр, Россия</td>\n",
       "      <td>И.Трусов</td>\n",
       "      <td>Д.Ловейко</td>\n",
       "      <td>«0+» - для любой зрительской аудитории</td>\n",
       "      <td>NaN</td>\n",
       "      <td>NaN</td>\n",
       "      <td>NaN</td>\n",
       "      <td>NaN</td>\n",
       "      <td>6.3</td>\n",
       "      <td>комедия,вестерн</td>\n",
       "    </tr>\n",
       "  </tbody>\n",
       "</table>\n",
       "</div>"
      ],
      "text/plain": [
       "                                             title   puNumber  \\\n",
       "7481     Сад художника: Американский импрессионизм  126008019   \n",
       "7482                               Звериная ярость  121037819   \n",
       "7483     Щенячий патруль: Скорей спешим на помощь!  124010819   \n",
       "7484      Машины песенки. Серия \"Испанские мотивы\"  124010619   \n",
       "7485  Машины песенки. Серия \"Когда цветут кактусы\"  124010719   \n",
       "\n",
       "               show_start_date             type  \\\n",
       "7481  2019-12-23T12:00:00.000Z           Прочие   \n",
       "7482  2019-12-24T12:00:00.000Z   Художественный   \n",
       "7483  2019-12-28T12:00:00.000Z   Художественный   \n",
       "7484  2019-12-30T12:00:00.000Z     Анимационный   \n",
       "7485  2019-12-30T12:00:00.000Z     Анимационный   \n",
       "\n",
       "                                            film_studio  \\\n",
       "7481                               Севен Артс Продакшнз   \n",
       "7482  Дэниел Гродник Продакшнз, Вандерфилм Медиа Кор...   \n",
       "7483           Никелодеон Анимейшн Студиос, Спин Мастер   \n",
       "7484           Анимаккорд Лтд., ООО Студия \"АНИМАККОРД\"   \n",
       "7485           Анимаккорд Лтд., ООО Студия \"АНИМАККОРД\"   \n",
       "\n",
       "           production_country          director  \\\n",
       "7481           Великобритания       Фил Грабски   \n",
       "7482                      США        Ник Пауэлл   \n",
       "7483             США - Канада  Чарльз Е.Бастьен   \n",
       "7484  Республика Кипр, Россия          А.Беляев   \n",
       "7485  Республика Кипр, Россия          И.Трусов   \n",
       "\n",
       "                                               producer  \\\n",
       "7481                                        Фил Грабски   \n",
       "7482  Джефф Боулер, Дэниэл Гродник, Луильо Руис, Брэ...   \n",
       "7483                                     Дженнифер Додж   \n",
       "7484                                          Д.Ловейко   \n",
       "7485                                          Д.Ловейко   \n",
       "\n",
       "                             age_restriction  refundable_support  \\\n",
       "7481         «12+» - для детей старше 12 лет                 NaN   \n",
       "7482         «16+» - для детей старше 16 лет                 NaN   \n",
       "7483  «0+» - для любой зрительской аудитории                 NaN   \n",
       "7484  «0+» - для любой зрительской аудитории                 NaN   \n",
       "7485  «0+» - для любой зрительской аудитории                 NaN   \n",
       "\n",
       "      nonrefundable_support  budget financing_source ratings           genres  \n",
       "7481                    NaN     NaN              NaN     NaN              NaN  \n",
       "7482                    NaN     NaN              NaN     5.4   боевик,триллер  \n",
       "7483                    NaN     NaN              NaN     NaN              NaN  \n",
       "7484                    NaN     NaN              NaN     NaN              NaN  \n",
       "7485                    NaN     NaN              NaN     6.3  комедия,вестерн  "
      ]
     },
     "execution_count": 7,
     "metadata": {},
     "output_type": "execute_result"
    }
   ],
   "source": [
    "data.tail()"
   ]
  },
  {
   "cell_type": "code",
   "execution_count": 8,
   "metadata": {},
   "outputs": [
    {
     "name": "stdout",
     "output_type": "stream",
     "text": [
      "<class 'pandas.core.frame.DataFrame'>\n",
      "RangeIndex: 7486 entries, 0 to 7485\n",
      "Data columns (total 15 columns):\n",
      " #   Column                 Non-Null Count  Dtype  \n",
      "---  ------                 --------------  -----  \n",
      " 0   title                  7486 non-null   object \n",
      " 1   puNumber               7486 non-null   object \n",
      " 2   show_start_date        7486 non-null   object \n",
      " 3   type                   7486 non-null   object \n",
      " 4   film_studio            7468 non-null   object \n",
      " 5   production_country     7484 non-null   object \n",
      " 6   director               7477 non-null   object \n",
      " 7   producer               6918 non-null   object \n",
      " 8   age_restriction        7486 non-null   object \n",
      " 9   refundable_support     332 non-null    float64\n",
      " 10  nonrefundable_support  332 non-null    float64\n",
      " 11  budget                 332 non-null    float64\n",
      " 12  financing_source       332 non-null    object \n",
      " 13  ratings                6519 non-null   object \n",
      " 14  genres                 6510 non-null   object \n",
      "dtypes: float64(3), object(12)\n",
      "memory usage: 877.4+ KB\n"
     ]
    }
   ],
   "source": [
    "data.info()"
   ]
  },
  {
   "cell_type": "code",
   "execution_count": 9,
   "metadata": {},
   "outputs": [
    {
     "data": {
      "text/html": [
       "<div>\n",
       "<style scoped>\n",
       "    .dataframe tbody tr th:only-of-type {\n",
       "        vertical-align: middle;\n",
       "    }\n",
       "\n",
       "    .dataframe tbody tr th {\n",
       "        vertical-align: top;\n",
       "    }\n",
       "\n",
       "    .dataframe thead th {\n",
       "        text-align: right;\n",
       "    }\n",
       "</style>\n",
       "<table border=\"1\" class=\"dataframe\">\n",
       "  <thead>\n",
       "    <tr style=\"text-align: right;\">\n",
       "      <th></th>\n",
       "      <th>puNumber</th>\n",
       "      <th>box_office</th>\n",
       "    </tr>\n",
       "  </thead>\n",
       "  <tbody>\n",
       "    <tr>\n",
       "      <th>0</th>\n",
       "      <td>111000113</td>\n",
       "      <td>2450.00</td>\n",
       "    </tr>\n",
       "    <tr>\n",
       "      <th>1</th>\n",
       "      <td>111000115</td>\n",
       "      <td>61040.00</td>\n",
       "    </tr>\n",
       "    <tr>\n",
       "      <th>2</th>\n",
       "      <td>111000116</td>\n",
       "      <td>153030013.40</td>\n",
       "    </tr>\n",
       "    <tr>\n",
       "      <th>3</th>\n",
       "      <td>111000117</td>\n",
       "      <td>12260956.00</td>\n",
       "    </tr>\n",
       "    <tr>\n",
       "      <th>4</th>\n",
       "      <td>111000118</td>\n",
       "      <td>163684057.79</td>\n",
       "    </tr>\n",
       "  </tbody>\n",
       "</table>\n",
       "</div>"
      ],
      "text/plain": [
       "    puNumber   box_office\n",
       "0  111000113      2450.00\n",
       "1  111000115     61040.00\n",
       "2  111000116 153030013.40\n",
       "3  111000117  12260956.00\n",
       "4  111000118 163684057.79"
      ]
     },
     "execution_count": 9,
     "metadata": {},
     "output_type": "execute_result"
    }
   ],
   "source": [
    "data_dop.head()"
   ]
  },
  {
   "cell_type": "code",
   "execution_count": 10,
   "metadata": {},
   "outputs": [
    {
     "data": {
      "text/html": [
       "<div>\n",
       "<style scoped>\n",
       "    .dataframe tbody tr th:only-of-type {\n",
       "        vertical-align: middle;\n",
       "    }\n",
       "\n",
       "    .dataframe tbody tr th {\n",
       "        vertical-align: top;\n",
       "    }\n",
       "\n",
       "    .dataframe thead th {\n",
       "        text-align: right;\n",
       "    }\n",
       "</style>\n",
       "<table border=\"1\" class=\"dataframe\">\n",
       "  <thead>\n",
       "    <tr style=\"text-align: right;\">\n",
       "      <th></th>\n",
       "      <th>puNumber</th>\n",
       "      <th>box_office</th>\n",
       "    </tr>\n",
       "  </thead>\n",
       "  <tbody>\n",
       "    <tr>\n",
       "      <th>3153</th>\n",
       "      <td>224014814</td>\n",
       "      <td>1530.00</td>\n",
       "    </tr>\n",
       "    <tr>\n",
       "      <th>3154</th>\n",
       "      <td>224021411</td>\n",
       "      <td>9270.00</td>\n",
       "    </tr>\n",
       "    <tr>\n",
       "      <th>3155</th>\n",
       "      <td>224022410</td>\n",
       "      <td>400.00</td>\n",
       "    </tr>\n",
       "    <tr>\n",
       "      <th>3156</th>\n",
       "      <td>224023210</td>\n",
       "      <td>360.00</td>\n",
       "    </tr>\n",
       "    <tr>\n",
       "      <th>3157</th>\n",
       "      <td>224026410</td>\n",
       "      <td>400.00</td>\n",
       "    </tr>\n",
       "  </tbody>\n",
       "</table>\n",
       "</div>"
      ],
      "text/plain": [
       "       puNumber  box_office\n",
       "3153  224014814     1530.00\n",
       "3154  224021411     9270.00\n",
       "3155  224022410      400.00\n",
       "3156  224023210      360.00\n",
       "3157  224026410      400.00"
      ]
     },
     "execution_count": 10,
     "metadata": {},
     "output_type": "execute_result"
    }
   ],
   "source": [
    "data_dop.tail()"
   ]
  },
  {
   "cell_type": "code",
   "execution_count": 11,
   "metadata": {},
   "outputs": [
    {
     "name": "stdout",
     "output_type": "stream",
     "text": [
      "<class 'pandas.core.frame.DataFrame'>\n",
      "RangeIndex: 3158 entries, 0 to 3157\n",
      "Data columns (total 2 columns):\n",
      " #   Column      Non-Null Count  Dtype  \n",
      "---  ------      --------------  -----  \n",
      " 0   puNumber    3158 non-null   int64  \n",
      " 1   box_office  3158 non-null   float64\n",
      "dtypes: float64(1), int64(1)\n",
      "memory usage: 49.5 KB\n"
     ]
    }
   ],
   "source": [
    "data_dop.info()"
   ]
  },
  {
   "cell_type": "markdown",
   "metadata": {},
   "source": [
    "**Проверим столбец, по которому будем объединять, на наличие посторонних строк, символов и прочего**"
   ]
  },
  {
   "cell_type": "code",
   "execution_count": 12,
   "metadata": {},
   "outputs": [
    {
     "data": {
      "text/html": [
       "<div>\n",
       "<style scoped>\n",
       "    .dataframe tbody tr th:only-of-type {\n",
       "        vertical-align: middle;\n",
       "    }\n",
       "\n",
       "    .dataframe tbody tr th {\n",
       "        vertical-align: top;\n",
       "    }\n",
       "\n",
       "    .dataframe thead th {\n",
       "        text-align: right;\n",
       "    }\n",
       "</style>\n",
       "<table border=\"1\" class=\"dataframe\">\n",
       "  <thead>\n",
       "    <tr style=\"text-align: right;\">\n",
       "      <th></th>\n",
       "      <th>title</th>\n",
       "      <th>puNumber</th>\n",
       "      <th>show_start_date</th>\n",
       "      <th>type</th>\n",
       "      <th>film_studio</th>\n",
       "      <th>production_country</th>\n",
       "      <th>director</th>\n",
       "      <th>producer</th>\n",
       "      <th>age_restriction</th>\n",
       "      <th>refundable_support</th>\n",
       "      <th>nonrefundable_support</th>\n",
       "      <th>budget</th>\n",
       "      <th>financing_source</th>\n",
       "      <th>ratings</th>\n",
       "      <th>genres</th>\n",
       "    </tr>\n",
       "  </thead>\n",
       "  <tbody>\n",
       "    <tr>\n",
       "      <th>804</th>\n",
       "      <td>Паранормальный Якутск</td>\n",
       "      <td>111004112</td>\n",
       "      <td>2012-08-24T12:00:00.000Z</td>\n",
       "      <td>Художественный</td>\n",
       "      <td>ИП Тимофеев К.П.</td>\n",
       "      <td>Россия</td>\n",
       "      <td>К.Тимофеев</td>\n",
       "      <td>NaN</td>\n",
       "      <td>«16+» - для детей старше 16 лет</td>\n",
       "      <td>NaN</td>\n",
       "      <td>NaN</td>\n",
       "      <td>NaN</td>\n",
       "      <td>NaN</td>\n",
       "      <td>NaN</td>\n",
       "      <td>NaN</td>\n",
       "    </tr>\n",
       "    <tr>\n",
       "      <th>1797</th>\n",
       "      <td>Курбан-роман. (История с жертвой)</td>\n",
       "      <td>нет</td>\n",
       "      <td>2014-05-15T12:00:00.000Z</td>\n",
       "      <td>Художественный</td>\n",
       "      <td>ФОНД \"ИННОВАЦИЯ\"</td>\n",
       "      <td>Россия</td>\n",
       "      <td>С.Юзеев</td>\n",
       "      <td>М.Галицкая</td>\n",
       "      <td>«12+» - для детей старше 12 лет</td>\n",
       "      <td>NaN</td>\n",
       "      <td>NaN</td>\n",
       "      <td>NaN</td>\n",
       "      <td>NaN</td>\n",
       "      <td>NaN</td>\n",
       "      <td>NaN</td>\n",
       "    </tr>\n",
       "  </tbody>\n",
       "</table>\n",
       "</div>"
      ],
      "text/plain": [
       "                                  title    puNumber           show_start_date  \\\n",
       "804               Паранормальный Якутск   111004112  2012-08-24T12:00:00.000Z   \n",
       "1797  Курбан-роман. (История с жертвой)         нет  2014-05-15T12:00:00.000Z   \n",
       "\n",
       "                type       film_studio production_country    director  \\\n",
       "804   Художественный  ИП Тимофеев К.П.             Россия  К.Тимофеев   \n",
       "1797  Художественный  ФОНД \"ИННОВАЦИЯ\"             Россия     С.Юзеев   \n",
       "\n",
       "        producer                  age_restriction  refundable_support  \\\n",
       "804          NaN  «16+» - для детей старше 16 лет                 NaN   \n",
       "1797  М.Галицкая  «12+» - для детей старше 12 лет                 NaN   \n",
       "\n",
       "      nonrefundable_support  budget financing_source ratings genres  \n",
       "804                     NaN     NaN              NaN     NaN    NaN  \n",
       "1797                    NaN     NaN              NaN     NaN    NaN  "
      ]
     },
     "execution_count": 12,
     "metadata": {},
     "output_type": "execute_result"
    }
   ],
   "source": [
    "data[data['puNumber'].str.isdigit() == False]"
   ]
  },
  {
   "cell_type": "markdown",
   "metadata": {},
   "source": [
    "Попробуем преобразовать значения в число. Если не получится, значение в ячейке будет заменено на NaN, а затем удалим строку со значением NaN."
   ]
  },
  {
   "cell_type": "code",
   "execution_count": 13,
   "metadata": {},
   "outputs": [],
   "source": [
    "data['puNumber'] = pd.to_numeric(data['puNumber'], errors='coerce')\n",
    "result = data.loc[pd.isnull(data['puNumber'])]"
   ]
  },
  {
   "cell_type": "code",
   "execution_count": 14,
   "metadata": {},
   "outputs": [],
   "source": [
    "data = data.dropna(subset=['puNumber'])\n",
    "data['puNumber'] = data['puNumber'].astype('int')"
   ]
  },
  {
   "cell_type": "markdown",
   "metadata": {},
   "source": [
    "**Объединим таблицы**"
   ]
  },
  {
   "cell_type": "code",
   "execution_count": 15,
   "metadata": {},
   "outputs": [
    {
     "data": {
      "text/plain": [
       "Index(['title', 'puNumber', 'show_start_date', 'type', 'film_studio',\n",
       "       'production_country', 'director', 'producer', 'age_restriction',\n",
       "       'refundable_support', 'nonrefundable_support', 'budget',\n",
       "       'financing_source', 'ratings', 'genres', 'box_office'],\n",
       "      dtype='object')"
      ]
     },
     "execution_count": 15,
     "metadata": {},
     "output_type": "execute_result"
    }
   ],
   "source": [
    "data = data.merge(data_dop, on='puNumber', how='outer')\n",
    "data.columns"
   ]
  },
  {
   "cell_type": "code",
   "execution_count": 16,
   "metadata": {},
   "outputs": [
    {
     "name": "stdout",
     "output_type": "stream",
     "text": [
      "<class 'pandas.core.frame.DataFrame'>\n",
      "Int64Index: 7485 entries, 0 to 7484\n",
      "Data columns (total 16 columns):\n",
      " #   Column                 Non-Null Count  Dtype  \n",
      "---  ------                 --------------  -----  \n",
      " 0   title                  7485 non-null   object \n",
      " 1   puNumber               7485 non-null   int64  \n",
      " 2   show_start_date        7485 non-null   object \n",
      " 3   type                   7485 non-null   object \n",
      " 4   film_studio            7467 non-null   object \n",
      " 5   production_country     7483 non-null   object \n",
      " 6   director               7476 non-null   object \n",
      " 7   producer               6917 non-null   object \n",
      " 8   age_restriction        7485 non-null   object \n",
      " 9   refundable_support     332 non-null    float64\n",
      " 10  nonrefundable_support  332 non-null    float64\n",
      " 11  budget                 332 non-null    float64\n",
      " 12  financing_source       332 non-null    object \n",
      " 13  ratings                6519 non-null   object \n",
      " 14  genres                 6510 non-null   object \n",
      " 15  box_office             3158 non-null   float64\n",
      "dtypes: float64(4), int64(1), object(11)\n",
      "memory usage: 994.1+ KB\n"
     ]
    }
   ],
   "source": [
    "#проверим результат\n",
    "data.info()"
   ]
  },
  {
   "cell_type": "code",
   "execution_count": 17,
   "metadata": {},
   "outputs": [
    {
     "data": {
      "text/html": [
       "<div>\n",
       "<style scoped>\n",
       "    .dataframe tbody tr th:only-of-type {\n",
       "        vertical-align: middle;\n",
       "    }\n",
       "\n",
       "    .dataframe tbody tr th {\n",
       "        vertical-align: top;\n",
       "    }\n",
       "\n",
       "    .dataframe thead th {\n",
       "        text-align: right;\n",
       "    }\n",
       "</style>\n",
       "<table border=\"1\" class=\"dataframe\">\n",
       "  <thead>\n",
       "    <tr style=\"text-align: right;\">\n",
       "      <th></th>\n",
       "      <th>title</th>\n",
       "      <th>puNumber</th>\n",
       "      <th>show_start_date</th>\n",
       "      <th>type</th>\n",
       "      <th>film_studio</th>\n",
       "      <th>production_country</th>\n",
       "      <th>director</th>\n",
       "      <th>producer</th>\n",
       "      <th>age_restriction</th>\n",
       "      <th>refundable_support</th>\n",
       "      <th>nonrefundable_support</th>\n",
       "      <th>budget</th>\n",
       "      <th>financing_source</th>\n",
       "      <th>ratings</th>\n",
       "      <th>genres</th>\n",
       "      <th>box_office</th>\n",
       "    </tr>\n",
       "  </thead>\n",
       "  <tbody>\n",
       "    <tr>\n",
       "      <th>0</th>\n",
       "      <td>Открытый простор</td>\n",
       "      <td>221048915</td>\n",
       "      <td>2015-11-27T12:00:00.000Z</td>\n",
       "      <td>Художественный</td>\n",
       "      <td>Тачстоун Пикчерз, Кобальт Пикчерз, Бикон Пикче...</td>\n",
       "      <td>США</td>\n",
       "      <td>Кевин Костнер</td>\n",
       "      <td>Дэвид Валдес, Кевин Костнер, Джейк Эбертс</td>\n",
       "      <td>«18+» - запрещено для детей</td>\n",
       "      <td>NaN</td>\n",
       "      <td>NaN</td>\n",
       "      <td>NaN</td>\n",
       "      <td>NaN</td>\n",
       "      <td>7.2</td>\n",
       "      <td>боевик,драма,мелодрама</td>\n",
       "      <td>NaN</td>\n",
       "    </tr>\n",
       "    <tr>\n",
       "      <th>1</th>\n",
       "      <td>Особо важное задание</td>\n",
       "      <td>111013716</td>\n",
       "      <td>2016-09-13T12:00:00.000Z</td>\n",
       "      <td>Художественный</td>\n",
       "      <td>Киностудия \"Мосфильм\"</td>\n",
       "      <td>СССР</td>\n",
       "      <td>Е.Матвеев</td>\n",
       "      <td>NaN</td>\n",
       "      <td>«6+» - для детей старше 6 лет</td>\n",
       "      <td>NaN</td>\n",
       "      <td>NaN</td>\n",
       "      <td>NaN</td>\n",
       "      <td>NaN</td>\n",
       "      <td>6.6</td>\n",
       "      <td>драма,военный</td>\n",
       "      <td>NaN</td>\n",
       "    </tr>\n",
       "    <tr>\n",
       "      <th>2</th>\n",
       "      <td>Особо опасен</td>\n",
       "      <td>221038416</td>\n",
       "      <td>2016-10-10T12:00:00.000Z</td>\n",
       "      <td>Художественный</td>\n",
       "      <td>Юниверсал Пикчерз, Кикстарт Продакшнз, Марк Пл...</td>\n",
       "      <td>США</td>\n",
       "      <td>Тимур Бекмамбетов</td>\n",
       "      <td>Джим Лемли, Джейсон Нетер, Марк Е.Платт, Яйн Смит</td>\n",
       "      <td>«18+» - запрещено для детей</td>\n",
       "      <td>NaN</td>\n",
       "      <td>NaN</td>\n",
       "      <td>NaN</td>\n",
       "      <td>NaN</td>\n",
       "      <td>6.8</td>\n",
       "      <td>фантастика,боевик,триллер</td>\n",
       "      <td>NaN</td>\n",
       "    </tr>\n",
       "    <tr>\n",
       "      <th>3</th>\n",
       "      <td>Особо опасен</td>\n",
       "      <td>221026916</td>\n",
       "      <td>2016-06-10T12:00:00.000Z</td>\n",
       "      <td>Художественный</td>\n",
       "      <td>Юниверсал Пикчерз, Кикстарт Продакшнз, Марк Пл...</td>\n",
       "      <td>США</td>\n",
       "      <td>Тимур Бекмамбетов</td>\n",
       "      <td>Джим Лемли, Джейсон Нетер, Марк Е.Платт, Яйн Смит</td>\n",
       "      <td>«18+» - запрещено для детей</td>\n",
       "      <td>NaN</td>\n",
       "      <td>NaN</td>\n",
       "      <td>NaN</td>\n",
       "      <td>NaN</td>\n",
       "      <td>6.8</td>\n",
       "      <td>фантастика,боевик,триллер</td>\n",
       "      <td>NaN</td>\n",
       "    </tr>\n",
       "    <tr>\n",
       "      <th>4</th>\n",
       "      <td>Особо опасен</td>\n",
       "      <td>221030815</td>\n",
       "      <td>2015-07-29T12:00:00.000Z</td>\n",
       "      <td>Художественный</td>\n",
       "      <td>Юниверсал Пикчерз, Кикстарт Продакшнз, Марк Пл...</td>\n",
       "      <td>США</td>\n",
       "      <td>Тимур Бекмамбетов</td>\n",
       "      <td>Джим Лемли, Джейсон Нетер, Марк Е.Платт, Яйн Смит</td>\n",
       "      <td>«18+» - запрещено для детей</td>\n",
       "      <td>NaN</td>\n",
       "      <td>NaN</td>\n",
       "      <td>NaN</td>\n",
       "      <td>NaN</td>\n",
       "      <td>6.8</td>\n",
       "      <td>фантастика,боевик,триллер</td>\n",
       "      <td>NaN</td>\n",
       "    </tr>\n",
       "  </tbody>\n",
       "</table>\n",
       "</div>"
      ],
      "text/plain": [
       "                  title   puNumber           show_start_date            type  \\\n",
       "0      Открытый простор  221048915  2015-11-27T12:00:00.000Z  Художественный   \n",
       "1  Особо важное задание  111013716  2016-09-13T12:00:00.000Z  Художественный   \n",
       "2          Особо опасен  221038416  2016-10-10T12:00:00.000Z  Художественный   \n",
       "3          Особо опасен  221026916  2016-06-10T12:00:00.000Z  Художественный   \n",
       "4          Особо опасен  221030815  2015-07-29T12:00:00.000Z  Художественный   \n",
       "\n",
       "                                         film_studio production_country  \\\n",
       "0  Тачстоун Пикчерз, Кобальт Пикчерз, Бикон Пикче...                США   \n",
       "1                              Киностудия \"Мосфильм\"               СССР   \n",
       "2  Юниверсал Пикчерз, Кикстарт Продакшнз, Марк Пл...                США   \n",
       "3  Юниверсал Пикчерз, Кикстарт Продакшнз, Марк Пл...                США   \n",
       "4  Юниверсал Пикчерз, Кикстарт Продакшнз, Марк Пл...                США   \n",
       "\n",
       "            director                                           producer  \\\n",
       "0      Кевин Костнер          Дэвид Валдес, Кевин Костнер, Джейк Эбертс   \n",
       "1          Е.Матвеев                                                NaN   \n",
       "2  Тимур Бекмамбетов  Джим Лемли, Джейсон Нетер, Марк Е.Платт, Яйн Смит   \n",
       "3  Тимур Бекмамбетов  Джим Лемли, Джейсон Нетер, Марк Е.Платт, Яйн Смит   \n",
       "4  Тимур Бекмамбетов  Джим Лемли, Джейсон Нетер, Марк Е.Платт, Яйн Смит   \n",
       "\n",
       "                 age_restriction  refundable_support  nonrefundable_support  \\\n",
       "0    «18+» - запрещено для детей                 NaN                    NaN   \n",
       "1  «6+» - для детей старше 6 лет                 NaN                    NaN   \n",
       "2    «18+» - запрещено для детей                 NaN                    NaN   \n",
       "3    «18+» - запрещено для детей                 NaN                    NaN   \n",
       "4    «18+» - запрещено для детей                 NaN                    NaN   \n",
       "\n",
       "   budget financing_source ratings                     genres  box_office  \n",
       "0     NaN              NaN     7.2     боевик,драма,мелодрама         NaN  \n",
       "1     NaN              NaN     6.6              драма,военный         NaN  \n",
       "2     NaN              NaN     6.8  фантастика,боевик,триллер         NaN  \n",
       "3     NaN              NaN     6.8  фантастика,боевик,триллер         NaN  \n",
       "4     NaN              NaN     6.8  фантастика,боевик,триллер         NaN  "
      ]
     },
     "execution_count": 17,
     "metadata": {},
     "output_type": "execute_result"
    }
   ],
   "source": [
    "data.head()"
   ]
  },
  {
   "cell_type": "markdown",
   "metadata": {},
   "source": [
    "**Вывод**\\\n",
    "В таблице представлены данные за 2010-2019 годы. Общее количество записей составляет:\n",
    "- для файла с прокатными данными о фильмах 7486 (файл mkrf_movies), \n",
    "- для файла с данными о сборах 3158 (файл mkrf_shows)\n",
    "\n",
    "По описанию данных можно заметить некорректные значения:\n",
    "- Типы данных не соответствуют предполагаемым в столбцах 'puNumber', 'show_start_date', 'ratings'\n",
    "- Значительные пропуски в данных\n",
    "    - 'film_studio' — отсутствует 0.24% данных\n",
    "    - 'production_country' — отсутствует 0.03% данных\n",
    "    - 'director' — отсутствует 0.12% данных\n",
    "    - 'producer' — отсутствует 7.59% данных\n",
    "    - 'refundable_support', 'nonrefundable_support', 'budget', 'financing source' — отсутствует 95.57% данных\n",
    "    - 'ratings' — отсутствует 12.92% данных\n",
    "    - 'genres' — отсутствует 13.04% данных\n",
    "    - 'box office' — отсутствует 57.64% данных\n",
    "    \n",
    "Для дальнейшей работы мы объединили таблицы по общему столбцу 'puNumber', в котором содержатся уникальные номера прокатных удостоверений фильмов. Результатом объединения стал датафрейм, в который вошли все объекты как из датасета mkrf_movies, так и из mkrf_shows. "
   ]
  },
  {
   "cell_type": "markdown",
   "metadata": {
    "id": "KLDGpPG0gFyM"
   },
   "source": [
    "### Шаг 2. Предобработка данных"
   ]
  },
  {
   "cell_type": "markdown",
   "metadata": {
    "id": "ssWwKXsxgFyO"
   },
   "source": [
    "#### Шаг 2.1. Проверим типы данных\n",
    "\n",
    "- Преобразуем типы там, где это необходимо."
   ]
  },
  {
   "cell_type": "markdown",
   "metadata": {
    "id": "kVGSplJOgFyO"
   },
   "source": [
    "Приведем столбец 'show_start_date' к формату даты"
   ]
  },
  {
   "cell_type": "code",
   "execution_count": 18,
   "metadata": {},
   "outputs": [],
   "source": [
    "data['show_start_date'] = pd.to_datetime(data['show_start_date'])"
   ]
  },
  {
   "cell_type": "markdown",
   "metadata": {},
   "source": [
    "Проверим столбец 'ratings'"
   ]
  },
  {
   "cell_type": "code",
   "execution_count": 19,
   "metadata": {},
   "outputs": [
    {
     "data": {
      "text/plain": [
       "array(['7.2', '6.6', '6.8', '7.7', '8.3', '8.0', '7.8', '8.1', '7.1',\n",
       "       '6.0', '7.4', '5.8', '8.7', '6.3', '6.9', '5.0', '4.3', '7.3',\n",
       "       '7.0', '6.4', nan, '8.2', '7.5', '6.7', '7.9', '5.9', '6.2', '5.6',\n",
       "       '6.5', '2.4', '7.6', '6.1', '8.6', '8.5', '8.8', '5.5', '5.1',\n",
       "       '5.7', '5.4', '99%', '4.4', '4.5', '5.3', '4.1', '8.4', '2.6',\n",
       "       '3.8', '4.6', '4.8', '4.0', '3.0', '1.6', '4.2', '5.2', '4.7',\n",
       "       '4.9', '3.9', '2.7', '3.3', '2.9', '28%', '3.7', '1.4', '3.1',\n",
       "       '97%', '3.5', '3.2', '2.8', '1.5', '2.1', '2.5', '9.2', '3.4',\n",
       "       '1.1', '3.6', '83%', '64%', '91%', '94%', '62%', '79%', '90%',\n",
       "       '19%', '88%', '1.0', '89%', '1.3', '1.9', '1.8', '1.2', '1.7',\n",
       "       '9.0', '98%', '8.9', '9.1'], dtype=object)"
      ]
     },
     "execution_count": 19,
     "metadata": {},
     "output_type": "execute_result"
    }
   ],
   "source": [
    "#найдём количество уникальных значений\n",
    "data['ratings'].unique()"
   ]
  },
  {
   "cell_type": "code",
   "execution_count": 20,
   "metadata": {},
   "outputs": [],
   "source": [
    "#уберем символ \"%\", а потом приведем значение к типу float\n",
    "data['ratings'] = data['ratings'].str.replace('%', '')\n",
    "data['ratings'] = data['ratings'].astype('float')"
   ]
  },
  {
   "cell_type": "code",
   "execution_count": 21,
   "metadata": {},
   "outputs": [],
   "source": [
    "#приведем значения, которые находятся между 10 и 100 к рейтингу делением на 10\n",
    "data_hight_ratings = data.loc[data['ratings'] > 10]\n",
    "data.loc[data['ratings'] >= 10, 'ratings'] = data_hight_ratings['ratings'] / 10"
   ]
  },
  {
   "cell_type": "code",
   "execution_count": 22,
   "metadata": {},
   "outputs": [],
   "source": [
    "#заполним пропущенные значения нулями\n",
    "data['ratings'] = data['ratings'].fillna(value=0)"
   ]
  },
  {
   "cell_type": "code",
   "execution_count": 23,
   "metadata": {},
   "outputs": [
    {
     "data": {
      "text/plain": [
       "array([7.2, 6.6, 6.8, 7.7, 8.3, 8. , 7.8, 8.1, 7.1, 6. , 7.4, 5.8, 8.7,\n",
       "       6.3, 6.9, 5. , 4.3, 7.3, 7. , 6.4, 0. , 8.2, 7.5, 6.7, 7.9, 5.9,\n",
       "       6.2, 5.6, 6.5, 2.4, 7.6, 6.1, 8.6, 8.5, 8.8, 5.5, 5.1, 5.7, 5.4,\n",
       "       9.9, 4.4, 4.5, 5.3, 4.1, 8.4, 2.6, 3.8, 4.6, 4.8, 4. , 3. , 1.6,\n",
       "       4.2, 5.2, 4.7, 4.9, 3.9, 2.7, 3.3, 2.9, 2.8, 3.7, 1.4, 3.1, 9.7,\n",
       "       3.5, 3.2, 1.5, 2.1, 2.5, 9.2, 3.4, 1.1, 3.6, 9.1, 9.4, 9. , 1.9,\n",
       "       1. , 8.9, 1.3, 1.8, 1.2, 1.7, 9.8])"
      ]
     },
     "execution_count": 23,
     "metadata": {},
     "output_type": "execute_result"
    }
   ],
   "source": [
    "#проверим результат\n",
    "data['ratings'].unique()"
   ]
  },
  {
   "cell_type": "markdown",
   "metadata": {},
   "source": [
    "Приведём наименование столбцов в однотипный формат"
   ]
  },
  {
   "cell_type": "code",
   "execution_count": 24,
   "metadata": {},
   "outputs": [
    {
     "data": {
      "text/plain": [
       "Index(['title', 'pu_number', 'show_start_date', 'type', 'film_studio',\n",
       "       'production_country', 'director', 'producer', 'age_restriction',\n",
       "       'refundable_support', 'nonrefundable_support', 'budget',\n",
       "       'financing_source', 'ratings', 'genres', 'box_office'],\n",
       "      dtype='object')"
      ]
     },
     "execution_count": 24,
     "metadata": {},
     "output_type": "execute_result"
    }
   ],
   "source": [
    "data.rename(columns = {'puNumber':'pu_number'}, inplace=True)\n",
    "\n",
    "#проверим результат\n",
    "data.columns"
   ]
  },
  {
   "cell_type": "markdown",
   "metadata": {
    "id": "i0MOLbF-gFyP"
   },
   "source": [
    "#### Шаг 2.2. Изучим пропуски в датафрейме"
   ]
  },
  {
   "cell_type": "code",
   "execution_count": 25,
   "metadata": {},
   "outputs": [
    {
     "data": {
      "text/plain": [
       "7485"
      ]
     },
     "execution_count": 25,
     "metadata": {},
     "output_type": "execute_result"
    }
   ],
   "source": [
    "# Комментарий ревьюера\n",
    "temp = data.copy() # создаем копию датасета до преобразования\n",
    "len(temp)"
   ]
  },
  {
   "cell_type": "code",
   "execution_count": 26,
   "metadata": {
    "id": "PnXKIVdFgFyR"
   },
   "outputs": [
    {
     "data": {
      "text/plain": [
       "title                       0\n",
       "pu_number                   0\n",
       "show_start_date             0\n",
       "type                        0\n",
       "film_studio                18\n",
       "production_country          2\n",
       "director                    9\n",
       "producer                  568\n",
       "age_restriction             0\n",
       "refundable_support       7153\n",
       "nonrefundable_support    7153\n",
       "budget                   7153\n",
       "financing_source         7153\n",
       "ratings                     0\n",
       "genres                    975\n",
       "box_office               4327\n",
       "dtype: int64"
      ]
     },
     "execution_count": 26,
     "metadata": {},
     "output_type": "execute_result"
    }
   ],
   "source": [
    "data.isna().sum()"
   ]
  },
  {
   "cell_type": "markdown",
   "metadata": {},
   "source": [
    "Представим пропуски более наглядно и в процентах"
   ]
  },
  {
   "cell_type": "code",
   "execution_count": 27,
   "metadata": {},
   "outputs": [
    {
     "data": {
      "text/html": [
       "<style  type=\"text/css\" >\n",
       "#T_d6ac3_row0_col0,#T_d6ac3_row1_col0,#T_d6ac3_row2_col0,#T_d6ac3_row3_col0,#T_d6ac3_row4_col0,#T_d6ac3_row5_col0,#T_d6ac3_row6_col0,#T_d6ac3_row8_col0,#T_d6ac3_row13_col0{\n",
       "            background-color:  #3b4cc0;\n",
       "            color:  #f1f1f1;\n",
       "        }#T_d6ac3_row7_col0{\n",
       "            background-color:  #536edd;\n",
       "            color:  #000000;\n",
       "        }#T_d6ac3_row9_col0,#T_d6ac3_row10_col0,#T_d6ac3_row11_col0,#T_d6ac3_row12_col0{\n",
       "            background-color:  #b40426;\n",
       "            color:  #f1f1f1;\n",
       "        }#T_d6ac3_row14_col0{\n",
       "            background-color:  #6485ec;\n",
       "            color:  #000000;\n",
       "        }#T_d6ac3_row15_col0{\n",
       "            background-color:  #f2cab5;\n",
       "            color:  #000000;\n",
       "        }</style><table id=\"T_d6ac3_\" ><thead>    <tr>        <th class=\"blank level0\" ></th>        <th class=\"col_heading level0 col0\" >0</th>    </tr></thead><tbody>\n",
       "                <tr>\n",
       "                        <th id=\"T_d6ac3_level0_row0\" class=\"row_heading level0 row0\" >title</th>\n",
       "                        <td id=\"T_d6ac3_row0_col0\" class=\"data row0 col0\" >0.000000</td>\n",
       "            </tr>\n",
       "            <tr>\n",
       "                        <th id=\"T_d6ac3_level0_row1\" class=\"row_heading level0 row1\" >pu_number</th>\n",
       "                        <td id=\"T_d6ac3_row1_col0\" class=\"data row1 col0\" >0.000000</td>\n",
       "            </tr>\n",
       "            <tr>\n",
       "                        <th id=\"T_d6ac3_level0_row2\" class=\"row_heading level0 row2\" >show_start_date</th>\n",
       "                        <td id=\"T_d6ac3_row2_col0\" class=\"data row2 col0\" >0.000000</td>\n",
       "            </tr>\n",
       "            <tr>\n",
       "                        <th id=\"T_d6ac3_level0_row3\" class=\"row_heading level0 row3\" >type</th>\n",
       "                        <td id=\"T_d6ac3_row3_col0\" class=\"data row3 col0\" >0.000000</td>\n",
       "            </tr>\n",
       "            <tr>\n",
       "                        <th id=\"T_d6ac3_level0_row4\" class=\"row_heading level0 row4\" >film_studio</th>\n",
       "                        <td id=\"T_d6ac3_row4_col0\" class=\"data row4 col0\" >0.200000</td>\n",
       "            </tr>\n",
       "            <tr>\n",
       "                        <th id=\"T_d6ac3_level0_row5\" class=\"row_heading level0 row5\" >production_country</th>\n",
       "                        <td id=\"T_d6ac3_row5_col0\" class=\"data row5 col0\" >0.000000</td>\n",
       "            </tr>\n",
       "            <tr>\n",
       "                        <th id=\"T_d6ac3_level0_row6\" class=\"row_heading level0 row6\" >director</th>\n",
       "                        <td id=\"T_d6ac3_row6_col0\" class=\"data row6 col0\" >0.100000</td>\n",
       "            </tr>\n",
       "            <tr>\n",
       "                        <th id=\"T_d6ac3_level0_row7\" class=\"row_heading level0 row7\" >producer</th>\n",
       "                        <td id=\"T_d6ac3_row7_col0\" class=\"data row7 col0\" >7.600000</td>\n",
       "            </tr>\n",
       "            <tr>\n",
       "                        <th id=\"T_d6ac3_level0_row8\" class=\"row_heading level0 row8\" >age_restriction</th>\n",
       "                        <td id=\"T_d6ac3_row8_col0\" class=\"data row8 col0\" >0.000000</td>\n",
       "            </tr>\n",
       "            <tr>\n",
       "                        <th id=\"T_d6ac3_level0_row9\" class=\"row_heading level0 row9\" >refundable_support</th>\n",
       "                        <td id=\"T_d6ac3_row9_col0\" class=\"data row9 col0\" >95.600000</td>\n",
       "            </tr>\n",
       "            <tr>\n",
       "                        <th id=\"T_d6ac3_level0_row10\" class=\"row_heading level0 row10\" >nonrefundable_support</th>\n",
       "                        <td id=\"T_d6ac3_row10_col0\" class=\"data row10 col0\" >95.600000</td>\n",
       "            </tr>\n",
       "            <tr>\n",
       "                        <th id=\"T_d6ac3_level0_row11\" class=\"row_heading level0 row11\" >budget</th>\n",
       "                        <td id=\"T_d6ac3_row11_col0\" class=\"data row11 col0\" >95.600000</td>\n",
       "            </tr>\n",
       "            <tr>\n",
       "                        <th id=\"T_d6ac3_level0_row12\" class=\"row_heading level0 row12\" >financing_source</th>\n",
       "                        <td id=\"T_d6ac3_row12_col0\" class=\"data row12 col0\" >95.600000</td>\n",
       "            </tr>\n",
       "            <tr>\n",
       "                        <th id=\"T_d6ac3_level0_row13\" class=\"row_heading level0 row13\" >ratings</th>\n",
       "                        <td id=\"T_d6ac3_row13_col0\" class=\"data row13 col0\" >0.000000</td>\n",
       "            </tr>\n",
       "            <tr>\n",
       "                        <th id=\"T_d6ac3_level0_row14\" class=\"row_heading level0 row14\" >genres</th>\n",
       "                        <td id=\"T_d6ac3_row14_col0\" class=\"data row14 col0\" >13.000000</td>\n",
       "            </tr>\n",
       "            <tr>\n",
       "                        <th id=\"T_d6ac3_level0_row15\" class=\"row_heading level0 row15\" >box_office</th>\n",
       "                        <td id=\"T_d6ac3_row15_col0\" class=\"data row15 col0\" >57.800000</td>\n",
       "            </tr>\n",
       "    </tbody></table>"
      ],
      "text/plain": [
       "<pandas.io.formats.style.Styler at 0x7f1454385220>"
      ]
     },
     "execution_count": 27,
     "metadata": {},
     "output_type": "execute_result"
    }
   ],
   "source": [
    "pd.DataFrame(round(data.isna().mean()*100,1)).style.background_gradient('coolwarm')"
   ]
  },
  {
   "cell_type": "markdown",
   "metadata": {},
   "source": [
    "**Проверим столбец 'film_studio'**"
   ]
  },
  {
   "cell_type": "code",
   "execution_count": 28,
   "metadata": {},
   "outputs": [
    {
     "data": {
      "text/html": [
       "<div>\n",
       "<style scoped>\n",
       "    .dataframe tbody tr th:only-of-type {\n",
       "        vertical-align: middle;\n",
       "    }\n",
       "\n",
       "    .dataframe tbody tr th {\n",
       "        vertical-align: top;\n",
       "    }\n",
       "\n",
       "    .dataframe thead th {\n",
       "        text-align: right;\n",
       "    }\n",
       "</style>\n",
       "<table border=\"1\" class=\"dataframe\">\n",
       "  <thead>\n",
       "    <tr style=\"text-align: right;\">\n",
       "      <th></th>\n",
       "      <th>title</th>\n",
       "      <th>pu_number</th>\n",
       "      <th>show_start_date</th>\n",
       "      <th>type</th>\n",
       "      <th>film_studio</th>\n",
       "      <th>production_country</th>\n",
       "      <th>director</th>\n",
       "      <th>producer</th>\n",
       "      <th>age_restriction</th>\n",
       "      <th>refundable_support</th>\n",
       "      <th>nonrefundable_support</th>\n",
       "      <th>budget</th>\n",
       "      <th>financing_source</th>\n",
       "      <th>ratings</th>\n",
       "      <th>genres</th>\n",
       "      <th>box_office</th>\n",
       "    </tr>\n",
       "  </thead>\n",
       "  <tbody>\n",
       "    <tr>\n",
       "      <th>1293</th>\n",
       "      <td>Stars in Shorts</td>\n",
       "      <td>121011114</td>\n",
       "      <td>2014-06-03 12:00:00+00:00</td>\n",
       "      <td>Художественный</td>\n",
       "      <td>NaN</td>\n",
       "      <td>США, Великобритания</td>\n",
       "      <td>Роберт Фестингер, Руперт Френд, Джей Камен, Ни...</td>\n",
       "      <td>Татьяна Келли, Роберта Мунро, Руперт Френд, До...</td>\n",
       "      <td>«16+» - для детей старше 16 лет</td>\n",
       "      <td>NaN</td>\n",
       "      <td>NaN</td>\n",
       "      <td>NaN</td>\n",
       "      <td>NaN</td>\n",
       "      <td>7.30</td>\n",
       "      <td>комедия</td>\n",
       "      <td>NaN</td>\n",
       "    </tr>\n",
       "    <tr>\n",
       "      <th>4440</th>\n",
       "      <td>Мульт личности. Выпуск 5</td>\n",
       "      <td>214000410</td>\n",
       "      <td>2010-01-25 12:00:00+00:00</td>\n",
       "      <td>Художественный</td>\n",
       "      <td>NaN</td>\n",
       "      <td>NaN</td>\n",
       "      <td>NaN</td>\n",
       "      <td>NaN</td>\n",
       "      <td>«0+» - для любой зрительской аудитории</td>\n",
       "      <td>NaN</td>\n",
       "      <td>NaN</td>\n",
       "      <td>NaN</td>\n",
       "      <td>NaN</td>\n",
       "      <td>4.00</td>\n",
       "      <td>мультфильм,комедия</td>\n",
       "      <td>NaN</td>\n",
       "    </tr>\n",
       "    <tr>\n",
       "      <th>6104</th>\n",
       "      <td>Значит любит</td>\n",
       "      <td>111013818</td>\n",
       "      <td>2018-08-10 12:00:00+00:00</td>\n",
       "      <td>Художественный</td>\n",
       "      <td>NaN</td>\n",
       "      <td>Россия</td>\n",
       "      <td>А.Краевский</td>\n",
       "      <td>Е.Щербакова</td>\n",
       "      <td>«18+» - запрещено для детей</td>\n",
       "      <td>NaN</td>\n",
       "      <td>NaN</td>\n",
       "      <td>NaN</td>\n",
       "      <td>NaN</td>\n",
       "      <td>0.00</td>\n",
       "      <td>NaN</td>\n",
       "      <td>NaN</td>\n",
       "    </tr>\n",
       "    <tr>\n",
       "      <th>6180</th>\n",
       "      <td>Несейка. Младшая дочь</td>\n",
       "      <td>112007018</td>\n",
       "      <td>2018-09-01 12:00:00+00:00</td>\n",
       "      <td>Документальный</td>\n",
       "      <td>NaN</td>\n",
       "      <td>Россия</td>\n",
       "      <td>В.Марин</td>\n",
       "      <td>Д.Якунин, Ф.Абрютин, О.Филонова</td>\n",
       "      <td>«6+» - для детей старше 6 лет</td>\n",
       "      <td>NaN</td>\n",
       "      <td>NaN</td>\n",
       "      <td>NaN</td>\n",
       "      <td>NaN</td>\n",
       "      <td>0.00</td>\n",
       "      <td>NaN</td>\n",
       "      <td>NaN</td>\n",
       "    </tr>\n",
       "    <tr>\n",
       "      <th>6378</th>\n",
       "      <td>Ян Антонышев</td>\n",
       "      <td>112011818</td>\n",
       "      <td>2018-11-15 12:00:00+00:00</td>\n",
       "      <td>Документальный</td>\n",
       "      <td>NaN</td>\n",
       "      <td>Россия</td>\n",
       "      <td>Е.Окопная</td>\n",
       "      <td>Е.Герасимов</td>\n",
       "      <td>«12+» - для детей старше 12 лет</td>\n",
       "      <td>NaN</td>\n",
       "      <td>NaN</td>\n",
       "      <td>NaN</td>\n",
       "      <td>NaN</td>\n",
       "      <td>0.00</td>\n",
       "      <td>NaN</td>\n",
       "      <td>NaN</td>\n",
       "    </tr>\n",
       "  </tbody>\n",
       "</table>\n",
       "</div>"
      ],
      "text/plain": [
       "                         title  pu_number           show_start_date  \\\n",
       "1293           Stars in Shorts  121011114 2014-06-03 12:00:00+00:00   \n",
       "4440  Мульт личности. Выпуск 5  214000410 2010-01-25 12:00:00+00:00   \n",
       "6104              Значит любит  111013818 2018-08-10 12:00:00+00:00   \n",
       "6180     Несейка. Младшая дочь  112007018 2018-09-01 12:00:00+00:00   \n",
       "6378              Ян Антонышев  112011818 2018-11-15 12:00:00+00:00   \n",
       "\n",
       "                 type film_studio   production_country  \\\n",
       "1293   Художественный         NaN  США, Великобритания   \n",
       "4440   Художественный         NaN                  NaN   \n",
       "6104   Художественный         NaN               Россия   \n",
       "6180   Документальный         NaN               Россия   \n",
       "6378   Документальный         NaN               Россия   \n",
       "\n",
       "                                               director  \\\n",
       "1293  Роберт Фестингер, Руперт Френд, Джей Камен, Ни...   \n",
       "4440                                                NaN   \n",
       "6104                                        А.Краевский   \n",
       "6180                                            В.Марин   \n",
       "6378                                          Е.Окопная   \n",
       "\n",
       "                                               producer  \\\n",
       "1293  Татьяна Келли, Роберта Мунро, Руперт Френд, До...   \n",
       "4440                                                NaN   \n",
       "6104                                        Е.Щербакова   \n",
       "6180                    Д.Якунин, Ф.Абрютин, О.Филонова   \n",
       "6378                                        Е.Герасимов   \n",
       "\n",
       "                             age_restriction  refundable_support  \\\n",
       "1293         «16+» - для детей старше 16 лет                 NaN   \n",
       "4440  «0+» - для любой зрительской аудитории                 NaN   \n",
       "6104             «18+» - запрещено для детей                 NaN   \n",
       "6180           «6+» - для детей старше 6 лет                 NaN   \n",
       "6378         «12+» - для детей старше 12 лет                 NaN   \n",
       "\n",
       "      nonrefundable_support  budget financing_source  ratings  \\\n",
       "1293                    NaN     NaN              NaN     7.30   \n",
       "4440                    NaN     NaN              NaN     4.00   \n",
       "6104                    NaN     NaN              NaN     0.00   \n",
       "6180                    NaN     NaN              NaN     0.00   \n",
       "6378                    NaN     NaN              NaN     0.00   \n",
       "\n",
       "                  genres  box_office  \n",
       "1293             комедия         NaN  \n",
       "4440  мультфильм,комедия         NaN  \n",
       "6104                 NaN         NaN  \n",
       "6180                 NaN         NaN  \n",
       "6378                 NaN         NaN  "
      ]
     },
     "execution_count": 28,
     "metadata": {},
     "output_type": "execute_result"
    }
   ],
   "source": [
    "data.loc[data['film_studio'].isna()].head(5)"
   ]
  },
  {
   "cell_type": "code",
   "execution_count": 29,
   "metadata": {},
   "outputs": [
    {
     "data": {
      "text/html": [
       "<div>\n",
       "<style scoped>\n",
       "    .dataframe tbody tr th:only-of-type {\n",
       "        vertical-align: middle;\n",
       "    }\n",
       "\n",
       "    .dataframe tbody tr th {\n",
       "        vertical-align: top;\n",
       "    }\n",
       "\n",
       "    .dataframe thead th {\n",
       "        text-align: right;\n",
       "    }\n",
       "</style>\n",
       "<table border=\"1\" class=\"dataframe\">\n",
       "  <thead>\n",
       "    <tr style=\"text-align: right;\">\n",
       "      <th></th>\n",
       "      <th>title</th>\n",
       "      <th>pu_number</th>\n",
       "      <th>show_start_date</th>\n",
       "      <th>type</th>\n",
       "      <th>film_studio</th>\n",
       "      <th>production_country</th>\n",
       "      <th>director</th>\n",
       "      <th>producer</th>\n",
       "      <th>age_restriction</th>\n",
       "      <th>refundable_support</th>\n",
       "      <th>nonrefundable_support</th>\n",
       "      <th>budget</th>\n",
       "      <th>financing_source</th>\n",
       "      <th>ratings</th>\n",
       "      <th>genres</th>\n",
       "      <th>box_office</th>\n",
       "    </tr>\n",
       "  </thead>\n",
       "  <tbody>\n",
       "  </tbody>\n",
       "</table>\n",
       "</div>"
      ],
      "text/plain": [
       "Empty DataFrame\n",
       "Columns: [title, pu_number, show_start_date, type, film_studio, production_country, director, producer, age_restriction, refundable_support, nonrefundable_support, budget, financing_source, ratings, genres, box_office]\n",
       "Index: []"
      ]
     },
     "execution_count": 29,
     "metadata": {},
     "output_type": "execute_result"
    }
   ],
   "source": [
    "#заполним ячейки с пропусками\n",
    "data['film_studio'] = data['film_studio'].fillna(value='Студия не определена')\n",
    "\n",
    "#проверим результат\n",
    "data.loc[data['film_studio'].isna()].head(5)"
   ]
  },
  {
   "cell_type": "markdown",
   "metadata": {},
   "source": [
    "**Проверим столбец 'production_country'**"
   ]
  },
  {
   "cell_type": "code",
   "execution_count": 30,
   "metadata": {},
   "outputs": [
    {
     "data": {
      "text/html": [
       "<div>\n",
       "<style scoped>\n",
       "    .dataframe tbody tr th:only-of-type {\n",
       "        vertical-align: middle;\n",
       "    }\n",
       "\n",
       "    .dataframe tbody tr th {\n",
       "        vertical-align: top;\n",
       "    }\n",
       "\n",
       "    .dataframe thead th {\n",
       "        text-align: right;\n",
       "    }\n",
       "</style>\n",
       "<table border=\"1\" class=\"dataframe\">\n",
       "  <thead>\n",
       "    <tr style=\"text-align: right;\">\n",
       "      <th></th>\n",
       "      <th>title</th>\n",
       "      <th>pu_number</th>\n",
       "      <th>show_start_date</th>\n",
       "      <th>type</th>\n",
       "      <th>film_studio</th>\n",
       "      <th>production_country</th>\n",
       "      <th>director</th>\n",
       "      <th>producer</th>\n",
       "      <th>age_restriction</th>\n",
       "      <th>refundable_support</th>\n",
       "      <th>nonrefundable_support</th>\n",
       "      <th>budget</th>\n",
       "      <th>financing_source</th>\n",
       "      <th>ratings</th>\n",
       "      <th>genres</th>\n",
       "      <th>box_office</th>\n",
       "    </tr>\n",
       "  </thead>\n",
       "  <tbody>\n",
       "    <tr>\n",
       "      <th>3185</th>\n",
       "      <td>Детский юмористический киножурнал \"Ералаш. Ну ...</td>\n",
       "      <td>111001216</td>\n",
       "      <td>2016-02-09 12:00:00+00:00</td>\n",
       "      <td>Художественный</td>\n",
       "      <td>ООО \"Продюсерский центр ЕРАЛАШ\"</td>\n",
       "      <td>NaN</td>\n",
       "      <td>Р.Светлов, И.Магитон, А.Арутюнян, Л.Мирский, А...</td>\n",
       "      <td>ООО \"Продюсерский центр ЕРАЛАШ\"</td>\n",
       "      <td>«0+» - для любой зрительской аудитории</td>\n",
       "      <td>NaN</td>\n",
       "      <td>NaN</td>\n",
       "      <td>NaN</td>\n",
       "      <td>NaN</td>\n",
       "      <td>7.20</td>\n",
       "      <td>детский,комедия</td>\n",
       "      <td>194527.00</td>\n",
       "    </tr>\n",
       "    <tr>\n",
       "      <th>4440</th>\n",
       "      <td>Мульт личности. Выпуск 5</td>\n",
       "      <td>214000410</td>\n",
       "      <td>2010-01-25 12:00:00+00:00</td>\n",
       "      <td>Художественный</td>\n",
       "      <td>Студия не определена</td>\n",
       "      <td>NaN</td>\n",
       "      <td>NaN</td>\n",
       "      <td>NaN</td>\n",
       "      <td>«0+» - для любой зрительской аудитории</td>\n",
       "      <td>NaN</td>\n",
       "      <td>NaN</td>\n",
       "      <td>NaN</td>\n",
       "      <td>NaN</td>\n",
       "      <td>4.00</td>\n",
       "      <td>мультфильм,комедия</td>\n",
       "      <td>NaN</td>\n",
       "    </tr>\n",
       "  </tbody>\n",
       "</table>\n",
       "</div>"
      ],
      "text/plain": [
       "                                                  title  pu_number  \\\n",
       "3185  Детский юмористический киножурнал \"Ералаш. Ну ...  111001216   \n",
       "4440                           Мульт личности. Выпуск 5  214000410   \n",
       "\n",
       "               show_start_date            type  \\\n",
       "3185 2016-02-09 12:00:00+00:00  Художественный   \n",
       "4440 2010-01-25 12:00:00+00:00  Художественный   \n",
       "\n",
       "                          film_studio production_country  \\\n",
       "3185  ООО \"Продюсерский центр ЕРАЛАШ\"                NaN   \n",
       "4440             Студия не определена                NaN   \n",
       "\n",
       "                                               director  \\\n",
       "3185  Р.Светлов, И.Магитон, А.Арутюнян, Л.Мирский, А...   \n",
       "4440                                                NaN   \n",
       "\n",
       "                             producer                         age_restriction  \\\n",
       "3185  ООО \"Продюсерский центр ЕРАЛАШ\"  «0+» - для любой зрительской аудитории   \n",
       "4440                              NaN  «0+» - для любой зрительской аудитории   \n",
       "\n",
       "      refundable_support  nonrefundable_support  budget financing_source  \\\n",
       "3185                 NaN                    NaN     NaN              NaN   \n",
       "4440                 NaN                    NaN     NaN              NaN   \n",
       "\n",
       "      ratings              genres  box_office  \n",
       "3185     7.20     детский,комедия   194527.00  \n",
       "4440     4.00  мультфильм,комедия         NaN  "
      ]
     },
     "execution_count": 30,
     "metadata": {},
     "output_type": "execute_result"
    }
   ],
   "source": [
    "data.loc[data['production_country'].isna()].head(5)"
   ]
  },
  {
   "cell_type": "code",
   "execution_count": 31,
   "metadata": {},
   "outputs": [
    {
     "data": {
      "text/html": [
       "<div>\n",
       "<style scoped>\n",
       "    .dataframe tbody tr th:only-of-type {\n",
       "        vertical-align: middle;\n",
       "    }\n",
       "\n",
       "    .dataframe tbody tr th {\n",
       "        vertical-align: top;\n",
       "    }\n",
       "\n",
       "    .dataframe thead th {\n",
       "        text-align: right;\n",
       "    }\n",
       "</style>\n",
       "<table border=\"1\" class=\"dataframe\">\n",
       "  <thead>\n",
       "    <tr style=\"text-align: right;\">\n",
       "      <th></th>\n",
       "      <th>title</th>\n",
       "      <th>pu_number</th>\n",
       "      <th>show_start_date</th>\n",
       "      <th>type</th>\n",
       "      <th>film_studio</th>\n",
       "      <th>production_country</th>\n",
       "      <th>director</th>\n",
       "      <th>producer</th>\n",
       "      <th>age_restriction</th>\n",
       "      <th>refundable_support</th>\n",
       "      <th>nonrefundable_support</th>\n",
       "      <th>budget</th>\n",
       "      <th>financing_source</th>\n",
       "      <th>ratings</th>\n",
       "      <th>genres</th>\n",
       "      <th>box_office</th>\n",
       "    </tr>\n",
       "  </thead>\n",
       "  <tbody>\n",
       "  </tbody>\n",
       "</table>\n",
       "</div>"
      ],
      "text/plain": [
       "Empty DataFrame\n",
       "Columns: [title, pu_number, show_start_date, type, film_studio, production_country, director, producer, age_restriction, refundable_support, nonrefundable_support, budget, financing_source, ratings, genres, box_office]\n",
       "Index: []"
      ]
     },
     "execution_count": 31,
     "metadata": {},
     "output_type": "execute_result"
    }
   ],
   "source": [
    "#заполним ячейки с пропусками\n",
    "data['production_country'] = data['production_country'].fillna(value='Страна не определена')\n",
    "\n",
    "#проверим результат\n",
    "data.loc[data['production_country'].isna()].head(5)"
   ]
  },
  {
   "cell_type": "markdown",
   "metadata": {},
   "source": [
    "**Проверим столбец 'financing_source'**"
   ]
  },
  {
   "cell_type": "code",
   "execution_count": 32,
   "metadata": {},
   "outputs": [
    {
     "data": {
      "text/html": [
       "<div>\n",
       "<style scoped>\n",
       "    .dataframe tbody tr th:only-of-type {\n",
       "        vertical-align: middle;\n",
       "    }\n",
       "\n",
       "    .dataframe tbody tr th {\n",
       "        vertical-align: top;\n",
       "    }\n",
       "\n",
       "    .dataframe thead th {\n",
       "        text-align: right;\n",
       "    }\n",
       "</style>\n",
       "<table border=\"1\" class=\"dataframe\">\n",
       "  <thead>\n",
       "    <tr style=\"text-align: right;\">\n",
       "      <th></th>\n",
       "      <th>title</th>\n",
       "      <th>pu_number</th>\n",
       "      <th>show_start_date</th>\n",
       "      <th>type</th>\n",
       "      <th>film_studio</th>\n",
       "      <th>production_country</th>\n",
       "      <th>director</th>\n",
       "      <th>producer</th>\n",
       "      <th>age_restriction</th>\n",
       "      <th>refundable_support</th>\n",
       "      <th>nonrefundable_support</th>\n",
       "      <th>budget</th>\n",
       "      <th>financing_source</th>\n",
       "      <th>ratings</th>\n",
       "      <th>genres</th>\n",
       "      <th>box_office</th>\n",
       "    </tr>\n",
       "  </thead>\n",
       "  <tbody>\n",
       "    <tr>\n",
       "      <th>0</th>\n",
       "      <td>Открытый простор</td>\n",
       "      <td>221048915</td>\n",
       "      <td>2015-11-27 12:00:00+00:00</td>\n",
       "      <td>Художественный</td>\n",
       "      <td>Тачстоун Пикчерз, Кобальт Пикчерз, Бикон Пикче...</td>\n",
       "      <td>США</td>\n",
       "      <td>Кевин Костнер</td>\n",
       "      <td>Дэвид Валдес, Кевин Костнер, Джейк Эбертс</td>\n",
       "      <td>«18+» - запрещено для детей</td>\n",
       "      <td>NaN</td>\n",
       "      <td>NaN</td>\n",
       "      <td>NaN</td>\n",
       "      <td>NaN</td>\n",
       "      <td>7.20</td>\n",
       "      <td>боевик,драма,мелодрама</td>\n",
       "      <td>NaN</td>\n",
       "    </tr>\n",
       "    <tr>\n",
       "      <th>1</th>\n",
       "      <td>Особо важное задание</td>\n",
       "      <td>111013716</td>\n",
       "      <td>2016-09-13 12:00:00+00:00</td>\n",
       "      <td>Художественный</td>\n",
       "      <td>Киностудия \"Мосфильм\"</td>\n",
       "      <td>СССР</td>\n",
       "      <td>Е.Матвеев</td>\n",
       "      <td>NaN</td>\n",
       "      <td>«6+» - для детей старше 6 лет</td>\n",
       "      <td>NaN</td>\n",
       "      <td>NaN</td>\n",
       "      <td>NaN</td>\n",
       "      <td>NaN</td>\n",
       "      <td>6.60</td>\n",
       "      <td>драма,военный</td>\n",
       "      <td>NaN</td>\n",
       "    </tr>\n",
       "    <tr>\n",
       "      <th>2</th>\n",
       "      <td>Особо опасен</td>\n",
       "      <td>221038416</td>\n",
       "      <td>2016-10-10 12:00:00+00:00</td>\n",
       "      <td>Художественный</td>\n",
       "      <td>Юниверсал Пикчерз, Кикстарт Продакшнз, Марк Пл...</td>\n",
       "      <td>США</td>\n",
       "      <td>Тимур Бекмамбетов</td>\n",
       "      <td>Джим Лемли, Джейсон Нетер, Марк Е.Платт, Яйн Смит</td>\n",
       "      <td>«18+» - запрещено для детей</td>\n",
       "      <td>NaN</td>\n",
       "      <td>NaN</td>\n",
       "      <td>NaN</td>\n",
       "      <td>NaN</td>\n",
       "      <td>6.80</td>\n",
       "      <td>фантастика,боевик,триллер</td>\n",
       "      <td>NaN</td>\n",
       "    </tr>\n",
       "    <tr>\n",
       "      <th>3</th>\n",
       "      <td>Особо опасен</td>\n",
       "      <td>221026916</td>\n",
       "      <td>2016-06-10 12:00:00+00:00</td>\n",
       "      <td>Художественный</td>\n",
       "      <td>Юниверсал Пикчерз, Кикстарт Продакшнз, Марк Пл...</td>\n",
       "      <td>США</td>\n",
       "      <td>Тимур Бекмамбетов</td>\n",
       "      <td>Джим Лемли, Джейсон Нетер, Марк Е.Платт, Яйн Смит</td>\n",
       "      <td>«18+» - запрещено для детей</td>\n",
       "      <td>NaN</td>\n",
       "      <td>NaN</td>\n",
       "      <td>NaN</td>\n",
       "      <td>NaN</td>\n",
       "      <td>6.80</td>\n",
       "      <td>фантастика,боевик,триллер</td>\n",
       "      <td>NaN</td>\n",
       "    </tr>\n",
       "    <tr>\n",
       "      <th>4</th>\n",
       "      <td>Особо опасен</td>\n",
       "      <td>221030815</td>\n",
       "      <td>2015-07-29 12:00:00+00:00</td>\n",
       "      <td>Художественный</td>\n",
       "      <td>Юниверсал Пикчерз, Кикстарт Продакшнз, Марк Пл...</td>\n",
       "      <td>США</td>\n",
       "      <td>Тимур Бекмамбетов</td>\n",
       "      <td>Джим Лемли, Джейсон Нетер, Марк Е.Платт, Яйн Смит</td>\n",
       "      <td>«18+» - запрещено для детей</td>\n",
       "      <td>NaN</td>\n",
       "      <td>NaN</td>\n",
       "      <td>NaN</td>\n",
       "      <td>NaN</td>\n",
       "      <td>6.80</td>\n",
       "      <td>фантастика,боевик,триллер</td>\n",
       "      <td>NaN</td>\n",
       "    </tr>\n",
       "  </tbody>\n",
       "</table>\n",
       "</div>"
      ],
      "text/plain": [
       "                  title  pu_number           show_start_date            type  \\\n",
       "0      Открытый простор  221048915 2015-11-27 12:00:00+00:00  Художественный   \n",
       "1  Особо важное задание  111013716 2016-09-13 12:00:00+00:00  Художественный   \n",
       "2          Особо опасен  221038416 2016-10-10 12:00:00+00:00  Художественный   \n",
       "3          Особо опасен  221026916 2016-06-10 12:00:00+00:00  Художественный   \n",
       "4          Особо опасен  221030815 2015-07-29 12:00:00+00:00  Художественный   \n",
       "\n",
       "                                         film_studio production_country  \\\n",
       "0  Тачстоун Пикчерз, Кобальт Пикчерз, Бикон Пикче...                США   \n",
       "1                              Киностудия \"Мосфильм\"               СССР   \n",
       "2  Юниверсал Пикчерз, Кикстарт Продакшнз, Марк Пл...                США   \n",
       "3  Юниверсал Пикчерз, Кикстарт Продакшнз, Марк Пл...                США   \n",
       "4  Юниверсал Пикчерз, Кикстарт Продакшнз, Марк Пл...                США   \n",
       "\n",
       "            director                                           producer  \\\n",
       "0      Кевин Костнер          Дэвид Валдес, Кевин Костнер, Джейк Эбертс   \n",
       "1          Е.Матвеев                                                NaN   \n",
       "2  Тимур Бекмамбетов  Джим Лемли, Джейсон Нетер, Марк Е.Платт, Яйн Смит   \n",
       "3  Тимур Бекмамбетов  Джим Лемли, Джейсон Нетер, Марк Е.Платт, Яйн Смит   \n",
       "4  Тимур Бекмамбетов  Джим Лемли, Джейсон Нетер, Марк Е.Платт, Яйн Смит   \n",
       "\n",
       "                 age_restriction  refundable_support  nonrefundable_support  \\\n",
       "0    «18+» - запрещено для детей                 NaN                    NaN   \n",
       "1  «6+» - для детей старше 6 лет                 NaN                    NaN   \n",
       "2    «18+» - запрещено для детей                 NaN                    NaN   \n",
       "3    «18+» - запрещено для детей                 NaN                    NaN   \n",
       "4    «18+» - запрещено для детей                 NaN                    NaN   \n",
       "\n",
       "   budget financing_source  ratings                     genres  box_office  \n",
       "0     NaN              NaN     7.20     боевик,драма,мелодрама         NaN  \n",
       "1     NaN              NaN     6.60              драма,военный         NaN  \n",
       "2     NaN              NaN     6.80  фантастика,боевик,триллер         NaN  \n",
       "3     NaN              NaN     6.80  фантастика,боевик,триллер         NaN  \n",
       "4     NaN              NaN     6.80  фантастика,боевик,триллер         NaN  "
      ]
     },
     "execution_count": 32,
     "metadata": {},
     "output_type": "execute_result"
    }
   ],
   "source": [
    "data.loc[data['financing_source'].isna()].head(5)"
   ]
  },
  {
   "cell_type": "markdown",
   "metadata": {},
   "source": [
    "Можно сделать вывод, что если источник государственного финансирования не указан, значит, государственного финансирования не было в принципе для таких фильмов. "
   ]
  },
  {
   "cell_type": "code",
   "execution_count": 33,
   "metadata": {},
   "outputs": [
    {
     "data": {
      "text/html": [
       "<div>\n",
       "<style scoped>\n",
       "    .dataframe tbody tr th:only-of-type {\n",
       "        vertical-align: middle;\n",
       "    }\n",
       "\n",
       "    .dataframe tbody tr th {\n",
       "        vertical-align: top;\n",
       "    }\n",
       "\n",
       "    .dataframe thead th {\n",
       "        text-align: right;\n",
       "    }\n",
       "</style>\n",
       "<table border=\"1\" class=\"dataframe\">\n",
       "  <thead>\n",
       "    <tr style=\"text-align: right;\">\n",
       "      <th></th>\n",
       "      <th>title</th>\n",
       "      <th>pu_number</th>\n",
       "      <th>show_start_date</th>\n",
       "      <th>type</th>\n",
       "      <th>film_studio</th>\n",
       "      <th>production_country</th>\n",
       "      <th>director</th>\n",
       "      <th>producer</th>\n",
       "      <th>age_restriction</th>\n",
       "      <th>refundable_support</th>\n",
       "      <th>nonrefundable_support</th>\n",
       "      <th>budget</th>\n",
       "      <th>financing_source</th>\n",
       "      <th>ratings</th>\n",
       "      <th>genres</th>\n",
       "      <th>box_office</th>\n",
       "    </tr>\n",
       "  </thead>\n",
       "  <tbody>\n",
       "  </tbody>\n",
       "</table>\n",
       "</div>"
      ],
      "text/plain": [
       "Empty DataFrame\n",
       "Columns: [title, pu_number, show_start_date, type, film_studio, production_country, director, producer, age_restriction, refundable_support, nonrefundable_support, budget, financing_source, ratings, genres, box_office]\n",
       "Index: []"
      ]
     },
     "execution_count": 33,
     "metadata": {},
     "output_type": "execute_result"
    }
   ],
   "source": [
    "#заполним ячейки с пропусками\n",
    "data['financing_source'] = data['financing_source'].fillna(value='Нет')\n",
    "\n",
    "#проверим результат\n",
    "data.loc[data['financing_source'].isna()].head(5)"
   ]
  },
  {
   "cell_type": "markdown",
   "metadata": {},
   "source": [
    "**Проверим столбец 'genres'**"
   ]
  },
  {
   "cell_type": "code",
   "execution_count": 34,
   "metadata": {},
   "outputs": [
    {
     "data": {
      "text/html": [
       "<div>\n",
       "<style scoped>\n",
       "    .dataframe tbody tr th:only-of-type {\n",
       "        vertical-align: middle;\n",
       "    }\n",
       "\n",
       "    .dataframe tbody tr th {\n",
       "        vertical-align: top;\n",
       "    }\n",
       "\n",
       "    .dataframe thead th {\n",
       "        text-align: right;\n",
       "    }\n",
       "</style>\n",
       "<table border=\"1\" class=\"dataframe\">\n",
       "  <thead>\n",
       "    <tr style=\"text-align: right;\">\n",
       "      <th></th>\n",
       "      <th>title</th>\n",
       "      <th>pu_number</th>\n",
       "      <th>show_start_date</th>\n",
       "      <th>type</th>\n",
       "      <th>film_studio</th>\n",
       "      <th>production_country</th>\n",
       "      <th>director</th>\n",
       "      <th>producer</th>\n",
       "      <th>age_restriction</th>\n",
       "      <th>refundable_support</th>\n",
       "      <th>nonrefundable_support</th>\n",
       "      <th>budget</th>\n",
       "      <th>financing_source</th>\n",
       "      <th>ratings</th>\n",
       "      <th>genres</th>\n",
       "      <th>box_office</th>\n",
       "    </tr>\n",
       "  </thead>\n",
       "  <tbody>\n",
       "    <tr>\n",
       "      <th>43</th>\n",
       "      <td>Мемуары гейши (по роману Артура Голдена)</td>\n",
       "      <td>121000606</td>\n",
       "      <td>2012-12-14 12:00:00+00:00</td>\n",
       "      <td>Художественный</td>\n",
       "      <td>Коламбия Пикчерз Корпорейшн, ДримУоркс ЭсКейДж...</td>\n",
       "      <td>США</td>\n",
       "      <td>Роб Маршалл</td>\n",
       "      <td>Стивен Спилберг, Люси Фишер, Дуглас Уик, Джон ...</td>\n",
       "      <td>«12+» - для детей старше 12 лет</td>\n",
       "      <td>NaN</td>\n",
       "      <td>NaN</td>\n",
       "      <td>NaN</td>\n",
       "      <td>Нет</td>\n",
       "      <td>0.00</td>\n",
       "      <td>NaN</td>\n",
       "      <td>NaN</td>\n",
       "    </tr>\n",
       "    <tr>\n",
       "      <th>150</th>\n",
       "      <td>Жди меня</td>\n",
       "      <td>111013615</td>\n",
       "      <td>2015-08-25 12:00:00+00:00</td>\n",
       "      <td>Художественный</td>\n",
       "      <td>Киностудия \"Мосфильм\"</td>\n",
       "      <td>СССР</td>\n",
       "      <td>А.Столпер, Б.Иванов</td>\n",
       "      <td>NaN</td>\n",
       "      <td>«6+» - для детей старше 6 лет</td>\n",
       "      <td>NaN</td>\n",
       "      <td>NaN</td>\n",
       "      <td>NaN</td>\n",
       "      <td>Нет</td>\n",
       "      <td>0.00</td>\n",
       "      <td>NaN</td>\n",
       "      <td>NaN</td>\n",
       "    </tr>\n",
       "    <tr>\n",
       "      <th>154</th>\n",
       "      <td>Дом из песка и тумана (по книге Андре Дюбуи III)</td>\n",
       "      <td>221037813</td>\n",
       "      <td>2013-10-25 12:00:00+00:00</td>\n",
       "      <td>Художественный</td>\n",
       "      <td>Кобальт Пикчерз</td>\n",
       "      <td>США</td>\n",
       "      <td>Вадим Перельман</td>\n",
       "      <td>Майкл Лондон</td>\n",
       "      <td>«16+» - для детей старше 16 лет</td>\n",
       "      <td>NaN</td>\n",
       "      <td>NaN</td>\n",
       "      <td>NaN</td>\n",
       "      <td>Нет</td>\n",
       "      <td>0.00</td>\n",
       "      <td>NaN</td>\n",
       "      <td>NaN</td>\n",
       "    </tr>\n",
       "    <tr>\n",
       "      <th>159</th>\n",
       "      <td>Жемчужная девушка</td>\n",
       "      <td>224011014</td>\n",
       "      <td>2014-08-28 12:00:00+00:00</td>\n",
       "      <td>Художественный</td>\n",
       "      <td>Чешское телевидение,Студия \"Три брата\" агентск...</td>\n",
       "      <td>Чехия</td>\n",
       "      <td>Владимир Дрга</td>\n",
       "      <td>NaN</td>\n",
       "      <td>«0+» - для любой зрительской аудитории</td>\n",
       "      <td>NaN</td>\n",
       "      <td>NaN</td>\n",
       "      <td>NaN</td>\n",
       "      <td>Нет</td>\n",
       "      <td>0.00</td>\n",
       "      <td>NaN</td>\n",
       "      <td>NaN</td>\n",
       "    </tr>\n",
       "    <tr>\n",
       "      <th>227</th>\n",
       "      <td>Полустанок</td>\n",
       "      <td>111026714</td>\n",
       "      <td>2014-12-24 12:00:00+00:00</td>\n",
       "      <td>Художественный</td>\n",
       "      <td>Киностудия \"Мосфильм\"</td>\n",
       "      <td>СССР</td>\n",
       "      <td>Б.Барнет</td>\n",
       "      <td>NaN</td>\n",
       "      <td>«12+» - для детей старше 12 лет</td>\n",
       "      <td>NaN</td>\n",
       "      <td>NaN</td>\n",
       "      <td>NaN</td>\n",
       "      <td>Нет</td>\n",
       "      <td>0.00</td>\n",
       "      <td>NaN</td>\n",
       "      <td>NaN</td>\n",
       "    </tr>\n",
       "  </tbody>\n",
       "</table>\n",
       "</div>"
      ],
      "text/plain": [
       "                                                title  pu_number  \\\n",
       "43           Мемуары гейши (по роману Артура Голдена)  121000606   \n",
       "150                                          Жди меня  111013615   \n",
       "154  Дом из песка и тумана (по книге Андре Дюбуи III)  221037813   \n",
       "159                                 Жемчужная девушка  224011014   \n",
       "227                                        Полустанок  111026714   \n",
       "\n",
       "              show_start_date            type  \\\n",
       "43  2012-12-14 12:00:00+00:00  Художественный   \n",
       "150 2015-08-25 12:00:00+00:00  Художественный   \n",
       "154 2013-10-25 12:00:00+00:00  Художественный   \n",
       "159 2014-08-28 12:00:00+00:00  Художественный   \n",
       "227 2014-12-24 12:00:00+00:00  Художественный   \n",
       "\n",
       "                                           film_studio production_country  \\\n",
       "43   Коламбия Пикчерз Корпорейшн, ДримУоркс ЭсКейДж...                США   \n",
       "150                              Киностудия \"Мосфильм\"               СССР   \n",
       "154                                    Кобальт Пикчерз                США   \n",
       "159  Чешское телевидение,Студия \"Три брата\" агентск...              Чехия   \n",
       "227                              Киностудия \"Мосфильм\"               СССР   \n",
       "\n",
       "                director                                           producer  \\\n",
       "43           Роб Маршалл  Стивен Спилберг, Люси Фишер, Дуглас Уик, Джон ...   \n",
       "150  А.Столпер, Б.Иванов                                                NaN   \n",
       "154      Вадим Перельман                                       Майкл Лондон   \n",
       "159        Владимир Дрга                                                NaN   \n",
       "227             Б.Барнет                                                NaN   \n",
       "\n",
       "                            age_restriction  refundable_support  \\\n",
       "43          «12+» - для детей старше 12 лет                 NaN   \n",
       "150           «6+» - для детей старше 6 лет                 NaN   \n",
       "154         «16+» - для детей старше 16 лет                 NaN   \n",
       "159  «0+» - для любой зрительской аудитории                 NaN   \n",
       "227         «12+» - для детей старше 12 лет                 NaN   \n",
       "\n",
       "     nonrefundable_support  budget financing_source  ratings genres  \\\n",
       "43                     NaN     NaN              Нет     0.00    NaN   \n",
       "150                    NaN     NaN              Нет     0.00    NaN   \n",
       "154                    NaN     NaN              Нет     0.00    NaN   \n",
       "159                    NaN     NaN              Нет     0.00    NaN   \n",
       "227                    NaN     NaN              Нет     0.00    NaN   \n",
       "\n",
       "     box_office  \n",
       "43          NaN  \n",
       "150         NaN  \n",
       "154         NaN  \n",
       "159         NaN  \n",
       "227         NaN  "
      ]
     },
     "execution_count": 34,
     "metadata": {},
     "output_type": "execute_result"
    }
   ],
   "source": [
    "data.loc[data['genres'].isna()].head(5)"
   ]
  },
  {
   "cell_type": "code",
   "execution_count": 35,
   "metadata": {},
   "outputs": [
    {
     "data": {
      "text/html": [
       "<div>\n",
       "<style scoped>\n",
       "    .dataframe tbody tr th:only-of-type {\n",
       "        vertical-align: middle;\n",
       "    }\n",
       "\n",
       "    .dataframe tbody tr th {\n",
       "        vertical-align: top;\n",
       "    }\n",
       "\n",
       "    .dataframe thead th {\n",
       "        text-align: right;\n",
       "    }\n",
       "</style>\n",
       "<table border=\"1\" class=\"dataframe\">\n",
       "  <thead>\n",
       "    <tr style=\"text-align: right;\">\n",
       "      <th></th>\n",
       "      <th>title</th>\n",
       "      <th>pu_number</th>\n",
       "      <th>show_start_date</th>\n",
       "      <th>type</th>\n",
       "      <th>film_studio</th>\n",
       "      <th>production_country</th>\n",
       "      <th>director</th>\n",
       "      <th>producer</th>\n",
       "      <th>age_restriction</th>\n",
       "      <th>refundable_support</th>\n",
       "      <th>nonrefundable_support</th>\n",
       "      <th>budget</th>\n",
       "      <th>financing_source</th>\n",
       "      <th>ratings</th>\n",
       "      <th>genres</th>\n",
       "      <th>box_office</th>\n",
       "    </tr>\n",
       "  </thead>\n",
       "  <tbody>\n",
       "  </tbody>\n",
       "</table>\n",
       "</div>"
      ],
      "text/plain": [
       "Empty DataFrame\n",
       "Columns: [title, pu_number, show_start_date, type, film_studio, production_country, director, producer, age_restriction, refundable_support, nonrefundable_support, budget, financing_source, ratings, genres, box_office]\n",
       "Index: []"
      ]
     },
     "execution_count": 35,
     "metadata": {},
     "output_type": "execute_result"
    }
   ],
   "source": [
    "#заполним ячейки с пропусками\n",
    "data['genres'] = data['genres'].fillna(value='жанр не определен')\n",
    "\n",
    "#проверим результат\n",
    "data.loc[data['genres'].isna()].head(5)"
   ]
  },
  {
   "cell_type": "markdown",
   "metadata": {},
   "source": [
    "**Проверим столбцы 'director' и 'producer'**"
   ]
  },
  {
   "cell_type": "code",
   "execution_count": 36,
   "metadata": {},
   "outputs": [
    {
     "data": {
      "text/html": [
       "<div>\n",
       "<style scoped>\n",
       "    .dataframe tbody tr th:only-of-type {\n",
       "        vertical-align: middle;\n",
       "    }\n",
       "\n",
       "    .dataframe tbody tr th {\n",
       "        vertical-align: top;\n",
       "    }\n",
       "\n",
       "    .dataframe thead th {\n",
       "        text-align: right;\n",
       "    }\n",
       "</style>\n",
       "<table border=\"1\" class=\"dataframe\">\n",
       "  <thead>\n",
       "    <tr style=\"text-align: right;\">\n",
       "      <th></th>\n",
       "      <th>title</th>\n",
       "      <th>pu_number</th>\n",
       "      <th>show_start_date</th>\n",
       "      <th>type</th>\n",
       "      <th>film_studio</th>\n",
       "      <th>production_country</th>\n",
       "      <th>director</th>\n",
       "      <th>producer</th>\n",
       "      <th>age_restriction</th>\n",
       "      <th>refundable_support</th>\n",
       "      <th>nonrefundable_support</th>\n",
       "      <th>budget</th>\n",
       "      <th>financing_source</th>\n",
       "      <th>ratings</th>\n",
       "      <th>genres</th>\n",
       "      <th>box_office</th>\n",
       "    </tr>\n",
       "  </thead>\n",
       "  <tbody>\n",
       "    <tr>\n",
       "      <th>764</th>\n",
       "      <td>Три звезды. Концерт в Waldbuhne Theater, Берли...</td>\n",
       "      <td>126003512</td>\n",
       "      <td>2012-12-04 12:00:00+00:00</td>\n",
       "      <td>Прочие</td>\n",
       "      <td>Райзинг Алтернатив</td>\n",
       "      <td>Великобритания</td>\n",
       "      <td>NaN</td>\n",
       "      <td>Вальдбюне Театр</td>\n",
       "      <td>«0+» - для любой зрительской аудитории</td>\n",
       "      <td>NaN</td>\n",
       "      <td>NaN</td>\n",
       "      <td>NaN</td>\n",
       "      <td>Нет</td>\n",
       "      <td>0.00</td>\n",
       "      <td>жанр не определен</td>\n",
       "      <td>44350.00</td>\n",
       "    </tr>\n",
       "    <tr>\n",
       "      <th>1735</th>\n",
       "      <td>Помпеи. Британский музей</td>\n",
       "      <td>126003413</td>\n",
       "      <td>2013-09-11 12:00:00+00:00</td>\n",
       "      <td>Прочие</td>\n",
       "      <td>МортуСкрин, Британский музей</td>\n",
       "      <td>Великобритания</td>\n",
       "      <td>NaN</td>\n",
       "      <td>Британский музей</td>\n",
       "      <td>«0+» - для любой зрительской аудитории</td>\n",
       "      <td>NaN</td>\n",
       "      <td>NaN</td>\n",
       "      <td>NaN</td>\n",
       "      <td>Нет</td>\n",
       "      <td>0.00</td>\n",
       "      <td>жанр не определен</td>\n",
       "      <td>NaN</td>\n",
       "    </tr>\n",
       "    <tr>\n",
       "      <th>3839</th>\n",
       "      <td>Зур концерт (Большой концерт).</td>\n",
       "      <td>217027010</td>\n",
       "      <td>2010-06-24 12:00:00+00:00</td>\n",
       "      <td>Художественный</td>\n",
       "      <td>ООО \"Барс Рекордс\"</td>\n",
       "      <td>Россия</td>\n",
       "      <td>NaN</td>\n",
       "      <td>NaN</td>\n",
       "      <td>«12+» - для детей старше 12 лет</td>\n",
       "      <td>NaN</td>\n",
       "      <td>NaN</td>\n",
       "      <td>NaN</td>\n",
       "      <td>Нет</td>\n",
       "      <td>0.00</td>\n",
       "      <td>жанр не определен</td>\n",
       "      <td>NaN</td>\n",
       "    </tr>\n",
       "    <tr>\n",
       "      <th>4051</th>\n",
       "      <td>Ганс Сэйфуллин \"Авылым чишмэлэре. Ганс Сэйфулл...</td>\n",
       "      <td>217017310</td>\n",
       "      <td>2010-04-22 12:00:00+00:00</td>\n",
       "      <td>Художественный</td>\n",
       "      <td>ООО \"Барс-Рекордс\"</td>\n",
       "      <td>Россия</td>\n",
       "      <td>NaN</td>\n",
       "      <td>NaN</td>\n",
       "      <td>«0+» - для любой зрительской аудитории</td>\n",
       "      <td>NaN</td>\n",
       "      <td>NaN</td>\n",
       "      <td>NaN</td>\n",
       "      <td>Нет</td>\n",
       "      <td>0.00</td>\n",
       "      <td>жанр не определен</td>\n",
       "      <td>NaN</td>\n",
       "    </tr>\n",
       "    <tr>\n",
       "      <th>4297</th>\n",
       "      <td>Изге Вэли (Святой Валентин)</td>\n",
       "      <td>217020610</td>\n",
       "      <td>2010-05-20 12:00:00+00:00</td>\n",
       "      <td>Художественный</td>\n",
       "      <td>ООО \"Барс Рекордс\"</td>\n",
       "      <td>Россия</td>\n",
       "      <td>NaN</td>\n",
       "      <td>NaN</td>\n",
       "      <td>«12+» - для детей старше 12 лет</td>\n",
       "      <td>NaN</td>\n",
       "      <td>NaN</td>\n",
       "      <td>NaN</td>\n",
       "      <td>Нет</td>\n",
       "      <td>0.00</td>\n",
       "      <td>жанр не определен</td>\n",
       "      <td>NaN</td>\n",
       "    </tr>\n",
       "  </tbody>\n",
       "</table>\n",
       "</div>"
      ],
      "text/plain": [
       "                                                  title  pu_number  \\\n",
       "764   Три звезды. Концерт в Waldbuhne Theater, Берли...  126003512   \n",
       "1735                           Помпеи. Британский музей  126003413   \n",
       "3839                     Зур концерт (Большой концерт).  217027010   \n",
       "4051  Ганс Сэйфуллин \"Авылым чишмэлэре. Ганс Сэйфулл...  217017310   \n",
       "4297                        Изге Вэли (Святой Валентин)  217020610   \n",
       "\n",
       "               show_start_date            type                   film_studio  \\\n",
       "764  2012-12-04 12:00:00+00:00          Прочие            Райзинг Алтернатив   \n",
       "1735 2013-09-11 12:00:00+00:00          Прочие  МортуСкрин, Британский музей   \n",
       "3839 2010-06-24 12:00:00+00:00  Художественный            ООО \"Барс Рекордс\"   \n",
       "4051 2010-04-22 12:00:00+00:00  Художественный            ООО \"Барс-Рекордс\"   \n",
       "4297 2010-05-20 12:00:00+00:00  Художественный            ООО \"Барс Рекордс\"   \n",
       "\n",
       "     production_country director          producer  \\\n",
       "764      Великобритания      NaN   Вальдбюне Театр   \n",
       "1735     Великобритания      NaN  Британский музей   \n",
       "3839             Россия      NaN               NaN   \n",
       "4051             Россия      NaN               NaN   \n",
       "4297             Россия      NaN               NaN   \n",
       "\n",
       "                             age_restriction  refundable_support  \\\n",
       "764   «0+» - для любой зрительской аудитории                 NaN   \n",
       "1735  «0+» - для любой зрительской аудитории                 NaN   \n",
       "3839         «12+» - для детей старше 12 лет                 NaN   \n",
       "4051  «0+» - для любой зрительской аудитории                 NaN   \n",
       "4297         «12+» - для детей старше 12 лет                 NaN   \n",
       "\n",
       "      nonrefundable_support  budget financing_source  ratings  \\\n",
       "764                     NaN     NaN              Нет     0.00   \n",
       "1735                    NaN     NaN              Нет     0.00   \n",
       "3839                    NaN     NaN              Нет     0.00   \n",
       "4051                    NaN     NaN              Нет     0.00   \n",
       "4297                    NaN     NaN              Нет     0.00   \n",
       "\n",
       "                 genres  box_office  \n",
       "764   жанр не определен    44350.00  \n",
       "1735  жанр не определен         NaN  \n",
       "3839  жанр не определен         NaN  \n",
       "4051  жанр не определен         NaN  \n",
       "4297  жанр не определен         NaN  "
      ]
     },
     "execution_count": 36,
     "metadata": {},
     "output_type": "execute_result"
    }
   ],
   "source": [
    "data.loc[data['director'].isna()].head(5)"
   ]
  },
  {
   "cell_type": "markdown",
   "metadata": {},
   "source": [
    "Пропущенные данные нам получить неоткуда, поэтому заполним пропуски аналогично предыдущим столбцам."
   ]
  },
  {
   "cell_type": "code",
   "execution_count": 37,
   "metadata": {},
   "outputs": [
    {
     "data": {
      "text/html": [
       "<div>\n",
       "<style scoped>\n",
       "    .dataframe tbody tr th:only-of-type {\n",
       "        vertical-align: middle;\n",
       "    }\n",
       "\n",
       "    .dataframe tbody tr th {\n",
       "        vertical-align: top;\n",
       "    }\n",
       "\n",
       "    .dataframe thead th {\n",
       "        text-align: right;\n",
       "    }\n",
       "</style>\n",
       "<table border=\"1\" class=\"dataframe\">\n",
       "  <thead>\n",
       "    <tr style=\"text-align: right;\">\n",
       "      <th></th>\n",
       "      <th>title</th>\n",
       "      <th>pu_number</th>\n",
       "      <th>show_start_date</th>\n",
       "      <th>type</th>\n",
       "      <th>film_studio</th>\n",
       "      <th>production_country</th>\n",
       "      <th>director</th>\n",
       "      <th>producer</th>\n",
       "      <th>age_restriction</th>\n",
       "      <th>refundable_support</th>\n",
       "      <th>nonrefundable_support</th>\n",
       "      <th>budget</th>\n",
       "      <th>financing_source</th>\n",
       "      <th>ratings</th>\n",
       "      <th>genres</th>\n",
       "      <th>box_office</th>\n",
       "    </tr>\n",
       "  </thead>\n",
       "  <tbody>\n",
       "  </tbody>\n",
       "</table>\n",
       "</div>"
      ],
      "text/plain": [
       "Empty DataFrame\n",
       "Columns: [title, pu_number, show_start_date, type, film_studio, production_country, director, producer, age_restriction, refundable_support, nonrefundable_support, budget, financing_source, ratings, genres, box_office]\n",
       "Index: []"
      ]
     },
     "execution_count": 37,
     "metadata": {},
     "output_type": "execute_result"
    }
   ],
   "source": [
    "data['director'] = data['director'].fillna(value='Режиссер не определен')\n",
    "data.loc[data['director'].isna()].head(5)"
   ]
  },
  {
   "cell_type": "code",
   "execution_count": 38,
   "metadata": {},
   "outputs": [
    {
     "data": {
      "text/html": [
       "<div>\n",
       "<style scoped>\n",
       "    .dataframe tbody tr th:only-of-type {\n",
       "        vertical-align: middle;\n",
       "    }\n",
       "\n",
       "    .dataframe tbody tr th {\n",
       "        vertical-align: top;\n",
       "    }\n",
       "\n",
       "    .dataframe thead th {\n",
       "        text-align: right;\n",
       "    }\n",
       "</style>\n",
       "<table border=\"1\" class=\"dataframe\">\n",
       "  <thead>\n",
       "    <tr style=\"text-align: right;\">\n",
       "      <th></th>\n",
       "      <th>title</th>\n",
       "      <th>pu_number</th>\n",
       "      <th>show_start_date</th>\n",
       "      <th>type</th>\n",
       "      <th>film_studio</th>\n",
       "      <th>production_country</th>\n",
       "      <th>director</th>\n",
       "      <th>producer</th>\n",
       "      <th>age_restriction</th>\n",
       "      <th>refundable_support</th>\n",
       "      <th>nonrefundable_support</th>\n",
       "      <th>budget</th>\n",
       "      <th>financing_source</th>\n",
       "      <th>ratings</th>\n",
       "      <th>genres</th>\n",
       "      <th>box_office</th>\n",
       "    </tr>\n",
       "  </thead>\n",
       "  <tbody>\n",
       "  </tbody>\n",
       "</table>\n",
       "</div>"
      ],
      "text/plain": [
       "Empty DataFrame\n",
       "Columns: [title, pu_number, show_start_date, type, film_studio, production_country, director, producer, age_restriction, refundable_support, nonrefundable_support, budget, financing_source, ratings, genres, box_office]\n",
       "Index: []"
      ]
     },
     "execution_count": 38,
     "metadata": {},
     "output_type": "execute_result"
    }
   ],
   "source": [
    "data['producer'] = data['producer'].fillna(value='Продюсер не определен')\n",
    "data.loc[data['producer'].isna()].head(5)"
   ]
  },
  {
   "cell_type": "markdown",
   "metadata": {},
   "source": [
    "**Поработаем со столбцами 'refundable_support', 'nonrefundable_support', 'budget', 'box_office'**"
   ]
  },
  {
   "cell_type": "markdown",
   "metadata": {},
   "source": [
    "Объём возвратных и невозвратных средств государственной поддержки относится только к фильмам с гос. финансированием, значит у остальных фильмов его просто нет. "
   ]
  },
  {
   "cell_type": "markdown",
   "metadata": {},
   "source": [
    "В столбце с общим бюджетом фильма заполненных значений ровно столько же, сколько и в двух предыдущих рассматриваемых нами столбцах. Можно сделать вывод, что здесь указан бюджет также только для фильмов с господдержкой."
   ]
  },
  {
   "cell_type": "markdown",
   "metadata": {},
   "source": [
    "Данные о сборах указаны не для всех фильмов, взять эти значения неоткуда."
   ]
  },
  {
   "cell_type": "markdown",
   "metadata": {},
   "source": [
    "Исходя из этих логических соображений и из типа представленных данных, можно заполнить пропущенные значения во всех четырех столбцах нулями."
   ]
  },
  {
   "cell_type": "code",
   "execution_count": 39,
   "metadata": {},
   "outputs": [],
   "source": [
    "data['refundable_support'] = data['refundable_support'].fillna(value=0)\n",
    "data['nonrefundable_support'] = data['nonrefundable_support'].fillna(value=0)\n",
    "data['budget'] = data['budget'].fillna(value=0)\n",
    "data['box_office'] = data['box_office'].fillna(value=0)"
   ]
  },
  {
   "cell_type": "markdown",
   "metadata": {},
   "source": [
    "**Проверим результат**"
   ]
  },
  {
   "cell_type": "code",
   "execution_count": 40,
   "metadata": {},
   "outputs": [
    {
     "data": {
      "text/plain": [
       "title                    0\n",
       "pu_number                0\n",
       "show_start_date          0\n",
       "type                     0\n",
       "film_studio              0\n",
       "production_country       0\n",
       "director                 0\n",
       "producer                 0\n",
       "age_restriction          0\n",
       "refundable_support       0\n",
       "nonrefundable_support    0\n",
       "budget                   0\n",
       "financing_source         0\n",
       "ratings                  0\n",
       "genres                   0\n",
       "box_office               0\n",
       "dtype: int64"
      ]
     },
     "execution_count": 40,
     "metadata": {},
     "output_type": "execute_result"
    }
   ],
   "source": [
    "data.isna().sum()"
   ]
  },
  {
   "cell_type": "code",
   "execution_count": 41,
   "metadata": {},
   "outputs": [
    {
     "data": {
      "text/plain": [
       "7485"
      ]
     },
     "execution_count": 41,
     "metadata": {},
     "output_type": "execute_result"
    }
   ],
   "source": [
    "len(data) #контроль размера датасета после обработки"
   ]
  },
  {
   "cell_type": "markdown",
   "metadata": {},
   "source": [
    "Строки мы не удаляли, количество не поменялось."
   ]
  },
  {
   "cell_type": "markdown",
   "metadata": {},
   "source": [
    "#### Шаг 2.3. Проверим, есть ли в данных дубликаты"
   ]
  },
  {
   "cell_type": "code",
   "execution_count": 42,
   "metadata": {},
   "outputs": [
    {
     "data": {
      "text/plain": [
       "0"
      ]
     },
     "execution_count": 42,
     "metadata": {},
     "output_type": "execute_result"
    }
   ],
   "source": [
    "#проверим значения на идентичные строки\n",
    "data.duplicated().sum()"
   ]
  },
  {
   "cell_type": "code",
   "execution_count": 43,
   "metadata": {},
   "outputs": [
    {
     "data": {
      "text/plain": [
       "title                    6771\n",
       "pu_number                7483\n",
       "show_start_date          1964\n",
       "type                        8\n",
       "film_studio              5491\n",
       "production_country        951\n",
       "director                 4812\n",
       "producer                 5350\n",
       "age_restriction             5\n",
       "refundable_support         34\n",
       "nonrefundable_support      75\n",
       "budget                    290\n",
       "financing_source            4\n",
       "ratings                    85\n",
       "genres                    743\n",
       "box_office               2938\n",
       "dtype: int64"
      ]
     },
     "execution_count": 43,
     "metadata": {},
     "output_type": "execute_result"
    }
   ],
   "source": [
    "#найдем общее количество уникальных значений по каждому столбцу\n",
    "data.nunique()"
   ]
  },
  {
   "cell_type": "markdown",
   "metadata": {},
   "source": [
    "Попробуем поискать дубликаты по совпадению ключевых данных: названия, даты премьеры, типа, студии, страны и режиссера."
   ]
  },
  {
   "cell_type": "code",
   "execution_count": 44,
   "metadata": {},
   "outputs": [
    {
     "data": {
      "text/html": [
       "<div>\n",
       "<style scoped>\n",
       "    .dataframe tbody tr th:only-of-type {\n",
       "        vertical-align: middle;\n",
       "    }\n",
       "\n",
       "    .dataframe tbody tr th {\n",
       "        vertical-align: top;\n",
       "    }\n",
       "\n",
       "    .dataframe thead th {\n",
       "        text-align: right;\n",
       "    }\n",
       "</style>\n",
       "<table border=\"1\" class=\"dataframe\">\n",
       "  <thead>\n",
       "    <tr style=\"text-align: right;\">\n",
       "      <th></th>\n",
       "      <th>title</th>\n",
       "      <th>pu_number</th>\n",
       "      <th>show_start_date</th>\n",
       "      <th>type</th>\n",
       "      <th>film_studio</th>\n",
       "      <th>production_country</th>\n",
       "      <th>director</th>\n",
       "      <th>producer</th>\n",
       "      <th>age_restriction</th>\n",
       "      <th>refundable_support</th>\n",
       "      <th>nonrefundable_support</th>\n",
       "      <th>budget</th>\n",
       "      <th>financing_source</th>\n",
       "      <th>ratings</th>\n",
       "      <th>genres</th>\n",
       "      <th>box_office</th>\n",
       "    </tr>\n",
       "  </thead>\n",
       "  <tbody>\n",
       "    <tr>\n",
       "      <th>1300</th>\n",
       "      <td>Эпидемия_</td>\n",
       "      <td>121025713</td>\n",
       "      <td>2013-10-07 12:00:00+00:00</td>\n",
       "      <td>Художественный</td>\n",
       "      <td>Морена Фильм, Ребелион Террестр, А 3 Медиа Гру...</td>\n",
       "      <td>Испания - Франция</td>\n",
       "      <td>Алекс Пастор, Давид Пастор</td>\n",
       "      <td>Мерседес Гамеро, Альберто Марини, Педро Уриоль</td>\n",
       "      <td>«16+» - для детей старше 16 лет</td>\n",
       "      <td>0.00</td>\n",
       "      <td>0.00</td>\n",
       "      <td>0.00</td>\n",
       "      <td>Нет</td>\n",
       "      <td>7.20</td>\n",
       "      <td>драма,фантастика,триллер</td>\n",
       "      <td>0.00</td>\n",
       "    </tr>\n",
       "    <tr>\n",
       "      <th>1301</th>\n",
       "      <td>Эпидемия_</td>\n",
       "      <td>221035513</td>\n",
       "      <td>2013-10-07 12:00:00+00:00</td>\n",
       "      <td>Художественный</td>\n",
       "      <td>Морена Фильм, Ребелион Террестр, А 3 Медиа Гру...</td>\n",
       "      <td>Испания - Франция</td>\n",
       "      <td>Алекс Пастор, Давид Пастор</td>\n",
       "      <td>Мерседес Гамеро, Альберто Марини, Педро Уриоль</td>\n",
       "      <td>«16+» - для детей старше 16 лет</td>\n",
       "      <td>0.00</td>\n",
       "      <td>0.00</td>\n",
       "      <td>0.00</td>\n",
       "      <td>Нет</td>\n",
       "      <td>7.20</td>\n",
       "      <td>драма,фантастика,триллер</td>\n",
       "      <td>0.00</td>\n",
       "    </tr>\n",
       "    <tr>\n",
       "      <th>1475</th>\n",
       "      <td>Оторвы</td>\n",
       "      <td>121006514</td>\n",
       "      <td>2014-04-07 12:00:00+00:00</td>\n",
       "      <td>Художественный</td>\n",
       "      <td>Проминент Пикчерз, Ворлдвью Интертейнмент, Инд...</td>\n",
       "      <td>США</td>\n",
       "      <td>Кристофер Нельсон</td>\n",
       "      <td>Молли Коннерс, Хезер Рэй</td>\n",
       "      <td>«16+» - для детей старше 16 лет</td>\n",
       "      <td>0.00</td>\n",
       "      <td>0.00</td>\n",
       "      <td>0.00</td>\n",
       "      <td>Нет</td>\n",
       "      <td>3.50</td>\n",
       "      <td>комедия,приключения</td>\n",
       "      <td>0.00</td>\n",
       "    </tr>\n",
       "    <tr>\n",
       "      <th>1476</th>\n",
       "      <td>Оторвы</td>\n",
       "      <td>221013214</td>\n",
       "      <td>2014-04-07 12:00:00+00:00</td>\n",
       "      <td>Художественный</td>\n",
       "      <td>Проминент Пикчерз, Ворлдвью Интертейнмент, Инд...</td>\n",
       "      <td>США</td>\n",
       "      <td>Кристофер Нельсон</td>\n",
       "      <td>Молли Коннерс, Хезер Рэй</td>\n",
       "      <td>«16+» - для детей старше 16 лет</td>\n",
       "      <td>0.00</td>\n",
       "      <td>0.00</td>\n",
       "      <td>0.00</td>\n",
       "      <td>Нет</td>\n",
       "      <td>3.50</td>\n",
       "      <td>комедия,приключения</td>\n",
       "      <td>0.00</td>\n",
       "    </tr>\n",
       "    <tr>\n",
       "      <th>2190</th>\n",
       "      <td>Последние пять лет.</td>\n",
       "      <td>221008115</td>\n",
       "      <td>2015-03-25 12:00:00+00:00</td>\n",
       "      <td>Художественный</td>\n",
       "      <td>Гранд Пикс Интертейнмент, Лаки Манки Пикчерз, ...</td>\n",
       "      <td>США</td>\n",
       "      <td>Ричард ЛаГравенес</td>\n",
       "      <td>Джанет Бреннер, Лорен Версель, Курт Дойтч, Рич...</td>\n",
       "      <td>«16+» - для детей старше 16 лет</td>\n",
       "      <td>0.00</td>\n",
       "      <td>0.00</td>\n",
       "      <td>0.00</td>\n",
       "      <td>Нет</td>\n",
       "      <td>5.70</td>\n",
       "      <td>мюзикл,драма,мелодрама</td>\n",
       "      <td>0.00</td>\n",
       "    </tr>\n",
       "    <tr>\n",
       "      <th>2191</th>\n",
       "      <td>Последние пять лет.</td>\n",
       "      <td>121005715</td>\n",
       "      <td>2015-03-25 12:00:00+00:00</td>\n",
       "      <td>Художественный</td>\n",
       "      <td>Гранд Пикс Интертейнмент, Лаки Манки Пикчерз, ...</td>\n",
       "      <td>США</td>\n",
       "      <td>Ричард ЛаГравенес</td>\n",
       "      <td>Джанет Бреннер, Лорен Версель, Курт Дойтч, Рич...</td>\n",
       "      <td>«16+» - для детей старше 16 лет</td>\n",
       "      <td>0.00</td>\n",
       "      <td>0.00</td>\n",
       "      <td>0.00</td>\n",
       "      <td>Нет</td>\n",
       "      <td>5.70</td>\n",
       "      <td>мюзикл,драма,мелодрама</td>\n",
       "      <td>52495.00</td>\n",
       "    </tr>\n",
       "    <tr>\n",
       "      <th>2751</th>\n",
       "      <td>Пингвиненок Пороро: Большие гонки</td>\n",
       "      <td>224001915</td>\n",
       "      <td>2015-04-15 12:00:00+00:00</td>\n",
       "      <td>Анимационный</td>\n",
       "      <td>Окон Студиос, Чина Филм, Симка Интертейнмент, ...</td>\n",
       "      <td>Южная Корея - КНР</td>\n",
       "      <td>Юнг Куюн Парк</td>\n",
       "      <td>Иль Хо Ким, Михал Симка</td>\n",
       "      <td>«0+» - для любой зрительской аудитории</td>\n",
       "      <td>0.00</td>\n",
       "      <td>0.00</td>\n",
       "      <td>0.00</td>\n",
       "      <td>Нет</td>\n",
       "      <td>5.20</td>\n",
       "      <td>мультфильм,семейный,спорт</td>\n",
       "      <td>1360.00</td>\n",
       "    </tr>\n",
       "    <tr>\n",
       "      <th>2752</th>\n",
       "      <td>Пингвиненок Пороро: Большие гонки</td>\n",
       "      <td>124001915</td>\n",
       "      <td>2015-04-15 12:00:00+00:00</td>\n",
       "      <td>Анимационный</td>\n",
       "      <td>Окон Студиос, Чина Филм, Симка Интертейнмент, ...</td>\n",
       "      <td>Южная Корея - КНР</td>\n",
       "      <td>Юнг Куюн Парк</td>\n",
       "      <td>Иль Хо Ким, Михал Симка</td>\n",
       "      <td>«0+» - для любой зрительской аудитории</td>\n",
       "      <td>0.00</td>\n",
       "      <td>0.00</td>\n",
       "      <td>0.00</td>\n",
       "      <td>Нет</td>\n",
       "      <td>5.20</td>\n",
       "      <td>мультфильм,семейный,спорт</td>\n",
       "      <td>14152495.90</td>\n",
       "    </tr>\n",
       "    <tr>\n",
       "      <th>3085</th>\n",
       "      <td>Анархисты</td>\n",
       "      <td>221003916</td>\n",
       "      <td>2016-02-03 12:00:00+00:00</td>\n",
       "      <td>Художественный</td>\n",
       "      <td>24 Май Продюксьон, Франс 2 Синема</td>\n",
       "      <td>Франция</td>\n",
       "      <td>Эли Важеман</td>\n",
       "      <td>Лола Гэнс</td>\n",
       "      <td>«16+» - для детей старше 16 лет</td>\n",
       "      <td>0.00</td>\n",
       "      <td>0.00</td>\n",
       "      <td>0.00</td>\n",
       "      <td>Нет</td>\n",
       "      <td>5.70</td>\n",
       "      <td>драма</td>\n",
       "      <td>0.00</td>\n",
       "    </tr>\n",
       "    <tr>\n",
       "      <th>3086</th>\n",
       "      <td>Анархисты</td>\n",
       "      <td>121002316</td>\n",
       "      <td>2016-02-03 12:00:00+00:00</td>\n",
       "      <td>Художественный</td>\n",
       "      <td>24 Май Продюксьон, Франс 2 Синема</td>\n",
       "      <td>Франция</td>\n",
       "      <td>Эли Важеман</td>\n",
       "      <td>Лола Гэнс</td>\n",
       "      <td>«16+» - для детей старше 16 лет</td>\n",
       "      <td>0.00</td>\n",
       "      <td>0.00</td>\n",
       "      <td>0.00</td>\n",
       "      <td>Нет</td>\n",
       "      <td>5.70</td>\n",
       "      <td>драма</td>\n",
       "      <td>332371.00</td>\n",
       "    </tr>\n",
       "    <tr>\n",
       "      <th>4041</th>\n",
       "      <td>Бугай</td>\n",
       "      <td>224021210</td>\n",
       "      <td>2010-09-24 12:00:00+00:00</td>\n",
       "      <td>Анимационный</td>\n",
       "      <td>Иллюзион Студиос, Процесо</td>\n",
       "      <td>Мексика-Аргентина</td>\n",
       "      <td>Густаво Кова</td>\n",
       "      <td>Хуго Е. Лаура, Хосе Луис Масса</td>\n",
       "      <td>«16+» - для детей старше 16 лет</td>\n",
       "      <td>0.00</td>\n",
       "      <td>0.00</td>\n",
       "      <td>0.00</td>\n",
       "      <td>Нет</td>\n",
       "      <td>6.60</td>\n",
       "      <td>мультфильм,боевик,триллер</td>\n",
       "      <td>0.00</td>\n",
       "    </tr>\n",
       "    <tr>\n",
       "      <th>4042</th>\n",
       "      <td>Бугай</td>\n",
       "      <td>124001210</td>\n",
       "      <td>2010-09-24 12:00:00+00:00</td>\n",
       "      <td>Анимационный</td>\n",
       "      <td>Иллюзион Студиос, Процесо</td>\n",
       "      <td>Мексика-Аргентина</td>\n",
       "      <td>Густаво Кова</td>\n",
       "      <td>Хуго Е. Лаура, Хосе Луис Масса</td>\n",
       "      <td>«16+» - для детей старше 16 лет</td>\n",
       "      <td>0.00</td>\n",
       "      <td>0.00</td>\n",
       "      <td>0.00</td>\n",
       "      <td>Нет</td>\n",
       "      <td>6.60</td>\n",
       "      <td>мультфильм,боевик,триллер</td>\n",
       "      <td>0.00</td>\n",
       "    </tr>\n",
       "    <tr>\n",
       "      <th>6378</th>\n",
       "      <td>Ян Антонышев</td>\n",
       "      <td>112011818</td>\n",
       "      <td>2018-11-15 12:00:00+00:00</td>\n",
       "      <td>Документальный</td>\n",
       "      <td>Студия не определена</td>\n",
       "      <td>Россия</td>\n",
       "      <td>Е.Окопная</td>\n",
       "      <td>Е.Герасимов</td>\n",
       "      <td>«12+» - для детей старше 12 лет</td>\n",
       "      <td>0.00</td>\n",
       "      <td>0.00</td>\n",
       "      <td>0.00</td>\n",
       "      <td>Нет</td>\n",
       "      <td>0.00</td>\n",
       "      <td>жанр не определен</td>\n",
       "      <td>0.00</td>\n",
       "    </tr>\n",
       "    <tr>\n",
       "      <th>6379</th>\n",
       "      <td>Ян Антонышев</td>\n",
       "      <td>112011918</td>\n",
       "      <td>2018-11-15 12:00:00+00:00</td>\n",
       "      <td>Документальный</td>\n",
       "      <td>Студия не определена</td>\n",
       "      <td>Россия</td>\n",
       "      <td>Е.Окопная</td>\n",
       "      <td>Е.Герасимов</td>\n",
       "      <td>«12+» - для детей старше 12 лет</td>\n",
       "      <td>0.00</td>\n",
       "      <td>0.00</td>\n",
       "      <td>0.00</td>\n",
       "      <td>Нет</td>\n",
       "      <td>0.00</td>\n",
       "      <td>жанр не определен</td>\n",
       "      <td>0.00</td>\n",
       "    </tr>\n",
       "    <tr>\n",
       "      <th>6427</th>\n",
       "      <td>Зоя</td>\n",
       "      <td>111022618</td>\n",
       "      <td>2018-11-25 12:00:00+00:00</td>\n",
       "      <td>Художественный</td>\n",
       "      <td>Тарханова Юлия Олеговна</td>\n",
       "      <td>Россия</td>\n",
       "      <td>О.Товма</td>\n",
       "      <td>Ю.Тарханова</td>\n",
       "      <td>«16+» - для детей старше 16 лет</td>\n",
       "      <td>0.00</td>\n",
       "      <td>0.00</td>\n",
       "      <td>0.00</td>\n",
       "      <td>Нет</td>\n",
       "      <td>3.90</td>\n",
       "      <td>история,биография,военный</td>\n",
       "      <td>0.00</td>\n",
       "    </tr>\n",
       "    <tr>\n",
       "      <th>6428</th>\n",
       "      <td>Зоя</td>\n",
       "      <td>111022718</td>\n",
       "      <td>2018-11-25 12:00:00+00:00</td>\n",
       "      <td>Художественный</td>\n",
       "      <td>Тарханова Юлия Олеговна</td>\n",
       "      <td>Россия</td>\n",
       "      <td>О.Товма</td>\n",
       "      <td>Ю.Тарханова</td>\n",
       "      <td>«16+» - для детей старше 16 лет</td>\n",
       "      <td>0.00</td>\n",
       "      <td>0.00</td>\n",
       "      <td>0.00</td>\n",
       "      <td>Нет</td>\n",
       "      <td>3.90</td>\n",
       "      <td>история,биография,военный</td>\n",
       "      <td>0.00</td>\n",
       "    </tr>\n",
       "  </tbody>\n",
       "</table>\n",
       "</div>"
      ],
      "text/plain": [
       "                                  title  pu_number           show_start_date  \\\n",
       "1300                          Эпидемия_  121025713 2013-10-07 12:00:00+00:00   \n",
       "1301                          Эпидемия_  221035513 2013-10-07 12:00:00+00:00   \n",
       "1475                             Оторвы  121006514 2014-04-07 12:00:00+00:00   \n",
       "1476                             Оторвы  221013214 2014-04-07 12:00:00+00:00   \n",
       "2190                Последние пять лет.  221008115 2015-03-25 12:00:00+00:00   \n",
       "2191                Последние пять лет.  121005715 2015-03-25 12:00:00+00:00   \n",
       "2751  Пингвиненок Пороро: Большие гонки  224001915 2015-04-15 12:00:00+00:00   \n",
       "2752  Пингвиненок Пороро: Большие гонки  124001915 2015-04-15 12:00:00+00:00   \n",
       "3085                          Анархисты  221003916 2016-02-03 12:00:00+00:00   \n",
       "3086                          Анархисты  121002316 2016-02-03 12:00:00+00:00   \n",
       "4041                              Бугай  224021210 2010-09-24 12:00:00+00:00   \n",
       "4042                              Бугай  124001210 2010-09-24 12:00:00+00:00   \n",
       "6378                       Ян Антонышев  112011818 2018-11-15 12:00:00+00:00   \n",
       "6379                       Ян Антонышев  112011918 2018-11-15 12:00:00+00:00   \n",
       "6427                                Зоя  111022618 2018-11-25 12:00:00+00:00   \n",
       "6428                                Зоя  111022718 2018-11-25 12:00:00+00:00   \n",
       "\n",
       "                 type                                        film_studio  \\\n",
       "1300   Художественный  Морена Фильм, Ребелион Террестр, А 3 Медиа Гру...   \n",
       "1301   Художественный  Морена Фильм, Ребелион Террестр, А 3 Медиа Гру...   \n",
       "1475   Художественный  Проминент Пикчерз, Ворлдвью Интертейнмент, Инд...   \n",
       "1476   Художественный  Проминент Пикчерз, Ворлдвью Интертейнмент, Инд...   \n",
       "2190   Художественный  Гранд Пикс Интертейнмент, Лаки Манки Пикчерз, ...   \n",
       "2191   Художественный  Гранд Пикс Интертейнмент, Лаки Манки Пикчерз, ...   \n",
       "2751     Анимационный  Окон Студиос, Чина Филм, Симка Интертейнмент, ...   \n",
       "2752     Анимационный  Окон Студиос, Чина Филм, Симка Интертейнмент, ...   \n",
       "3085   Художественный                  24 Май Продюксьон, Франс 2 Синема   \n",
       "3086   Художественный                  24 Май Продюксьон, Франс 2 Синема   \n",
       "4041     Анимационный                          Иллюзион Студиос, Процесо   \n",
       "4042     Анимационный                          Иллюзион Студиос, Процесо   \n",
       "6378   Документальный                               Студия не определена   \n",
       "6379   Документальный                               Студия не определена   \n",
       "6427   Художественный                            Тарханова Юлия Олеговна   \n",
       "6428   Художественный                            Тарханова Юлия Олеговна   \n",
       "\n",
       "     production_country                    director  \\\n",
       "1300  Испания - Франция  Алекс Пастор, Давид Пастор   \n",
       "1301  Испания - Франция  Алекс Пастор, Давид Пастор   \n",
       "1475                США           Кристофер Нельсон   \n",
       "1476                США           Кристофер Нельсон   \n",
       "2190                США           Ричард ЛаГравенес   \n",
       "2191                США           Ричард ЛаГравенес   \n",
       "2751  Южная Корея - КНР               Юнг Куюн Парк   \n",
       "2752  Южная Корея - КНР               Юнг Куюн Парк   \n",
       "3085            Франция                 Эли Важеман   \n",
       "3086            Франция                 Эли Важеман   \n",
       "4041  Мексика-Аргентина                Густаво Кова   \n",
       "4042  Мексика-Аргентина                Густаво Кова   \n",
       "6378             Россия                   Е.Окопная   \n",
       "6379             Россия                   Е.Окопная   \n",
       "6427             Россия                     О.Товма   \n",
       "6428             Россия                     О.Товма   \n",
       "\n",
       "                                               producer  \\\n",
       "1300     Мерседес Гамеро, Альберто Марини, Педро Уриоль   \n",
       "1301     Мерседес Гамеро, Альберто Марини, Педро Уриоль   \n",
       "1475                           Молли Коннерс, Хезер Рэй   \n",
       "1476                           Молли Коннерс, Хезер Рэй   \n",
       "2190  Джанет Бреннер, Лорен Версель, Курт Дойтч, Рич...   \n",
       "2191  Джанет Бреннер, Лорен Версель, Курт Дойтч, Рич...   \n",
       "2751                            Иль Хо Ким, Михал Симка   \n",
       "2752                            Иль Хо Ким, Михал Симка   \n",
       "3085                                          Лола Гэнс   \n",
       "3086                                          Лола Гэнс   \n",
       "4041                     Хуго Е. Лаура, Хосе Луис Масса   \n",
       "4042                     Хуго Е. Лаура, Хосе Луис Масса   \n",
       "6378                                        Е.Герасимов   \n",
       "6379                                        Е.Герасимов   \n",
       "6427                                        Ю.Тарханова   \n",
       "6428                                        Ю.Тарханова   \n",
       "\n",
       "                             age_restriction  refundable_support  \\\n",
       "1300         «16+» - для детей старше 16 лет                0.00   \n",
       "1301         «16+» - для детей старше 16 лет                0.00   \n",
       "1475         «16+» - для детей старше 16 лет                0.00   \n",
       "1476         «16+» - для детей старше 16 лет                0.00   \n",
       "2190         «16+» - для детей старше 16 лет                0.00   \n",
       "2191         «16+» - для детей старше 16 лет                0.00   \n",
       "2751  «0+» - для любой зрительской аудитории                0.00   \n",
       "2752  «0+» - для любой зрительской аудитории                0.00   \n",
       "3085         «16+» - для детей старше 16 лет                0.00   \n",
       "3086         «16+» - для детей старше 16 лет                0.00   \n",
       "4041         «16+» - для детей старше 16 лет                0.00   \n",
       "4042         «16+» - для детей старше 16 лет                0.00   \n",
       "6378         «12+» - для детей старше 12 лет                0.00   \n",
       "6379         «12+» - для детей старше 12 лет                0.00   \n",
       "6427         «16+» - для детей старше 16 лет                0.00   \n",
       "6428         «16+» - для детей старше 16 лет                0.00   \n",
       "\n",
       "      nonrefundable_support  budget financing_source  ratings  \\\n",
       "1300                   0.00    0.00              Нет     7.20   \n",
       "1301                   0.00    0.00              Нет     7.20   \n",
       "1475                   0.00    0.00              Нет     3.50   \n",
       "1476                   0.00    0.00              Нет     3.50   \n",
       "2190                   0.00    0.00              Нет     5.70   \n",
       "2191                   0.00    0.00              Нет     5.70   \n",
       "2751                   0.00    0.00              Нет     5.20   \n",
       "2752                   0.00    0.00              Нет     5.20   \n",
       "3085                   0.00    0.00              Нет     5.70   \n",
       "3086                   0.00    0.00              Нет     5.70   \n",
       "4041                   0.00    0.00              Нет     6.60   \n",
       "4042                   0.00    0.00              Нет     6.60   \n",
       "6378                   0.00    0.00              Нет     0.00   \n",
       "6379                   0.00    0.00              Нет     0.00   \n",
       "6427                   0.00    0.00              Нет     3.90   \n",
       "6428                   0.00    0.00              Нет     3.90   \n",
       "\n",
       "                         genres  box_office  \n",
       "1300   драма,фантастика,триллер        0.00  \n",
       "1301   драма,фантастика,триллер        0.00  \n",
       "1475        комедия,приключения        0.00  \n",
       "1476        комедия,приключения        0.00  \n",
       "2190     мюзикл,драма,мелодрама        0.00  \n",
       "2191     мюзикл,драма,мелодрама    52495.00  \n",
       "2751  мультфильм,семейный,спорт     1360.00  \n",
       "2752  мультфильм,семейный,спорт 14152495.90  \n",
       "3085                      драма        0.00  \n",
       "3086                      драма   332371.00  \n",
       "4041  мультфильм,боевик,триллер        0.00  \n",
       "4042  мультфильм,боевик,триллер        0.00  \n",
       "6378          жанр не определен        0.00  \n",
       "6379          жанр не определен        0.00  \n",
       "6427  история,биография,военный        0.00  \n",
       "6428  история,биография,военный        0.00  "
      ]
     },
     "execution_count": 44,
     "metadata": {},
     "output_type": "execute_result"
    }
   ],
   "source": [
    "data[data.duplicated(subset=['title', 'show_start_date', 'type', 'film_studio', 'production_country', 'director'], keep=False)]"
   ]
  },
  {
   "cell_type": "markdown",
   "metadata": {},
   "source": [
    "В полученных фильмах не совпадает номер прокатного удостоверения. Так как у одного фильма может быть несколько прокатных удостоверений, мы оставим эти данные без изменений и поищем совпадения по прокатным удостоверениям."
   ]
  },
  {
   "cell_type": "code",
   "execution_count": 45,
   "metadata": {},
   "outputs": [
    {
     "data": {
      "text/html": [
       "<div>\n",
       "<style scoped>\n",
       "    .dataframe tbody tr th:only-of-type {\n",
       "        vertical-align: middle;\n",
       "    }\n",
       "\n",
       "    .dataframe tbody tr th {\n",
       "        vertical-align: top;\n",
       "    }\n",
       "\n",
       "    .dataframe thead th {\n",
       "        text-align: right;\n",
       "    }\n",
       "</style>\n",
       "<table border=\"1\" class=\"dataframe\">\n",
       "  <thead>\n",
       "    <tr style=\"text-align: right;\">\n",
       "      <th></th>\n",
       "      <th>title</th>\n",
       "      <th>pu_number</th>\n",
       "      <th>show_start_date</th>\n",
       "      <th>type</th>\n",
       "      <th>film_studio</th>\n",
       "      <th>production_country</th>\n",
       "      <th>director</th>\n",
       "      <th>producer</th>\n",
       "      <th>age_restriction</th>\n",
       "      <th>refundable_support</th>\n",
       "      <th>nonrefundable_support</th>\n",
       "      <th>budget</th>\n",
       "      <th>financing_source</th>\n",
       "      <th>ratings</th>\n",
       "      <th>genres</th>\n",
       "      <th>box_office</th>\n",
       "    </tr>\n",
       "  </thead>\n",
       "  <tbody>\n",
       "    <tr>\n",
       "      <th>4637</th>\n",
       "      <td>Как жениться и остаться холостым</td>\n",
       "      <td>221154310</td>\n",
       "      <td>2010-12-17 12:00:00+00:00</td>\n",
       "      <td>Художественный</td>\n",
       "      <td>Ше Вам, Скрипт Ассосье, Тэ Фэ 1 Фильм Продюксь...</td>\n",
       "      <td>Франция</td>\n",
       "      <td>Эрик Лартиго</td>\n",
       "      <td>Амандин Било, Алан Шаба</td>\n",
       "      <td>«16+» - для детей старше 16 лет</td>\n",
       "      <td>0.00</td>\n",
       "      <td>0.00</td>\n",
       "      <td>0.00</td>\n",
       "      <td>Нет</td>\n",
       "      <td>7.00</td>\n",
       "      <td>мелодрама,комедия</td>\n",
       "      <td>0.00</td>\n",
       "    </tr>\n",
       "    <tr>\n",
       "      <th>4638</th>\n",
       "      <td>Иоанна - женщина на папском престоле /По роман...</td>\n",
       "      <td>221154310</td>\n",
       "      <td>2010-12-17 12:00:00+00:00</td>\n",
       "      <td>Художественный</td>\n",
       "      <td>Константин Фильм, А Эр Ди Дегето Фильм, Дюне ...</td>\n",
       "      <td>Германия - Великобритания - Италия - Испания</td>\n",
       "      <td>Зенке Вортманн</td>\n",
       "      <td>Оливер Бербен, Дорис Д.Хайнце, Фарук Элтан</td>\n",
       "      <td>«16+» - для детей старше 16 лет</td>\n",
       "      <td>0.00</td>\n",
       "      <td>0.00</td>\n",
       "      <td>0.00</td>\n",
       "      <td>Нет</td>\n",
       "      <td>7.60</td>\n",
       "      <td>драма,мелодрама,история</td>\n",
       "      <td>0.00</td>\n",
       "    </tr>\n",
       "    <tr>\n",
       "      <th>5066</th>\n",
       "      <td>Анализируй это!</td>\n",
       "      <td>221054410</td>\n",
       "      <td>2010-05-25 12:00:00+00:00</td>\n",
       "      <td>Художественный</td>\n",
       "      <td>Уорнер Бразерс, Вилладж Роудшоу Филмз ЛТД</td>\n",
       "      <td>США-Австралия</td>\n",
       "      <td>ХЭрольд Рэмис</td>\n",
       "      <td>Джейн Розенталь, Пола Уейнстейн</td>\n",
       "      <td>«16+» - для детей старше 16 лет</td>\n",
       "      <td>0.00</td>\n",
       "      <td>0.00</td>\n",
       "      <td>0.00</td>\n",
       "      <td>Нет</td>\n",
       "      <td>7.40</td>\n",
       "      <td>комедия,криминал</td>\n",
       "      <td>0.00</td>\n",
       "    </tr>\n",
       "    <tr>\n",
       "      <th>5067</th>\n",
       "      <td>Анализируй то!</td>\n",
       "      <td>221054410</td>\n",
       "      <td>2010-05-25 12:00:00+00:00</td>\n",
       "      <td>Художественный</td>\n",
       "      <td>Уорнер Бразерс, Виллидж Роадшоу Пикчерз, Эн-Пи...</td>\n",
       "      <td>США</td>\n",
       "      <td>Гарольд Реймис</td>\n",
       "      <td>Джейн Розенталь, Паул Уэйнстейн</td>\n",
       "      <td>«12+» - для детей старше 12 лет</td>\n",
       "      <td>0.00</td>\n",
       "      <td>0.00</td>\n",
       "      <td>0.00</td>\n",
       "      <td>Нет</td>\n",
       "      <td>6.80</td>\n",
       "      <td>комедия,криминал</td>\n",
       "      <td>0.00</td>\n",
       "    </tr>\n",
       "  </tbody>\n",
       "</table>\n",
       "</div>"
      ],
      "text/plain": [
       "                                                  title  pu_number  \\\n",
       "4637                   Как жениться и остаться холостым  221154310   \n",
       "4638  Иоанна - женщина на папском престоле /По роман...  221154310   \n",
       "5066                                    Анализируй это!  221054410   \n",
       "5067                                     Анализируй то!  221054410   \n",
       "\n",
       "               show_start_date            type  \\\n",
       "4637 2010-12-17 12:00:00+00:00  Художественный   \n",
       "4638 2010-12-17 12:00:00+00:00  Художественный   \n",
       "5066 2010-05-25 12:00:00+00:00  Художественный   \n",
       "5067 2010-05-25 12:00:00+00:00  Художественный   \n",
       "\n",
       "                                            film_studio  \\\n",
       "4637  Ше Вам, Скрипт Ассосье, Тэ Фэ 1 Фильм Продюксь...   \n",
       "4638   Константин Фильм, А Эр Ди Дегето Фильм, Дюне ...   \n",
       "5066          Уорнер Бразерс, Вилладж Роудшоу Филмз ЛТД   \n",
       "5067  Уорнер Бразерс, Виллидж Роадшоу Пикчерз, Эн-Пи...   \n",
       "\n",
       "                                production_country        director  \\\n",
       "4637                                       Франция    Эрик Лартиго   \n",
       "4638  Германия - Великобритания - Италия - Испания  Зенке Вортманн   \n",
       "5066                                 США-Австралия   ХЭрольд Рэмис   \n",
       "5067                                           США  Гарольд Реймис   \n",
       "\n",
       "                                        producer  \\\n",
       "4637                     Амандин Било, Алан Шаба   \n",
       "4638  Оливер Бербен, Дорис Д.Хайнце, Фарук Элтан   \n",
       "5066             Джейн Розенталь, Пола Уейнстейн   \n",
       "5067             Джейн Розенталь, Паул Уэйнстейн   \n",
       "\n",
       "                      age_restriction  refundable_support  \\\n",
       "4637  «16+» - для детей старше 16 лет                0.00   \n",
       "4638  «16+» - для детей старше 16 лет                0.00   \n",
       "5066  «16+» - для детей старше 16 лет                0.00   \n",
       "5067  «12+» - для детей старше 12 лет                0.00   \n",
       "\n",
       "      nonrefundable_support  budget financing_source  ratings  \\\n",
       "4637                   0.00    0.00              Нет     7.00   \n",
       "4638                   0.00    0.00              Нет     7.60   \n",
       "5066                   0.00    0.00              Нет     7.40   \n",
       "5067                   0.00    0.00              Нет     6.80   \n",
       "\n",
       "                       genres  box_office  \n",
       "4637        мелодрама,комедия        0.00  \n",
       "4638  драма,мелодрама,история        0.00  \n",
       "5066         комедия,криминал        0.00  \n",
       "5067         комедия,криминал        0.00  "
      ]
     },
     "execution_count": 45,
     "metadata": {},
     "output_type": "execute_result"
    }
   ],
   "source": [
    "data.loc[data['pu_number'].duplicated(keep=False)]"
   ]
  },
  {
   "cell_type": "markdown",
   "metadata": {},
   "source": [
    "Проверим по названию на дубли каждый из фильмов, которые имеют одно прокатное удостоверение и разные названия."
   ]
  },
  {
   "cell_type": "code",
   "execution_count": 46,
   "metadata": {},
   "outputs": [
    {
     "data": {
      "text/html": [
       "<div>\n",
       "<style scoped>\n",
       "    .dataframe tbody tr th:only-of-type {\n",
       "        vertical-align: middle;\n",
       "    }\n",
       "\n",
       "    .dataframe tbody tr th {\n",
       "        vertical-align: top;\n",
       "    }\n",
       "\n",
       "    .dataframe thead th {\n",
       "        text-align: right;\n",
       "    }\n",
       "</style>\n",
       "<table border=\"1\" class=\"dataframe\">\n",
       "  <thead>\n",
       "    <tr style=\"text-align: right;\">\n",
       "      <th></th>\n",
       "      <th>title</th>\n",
       "      <th>pu_number</th>\n",
       "      <th>show_start_date</th>\n",
       "      <th>type</th>\n",
       "      <th>film_studio</th>\n",
       "      <th>production_country</th>\n",
       "      <th>director</th>\n",
       "      <th>producer</th>\n",
       "      <th>age_restriction</th>\n",
       "      <th>refundable_support</th>\n",
       "      <th>nonrefundable_support</th>\n",
       "      <th>budget</th>\n",
       "      <th>financing_source</th>\n",
       "      <th>ratings</th>\n",
       "      <th>genres</th>\n",
       "      <th>box_office</th>\n",
       "    </tr>\n",
       "  </thead>\n",
       "  <tbody>\n",
       "    <tr>\n",
       "      <th>5067</th>\n",
       "      <td>Анализируй то!</td>\n",
       "      <td>221054410</td>\n",
       "      <td>2010-05-25 12:00:00+00:00</td>\n",
       "      <td>Художественный</td>\n",
       "      <td>Уорнер Бразерс, Виллидж Роадшоу Пикчерз, Эн-Пи...</td>\n",
       "      <td>США</td>\n",
       "      <td>Гарольд Реймис</td>\n",
       "      <td>Джейн Розенталь, Паул Уэйнстейн</td>\n",
       "      <td>«12+» - для детей старше 12 лет</td>\n",
       "      <td>0.00</td>\n",
       "      <td>0.00</td>\n",
       "      <td>0.00</td>\n",
       "      <td>Нет</td>\n",
       "      <td>6.80</td>\n",
       "      <td>комедия,криминал</td>\n",
       "      <td>0.00</td>\n",
       "    </tr>\n",
       "  </tbody>\n",
       "</table>\n",
       "</div>"
      ],
      "text/plain": [
       "               title  pu_number           show_start_date            type  \\\n",
       "5067  Анализируй то!  221054410 2010-05-25 12:00:00+00:00  Художественный   \n",
       "\n",
       "                                            film_studio production_country  \\\n",
       "5067  Уорнер Бразерс, Виллидж Роадшоу Пикчерз, Эн-Пи...                США   \n",
       "\n",
       "            director                         producer  \\\n",
       "5067  Гарольд Реймис  Джейн Розенталь, Паул Уэйнстейн   \n",
       "\n",
       "                      age_restriction  refundable_support  \\\n",
       "5067  «12+» - для детей старше 12 лет                0.00   \n",
       "\n",
       "      nonrefundable_support  budget financing_source  ratings  \\\n",
       "5067                   0.00    0.00              Нет     6.80   \n",
       "\n",
       "                genres  box_office  \n",
       "5067  комедия,криминал        0.00  "
      ]
     },
     "metadata": {},
     "output_type": "display_data"
    }
   ],
   "source": [
    "display(data[data['title'].str.contains('Анализируй то!')])"
   ]
  },
  {
   "cell_type": "code",
   "execution_count": 47,
   "metadata": {},
   "outputs": [
    {
     "data": {
      "text/html": [
       "<div>\n",
       "<style scoped>\n",
       "    .dataframe tbody tr th:only-of-type {\n",
       "        vertical-align: middle;\n",
       "    }\n",
       "\n",
       "    .dataframe tbody tr th {\n",
       "        vertical-align: top;\n",
       "    }\n",
       "\n",
       "    .dataframe thead th {\n",
       "        text-align: right;\n",
       "    }\n",
       "</style>\n",
       "<table border=\"1\" class=\"dataframe\">\n",
       "  <thead>\n",
       "    <tr style=\"text-align: right;\">\n",
       "      <th></th>\n",
       "      <th>title</th>\n",
       "      <th>pu_number</th>\n",
       "      <th>show_start_date</th>\n",
       "      <th>type</th>\n",
       "      <th>film_studio</th>\n",
       "      <th>production_country</th>\n",
       "      <th>director</th>\n",
       "      <th>producer</th>\n",
       "      <th>age_restriction</th>\n",
       "      <th>refundable_support</th>\n",
       "      <th>nonrefundable_support</th>\n",
       "      <th>budget</th>\n",
       "      <th>financing_source</th>\n",
       "      <th>ratings</th>\n",
       "      <th>genres</th>\n",
       "      <th>box_office</th>\n",
       "    </tr>\n",
       "  </thead>\n",
       "  <tbody>\n",
       "    <tr>\n",
       "      <th>4552</th>\n",
       "      <td>Анализируй это!</td>\n",
       "      <td>221147310</td>\n",
       "      <td>2010-12-15 12:00:00+00:00</td>\n",
       "      <td>Художественный</td>\n",
       "      <td>Уорнер Бразерс, Вилладж Роудшоу Филмз ЛТД</td>\n",
       "      <td>США-Австралия</td>\n",
       "      <td>ХЭрольд Рэмис</td>\n",
       "      <td>Джейн Розенталь, Пола Уейнстейн</td>\n",
       "      <td>«16+» - для детей старше 16 лет</td>\n",
       "      <td>0.00</td>\n",
       "      <td>0.00</td>\n",
       "      <td>0.00</td>\n",
       "      <td>Нет</td>\n",
       "      <td>7.40</td>\n",
       "      <td>комедия,криминал</td>\n",
       "      <td>0.00</td>\n",
       "    </tr>\n",
       "    <tr>\n",
       "      <th>5066</th>\n",
       "      <td>Анализируй это!</td>\n",
       "      <td>221054410</td>\n",
       "      <td>2010-05-25 12:00:00+00:00</td>\n",
       "      <td>Художественный</td>\n",
       "      <td>Уорнер Бразерс, Вилладж Роудшоу Филмз ЛТД</td>\n",
       "      <td>США-Австралия</td>\n",
       "      <td>ХЭрольд Рэмис</td>\n",
       "      <td>Джейн Розенталь, Пола Уейнстейн</td>\n",
       "      <td>«16+» - для детей старше 16 лет</td>\n",
       "      <td>0.00</td>\n",
       "      <td>0.00</td>\n",
       "      <td>0.00</td>\n",
       "      <td>Нет</td>\n",
       "      <td>7.40</td>\n",
       "      <td>комедия,криминал</td>\n",
       "      <td>0.00</td>\n",
       "    </tr>\n",
       "  </tbody>\n",
       "</table>\n",
       "</div>"
      ],
      "text/plain": [
       "                title  pu_number           show_start_date            type  \\\n",
       "4552  Анализируй это!  221147310 2010-12-15 12:00:00+00:00  Художественный   \n",
       "5066  Анализируй это!  221054410 2010-05-25 12:00:00+00:00  Художественный   \n",
       "\n",
       "                                    film_studio production_country  \\\n",
       "4552  Уорнер Бразерс, Вилладж Роудшоу Филмз ЛТД      США-Австралия   \n",
       "5066  Уорнер Бразерс, Вилладж Роудшоу Филмз ЛТД      США-Австралия   \n",
       "\n",
       "           director                         producer  \\\n",
       "4552  ХЭрольд Рэмис  Джейн Розенталь, Пола Уейнстейн   \n",
       "5066  ХЭрольд Рэмис  Джейн Розенталь, Пола Уейнстейн   \n",
       "\n",
       "                      age_restriction  refundable_support  \\\n",
       "4552  «16+» - для детей старше 16 лет                0.00   \n",
       "5066  «16+» - для детей старше 16 лет                0.00   \n",
       "\n",
       "      nonrefundable_support  budget financing_source  ratings  \\\n",
       "4552                   0.00    0.00              Нет     7.40   \n",
       "5066                   0.00    0.00              Нет     7.40   \n",
       "\n",
       "                genres  box_office  \n",
       "4552  комедия,криминал        0.00  \n",
       "5066  комедия,криминал        0.00  "
      ]
     },
     "metadata": {},
     "output_type": "display_data"
    }
   ],
   "source": [
    "display(data[data['title'].str.contains('Анализируй это!')])"
   ]
  },
  {
   "cell_type": "markdown",
   "metadata": {},
   "source": [
    "Так как эти два фильма связаны, при внесении номера прокатного удостоверения могла произойти ошибка, и он задублировался. "
   ]
  },
  {
   "cell_type": "markdown",
   "metadata": {},
   "source": [
    "В этом конкретном исследовании мы не поднимаем прокатные удостоверения по номерам, а используем их как уникальный идентификатор, поэтому можем заменить его на собственный."
   ]
  },
  {
   "cell_type": "code",
   "execution_count": 48,
   "metadata": {},
   "outputs": [
    {
     "data": {
      "text/html": [
       "<div>\n",
       "<style scoped>\n",
       "    .dataframe tbody tr th:only-of-type {\n",
       "        vertical-align: middle;\n",
       "    }\n",
       "\n",
       "    .dataframe tbody tr th {\n",
       "        vertical-align: top;\n",
       "    }\n",
       "\n",
       "    .dataframe thead th {\n",
       "        text-align: right;\n",
       "    }\n",
       "</style>\n",
       "<table border=\"1\" class=\"dataframe\">\n",
       "  <thead>\n",
       "    <tr style=\"text-align: right;\">\n",
       "      <th></th>\n",
       "      <th>title</th>\n",
       "      <th>pu_number</th>\n",
       "      <th>show_start_date</th>\n",
       "      <th>type</th>\n",
       "      <th>film_studio</th>\n",
       "      <th>production_country</th>\n",
       "      <th>director</th>\n",
       "      <th>producer</th>\n",
       "      <th>age_restriction</th>\n",
       "      <th>refundable_support</th>\n",
       "      <th>nonrefundable_support</th>\n",
       "      <th>budget</th>\n",
       "      <th>financing_source</th>\n",
       "      <th>ratings</th>\n",
       "      <th>genres</th>\n",
       "      <th>box_office</th>\n",
       "    </tr>\n",
       "  </thead>\n",
       "  <tbody>\n",
       "    <tr>\n",
       "      <th>4700</th>\n",
       "      <td>1001 рецепт влюбленного кулинара</td>\n",
       "      <td>1811096</td>\n",
       "      <td>2010-12-23 12:00:00+00:00</td>\n",
       "      <td>Художественный</td>\n",
       "      <td>Ле Фильм дю Риваж, Ля Сет Синема, Адам и Ева, ...</td>\n",
       "      <td>Франция-Грузия-Германия-Россия-Украина-Бельгия</td>\n",
       "      <td>Н.Джорджадзе</td>\n",
       "      <td>Продюсер не определен</td>\n",
       "      <td>«0+» - для любой зрительской аудитории</td>\n",
       "      <td>0.00</td>\n",
       "      <td>0.00</td>\n",
       "      <td>0.00</td>\n",
       "      <td>Нет</td>\n",
       "      <td>6.70</td>\n",
       "      <td>мелодрама,комедия</td>\n",
       "      <td>0.00</td>\n",
       "    </tr>\n",
       "    <tr>\n",
       "      <th>3961</th>\n",
       "      <td>Небесный тихоход (новая цветная версия)</td>\n",
       "      <td>111000110</td>\n",
       "      <td>2010-01-14 12:00:00+00:00</td>\n",
       "      <td>Художественный</td>\n",
       "      <td>Киностудия \"Ленфильм\", ЗАО \"Киновидеообъединен...</td>\n",
       "      <td>СССР, Россия</td>\n",
       "      <td>И.Цветов (режиссер ч/б фильма - С.Тимошенко)</td>\n",
       "      <td>ЗАО \"Киновидеообъединение \"Крупный план\"</td>\n",
       "      <td>«0+» - для любой зрительской аудитории</td>\n",
       "      <td>0.00</td>\n",
       "      <td>0.00</td>\n",
       "      <td>0.00</td>\n",
       "      <td>Нет</td>\n",
       "      <td>8.00</td>\n",
       "      <td>комедия,военный</td>\n",
       "      <td>0.00</td>\n",
       "    </tr>\n",
       "    <tr>\n",
       "      <th>4767</th>\n",
       "      <td>И не было лучше брата</td>\n",
       "      <td>111000111</td>\n",
       "      <td>2011-01-13 12:00:00+00:00</td>\n",
       "      <td>Художественный</td>\n",
       "      <td>ООО \"Ибрус\"  при поддержке Киностудии \"Азербай...</td>\n",
       "      <td>Россия - Азербайджан</td>\n",
       "      <td>М.Ибрагимбеков</td>\n",
       "      <td>М.Ибрагимбеков, А.Швыдкой, Д.Шуфутинский</td>\n",
       "      <td>«16+» - для детей старше 16 лет</td>\n",
       "      <td>0.00</td>\n",
       "      <td>0.00</td>\n",
       "      <td>0.00</td>\n",
       "      <td>Нет</td>\n",
       "      <td>6.70</td>\n",
       "      <td>детектив</td>\n",
       "      <td>0.00</td>\n",
       "    </tr>\n",
       "    <tr>\n",
       "      <th>729</th>\n",
       "      <td>Детский юмористический киножурнал \"Ералаш\", вы...</td>\n",
       "      <td>111000112</td>\n",
       "      <td>2012-01-16 12:00:00+00:00</td>\n",
       "      <td>Художественный</td>\n",
       "      <td>ООО \"Ералаш\"</td>\n",
       "      <td>Россия</td>\n",
       "      <td>В.Панжев, Г.Курлаев, И.Белостоцкий, М.Сулейман...</td>\n",
       "      <td>ООО \"Ералаш\"</td>\n",
       "      <td>«0+» - для любой зрительской аудитории</td>\n",
       "      <td>0.00</td>\n",
       "      <td>0.00</td>\n",
       "      <td>0.00</td>\n",
       "      <td>Нет</td>\n",
       "      <td>7.20</td>\n",
       "      <td>детский,комедия</td>\n",
       "      <td>0.00</td>\n",
       "    </tr>\n",
       "    <tr>\n",
       "      <th>1128</th>\n",
       "      <td>Тайна перевала Дятлова</td>\n",
       "      <td>111000113</td>\n",
       "      <td>2013-01-17 12:00:00+00:00</td>\n",
       "      <td>Художественный</td>\n",
       "      <td>ООО \"Нон-Стоп Продакшн\"</td>\n",
       "      <td>Россия</td>\n",
       "      <td>Ренни Харлин</td>\n",
       "      <td>А.Роднянский, С.Мелькумов, С.Беспалов, Киа Джэм</td>\n",
       "      <td>«16+» - для детей старше 16 лет</td>\n",
       "      <td>0.00</td>\n",
       "      <td>0.00</td>\n",
       "      <td>0.00</td>\n",
       "      <td>Нет</td>\n",
       "      <td>5.10</td>\n",
       "      <td>ужасы,фантастика</td>\n",
       "      <td>2450.00</td>\n",
       "    </tr>\n",
       "  </tbody>\n",
       "</table>\n",
       "</div>"
      ],
      "text/plain": [
       "                                                  title  pu_number  \\\n",
       "4700                   1001 рецепт влюбленного кулинара    1811096   \n",
       "3961            Небесный тихоход (новая цветная версия)  111000110   \n",
       "4767                              И не было лучше брата  111000111   \n",
       "729   Детский юмористический киножурнал \"Ералаш\", вы...  111000112   \n",
       "1128                             Тайна перевала Дятлова  111000113   \n",
       "\n",
       "               show_start_date            type  \\\n",
       "4700 2010-12-23 12:00:00+00:00  Художественный   \n",
       "3961 2010-01-14 12:00:00+00:00  Художественный   \n",
       "4767 2011-01-13 12:00:00+00:00  Художественный   \n",
       "729  2012-01-16 12:00:00+00:00  Художественный   \n",
       "1128 2013-01-17 12:00:00+00:00  Художественный   \n",
       "\n",
       "                                            film_studio  \\\n",
       "4700  Ле Фильм дю Риваж, Ля Сет Синема, Адам и Ева, ...   \n",
       "3961  Киностудия \"Ленфильм\", ЗАО \"Киновидеообъединен...   \n",
       "4767  ООО \"Ибрус\"  при поддержке Киностудии \"Азербай...   \n",
       "729                                        ООО \"Ералаш\"   \n",
       "1128                            ООО \"Нон-Стоп Продакшн\"   \n",
       "\n",
       "                                  production_country  \\\n",
       "4700  Франция-Грузия-Германия-Россия-Украина-Бельгия   \n",
       "3961                                    СССР, Россия   \n",
       "4767                            Россия - Азербайджан   \n",
       "729                                           Россия   \n",
       "1128                                          Россия   \n",
       "\n",
       "                                               director  \\\n",
       "4700                                       Н.Джорджадзе   \n",
       "3961       И.Цветов (режиссер ч/б фильма - С.Тимошенко)   \n",
       "4767                                     М.Ибрагимбеков   \n",
       "729   В.Панжев, Г.Курлаев, И.Белостоцкий, М.Сулейман...   \n",
       "1128                                       Ренни Харлин   \n",
       "\n",
       "                                             producer  \\\n",
       "4700                            Продюсер не определен   \n",
       "3961         ЗАО \"Киновидеообъединение \"Крупный план\"   \n",
       "4767         М.Ибрагимбеков, А.Швыдкой, Д.Шуфутинский   \n",
       "729                                      ООО \"Ералаш\"   \n",
       "1128  А.Роднянский, С.Мелькумов, С.Беспалов, Киа Джэм   \n",
       "\n",
       "                             age_restriction  refundable_support  \\\n",
       "4700  «0+» - для любой зрительской аудитории                0.00   \n",
       "3961  «0+» - для любой зрительской аудитории                0.00   \n",
       "4767         «16+» - для детей старше 16 лет                0.00   \n",
       "729   «0+» - для любой зрительской аудитории                0.00   \n",
       "1128         «16+» - для детей старше 16 лет                0.00   \n",
       "\n",
       "      nonrefundable_support  budget financing_source  ratings  \\\n",
       "4700                   0.00    0.00              Нет     6.70   \n",
       "3961                   0.00    0.00              Нет     8.00   \n",
       "4767                   0.00    0.00              Нет     6.70   \n",
       "729                    0.00    0.00              Нет     7.20   \n",
       "1128                   0.00    0.00              Нет     5.10   \n",
       "\n",
       "                 genres  box_office  \n",
       "4700  мелодрама,комедия        0.00  \n",
       "3961    комедия,военный        0.00  \n",
       "4767           детектив        0.00  \n",
       "729     детский,комедия        0.00  \n",
       "1128   ужасы,фантастика     2450.00  "
      ]
     },
     "execution_count": 48,
     "metadata": {},
     "output_type": "execute_result"
    }
   ],
   "source": [
    "#смотрим первые 5 наименьших значений столбца 'pu_number', чтобы присвоить собственное\n",
    "data.sort_values(by= 'pu_number').head(5)"
   ]
  },
  {
   "cell_type": "code",
   "execution_count": 49,
   "metadata": {},
   "outputs": [],
   "source": [
    "#присваиваем значение\n",
    "data.loc[(data['title'] == 'Анализируй то!') & (data['pu_number'] == 221054410), 'pu_number'] = 100000000"
   ]
  },
  {
   "cell_type": "code",
   "execution_count": 50,
   "metadata": {},
   "outputs": [
    {
     "data": {
      "text/html": [
       "<div>\n",
       "<style scoped>\n",
       "    .dataframe tbody tr th:only-of-type {\n",
       "        vertical-align: middle;\n",
       "    }\n",
       "\n",
       "    .dataframe tbody tr th {\n",
       "        vertical-align: top;\n",
       "    }\n",
       "\n",
       "    .dataframe thead th {\n",
       "        text-align: right;\n",
       "    }\n",
       "</style>\n",
       "<table border=\"1\" class=\"dataframe\">\n",
       "  <thead>\n",
       "    <tr style=\"text-align: right;\">\n",
       "      <th></th>\n",
       "      <th>title</th>\n",
       "      <th>pu_number</th>\n",
       "      <th>show_start_date</th>\n",
       "      <th>type</th>\n",
       "      <th>film_studio</th>\n",
       "      <th>production_country</th>\n",
       "      <th>director</th>\n",
       "      <th>producer</th>\n",
       "      <th>age_restriction</th>\n",
       "      <th>refundable_support</th>\n",
       "      <th>nonrefundable_support</th>\n",
       "      <th>budget</th>\n",
       "      <th>financing_source</th>\n",
       "      <th>ratings</th>\n",
       "      <th>genres</th>\n",
       "      <th>box_office</th>\n",
       "    </tr>\n",
       "  </thead>\n",
       "  <tbody>\n",
       "    <tr>\n",
       "      <th>4519</th>\n",
       "      <td>Как жениться и остаться холостым</td>\n",
       "      <td>221142510</td>\n",
       "      <td>2010-12-03 12:00:00+00:00</td>\n",
       "      <td>Художественный</td>\n",
       "      <td>Ше Вам, Скрипт Ассосье, Тэ Фэ 1 Фильм Продюксь...</td>\n",
       "      <td>Франция</td>\n",
       "      <td>Эрик Лартиго</td>\n",
       "      <td>Амандин Било, Алан Шаба</td>\n",
       "      <td>«16+» - для детей старше 16 лет</td>\n",
       "      <td>0.00</td>\n",
       "      <td>0.00</td>\n",
       "      <td>0.00</td>\n",
       "      <td>Нет</td>\n",
       "      <td>7.00</td>\n",
       "      <td>мелодрама,комедия</td>\n",
       "      <td>0.00</td>\n",
       "    </tr>\n",
       "    <tr>\n",
       "      <th>4637</th>\n",
       "      <td>Как жениться и остаться холостым</td>\n",
       "      <td>221154310</td>\n",
       "      <td>2010-12-17 12:00:00+00:00</td>\n",
       "      <td>Художественный</td>\n",
       "      <td>Ше Вам, Скрипт Ассосье, Тэ Фэ 1 Фильм Продюксь...</td>\n",
       "      <td>Франция</td>\n",
       "      <td>Эрик Лартиго</td>\n",
       "      <td>Амандин Било, Алан Шаба</td>\n",
       "      <td>«16+» - для детей старше 16 лет</td>\n",
       "      <td>0.00</td>\n",
       "      <td>0.00</td>\n",
       "      <td>0.00</td>\n",
       "      <td>Нет</td>\n",
       "      <td>7.00</td>\n",
       "      <td>мелодрама,комедия</td>\n",
       "      <td>0.00</td>\n",
       "    </tr>\n",
       "  </tbody>\n",
       "</table>\n",
       "</div>"
      ],
      "text/plain": [
       "                                 title  pu_number           show_start_date  \\\n",
       "4519  Как жениться и остаться холостым  221142510 2010-12-03 12:00:00+00:00   \n",
       "4637  Как жениться и остаться холостым  221154310 2010-12-17 12:00:00+00:00   \n",
       "\n",
       "                type                                        film_studio  \\\n",
       "4519  Художественный  Ше Вам, Скрипт Ассосье, Тэ Фэ 1 Фильм Продюксь...   \n",
       "4637  Художественный  Ше Вам, Скрипт Ассосье, Тэ Фэ 1 Фильм Продюксь...   \n",
       "\n",
       "     production_country      director                 producer  \\\n",
       "4519            Франция  Эрик Лартиго  Амандин Било, Алан Шаба   \n",
       "4637            Франция  Эрик Лартиго  Амандин Било, Алан Шаба   \n",
       "\n",
       "                      age_restriction  refundable_support  \\\n",
       "4519  «16+» - для детей старше 16 лет                0.00   \n",
       "4637  «16+» - для детей старше 16 лет                0.00   \n",
       "\n",
       "      nonrefundable_support  budget financing_source  ratings  \\\n",
       "4519                   0.00    0.00              Нет     7.00   \n",
       "4637                   0.00    0.00              Нет     7.00   \n",
       "\n",
       "                 genres  box_office  \n",
       "4519  мелодрама,комедия        0.00  \n",
       "4637  мелодрама,комедия        0.00  "
      ]
     },
     "metadata": {},
     "output_type": "display_data"
    }
   ],
   "source": [
    "display(data[data['title'].str.contains('Как жениться и остаться холостым')])"
   ]
  },
  {
   "cell_type": "markdown",
   "metadata": {},
   "source": [
    "Со вторым дубликатом поступим аналогично."
   ]
  },
  {
   "cell_type": "code",
   "execution_count": 51,
   "metadata": {},
   "outputs": [],
   "source": [
    "data.loc[(data['title'] == 'Как жениться и остаться холостым') & (data['pu_number'] == 221154310), 'pu_number'] = 100000001"
   ]
  },
  {
   "cell_type": "markdown",
   "metadata": {},
   "source": [
    "#### Шаг 2.4. Изучим столбцы, которые содержат категориальные значения"
   ]
  },
  {
   "cell_type": "markdown",
   "metadata": {},
   "source": [
    "**Проверим столбец 'type' на уникальные значения**"
   ]
  },
  {
   "cell_type": "code",
   "execution_count": 52,
   "metadata": {},
   "outputs": [
    {
     "data": {
      "text/plain": [
       "array(['Художественный', 'Анимационный', 'Прочие', 'Документальный',\n",
       "       'Научно-популярный', ' Художественный', ' Анимационный',\n",
       "       'Музыкально-развлекательный'], dtype=object)"
      ]
     },
     "execution_count": 52,
     "metadata": {},
     "output_type": "execute_result"
    }
   ],
   "source": [
    "data['type'].unique()"
   ]
  },
  {
   "cell_type": "markdown",
   "metadata": {},
   "source": [
    "Мы видим одинаковые типы, но с разным написанием: есть лишние пробелы. Заменим их."
   ]
  },
  {
   "cell_type": "code",
   "execution_count": 53,
   "metadata": {},
   "outputs": [
    {
     "data": {
      "text/plain": [
       "array(['Художественный', 'Анимационный', 'Прочие', 'Документальный',\n",
       "       'Научно-популярный', 'Музыкально-развлекательный'], dtype=object)"
      ]
     },
     "execution_count": 53,
     "metadata": {},
     "output_type": "execute_result"
    }
   ],
   "source": [
    "data['type'] = data['type'].str.replace(' Художественный','Художественный')\n",
    "data['type'] = data['type'].str.replace (' Анимационный', 'Анимационный')\n",
    "#проверим результат\n",
    "data['type'].unique()"
   ]
  },
  {
   "cell_type": "markdown",
   "metadata": {},
   "source": [
    "**Проверим столбец 'age_restriction' на уникальные значения**"
   ]
  },
  {
   "cell_type": "code",
   "execution_count": 54,
   "metadata": {},
   "outputs": [
    {
     "data": {
      "text/plain": [
       "array(['«18+» - запрещено для детей', '«6+» - для детей старше 6 лет',\n",
       "       '«12+» - для детей старше 12 лет',\n",
       "       '«16+» - для детей старше 16 лет',\n",
       "       '«0+» - для любой зрительской аудитории'], dtype=object)"
      ]
     },
     "execution_count": 54,
     "metadata": {},
     "output_type": "execute_result"
    }
   ],
   "source": [
    "data['age_restriction'].unique()"
   ]
  },
  {
   "cell_type": "markdown",
   "metadata": {},
   "source": [
    "С этим столбцом всё в порядке."
   ]
  },
  {
   "cell_type": "markdown",
   "metadata": {},
   "source": [
    "**Проверим столбец 'financing_source' на уникальные значения**"
   ]
  },
  {
   "cell_type": "code",
   "execution_count": 55,
   "metadata": {},
   "outputs": [
    {
     "data": {
      "text/plain": [
       "array(['Нет', 'Министерство культуры', 'Фонд кино',\n",
       "       'Министерство культуры, Фонд кино'], dtype=object)"
      ]
     },
     "execution_count": 55,
     "metadata": {},
     "output_type": "execute_result"
    }
   ],
   "source": [
    "data['financing_source'].unique()"
   ]
  },
  {
   "cell_type": "markdown",
   "metadata": {},
   "source": [
    "С этим столбцом также всё в порядке, есть три уникальных значения и одно, которым мы заполнили пропуски ('Нет')."
   ]
  },
  {
   "cell_type": "markdown",
   "metadata": {},
   "source": [
    "**Проверим столбец 'genres' на уникальные значения**"
   ]
  },
  {
   "cell_type": "code",
   "execution_count": 56,
   "metadata": {},
   "outputs": [
    {
     "data": {
      "text/plain": [
       "array(['боевик,драма,мелодрама', 'драма,военный',\n",
       "       'фантастика,боевик,триллер', 'драма', 'мелодрама,комедия',\n",
       "       'мюзикл,мелодрама,комедия', 'комедия,криминал',\n",
       "       'боевик,триллер,детектив', 'боевик,драма,приключения',\n",
       "       'драма,спорт', 'триллер,драма,мелодрама', 'комедия,мелодрама',\n",
       "       'драма,мелодрама,комедия', 'драма,мелодрама', 'драма,история',\n",
       "       'драма,мелодрама,семейный', 'комедия,мелодрама,криминал',\n",
       "       'комедия', 'боевик,драма,криминал', 'драма,комедия',\n",
       "       'ужасы,фантастика,комедия', 'мультфильм,короткометражка,мелодрама',\n",
       "       'драма,криминал', 'мультфильм,фантастика,фэнтези',\n",
       "       'триллер,драма,криминал', 'драма,мелодрама,биография',\n",
       "       'драма,комедия,военный', 'фантастика,драма,детектив',\n",
       "       'мюзикл,семейный', 'жанр не определен',\n",
       "       'военный,приключения,драма', 'документальный,драма',\n",
       "       'драма,биография,история', 'боевик,триллер,драма',\n",
       "       'фэнтези,боевик', 'боевик,комедия,криминал',\n",
       "       'мюзикл,комедия,детский', 'комедия,мелодрама,драма',\n",
       "       'мультфильм,фэнтези,комедия', 'комедия,история', 'мелодрама',\n",
       "       'драма,биография,музыка', 'фэнтези,драма,мелодрама',\n",
       "       'триллер,военный', 'драма,мелодрама,военный',\n",
       "       'мюзикл,драма,мелодрама', 'мюзикл,комедия',\n",
       "       'мультфильм,приключения,семейный', 'ужасы,триллер',\n",
       "       'боевик,драма,военный', 'драма,боевик', 'мультфильм,драма,комедия',\n",
       "       'триллер,криминал', 'военный,биография,драма', 'комедия,семейный',\n",
       "       'военный', 'драма,семейный,биография',\n",
       "       'фэнтези,приключения,семейный', 'драма,криминал,биография',\n",
       "       'ужасы,триллер,детектив', 'боевик,история,драма',\n",
       "       'ужасы,триллер,драма', 'драма,криминал,спорт',\n",
       "       'документальный,короткометражка', 'триллер,драма',\n",
       "       'криминал,детектив,приключения', 'драма,комедия,криминал',\n",
       "       'драма,комедия,вестерн', 'драма,мелодрама,детектив',\n",
       "       'мелодрама,биография', 'фэнтези,мелодрама,драма',\n",
       "       'драма,мелодрама,история', 'комедия,приключения,история',\n",
       "       'приключения', 'драма,семейный', 'криминал,детектив',\n",
       "       'мультфильм,короткометражка,ужасы', 'фантастика,триллер,драма',\n",
       "       'фэнтези,мелодрама,комедия', 'драма,биография',\n",
       "       'комедия,криминал,история', 'триллер,драма,детектив',\n",
       "       'фантастика,комедия,приключения', 'фэнтези,семейный',\n",
       "       'ужасы,фантастика,боевик', 'мелодрама,криминал',\n",
       "       'комедия,приключения,мелодрама', 'боевик,триллер,приключения',\n",
       "       'боевик,приключения', 'боевик,триллер,криминал',\n",
       "       'документальный,военный,история', 'драма,музыка', 'боевик,драма',\n",
       "       'приключения,боевик', 'драма,военный,биография',\n",
       "       'триллер,драма,приключения', 'аниме,мультфильм,фэнтези',\n",
       "       'триллер,детектив,драма', 'боевик,триллер,мелодрама',\n",
       "       'боевик,история', 'приключения,история',\n",
       "       'драма,комедия,приключения', 'фэнтези,комедия,приключения',\n",
       "       'драма,вестерн', 'документальный,музыка', 'мелодрама,драма',\n",
       "       'триллер,криминал,детектив', 'ужасы', 'боевик,комедия,приключения',\n",
       "       'мультфильм,фэнтези,боевик', 'боевик,фэнтези,драма',\n",
       "       'фэнтези,драма', 'фэнтези,боевик,комедия',\n",
       "       'приключения,детский,комедия', 'документальный',\n",
       "       'боевик,триллер,комедия', 'мелодрама,комедия,криминал',\n",
       "       'драма,детектив', 'мюзикл,ужасы,триллер', 'детектив,триллер,ужасы',\n",
       "       'ужасы,фэнтези', 'ужасы,фэнтези,триллер', 'мультфильм,драма',\n",
       "       'ужасы,боевик,фантастика', 'боевик', 'фантастика,боевик',\n",
       "       'мелодрама,комедия,приключения', 'триллер,детектив',\n",
       "       'мюзикл,мелодрама,фэнтези', 'криминал', 'триллер,комедия,криминал',\n",
       "       'боевик,приключения,триллер', 'триллер,драма,военный',\n",
       "       'комедия,семейный,музыка', 'комедия,фантастика,мелодрама',\n",
       "       'фантастика,триллер,криминал', 'комедия,драма', 'боевик,военный',\n",
       "       'ужасы,фантастика,триллер', 'фантастика,драма,мелодрама',\n",
       "       'фэнтези,драма,детектив', 'боевик,триллер', 'боевик,драма,история',\n",
       "       'мультфильм,мюзикл,фэнтези', 'для взрослых,драма,мелодрама',\n",
       "       'мультфильм,боевик,детектив', 'фантастика,мелодрама,боевик',\n",
       "       'ужасы,фантастика,детектив', 'фантастика,боевик,приключения',\n",
       "       'мелодрама,комедия,спорт', 'комедия,боевик,приключения',\n",
       "       'документальный,приключения', 'мультфильм,короткометражка,детский',\n",
       "       'комедия,приключения', 'ужасы,драма', 'ужасы,фэнтези,боевик',\n",
       "       'мультфильм,фэнтези,детский', 'мюзикл,боевик,драма',\n",
       "       'семейный,комедия,драма', 'концерт,музыка', 'фэнтези,боевик,драма',\n",
       "       'драма,комедия,музыка', 'фантастика,фэнтези,боевик',\n",
       "       'фэнтези,комедия,семейный', 'фэнтези,драма,комедия',\n",
       "       'мультфильм,мюзикл,драма', 'триллер', 'боевик,криминал,триллер',\n",
       "       'мультфильм,приключения,драма', 'мелодрама,музыка',\n",
       "       'документальный,музыка,концерт', 'мультфильм,семейный',\n",
       "       'мультфильм,комедия,приключения', 'мультфильм,комедия,семейный',\n",
       "       'фантастика,драма', 'фэнтези,боевик,приключения',\n",
       "       'мультфильм,приключения', 'драма,военный,история', 'история',\n",
       "       'драма,приключения,военный',\n",
       "       'документальный,короткометражка,семейный',\n",
       "       'мелодрама,история,триллер', 'ужасы,детектив',\n",
       "       'мюзикл,комедия,приключения', 'драма,спорт,биография',\n",
       "       'фантастика,боевик,комедия', 'фантастика,приключения,детектив',\n",
       "       'короткометражка,драма,военный', 'драма,мультфильм',\n",
       "       'приключения,семейный', 'детектив', 'триллер,приключения',\n",
       "       'аниме,мультфильм,боевик', 'драма,комедия,биография',\n",
       "       'драма,комедия,спорт', 'боевик,мелодрама,комедия',\n",
       "       'семейный,комедия', 'фэнтези,боевик,триллер',\n",
       "       'документальный,фэнтези,семейный', 'фантастика,фэнтези,драма',\n",
       "       'ужасы,комедия,фэнтези', 'документальный,биография,музыка',\n",
       "       'фантастика,боевик,фэнтези', 'ужасы,боевик,триллер',\n",
       "       'комедия,криминал,семейный', 'приключения,драма',\n",
       "       'криминал,драма,триллер', 'драма,детектив,криминал',\n",
       "       'фэнтези,приключения,комедия', 'комедия,спорт',\n",
       "       'мюзикл,фэнтези,мелодрама', 'мультфильм,фэнтези,приключения',\n",
       "       'фантастика,фэнтези,приключения', 'фэнтези',\n",
       "       'фэнтези,приключения,боевик', 'фантастика,боевик,драма',\n",
       "       'криминал,драма', 'криминал,триллер,драма',\n",
       "       'драма,мелодрама,приключения', 'детский,комедия',\n",
       "       'фантастика,драма,боевик', 'мультфильм,семейный,фэнтези',\n",
       "       'концерт,музыка,документальный', 'ужасы,комедия,приключения',\n",
       "       'драма,мелодрама,криминал', 'ужасы,фантастика,фэнтези',\n",
       "       'боевик,комедия', 'мультфильм,фантастика,комедия', 'триллер,ужасы',\n",
       "       'мультфильм,мюзикл,комедия', 'мелодрама,фэнтези,триллер',\n",
       "       'детский,приключения,комедия', 'комедия,детектив',\n",
       "       'аниме,мультфильм,мелодрама', 'документальный,драма,семейный',\n",
       "       'документальный,биография,история', 'военный,боевик,драма',\n",
       "       'ужасы,комедия', 'комедия,приключения,семейный',\n",
       "       'приключения,биография,история', 'детский,приключения,семейный',\n",
       "       'спорт,драма,биография', 'аниме,мультфильм,ужасы',\n",
       "       'фантастика,боевик,криминал', 'мюзикл,драма',\n",
       "       'драма,криминал,детектив', 'аниме,мультфильм,драма',\n",
       "       'драма,триллер,приключения', 'триллер,криминал,драма',\n",
       "       'фэнтези,комедия,драма', 'мультфильм,комедия',\n",
       "       'драма,комедия,история', 'комедия,биография,история',\n",
       "       'мультфильм,фантастика,приключения', 'аниме,мультфильм,фантастика',\n",
       "       'мультфильм,фэнтези,семейный', 'мультфильм,боевик,комедия',\n",
       "       'комедия,криминал,спорт', 'документальный,мюзикл',\n",
       "       'мелодрама,комедия,музыка', 'биография',\n",
       "       'триллер,криминал,комедия', 'фантастика,драма,комедия',\n",
       "       'комедия,драма,мелодрама', 'фантастика,приключения,боевик',\n",
       "       'мультфильм,фэнтези,драма', 'триллер,комедия',\n",
       "       'драма,приключения,биография', 'фантастика,комедия',\n",
       "       'мелодрама,драма,комедия', 'боевик,криминал',\n",
       "       'драма,криминал,боевик', 'мультфильм,мюзикл,детский',\n",
       "       'драма,фэнтези', 'документальный,семейный',\n",
       "       'фэнтези,драма,приключения', 'ужасы,комедия,фантастика',\n",
       "       'драма,мелодрама,музыка', 'фэнтези,драма,семейный',\n",
       "       'триллер,мелодрама,драма', 'вестерн,боевик,драма',\n",
       "       'мультфильм,короткометражка,комедия', 'триллер,драма,история',\n",
       "       'ужасы,фантастика', 'ужасы,мелодрама,комедия',\n",
       "       'фэнтези,приключения', 'фантастика,триллер',\n",
       "       'ужасы,боевик,фэнтези', 'мультфильм,комедия,детский',\n",
       "       'триллер,драма,биография', 'мультфильм,ужасы,фэнтези',\n",
       "       'мультфильм,ужасы,фантастика', 'ужасы,боевик,комедия',\n",
       "       'драма,биография,спорт', 'мультфильм', 'мелодрама,комедия,драма',\n",
       "       'приключения,фантастика,семейный', 'комедия,криминал,детектив',\n",
       "       'ужасы,триллер,комедия', 'криминал,комедия,триллер',\n",
       "       'семейный,приключения,комедия', 'мультфильм,драма,приключения',\n",
       "       'ужасы,драма,детектив', 'драма,приключения,фэнтези',\n",
       "       'фантастика,мультфильм,драма', 'драма,триллер,детектив',\n",
       "       'драма,история,музыка', 'детский', 'триллер,боевик,криминал',\n",
       "       'драма,фантастика', 'комедия,драма,семейный',\n",
       "       'боевик,драма,комедия', 'комедия,ужасы',\n",
       "       'драма,фантастика,триллер', 'фантастика,драма,триллер',\n",
       "       'история,спорт,драма', 'документальный,биография',\n",
       "       'биография,история', 'спорт,драма', 'боевик,фэнтези',\n",
       "       'мультфильм,фэнтези', 'документальный,комедия,история',\n",
       "       'криминал,комедия,боевик', 'фэнтези,приключения,драма',\n",
       "       'музыка,концерт', 'триллер,драма,боевик',\n",
       "       'комедия,криминал,боевик', 'комедия,фантастика,боевик',\n",
       "       'вестерн,приключения,боевик', 'аниме,мультфильм,комедия',\n",
       "       'детектив,криминал,триллер', 'мультфильм,комедия,криминал',\n",
       "       'комедия,приключения,детектив', 'мелодрама,фантастика,драма',\n",
       "       'драма,комедия,семейный', 'приключения,фантастика',\n",
       "       'триллер,детектив,ужасы', 'комедия,приключения,фэнтези',\n",
       "       'фэнтези,триллер,драма', 'мелодрама,приключения,боевик',\n",
       "       'детектив,триллер,криминал', 'фэнтези,семейный,мелодрама',\n",
       "       'военный,драма', 'документальный,приключения,семейный',\n",
       "       'криминал,комедия,драма', 'комедия,фантастика',\n",
       "       'история,биография,драма', 'мелодрама,драма,музыка',\n",
       "       'боевик,мелодрама', 'комедия,криминал,триллер',\n",
       "       'детектив,триллер,боевик', 'комедия,боевик,криминал',\n",
       "       'комедия,вестерн', 'детский,мелодрама,семейный',\n",
       "       'короткометражка,мультфильм', 'комедия,фэнтези',\n",
       "       'фантастика,драма,ужасы', 'триллер,драма,ужасы',\n",
       "       'драма,фэнтези,история', 'комедия,драма,короткометражка',\n",
       "       'фэнтези,триллер,приключения', 'семейный',\n",
       "       'комедия,криминал,драма', 'комедия,фэнтези,ужасы',\n",
       "       'короткометражка,комедия,криминал', 'фантастика',\n",
       "       'триллер,ужасы,драма', 'мелодрама,драма,фэнтези',\n",
       "       'фантастика,приключения,драма', 'боевик,детектив',\n",
       "       'военный,драма,боевик', 'комедия,мелодрама,фэнтези',\n",
       "       'вестерн,криминал,триллер', 'драма,история,триллер',\n",
       "       'мультфильм,фантастика,боевик', 'детектив,драма,криминал',\n",
       "       'приключения,история,драма', 'мультфильм,семейный,детский',\n",
       "       'биография,драма,история', 'триллер,криминал,боевик',\n",
       "       'история,мелодрама', 'приключения,детский',\n",
       "       'музыка,приключения,концерт', 'военный,драма,комедия',\n",
       "       'фэнтези,боевик,военный', 'фантастика,детектив,боевик',\n",
       "       'мультфильм,фэнтези,история', 'биография,мелодрама,драма',\n",
       "       'документальный,биография,спорт', 'фантастика,комедия,детектив',\n",
       "       'музыка,концерт,документальный', 'триллер,боевик,приключения',\n",
       "       'триллер,драма,комедия', 'детектив,криминал',\n",
       "       'мультфильм,приключения,фэнтези', 'мелодрама,приключения',\n",
       "       'комедия,музыка', 'мелодрама,комедия,ужасы',\n",
       "       'драма,криминал,приключения', 'приключения,детектив,мелодрама',\n",
       "       'драма,криминал,фантастика', 'фэнтези,драма,биография',\n",
       "       'детектив,фантастика,криминал', 'триллер,драма,фантастика',\n",
       "       'ужасы,комедия,боевик', 'мелодрама,история', 'триллер,боевик',\n",
       "       'фильм-нуар,триллер,детектив', 'комедия,криминал,приключения',\n",
       "       'ужасы,триллер,мелодрама', 'военный,драма,история',\n",
       "       'драма,спорт,история', 'документальный,драма,история',\n",
       "       'триллер,мелодрама,детектив', 'детский,семейный',\n",
       "       'мюзикл,семейный,драма', 'биография,военный,драма',\n",
       "       'мультфильм,детский', 'боевик,криминал,драма',\n",
       "       'детектив,фэнтези,триллер', 'драма,боевик,приключения',\n",
       "       'драма,мелодрама,фэнтези', 'детектив,история,драма',\n",
       "       'фэнтези,боевик,ужасы', 'ужасы,фэнтези,мелодрама',\n",
       "       'ужасы,приключения', 'боевик,фантастика',\n",
       "       'ужасы,мелодрама,детектив', 'фантастика,триллер,приключения',\n",
       "       'боевик,приключения,история', 'приключения,боевик,триллер',\n",
       "       'детектив,ужасы,криминал', 'семейный,фэнтези', 'мюзикл,мелодрама',\n",
       "       'драма,военный,приключения', 'фантастика,драма,приключения',\n",
       "       'приключения,семейный,драма', 'история,драма,боевик',\n",
       "       'мультфильм,приключения,комедия', 'криминал,драма,комедия',\n",
       "       'ужасы,комедия,драма', 'комедия,семейный,приключения',\n",
       "       'мюзикл,фэнтези,драма', 'драма,вестерн,боевик',\n",
       "       'фантастика,триллер,детектив', 'драма,история,детектив',\n",
       "       'короткометражка,биография', 'мультфильм,приключения,фантастика',\n",
       "       'комедия,триллер', 'мультфильм,приключения,детектив',\n",
       "       'драма,триллер', 'ужасы,триллер,криминал',\n",
       "       'документальный,криминал,военный', 'ужасы,фэнтези,драма',\n",
       "       'фэнтези,комедия', 'ужасы,фэнтези,комедия', 'комедия,музыка,драма',\n",
       "       'мультфильм,приключения,военный', 'мюзикл,фэнтези,комедия',\n",
       "       'боевик,фантастика,приключения', 'триллер,ужасы,криминал',\n",
       "       'ужасы,фантастика,драма', 'фантастика,приключения,семейный',\n",
       "       'короткометражка,музыка', 'мелодрама,детектив,комедия',\n",
       "       'документальный,триллер,биография', 'боевик,фантастика,триллер',\n",
       "       'спорт,драма,комедия', 'фэнтези,мелодрама,приключения',\n",
       "       'триллер,детектив,криминал', 'короткометражка,мелодрама',\n",
       "       'мультфильм,семейный,спорт', 'комедия,фэнтези,мелодрама',\n",
       "       'драма,спорт,комедия', 'история,драма,мелодрама',\n",
       "       'драма,боевик,криминал', 'драма,комедия,триллер',\n",
       "       'аниме,мультфильм', 'документальный,ужасы',\n",
       "       'мультфильм,короткометражка', 'драма,история,военный',\n",
       "       'мультфильм,короткометражка,фэнтези', 'комедия,военный,музыка',\n",
       "       'биография,история,драма', 'ужасы,драма,мелодрама',\n",
       "       'драма,комедия,детектив', 'комедия,семейный,фантастика',\n",
       "       'мультфильм,семейный,комедия', 'история,детектив',\n",
       "       'приключения,мелодрама,детектив', 'мюзикл,комедия,мелодрама',\n",
       "       'драма,фантастика,ужасы', 'мультфильм,ужасы,комедия',\n",
       "       'для взрослых,драма,комедия', 'ужасы,комедия,музыка',\n",
       "       'комедия,история,драма', 'семейный,детектив,детский',\n",
       "       'короткометражка,драма', 'документальный,новости,драма',\n",
       "       'триллер,мелодрама', 'ужасы,драма,вестерн',\n",
       "       'мюзикл,фэнтези,семейный', 'вестерн,драма,триллер',\n",
       "       'приключения,вестерн,боевик', 'семейный,комедия,музыка',\n",
       "       'боевик,драма,вестерн', 'ужасы,драма,триллер',\n",
       "       'фантастика,мелодрама', 'комедия,криминал,биография',\n",
       "       'семейный,мультфильм,комедия', 'комедия,драма,криминал',\n",
       "       'фантастика,боевик,военный', 'приключения,биография,драма',\n",
       "       'приключения,триллер,биография', 'криминал,боевик,триллер',\n",
       "       'боевик,вестерн,приключения', 'история,драма',\n",
       "       'фантастика,фэнтези,комедия', 'мультфильм,детский,комедия',\n",
       "       'мелодрама,комедия,триллер', 'документальный,боевик,приключения',\n",
       "       'драма,приключения', 'мелодрама,военный,драма', 'триллер,фэнтези',\n",
       "       'драма,триллер,биография', 'фэнтези,боевик,семейный',\n",
       "       'фантастика,триллер,комедия', 'документальный,фэнтези',\n",
       "       'комедия,мультфильм,фантастика', 'криминал,биография,комедия',\n",
       "       'биография,спорт,драма', 'приключения,военный',\n",
       "       'мультфильм,семейный,драма', 'документальный,фэнтези,драма',\n",
       "       'комедия,боевик,фантастика', 'семейный,приключения,военный',\n",
       "       'триллер,ужасы,детектив', 'короткометражка',\n",
       "       'мелодрама,триллер,история', 'документальный,история',\n",
       "       'мультфильм,приключения,детский', 'драма,комедия,мультфильм',\n",
       "       'военный,детектив', 'семейный,приключения,документальный',\n",
       "       'детский,фэнтези', 'документальный,комедия', 'комедия,биография',\n",
       "       'криминал,комедия', 'спорт,мелодрама,криминал',\n",
       "       'фантастика,комедия,боевик', 'боевик,приключения,детектив',\n",
       "       'детектив,триллер,драма', 'документальный,фантастика',\n",
       "       'мелодрама,комедия,семейный', 'мультфильм,мелодрама,комедия',\n",
       "       'драма,спорт,семейный', 'фантастика,мелодрама,фэнтези',\n",
       "       'мюзикл,комедия,музыка', 'фантастика,триллер,мелодрама',\n",
       "       'приключения,комедия,фэнтези', 'фэнтези,боевик,детектив',\n",
       "       'фэнтези,боевик,мелодрама', 'комедия,военный',\n",
       "       'драма,спорт,боевик', 'мультфильм,боевик,триллер',\n",
       "       'мелодрама,семейный', 'фантастика,боевик,детектив',\n",
       "       'драма,приключения,история', 'документальный,драма,музыка',\n",
       "       'фантастика,триллер,боевик', 'фэнтези,боевик,вестерн',\n",
       "       'драма,комедия,мелодрама', 'ужасы,фэнтези,приключения',\n",
       "       'триллер,фэнтези,драма', 'мультфильм,мюзикл,мелодрама',\n",
       "       'ужасы,триллер,фантастика', 'триллер,мелодрама,комедия',\n",
       "       'ужасы,комедия,семейный', 'комедия,приключения,музыка',\n",
       "       'документальный,комедия,криминал', 'мелодрама,детектив',\n",
       "       'детский,приключения,фантастика', 'короткометражка,боевик,драма',\n",
       "       'боевик,комедия,семейный', 'фантастика,боевик,мелодрама',\n",
       "       'фэнтези,триллер,мелодрама', 'драма,детектив,история',\n",
       "       'боевик,криминал,детектив', 'мультфильм,фэнтези,мелодрама',\n",
       "       'мелодрама,драма,боевик', 'драма,вестерн,приключения',\n",
       "       'драма,приключения,мелодрама', 'фэнтези,боевик,криминал',\n",
       "       'фантастика,комедия,семейный', 'детский,фэнтези,приключения',\n",
       "       'ужасы,боевик', 'фантастика,мелодрама,комедия',\n",
       "       'семейный,спорт,боевик', 'триллер,биография,драма',\n",
       "       'ужасы,драма,комедия', 'мультфильм,фэнтези,триллер', 'мюзикл',\n",
       "       'боевик,спорт,драма', 'комедия,приключения,вестерн',\n",
       "       'документальный,ужасы,боевик', 'фантастика,боевик,семейный',\n",
       "       'военный,история', 'ужасы,боевик,криминал', 'детектив,триллер',\n",
       "       'драма,семейный,комедия', 'драма,детектив,приключения',\n",
       "       'драма,криминал,история', 'приключения,триллер',\n",
       "       'боевик,драма,биография', 'драма,приключения,триллер',\n",
       "       'комедия,фэнтези,приключения', 'фантастика,боевик,ужасы',\n",
       "       'драма,комедия,фантастика', 'детектив,криминал,драма',\n",
       "       'боевик,триллер,фэнтези', 'приключения,детектив,семейный',\n",
       "       'ужасы,комедия,криминал', 'мультфильм,биография,драма',\n",
       "       'история,боевик,фэнтези', 'детектив,криминал,боевик',\n",
       "       'приключения,фэнтези', 'комедия,приключения,спорт',\n",
       "       'драма,биография,мюзикл', 'комедия,семейный,фэнтези',\n",
       "       'детектив,драма,триллер', 'боевик,приключения,семейный',\n",
       "       'биография,спорт,комедия', 'фантастика,приключения,военный',\n",
       "       'документальный,драма,биография', 'детектив,приключения,драма',\n",
       "       'аниме,мультфильм,приключения', 'семейный,приключения',\n",
       "       'ужасы,фэнтези,детектив', 'семейный,документальный',\n",
       "       'драма,приключения,семейный', 'приключения,история,военный',\n",
       "       'фэнтези,мелодрама', 'фэнтези,триллер,детектив',\n",
       "       'документальный,спорт,биография', 'комедия,триллер,драма',\n",
       "       'драма,ужасы', 'биография,музыка,драма', 'фэнтези,ужасы',\n",
       "       'детектив,мелодрама,фэнтези', 'боевик,военный,история',\n",
       "       'биография,драма,криминал', 'триллер,мелодрама,криминал',\n",
       "       'семейный,мелодрама', 'биография,драма', 'военный,история,драма',\n",
       "       'фантастика,детектив,фэнтези', 'детектив,приключения,триллер',\n",
       "       'фантастика,приключения', 'мультфильм,короткометражка,мюзикл',\n",
       "       'мультфильм,детский,семейный', 'документальный,драма,комедия',\n",
       "       'комедия,приключения,криминал', 'документальный,семейный,музыка',\n",
       "       'мелодрама,музыка,драма', 'детектив,фантастика,триллер',\n",
       "       'драма,мелодрама,триллер', 'биография,драма,военный',\n",
       "       'приключения,фантастика,драма', 'детектив,фильм-нуар,комедия',\n",
       "       'документальный,спорт', 'триллер,фантастика,драма',\n",
       "       'биография,документальный', 'ужасы,фантастика,мелодрама',\n",
       "       'детектив,комедия', 'история,биография,военный',\n",
       "       'криминал,мелодрама', 'драма,криминал,вестерн',\n",
       "       'мелодрама,семейный,приключения', 'триллер,ужасы,мелодрама',\n",
       "       'фэнтези,драма,фильм-нуар', 'детектив,мелодрама',\n",
       "       'комедия,драма,биография', 'драма,военный,боевик',\n",
       "       'драма,комедия,ужасы', 'фантастика,драма,криминал',\n",
       "       'документальный,музыка,биография', 'мультфильм,боевик,приключения',\n",
       "       'короткометражка,фантастика', 'мультфильм,мелодрама,драма',\n",
       "       'боевик,военный,драма', 'фэнтези,семейный,приключения',\n",
       "       'детский,мультфильм,приключения', 'семейный,фэнтези,комедия',\n",
       "       'фэнтези,ужасы,триллер', 'ужасы,триллер,приключения',\n",
       "       'драма,боевик,история', 'фэнтези,комедия,детектив',\n",
       "       'история,приключения', 'аниме,мультфильм,короткометражка',\n",
       "       'драма,военный,триллер', 'биография,криминал,триллер',\n",
       "       'фантастика,фэнтези,детектив', 'вестерн,биография,драма',\n",
       "       'биография,музыка,мюзикл', 'драма,история,биография',\n",
       "       'приключения,драма,фантастика', 'комедия,фэнтези,криминал',\n",
       "       'биография,спорт,история', 'драма,криминал,семейный',\n",
       "       'детектив,боевик,история', 'ужасы,комедия,детектив',\n",
       "       'триллер,приключения,драма', 'фэнтези,комедия,криминал',\n",
       "       'триллер,криминал,приключения', 'комедия,детектив,приключения',\n",
       "       'фэнтези,драма,ужасы', 'ужасы,драма,военный', 'реальное ТВ',\n",
       "       'аниме,мультфильм,детектив', 'приключения,фэнтези,семейный',\n",
       "       'драма,биография,комедия', 'триллер,комедия,ужасы',\n",
       "       'музыка,мелодрама,фэнтези', 'мультфильм,история',\n",
       "       'мультфильм,комедия,фантастика', 'биография,криминал,драма',\n",
       "       'комедия,мелодрама,фантастика', 'криминал,боевик,комедия',\n",
       "       'история,криминал', 'детектив,комедия,драма',\n",
       "       'триллер,фантастика,боевик', 'криминал,боевик',\n",
       "       'комедия,драма,военный', 'драма,триллер,криминал',\n",
       "       'мультфильм,мелодрама,приключения', 'фантастика,фэнтези,триллер',\n",
       "       'короткометражка,драма,триллер', 'военный,боевик,история',\n",
       "       'боевик,драма,триллер', 'документальный,военный,драма',\n",
       "       'драма,криминал,фильм-нуар', 'мультфильм,детский,приключения',\n",
       "       'мелодрама,история,драма'], dtype=object)"
      ]
     },
     "execution_count": 56,
     "metadata": {},
     "output_type": "execute_result"
    }
   ],
   "source": [
    "data['genres'].unique()"
   ]
  },
  {
   "cell_type": "code",
   "execution_count": 57,
   "metadata": {},
   "outputs": [
    {
     "data": {
      "text/plain": [
       "743"
      ]
     },
     "execution_count": 57,
     "metadata": {},
     "output_type": "execute_result"
    }
   ],
   "source": [
    "data['genres'].nunique()"
   ]
  },
  {
   "cell_type": "markdown",
   "metadata": {},
   "source": [
    "Часть указанных жанров - это вариации из нескольких жанров в одной ячейке, и таким образом получается очень много уникальных значений - 743. Далее по ходу работы нам нужно будет выделить основной жанр в отдельную ячейку."
   ]
  },
  {
   "cell_type": "markdown",
   "metadata": {
    "id": "XFSN5lrEgFyR"
   },
   "source": [
    "#### Шаг 2.5. Проверим количественные значения"
   ]
  },
  {
   "cell_type": "markdown",
   "metadata": {},
   "source": [
    "Посмотрим описание данных"
   ]
  },
  {
   "cell_type": "code",
   "execution_count": 58,
   "metadata": {},
   "outputs": [
    {
     "data": {
      "text/html": [
       "<div>\n",
       "<style scoped>\n",
       "    .dataframe tbody tr th:only-of-type {\n",
       "        vertical-align: middle;\n",
       "    }\n",
       "\n",
       "    .dataframe tbody tr th {\n",
       "        vertical-align: top;\n",
       "    }\n",
       "\n",
       "    .dataframe thead th {\n",
       "        text-align: right;\n",
       "    }\n",
       "</style>\n",
       "<table border=\"1\" class=\"dataframe\">\n",
       "  <thead>\n",
       "    <tr style=\"text-align: right;\">\n",
       "      <th></th>\n",
       "      <th>pu_number</th>\n",
       "      <th>refundable_support</th>\n",
       "      <th>nonrefundable_support</th>\n",
       "      <th>budget</th>\n",
       "      <th>ratings</th>\n",
       "      <th>box_office</th>\n",
       "    </tr>\n",
       "  </thead>\n",
       "  <tbody>\n",
       "    <tr>\n",
       "      <th>count</th>\n",
       "      <td>7485.00</td>\n",
       "      <td>7485.00</td>\n",
       "      <td>7485.00</td>\n",
       "      <td>7485.00</td>\n",
       "      <td>7485.00</td>\n",
       "      <td>7485.00</td>\n",
       "    </tr>\n",
       "    <tr>\n",
       "      <th>mean</th>\n",
       "      <td>135164228.35</td>\n",
       "      <td>526252.51</td>\n",
       "      <td>2172570.25</td>\n",
       "      <td>5643322.10</td>\n",
       "      <td>5.65</td>\n",
       "      <td>32267163.99</td>\n",
       "    </tr>\n",
       "    <tr>\n",
       "      <th>std</th>\n",
       "      <td>38331503.76</td>\n",
       "      <td>5781491.10</td>\n",
       "      <td>16149994.78</td>\n",
       "      <td>47531308.14</td>\n",
       "      <td>2.41</td>\n",
       "      <td>160611080.38</td>\n",
       "    </tr>\n",
       "    <tr>\n",
       "      <th>min</th>\n",
       "      <td>1811096.00</td>\n",
       "      <td>0.00</td>\n",
       "      <td>0.00</td>\n",
       "      <td>0.00</td>\n",
       "      <td>0.00</td>\n",
       "      <td>0.00</td>\n",
       "    </tr>\n",
       "    <tr>\n",
       "      <th>25%</th>\n",
       "      <td>112024918.00</td>\n",
       "      <td>0.00</td>\n",
       "      <td>0.00</td>\n",
       "      <td>0.00</td>\n",
       "      <td>5.40</td>\n",
       "      <td>0.00</td>\n",
       "    </tr>\n",
       "    <tr>\n",
       "      <th>50%</th>\n",
       "      <td>121015418.00</td>\n",
       "      <td>0.00</td>\n",
       "      <td>0.00</td>\n",
       "      <td>0.00</td>\n",
       "      <td>6.40</td>\n",
       "      <td>0.00</td>\n",
       "    </tr>\n",
       "    <tr>\n",
       "      <th>75%</th>\n",
       "      <td>124003312.00</td>\n",
       "      <td>0.00</td>\n",
       "      <td>0.00</td>\n",
       "      <td>0.00</td>\n",
       "      <td>7.20</td>\n",
       "      <td>1081445.00</td>\n",
       "    </tr>\n",
       "    <tr>\n",
       "      <th>max</th>\n",
       "      <td>231001111.00</td>\n",
       "      <td>180000000.00</td>\n",
       "      <td>400000000.00</td>\n",
       "      <td>2305074303.00</td>\n",
       "      <td>9.90</td>\n",
       "      <td>3073568690.79</td>\n",
       "    </tr>\n",
       "  </tbody>\n",
       "</table>\n",
       "</div>"
      ],
      "text/plain": [
       "         pu_number  refundable_support  nonrefundable_support        budget  \\\n",
       "count      7485.00             7485.00                7485.00       7485.00   \n",
       "mean  135164228.35           526252.51             2172570.25    5643322.10   \n",
       "std    38331503.76          5781491.10            16149994.78   47531308.14   \n",
       "min     1811096.00                0.00                   0.00          0.00   \n",
       "25%   112024918.00                0.00                   0.00          0.00   \n",
       "50%   121015418.00                0.00                   0.00          0.00   \n",
       "75%   124003312.00                0.00                   0.00          0.00   \n",
       "max   231001111.00        180000000.00           400000000.00 2305074303.00   \n",
       "\n",
       "       ratings    box_office  \n",
       "count  7485.00       7485.00  \n",
       "mean      5.65   32267163.99  \n",
       "std       2.41  160611080.38  \n",
       "min       0.00          0.00  \n",
       "25%       5.40          0.00  \n",
       "50%       6.40          0.00  \n",
       "75%       7.20    1081445.00  \n",
       "max       9.90 3073568690.79  "
      ]
     },
     "execution_count": 58,
     "metadata": {},
     "output_type": "execute_result"
    }
   ],
   "source": [
    "data.describe()"
   ]
  },
  {
   "cell_type": "code",
   "execution_count": 59,
   "metadata": {},
   "outputs": [
    {
     "name": "stdout",
     "output_type": "stream",
     "text": [
      "<class 'pandas.core.frame.DataFrame'>\n",
      "Int64Index: 7485 entries, 0 to 7484\n",
      "Data columns (total 16 columns):\n",
      " #   Column                 Non-Null Count  Dtype              \n",
      "---  ------                 --------------  -----              \n",
      " 0   title                  7485 non-null   object             \n",
      " 1   pu_number              7485 non-null   int64              \n",
      " 2   show_start_date        7485 non-null   datetime64[ns, UTC]\n",
      " 3   type                   7485 non-null   object             \n",
      " 4   film_studio            7485 non-null   object             \n",
      " 5   production_country     7485 non-null   object             \n",
      " 6   director               7485 non-null   object             \n",
      " 7   producer               7485 non-null   object             \n",
      " 8   age_restriction        7485 non-null   object             \n",
      " 9   refundable_support     7485 non-null   float64            \n",
      " 10  nonrefundable_support  7485 non-null   float64            \n",
      " 11  budget                 7485 non-null   float64            \n",
      " 12  financing_source       7485 non-null   object             \n",
      " 13  ratings                7485 non-null   float64            \n",
      " 14  genres                 7485 non-null   object             \n",
      " 15  box_office             7485 non-null   float64            \n",
      "dtypes: datetime64[ns, UTC](1), float64(5), int64(1), object(9)\n",
      "memory usage: 994.1+ KB\n"
     ]
    }
   ],
   "source": [
    "data.info()"
   ]
  },
  {
   "cell_type": "markdown",
   "metadata": {
    "id": "YbzClBxagFyS"
   },
   "source": [
    "Мной уже было отмечено ранее (на этапе заполнения пропусков), что в столбце с общим бюджетом фильма заполненных значений ровно столько же, сколько в столбцах с объёмом возвратных и невозвратных средств государственной поддержки. Здесь указан бюджет только для фильмов с господдержкой."
   ]
  },
  {
   "cell_type": "markdown",
   "metadata": {},
   "source": [
    "Проверим фильмы, которые были сняты при государственной поддержке, но по кассовым сборам у них 0."
   ]
  },
  {
   "cell_type": "code",
   "execution_count": 60,
   "metadata": {},
   "outputs": [
    {
     "data": {
      "text/html": [
       "<div>\n",
       "<style scoped>\n",
       "    .dataframe tbody tr th:only-of-type {\n",
       "        vertical-align: middle;\n",
       "    }\n",
       "\n",
       "    .dataframe tbody tr th {\n",
       "        vertical-align: top;\n",
       "    }\n",
       "\n",
       "    .dataframe thead th {\n",
       "        text-align: right;\n",
       "    }\n",
       "</style>\n",
       "<table border=\"1\" class=\"dataframe\">\n",
       "  <thead>\n",
       "    <tr style=\"text-align: right;\">\n",
       "      <th></th>\n",
       "      <th>title</th>\n",
       "      <th>pu_number</th>\n",
       "      <th>show_start_date</th>\n",
       "      <th>type</th>\n",
       "      <th>film_studio</th>\n",
       "      <th>production_country</th>\n",
       "      <th>director</th>\n",
       "      <th>producer</th>\n",
       "      <th>age_restriction</th>\n",
       "      <th>refundable_support</th>\n",
       "      <th>nonrefundable_support</th>\n",
       "      <th>budget</th>\n",
       "      <th>financing_source</th>\n",
       "      <th>ratings</th>\n",
       "      <th>genres</th>\n",
       "      <th>box_office</th>\n",
       "    </tr>\n",
       "  </thead>\n",
       "  <tbody>\n",
       "    <tr>\n",
       "      <th>7473</th>\n",
       "      <td>Вторжение</td>\n",
       "      <td>111022519</td>\n",
       "      <td>2019-12-23 12:00:00+00:00</td>\n",
       "      <td>Художественный</td>\n",
       "      <td>ООО \"Арт Пикчерс Студия\", ООО \"Водород 2011\"</td>\n",
       "      <td>Россия</td>\n",
       "      <td>Ф.Бондарчук</td>\n",
       "      <td>Ф.Бондарчук, М.Врубель, А.Андрющенко, Д.Рудовский</td>\n",
       "      <td>«12+» - для детей старше 12 лет</td>\n",
       "      <td>100000000.00</td>\n",
       "      <td>400000000.00</td>\n",
       "      <td>944000000.00</td>\n",
       "      <td>Фонд кино</td>\n",
       "      <td>5.70</td>\n",
       "      <td>фантастика,боевик</td>\n",
       "      <td>0.00</td>\n",
       "    </tr>\n",
       "    <tr>\n",
       "      <th>7477</th>\n",
       "      <td>(Не)идеальный мужчина</td>\n",
       "      <td>111023119</td>\n",
       "      <td>2019-12-24 12:00:00+00:00</td>\n",
       "      <td>Художественный</td>\n",
       "      <td>ООО \"Нон-Стоп Продакшн\"</td>\n",
       "      <td>Россия</td>\n",
       "      <td>М.Бальчюнас (псевдоним М.Вайсберг)</td>\n",
       "      <td>С.Мелькумов, А.Роднянский, М.Вайсберг, Р.Минас...</td>\n",
       "      <td>«12+» - для детей старше 12 лет</td>\n",
       "      <td>40000000.00</td>\n",
       "      <td>60000000.00</td>\n",
       "      <td>150147502.00</td>\n",
       "      <td>Фонд кино</td>\n",
       "      <td>4.50</td>\n",
       "      <td>комедия,фантастика,мелодрама</td>\n",
       "      <td>0.00</td>\n",
       "    </tr>\n",
       "  </tbody>\n",
       "</table>\n",
       "</div>"
      ],
      "text/plain": [
       "                      title  pu_number           show_start_date  \\\n",
       "7473              Вторжение  111022519 2019-12-23 12:00:00+00:00   \n",
       "7477  (Не)идеальный мужчина  111023119 2019-12-24 12:00:00+00:00   \n",
       "\n",
       "                type                                   film_studio  \\\n",
       "7473  Художественный  ООО \"Арт Пикчерс Студия\", ООО \"Водород 2011\"   \n",
       "7477  Художественный                      ООО \"Нон-Стоп Продакшн\"    \n",
       "\n",
       "     production_country                            director  \\\n",
       "7473             Россия                         Ф.Бондарчук   \n",
       "7477             Россия  М.Бальчюнас (псевдоним М.Вайсберг)   \n",
       "\n",
       "                                               producer  \\\n",
       "7473  Ф.Бондарчук, М.Врубель, А.Андрющенко, Д.Рудовский   \n",
       "7477  С.Мелькумов, А.Роднянский, М.Вайсберг, Р.Минас...   \n",
       "\n",
       "                      age_restriction  refundable_support  \\\n",
       "7473  «12+» - для детей старше 12 лет        100000000.00   \n",
       "7477  «12+» - для детей старше 12 лет         40000000.00   \n",
       "\n",
       "      nonrefundable_support       budget financing_source  ratings  \\\n",
       "7473           400000000.00 944000000.00        Фонд кино     5.70   \n",
       "7477            60000000.00 150147502.00        Фонд кино     4.50   \n",
       "\n",
       "                            genres  box_office  \n",
       "7473             фантастика,боевик        0.00  \n",
       "7477  комедия,фантастика,мелодрама        0.00  "
      ]
     },
     "execution_count": 60,
     "metadata": {},
     "output_type": "execute_result"
    }
   ],
   "source": [
    "data.query('refundable_support > 0 and nonrefundable_support > 0 and budget > 0 and box_office == 0' )"
   ]
  },
  {
   "cell_type": "code",
   "execution_count": 61,
   "metadata": {},
   "outputs": [
    {
     "data": {
      "text/html": [
       "<div>\n",
       "<style scoped>\n",
       "    .dataframe tbody tr th:only-of-type {\n",
       "        vertical-align: middle;\n",
       "    }\n",
       "\n",
       "    .dataframe tbody tr th {\n",
       "        vertical-align: top;\n",
       "    }\n",
       "\n",
       "    .dataframe thead th {\n",
       "        text-align: right;\n",
       "    }\n",
       "</style>\n",
       "<table border=\"1\" class=\"dataframe\">\n",
       "  <thead>\n",
       "    <tr style=\"text-align: right;\">\n",
       "      <th></th>\n",
       "      <th>title</th>\n",
       "      <th>pu_number</th>\n",
       "      <th>show_start_date</th>\n",
       "      <th>type</th>\n",
       "      <th>film_studio</th>\n",
       "      <th>production_country</th>\n",
       "      <th>director</th>\n",
       "      <th>producer</th>\n",
       "      <th>age_restriction</th>\n",
       "      <th>refundable_support</th>\n",
       "      <th>nonrefundable_support</th>\n",
       "      <th>budget</th>\n",
       "      <th>financing_source</th>\n",
       "      <th>ratings</th>\n",
       "      <th>genres</th>\n",
       "      <th>box_office</th>\n",
       "    </tr>\n",
       "  </thead>\n",
       "  <tbody>\n",
       "    <tr>\n",
       "      <th>7478</th>\n",
       "      <td>Эколав</td>\n",
       "      <td>111023219</td>\n",
       "      <td>2019-12-26 12:00:00+00:00</td>\n",
       "      <td>Художественный</td>\n",
       "      <td>ВГИК</td>\n",
       "      <td>Россия</td>\n",
       "      <td>Д.Григорьев</td>\n",
       "      <td>ВГИК</td>\n",
       "      <td>«18+» - запрещено для детей</td>\n",
       "      <td>0.00</td>\n",
       "      <td>0.00</td>\n",
       "      <td>0.00</td>\n",
       "      <td>Нет</td>\n",
       "      <td>0.00</td>\n",
       "      <td>жанр не определен</td>\n",
       "      <td>0.00</td>\n",
       "    </tr>\n",
       "    <tr>\n",
       "      <th>7466</th>\n",
       "      <td>Жёлтый клевер</td>\n",
       "      <td>111022219</td>\n",
       "      <td>2019-12-27 12:00:00+00:00</td>\n",
       "      <td>Художественный</td>\n",
       "      <td>Соломатина Людмила Леонидовна</td>\n",
       "      <td>Россия</td>\n",
       "      <td>Л.Соломатина (Томилова)</td>\n",
       "      <td>Л.Соломатина (Томилова)</td>\n",
       "      <td>«12+» - для детей старше 12 лет</td>\n",
       "      <td>0.00</td>\n",
       "      <td>0.00</td>\n",
       "      <td>0.00</td>\n",
       "      <td>Нет</td>\n",
       "      <td>0.00</td>\n",
       "      <td>жанр не определен</td>\n",
       "      <td>0.00</td>\n",
       "    </tr>\n",
       "    <tr>\n",
       "      <th>7482</th>\n",
       "      <td>Щенячий патруль: Скорей спешим на помощь!</td>\n",
       "      <td>124010819</td>\n",
       "      <td>2019-12-28 12:00:00+00:00</td>\n",
       "      <td>Художественный</td>\n",
       "      <td>Никелодеон Анимейшн Студиос, Спин Мастер</td>\n",
       "      <td>США - Канада</td>\n",
       "      <td>Чарльз Е.Бастьен</td>\n",
       "      <td>Дженнифер Додж</td>\n",
       "      <td>«0+» - для любой зрительской аудитории</td>\n",
       "      <td>0.00</td>\n",
       "      <td>0.00</td>\n",
       "      <td>0.00</td>\n",
       "      <td>Нет</td>\n",
       "      <td>0.00</td>\n",
       "      <td>жанр не определен</td>\n",
       "      <td>0.00</td>\n",
       "    </tr>\n",
       "    <tr>\n",
       "      <th>7483</th>\n",
       "      <td>Машины песенки. Серия \"Испанские мотивы\"</td>\n",
       "      <td>124010619</td>\n",
       "      <td>2019-12-30 12:00:00+00:00</td>\n",
       "      <td>Анимационный</td>\n",
       "      <td>Анимаккорд Лтд., ООО Студия \"АНИМАККОРД\"</td>\n",
       "      <td>Республика Кипр, Россия</td>\n",
       "      <td>А.Беляев</td>\n",
       "      <td>Д.Ловейко</td>\n",
       "      <td>«0+» - для любой зрительской аудитории</td>\n",
       "      <td>0.00</td>\n",
       "      <td>0.00</td>\n",
       "      <td>0.00</td>\n",
       "      <td>Нет</td>\n",
       "      <td>0.00</td>\n",
       "      <td>жанр не определен</td>\n",
       "      <td>0.00</td>\n",
       "    </tr>\n",
       "    <tr>\n",
       "      <th>7484</th>\n",
       "      <td>Машины песенки. Серия \"Когда цветут кактусы\"</td>\n",
       "      <td>124010719</td>\n",
       "      <td>2019-12-30 12:00:00+00:00</td>\n",
       "      <td>Анимационный</td>\n",
       "      <td>Анимаккорд Лтд., ООО Студия \"АНИМАККОРД\"</td>\n",
       "      <td>Республика Кипр, Россия</td>\n",
       "      <td>И.Трусов</td>\n",
       "      <td>Д.Ловейко</td>\n",
       "      <td>«0+» - для любой зрительской аудитории</td>\n",
       "      <td>0.00</td>\n",
       "      <td>0.00</td>\n",
       "      <td>0.00</td>\n",
       "      <td>Нет</td>\n",
       "      <td>6.30</td>\n",
       "      <td>комедия,вестерн</td>\n",
       "      <td>0.00</td>\n",
       "    </tr>\n",
       "  </tbody>\n",
       "</table>\n",
       "</div>"
      ],
      "text/plain": [
       "                                             title  pu_number  \\\n",
       "7478                                        Эколав  111023219   \n",
       "7466                                 Жёлтый клевер  111022219   \n",
       "7482     Щенячий патруль: Скорей спешим на помощь!  124010819   \n",
       "7483      Машины песенки. Серия \"Испанские мотивы\"  124010619   \n",
       "7484  Машины песенки. Серия \"Когда цветут кактусы\"  124010719   \n",
       "\n",
       "               show_start_date            type  \\\n",
       "7478 2019-12-26 12:00:00+00:00  Художественный   \n",
       "7466 2019-12-27 12:00:00+00:00  Художественный   \n",
       "7482 2019-12-28 12:00:00+00:00  Художественный   \n",
       "7483 2019-12-30 12:00:00+00:00    Анимационный   \n",
       "7484 2019-12-30 12:00:00+00:00    Анимационный   \n",
       "\n",
       "                                   film_studio       production_country  \\\n",
       "7478                                      ВГИК                   Россия   \n",
       "7466             Соломатина Людмила Леонидовна                   Россия   \n",
       "7482  Никелодеон Анимейшн Студиос, Спин Мастер             США - Канада   \n",
       "7483  Анимаккорд Лтд., ООО Студия \"АНИМАККОРД\"  Республика Кипр, Россия   \n",
       "7484  Анимаккорд Лтд., ООО Студия \"АНИМАККОРД\"  Республика Кипр, Россия   \n",
       "\n",
       "                     director                 producer  \\\n",
       "7478              Д.Григорьев                     ВГИК   \n",
       "7466  Л.Соломатина (Томилова)  Л.Соломатина (Томилова)   \n",
       "7482         Чарльз Е.Бастьен           Дженнифер Додж   \n",
       "7483                 А.Беляев                Д.Ловейко   \n",
       "7484                 И.Трусов                Д.Ловейко   \n",
       "\n",
       "                             age_restriction  refundable_support  \\\n",
       "7478             «18+» - запрещено для детей                0.00   \n",
       "7466         «12+» - для детей старше 12 лет                0.00   \n",
       "7482  «0+» - для любой зрительской аудитории                0.00   \n",
       "7483  «0+» - для любой зрительской аудитории                0.00   \n",
       "7484  «0+» - для любой зрительской аудитории                0.00   \n",
       "\n",
       "      nonrefundable_support  budget financing_source  ratings  \\\n",
       "7478                   0.00    0.00              Нет     0.00   \n",
       "7466                   0.00    0.00              Нет     0.00   \n",
       "7482                   0.00    0.00              Нет     0.00   \n",
       "7483                   0.00    0.00              Нет     0.00   \n",
       "7484                   0.00    0.00              Нет     6.30   \n",
       "\n",
       "                 genres  box_office  \n",
       "7478  жанр не определен        0.00  \n",
       "7466  жанр не определен        0.00  \n",
       "7482  жанр не определен        0.00  \n",
       "7483  жанр не определен        0.00  \n",
       "7484    комедия,вестерн        0.00  "
      ]
     },
     "execution_count": 61,
     "metadata": {},
     "output_type": "execute_result"
    }
   ],
   "source": [
    "#смотрим, каким годом выпуска фильма заканчивается датафрейм\n",
    "data.sort_values(by= 'show_start_date').tail(5)"
   ]
  },
  {
   "cell_type": "markdown",
   "metadata": {},
   "source": [
    "В таблице нет данных о фильмах, выпущенных после декабря 2019 года, и у этих фильмов нет информации о сборах. Поэтому можно сделать вывод, что на момент формирования этих данных эти фильмы только вышли в прокат и пока не имели информации о сборах. Это касается и найденных нами двух фильмов с господдержкой."
   ]
  },
  {
   "cell_type": "markdown",
   "metadata": {},
   "source": [
    "Проверим данные для фильмов, у которых бюджет может быть меньше, чем сумма возвратных и невозвратных средств."
   ]
  },
  {
   "cell_type": "code",
   "execution_count": 62,
   "metadata": {},
   "outputs": [
    {
     "data": {
      "text/html": [
       "<div>\n",
       "<style scoped>\n",
       "    .dataframe tbody tr th:only-of-type {\n",
       "        vertical-align: middle;\n",
       "    }\n",
       "\n",
       "    .dataframe tbody tr th {\n",
       "        vertical-align: top;\n",
       "    }\n",
       "\n",
       "    .dataframe thead th {\n",
       "        text-align: right;\n",
       "    }\n",
       "</style>\n",
       "<table border=\"1\" class=\"dataframe\">\n",
       "  <thead>\n",
       "    <tr style=\"text-align: right;\">\n",
       "      <th></th>\n",
       "      <th>title</th>\n",
       "      <th>pu_number</th>\n",
       "      <th>show_start_date</th>\n",
       "      <th>type</th>\n",
       "      <th>film_studio</th>\n",
       "      <th>production_country</th>\n",
       "      <th>director</th>\n",
       "      <th>producer</th>\n",
       "      <th>age_restriction</th>\n",
       "      <th>refundable_support</th>\n",
       "      <th>nonrefundable_support</th>\n",
       "      <th>budget</th>\n",
       "      <th>financing_source</th>\n",
       "      <th>ratings</th>\n",
       "      <th>genres</th>\n",
       "      <th>box_office</th>\n",
       "    </tr>\n",
       "  </thead>\n",
       "  <tbody>\n",
       "    <tr>\n",
       "      <th>2052</th>\n",
       "      <td>14+</td>\n",
       "      <td>111023614</td>\n",
       "      <td>2014-12-19 12:00:00+00:00</td>\n",
       "      <td>Художественный</td>\n",
       "      <td>ООО Киностудия  \"Сентябрь\"</td>\n",
       "      <td>Россия</td>\n",
       "      <td>А.Зайцев</td>\n",
       "      <td>О.Гранина, А.Зайцев</td>\n",
       "      <td>«16+» - для детей старше 16 лет</td>\n",
       "      <td>0.00</td>\n",
       "      <td>23000000.00</td>\n",
       "      <td>0.00</td>\n",
       "      <td>Министерство культуры, Фонд кино</td>\n",
       "      <td>6.60</td>\n",
       "      <td>мелодрама</td>\n",
       "      <td>10234016.10</td>\n",
       "    </tr>\n",
       "    <tr>\n",
       "      <th>2057</th>\n",
       "      <td>Дуxless 2</td>\n",
       "      <td>111000415</td>\n",
       "      <td>2015-01-26 12:00:00+00:00</td>\n",
       "      <td>Художественный</td>\n",
       "      <td>ООО \"Киностудия \"Слово\", ООО \"Арт Пикчерс Студия\"</td>\n",
       "      <td>Россия</td>\n",
       "      <td>Р.Прыгунов</td>\n",
       "      <td>П.Ануров, Ф.Бондарчук, Д.Рудовский</td>\n",
       "      <td>«16+» - для детей старше 16 лет</td>\n",
       "      <td>0.00</td>\n",
       "      <td>75000000.00</td>\n",
       "      <td>0.00</td>\n",
       "      <td>Фонд кино</td>\n",
       "      <td>6.60</td>\n",
       "      <td>драма</td>\n",
       "      <td>446163511.00</td>\n",
       "    </tr>\n",
       "    <tr>\n",
       "      <th>2471</th>\n",
       "      <td>Воин (2015)</td>\n",
       "      <td>111017315</td>\n",
       "      <td>2015-09-28 12:00:00+00:00</td>\n",
       "      <td>Художественный</td>\n",
       "      <td>ООО \"Форпост Продакшн\", ООО \"Арт Пикчерс Студия\"</td>\n",
       "      <td>Россия</td>\n",
       "      <td>А.Андрианов</td>\n",
       "      <td>ООО \"Арт Пикчерс Студия\"</td>\n",
       "      <td>«12+» - для детей старше 12 лет</td>\n",
       "      <td>10000000.00</td>\n",
       "      <td>70000000.00</td>\n",
       "      <td>0.00</td>\n",
       "      <td>Фонд кино</td>\n",
       "      <td>7.80</td>\n",
       "      <td>боевик,драма,криминал</td>\n",
       "      <td>196572438.40</td>\n",
       "    </tr>\n",
       "    <tr>\n",
       "      <th>2531</th>\n",
       "      <td>Бармен.</td>\n",
       "      <td>111009615</td>\n",
       "      <td>2015-05-26 12:00:00+00:00</td>\n",
       "      <td>Художественный</td>\n",
       "      <td>АО \"ВайТ Медиа\", ООО \"Арт Пикчерс Студия\"</td>\n",
       "      <td>Россия</td>\n",
       "      <td>Д.Штурманова</td>\n",
       "      <td>Т.Вайнштейн</td>\n",
       "      <td>«16+» - для детей старше 16 лет</td>\n",
       "      <td>20000000.00</td>\n",
       "      <td>0.00</td>\n",
       "      <td>0.00</td>\n",
       "      <td>Фонд кино</td>\n",
       "      <td>6.20</td>\n",
       "      <td>комедия,фэнтези</td>\n",
       "      <td>67418974.80</td>\n",
       "    </tr>\n",
       "    <tr>\n",
       "      <th>2614</th>\n",
       "      <td>Савва. Сердце воина</td>\n",
       "      <td>114001715</td>\n",
       "      <td>2015-07-21 12:00:00+00:00</td>\n",
       "      <td>Анимационный</td>\n",
       "      <td>ООО \"Глюкоза Продакшн\", ООО \"Арт Пикчерс Студия\"</td>\n",
       "      <td>Россия</td>\n",
       "      <td>М.Фадеев</td>\n",
       "      <td>А.Чистяков</td>\n",
       "      <td>«6+» - для детей старше 6 лет</td>\n",
       "      <td>60000000.00</td>\n",
       "      <td>100000000.00</td>\n",
       "      <td>0.00</td>\n",
       "      <td>Фонд кино</td>\n",
       "      <td>4.60</td>\n",
       "      <td>мультфильм,приключения,фэнтези</td>\n",
       "      <td>184487551.40</td>\n",
       "    </tr>\n",
       "    <tr>\n",
       "      <th>2683</th>\n",
       "      <td>Тряпичный союз</td>\n",
       "      <td>111010215</td>\n",
       "      <td>2015-06-08 12:00:00+00:00</td>\n",
       "      <td>Художественный</td>\n",
       "      <td>ООО \"Кинокомпания \"КОКТЕБЕЛЬ\"</td>\n",
       "      <td>Россия</td>\n",
       "      <td>М.Местецкий</td>\n",
       "      <td>Р.Борисевич, А.Кушаев</td>\n",
       "      <td>«18+» - запрещено для детей</td>\n",
       "      <td>0.00</td>\n",
       "      <td>59000000.00</td>\n",
       "      <td>0.00</td>\n",
       "      <td>Фонд кино</td>\n",
       "      <td>6.30</td>\n",
       "      <td>комедия,драма</td>\n",
       "      <td>1957738.51</td>\n",
       "    </tr>\n",
       "    <tr>\n",
       "      <th>2787</th>\n",
       "      <td>Срочно выйду замуж</td>\n",
       "      <td>111017115</td>\n",
       "      <td>2015-09-30 12:00:00+00:00</td>\n",
       "      <td>Художественный</td>\n",
       "      <td>АО \"ВайТ Медиа\", ООО \"Арт Пикчерс Студия\"</td>\n",
       "      <td>Россия</td>\n",
       "      <td>С Чекалов</td>\n",
       "      <td>Ф.Бондарчук, Т.Вайнштейн, Д.Рудовский</td>\n",
       "      <td>«16+» - для детей старше 16 лет</td>\n",
       "      <td>0.00</td>\n",
       "      <td>35000000.00</td>\n",
       "      <td>0.00</td>\n",
       "      <td>Фонд кино</td>\n",
       "      <td>5.10</td>\n",
       "      <td>комедия,мелодрама</td>\n",
       "      <td>72937783.20</td>\n",
       "    </tr>\n",
       "    <tr>\n",
       "      <th>2873</th>\n",
       "      <td>Помню - не помню!</td>\n",
       "      <td>111004916</td>\n",
       "      <td>2016-03-01 12:00:00+00:00</td>\n",
       "      <td>Художественный</td>\n",
       "      <td>ООО \"КиноФирма\"</td>\n",
       "      <td>Россия</td>\n",
       "      <td>В.Ровенский</td>\n",
       "      <td>ООО \"КиноФирма\"</td>\n",
       "      <td>«12+» - для детей старше 12 лет</td>\n",
       "      <td>0.00</td>\n",
       "      <td>6000000.00</td>\n",
       "      <td>0.00</td>\n",
       "      <td>Министерство культуры</td>\n",
       "      <td>4.30</td>\n",
       "      <td>комедия</td>\n",
       "      <td>15362931.43</td>\n",
       "    </tr>\n",
       "    <tr>\n",
       "      <th>3046</th>\n",
       "      <td>Любовь с ограничениями</td>\n",
       "      <td>111008216</td>\n",
       "      <td>2016-04-29 12:00:00+00:00</td>\n",
       "      <td>Художественный</td>\n",
       "      <td>АО \"ВайТ Медиа\", ООО \"Арт Пикчерс Студия\"</td>\n",
       "      <td>Россия</td>\n",
       "      <td>Д.Тюрин</td>\n",
       "      <td>Ф.Бондарчук, Т.Вайнштейн, Д.Рудовский</td>\n",
       "      <td>«16+» - для детей старше 16 лет</td>\n",
       "      <td>19000000.00</td>\n",
       "      <td>51000000.00</td>\n",
       "      <td>0.00</td>\n",
       "      <td>Фонд кино</td>\n",
       "      <td>6.30</td>\n",
       "      <td>комедия,мелодрама</td>\n",
       "      <td>70299052.00</td>\n",
       "    </tr>\n",
       "    <tr>\n",
       "      <th>3564</th>\n",
       "      <td>Притяжение (2016)</td>\n",
       "      <td>111018116</td>\n",
       "      <td>2016-12-16 12:00:00+00:00</td>\n",
       "      <td>Художественный</td>\n",
       "      <td>ООО \"Водород 2011\",  ООО \"Арт Пикчерс Студия\"</td>\n",
       "      <td>Россия</td>\n",
       "      <td>Ф.Бондарчук</td>\n",
       "      <td>ООО \"Арт Пикчерс Студия\"</td>\n",
       "      <td>«12+» - для детей старше 12 лет</td>\n",
       "      <td>0.00</td>\n",
       "      <td>250000000.00</td>\n",
       "      <td>0.00</td>\n",
       "      <td>Фонд кино</td>\n",
       "      <td>5.60</td>\n",
       "      <td>фантастика</td>\n",
       "      <td>1038321489.00</td>\n",
       "    </tr>\n",
       "    <tr>\n",
       "      <th>3674</th>\n",
       "      <td>Чудо-юдо</td>\n",
       "      <td>114001817</td>\n",
       "      <td>2017-06-27 12:00:00+00:00</td>\n",
       "      <td>Анимационный</td>\n",
       "      <td>ООО \"КиноФирма\"</td>\n",
       "      <td>Россия</td>\n",
       "      <td>А.Лукичев</td>\n",
       "      <td>ООО \"КиноФирма\"</td>\n",
       "      <td>«6+» - для детей старше 6 лет</td>\n",
       "      <td>20000000.00</td>\n",
       "      <td>20000000.00</td>\n",
       "      <td>0.00</td>\n",
       "      <td>Фонд кино</td>\n",
       "      <td>5.20</td>\n",
       "      <td>мультфильм,фэнтези,семейный</td>\n",
       "      <td>55108014.76</td>\n",
       "    </tr>\n",
       "    <tr>\n",
       "      <th>3738</th>\n",
       "      <td>Мифы</td>\n",
       "      <td>111004317</td>\n",
       "      <td>2017-06-07 12:00:00+00:00</td>\n",
       "      <td>Художественный</td>\n",
       "      <td>ООО \"ХАЙПФИЛМ\", ООО \"Арт Пикчерс Студия\"</td>\n",
       "      <td>Россия</td>\n",
       "      <td>А.Молочников</td>\n",
       "      <td>Ф.Бондарчук, Д.Рудовский, И.Стюарт, М.Османн, ...</td>\n",
       "      <td>«16+» - для детей старше 16 лет</td>\n",
       "      <td>25000000.00</td>\n",
       "      <td>20000000.00</td>\n",
       "      <td>0.00</td>\n",
       "      <td>Фонд кино</td>\n",
       "      <td>4.80</td>\n",
       "      <td>комедия</td>\n",
       "      <td>50451949.00</td>\n",
       "    </tr>\n",
       "    <tr>\n",
       "      <th>5672</th>\n",
       "      <td>Селфи</td>\n",
       "      <td>111012117</td>\n",
       "      <td>2018-02-01 12:00:00+00:00</td>\n",
       "      <td>Художественный</td>\n",
       "      <td>ООО \"Киностудия \"Слово\", ООО \"Арт Пикчерс Студия\"</td>\n",
       "      <td>Россия</td>\n",
       "      <td>Н.Хомерики</td>\n",
       "      <td>П.Ануров, Ф.Бондарчук, Д.Рудовский</td>\n",
       "      <td>«16+» - для детей старше 16 лет</td>\n",
       "      <td>20000000.00</td>\n",
       "      <td>40000000.00</td>\n",
       "      <td>0.00</td>\n",
       "      <td>Фонд кино</td>\n",
       "      <td>5.80</td>\n",
       "      <td>триллер,драма</td>\n",
       "      <td>225196400.03</td>\n",
       "    </tr>\n",
       "    <tr>\n",
       "      <th>5805</th>\n",
       "      <td>Два хвоста</td>\n",
       "      <td>114001018</td>\n",
       "      <td>2018-05-31 12:00:00+00:00</td>\n",
       "      <td>Анимационный</td>\n",
       "      <td>ООО \"ЛИЦЕНЗИОННЫЕ БРЕНДЫ\"</td>\n",
       "      <td>Россия</td>\n",
       "      <td>В.Ровенский, Н.Лопато, В.Азеев</td>\n",
       "      <td>ООО \"ЛИЦЕНЗИОННЫЕ БРЕНДЫ\"</td>\n",
       "      <td>«6+» - для детей старше 6 лет</td>\n",
       "      <td>10000000.00</td>\n",
       "      <td>60000000.00</td>\n",
       "      <td>0.00</td>\n",
       "      <td>Фонд кино</td>\n",
       "      <td>5.00</td>\n",
       "      <td>мультфильм,детский</td>\n",
       "      <td>106514301.03</td>\n",
       "    </tr>\n",
       "    <tr>\n",
       "      <th>6007</th>\n",
       "      <td>Принцесса и дракон</td>\n",
       "      <td>114003018</td>\n",
       "      <td>2018-08-23 12:00:00+00:00</td>\n",
       "      <td>Анимационный</td>\n",
       "      <td>ООО \"ЛИЦЕНЗИОННЫЕ БРЕНДЫ\"</td>\n",
       "      <td>Россия</td>\n",
       "      <td>М.Нефедова</td>\n",
       "      <td>ООО \"ЛИЦЕНЗИОННЫЕ БРЕНДЫ\"</td>\n",
       "      <td>«6+» - для детей старше 6 лет</td>\n",
       "      <td>40000000.00</td>\n",
       "      <td>40000000.00</td>\n",
       "      <td>0.00</td>\n",
       "      <td>Фонд кино</td>\n",
       "      <td>5.20</td>\n",
       "      <td>мультфильм,фэнтези,детский</td>\n",
       "      <td>83366328.66</td>\n",
       "    </tr>\n",
       "    <tr>\n",
       "      <th>6322</th>\n",
       "      <td>Баба Яга</td>\n",
       "      <td>114006518</td>\n",
       "      <td>2018-11-08 12:00:00+00:00</td>\n",
       "      <td>Анимационный</td>\n",
       "      <td>ООО \"Арт Пикчерс Студия\"</td>\n",
       "      <td>Россия</td>\n",
       "      <td>В.Саков</td>\n",
       "      <td>ООО \"Арт Пикчерс Студия\", ООО \"КРИЭЙТИВ АНИМЭЙ...</td>\n",
       "      <td>«6+» - для детей старше 6 лет</td>\n",
       "      <td>0.00</td>\n",
       "      <td>138969465.00</td>\n",
       "      <td>0.00</td>\n",
       "      <td>Фонд кино</td>\n",
       "      <td>0.00</td>\n",
       "      <td>жанр не определен</td>\n",
       "      <td>1334699.40</td>\n",
       "    </tr>\n",
       "    <tr>\n",
       "      <th>6822</th>\n",
       "      <td>Большое путешествие</td>\n",
       "      <td>114002419</td>\n",
       "      <td>2019-04-20 12:00:00+00:00</td>\n",
       "      <td>Анимационный</td>\n",
       "      <td>ООО \"ЛИЦЕНЗИОННЫЕ БРЕНДЫ\"</td>\n",
       "      <td>Россия</td>\n",
       "      <td>Н.Лопато, В.Ровенский</td>\n",
       "      <td>ООО \"ЛИЦЕНЗИОННЫЕ БРЕНДЫ\"</td>\n",
       "      <td>«6+» - для детей старше 6 лет</td>\n",
       "      <td>60000000.00</td>\n",
       "      <td>120000000.00</td>\n",
       "      <td>0.00</td>\n",
       "      <td>Фонд кино</td>\n",
       "      <td>6.20</td>\n",
       "      <td>мультфильм,комедия,приключения</td>\n",
       "      <td>147606826.51</td>\n",
       "    </tr>\n",
       "  </tbody>\n",
       "</table>\n",
       "</div>"
      ],
      "text/plain": [
       "                       title  pu_number           show_start_date  \\\n",
       "2052                     14+  111023614 2014-12-19 12:00:00+00:00   \n",
       "2057               Дуxless 2  111000415 2015-01-26 12:00:00+00:00   \n",
       "2471             Воин (2015)  111017315 2015-09-28 12:00:00+00:00   \n",
       "2531                 Бармен.  111009615 2015-05-26 12:00:00+00:00   \n",
       "2614     Савва. Сердце воина  114001715 2015-07-21 12:00:00+00:00   \n",
       "2683          Тряпичный союз  111010215 2015-06-08 12:00:00+00:00   \n",
       "2787      Срочно выйду замуж  111017115 2015-09-30 12:00:00+00:00   \n",
       "2873       Помню - не помню!  111004916 2016-03-01 12:00:00+00:00   \n",
       "3046  Любовь с ограничениями  111008216 2016-04-29 12:00:00+00:00   \n",
       "3564       Притяжение (2016)  111018116 2016-12-16 12:00:00+00:00   \n",
       "3674                Чудо-юдо  114001817 2017-06-27 12:00:00+00:00   \n",
       "3738                    Мифы  111004317 2017-06-07 12:00:00+00:00   \n",
       "5672                   Селфи  111012117 2018-02-01 12:00:00+00:00   \n",
       "5805              Два хвоста  114001018 2018-05-31 12:00:00+00:00   \n",
       "6007      Принцесса и дракон  114003018 2018-08-23 12:00:00+00:00   \n",
       "6322                Баба Яга  114006518 2018-11-08 12:00:00+00:00   \n",
       "6822     Большое путешествие  114002419 2019-04-20 12:00:00+00:00   \n",
       "\n",
       "                type                                        film_studio  \\\n",
       "2052  Художественный                         ООО Киностудия  \"Сентябрь\"   \n",
       "2057  Художественный  ООО \"Киностудия \"Слово\", ООО \"Арт Пикчерс Студия\"   \n",
       "2471  Художественный   ООО \"Форпост Продакшн\", ООО \"Арт Пикчерс Студия\"   \n",
       "2531  Художественный          АО \"ВайТ Медиа\", ООО \"Арт Пикчерс Студия\"   \n",
       "2614    Анимационный   ООО \"Глюкоза Продакшн\", ООО \"Арт Пикчерс Студия\"   \n",
       "2683  Художественный                      ООО \"Кинокомпания \"КОКТЕБЕЛЬ\"   \n",
       "2787  Художественный          АО \"ВайТ Медиа\", ООО \"Арт Пикчерс Студия\"   \n",
       "2873  Художественный                                    ООО \"КиноФирма\"   \n",
       "3046  Художественный          АО \"ВайТ Медиа\", ООО \"Арт Пикчерс Студия\"   \n",
       "3564  Художественный      ООО \"Водород 2011\",  ООО \"Арт Пикчерс Студия\"   \n",
       "3674    Анимационный                                    ООО \"КиноФирма\"   \n",
       "3738  Художественный           ООО \"ХАЙПФИЛМ\", ООО \"Арт Пикчерс Студия\"   \n",
       "5672  Художественный  ООО \"Киностудия \"Слово\", ООО \"Арт Пикчерс Студия\"   \n",
       "5805    Анимационный                          ООО \"ЛИЦЕНЗИОННЫЕ БРЕНДЫ\"   \n",
       "6007    Анимационный                          ООО \"ЛИЦЕНЗИОННЫЕ БРЕНДЫ\"   \n",
       "6322    Анимационный                           ООО \"Арт Пикчерс Студия\"   \n",
       "6822    Анимационный                          ООО \"ЛИЦЕНЗИОННЫЕ БРЕНДЫ\"   \n",
       "\n",
       "     production_country                        director  \\\n",
       "2052             Россия                        А.Зайцев   \n",
       "2057             Россия                      Р.Прыгунов   \n",
       "2471             Россия                     А.Андрианов   \n",
       "2531             Россия                    Д.Штурманова   \n",
       "2614             Россия                        М.Фадеев   \n",
       "2683             Россия                     М.Местецкий   \n",
       "2787             Россия                       С Чекалов   \n",
       "2873             Россия                     В.Ровенский   \n",
       "3046             Россия                         Д.Тюрин   \n",
       "3564             Россия                     Ф.Бондарчук   \n",
       "3674             Россия                       А.Лукичев   \n",
       "3738             Россия                    А.Молочников   \n",
       "5672             Россия                      Н.Хомерики   \n",
       "5805             Россия  В.Ровенский, Н.Лопато, В.Азеев   \n",
       "6007             Россия                      М.Нефедова   \n",
       "6322             Россия                         В.Саков   \n",
       "6822             Россия           Н.Лопато, В.Ровенский   \n",
       "\n",
       "                                               producer  \\\n",
       "2052                                О.Гранина, А.Зайцев   \n",
       "2057                 П.Ануров, Ф.Бондарчук, Д.Рудовский   \n",
       "2471                           ООО \"Арт Пикчерс Студия\"   \n",
       "2531                                        Т.Вайнштейн   \n",
       "2614                                         А.Чистяков   \n",
       "2683                              Р.Борисевич, А.Кушаев   \n",
       "2787              Ф.Бондарчук, Т.Вайнштейн, Д.Рудовский   \n",
       "2873                                    ООО \"КиноФирма\"   \n",
       "3046              Ф.Бондарчук, Т.Вайнштейн, Д.Рудовский   \n",
       "3564                           ООО \"Арт Пикчерс Студия\"   \n",
       "3674                                    ООО \"КиноФирма\"   \n",
       "3738  Ф.Бондарчук, Д.Рудовский, И.Стюарт, М.Османн, ...   \n",
       "5672                 П.Ануров, Ф.Бондарчук, Д.Рудовский   \n",
       "5805                          ООО \"ЛИЦЕНЗИОННЫЕ БРЕНДЫ\"   \n",
       "6007                          ООО \"ЛИЦЕНЗИОННЫЕ БРЕНДЫ\"   \n",
       "6322  ООО \"Арт Пикчерс Студия\", ООО \"КРИЭЙТИВ АНИМЭЙ...   \n",
       "6822                          ООО \"ЛИЦЕНЗИОННЫЕ БРЕНДЫ\"   \n",
       "\n",
       "                      age_restriction  refundable_support  \\\n",
       "2052  «16+» - для детей старше 16 лет                0.00   \n",
       "2057  «16+» - для детей старше 16 лет                0.00   \n",
       "2471  «12+» - для детей старше 12 лет         10000000.00   \n",
       "2531  «16+» - для детей старше 16 лет         20000000.00   \n",
       "2614    «6+» - для детей старше 6 лет         60000000.00   \n",
       "2683      «18+» - запрещено для детей                0.00   \n",
       "2787  «16+» - для детей старше 16 лет                0.00   \n",
       "2873  «12+» - для детей старше 12 лет                0.00   \n",
       "3046  «16+» - для детей старше 16 лет         19000000.00   \n",
       "3564  «12+» - для детей старше 12 лет                0.00   \n",
       "3674    «6+» - для детей старше 6 лет         20000000.00   \n",
       "3738  «16+» - для детей старше 16 лет         25000000.00   \n",
       "5672  «16+» - для детей старше 16 лет         20000000.00   \n",
       "5805    «6+» - для детей старше 6 лет         10000000.00   \n",
       "6007    «6+» - для детей старше 6 лет         40000000.00   \n",
       "6322    «6+» - для детей старше 6 лет                0.00   \n",
       "6822    «6+» - для детей старше 6 лет         60000000.00   \n",
       "\n",
       "      nonrefundable_support  budget                  financing_source  \\\n",
       "2052            23000000.00    0.00  Министерство культуры, Фонд кино   \n",
       "2057            75000000.00    0.00                         Фонд кино   \n",
       "2471            70000000.00    0.00                         Фонд кино   \n",
       "2531                   0.00    0.00                         Фонд кино   \n",
       "2614           100000000.00    0.00                         Фонд кино   \n",
       "2683            59000000.00    0.00                         Фонд кино   \n",
       "2787            35000000.00    0.00                         Фонд кино   \n",
       "2873             6000000.00    0.00             Министерство культуры   \n",
       "3046            51000000.00    0.00                         Фонд кино   \n",
       "3564           250000000.00    0.00                         Фонд кино   \n",
       "3674            20000000.00    0.00                         Фонд кино   \n",
       "3738            20000000.00    0.00                         Фонд кино   \n",
       "5672            40000000.00    0.00                         Фонд кино   \n",
       "5805            60000000.00    0.00                         Фонд кино   \n",
       "6007            40000000.00    0.00                         Фонд кино   \n",
       "6322           138969465.00    0.00                         Фонд кино   \n",
       "6822           120000000.00    0.00                         Фонд кино   \n",
       "\n",
       "      ratings                          genres    box_office  \n",
       "2052     6.60                       мелодрама   10234016.10  \n",
       "2057     6.60                           драма  446163511.00  \n",
       "2471     7.80           боевик,драма,криминал  196572438.40  \n",
       "2531     6.20                 комедия,фэнтези   67418974.80  \n",
       "2614     4.60  мультфильм,приключения,фэнтези  184487551.40  \n",
       "2683     6.30                   комедия,драма    1957738.51  \n",
       "2787     5.10               комедия,мелодрама   72937783.20  \n",
       "2873     4.30                         комедия   15362931.43  \n",
       "3046     6.30               комедия,мелодрама   70299052.00  \n",
       "3564     5.60                      фантастика 1038321489.00  \n",
       "3674     5.20     мультфильм,фэнтези,семейный   55108014.76  \n",
       "3738     4.80                         комедия   50451949.00  \n",
       "5672     5.80                   триллер,драма  225196400.03  \n",
       "5805     5.00              мультфильм,детский  106514301.03  \n",
       "6007     5.20      мультфильм,фэнтези,детский   83366328.66  \n",
       "6322     0.00               жанр не определен    1334699.40  \n",
       "6822     6.20  мультфильм,комедия,приключения  147606826.51  "
      ]
     },
     "execution_count": 62,
     "metadata": {},
     "output_type": "execute_result"
    }
   ],
   "source": [
    "few_budget = data[data['budget'] < (data['refundable_support'] + data['nonrefundable_support'])]\n",
    "few_budget"
   ]
  },
  {
   "cell_type": "markdown",
   "metadata": {},
   "source": [
    "Некоторые фильмы получили господдержку, но при этом в бюджете указан 0. Определим обычный объем господдержки. Предположим, что процент поддержки всегда примерно одинаков и мы можем заменить эту сумму медианным процентом от поддержки."
   ]
  },
  {
   "cell_type": "markdown",
   "metadata": {},
   "source": [
    "Найдем медиану по тем суммам, которые выделялись другим фильмам, определим процент государственной поддержки."
   ]
  },
  {
   "cell_type": "code",
   "execution_count": 63,
   "metadata": {},
   "outputs": [
    {
     "data": {
      "text/plain": [
       "61.0"
      ]
     },
     "execution_count": 63,
     "metadata": {},
     "output_type": "execute_result"
    }
   ],
   "source": [
    "budget_median  = round(data.eval('(refundable_support + nonrefundable_support) / budget').median(), 2)\n",
    "budget_median * 100"
   ]
  },
  {
   "cell_type": "markdown",
   "metadata": {},
   "source": [
    "Процент государственной поддержки обычно равен 61%. Заполним пропущенные значения в столбце 'budget'"
   ]
  },
  {
   "cell_type": "code",
   "execution_count": 64,
   "metadata": {
    "scrolled": false
   },
   "outputs": [
    {
     "data": {
      "text/html": [
       "<div>\n",
       "<style scoped>\n",
       "    .dataframe tbody tr th:only-of-type {\n",
       "        vertical-align: middle;\n",
       "    }\n",
       "\n",
       "    .dataframe tbody tr th {\n",
       "        vertical-align: top;\n",
       "    }\n",
       "\n",
       "    .dataframe thead th {\n",
       "        text-align: right;\n",
       "    }\n",
       "</style>\n",
       "<table border=\"1\" class=\"dataframe\">\n",
       "  <thead>\n",
       "    <tr style=\"text-align: right;\">\n",
       "      <th></th>\n",
       "      <th>title</th>\n",
       "      <th>pu_number</th>\n",
       "      <th>show_start_date</th>\n",
       "      <th>type</th>\n",
       "      <th>film_studio</th>\n",
       "      <th>production_country</th>\n",
       "      <th>director</th>\n",
       "      <th>producer</th>\n",
       "      <th>age_restriction</th>\n",
       "      <th>refundable_support</th>\n",
       "      <th>nonrefundable_support</th>\n",
       "      <th>budget</th>\n",
       "      <th>financing_source</th>\n",
       "      <th>ratings</th>\n",
       "      <th>genres</th>\n",
       "      <th>box_office</th>\n",
       "    </tr>\n",
       "  </thead>\n",
       "  <tbody>\n",
       "    <tr>\n",
       "      <th>2052</th>\n",
       "      <td>14+</td>\n",
       "      <td>111023614</td>\n",
       "      <td>2014-12-19 12:00:00+00:00</td>\n",
       "      <td>Художественный</td>\n",
       "      <td>ООО Киностудия  \"Сентябрь\"</td>\n",
       "      <td>Россия</td>\n",
       "      <td>А.Зайцев</td>\n",
       "      <td>О.Гранина, А.Зайцев</td>\n",
       "      <td>«16+» - для детей старше 16 лет</td>\n",
       "      <td>0.00</td>\n",
       "      <td>23000000.00</td>\n",
       "      <td>37704918.03</td>\n",
       "      <td>Министерство культуры, Фонд кино</td>\n",
       "      <td>6.60</td>\n",
       "      <td>мелодрама</td>\n",
       "      <td>10234016.10</td>\n",
       "    </tr>\n",
       "    <tr>\n",
       "      <th>2057</th>\n",
       "      <td>Дуxless 2</td>\n",
       "      <td>111000415</td>\n",
       "      <td>2015-01-26 12:00:00+00:00</td>\n",
       "      <td>Художественный</td>\n",
       "      <td>ООО \"Киностудия \"Слово\", ООО \"Арт Пикчерс Студия\"</td>\n",
       "      <td>Россия</td>\n",
       "      <td>Р.Прыгунов</td>\n",
       "      <td>П.Ануров, Ф.Бондарчук, Д.Рудовский</td>\n",
       "      <td>«16+» - для детей старше 16 лет</td>\n",
       "      <td>0.00</td>\n",
       "      <td>75000000.00</td>\n",
       "      <td>122950819.67</td>\n",
       "      <td>Фонд кино</td>\n",
       "      <td>6.60</td>\n",
       "      <td>драма</td>\n",
       "      <td>446163511.00</td>\n",
       "    </tr>\n",
       "    <tr>\n",
       "      <th>2471</th>\n",
       "      <td>Воин (2015)</td>\n",
       "      <td>111017315</td>\n",
       "      <td>2015-09-28 12:00:00+00:00</td>\n",
       "      <td>Художественный</td>\n",
       "      <td>ООО \"Форпост Продакшн\", ООО \"Арт Пикчерс Студия\"</td>\n",
       "      <td>Россия</td>\n",
       "      <td>А.Андрианов</td>\n",
       "      <td>ООО \"Арт Пикчерс Студия\"</td>\n",
       "      <td>«12+» - для детей старше 12 лет</td>\n",
       "      <td>10000000.00</td>\n",
       "      <td>70000000.00</td>\n",
       "      <td>131147540.98</td>\n",
       "      <td>Фонд кино</td>\n",
       "      <td>7.80</td>\n",
       "      <td>боевик,драма,криминал</td>\n",
       "      <td>196572438.40</td>\n",
       "    </tr>\n",
       "    <tr>\n",
       "      <th>2531</th>\n",
       "      <td>Бармен.</td>\n",
       "      <td>111009615</td>\n",
       "      <td>2015-05-26 12:00:00+00:00</td>\n",
       "      <td>Художественный</td>\n",
       "      <td>АО \"ВайТ Медиа\", ООО \"Арт Пикчерс Студия\"</td>\n",
       "      <td>Россия</td>\n",
       "      <td>Д.Штурманова</td>\n",
       "      <td>Т.Вайнштейн</td>\n",
       "      <td>«16+» - для детей старше 16 лет</td>\n",
       "      <td>20000000.00</td>\n",
       "      <td>0.00</td>\n",
       "      <td>32786885.25</td>\n",
       "      <td>Фонд кино</td>\n",
       "      <td>6.20</td>\n",
       "      <td>комедия,фэнтези</td>\n",
       "      <td>67418974.80</td>\n",
       "    </tr>\n",
       "    <tr>\n",
       "      <th>2614</th>\n",
       "      <td>Савва. Сердце воина</td>\n",
       "      <td>114001715</td>\n",
       "      <td>2015-07-21 12:00:00+00:00</td>\n",
       "      <td>Анимационный</td>\n",
       "      <td>ООО \"Глюкоза Продакшн\", ООО \"Арт Пикчерс Студия\"</td>\n",
       "      <td>Россия</td>\n",
       "      <td>М.Фадеев</td>\n",
       "      <td>А.Чистяков</td>\n",
       "      <td>«6+» - для детей старше 6 лет</td>\n",
       "      <td>60000000.00</td>\n",
       "      <td>100000000.00</td>\n",
       "      <td>262295081.97</td>\n",
       "      <td>Фонд кино</td>\n",
       "      <td>4.60</td>\n",
       "      <td>мультфильм,приключения,фэнтези</td>\n",
       "      <td>184487551.40</td>\n",
       "    </tr>\n",
       "    <tr>\n",
       "      <th>2683</th>\n",
       "      <td>Тряпичный союз</td>\n",
       "      <td>111010215</td>\n",
       "      <td>2015-06-08 12:00:00+00:00</td>\n",
       "      <td>Художественный</td>\n",
       "      <td>ООО \"Кинокомпания \"КОКТЕБЕЛЬ\"</td>\n",
       "      <td>Россия</td>\n",
       "      <td>М.Местецкий</td>\n",
       "      <td>Р.Борисевич, А.Кушаев</td>\n",
       "      <td>«18+» - запрещено для детей</td>\n",
       "      <td>0.00</td>\n",
       "      <td>59000000.00</td>\n",
       "      <td>96721311.48</td>\n",
       "      <td>Фонд кино</td>\n",
       "      <td>6.30</td>\n",
       "      <td>комедия,драма</td>\n",
       "      <td>1957738.51</td>\n",
       "    </tr>\n",
       "    <tr>\n",
       "      <th>2787</th>\n",
       "      <td>Срочно выйду замуж</td>\n",
       "      <td>111017115</td>\n",
       "      <td>2015-09-30 12:00:00+00:00</td>\n",
       "      <td>Художественный</td>\n",
       "      <td>АО \"ВайТ Медиа\", ООО \"Арт Пикчерс Студия\"</td>\n",
       "      <td>Россия</td>\n",
       "      <td>С Чекалов</td>\n",
       "      <td>Ф.Бондарчук, Т.Вайнштейн, Д.Рудовский</td>\n",
       "      <td>«16+» - для детей старше 16 лет</td>\n",
       "      <td>0.00</td>\n",
       "      <td>35000000.00</td>\n",
       "      <td>57377049.18</td>\n",
       "      <td>Фонд кино</td>\n",
       "      <td>5.10</td>\n",
       "      <td>комедия,мелодрама</td>\n",
       "      <td>72937783.20</td>\n",
       "    </tr>\n",
       "    <tr>\n",
       "      <th>2873</th>\n",
       "      <td>Помню - не помню!</td>\n",
       "      <td>111004916</td>\n",
       "      <td>2016-03-01 12:00:00+00:00</td>\n",
       "      <td>Художественный</td>\n",
       "      <td>ООО \"КиноФирма\"</td>\n",
       "      <td>Россия</td>\n",
       "      <td>В.Ровенский</td>\n",
       "      <td>ООО \"КиноФирма\"</td>\n",
       "      <td>«12+» - для детей старше 12 лет</td>\n",
       "      <td>0.00</td>\n",
       "      <td>6000000.00</td>\n",
       "      <td>9836065.57</td>\n",
       "      <td>Министерство культуры</td>\n",
       "      <td>4.30</td>\n",
       "      <td>комедия</td>\n",
       "      <td>15362931.43</td>\n",
       "    </tr>\n",
       "    <tr>\n",
       "      <th>3046</th>\n",
       "      <td>Любовь с ограничениями</td>\n",
       "      <td>111008216</td>\n",
       "      <td>2016-04-29 12:00:00+00:00</td>\n",
       "      <td>Художественный</td>\n",
       "      <td>АО \"ВайТ Медиа\", ООО \"Арт Пикчерс Студия\"</td>\n",
       "      <td>Россия</td>\n",
       "      <td>Д.Тюрин</td>\n",
       "      <td>Ф.Бондарчук, Т.Вайнштейн, Д.Рудовский</td>\n",
       "      <td>«16+» - для детей старше 16 лет</td>\n",
       "      <td>19000000.00</td>\n",
       "      <td>51000000.00</td>\n",
       "      <td>114754098.36</td>\n",
       "      <td>Фонд кино</td>\n",
       "      <td>6.30</td>\n",
       "      <td>комедия,мелодрама</td>\n",
       "      <td>70299052.00</td>\n",
       "    </tr>\n",
       "    <tr>\n",
       "      <th>3564</th>\n",
       "      <td>Притяжение (2016)</td>\n",
       "      <td>111018116</td>\n",
       "      <td>2016-12-16 12:00:00+00:00</td>\n",
       "      <td>Художественный</td>\n",
       "      <td>ООО \"Водород 2011\",  ООО \"Арт Пикчерс Студия\"</td>\n",
       "      <td>Россия</td>\n",
       "      <td>Ф.Бондарчук</td>\n",
       "      <td>ООО \"Арт Пикчерс Студия\"</td>\n",
       "      <td>«12+» - для детей старше 12 лет</td>\n",
       "      <td>0.00</td>\n",
       "      <td>250000000.00</td>\n",
       "      <td>409836065.57</td>\n",
       "      <td>Фонд кино</td>\n",
       "      <td>5.60</td>\n",
       "      <td>фантастика</td>\n",
       "      <td>1038321489.00</td>\n",
       "    </tr>\n",
       "    <tr>\n",
       "      <th>3674</th>\n",
       "      <td>Чудо-юдо</td>\n",
       "      <td>114001817</td>\n",
       "      <td>2017-06-27 12:00:00+00:00</td>\n",
       "      <td>Анимационный</td>\n",
       "      <td>ООО \"КиноФирма\"</td>\n",
       "      <td>Россия</td>\n",
       "      <td>А.Лукичев</td>\n",
       "      <td>ООО \"КиноФирма\"</td>\n",
       "      <td>«6+» - для детей старше 6 лет</td>\n",
       "      <td>20000000.00</td>\n",
       "      <td>20000000.00</td>\n",
       "      <td>65573770.49</td>\n",
       "      <td>Фонд кино</td>\n",
       "      <td>5.20</td>\n",
       "      <td>мультфильм,фэнтези,семейный</td>\n",
       "      <td>55108014.76</td>\n",
       "    </tr>\n",
       "    <tr>\n",
       "      <th>3738</th>\n",
       "      <td>Мифы</td>\n",
       "      <td>111004317</td>\n",
       "      <td>2017-06-07 12:00:00+00:00</td>\n",
       "      <td>Художественный</td>\n",
       "      <td>ООО \"ХАЙПФИЛМ\", ООО \"Арт Пикчерс Студия\"</td>\n",
       "      <td>Россия</td>\n",
       "      <td>А.Молочников</td>\n",
       "      <td>Ф.Бондарчук, Д.Рудовский, И.Стюарт, М.Османн, ...</td>\n",
       "      <td>«16+» - для детей старше 16 лет</td>\n",
       "      <td>25000000.00</td>\n",
       "      <td>20000000.00</td>\n",
       "      <td>73770491.80</td>\n",
       "      <td>Фонд кино</td>\n",
       "      <td>4.80</td>\n",
       "      <td>комедия</td>\n",
       "      <td>50451949.00</td>\n",
       "    </tr>\n",
       "    <tr>\n",
       "      <th>5672</th>\n",
       "      <td>Селфи</td>\n",
       "      <td>111012117</td>\n",
       "      <td>2018-02-01 12:00:00+00:00</td>\n",
       "      <td>Художественный</td>\n",
       "      <td>ООО \"Киностудия \"Слово\", ООО \"Арт Пикчерс Студия\"</td>\n",
       "      <td>Россия</td>\n",
       "      <td>Н.Хомерики</td>\n",
       "      <td>П.Ануров, Ф.Бондарчук, Д.Рудовский</td>\n",
       "      <td>«16+» - для детей старше 16 лет</td>\n",
       "      <td>20000000.00</td>\n",
       "      <td>40000000.00</td>\n",
       "      <td>98360655.74</td>\n",
       "      <td>Фонд кино</td>\n",
       "      <td>5.80</td>\n",
       "      <td>триллер,драма</td>\n",
       "      <td>225196400.03</td>\n",
       "    </tr>\n",
       "    <tr>\n",
       "      <th>5805</th>\n",
       "      <td>Два хвоста</td>\n",
       "      <td>114001018</td>\n",
       "      <td>2018-05-31 12:00:00+00:00</td>\n",
       "      <td>Анимационный</td>\n",
       "      <td>ООО \"ЛИЦЕНЗИОННЫЕ БРЕНДЫ\"</td>\n",
       "      <td>Россия</td>\n",
       "      <td>В.Ровенский, Н.Лопато, В.Азеев</td>\n",
       "      <td>ООО \"ЛИЦЕНЗИОННЫЕ БРЕНДЫ\"</td>\n",
       "      <td>«6+» - для детей старше 6 лет</td>\n",
       "      <td>10000000.00</td>\n",
       "      <td>60000000.00</td>\n",
       "      <td>114754098.36</td>\n",
       "      <td>Фонд кино</td>\n",
       "      <td>5.00</td>\n",
       "      <td>мультфильм,детский</td>\n",
       "      <td>106514301.03</td>\n",
       "    </tr>\n",
       "    <tr>\n",
       "      <th>6007</th>\n",
       "      <td>Принцесса и дракон</td>\n",
       "      <td>114003018</td>\n",
       "      <td>2018-08-23 12:00:00+00:00</td>\n",
       "      <td>Анимационный</td>\n",
       "      <td>ООО \"ЛИЦЕНЗИОННЫЕ БРЕНДЫ\"</td>\n",
       "      <td>Россия</td>\n",
       "      <td>М.Нефедова</td>\n",
       "      <td>ООО \"ЛИЦЕНЗИОННЫЕ БРЕНДЫ\"</td>\n",
       "      <td>«6+» - для детей старше 6 лет</td>\n",
       "      <td>40000000.00</td>\n",
       "      <td>40000000.00</td>\n",
       "      <td>131147540.98</td>\n",
       "      <td>Фонд кино</td>\n",
       "      <td>5.20</td>\n",
       "      <td>мультфильм,фэнтези,детский</td>\n",
       "      <td>83366328.66</td>\n",
       "    </tr>\n",
       "    <tr>\n",
       "      <th>6322</th>\n",
       "      <td>Баба Яга</td>\n",
       "      <td>114006518</td>\n",
       "      <td>2018-11-08 12:00:00+00:00</td>\n",
       "      <td>Анимационный</td>\n",
       "      <td>ООО \"Арт Пикчерс Студия\"</td>\n",
       "      <td>Россия</td>\n",
       "      <td>В.Саков</td>\n",
       "      <td>ООО \"Арт Пикчерс Студия\", ООО \"КРИЭЙТИВ АНИМЭЙ...</td>\n",
       "      <td>«6+» - для детей старше 6 лет</td>\n",
       "      <td>0.00</td>\n",
       "      <td>138969465.00</td>\n",
       "      <td>227818795.08</td>\n",
       "      <td>Фонд кино</td>\n",
       "      <td>0.00</td>\n",
       "      <td>жанр не определен</td>\n",
       "      <td>1334699.40</td>\n",
       "    </tr>\n",
       "    <tr>\n",
       "      <th>6822</th>\n",
       "      <td>Большое путешествие</td>\n",
       "      <td>114002419</td>\n",
       "      <td>2019-04-20 12:00:00+00:00</td>\n",
       "      <td>Анимационный</td>\n",
       "      <td>ООО \"ЛИЦЕНЗИОННЫЕ БРЕНДЫ\"</td>\n",
       "      <td>Россия</td>\n",
       "      <td>Н.Лопато, В.Ровенский</td>\n",
       "      <td>ООО \"ЛИЦЕНЗИОННЫЕ БРЕНДЫ\"</td>\n",
       "      <td>«6+» - для детей старше 6 лет</td>\n",
       "      <td>60000000.00</td>\n",
       "      <td>120000000.00</td>\n",
       "      <td>295081967.21</td>\n",
       "      <td>Фонд кино</td>\n",
       "      <td>6.20</td>\n",
       "      <td>мультфильм,комедия,приключения</td>\n",
       "      <td>147606826.51</td>\n",
       "    </tr>\n",
       "  </tbody>\n",
       "</table>\n",
       "</div>"
      ],
      "text/plain": [
       "                       title  pu_number           show_start_date  \\\n",
       "2052                     14+  111023614 2014-12-19 12:00:00+00:00   \n",
       "2057               Дуxless 2  111000415 2015-01-26 12:00:00+00:00   \n",
       "2471             Воин (2015)  111017315 2015-09-28 12:00:00+00:00   \n",
       "2531                 Бармен.  111009615 2015-05-26 12:00:00+00:00   \n",
       "2614     Савва. Сердце воина  114001715 2015-07-21 12:00:00+00:00   \n",
       "2683          Тряпичный союз  111010215 2015-06-08 12:00:00+00:00   \n",
       "2787      Срочно выйду замуж  111017115 2015-09-30 12:00:00+00:00   \n",
       "2873       Помню - не помню!  111004916 2016-03-01 12:00:00+00:00   \n",
       "3046  Любовь с ограничениями  111008216 2016-04-29 12:00:00+00:00   \n",
       "3564       Притяжение (2016)  111018116 2016-12-16 12:00:00+00:00   \n",
       "3674                Чудо-юдо  114001817 2017-06-27 12:00:00+00:00   \n",
       "3738                    Мифы  111004317 2017-06-07 12:00:00+00:00   \n",
       "5672                   Селфи  111012117 2018-02-01 12:00:00+00:00   \n",
       "5805              Два хвоста  114001018 2018-05-31 12:00:00+00:00   \n",
       "6007      Принцесса и дракон  114003018 2018-08-23 12:00:00+00:00   \n",
       "6322                Баба Яга  114006518 2018-11-08 12:00:00+00:00   \n",
       "6822     Большое путешествие  114002419 2019-04-20 12:00:00+00:00   \n",
       "\n",
       "                type                                        film_studio  \\\n",
       "2052  Художественный                         ООО Киностудия  \"Сентябрь\"   \n",
       "2057  Художественный  ООО \"Киностудия \"Слово\", ООО \"Арт Пикчерс Студия\"   \n",
       "2471  Художественный   ООО \"Форпост Продакшн\", ООО \"Арт Пикчерс Студия\"   \n",
       "2531  Художественный          АО \"ВайТ Медиа\", ООО \"Арт Пикчерс Студия\"   \n",
       "2614    Анимационный   ООО \"Глюкоза Продакшн\", ООО \"Арт Пикчерс Студия\"   \n",
       "2683  Художественный                      ООО \"Кинокомпания \"КОКТЕБЕЛЬ\"   \n",
       "2787  Художественный          АО \"ВайТ Медиа\", ООО \"Арт Пикчерс Студия\"   \n",
       "2873  Художественный                                    ООО \"КиноФирма\"   \n",
       "3046  Художественный          АО \"ВайТ Медиа\", ООО \"Арт Пикчерс Студия\"   \n",
       "3564  Художественный      ООО \"Водород 2011\",  ООО \"Арт Пикчерс Студия\"   \n",
       "3674    Анимационный                                    ООО \"КиноФирма\"   \n",
       "3738  Художественный           ООО \"ХАЙПФИЛМ\", ООО \"Арт Пикчерс Студия\"   \n",
       "5672  Художественный  ООО \"Киностудия \"Слово\", ООО \"Арт Пикчерс Студия\"   \n",
       "5805    Анимационный                          ООО \"ЛИЦЕНЗИОННЫЕ БРЕНДЫ\"   \n",
       "6007    Анимационный                          ООО \"ЛИЦЕНЗИОННЫЕ БРЕНДЫ\"   \n",
       "6322    Анимационный                           ООО \"Арт Пикчерс Студия\"   \n",
       "6822    Анимационный                          ООО \"ЛИЦЕНЗИОННЫЕ БРЕНДЫ\"   \n",
       "\n",
       "     production_country                        director  \\\n",
       "2052             Россия                        А.Зайцев   \n",
       "2057             Россия                      Р.Прыгунов   \n",
       "2471             Россия                     А.Андрианов   \n",
       "2531             Россия                    Д.Штурманова   \n",
       "2614             Россия                        М.Фадеев   \n",
       "2683             Россия                     М.Местецкий   \n",
       "2787             Россия                       С Чекалов   \n",
       "2873             Россия                     В.Ровенский   \n",
       "3046             Россия                         Д.Тюрин   \n",
       "3564             Россия                     Ф.Бондарчук   \n",
       "3674             Россия                       А.Лукичев   \n",
       "3738             Россия                    А.Молочников   \n",
       "5672             Россия                      Н.Хомерики   \n",
       "5805             Россия  В.Ровенский, Н.Лопато, В.Азеев   \n",
       "6007             Россия                      М.Нефедова   \n",
       "6322             Россия                         В.Саков   \n",
       "6822             Россия           Н.Лопато, В.Ровенский   \n",
       "\n",
       "                                               producer  \\\n",
       "2052                                О.Гранина, А.Зайцев   \n",
       "2057                 П.Ануров, Ф.Бондарчук, Д.Рудовский   \n",
       "2471                           ООО \"Арт Пикчерс Студия\"   \n",
       "2531                                        Т.Вайнштейн   \n",
       "2614                                         А.Чистяков   \n",
       "2683                              Р.Борисевич, А.Кушаев   \n",
       "2787              Ф.Бондарчук, Т.Вайнштейн, Д.Рудовский   \n",
       "2873                                    ООО \"КиноФирма\"   \n",
       "3046              Ф.Бондарчук, Т.Вайнштейн, Д.Рудовский   \n",
       "3564                           ООО \"Арт Пикчерс Студия\"   \n",
       "3674                                    ООО \"КиноФирма\"   \n",
       "3738  Ф.Бондарчук, Д.Рудовский, И.Стюарт, М.Османн, ...   \n",
       "5672                 П.Ануров, Ф.Бондарчук, Д.Рудовский   \n",
       "5805                          ООО \"ЛИЦЕНЗИОННЫЕ БРЕНДЫ\"   \n",
       "6007                          ООО \"ЛИЦЕНЗИОННЫЕ БРЕНДЫ\"   \n",
       "6322  ООО \"Арт Пикчерс Студия\", ООО \"КРИЭЙТИВ АНИМЭЙ...   \n",
       "6822                          ООО \"ЛИЦЕНЗИОННЫЕ БРЕНДЫ\"   \n",
       "\n",
       "                      age_restriction  refundable_support  \\\n",
       "2052  «16+» - для детей старше 16 лет                0.00   \n",
       "2057  «16+» - для детей старше 16 лет                0.00   \n",
       "2471  «12+» - для детей старше 12 лет         10000000.00   \n",
       "2531  «16+» - для детей старше 16 лет         20000000.00   \n",
       "2614    «6+» - для детей старше 6 лет         60000000.00   \n",
       "2683      «18+» - запрещено для детей                0.00   \n",
       "2787  «16+» - для детей старше 16 лет                0.00   \n",
       "2873  «12+» - для детей старше 12 лет                0.00   \n",
       "3046  «16+» - для детей старше 16 лет         19000000.00   \n",
       "3564  «12+» - для детей старше 12 лет                0.00   \n",
       "3674    «6+» - для детей старше 6 лет         20000000.00   \n",
       "3738  «16+» - для детей старше 16 лет         25000000.00   \n",
       "5672  «16+» - для детей старше 16 лет         20000000.00   \n",
       "5805    «6+» - для детей старше 6 лет         10000000.00   \n",
       "6007    «6+» - для детей старше 6 лет         40000000.00   \n",
       "6322    «6+» - для детей старше 6 лет                0.00   \n",
       "6822    «6+» - для детей старше 6 лет         60000000.00   \n",
       "\n",
       "      nonrefundable_support       budget                  financing_source  \\\n",
       "2052            23000000.00  37704918.03  Министерство культуры, Фонд кино   \n",
       "2057            75000000.00 122950819.67                         Фонд кино   \n",
       "2471            70000000.00 131147540.98                         Фонд кино   \n",
       "2531                   0.00  32786885.25                         Фонд кино   \n",
       "2614           100000000.00 262295081.97                         Фонд кино   \n",
       "2683            59000000.00  96721311.48                         Фонд кино   \n",
       "2787            35000000.00  57377049.18                         Фонд кино   \n",
       "2873             6000000.00   9836065.57             Министерство культуры   \n",
       "3046            51000000.00 114754098.36                         Фонд кино   \n",
       "3564           250000000.00 409836065.57                         Фонд кино   \n",
       "3674            20000000.00  65573770.49                         Фонд кино   \n",
       "3738            20000000.00  73770491.80                         Фонд кино   \n",
       "5672            40000000.00  98360655.74                         Фонд кино   \n",
       "5805            60000000.00 114754098.36                         Фонд кино   \n",
       "6007            40000000.00 131147540.98                         Фонд кино   \n",
       "6322           138969465.00 227818795.08                         Фонд кино   \n",
       "6822           120000000.00 295081967.21                         Фонд кино   \n",
       "\n",
       "      ratings                          genres    box_office  \n",
       "2052     6.60                       мелодрама   10234016.10  \n",
       "2057     6.60                           драма  446163511.00  \n",
       "2471     7.80           боевик,драма,криминал  196572438.40  \n",
       "2531     6.20                 комедия,фэнтези   67418974.80  \n",
       "2614     4.60  мультфильм,приключения,фэнтези  184487551.40  \n",
       "2683     6.30                   комедия,драма    1957738.51  \n",
       "2787     5.10               комедия,мелодрама   72937783.20  \n",
       "2873     4.30                         комедия   15362931.43  \n",
       "3046     6.30               комедия,мелодрама   70299052.00  \n",
       "3564     5.60                      фантастика 1038321489.00  \n",
       "3674     5.20     мультфильм,фэнтези,семейный   55108014.76  \n",
       "3738     4.80                         комедия   50451949.00  \n",
       "5672     5.80                   триллер,драма  225196400.03  \n",
       "5805     5.00              мультфильм,детский  106514301.03  \n",
       "6007     5.20      мультфильм,фэнтези,детский   83366328.66  \n",
       "6322     0.00               жанр не определен    1334699.40  \n",
       "6822     6.20  мультфильм,комедия,приключения  147606826.51  "
      ]
     },
     "execution_count": 64,
     "metadata": {},
     "output_type": "execute_result"
    }
   ],
   "source": [
    "data.loc[few_budget.index, 'budget'] = (data.loc[few_budget.index, 'refundable_support'] + data.loc[few_budget.index, 'nonrefundable_support']) / budget_median\n",
    "data.loc[few_budget.index]"
   ]
  },
  {
   "cell_type": "markdown",
   "metadata": {
    "id": "Eu6oWp2CgFyS"
   },
   "source": [
    "#### Шаг 2.6. Добавим новые столбцы\n",
    "\n",
    "\n",
    "\n"
   ]
  },
  {
   "cell_type": "code",
   "execution_count": 65,
   "metadata": {
    "id": "I-yd1DkWgFyT"
   },
   "outputs": [
    {
     "data": {
      "text/html": [
       "<div>\n",
       "<style scoped>\n",
       "    .dataframe tbody tr th:only-of-type {\n",
       "        vertical-align: middle;\n",
       "    }\n",
       "\n",
       "    .dataframe tbody tr th {\n",
       "        vertical-align: top;\n",
       "    }\n",
       "\n",
       "    .dataframe thead th {\n",
       "        text-align: right;\n",
       "    }\n",
       "</style>\n",
       "<table border=\"1\" class=\"dataframe\">\n",
       "  <thead>\n",
       "    <tr style=\"text-align: right;\">\n",
       "      <th></th>\n",
       "      <th>title</th>\n",
       "      <th>pu_number</th>\n",
       "      <th>show_start_date</th>\n",
       "      <th>type</th>\n",
       "      <th>film_studio</th>\n",
       "      <th>production_country</th>\n",
       "      <th>director</th>\n",
       "      <th>producer</th>\n",
       "      <th>age_restriction</th>\n",
       "      <th>refundable_support</th>\n",
       "      <th>nonrefundable_support</th>\n",
       "      <th>budget</th>\n",
       "      <th>financing_source</th>\n",
       "      <th>ratings</th>\n",
       "      <th>genres</th>\n",
       "      <th>box_office</th>\n",
       "      <th>show_start_year</th>\n",
       "    </tr>\n",
       "  </thead>\n",
       "  <tbody>\n",
       "    <tr>\n",
       "      <th>0</th>\n",
       "      <td>Открытый простор</td>\n",
       "      <td>221048915</td>\n",
       "      <td>2015-11-27 12:00:00+00:00</td>\n",
       "      <td>Художественный</td>\n",
       "      <td>Тачстоун Пикчерз, Кобальт Пикчерз, Бикон Пикче...</td>\n",
       "      <td>США</td>\n",
       "      <td>Кевин Костнер</td>\n",
       "      <td>Дэвид Валдес, Кевин Костнер, Джейк Эбертс</td>\n",
       "      <td>«18+» - запрещено для детей</td>\n",
       "      <td>0.00</td>\n",
       "      <td>0.00</td>\n",
       "      <td>0.00</td>\n",
       "      <td>Нет</td>\n",
       "      <td>7.20</td>\n",
       "      <td>боевик,драма,мелодрама</td>\n",
       "      <td>0.00</td>\n",
       "      <td>2015</td>\n",
       "    </tr>\n",
       "    <tr>\n",
       "      <th>1</th>\n",
       "      <td>Особо важное задание</td>\n",
       "      <td>111013716</td>\n",
       "      <td>2016-09-13 12:00:00+00:00</td>\n",
       "      <td>Художественный</td>\n",
       "      <td>Киностудия \"Мосфильм\"</td>\n",
       "      <td>СССР</td>\n",
       "      <td>Е.Матвеев</td>\n",
       "      <td>Продюсер не определен</td>\n",
       "      <td>«6+» - для детей старше 6 лет</td>\n",
       "      <td>0.00</td>\n",
       "      <td>0.00</td>\n",
       "      <td>0.00</td>\n",
       "      <td>Нет</td>\n",
       "      <td>6.60</td>\n",
       "      <td>драма,военный</td>\n",
       "      <td>0.00</td>\n",
       "      <td>2016</td>\n",
       "    </tr>\n",
       "    <tr>\n",
       "      <th>2</th>\n",
       "      <td>Особо опасен</td>\n",
       "      <td>221038416</td>\n",
       "      <td>2016-10-10 12:00:00+00:00</td>\n",
       "      <td>Художественный</td>\n",
       "      <td>Юниверсал Пикчерз, Кикстарт Продакшнз, Марк Пл...</td>\n",
       "      <td>США</td>\n",
       "      <td>Тимур Бекмамбетов</td>\n",
       "      <td>Джим Лемли, Джейсон Нетер, Марк Е.Платт, Яйн Смит</td>\n",
       "      <td>«18+» - запрещено для детей</td>\n",
       "      <td>0.00</td>\n",
       "      <td>0.00</td>\n",
       "      <td>0.00</td>\n",
       "      <td>Нет</td>\n",
       "      <td>6.80</td>\n",
       "      <td>фантастика,боевик,триллер</td>\n",
       "      <td>0.00</td>\n",
       "      <td>2016</td>\n",
       "    </tr>\n",
       "    <tr>\n",
       "      <th>3</th>\n",
       "      <td>Особо опасен</td>\n",
       "      <td>221026916</td>\n",
       "      <td>2016-06-10 12:00:00+00:00</td>\n",
       "      <td>Художественный</td>\n",
       "      <td>Юниверсал Пикчерз, Кикстарт Продакшнз, Марк Пл...</td>\n",
       "      <td>США</td>\n",
       "      <td>Тимур Бекмамбетов</td>\n",
       "      <td>Джим Лемли, Джейсон Нетер, Марк Е.Платт, Яйн Смит</td>\n",
       "      <td>«18+» - запрещено для детей</td>\n",
       "      <td>0.00</td>\n",
       "      <td>0.00</td>\n",
       "      <td>0.00</td>\n",
       "      <td>Нет</td>\n",
       "      <td>6.80</td>\n",
       "      <td>фантастика,боевик,триллер</td>\n",
       "      <td>0.00</td>\n",
       "      <td>2016</td>\n",
       "    </tr>\n",
       "    <tr>\n",
       "      <th>4</th>\n",
       "      <td>Особо опасен</td>\n",
       "      <td>221030815</td>\n",
       "      <td>2015-07-29 12:00:00+00:00</td>\n",
       "      <td>Художественный</td>\n",
       "      <td>Юниверсал Пикчерз, Кикстарт Продакшнз, Марк Пл...</td>\n",
       "      <td>США</td>\n",
       "      <td>Тимур Бекмамбетов</td>\n",
       "      <td>Джим Лемли, Джейсон Нетер, Марк Е.Платт, Яйн Смит</td>\n",
       "      <td>«18+» - запрещено для детей</td>\n",
       "      <td>0.00</td>\n",
       "      <td>0.00</td>\n",
       "      <td>0.00</td>\n",
       "      <td>Нет</td>\n",
       "      <td>6.80</td>\n",
       "      <td>фантастика,боевик,триллер</td>\n",
       "      <td>0.00</td>\n",
       "      <td>2015</td>\n",
       "    </tr>\n",
       "  </tbody>\n",
       "</table>\n",
       "</div>"
      ],
      "text/plain": [
       "                  title  pu_number           show_start_date            type  \\\n",
       "0      Открытый простор  221048915 2015-11-27 12:00:00+00:00  Художественный   \n",
       "1  Особо важное задание  111013716 2016-09-13 12:00:00+00:00  Художественный   \n",
       "2          Особо опасен  221038416 2016-10-10 12:00:00+00:00  Художественный   \n",
       "3          Особо опасен  221026916 2016-06-10 12:00:00+00:00  Художественный   \n",
       "4          Особо опасен  221030815 2015-07-29 12:00:00+00:00  Художественный   \n",
       "\n",
       "                                         film_studio production_country  \\\n",
       "0  Тачстоун Пикчерз, Кобальт Пикчерз, Бикон Пикче...                США   \n",
       "1                              Киностудия \"Мосфильм\"               СССР   \n",
       "2  Юниверсал Пикчерз, Кикстарт Продакшнз, Марк Пл...                США   \n",
       "3  Юниверсал Пикчерз, Кикстарт Продакшнз, Марк Пл...                США   \n",
       "4  Юниверсал Пикчерз, Кикстарт Продакшнз, Марк Пл...                США   \n",
       "\n",
       "            director                                           producer  \\\n",
       "0      Кевин Костнер          Дэвид Валдес, Кевин Костнер, Джейк Эбертс   \n",
       "1          Е.Матвеев                              Продюсер не определен   \n",
       "2  Тимур Бекмамбетов  Джим Лемли, Джейсон Нетер, Марк Е.Платт, Яйн Смит   \n",
       "3  Тимур Бекмамбетов  Джим Лемли, Джейсон Нетер, Марк Е.Платт, Яйн Смит   \n",
       "4  Тимур Бекмамбетов  Джим Лемли, Джейсон Нетер, Марк Е.Платт, Яйн Смит   \n",
       "\n",
       "                 age_restriction  refundable_support  nonrefundable_support  \\\n",
       "0    «18+» - запрещено для детей                0.00                   0.00   \n",
       "1  «6+» - для детей старше 6 лет                0.00                   0.00   \n",
       "2    «18+» - запрещено для детей                0.00                   0.00   \n",
       "3    «18+» - запрещено для детей                0.00                   0.00   \n",
       "4    «18+» - запрещено для детей                0.00                   0.00   \n",
       "\n",
       "   budget financing_source  ratings                     genres  box_office  \\\n",
       "0    0.00              Нет     7.20     боевик,драма,мелодрама        0.00   \n",
       "1    0.00              Нет     6.60              драма,военный        0.00   \n",
       "2    0.00              Нет     6.80  фантастика,боевик,триллер        0.00   \n",
       "3    0.00              Нет     6.80  фантастика,боевик,триллер        0.00   \n",
       "4    0.00              Нет     6.80  фантастика,боевик,триллер        0.00   \n",
       "\n",
       "   show_start_year  \n",
       "0             2015  \n",
       "1             2016  \n",
       "2             2016  \n",
       "3             2016  \n",
       "4             2015  "
      ]
     },
     "execution_count": 65,
     "metadata": {},
     "output_type": "execute_result"
    }
   ],
   "source": [
    "data['show_start_year'] = pd.DatetimeIndex(data['show_start_date']).year\n",
    "\n",
    "#проверим результат\n",
    "data.head()"
   ]
  },
  {
   "cell_type": "code",
   "execution_count": 66,
   "metadata": {
    "id": "LSbRZKbMgFyU"
   },
   "outputs": [
    {
     "data": {
      "text/html": [
       "<div>\n",
       "<style scoped>\n",
       "    .dataframe tbody tr th:only-of-type {\n",
       "        vertical-align: middle;\n",
       "    }\n",
       "\n",
       "    .dataframe tbody tr th {\n",
       "        vertical-align: top;\n",
       "    }\n",
       "\n",
       "    .dataframe thead th {\n",
       "        text-align: right;\n",
       "    }\n",
       "</style>\n",
       "<table border=\"1\" class=\"dataframe\">\n",
       "  <thead>\n",
       "    <tr style=\"text-align: right;\">\n",
       "      <th></th>\n",
       "      <th>title</th>\n",
       "      <th>pu_number</th>\n",
       "      <th>show_start_date</th>\n",
       "      <th>type</th>\n",
       "      <th>film_studio</th>\n",
       "      <th>production_country</th>\n",
       "      <th>director</th>\n",
       "      <th>producer</th>\n",
       "      <th>age_restriction</th>\n",
       "      <th>refundable_support</th>\n",
       "      <th>nonrefundable_support</th>\n",
       "      <th>budget</th>\n",
       "      <th>financing_source</th>\n",
       "      <th>ratings</th>\n",
       "      <th>genres</th>\n",
       "      <th>box_office</th>\n",
       "      <th>show_start_year</th>\n",
       "      <th>main_director</th>\n",
       "      <th>main_genres</th>\n",
       "    </tr>\n",
       "  </thead>\n",
       "  <tbody>\n",
       "    <tr>\n",
       "      <th>0</th>\n",
       "      <td>Открытый простор</td>\n",
       "      <td>221048915</td>\n",
       "      <td>2015-11-27 12:00:00+00:00</td>\n",
       "      <td>Художественный</td>\n",
       "      <td>Тачстоун Пикчерз, Кобальт Пикчерз, Бикон Пикче...</td>\n",
       "      <td>США</td>\n",
       "      <td>Кевин Костнер</td>\n",
       "      <td>Дэвид Валдес, Кевин Костнер, Джейк Эбертс</td>\n",
       "      <td>«18+» - запрещено для детей</td>\n",
       "      <td>0.00</td>\n",
       "      <td>0.00</td>\n",
       "      <td>0.00</td>\n",
       "      <td>Нет</td>\n",
       "      <td>7.20</td>\n",
       "      <td>боевик,драма,мелодрама</td>\n",
       "      <td>0.00</td>\n",
       "      <td>2015</td>\n",
       "      <td>Кевин Костнер</td>\n",
       "      <td>боевик</td>\n",
       "    </tr>\n",
       "    <tr>\n",
       "      <th>1</th>\n",
       "      <td>Особо важное задание</td>\n",
       "      <td>111013716</td>\n",
       "      <td>2016-09-13 12:00:00+00:00</td>\n",
       "      <td>Художественный</td>\n",
       "      <td>Киностудия \"Мосфильм\"</td>\n",
       "      <td>СССР</td>\n",
       "      <td>Е.Матвеев</td>\n",
       "      <td>Продюсер не определен</td>\n",
       "      <td>«6+» - для детей старше 6 лет</td>\n",
       "      <td>0.00</td>\n",
       "      <td>0.00</td>\n",
       "      <td>0.00</td>\n",
       "      <td>Нет</td>\n",
       "      <td>6.60</td>\n",
       "      <td>драма,военный</td>\n",
       "      <td>0.00</td>\n",
       "      <td>2016</td>\n",
       "      <td>Е.Матвеев</td>\n",
       "      <td>драма</td>\n",
       "    </tr>\n",
       "    <tr>\n",
       "      <th>2</th>\n",
       "      <td>Особо опасен</td>\n",
       "      <td>221038416</td>\n",
       "      <td>2016-10-10 12:00:00+00:00</td>\n",
       "      <td>Художественный</td>\n",
       "      <td>Юниверсал Пикчерз, Кикстарт Продакшнз, Марк Пл...</td>\n",
       "      <td>США</td>\n",
       "      <td>Тимур Бекмамбетов</td>\n",
       "      <td>Джим Лемли, Джейсон Нетер, Марк Е.Платт, Яйн Смит</td>\n",
       "      <td>«18+» - запрещено для детей</td>\n",
       "      <td>0.00</td>\n",
       "      <td>0.00</td>\n",
       "      <td>0.00</td>\n",
       "      <td>Нет</td>\n",
       "      <td>6.80</td>\n",
       "      <td>фантастика,боевик,триллер</td>\n",
       "      <td>0.00</td>\n",
       "      <td>2016</td>\n",
       "      <td>Тимур Бекмамбетов</td>\n",
       "      <td>фантастика</td>\n",
       "    </tr>\n",
       "    <tr>\n",
       "      <th>3</th>\n",
       "      <td>Особо опасен</td>\n",
       "      <td>221026916</td>\n",
       "      <td>2016-06-10 12:00:00+00:00</td>\n",
       "      <td>Художественный</td>\n",
       "      <td>Юниверсал Пикчерз, Кикстарт Продакшнз, Марк Пл...</td>\n",
       "      <td>США</td>\n",
       "      <td>Тимур Бекмамбетов</td>\n",
       "      <td>Джим Лемли, Джейсон Нетер, Марк Е.Платт, Яйн Смит</td>\n",
       "      <td>«18+» - запрещено для детей</td>\n",
       "      <td>0.00</td>\n",
       "      <td>0.00</td>\n",
       "      <td>0.00</td>\n",
       "      <td>Нет</td>\n",
       "      <td>6.80</td>\n",
       "      <td>фантастика,боевик,триллер</td>\n",
       "      <td>0.00</td>\n",
       "      <td>2016</td>\n",
       "      <td>Тимур Бекмамбетов</td>\n",
       "      <td>фантастика</td>\n",
       "    </tr>\n",
       "    <tr>\n",
       "      <th>4</th>\n",
       "      <td>Особо опасен</td>\n",
       "      <td>221030815</td>\n",
       "      <td>2015-07-29 12:00:00+00:00</td>\n",
       "      <td>Художественный</td>\n",
       "      <td>Юниверсал Пикчерз, Кикстарт Продакшнз, Марк Пл...</td>\n",
       "      <td>США</td>\n",
       "      <td>Тимур Бекмамбетов</td>\n",
       "      <td>Джим Лемли, Джейсон Нетер, Марк Е.Платт, Яйн Смит</td>\n",
       "      <td>«18+» - запрещено для детей</td>\n",
       "      <td>0.00</td>\n",
       "      <td>0.00</td>\n",
       "      <td>0.00</td>\n",
       "      <td>Нет</td>\n",
       "      <td>6.80</td>\n",
       "      <td>фантастика,боевик,триллер</td>\n",
       "      <td>0.00</td>\n",
       "      <td>2015</td>\n",
       "      <td>Тимур Бекмамбетов</td>\n",
       "      <td>фантастика</td>\n",
       "    </tr>\n",
       "  </tbody>\n",
       "</table>\n",
       "</div>"
      ],
      "text/plain": [
       "                  title  pu_number           show_start_date            type  \\\n",
       "0      Открытый простор  221048915 2015-11-27 12:00:00+00:00  Художественный   \n",
       "1  Особо важное задание  111013716 2016-09-13 12:00:00+00:00  Художественный   \n",
       "2          Особо опасен  221038416 2016-10-10 12:00:00+00:00  Художественный   \n",
       "3          Особо опасен  221026916 2016-06-10 12:00:00+00:00  Художественный   \n",
       "4          Особо опасен  221030815 2015-07-29 12:00:00+00:00  Художественный   \n",
       "\n",
       "                                         film_studio production_country  \\\n",
       "0  Тачстоун Пикчерз, Кобальт Пикчерз, Бикон Пикче...                США   \n",
       "1                              Киностудия \"Мосфильм\"               СССР   \n",
       "2  Юниверсал Пикчерз, Кикстарт Продакшнз, Марк Пл...                США   \n",
       "3  Юниверсал Пикчерз, Кикстарт Продакшнз, Марк Пл...                США   \n",
       "4  Юниверсал Пикчерз, Кикстарт Продакшнз, Марк Пл...                США   \n",
       "\n",
       "            director                                           producer  \\\n",
       "0      Кевин Костнер          Дэвид Валдес, Кевин Костнер, Джейк Эбертс   \n",
       "1          Е.Матвеев                              Продюсер не определен   \n",
       "2  Тимур Бекмамбетов  Джим Лемли, Джейсон Нетер, Марк Е.Платт, Яйн Смит   \n",
       "3  Тимур Бекмамбетов  Джим Лемли, Джейсон Нетер, Марк Е.Платт, Яйн Смит   \n",
       "4  Тимур Бекмамбетов  Джим Лемли, Джейсон Нетер, Марк Е.Платт, Яйн Смит   \n",
       "\n",
       "                 age_restriction  refundable_support  nonrefundable_support  \\\n",
       "0    «18+» - запрещено для детей                0.00                   0.00   \n",
       "1  «6+» - для детей старше 6 лет                0.00                   0.00   \n",
       "2    «18+» - запрещено для детей                0.00                   0.00   \n",
       "3    «18+» - запрещено для детей                0.00                   0.00   \n",
       "4    «18+» - запрещено для детей                0.00                   0.00   \n",
       "\n",
       "   budget financing_source  ratings                     genres  box_office  \\\n",
       "0    0.00              Нет     7.20     боевик,драма,мелодрама        0.00   \n",
       "1    0.00              Нет     6.60              драма,военный        0.00   \n",
       "2    0.00              Нет     6.80  фантастика,боевик,триллер        0.00   \n",
       "3    0.00              Нет     6.80  фантастика,боевик,триллер        0.00   \n",
       "4    0.00              Нет     6.80  фантастика,боевик,триллер        0.00   \n",
       "\n",
       "   show_start_year      main_director main_genres  \n",
       "0             2015      Кевин Костнер      боевик  \n",
       "1             2016          Е.Матвеев       драма  \n",
       "2             2016  Тимур Бекмамбетов  фантастика  \n",
       "3             2016  Тимур Бекмамбетов  фантастика  \n",
       "4             2015  Тимур Бекмамбетов  фантастика  "
      ]
     },
     "execution_count": 66,
     "metadata": {},
     "output_type": "execute_result"
    }
   ],
   "source": [
    "data = to_data(data, ['director', 'genres'])\n",
    "\n",
    "#проверим результат\n",
    "data.head()"
   ]
  },
  {
   "cell_type": "code",
   "execution_count": 67,
   "metadata": {},
   "outputs": [
    {
     "data": {
      "text/plain": [
       "array(['боевик', 'драма', 'фантастика', 'мелодрама', 'мюзикл', 'комедия',\n",
       "       'триллер', 'ужасы', 'мультфильм', 'жанр не определен', 'военный',\n",
       "       'документальный', 'фэнтези', 'криминал', 'приключения', 'аниме',\n",
       "       'детектив', 'для взрослых', 'семейный', 'концерт', 'история',\n",
       "       'короткометражка', 'детский', 'спорт', 'биография', 'вестерн',\n",
       "       'музыка', 'фильм-нуар', 'реальное ТВ'], dtype=object)"
      ]
     },
     "execution_count": 67,
     "metadata": {},
     "output_type": "execute_result"
    }
   ],
   "source": [
    "data['main_genres'].unique()"
   ]
  },
  {
   "cell_type": "code",
   "execution_count": 68,
   "metadata": {},
   "outputs": [
    {
     "data": {
      "text/plain": [
       "29"
      ]
     },
     "execution_count": 68,
     "metadata": {},
     "output_type": "execute_result"
    }
   ],
   "source": [
    "data['main_genres'].nunique()"
   ]
  },
  {
   "cell_type": "markdown",
   "metadata": {},
   "source": [
    "На этом этапе мы продолжили работу с уникальными значениями из столбца 'genres'. В итоге получилось 29 уникальных жанров в отдельном столбце 'main_genres'."
   ]
  },
  {
   "cell_type": "markdown",
   "metadata": {
    "id": "LV6qFuZLgFyV"
   },
   "source": [
    "На этапе работы, где мы анализировали количественные значения, нами была посчитана медианная доля господдержки в общем бюджете фильма. Она составляет 61%. Посчитаем и добавим в таблицу столбец с данными по доле господдержки для каждого фильма индивидуально. "
   ]
  },
  {
   "cell_type": "code",
   "execution_count": 69,
   "metadata": {
    "scrolled": true
   },
   "outputs": [
    {
     "data": {
      "text/html": [
       "<div>\n",
       "<style scoped>\n",
       "    .dataframe tbody tr th:only-of-type {\n",
       "        vertical-align: middle;\n",
       "    }\n",
       "\n",
       "    .dataframe tbody tr th {\n",
       "        vertical-align: top;\n",
       "    }\n",
       "\n",
       "    .dataframe thead th {\n",
       "        text-align: right;\n",
       "    }\n",
       "</style>\n",
       "<table border=\"1\" class=\"dataframe\">\n",
       "  <thead>\n",
       "    <tr style=\"text-align: right;\">\n",
       "      <th></th>\n",
       "      <th>title</th>\n",
       "      <th>pu_number</th>\n",
       "      <th>show_start_date</th>\n",
       "      <th>type</th>\n",
       "      <th>film_studio</th>\n",
       "      <th>production_country</th>\n",
       "      <th>director</th>\n",
       "      <th>producer</th>\n",
       "      <th>age_restriction</th>\n",
       "      <th>refundable_support</th>\n",
       "      <th>nonrefundable_support</th>\n",
       "      <th>budget</th>\n",
       "      <th>financing_source</th>\n",
       "      <th>ratings</th>\n",
       "      <th>genres</th>\n",
       "      <th>box_office</th>\n",
       "      <th>show_start_year</th>\n",
       "      <th>main_director</th>\n",
       "      <th>main_genres</th>\n",
       "      <th>support_percent</th>\n",
       "    </tr>\n",
       "  </thead>\n",
       "  <tbody>\n",
       "    <tr>\n",
       "      <th>1281</th>\n",
       "      <td>Пока еще жива</td>\n",
       "      <td>111005313</td>\n",
       "      <td>2013-10-11 12:00:00+00:00</td>\n",
       "      <td>Художественный</td>\n",
       "      <td>АНО содействия развитию кинематографии \"Ангел-...</td>\n",
       "      <td>Россия</td>\n",
       "      <td>А.Атанесян</td>\n",
       "      <td>А.Атанесян, М.Бабаханов, Р.Бутко</td>\n",
       "      <td>«16+» - для детей старше 16 лет</td>\n",
       "      <td>0.00</td>\n",
       "      <td>26500000.00</td>\n",
       "      <td>79411900.00</td>\n",
       "      <td>Министерство культуры</td>\n",
       "      <td>8.10</td>\n",
       "      <td>драма,мелодрама</td>\n",
       "      <td>365353.60</td>\n",
       "      <td>2013</td>\n",
       "      <td>А.Атанесян</td>\n",
       "      <td>драма</td>\n",
       "      <td>33.37</td>\n",
       "    </tr>\n",
       "    <tr>\n",
       "      <th>1448</th>\n",
       "      <td>Бесславные придурки</td>\n",
       "      <td>111003314</td>\n",
       "      <td>2014-03-28 12:00:00+00:00</td>\n",
       "      <td>Художественный</td>\n",
       "      <td>ООО \"Компания \"АТК-Студио\"</td>\n",
       "      <td>Россия</td>\n",
       "      <td>А.Якимчук</td>\n",
       "      <td>А.Тютрюмов</td>\n",
       "      <td>«12+» - для детей старше 12 лет</td>\n",
       "      <td>0.00</td>\n",
       "      <td>26000000.00</td>\n",
       "      <td>37142857.00</td>\n",
       "      <td>Министерство культуры</td>\n",
       "      <td>0.00</td>\n",
       "      <td>жанр не определен</td>\n",
       "      <td>28140.00</td>\n",
       "      <td>2014</td>\n",
       "      <td>А.Якимчук</td>\n",
       "      <td>жанр не определен</td>\n",
       "      <td>70.00</td>\n",
       "    </tr>\n",
       "    <tr>\n",
       "      <th>1498</th>\n",
       "      <td>Невидимки</td>\n",
       "      <td>111004213</td>\n",
       "      <td>2013-09-10 12:00:00+00:00</td>\n",
       "      <td>Художественный</td>\n",
       "      <td>ООО \"Компания \"РЕАЛ-ДАКОТА\"</td>\n",
       "      <td>Россия</td>\n",
       "      <td>Р.Давлетьяров, С.Комаров</td>\n",
       "      <td>Р.Давлетьяров, А.Котелевский, А.Олейников</td>\n",
       "      <td>«12+» - для детей старше 12 лет</td>\n",
       "      <td>0.00</td>\n",
       "      <td>107847945.00</td>\n",
       "      <td>176023490.00</td>\n",
       "      <td>Фонд кино</td>\n",
       "      <td>5.30</td>\n",
       "      <td>комедия,фантастика</td>\n",
       "      <td>19957031.50</td>\n",
       "      <td>2013</td>\n",
       "      <td>Р.Давлетьяров</td>\n",
       "      <td>комедия</td>\n",
       "      <td>61.27</td>\n",
       "    </tr>\n",
       "    <tr>\n",
       "      <th>1524</th>\n",
       "      <td>БЕРЦЫ</td>\n",
       "      <td>111004314</td>\n",
       "      <td>2014-05-05 12:00:00+00:00</td>\n",
       "      <td>Художественный</td>\n",
       "      <td>ООО \"Студия \"Пассажир\"</td>\n",
       "      <td>Россия</td>\n",
       "      <td>Е.Миндадзе (псевдоним Катя Шагалова)</td>\n",
       "      <td>Л.Антонова</td>\n",
       "      <td>«16+» - для детей старше 16 лет</td>\n",
       "      <td>0.00</td>\n",
       "      <td>28000000.00</td>\n",
       "      <td>40574140.00</td>\n",
       "      <td>Министерство культуры</td>\n",
       "      <td>4.20</td>\n",
       "      <td>драма</td>\n",
       "      <td>55917.50</td>\n",
       "      <td>2014</td>\n",
       "      <td>Е.Миндадзе (псевдоним Катя Шагалова)</td>\n",
       "      <td>драма</td>\n",
       "      <td>69.01</td>\n",
       "    </tr>\n",
       "    <tr>\n",
       "      <th>1792</th>\n",
       "      <td>Братья Ч</td>\n",
       "      <td>111004414</td>\n",
       "      <td>2014-04-23 12:00:00+00:00</td>\n",
       "      <td>Художественный</td>\n",
       "      <td>ООО \"Студия \"Пассажир\"</td>\n",
       "      <td>Россия</td>\n",
       "      <td>М.Угаров</td>\n",
       "      <td>А.Миндадзе, Л.Антонова</td>\n",
       "      <td>«16+» - для детей старше 16 лет</td>\n",
       "      <td>0.00</td>\n",
       "      <td>25000000.00</td>\n",
       "      <td>40015122.00</td>\n",
       "      <td>Министерство культуры</td>\n",
       "      <td>6.40</td>\n",
       "      <td>драма</td>\n",
       "      <td>232100.00</td>\n",
       "      <td>2014</td>\n",
       "      <td>М.Угаров</td>\n",
       "      <td>драма</td>\n",
       "      <td>62.48</td>\n",
       "    </tr>\n",
       "  </tbody>\n",
       "</table>\n",
       "</div>"
      ],
      "text/plain": [
       "                    title  pu_number           show_start_date  \\\n",
       "1281        Пока еще жива  111005313 2013-10-11 12:00:00+00:00   \n",
       "1448  Бесславные придурки  111003314 2014-03-28 12:00:00+00:00   \n",
       "1498            Невидимки  111004213 2013-09-10 12:00:00+00:00   \n",
       "1524                БЕРЦЫ  111004314 2014-05-05 12:00:00+00:00   \n",
       "1792             Братья Ч  111004414 2014-04-23 12:00:00+00:00   \n",
       "\n",
       "                type                                        film_studio  \\\n",
       "1281  Художественный  АНО содействия развитию кинематографии \"Ангел-...   \n",
       "1448  Художественный                         ООО \"Компания \"АТК-Студио\"   \n",
       "1498  Художественный                        ООО \"Компания \"РЕАЛ-ДАКОТА\"   \n",
       "1524  Художественный                             ООО \"Студия \"Пассажир\"   \n",
       "1792  Художественный                             ООО \"Студия \"Пассажир\"   \n",
       "\n",
       "     production_country                              director  \\\n",
       "1281             Россия                            А.Атанесян   \n",
       "1448             Россия                             А.Якимчук   \n",
       "1498             Россия              Р.Давлетьяров, С.Комаров   \n",
       "1524             Россия  Е.Миндадзе (псевдоним Катя Шагалова)   \n",
       "1792             Россия                              М.Угаров   \n",
       "\n",
       "                                       producer  \\\n",
       "1281           А.Атанесян, М.Бабаханов, Р.Бутко   \n",
       "1448                                 А.Тютрюмов   \n",
       "1498  Р.Давлетьяров, А.Котелевский, А.Олейников   \n",
       "1524                                 Л.Антонова   \n",
       "1792                     А.Миндадзе, Л.Антонова   \n",
       "\n",
       "                      age_restriction  refundable_support  \\\n",
       "1281  «16+» - для детей старше 16 лет                0.00   \n",
       "1448  «12+» - для детей старше 12 лет                0.00   \n",
       "1498  «12+» - для детей старше 12 лет                0.00   \n",
       "1524  «16+» - для детей старше 16 лет                0.00   \n",
       "1792  «16+» - для детей старше 16 лет                0.00   \n",
       "\n",
       "      nonrefundable_support       budget       financing_source  ratings  \\\n",
       "1281            26500000.00  79411900.00  Министерство культуры     8.10   \n",
       "1448            26000000.00  37142857.00  Министерство культуры     0.00   \n",
       "1498           107847945.00 176023490.00              Фонд кино     5.30   \n",
       "1524            28000000.00  40574140.00  Министерство культуры     4.20   \n",
       "1792            25000000.00  40015122.00  Министерство культуры     6.40   \n",
       "\n",
       "                  genres  box_office  show_start_year  \\\n",
       "1281     драма,мелодрама   365353.60             2013   \n",
       "1448   жанр не определен    28140.00             2014   \n",
       "1498  комедия,фантастика 19957031.50             2013   \n",
       "1524               драма    55917.50             2014   \n",
       "1792               драма   232100.00             2014   \n",
       "\n",
       "                             main_director        main_genres  support_percent  \n",
       "1281                            А.Атанесян              драма            33.37  \n",
       "1448                             А.Якимчук  жанр не определен            70.00  \n",
       "1498                         Р.Давлетьяров            комедия            61.27  \n",
       "1524  Е.Миндадзе (псевдоним Катя Шагалова)              драма            69.01  \n",
       "1792                              М.Угаров              драма            62.48  "
      ]
     },
     "execution_count": 69,
     "metadata": {},
     "output_type": "execute_result"
    }
   ],
   "source": [
    "data['support_percent'] = round(data.eval('(refundable_support + nonrefundable_support) / budget') * 100, 2)\n",
    "data['support_percent'].replace([np.inf, -np.inf, np.nan], 0, inplace=True)\n",
    "\n",
    "#проверим результат\n",
    "data.query('budget > 0').head()"
   ]
  },
  {
   "cell_type": "markdown",
   "metadata": {},
   "source": [
    "**Вывод**\\\n",
    "На этапе предобработки данных мы преобразовали типы данных в столбцах 'show_start_date', 'ratings', наименование столбца 'puNumber'; поправили уникальные значения столбцов 'ratings', 'type'. \n",
    "\n",
    "Были проанализированы и заполнены пропуски в столбцах:\n",
    "- 'film_studio' - значением 'Студия не определена'\n",
    "- 'production_country' - значением 'Страна не определена'\n",
    "- 'financing_source' - значением 'Нет'\n",
    "- 'genres' - значением 'жанр не определен'\n",
    "- 'director' - значением 'Режиссер не определен'\n",
    "- 'producer' - значением 'Продюсер не определен'\n",
    "- 'refundable_support', 'nonrefundable_support', 'budget' пропуски заполнены нулями, т.к. эти данные относятся только к фильмам с господдержкой, соответственно, в остальных случаях это 0\n",
    "- 'box_office' пропуски заполнены также нулями, т.к. данные о сборах указаны не для всех фильмов, взять эти значения неоткуда.\n",
    "\n",
    "Также было проведено исследование на дубликаты. Нашлись одинаковые фильмы с разными прокатными удостоверениями - эти данные мы оставили как есть, т.к. у одного фильма может быть несколько прокатных удостоверений. Далее были обнаружены дублирующиеся номера прокатных удостоверений, но т.к. в этом конкретном исследовании мы не поднимаем прокатные удостоверения по номерам, а используем их как уникальный идентификатор, мы заменили дубликаты на собственные номера.\n",
    "\n",
    "Следующим шагом мы проанализировали количественные значения. Было выявлено, что некоторые фильмы получили господдержку, но при этом в бюджете указан 0. Мы определили обычный объем господдержки и заменили нули медианным процентом от поддержки.\n",
    "\n",
    "После этого мы посчитали и добавили в таблицу новые столбцы с данными, необходимыми для исследовательского анализа: \n",
    "- столбец с информацией о годе проката ('show_start_year'), \n",
    "- столбец с именем и фамилией главного режиссёра ('main_director'), \n",
    "- столбец с основным жанром фильма ('main_genres'), \n",
    "- столбец с определением доли господдержки в общем бюджете фильма ('support_percent')"
   ]
  },
  {
   "cell_type": "markdown",
   "metadata": {
    "id": "6t4EukPLgFyV"
   },
   "source": [
    "### Шаг 3. Проведем исследовательский анализ данных\n"
   ]
  },
  {
   "cell_type": "markdown",
   "metadata": {},
   "source": [
    "Создадим сводную таблицу, которую заполним данными по годам"
   ]
  },
  {
   "cell_type": "code",
   "execution_count": 70,
   "metadata": {},
   "outputs": [
    {
     "data": {
      "text/html": [
       "<div>\n",
       "<style scoped>\n",
       "    .dataframe tbody tr th:only-of-type {\n",
       "        vertical-align: middle;\n",
       "    }\n",
       "\n",
       "    .dataframe tbody tr th {\n",
       "        vertical-align: top;\n",
       "    }\n",
       "\n",
       "    .dataframe thead tr th {\n",
       "        text-align: left;\n",
       "    }\n",
       "\n",
       "    .dataframe thead tr:last-of-type th {\n",
       "        text-align: right;\n",
       "    }\n",
       "</style>\n",
       "<table border=\"1\" class=\"dataframe\">\n",
       "  <thead>\n",
       "    <tr>\n",
       "      <th></th>\n",
       "      <th>count</th>\n",
       "      <th>sum</th>\n",
       "      <th>mean</th>\n",
       "      <th>median</th>\n",
       "    </tr>\n",
       "    <tr>\n",
       "      <th></th>\n",
       "      <th>box_office</th>\n",
       "      <th>box_office</th>\n",
       "      <th>box_office</th>\n",
       "      <th>box_office</th>\n",
       "    </tr>\n",
       "    <tr>\n",
       "      <th>show_start_year</th>\n",
       "      <th></th>\n",
       "      <th></th>\n",
       "      <th></th>\n",
       "      <th></th>\n",
       "    </tr>\n",
       "  </thead>\n",
       "  <tbody>\n",
       "    <tr>\n",
       "      <th>2010</th>\n",
       "      <td>101</td>\n",
       "      <td>2428654.00</td>\n",
       "      <td>24046.08</td>\n",
       "      <td>1710.00</td>\n",
       "    </tr>\n",
       "    <tr>\n",
       "      <th>2011</th>\n",
       "      <td>109</td>\n",
       "      <td>14102765.00</td>\n",
       "      <td>129383.17</td>\n",
       "      <td>3000.00</td>\n",
       "    </tr>\n",
       "    <tr>\n",
       "      <th>2012</th>\n",
       "      <td>123</td>\n",
       "      <td>6955423.00</td>\n",
       "      <td>56548.15</td>\n",
       "      <td>6220.00</td>\n",
       "    </tr>\n",
       "    <tr>\n",
       "      <th>2013</th>\n",
       "      <td>179</td>\n",
       "      <td>29799706.20</td>\n",
       "      <td>166478.81</td>\n",
       "      <td>3580.00</td>\n",
       "    </tr>\n",
       "    <tr>\n",
       "      <th>2014</th>\n",
       "      <td>273</td>\n",
       "      <td>7444951859.20</td>\n",
       "      <td>27270885.93</td>\n",
       "      <td>20400.00</td>\n",
       "    </tr>\n",
       "    <tr>\n",
       "      <th>2015</th>\n",
       "      <td>462</td>\n",
       "      <td>39497365196.40</td>\n",
       "      <td>85492132.46</td>\n",
       "      <td>5003450.15</td>\n",
       "    </tr>\n",
       "    <tr>\n",
       "      <th>2016</th>\n",
       "      <td>525</td>\n",
       "      <td>47866299741.91</td>\n",
       "      <td>91173904.27</td>\n",
       "      <td>3915041.02</td>\n",
       "    </tr>\n",
       "    <tr>\n",
       "      <th>2017</th>\n",
       "      <td>357</td>\n",
       "      <td>48563707217.51</td>\n",
       "      <td>136032793.33</td>\n",
       "      <td>9968340.00</td>\n",
       "    </tr>\n",
       "    <tr>\n",
       "      <th>2018</th>\n",
       "      <td>475</td>\n",
       "      <td>49668403134.32</td>\n",
       "      <td>104565059.23</td>\n",
       "      <td>8891102.21</td>\n",
       "    </tr>\n",
       "    <tr>\n",
       "      <th>2019</th>\n",
       "      <td>530</td>\n",
       "      <td>48425708779.59</td>\n",
       "      <td>91369261.85</td>\n",
       "      <td>4627798.34</td>\n",
       "    </tr>\n",
       "  </tbody>\n",
       "</table>\n",
       "</div>"
      ],
      "text/plain": [
       "                     count            sum         mean     median\n",
       "                box_office     box_office   box_office box_office\n",
       "show_start_year                                                  \n",
       "2010                   101     2428654.00     24046.08    1710.00\n",
       "2011                   109    14102765.00    129383.17    3000.00\n",
       "2012                   123     6955423.00     56548.15    6220.00\n",
       "2013                   179    29799706.20    166478.81    3580.00\n",
       "2014                   273  7444951859.20  27270885.93   20400.00\n",
       "2015                   462 39497365196.40  85492132.46 5003450.15\n",
       "2016                   525 47866299741.91  91173904.27 3915041.02\n",
       "2017                   357 48563707217.51 136032793.33 9968340.00\n",
       "2018                   475 49668403134.32 104565059.23 8891102.21\n",
       "2019                   530 48425708779.59  91369261.85 4627798.34"
      ]
     },
     "execution_count": 70,
     "metadata": {},
     "output_type": "execute_result"
    }
   ],
   "source": [
    "data_pivot = data.query('box_office > 0').pivot_table(index='show_start_year', values='box_office', aggfunc=['count', 'sum', 'mean', 'median'])\n",
    "data_pivot"
   ]
  },
  {
   "cell_type": "code",
   "execution_count": 71,
   "metadata": {},
   "outputs": [
    {
     "data": {
      "text/html": [
       "<div>\n",
       "<style scoped>\n",
       "    .dataframe tbody tr th:only-of-type {\n",
       "        vertical-align: middle;\n",
       "    }\n",
       "\n",
       "    .dataframe tbody tr th {\n",
       "        vertical-align: top;\n",
       "    }\n",
       "\n",
       "    .dataframe thead th {\n",
       "        text-align: right;\n",
       "    }\n",
       "</style>\n",
       "<table border=\"1\" class=\"dataframe\">\n",
       "  <thead>\n",
       "    <tr style=\"text-align: right;\">\n",
       "      <th></th>\n",
       "      <th>Вышло в прокат</th>\n",
       "      <th>Сумма</th>\n",
       "      <th>Среднее</th>\n",
       "      <th>Медиана</th>\n",
       "    </tr>\n",
       "    <tr>\n",
       "      <th>show_start_year</th>\n",
       "      <th></th>\n",
       "      <th></th>\n",
       "      <th></th>\n",
       "      <th></th>\n",
       "    </tr>\n",
       "  </thead>\n",
       "  <tbody>\n",
       "    <tr>\n",
       "      <th>2010</th>\n",
       "      <td>101</td>\n",
       "      <td>2428654.00</td>\n",
       "      <td>24046.08</td>\n",
       "      <td>1710.00</td>\n",
       "    </tr>\n",
       "    <tr>\n",
       "      <th>2011</th>\n",
       "      <td>109</td>\n",
       "      <td>14102765.00</td>\n",
       "      <td>129383.17</td>\n",
       "      <td>3000.00</td>\n",
       "    </tr>\n",
       "    <tr>\n",
       "      <th>2012</th>\n",
       "      <td>123</td>\n",
       "      <td>6955423.00</td>\n",
       "      <td>56548.15</td>\n",
       "      <td>6220.00</td>\n",
       "    </tr>\n",
       "    <tr>\n",
       "      <th>2013</th>\n",
       "      <td>179</td>\n",
       "      <td>29799706.20</td>\n",
       "      <td>166478.81</td>\n",
       "      <td>3580.00</td>\n",
       "    </tr>\n",
       "    <tr>\n",
       "      <th>2014</th>\n",
       "      <td>273</td>\n",
       "      <td>7444951859.20</td>\n",
       "      <td>27270885.93</td>\n",
       "      <td>20400.00</td>\n",
       "    </tr>\n",
       "    <tr>\n",
       "      <th>2015</th>\n",
       "      <td>462</td>\n",
       "      <td>39497365196.40</td>\n",
       "      <td>85492132.46</td>\n",
       "      <td>5003450.15</td>\n",
       "    </tr>\n",
       "    <tr>\n",
       "      <th>2016</th>\n",
       "      <td>525</td>\n",
       "      <td>47866299741.91</td>\n",
       "      <td>91173904.27</td>\n",
       "      <td>3915041.02</td>\n",
       "    </tr>\n",
       "    <tr>\n",
       "      <th>2017</th>\n",
       "      <td>357</td>\n",
       "      <td>48563707217.51</td>\n",
       "      <td>136032793.33</td>\n",
       "      <td>9968340.00</td>\n",
       "    </tr>\n",
       "    <tr>\n",
       "      <th>2018</th>\n",
       "      <td>475</td>\n",
       "      <td>49668403134.32</td>\n",
       "      <td>104565059.23</td>\n",
       "      <td>8891102.21</td>\n",
       "    </tr>\n",
       "    <tr>\n",
       "      <th>2019</th>\n",
       "      <td>530</td>\n",
       "      <td>48425708779.59</td>\n",
       "      <td>91369261.85</td>\n",
       "      <td>4627798.34</td>\n",
       "    </tr>\n",
       "  </tbody>\n",
       "</table>\n",
       "</div>"
      ],
      "text/plain": [
       "                 Вышло в прокат          Сумма      Среднее    Медиана\n",
       "show_start_year                                                       \n",
       "2010                        101     2428654.00     24046.08    1710.00\n",
       "2011                        109    14102765.00    129383.17    3000.00\n",
       "2012                        123     6955423.00     56548.15    6220.00\n",
       "2013                        179    29799706.20    166478.81    3580.00\n",
       "2014                        273  7444951859.20  27270885.93   20400.00\n",
       "2015                        462 39497365196.40  85492132.46 5003450.15\n",
       "2016                        525 47866299741.91  91173904.27 3915041.02\n",
       "2017                        357 48563707217.51 136032793.33 9968340.00\n",
       "2018                        475 49668403134.32 104565059.23 8891102.21\n",
       "2019                        530 48425708779.59  91369261.85 4627798.34"
      ]
     },
     "execution_count": 71,
     "metadata": {},
     "output_type": "execute_result"
    }
   ],
   "source": [
    "data_pivot = data_pivot.set_axis(['Вышло в прокат', 'Сумма', 'Среднее', 'Медиана'], axis='columns')\n",
    "data_pivot"
   ]
  },
  {
   "cell_type": "code",
   "execution_count": 72,
   "metadata": {},
   "outputs": [
    {
     "data": {
      "text/html": [
       "<div>\n",
       "<style scoped>\n",
       "    .dataframe tbody tr th:only-of-type {\n",
       "        vertical-align: middle;\n",
       "    }\n",
       "\n",
       "    .dataframe tbody tr th {\n",
       "        vertical-align: top;\n",
       "    }\n",
       "\n",
       "    .dataframe thead th {\n",
       "        text-align: right;\n",
       "    }\n",
       "</style>\n",
       "<table border=\"1\" class=\"dataframe\">\n",
       "  <thead>\n",
       "    <tr style=\"text-align: right;\">\n",
       "      <th></th>\n",
       "      <th>Вышло в прокат</th>\n",
       "      <th>Фильмов за год</th>\n",
       "      <th>Процент проката</th>\n",
       "    </tr>\n",
       "    <tr>\n",
       "      <th>show_start_year</th>\n",
       "      <th></th>\n",
       "      <th></th>\n",
       "      <th></th>\n",
       "    </tr>\n",
       "  </thead>\n",
       "  <tbody>\n",
       "    <tr>\n",
       "      <th>2010</th>\n",
       "      <td>101</td>\n",
       "      <td>985</td>\n",
       "      <td>10.25</td>\n",
       "    </tr>\n",
       "    <tr>\n",
       "      <th>2011</th>\n",
       "      <td>109</td>\n",
       "      <td>622</td>\n",
       "      <td>17.52</td>\n",
       "    </tr>\n",
       "    <tr>\n",
       "      <th>2012</th>\n",
       "      <td>123</td>\n",
       "      <td>593</td>\n",
       "      <td>20.74</td>\n",
       "    </tr>\n",
       "    <tr>\n",
       "      <th>2013</th>\n",
       "      <td>179</td>\n",
       "      <td>630</td>\n",
       "      <td>28.41</td>\n",
       "    </tr>\n",
       "    <tr>\n",
       "      <th>2014</th>\n",
       "      <td>273</td>\n",
       "      <td>806</td>\n",
       "      <td>33.87</td>\n",
       "    </tr>\n",
       "    <tr>\n",
       "      <th>2015</th>\n",
       "      <td>462</td>\n",
       "      <td>705</td>\n",
       "      <td>65.53</td>\n",
       "    </tr>\n",
       "    <tr>\n",
       "      <th>2016</th>\n",
       "      <td>525</td>\n",
       "      <td>818</td>\n",
       "      <td>64.18</td>\n",
       "    </tr>\n",
       "    <tr>\n",
       "      <th>2017</th>\n",
       "      <td>357</td>\n",
       "      <td>505</td>\n",
       "      <td>70.69</td>\n",
       "    </tr>\n",
       "    <tr>\n",
       "      <th>2018</th>\n",
       "      <td>475</td>\n",
       "      <td>891</td>\n",
       "      <td>53.31</td>\n",
       "    </tr>\n",
       "    <tr>\n",
       "      <th>2019</th>\n",
       "      <td>530</td>\n",
       "      <td>930</td>\n",
       "      <td>56.99</td>\n",
       "    </tr>\n",
       "  </tbody>\n",
       "</table>\n",
       "</div>"
      ],
      "text/plain": [
       "                 Вышло в прокат  Фильмов за год  Процент проката\n",
       "show_start_year                                                 \n",
       "2010                        101             985            10.25\n",
       "2011                        109             622            17.52\n",
       "2012                        123             593            20.74\n",
       "2013                        179             630            28.41\n",
       "2014                        273             806            33.87\n",
       "2015                        462             705            65.53\n",
       "2016                        525             818            64.18\n",
       "2017                        357             505            70.69\n",
       "2018                        475             891            53.31\n",
       "2019                        530             930            56.99"
      ]
     },
     "execution_count": 72,
     "metadata": {},
     "output_type": "execute_result"
    }
   ],
   "source": [
    "data_pivot['Фильмов за год'] = data.pivot_table(index='show_start_year', values='box_office', aggfunc='count')['box_office']\n",
    "data_pivot['Процент проката'] = data_pivot['Вышло в прокат'] / data_pivot['Фильмов за год']  * 100\n",
    "data_pivot.loc[:, ['Вышло в прокат', 'Фильмов за год', 'Процент проката']]"
   ]
  },
  {
   "cell_type": "markdown",
   "metadata": {},
   "source": [
    "Визуализируем данные по проценту проката и количеству вышедших фильмов за каждый год в виде столбчатых диаграмм"
   ]
  },
  {
   "cell_type": "code",
   "execution_count": 73,
   "metadata": {},
   "outputs": [
    {
     "data": {
      "image/png": "[encoded data removed]",
      "text/plain": [
       "<Figure size 1080x360 with 1 Axes>"
      ]
     },
     "metadata": {
      "needs_background": "light"
     },
     "output_type": "display_data"
    }
   ],
   "source": [
    "data_pivot.plot(kind='bar', y='Процент проката', title= 'Диаграмма проката по годам', figsize=(15, 5), grid=True, legend=False);\n",
    "plt.ylabel('Процент проката')\n",
    "plt.xlabel('Год')\n",
    "plt.show()"
   ]
  },
  {
   "cell_type": "markdown",
   "metadata": {},
   "source": [
    "По данным сводной таблицы и графика мы можем отметить, что с 2010 по 2019 значительно увеличилось производство в киноиндустрии, количество фильмов, которые выходили в прокат, суммы затрат выросли примерно в пять раз."
   ]
  },
  {
   "cell_type": "code",
   "execution_count": 74,
   "metadata": {},
   "outputs": [
    {
     "data": {
      "image/png": "[encoded data removed]",
      "text/plain": [
       "<Figure size 1080x360 with 1 Axes>"
      ]
     },
     "metadata": {
      "needs_background": "light"
     },
     "output_type": "display_data"
    }
   ],
   "source": [
    "data_pivot.plot(kind='bar', y='Вышло в прокат', title= 'Диаграмма вышедших фильмов по годам', figsize=(15, 5), grid=True, legend=False);\n",
    "plt.ylabel('Количество фильмов')\n",
    "plt.xlabel('Год')\n",
    "plt.show()"
   ]
  },
  {
   "cell_type": "markdown",
   "metadata": {},
   "source": [
    "Начиная с 2010 заметен рост количества фильмов, которым выдавались прокатные удостоверения в целом, в 2017 был резкий спад, а к 2019 значения вернулись в норму 2016 года."
   ]
  },
  {
   "cell_type": "markdown",
   "metadata": {},
   "source": [
    "**Посмотрим на динамику проката по годам и на изменение суммы сборов в разрезе каждого отдельного года.**"
   ]
  },
  {
   "cell_type": "code",
   "execution_count": 75,
   "metadata": {},
   "outputs": [
    {
     "data": {
      "image/png": "[encoded data removed]",
      "text/plain": [
       "<Figure size 720x360 with 1 Axes>"
      ]
     },
     "metadata": {
      "needs_background": "light"
     },
     "output_type": "display_data"
    }
   ],
   "source": [
    "data_pivot.plot(kind='line', y='Сумма', title= 'График изменения сборов по годам', figsize=(10, 5), legend=False, grid=True)\n",
    "plt.ylabel('Сумма сборов')\n",
    "plt.xlabel('Год')\n",
    "plt.show()"
   ]
  },
  {
   "cell_type": "markdown",
   "metadata": {},
   "source": [
    "Судя по графику, минимальные сборы были в 2010 году, а максимальные в 2018. Подтвердим расчетами:"
   ]
  },
  {
   "cell_type": "code",
   "execution_count": 76,
   "metadata": {},
   "outputs": [
    {
     "name": "stdout",
     "output_type": "stream",
     "text": [
      "Минимум сборов в 2010\n",
      "Максимум сборов в 2018\n"
     ]
    }
   ],
   "source": [
    "print('Минимум сборов в', data_pivot['Сумма'].idxmin())\n",
    "print('Максимум сборов в', data_pivot['Сумма'].idxmax())"
   ]
  },
  {
   "cell_type": "markdown",
   "metadata": {},
   "source": [
    "С увеличением кинопроизводства выросли и суммы сборов."
   ]
  },
  {
   "cell_type": "markdown",
   "metadata": {},
   "source": [
    "**Посмотрим на среднее и медианное значение суммы сборов в рублях по каждому году отдельно, визуализируем.**"
   ]
  },
  {
   "cell_type": "code",
   "execution_count": 77,
   "metadata": {},
   "outputs": [
    {
     "data": {
      "text/html": [
       "<div>\n",
       "<style scoped>\n",
       "    .dataframe tbody tr th:only-of-type {\n",
       "        vertical-align: middle;\n",
       "    }\n",
       "\n",
       "    .dataframe tbody tr th {\n",
       "        vertical-align: top;\n",
       "    }\n",
       "\n",
       "    .dataframe thead th {\n",
       "        text-align: right;\n",
       "    }\n",
       "</style>\n",
       "<table border=\"1\" class=\"dataframe\">\n",
       "  <thead>\n",
       "    <tr style=\"text-align: right;\">\n",
       "      <th></th>\n",
       "      <th>Среднее</th>\n",
       "      <th>Медиана</th>\n",
       "    </tr>\n",
       "    <tr>\n",
       "      <th>show_start_year</th>\n",
       "      <th></th>\n",
       "      <th></th>\n",
       "    </tr>\n",
       "  </thead>\n",
       "  <tbody>\n",
       "    <tr>\n",
       "      <th>2010</th>\n",
       "      <td>24046.08</td>\n",
       "      <td>1710.00</td>\n",
       "    </tr>\n",
       "    <tr>\n",
       "      <th>2011</th>\n",
       "      <td>129383.17</td>\n",
       "      <td>3000.00</td>\n",
       "    </tr>\n",
       "    <tr>\n",
       "      <th>2012</th>\n",
       "      <td>56548.15</td>\n",
       "      <td>6220.00</td>\n",
       "    </tr>\n",
       "    <tr>\n",
       "      <th>2013</th>\n",
       "      <td>166478.81</td>\n",
       "      <td>3580.00</td>\n",
       "    </tr>\n",
       "    <tr>\n",
       "      <th>2014</th>\n",
       "      <td>27270885.93</td>\n",
       "      <td>20400.00</td>\n",
       "    </tr>\n",
       "    <tr>\n",
       "      <th>2015</th>\n",
       "      <td>85492132.46</td>\n",
       "      <td>5003450.15</td>\n",
       "    </tr>\n",
       "    <tr>\n",
       "      <th>2016</th>\n",
       "      <td>91173904.27</td>\n",
       "      <td>3915041.02</td>\n",
       "    </tr>\n",
       "    <tr>\n",
       "      <th>2017</th>\n",
       "      <td>136032793.33</td>\n",
       "      <td>9968340.00</td>\n",
       "    </tr>\n",
       "    <tr>\n",
       "      <th>2018</th>\n",
       "      <td>104565059.23</td>\n",
       "      <td>8891102.21</td>\n",
       "    </tr>\n",
       "    <tr>\n",
       "      <th>2019</th>\n",
       "      <td>91369261.85</td>\n",
       "      <td>4627798.34</td>\n",
       "    </tr>\n",
       "  </tbody>\n",
       "</table>\n",
       "</div>"
      ],
      "text/plain": [
       "                     Среднее    Медиана\n",
       "show_start_year                        \n",
       "2010                24046.08    1710.00\n",
       "2011               129383.17    3000.00\n",
       "2012                56548.15    6220.00\n",
       "2013               166478.81    3580.00\n",
       "2014             27270885.93   20400.00\n",
       "2015             85492132.46 5003450.15\n",
       "2016             91173904.27 3915041.02\n",
       "2017            136032793.33 9968340.00\n",
       "2018            104565059.23 8891102.21\n",
       "2019             91369261.85 4627798.34"
      ]
     },
     "metadata": {},
     "output_type": "display_data"
    }
   ],
   "source": [
    "display(data_pivot.loc[:, ['Среднее', 'Медиана']])"
   ]
  },
  {
   "cell_type": "code",
   "execution_count": 78,
   "metadata": {},
   "outputs": [
    {
     "data": {
      "image/png": "[encoded data removed]",
      "text/plain": [
       "<Figure size 720x360 with 1 Axes>"
      ]
     },
     "metadata": {
      "needs_background": "light"
     },
     "output_type": "display_data"
    }
   ],
   "source": [
    "data_pivot.plot(kind='line', y=['Медиана', 'Среднее'], title= 'График среднего и медианного значения суммы сборов по годам', figsize=(10, 5), legend=True, grid=True)\n",
    "plt.ylabel('Сборы')\n",
    "plt.xlabel('Год')\n",
    "plt.show()"
   ]
  },
  {
   "cell_type": "markdown",
   "metadata": {},
   "source": [
    "Из графика мы видим, что динамика сохраняется: с 2010 по 2019 суммы за сборы естественно увеличивались. Несмотря на изменение среднего за эти годы, медианное значение так и осталось не очень большим. \n",
    "\n",
    "На графике мы видим существенное изменение среднего по годам, в отличие от медианы. Среднее значение является чувствительной статистической мерой, на нее сильно влияют крайние значения. С 2010 до 2013 года среднее и медиана совпадали - это значит, что распределение было симметрично. С 2013 года среднее значение выросло, это означает, что появились отдельные фильмы, сборы за которые на порядок превышают другие."
   ]
  },
  {
   "cell_type": "markdown",
   "metadata": {},
   "source": [
    "**Изучим влияние возрастного ограничения на сборы**"
   ]
  },
  {
   "cell_type": "code",
   "execution_count": 79,
   "metadata": {},
   "outputs": [
    {
     "data": {
      "image/png": "[encoded data removed]",
      "text/plain": [
       "<Figure size 1080x504 with 1 Axes>"
      ]
     },
     "metadata": {
      "needs_background": "light"
     },
     "output_type": "display_data"
    }
   ],
   "source": [
    "data_age = data.query('box_office > 0').pivot_table(index='show_start_year', columns='age_restriction', values='box_office', aggfunc='sum')\n",
    "\n",
    "(data_age.plot(kind='line', xlim=[2014, 2019], figsize=(15, 7), title= 'График зависимости сборов от возрастного ограничения', legend=True, grid=True))\n",
    "plt.ylabel('Сборы')\n",
    "plt.xlabel('Год')\n",
    "plt.show()"
   ]
  },
  {
   "cell_type": "markdown",
   "metadata": {},
   "source": [
    "Посмотрим на суммарные данные по категориям и подведем итог в строке total"
   ]
  },
  {
   "cell_type": "code",
   "execution_count": 80,
   "metadata": {},
   "outputs": [
    {
     "data": {
      "text/html": [
       "<div>\n",
       "<style scoped>\n",
       "    .dataframe tbody tr th:only-of-type {\n",
       "        vertical-align: middle;\n",
       "    }\n",
       "\n",
       "    .dataframe tbody tr th {\n",
       "        vertical-align: top;\n",
       "    }\n",
       "\n",
       "    .dataframe thead th {\n",
       "        text-align: right;\n",
       "    }\n",
       "</style>\n",
       "<table border=\"1\" class=\"dataframe\">\n",
       "  <thead>\n",
       "    <tr style=\"text-align: right;\">\n",
       "      <th>age_restriction</th>\n",
       "      <th>«0+» - для любой зрительской аудитории</th>\n",
       "      <th>«12+» - для детей старше 12 лет</th>\n",
       "      <th>«16+» - для детей старше 16 лет</th>\n",
       "      <th>«18+» - запрещено для детей</th>\n",
       "      <th>«6+» - для детей старше 6 лет</th>\n",
       "    </tr>\n",
       "    <tr>\n",
       "      <th>show_start_year</th>\n",
       "      <th></th>\n",
       "      <th></th>\n",
       "      <th></th>\n",
       "      <th></th>\n",
       "      <th></th>\n",
       "    </tr>\n",
       "  </thead>\n",
       "  <tbody>\n",
       "    <tr>\n",
       "      <th>2010</th>\n",
       "      <td>1887611.00</td>\n",
       "      <td>120146.00</td>\n",
       "      <td>366512.00</td>\n",
       "      <td>54385.00</td>\n",
       "      <td>NaN</td>\n",
       "    </tr>\n",
       "    <tr>\n",
       "      <th>2011</th>\n",
       "      <td>13499871.00</td>\n",
       "      <td>219891.00</td>\n",
       "      <td>381513.00</td>\n",
       "      <td>1040.00</td>\n",
       "      <td>450.00</td>\n",
       "    </tr>\n",
       "    <tr>\n",
       "      <th>2012</th>\n",
       "      <td>2266483.00</td>\n",
       "      <td>108734.00</td>\n",
       "      <td>3254216.00</td>\n",
       "      <td>182580.00</td>\n",
       "      <td>1143410.00</td>\n",
       "    </tr>\n",
       "    <tr>\n",
       "      <th>2013</th>\n",
       "      <td>2710302.50</td>\n",
       "      <td>20910336.50</td>\n",
       "      <td>658069.60</td>\n",
       "      <td>5161245.60</td>\n",
       "      <td>359752.00</td>\n",
       "    </tr>\n",
       "    <tr>\n",
       "      <th>2014</th>\n",
       "      <td>375562258.20</td>\n",
       "      <td>2584782324.00</td>\n",
       "      <td>544280086.70</td>\n",
       "      <td>2209712746.90</td>\n",
       "      <td>1730614443.40</td>\n",
       "    </tr>\n",
       "    <tr>\n",
       "      <th>2015</th>\n",
       "      <td>379054578.37</td>\n",
       "      <td>13616082008.91</td>\n",
       "      <td>11368120870.27</td>\n",
       "      <td>5432308367.44</td>\n",
       "      <td>8701799371.41</td>\n",
       "    </tr>\n",
       "    <tr>\n",
       "      <th>2016</th>\n",
       "      <td>150228848.67</td>\n",
       "      <td>12204446524.39</td>\n",
       "      <td>16664548541.74</td>\n",
       "      <td>6793929818.87</td>\n",
       "      <td>12053146008.24</td>\n",
       "    </tr>\n",
       "    <tr>\n",
       "      <th>2017</th>\n",
       "      <td>229598930.00</td>\n",
       "      <td>7851427660.67</td>\n",
       "      <td>18745042900.06</td>\n",
       "      <td>9651495581.02</td>\n",
       "      <td>12086142145.76</td>\n",
       "    </tr>\n",
       "    <tr>\n",
       "      <th>2018</th>\n",
       "      <td>32449002.11</td>\n",
       "      <td>14267291660.69</td>\n",
       "      <td>16503602346.96</td>\n",
       "      <td>8760085501.15</td>\n",
       "      <td>10104974623.41</td>\n",
       "    </tr>\n",
       "    <tr>\n",
       "      <th>2019</th>\n",
       "      <td>17746066.82</td>\n",
       "      <td>12680198773.67</td>\n",
       "      <td>12753418984.60</td>\n",
       "      <td>10121796303.64</td>\n",
       "      <td>12852548650.86</td>\n",
       "    </tr>\n",
       "    <tr>\n",
       "      <th>total</th>\n",
       "      <td>1205003951.67</td>\n",
       "      <td>63225588059.83</td>\n",
       "      <td>76583674040.93</td>\n",
       "      <td>42974727569.62</td>\n",
       "      <td>57530728855.08</td>\n",
       "    </tr>\n",
       "  </tbody>\n",
       "</table>\n",
       "</div>"
      ],
      "text/plain": [
       "age_restriction  «0+» - для любой зрительской аудитории  \\\n",
       "show_start_year                                           \n",
       "2010                                         1887611.00   \n",
       "2011                                        13499871.00   \n",
       "2012                                         2266483.00   \n",
       "2013                                         2710302.50   \n",
       "2014                                       375562258.20   \n",
       "2015                                       379054578.37   \n",
       "2016                                       150228848.67   \n",
       "2017                                       229598930.00   \n",
       "2018                                        32449002.11   \n",
       "2019                                        17746066.82   \n",
       "total                                     1205003951.67   \n",
       "\n",
       "age_restriction  «12+» - для детей старше 12 лет  \\\n",
       "show_start_year                                    \n",
       "2010                                   120146.00   \n",
       "2011                                   219891.00   \n",
       "2012                                   108734.00   \n",
       "2013                                 20910336.50   \n",
       "2014                               2584782324.00   \n",
       "2015                              13616082008.91   \n",
       "2016                              12204446524.39   \n",
       "2017                               7851427660.67   \n",
       "2018                              14267291660.69   \n",
       "2019                              12680198773.67   \n",
       "total                             63225588059.83   \n",
       "\n",
       "age_restriction  «16+» - для детей старше 16 лет  «18+» - запрещено для детей  \\\n",
       "show_start_year                                                                 \n",
       "2010                                   366512.00                     54385.00   \n",
       "2011                                   381513.00                      1040.00   \n",
       "2012                                  3254216.00                    182580.00   \n",
       "2013                                   658069.60                   5161245.60   \n",
       "2014                                544280086.70                2209712746.90   \n",
       "2015                              11368120870.27                5432308367.44   \n",
       "2016                              16664548541.74                6793929818.87   \n",
       "2017                              18745042900.06                9651495581.02   \n",
       "2018                              16503602346.96                8760085501.15   \n",
       "2019                              12753418984.60               10121796303.64   \n",
       "total                             76583674040.93               42974727569.62   \n",
       "\n",
       "age_restriction  «6+» - для детей старше 6 лет  \n",
       "show_start_year                                 \n",
       "2010                                       NaN  \n",
       "2011                                    450.00  \n",
       "2012                                1143410.00  \n",
       "2013                                 359752.00  \n",
       "2014                             1730614443.40  \n",
       "2015                             8701799371.41  \n",
       "2016                            12053146008.24  \n",
       "2017                            12086142145.76  \n",
       "2018                            10104974623.41  \n",
       "2019                            12852548650.86  \n",
       "total                           57530728855.08  "
      ]
     },
     "execution_count": 80,
     "metadata": {},
     "output_type": "execute_result"
    }
   ],
   "source": [
    "sum = data_age.sum(axis=0)\n",
    "data_age = data_age.append(pd.Series(sum, name='total'))\n",
    "data_age"
   ]
  },
  {
   "cell_type": "markdown",
   "metadata": {},
   "source": [
    "Выведем минимальную и максимальную сумму по категориям"
   ]
  },
  {
   "cell_type": "code",
   "execution_count": 81,
   "metadata": {},
   "outputs": [
    {
     "name": "stdout",
     "output_type": "stream",
     "text": [
      "Минимум: 1205003951.67 руб.\n",
      "Максимум: 76583674040.93 руб.\n"
     ]
    }
   ],
   "source": [
    "print('Минимум: {} руб.' .format(round(sum.min(), 2)))\n",
    "print('Максимум: {} руб.' .format(round(sum.max(), 2)))"
   ]
  },
  {
   "cell_type": "markdown",
   "metadata": {},
   "source": [
    "Из расчета и таблицы мы видим, что в прокате фильмы с возрастным ограничением '«0+» - для любой зрительской аудитории' набрали меньше всего средств, а больше всего средств собрали фильмы с возрастным ограничением '«16+» — для детей старше 16 лет'."
   ]
  },
  {
   "cell_type": "markdown",
   "metadata": {},
   "source": [
    "На графике зависимости сборов от возрастного ограничения видно, что фильмы категории «16+» три года подряд (2016, 2017 и 2018) лидировали по сборам, в то время как в других категориях был спад или не очень существенные изменения, и только в 2019 году первое место по сборам заняли фильмы категории «6+» и то с почти незаметным отрывом.\n",
    "\n",
    "Это может быть связано с тем, что фильмы категории «16+» после своего пика в 2017 году по какой-то причине начали терять аудиторию. Предположим: это могло быть из-за перенасыщения рынка или из-за того, что популярность начали набирать фильмы категории «12+» (так называемые \"семейные\"), что в итоге и привело к спаду в категории фильмов «16+»."
   ]
  },
  {
   "cell_type": "code",
   "execution_count": 101,
   "metadata": {},
   "outputs": [
    {
     "data": {
      "image/png": "[encoded data removed]",
      "text/plain": [
       "<Figure size 576x576 with 1 Axes>"
      ]
     },
     "metadata": {
      "needs_background": "light"
     },
     "output_type": "display_data"
    }
   ],
   "source": [
    "# Комментарий ревьюера 2\n",
    "import seaborn as sns\n",
    "temp = data.copy()\n",
    "# для удобства укоротим названия категорий\n",
    "def get_first_value(s, sep = ','):  # Функция для выбора первого элемента из перечисления\n",
    "    value_lst = s.split(sep=sep)\n",
    "    return value_lst[0]\n",
    "\n",
    "temp['age_restriction'] = temp['age_restriction'].apply(lambda x: get_first_value(x, sep='-'))\n",
    "# сохраним маску для среза по годам\n",
    "year_mask = temp['show_start_year'] >= 2015\n",
    "\n",
    "plt.figure(figsize=(8, 8))\n",
    "(sns.boxplot(data = temp.loc[year_mask], y = 'box_office', x='age_restriction', showfliers=False, showmeans=True)\n",
    "    .set(title = 'Кассовые сборы в зависимости от возрастной категории', \n",
    "         xlabel = 'Возрастные категории', ylabel = 'Кассовый сбор'))\n",
    "plt.text(0, 1.1e8,'Треугольник показывает среднее значение')\n",
    "plt.show()"
   ]
  },
  {
   "cell_type": "markdown",
   "metadata": {},
   "source": [
    "**Вывод**\\\n",
    "На данном этапе мы обратили внимание на такие данные как: сколько фильмов выходило в прокат каждый год, как менялась динамика проката по годам, определили влияние возрастного ограничения аудитории на сборы.\n",
    "\n",
    "По исходным данным, проведенному анализу и полученным результатам можно сделать вывод, что кинопроизводство за период с 2010 по 2019 годы росло и развивалось, увеличивалось производство фильмов, суммы затрат выросли примерно в пять раз. Минимальные сборы были в 2010 году, а максимальные в 2018. \n",
    "\n",
    "Тем не менее, в 2017 году наблюдался резкий спад количества фильмов, получивших прокатные удостоверения, после чего, с 2018 года снова начался подъем и к 2019 году значения вернулись в норму 2016 года.\n",
    "\n",
    "По сборам лидерами являлись фильмы категории «16+», но после 2017 года они начали терять аудиторию, возможно из-за перенасыщения рынка и конкуренции со стороны фильмов категории «12+». В 2019 году первое место по сборам заняли фильмы категории «6+», это может говорить о том, что вкусы и предпочтения зрителей меняются со временем. Увеличение интереса к фильмам категории «6+» может быть связано с тенденцией к семейным ценностям, например, родители стали больше внимания уделять своим детям. Кроме того, существенное влияние на выбор зрителей может оказывать качество фильмов и их сценарий, а также качество продвижения и рекламы."
   ]
  },
  {
   "cell_type": "markdown",
   "metadata": {
    "id": "l_Kg6Ku4gFya"
   },
   "source": [
    "### Шаг 4. Исследуем фильмы, которые получили государственную поддержку"
   ]
  },
  {
   "cell_type": "markdown",
   "metadata": {
    "id": "W9QKpjUdgFyb"
   },
   "source": [
    "Исследуем фильмы с господдержкой через параметр сборов: сколько собрано в целом, по фильмам, по жанрам; а также проверим рейтинги."
   ]
  },
  {
   "cell_type": "code",
   "execution_count": 82,
   "metadata": {},
   "outputs": [
    {
     "data": {
      "text/plain": [
       "count         7485.00\n",
       "mean      32267163.99\n",
       "std      160611080.38\n",
       "min              0.00\n",
       "25%              0.00\n",
       "50%              0.00\n",
       "75%        1081445.00\n",
       "max     3073568690.79\n",
       "Name: box_office, dtype: float64"
      ]
     },
     "execution_count": 82,
     "metadata": {},
     "output_type": "execute_result"
    }
   ],
   "source": [
    "data['box_office'].describe()"
   ]
  },
  {
   "cell_type": "markdown",
   "metadata": {},
   "source": [
    "Исключим отсутствующие данные и построим гистограмму для наглядности"
   ]
  },
  {
   "cell_type": "code",
   "execution_count": 83,
   "metadata": {},
   "outputs": [
    {
     "data": {
      "text/plain": [
       "Text(0.5, 0, 'Сумма сборов')"
      ]
     },
     "execution_count": 83,
     "metadata": {},
     "output_type": "execute_result"
    },
    {
     "data": {
      "image/png": "[encoded data removed]",
      "text/plain": [
       "<Figure size 432x288 with 1 Axes>"
      ]
     },
     "metadata": {
      "needs_background": "light"
     },
     "output_type": "display_data"
    }
   ],
   "source": [
    "data.query('box_office > 0')['box_office'].hist(bins=100)\n",
    "\n",
    "plt.title('Гистограмма распределения сборов')\n",
    "plt.ylabel('Количество')\n",
    "plt.xlabel('Сумма сборов')"
   ]
  },
  {
   "cell_type": "markdown",
   "metadata": {},
   "source": [
    "Судя по графику, сборов в крупных суммах было очень немного. Преобладают сборы до 500 тыс. руб., но большая часть сборов все равно довольно мала."
   ]
  },
  {
   "cell_type": "markdown",
   "metadata": {},
   "source": [
    "Посмотрим на количество снятых с господдержкой фильмов, отдельно для тех, у которых есть сборы, и отдельно без сборов."
   ]
  },
  {
   "cell_type": "code",
   "execution_count": 84,
   "metadata": {},
   "outputs": [
    {
     "name": "stdout",
     "output_type": "stream",
     "text": [
      "Без информации о сборах: 14\n",
      "С информацией о сборах: 318\n"
     ]
    }
   ],
   "source": [
    "list = ['Министерство культуры', 'Фонд кино', 'Министерство культуры, Фонд кино']\n",
    "print('Без информации о сборах:', data.query('budget != 0 and box_office == 0  and financing_source in @list' )['title'].count())\n",
    "print('С информацией о сборах:', data.query('budget != 0 and box_office != 0 and financing_source in @list' )['title'].count())"
   ]
  },
  {
   "cell_type": "markdown",
   "metadata": {},
   "source": [
    "Ранее, на этапе предобработки данных мы пришли к выводу, что на момент формирования данных некоторые фильмы только вышли в прокат и пока не имели информации о сборах. Последняя дата, которая зафиксирована в данных, это 30 декабря 2019 года. Допустим, что за два месяца и более после даты старта фильма, данные о сборах уже есть, так что исключим фильмы, которые были запущены в прокат после 30 октября 2019 года."
   ]
  },
  {
   "cell_type": "code",
   "execution_count": 85,
   "metadata": {},
   "outputs": [
    {
     "data": {
      "text/html": [
       "<div>\n",
       "<style scoped>\n",
       "    .dataframe tbody tr th:only-of-type {\n",
       "        vertical-align: middle;\n",
       "    }\n",
       "\n",
       "    .dataframe tbody tr th {\n",
       "        vertical-align: top;\n",
       "    }\n",
       "\n",
       "    .dataframe thead th {\n",
       "        text-align: right;\n",
       "    }\n",
       "</style>\n",
       "<table border=\"1\" class=\"dataframe\">\n",
       "  <thead>\n",
       "    <tr style=\"text-align: right;\">\n",
       "      <th></th>\n",
       "      <th>title</th>\n",
       "      <th>pu_number</th>\n",
       "      <th>show_start_date</th>\n",
       "      <th>type</th>\n",
       "      <th>film_studio</th>\n",
       "      <th>production_country</th>\n",
       "      <th>director</th>\n",
       "      <th>producer</th>\n",
       "      <th>age_restriction</th>\n",
       "      <th>refundable_support</th>\n",
       "      <th>nonrefundable_support</th>\n",
       "      <th>budget</th>\n",
       "      <th>financing_source</th>\n",
       "      <th>ratings</th>\n",
       "      <th>genres</th>\n",
       "      <th>box_office</th>\n",
       "      <th>show_start_year</th>\n",
       "      <th>main_director</th>\n",
       "      <th>main_genres</th>\n",
       "      <th>support_percent</th>\n",
       "    </tr>\n",
       "  </thead>\n",
       "  <tbody>\n",
       "    <tr>\n",
       "      <th>2799</th>\n",
       "      <td>Золотая рыбка (2015)</td>\n",
       "      <td>111018715</td>\n",
       "      <td>2015-10-29 12:00:00+00:00</td>\n",
       "      <td>Художественный</td>\n",
       "      <td>ООО \"Кинокомпания Дебют\"</td>\n",
       "      <td>Россия</td>\n",
       "      <td>А.Галибин</td>\n",
       "      <td>Б.Токарев</td>\n",
       "      <td>«12+» - для детей старше 12 лет</td>\n",
       "      <td>0.00</td>\n",
       "      <td>25000000.00</td>\n",
       "      <td>41998984.00</td>\n",
       "      <td>Министерство культуры</td>\n",
       "      <td>6.30</td>\n",
       "      <td>драма</td>\n",
       "      <td>0.00</td>\n",
       "      <td>2015</td>\n",
       "      <td>А.Галибин</td>\n",
       "      <td>драма</td>\n",
       "      <td>59.53</td>\n",
       "    </tr>\n",
       "    <tr>\n",
       "      <th>3336</th>\n",
       "      <td>Любовь и Сакс</td>\n",
       "      <td>111001217</td>\n",
       "      <td>2017-02-16 12:00:00+00:00</td>\n",
       "      <td>Художественный</td>\n",
       "      <td>ООО \"ДжемСтудия\"</td>\n",
       "      <td>Россия</td>\n",
       "      <td>А.Сурикова</td>\n",
       "      <td>А.Голутва</td>\n",
       "      <td>«12+» - для детей старше 12 лет</td>\n",
       "      <td>0.00</td>\n",
       "      <td>10000000.00</td>\n",
       "      <td>61000000.00</td>\n",
       "      <td>Министерство культуры</td>\n",
       "      <td>5.20</td>\n",
       "      <td>мелодрама</td>\n",
       "      <td>0.00</td>\n",
       "      <td>2017</td>\n",
       "      <td>А.Сурикова</td>\n",
       "      <td>мелодрама</td>\n",
       "      <td>16.39</td>\n",
       "    </tr>\n",
       "    <tr>\n",
       "      <th>3710</th>\n",
       "      <td>Колобанга. Только для пользователей Интернета ...</td>\n",
       "      <td>214010116</td>\n",
       "      <td>2016-10-06 12:00:00+00:00</td>\n",
       "      <td>Анимационный</td>\n",
       "      <td>ООО \"Колобанга\"</td>\n",
       "      <td>Россия</td>\n",
       "      <td>А.Романец</td>\n",
       "      <td>А.Ревва</td>\n",
       "      <td>«0+» - для любой зрительской аудитории</td>\n",
       "      <td>0.00</td>\n",
       "      <td>11520000.00</td>\n",
       "      <td>18706080.00</td>\n",
       "      <td>Министерство культуры</td>\n",
       "      <td>7.00</td>\n",
       "      <td>мультфильм,приключения,детектив</td>\n",
       "      <td>0.00</td>\n",
       "      <td>2016</td>\n",
       "      <td>А.Романец</td>\n",
       "      <td>мультфильм</td>\n",
       "      <td>61.58</td>\n",
       "    </tr>\n",
       "    <tr>\n",
       "      <th>5660</th>\n",
       "      <td>Детский юмористический киножурнал \"ЕРАЛАШ\", вы...</td>\n",
       "      <td>111011917</td>\n",
       "      <td>2017-12-26 12:00:00+00:00</td>\n",
       "      <td>Художественный</td>\n",
       "      <td>ООО \"Продюсерский центр ЕРАЛАШ\"</td>\n",
       "      <td>Россия</td>\n",
       "      <td>Е.Соколов, В.Панжев, Г.Курлаев, С.Морозов, М.С...</td>\n",
       "      <td>ООО \"Продюсерский центр ЕРАЛАШ\"</td>\n",
       "      <td>«0+» - для любой зрительской аудитории</td>\n",
       "      <td>0.00</td>\n",
       "      <td>25000000.00</td>\n",
       "      <td>44600000.00</td>\n",
       "      <td>Министерство культуры</td>\n",
       "      <td>7.20</td>\n",
       "      <td>детский,комедия</td>\n",
       "      <td>0.00</td>\n",
       "      <td>2017</td>\n",
       "      <td>Е.Соколов</td>\n",
       "      <td>детский</td>\n",
       "      <td>56.05</td>\n",
       "    </tr>\n",
       "    <tr>\n",
       "      <th>6475</th>\n",
       "      <td>Зима</td>\n",
       "      <td>111023518</td>\n",
       "      <td>2019-03-15 12:00:00+00:00</td>\n",
       "      <td>Художественный</td>\n",
       "      <td>ООО \"КиноТрест\"</td>\n",
       "      <td>Россия</td>\n",
       "      <td>С.Черников</td>\n",
       "      <td>З.Болотаев, А.Плотников, Н.Агеев, А.Горский, П...</td>\n",
       "      <td>«16+» - для детей старше 16 лет</td>\n",
       "      <td>0.00</td>\n",
       "      <td>25000000.00</td>\n",
       "      <td>39700000.00</td>\n",
       "      <td>Министерство культуры</td>\n",
       "      <td>5.20</td>\n",
       "      <td>драма,криминал</td>\n",
       "      <td>0.00</td>\n",
       "      <td>2019</td>\n",
       "      <td>С.Черников</td>\n",
       "      <td>драма</td>\n",
       "      <td>62.97</td>\n",
       "    </tr>\n",
       "    <tr>\n",
       "      <th>6708</th>\n",
       "      <td>Мальчик русский</td>\n",
       "      <td>111002619</td>\n",
       "      <td>2019-02-20 12:00:00+00:00</td>\n",
       "      <td>Художественный</td>\n",
       "      <td>АО \"Ленфильм\"</td>\n",
       "      <td>Россия</td>\n",
       "      <td>А.Золотухин</td>\n",
       "      <td>Продюсер не определен</td>\n",
       "      <td>«12+» - для детей старше 12 лет</td>\n",
       "      <td>0.00</td>\n",
       "      <td>30000000.00</td>\n",
       "      <td>46941140.00</td>\n",
       "      <td>Министерство культуры</td>\n",
       "      <td>6.10</td>\n",
       "      <td>драма,военный,история</td>\n",
       "      <td>0.00</td>\n",
       "      <td>2019</td>\n",
       "      <td>А.Золотухин</td>\n",
       "      <td>драма</td>\n",
       "      <td>63.91</td>\n",
       "    </tr>\n",
       "    <tr>\n",
       "      <th>6967</th>\n",
       "      <td>Танец с саблями</td>\n",
       "      <td>111008619</td>\n",
       "      <td>2019-05-29 12:00:00+00:00</td>\n",
       "      <td>Художественный</td>\n",
       "      <td>ООО \"Кинокомпания Флагман\" по заказу ООО \"ММЕ\"</td>\n",
       "      <td>Россия</td>\n",
       "      <td>Ю.Разыков</td>\n",
       "      <td>Р.Дишдишян, ООО \"МАРС МЕДИА ЭНТЕРТЕЙНМЕНТ\"</td>\n",
       "      <td>«16+» - для детей старше 16 лет</td>\n",
       "      <td>0.00</td>\n",
       "      <td>40000000.00</td>\n",
       "      <td>61571449.00</td>\n",
       "      <td>Министерство культуры</td>\n",
       "      <td>5.80</td>\n",
       "      <td>драма,история,биография</td>\n",
       "      <td>0.00</td>\n",
       "      <td>2019</td>\n",
       "      <td>Ю.Разыков</td>\n",
       "      <td>драма</td>\n",
       "      <td>64.97</td>\n",
       "    </tr>\n",
       "    <tr>\n",
       "      <th>7008</th>\n",
       "      <td>Куратор</td>\n",
       "      <td>111010019</td>\n",
       "      <td>2019-06-13 12:00:00+00:00</td>\n",
       "      <td>Художественный</td>\n",
       "      <td>ООО \"Кинокомпания Атлантик\", 20 стэпс продакшнс</td>\n",
       "      <td>Россия - Грузия</td>\n",
       "      <td>П.Левченко</td>\n",
       "      <td>Е.Филиппова</td>\n",
       "      <td>«16+» - для детей старше 16 лет</td>\n",
       "      <td>0.00</td>\n",
       "      <td>25000000.00</td>\n",
       "      <td>60668576.00</td>\n",
       "      <td>Министерство культуры</td>\n",
       "      <td>4.90</td>\n",
       "      <td>драма,криминал,детектив</td>\n",
       "      <td>0.00</td>\n",
       "      <td>2019</td>\n",
       "      <td>П.Левченко</td>\n",
       "      <td>драма</td>\n",
       "      <td>41.21</td>\n",
       "    </tr>\n",
       "  </tbody>\n",
       "</table>\n",
       "</div>"
      ],
      "text/plain": [
       "                                                  title  pu_number  \\\n",
       "2799                               Золотая рыбка (2015)  111018715   \n",
       "3336                                      Любовь и Сакс  111001217   \n",
       "3710  Колобанга. Только для пользователей Интернета ...  214010116   \n",
       "5660  Детский юмористический киножурнал \"ЕРАЛАШ\", вы...  111011917   \n",
       "6475                                               Зима  111023518   \n",
       "6708                                    Мальчик русский  111002619   \n",
       "6967                                    Танец с саблями  111008619   \n",
       "7008                                            Куратор  111010019   \n",
       "\n",
       "               show_start_date            type  \\\n",
       "2799 2015-10-29 12:00:00+00:00  Художественный   \n",
       "3336 2017-02-16 12:00:00+00:00  Художественный   \n",
       "3710 2016-10-06 12:00:00+00:00    Анимационный   \n",
       "5660 2017-12-26 12:00:00+00:00  Художественный   \n",
       "6475 2019-03-15 12:00:00+00:00  Художественный   \n",
       "6708 2019-02-20 12:00:00+00:00  Художественный   \n",
       "6967 2019-05-29 12:00:00+00:00  Художественный   \n",
       "7008 2019-06-13 12:00:00+00:00  Художественный   \n",
       "\n",
       "                                          film_studio production_country  \\\n",
       "2799                         ООО \"Кинокомпания Дебют\"             Россия   \n",
       "3336                                 ООО \"ДжемСтудия\"             Россия   \n",
       "3710                                  ООО \"Колобанга\"             Россия   \n",
       "5660                  ООО \"Продюсерский центр ЕРАЛАШ\"             Россия   \n",
       "6475                                  ООО \"КиноТрест\"             Россия   \n",
       "6708                                    АО \"Ленфильм\"             Россия   \n",
       "6967   ООО \"Кинокомпания Флагман\" по заказу ООО \"ММЕ\"             Россия   \n",
       "7008  ООО \"Кинокомпания Атлантик\", 20 стэпс продакшнс    Россия - Грузия   \n",
       "\n",
       "                                               director  \\\n",
       "2799                                          А.Галибин   \n",
       "3336                                         А.Сурикова   \n",
       "3710                                          А.Романец   \n",
       "5660  Е.Соколов, В.Панжев, Г.Курлаев, С.Морозов, М.С...   \n",
       "6475                                         С.Черников   \n",
       "6708                                        А.Золотухин   \n",
       "6967                                          Ю.Разыков   \n",
       "7008                                         П.Левченко   \n",
       "\n",
       "                                               producer  \\\n",
       "2799                                          Б.Токарев   \n",
       "3336                                          А.Голутва   \n",
       "3710                                            А.Ревва   \n",
       "5660                    ООО \"Продюсерский центр ЕРАЛАШ\"   \n",
       "6475  З.Болотаев, А.Плотников, Н.Агеев, А.Горский, П...   \n",
       "6708                              Продюсер не определен   \n",
       "6967         Р.Дишдишян, ООО \"МАРС МЕДИА ЭНТЕРТЕЙНМЕНТ\"   \n",
       "7008                                        Е.Филиппова   \n",
       "\n",
       "                             age_restriction  refundable_support  \\\n",
       "2799         «12+» - для детей старше 12 лет                0.00   \n",
       "3336         «12+» - для детей старше 12 лет                0.00   \n",
       "3710  «0+» - для любой зрительской аудитории                0.00   \n",
       "5660  «0+» - для любой зрительской аудитории                0.00   \n",
       "6475         «16+» - для детей старше 16 лет                0.00   \n",
       "6708         «12+» - для детей старше 12 лет                0.00   \n",
       "6967         «16+» - для детей старше 16 лет                0.00   \n",
       "7008         «16+» - для детей старше 16 лет                0.00   \n",
       "\n",
       "      nonrefundable_support      budget       financing_source  ratings  \\\n",
       "2799            25000000.00 41998984.00  Министерство культуры     6.30   \n",
       "3336            10000000.00 61000000.00  Министерство культуры     5.20   \n",
       "3710            11520000.00 18706080.00  Министерство культуры     7.00   \n",
       "5660            25000000.00 44600000.00  Министерство культуры     7.20   \n",
       "6475            25000000.00 39700000.00  Министерство культуры     5.20   \n",
       "6708            30000000.00 46941140.00  Министерство культуры     6.10   \n",
       "6967            40000000.00 61571449.00  Министерство культуры     5.80   \n",
       "7008            25000000.00 60668576.00  Министерство культуры     4.90   \n",
       "\n",
       "                               genres  box_office  show_start_year  \\\n",
       "2799                            драма        0.00             2015   \n",
       "3336                        мелодрама        0.00             2017   \n",
       "3710  мультфильм,приключения,детектив        0.00             2016   \n",
       "5660                  детский,комедия        0.00             2017   \n",
       "6475                   драма,криминал        0.00             2019   \n",
       "6708            драма,военный,история        0.00             2019   \n",
       "6967          драма,история,биография        0.00             2019   \n",
       "7008          драма,криминал,детектив        0.00             2019   \n",
       "\n",
       "     main_director main_genres  support_percent  \n",
       "2799     А.Галибин       драма            59.53  \n",
       "3336    А.Сурикова   мелодрама            16.39  \n",
       "3710     А.Романец  мультфильм            61.58  \n",
       "5660     Е.Соколов     детский            56.05  \n",
       "6475    С.Черников       драма            62.97  \n",
       "6708   А.Золотухин       драма            63.91  \n",
       "6967     Ю.Разыков       драма            64.97  \n",
       "7008    П.Левченко       драма            41.21  "
      ]
     },
     "execution_count": 85,
     "metadata": {},
     "output_type": "execute_result"
    }
   ],
   "source": [
    "data.query('budget != 0 and box_office == 0 and financing_source in @list and show_start_date < \"2019-10-30 12:00:00+00:00\" ' )"
   ]
  },
  {
   "cell_type": "markdown",
   "metadata": {},
   "source": [
    "Получившийся датафрейм включает в себя разные годы, и тенденции в пропусках данных о сборах не наблюдается. У этих фильмов есть рейтинг, значит они точно выходили в прокат. Скорее всего данные просто пропущены по какой-то причине: были утеряны, либо не выгрузились."
   ]
  },
  {
   "cell_type": "markdown",
   "metadata": {},
   "source": [
    "Посчитаем медианную сумму по выделенному бюджету"
   ]
  },
  {
   "cell_type": "code",
   "execution_count": 86,
   "metadata": {},
   "outputs": [
    {
     "data": {
      "text/plain": [
       "74592550.0"
      ]
     },
     "execution_count": 86,
     "metadata": {},
     "output_type": "execute_result"
    }
   ],
   "source": [
    "data.query('budget != 0')['budget'].median()"
   ]
  },
  {
   "cell_type": "markdown",
   "metadata": {},
   "source": [
    "Посчитаем количество фильмов, которые ниже этой границы по сборам"
   ]
  },
  {
   "cell_type": "code",
   "execution_count": 87,
   "metadata": {},
   "outputs": [
    {
     "data": {
      "text/plain": [
       "221"
      ]
     },
     "execution_count": 87,
     "metadata": {},
     "output_type": "execute_result"
    }
   ],
   "source": [
    "data.query('budget != 0 and box_office < 74592550 and financing_source in @list')['box_office'].sort_values(ascending=True).nunique()"
   ]
  },
  {
   "cell_type": "markdown",
   "metadata": {},
   "source": [
    "Это число составляет 69.5% от общей информации о сборах, которая у нас есть. Полагаем, что доходы у выпускаемых фильмов с господдержкой были очень скромные."
   ]
  },
  {
   "cell_type": "markdown",
   "metadata": {},
   "source": [
    "Распределим фильмы по категориям и вычислим процент от общего количества данных, а затем посмотрим на доходы в разрезе по типам фильмов."
   ]
  },
  {
   "cell_type": "markdown",
   "metadata": {},
   "source": [
    "Поделим сборы на пять категорий с шагом в 20%:\n",
    "- **провальный** 0 - 20%\n",
    "- **убыточный** 21 - 40%\n",
    "- **средний** 41 - 60%\n",
    "- **успешный** 61 - 80%\n",
    "- **кассовый** 81 - 100%"
   ]
  },
  {
   "cell_type": "code",
   "execution_count": 88,
   "metadata": {},
   "outputs": [
    {
     "data": {
      "text/plain": [
       "0.20      725984.10\n",
       "0.40     5789606.54\n",
       "0.60    37480267.37\n",
       "0.80   150860738.64\n",
       "Name: box_office, dtype: float64"
      ]
     },
     "execution_count": 88,
     "metadata": {},
     "output_type": "execute_result"
    }
   ],
   "source": [
    "data.query('budget != 0 and box_office != 0 and financing_source in @list')['box_office'].quantile([.20, .40, .60, .80])"
   ]
  },
  {
   "cell_type": "code",
   "execution_count": 89,
   "metadata": {},
   "outputs": [],
   "source": [
    "#добавим в таблицу столбец с категориями\n",
    "\n",
    "bins = [0, 725984.10, 5789606.54, 37480267.37, 150860738.64, float('inf')]\n",
    "labels = ['провальный', 'убыточный', 'средний', 'успешный', 'кассовый']\n",
    "data['category'] = pd.cut(data['box_office'], bins=bins, labels=labels)"
   ]
  },
  {
   "cell_type": "code",
   "execution_count": 90,
   "metadata": {},
   "outputs": [
    {
     "data": {
      "text/html": [
       "<div>\n",
       "<style scoped>\n",
       "    .dataframe tbody tr th:only-of-type {\n",
       "        vertical-align: middle;\n",
       "    }\n",
       "\n",
       "    .dataframe tbody tr th {\n",
       "        vertical-align: top;\n",
       "    }\n",
       "\n",
       "    .dataframe thead th {\n",
       "        text-align: right;\n",
       "    }\n",
       "</style>\n",
       "<table border=\"1\" class=\"dataframe\">\n",
       "  <thead>\n",
       "    <tr style=\"text-align: right;\">\n",
       "      <th></th>\n",
       "      <th>Количество в box_office</th>\n",
       "      <th>Процент от общего</th>\n",
       "    </tr>\n",
       "    <tr>\n",
       "      <th>category</th>\n",
       "      <th></th>\n",
       "      <th></th>\n",
       "    </tr>\n",
       "  </thead>\n",
       "  <tbody>\n",
       "    <tr>\n",
       "      <th>провальный</th>\n",
       "      <td>1131</td>\n",
       "      <td>36.09</td>\n",
       "    </tr>\n",
       "    <tr>\n",
       "      <th>убыточный</th>\n",
       "      <td>785</td>\n",
       "      <td>25.05</td>\n",
       "    </tr>\n",
       "    <tr>\n",
       "      <th>средний</th>\n",
       "      <td>544</td>\n",
       "      <td>17.36</td>\n",
       "    </tr>\n",
       "    <tr>\n",
       "      <th>кассовый</th>\n",
       "      <td>355</td>\n",
       "      <td>11.33</td>\n",
       "    </tr>\n",
       "    <tr>\n",
       "      <th>успешный</th>\n",
       "      <td>319</td>\n",
       "      <td>10.18</td>\n",
       "    </tr>\n",
       "  </tbody>\n",
       "</table>\n",
       "</div>"
      ],
      "text/plain": [
       "            Количество в box_office  Процент от общего\n",
       "category                                              \n",
       "провальный                     1131              36.09\n",
       "убыточный                       785              25.05\n",
       "средний                         544              17.36\n",
       "кассовый                        355              11.33\n",
       "успешный                        319              10.18"
      ]
     },
     "execution_count": 90,
     "metadata": {},
     "output_type": "execute_result"
    }
   ],
   "source": [
    "#посмотрим на процент по каждой категории\n",
    "\n",
    "to_sort(data, 'category', 'box_office')"
   ]
  },
  {
   "cell_type": "markdown",
   "metadata": {},
   "source": [
    "Доля провальных и убыточных фильмов велика, суммарно это примерно 61% от всего количества данных о сборах."
   ]
  },
  {
   "cell_type": "markdown",
   "metadata": {},
   "source": [
    "Посмотрим на расходы по жанрам в виде сводной таблицы и выясним какие жанры были убыточны, а какие наоборот окупали себя."
   ]
  },
  {
   "cell_type": "code",
   "execution_count": 91,
   "metadata": {},
   "outputs": [
    {
     "data": {
      "text/html": [
       "<div>\n",
       "<style scoped>\n",
       "    .dataframe tbody tr th:only-of-type {\n",
       "        vertical-align: middle;\n",
       "    }\n",
       "\n",
       "    .dataframe tbody tr th {\n",
       "        vertical-align: top;\n",
       "    }\n",
       "\n",
       "    .dataframe thead th {\n",
       "        text-align: right;\n",
       "    }\n",
       "</style>\n",
       "<table border=\"1\" class=\"dataframe\">\n",
       "  <thead>\n",
       "    <tr style=\"text-align: right;\">\n",
       "      <th></th>\n",
       "      <th>box_office</th>\n",
       "      <th>budget</th>\n",
       "      <th>ratings</th>\n",
       "    </tr>\n",
       "    <tr>\n",
       "      <th>main_genres</th>\n",
       "      <th></th>\n",
       "      <th></th>\n",
       "      <th></th>\n",
       "    </tr>\n",
       "  </thead>\n",
       "  <tbody>\n",
       "    <tr>\n",
       "      <th>криминал</th>\n",
       "      <td>79931287.67</td>\n",
       "      <td>142198260.33</td>\n",
       "      <td>7.50</td>\n",
       "    </tr>\n",
       "    <tr>\n",
       "      <th>детский</th>\n",
       "      <td>1004550.67</td>\n",
       "      <td>46432668.00</td>\n",
       "      <td>7.10</td>\n",
       "    </tr>\n",
       "    <tr>\n",
       "      <th>спорт</th>\n",
       "      <td>989256129.15</td>\n",
       "      <td>236822988.33</td>\n",
       "      <td>6.93</td>\n",
       "    </tr>\n",
       "    <tr>\n",
       "      <th>биография</th>\n",
       "      <td>172294345.88</td>\n",
       "      <td>176311212.33</td>\n",
       "      <td>6.90</td>\n",
       "    </tr>\n",
       "    <tr>\n",
       "      <th>детектив</th>\n",
       "      <td>27709502.28</td>\n",
       "      <td>239644459.40</td>\n",
       "      <td>6.76</td>\n",
       "    </tr>\n",
       "    <tr>\n",
       "      <th>боевик</th>\n",
       "      <td>99321489.08</td>\n",
       "      <td>122430724.83</td>\n",
       "      <td>6.58</td>\n",
       "    </tr>\n",
       "    <tr>\n",
       "      <th>мюзикл</th>\n",
       "      <td>25426251.24</td>\n",
       "      <td>141049368.00</td>\n",
       "      <td>6.55</td>\n",
       "    </tr>\n",
       "    <tr>\n",
       "      <th>драма</th>\n",
       "      <td>109090162.08</td>\n",
       "      <td>125032222.51</td>\n",
       "      <td>6.47</td>\n",
       "    </tr>\n",
       "    <tr>\n",
       "      <th>военный</th>\n",
       "      <td>113074496.87</td>\n",
       "      <td>142878536.11</td>\n",
       "      <td>6.47</td>\n",
       "    </tr>\n",
       "    <tr>\n",
       "      <th>фантастика</th>\n",
       "      <td>171820427.94</td>\n",
       "      <td>165893688.06</td>\n",
       "      <td>6.19</td>\n",
       "    </tr>\n",
       "    <tr>\n",
       "      <th>фэнтези</th>\n",
       "      <td>90530600.72</td>\n",
       "      <td>212738524.09</td>\n",
       "      <td>6.09</td>\n",
       "    </tr>\n",
       "    <tr>\n",
       "      <th>мелодрама</th>\n",
       "      <td>3913497.59</td>\n",
       "      <td>63907875.15</td>\n",
       "      <td>6.01</td>\n",
       "    </tr>\n",
       "    <tr>\n",
       "      <th>мультфильм</th>\n",
       "      <td>187400471.16</td>\n",
       "      <td>204521528.20</td>\n",
       "      <td>5.76</td>\n",
       "    </tr>\n",
       "    <tr>\n",
       "      <th>приключения</th>\n",
       "      <td>200932829.44</td>\n",
       "      <td>552811031.50</td>\n",
       "      <td>5.75</td>\n",
       "    </tr>\n",
       "    <tr>\n",
       "      <th>триллер</th>\n",
       "      <td>46696679.34</td>\n",
       "      <td>92621439.72</td>\n",
       "      <td>5.71</td>\n",
       "    </tr>\n",
       "    <tr>\n",
       "      <th>реальное ТВ</th>\n",
       "      <td>32721103.43</td>\n",
       "      <td>80000000.00</td>\n",
       "      <td>5.60</td>\n",
       "    </tr>\n",
       "    <tr>\n",
       "      <th>комедия</th>\n",
       "      <td>170958595.26</td>\n",
       "      <td>84255962.73</td>\n",
       "      <td>5.53</td>\n",
       "    </tr>\n",
       "    <tr>\n",
       "      <th>история</th>\n",
       "      <td>363867058.64</td>\n",
       "      <td>536265551.50</td>\n",
       "      <td>5.35</td>\n",
       "    </tr>\n",
       "    <tr>\n",
       "      <th>ужасы</th>\n",
       "      <td>71012318.93</td>\n",
       "      <td>56387762.50</td>\n",
       "      <td>5.20</td>\n",
       "    </tr>\n",
       "    <tr>\n",
       "      <th>семейный</th>\n",
       "      <td>97404124.94</td>\n",
       "      <td>100633297.83</td>\n",
       "      <td>4.98</td>\n",
       "    </tr>\n",
       "  </tbody>\n",
       "</table>\n",
       "</div>"
      ],
      "text/plain": [
       "              box_office       budget  ratings\n",
       "main_genres                                   \n",
       "криминал     79931287.67 142198260.33     7.50\n",
       "детский       1004550.67  46432668.00     7.10\n",
       "спорт       989256129.15 236822988.33     6.93\n",
       "биография   172294345.88 176311212.33     6.90\n",
       "детектив     27709502.28 239644459.40     6.76\n",
       "боевик       99321489.08 122430724.83     6.58\n",
       "мюзикл       25426251.24 141049368.00     6.55\n",
       "драма       109090162.08 125032222.51     6.47\n",
       "военный     113074496.87 142878536.11     6.47\n",
       "фантастика  171820427.94 165893688.06     6.19\n",
       "фэнтези      90530600.72 212738524.09     6.09\n",
       "мелодрама     3913497.59  63907875.15     6.01\n",
       "мультфильм  187400471.16 204521528.20     5.76\n",
       "приключения 200932829.44 552811031.50     5.75\n",
       "триллер      46696679.34  92621439.72     5.71\n",
       "реальное ТВ  32721103.43  80000000.00     5.60\n",
       "комедия     170958595.26  84255962.73     5.53\n",
       "история     363867058.64 536265551.50     5.35\n",
       "ужасы        71012318.93  56387762.50     5.20\n",
       "семейный     97404124.94 100633297.83     4.98"
      ]
     },
     "execution_count": 91,
     "metadata": {},
     "output_type": "execute_result"
    }
   ],
   "source": [
    "data_budget_box_office = (data.query('budget != 0 and box_office != 0 and ratings !=0 and financing_source in @list')\n",
    "                    .pivot_table(index='main_genres', values=['ratings', 'box_office', 'budget'], aggfunc= 'mean')\n",
    "                    .sort_values(by='ratings', ascending = False))\n",
    "data_budget_box_office"
   ]
  },
  {
   "cell_type": "code",
   "execution_count": 92,
   "metadata": {},
   "outputs": [],
   "source": [
    "#приводим таблицу к удобному виду, считаем процент окупаемости\n",
    "\n",
    "data_budget_box_office = data_budget_box_office.reindex(['ratings', 'box_office', 'budget'], axis=1)\n",
    "data_budget_box_office['percent_box'] = round((data_budget_box_office['box_office'] / data_budget_box_office['budget']), 2)\n",
    "data_budget_box_office = data_budget_box_office.set_axis(['Рейтинг', 'Сборы', 'Бюджет', 'Окупаемость'], axis='columns')"
   ]
  },
  {
   "cell_type": "code",
   "execution_count": 93,
   "metadata": {},
   "outputs": [
    {
     "data": {
      "text/html": [
       "<div>\n",
       "<style scoped>\n",
       "    .dataframe tbody tr th:only-of-type {\n",
       "        vertical-align: middle;\n",
       "    }\n",
       "\n",
       "    .dataframe tbody tr th {\n",
       "        vertical-align: top;\n",
       "    }\n",
       "\n",
       "    .dataframe thead th {\n",
       "        text-align: right;\n",
       "    }\n",
       "</style>\n",
       "<table border=\"1\" class=\"dataframe\">\n",
       "  <thead>\n",
       "    <tr style=\"text-align: right;\">\n",
       "      <th></th>\n",
       "      <th>Рейтинг</th>\n",
       "      <th>Сборы</th>\n",
       "      <th>Бюджет</th>\n",
       "      <th>Окупаемость</th>\n",
       "    </tr>\n",
       "    <tr>\n",
       "      <th>main_genres</th>\n",
       "      <th></th>\n",
       "      <th></th>\n",
       "      <th></th>\n",
       "      <th></th>\n",
       "    </tr>\n",
       "  </thead>\n",
       "  <tbody>\n",
       "    <tr>\n",
       "      <th>спорт</th>\n",
       "      <td>6.93</td>\n",
       "      <td>989256129.15</td>\n",
       "      <td>236822988.33</td>\n",
       "      <td>4.18</td>\n",
       "    </tr>\n",
       "    <tr>\n",
       "      <th>комедия</th>\n",
       "      <td>5.53</td>\n",
       "      <td>170958595.26</td>\n",
       "      <td>84255962.73</td>\n",
       "      <td>2.03</td>\n",
       "    </tr>\n",
       "    <tr>\n",
       "      <th>ужасы</th>\n",
       "      <td>5.20</td>\n",
       "      <td>71012318.93</td>\n",
       "      <td>56387762.50</td>\n",
       "      <td>1.26</td>\n",
       "    </tr>\n",
       "    <tr>\n",
       "      <th>фантастика</th>\n",
       "      <td>6.19</td>\n",
       "      <td>171820427.94</td>\n",
       "      <td>165893688.06</td>\n",
       "      <td>1.04</td>\n",
       "    </tr>\n",
       "    <tr>\n",
       "      <th>биография</th>\n",
       "      <td>6.90</td>\n",
       "      <td>172294345.88</td>\n",
       "      <td>176311212.33</td>\n",
       "      <td>0.98</td>\n",
       "    </tr>\n",
       "    <tr>\n",
       "      <th>семейный</th>\n",
       "      <td>4.98</td>\n",
       "      <td>97404124.94</td>\n",
       "      <td>100633297.83</td>\n",
       "      <td>0.97</td>\n",
       "    </tr>\n",
       "    <tr>\n",
       "      <th>мультфильм</th>\n",
       "      <td>5.76</td>\n",
       "      <td>187400471.16</td>\n",
       "      <td>204521528.20</td>\n",
       "      <td>0.92</td>\n",
       "    </tr>\n",
       "    <tr>\n",
       "      <th>драма</th>\n",
       "      <td>6.47</td>\n",
       "      <td>109090162.08</td>\n",
       "      <td>125032222.51</td>\n",
       "      <td>0.87</td>\n",
       "    </tr>\n",
       "    <tr>\n",
       "      <th>боевик</th>\n",
       "      <td>6.58</td>\n",
       "      <td>99321489.08</td>\n",
       "      <td>122430724.83</td>\n",
       "      <td>0.81</td>\n",
       "    </tr>\n",
       "    <tr>\n",
       "      <th>военный</th>\n",
       "      <td>6.47</td>\n",
       "      <td>113074496.87</td>\n",
       "      <td>142878536.11</td>\n",
       "      <td>0.79</td>\n",
       "    </tr>\n",
       "    <tr>\n",
       "      <th>история</th>\n",
       "      <td>5.35</td>\n",
       "      <td>363867058.64</td>\n",
       "      <td>536265551.50</td>\n",
       "      <td>0.68</td>\n",
       "    </tr>\n",
       "    <tr>\n",
       "      <th>криминал</th>\n",
       "      <td>7.50</td>\n",
       "      <td>79931287.67</td>\n",
       "      <td>142198260.33</td>\n",
       "      <td>0.56</td>\n",
       "    </tr>\n",
       "    <tr>\n",
       "      <th>триллер</th>\n",
       "      <td>5.71</td>\n",
       "      <td>46696679.34</td>\n",
       "      <td>92621439.72</td>\n",
       "      <td>0.50</td>\n",
       "    </tr>\n",
       "    <tr>\n",
       "      <th>фэнтези</th>\n",
       "      <td>6.09</td>\n",
       "      <td>90530600.72</td>\n",
       "      <td>212738524.09</td>\n",
       "      <td>0.43</td>\n",
       "    </tr>\n",
       "    <tr>\n",
       "      <th>реальное ТВ</th>\n",
       "      <td>5.60</td>\n",
       "      <td>32721103.43</td>\n",
       "      <td>80000000.00</td>\n",
       "      <td>0.41</td>\n",
       "    </tr>\n",
       "    <tr>\n",
       "      <th>приключения</th>\n",
       "      <td>5.75</td>\n",
       "      <td>200932829.44</td>\n",
       "      <td>552811031.50</td>\n",
       "      <td>0.36</td>\n",
       "    </tr>\n",
       "    <tr>\n",
       "      <th>мюзикл</th>\n",
       "      <td>6.55</td>\n",
       "      <td>25426251.24</td>\n",
       "      <td>141049368.00</td>\n",
       "      <td>0.18</td>\n",
       "    </tr>\n",
       "    <tr>\n",
       "      <th>детектив</th>\n",
       "      <td>6.76</td>\n",
       "      <td>27709502.28</td>\n",
       "      <td>239644459.40</td>\n",
       "      <td>0.12</td>\n",
       "    </tr>\n",
       "    <tr>\n",
       "      <th>мелодрама</th>\n",
       "      <td>6.01</td>\n",
       "      <td>3913497.59</td>\n",
       "      <td>63907875.15</td>\n",
       "      <td>0.06</td>\n",
       "    </tr>\n",
       "    <tr>\n",
       "      <th>детский</th>\n",
       "      <td>7.10</td>\n",
       "      <td>1004550.67</td>\n",
       "      <td>46432668.00</td>\n",
       "      <td>0.02</td>\n",
       "    </tr>\n",
       "  </tbody>\n",
       "</table>\n",
       "</div>"
      ],
      "text/plain": [
       "             Рейтинг        Сборы       Бюджет  Окупаемость\n",
       "main_genres                                                \n",
       "спорт           6.93 989256129.15 236822988.33         4.18\n",
       "комедия         5.53 170958595.26  84255962.73         2.03\n",
       "ужасы           5.20  71012318.93  56387762.50         1.26\n",
       "фантастика      6.19 171820427.94 165893688.06         1.04\n",
       "биография       6.90 172294345.88 176311212.33         0.98\n",
       "семейный        4.98  97404124.94 100633297.83         0.97\n",
       "мультфильм      5.76 187400471.16 204521528.20         0.92\n",
       "драма           6.47 109090162.08 125032222.51         0.87\n",
       "боевик          6.58  99321489.08 122430724.83         0.81\n",
       "военный         6.47 113074496.87 142878536.11         0.79\n",
       "история         5.35 363867058.64 536265551.50         0.68\n",
       "криминал        7.50  79931287.67 142198260.33         0.56\n",
       "триллер         5.71  46696679.34  92621439.72         0.50\n",
       "фэнтези         6.09  90530600.72 212738524.09         0.43\n",
       "реальное ТВ     5.60  32721103.43  80000000.00         0.41\n",
       "приключения     5.75 200932829.44 552811031.50         0.36\n",
       "мюзикл          6.55  25426251.24 141049368.00         0.18\n",
       "детектив        6.76  27709502.28 239644459.40         0.12\n",
       "мелодрама       6.01   3913497.59  63907875.15         0.06\n",
       "детский         7.10   1004550.67  46432668.00         0.02"
      ]
     },
     "execution_count": 93,
     "metadata": {},
     "output_type": "execute_result"
    }
   ],
   "source": [
    "data_budget_box_office.sort_values(by= 'Окупаемость', ascending=False)"
   ]
  },
  {
   "cell_type": "markdown",
   "metadata": {},
   "source": [
    "По полученным данным делаем вывод, что успешнее всего фильмы в жанре 'спорт' (сборы превысили бюджет в 4 раза) и 'комедия' (сборы превысили бюджет в 2 раза). Хуже всего дело обстоит с мюзиклами, детективами, мелодрамами и фильмами для детей."
   ]
  },
  {
   "cell_type": "markdown",
   "metadata": {},
   "source": [
    "**Сравним рейтинги фильмов с господдержкой и без**"
   ]
  },
  {
   "cell_type": "code",
   "execution_count": 94,
   "metadata": {},
   "outputs": [
    {
     "data": {
      "text/html": [
       "<div>\n",
       "<style scoped>\n",
       "    .dataframe tbody tr th:only-of-type {\n",
       "        vertical-align: middle;\n",
       "    }\n",
       "\n",
       "    .dataframe tbody tr th {\n",
       "        vertical-align: top;\n",
       "    }\n",
       "\n",
       "    .dataframe thead th {\n",
       "        text-align: right;\n",
       "    }\n",
       "</style>\n",
       "<table border=\"1\" class=\"dataframe\">\n",
       "  <thead>\n",
       "    <tr style=\"text-align: right;\">\n",
       "      <th></th>\n",
       "      <th>Рейтинг фильмов без господдержки</th>\n",
       "      <th>Рейтинг фильмов с господдержкой</th>\n",
       "    </tr>\n",
       "    <tr>\n",
       "      <th>main_genres</th>\n",
       "      <th></th>\n",
       "      <th></th>\n",
       "    </tr>\n",
       "  </thead>\n",
       "  <tbody>\n",
       "    <tr>\n",
       "      <th>криминал</th>\n",
       "      <td>6.63</td>\n",
       "      <td>7.50</td>\n",
       "    </tr>\n",
       "    <tr>\n",
       "      <th>детский</th>\n",
       "      <td>5.95</td>\n",
       "      <td>7.10</td>\n",
       "    </tr>\n",
       "    <tr>\n",
       "      <th>спорт</th>\n",
       "      <td>7.25</td>\n",
       "      <td>6.93</td>\n",
       "    </tr>\n",
       "    <tr>\n",
       "      <th>биография</th>\n",
       "      <td>7.02</td>\n",
       "      <td>6.90</td>\n",
       "    </tr>\n",
       "    <tr>\n",
       "      <th>детектив</th>\n",
       "      <td>6.64</td>\n",
       "      <td>6.76</td>\n",
       "    </tr>\n",
       "    <tr>\n",
       "      <th>боевик</th>\n",
       "      <td>6.51</td>\n",
       "      <td>6.58</td>\n",
       "    </tr>\n",
       "    <tr>\n",
       "      <th>мюзикл</th>\n",
       "      <td>6.93</td>\n",
       "      <td>6.55</td>\n",
       "    </tr>\n",
       "    <tr>\n",
       "      <th>драма</th>\n",
       "      <td>6.79</td>\n",
       "      <td>6.47</td>\n",
       "    </tr>\n",
       "    <tr>\n",
       "      <th>военный</th>\n",
       "      <td>6.79</td>\n",
       "      <td>6.47</td>\n",
       "    </tr>\n",
       "    <tr>\n",
       "      <th>фантастика</th>\n",
       "      <td>6.66</td>\n",
       "      <td>6.19</td>\n",
       "    </tr>\n",
       "    <tr>\n",
       "      <th>фэнтези</th>\n",
       "      <td>6.61</td>\n",
       "      <td>6.09</td>\n",
       "    </tr>\n",
       "    <tr>\n",
       "      <th>мелодрама</th>\n",
       "      <td>6.55</td>\n",
       "      <td>6.01</td>\n",
       "    </tr>\n",
       "    <tr>\n",
       "      <th>мультфильм</th>\n",
       "      <td>6.30</td>\n",
       "      <td>5.76</td>\n",
       "    </tr>\n",
       "    <tr>\n",
       "      <th>приключения</th>\n",
       "      <td>6.48</td>\n",
       "      <td>5.75</td>\n",
       "    </tr>\n",
       "    <tr>\n",
       "      <th>триллер</th>\n",
       "      <td>6.62</td>\n",
       "      <td>5.71</td>\n",
       "    </tr>\n",
       "    <tr>\n",
       "      <th>реальное ТВ</th>\n",
       "      <td>NaN</td>\n",
       "      <td>5.60</td>\n",
       "    </tr>\n",
       "    <tr>\n",
       "      <th>комедия</th>\n",
       "      <td>6.04</td>\n",
       "      <td>5.53</td>\n",
       "    </tr>\n",
       "    <tr>\n",
       "      <th>история</th>\n",
       "      <td>6.63</td>\n",
       "      <td>5.35</td>\n",
       "    </tr>\n",
       "    <tr>\n",
       "      <th>ужасы</th>\n",
       "      <td>5.67</td>\n",
       "      <td>5.20</td>\n",
       "    </tr>\n",
       "    <tr>\n",
       "      <th>семейный</th>\n",
       "      <td>6.10</td>\n",
       "      <td>4.98</td>\n",
       "    </tr>\n",
       "    <tr>\n",
       "      <th>жанр не определен</th>\n",
       "      <td>0.06</td>\n",
       "      <td>0.00</td>\n",
       "    </tr>\n",
       "  </tbody>\n",
       "</table>\n",
       "</div>"
      ],
      "text/plain": [
       "                   Рейтинг фильмов без господдержки  \\\n",
       "main_genres                                           \n",
       "криминал                                       6.63   \n",
       "детский                                        5.95   \n",
       "спорт                                          7.25   \n",
       "биография                                      7.02   \n",
       "детектив                                       6.64   \n",
       "боевик                                         6.51   \n",
       "мюзикл                                         6.93   \n",
       "драма                                          6.79   \n",
       "военный                                        6.79   \n",
       "фантастика                                     6.66   \n",
       "фэнтези                                        6.61   \n",
       "мелодрама                                      6.55   \n",
       "мультфильм                                     6.30   \n",
       "приключения                                    6.48   \n",
       "триллер                                        6.62   \n",
       "реальное ТВ                                     NaN   \n",
       "комедия                                        6.04   \n",
       "история                                        6.63   \n",
       "ужасы                                          5.67   \n",
       "семейный                                       6.10   \n",
       "жанр не определен                              0.06   \n",
       "\n",
       "                   Рейтинг фильмов с господдержкой  \n",
       "main_genres                                         \n",
       "криминал                                      7.50  \n",
       "детский                                       7.10  \n",
       "спорт                                         6.93  \n",
       "биография                                     6.90  \n",
       "детектив                                      6.76  \n",
       "боевик                                        6.58  \n",
       "мюзикл                                        6.55  \n",
       "драма                                         6.47  \n",
       "военный                                       6.47  \n",
       "фантастика                                    6.19  \n",
       "фэнтези                                       6.09  \n",
       "мелодрама                                     6.01  \n",
       "мультфильм                                    5.76  \n",
       "приключения                                   5.75  \n",
       "триллер                                       5.71  \n",
       "реальное ТВ                                   5.60  \n",
       "комедия                                       5.53  \n",
       "история                                       5.35  \n",
       "ужасы                                         5.20  \n",
       "семейный                                      4.98  \n",
       "жанр не определен                             0.00  "
      ]
     },
     "execution_count": 94,
     "metadata": {},
     "output_type": "execute_result"
    }
   ],
   "source": [
    "raitings_without_gs = (data.query('financing_source not in @list')\n",
    "                    .pivot_table(index='main_genres', values=['ratings'], aggfunc= 'mean')\n",
    "                    .sort_values(by='main_genres', ascending = True))\n",
    "raitings_without_gs = raitings_without_gs.set_axis(['Рейтинг фильмов без господдержки'], axis='columns')\n",
    "\n",
    "raitings_gs = (data.query('budget != 0 and box_office != 0 and financing_source in @list')\n",
    "                    .pivot_table(index='main_genres', values=['ratings'], aggfunc= 'mean')\n",
    "                    .sort_values(by='main_genres', ascending = True))\n",
    "raitings_gs = raitings_gs.set_axis(['Рейтинг фильмов с господдержкой'], axis='columns')\n",
    "\n",
    "raitings_merge = raitings_without_gs.merge(raitings_gs, on='main_genres', how='right')\n",
    "raitings_merge.sort_values(by= 'Рейтинг фильмов с господдержкой', ascending=False)"
   ]
  },
  {
   "cell_type": "markdown",
   "metadata": {},
   "source": [
    "Визуализируем полученные данные"
   ]
  },
  {
   "cell_type": "code",
   "execution_count": 95,
   "metadata": {
    "scrolled": false
   },
   "outputs": [
    {
     "data": {
      "image/png": "[encoded data removed]",
      "text/plain": [
       "<Figure size 1080x576 with 1 Axes>"
      ]
     },
     "metadata": {
      "needs_background": "light"
     },
     "output_type": "display_data"
    }
   ],
   "source": [
    "raitings_merge.plot(kind='bar', figsize=(15, 8), grid=True, title= 'График сравнения рейтингов фильмов с господдержкой и без по основным жанрам', legend=True, alpha=0.7)\n",
    "plt.ylabel('Рейтинг')\n",
    "plt.xlabel('Основной жанр')\n",
    "plt.show()"
   ]
  },
  {
   "cell_type": "markdown",
   "metadata": {},
   "source": [
    "Таким образом, среди фильмов, снятых с государственной поддержкой, можно выделить несколько жанров, у которых рейтинг выше, чем у коммерческих российских или зарубежных фильмов:\n",
    "- криминал — 7.50 против 6.63\n",
    "- детские — 7.10 против 5.95\n",
    "- детективы — 6.76 против 6.64\n",
    "- боевики — 6.58 против 6.51"
   ]
  },
  {
   "cell_type": "markdown",
   "metadata": {
    "id": "V2gYwMcPgFyd"
   },
   "source": [
    "### Шаг 5. Общий вывод"
   ]
  },
  {
   "cell_type": "markdown",
   "metadata": {},
   "source": [
    "Целью данного исследования являлось изучение рынка российского кинопроката и выявление текущих трендов.\n",
    "\n",
    "Первым этапом была выполнена работа по ознакомлению с данными и их предобработке. \n",
    "Мы работали с набором данных, опубликованным на портале открытых данных Министерства культуры и содержащих информацию о прокатных удостоверениях, сборах и государственной поддержке фильмов, а также информацию с сайта КиноПоиск. \n",
    "\n",
    "Были проведены расчеты и в таблицу добавлены новые столбцы:\n",
    "- с информацией о годе проката ('show_start_year'),\n",
    "- с именем и фамилией главного режиссёра ('main_director'),\n",
    "- с основным жанром фильма ('main_genres'),\n",
    "- с определением доли господдержки в общем бюджете фильма ('support_percent')\n",
    "\n",
    "Следующим этапом нами был проведен исследовательский анализ данных.\n",
    "\n",
    "По итогам исследования мы увидели, что с 2010 по 2019 годы кинопроизводство демонстрирует значительный рост в количестве выходящих фильмов, а также в затратах на их производство. В частности, количество фильмов, которые выходили в прокат, увеличилось примерно в 5 раз: от 101 фильма в 2010 году до 530 фильмов в 2019 году.\n",
    "Тем не менее, в 2017 году наблюдался резкий спад количества фильмов, получивших прокатные удостоверения, после чего, с 2018 года снова начался подъем и к 2019 году значения вернулись в норму 2016 года.\n",
    "\n",
    "Что касается суммы сборов, минимальной она была в 2010 году - 2428654 рублей, а максимальной в 2018 году - 49668403134 рублей.\n",
    "\n",
    "Изучая влияние возрастного ограничения аудитории на сборы мы пришли к выводу, что в течение трех лет подряд c 2016 по 2018 фильмы категории «16+» были лидерами по сборам в кинотеатрах, тогда как другие категории испытывали спад или не очень заметные изменения. Однако в 2019 году первое место по сборам заняли фильмы категории «6+» с небольшим отрывом. Кроме того, начиная с 2017 года, популярность набирают фильмы категории «12+», которые частично делят сегмент аудитории с фильмами категории «16+». \n",
    "\n",
    "Далее мы перешли к исследованию непосредственно фильмов, которые получили государственную поддержку.\n",
    "Мы изучали их через параметр сборов: сколько собрано в целом, по фильмам, по жанрам; а также проверили рейтинги.\n",
    "\n",
    "Так, данные показали, что фильмы, снятые при государственной поддержке, не всегда показывают высокие результаты. Рейтинги таких фильмов по большинству жанров ниже, чем у коммерческих российских и зарубежных фильмов. Из всего спектра жанров, фильмы-боевики, детективы, детские фильмы и криминальные фильмы с государственной поддержкой оказались более высоко оцененными по сравнению с аналогичными жанрами коммерческих российских и зарубежных фильмов. Однако количество жанров с преобладающим рейтингом все еще невысоко, только 4 из 19 возможных.\n",
    "\n",
    "По сборам и окупаемости фильмов с господдержкой мы делаем вывод, что доля провальных и убыточных фильмов велика, суммарно это примерно 61% от всего количества данных о сборах. Успешнее всего фильмы в жанре 'спорт' (сборы превысили бюджет в 4 раза) и 'комедия' (сборы превысили бюджет в 2 раза). Хуже всего дело обстоит с мюзиклами, детективами, мелодрамами и фильмами для детей: их окупаемость составляет менее 20%."
   ]
  }
 ],
 "metadata": {
  "ExecuteTimeLog": [
   {
    "duration": 537,
    "start_time": "2021-07-07T10:12:08.634Z"
   },
   {
    "duration": 206,
    "start_time": "2021-07-07T10:12:30.191Z"
   },
   {
    "duration": 227,
    "start_time": "2021-07-07T10:12:33.078Z"
   },
   {
    "duration": 153,
    "start_time": "2021-07-07T10:13:42.146Z"
   },
   {
    "duration": 233,
    "start_time": "2021-07-07T10:30:09.252Z"
   },
   {
    "duration": 19,
    "start_time": "2021-07-07T10:30:15.577Z"
   },
   {
    "duration": 18,
    "start_time": "2021-07-07T10:30:57.348Z"
   },
   {
    "duration": 19,
    "start_time": "2021-07-07T10:31:17.452Z"
   },
   {
    "duration": 21,
    "start_time": "2021-07-07T10:31:32.227Z"
   },
   {
    "duration": 27,
    "start_time": "2021-07-07T10:32:06.588Z"
   },
   {
    "duration": 23,
    "start_time": "2021-07-07T10:32:43.645Z"
   },
   {
    "duration": 24,
    "start_time": "2021-07-07T10:33:06.948Z"
   },
   {
    "duration": 7,
    "start_time": "2021-07-07T10:33:28.558Z"
   },
   {
    "duration": 23,
    "start_time": "2021-07-07T10:33:43.761Z"
   },
   {
    "duration": 28,
    "start_time": "2021-07-07T10:34:13.466Z"
   },
   {
    "duration": 23,
    "start_time": "2021-07-07T10:35:56.187Z"
   },
   {
    "duration": 6,
    "start_time": "2021-07-07T10:36:48.182Z"
   },
   {
    "duration": 14,
    "start_time": "2021-07-07T10:37:49.641Z"
   },
   {
    "duration": 6,
    "start_time": "2021-07-07T10:38:06.694Z"
   },
   {
    "duration": 6,
    "start_time": "2021-07-07T10:38:13.493Z"
   },
   {
    "duration": 19,
    "start_time": "2021-07-07T10:38:44.056Z"
   },
   {
    "duration": 186,
    "start_time": "2021-07-07T10:48:35.618Z"
   },
   {
    "duration": 24,
    "start_time": "2021-07-07T10:48:51.498Z"
   },
   {
    "duration": 20,
    "start_time": "2021-07-07T10:48:59.415Z"
   },
   {
    "duration": 20,
    "start_time": "2021-07-07T10:53:02.195Z"
   },
   {
    "duration": 188,
    "start_time": "2021-07-07T10:54:40.486Z"
   },
   {
    "duration": 115,
    "start_time": "2021-07-07T10:54:52.552Z"
   },
   {
    "duration": 214,
    "start_time": "2021-07-07T10:54:56.354Z"
   },
   {
    "duration": 47,
    "start_time": "2021-07-07T10:54:58.282Z"
   },
   {
    "duration": 217,
    "start_time": "2021-07-07T10:59:16.075Z"
   },
   {
    "duration": 51,
    "start_time": "2021-07-07T10:59:16.243Z"
   },
   {
    "duration": 578,
    "start_time": "2021-07-07T10:59:18.774Z"
   },
   {
    "duration": 161,
    "start_time": "2021-07-07T10:59:21.238Z"
   },
   {
    "duration": 59,
    "start_time": "2021-07-07T10:59:21.453Z"
   },
   {
    "duration": 3,
    "start_time": "2021-07-07T11:02:10.786Z"
   },
   {
    "duration": 13,
    "start_time": "2021-07-07T11:07:07.722Z"
   },
   {
    "duration": 26,
    "start_time": "2021-07-07T11:07:17.958Z"
   },
   {
    "duration": 22,
    "start_time": "2021-07-07T11:08:17.939Z"
   },
   {
    "duration": 212,
    "start_time": "2021-07-07T11:08:19.665Z"
   },
   {
    "duration": 21,
    "start_time": "2021-07-07T11:08:29.945Z"
   },
   {
    "duration": 31,
    "start_time": "2021-07-07T11:08:38.899Z"
   },
   {
    "duration": 23,
    "start_time": "2021-07-07T11:08:54.527Z"
   },
   {
    "duration": 8,
    "start_time": "2021-07-07T11:18:55.974Z"
   },
   {
    "duration": 7,
    "start_time": "2021-07-07T11:19:03.639Z"
   },
   {
    "duration": 7,
    "start_time": "2021-07-07T11:19:06.444Z"
   },
   {
    "duration": 578,
    "start_time": "2021-07-07T12:09:59.576Z"
   },
   {
    "duration": 195,
    "start_time": "2021-07-07T12:10:00.156Z"
   },
   {
    "duration": 115,
    "start_time": "2021-07-07T12:10:00.353Z"
   },
   {
    "duration": 3,
    "start_time": "2021-07-07T12:10:00.470Z"
   },
   {
    "duration": 32,
    "start_time": "2021-07-07T12:10:00.474Z"
   },
   {
    "duration": 23,
    "start_time": "2021-07-07T12:10:00.508Z"
   },
   {
    "duration": 19,
    "start_time": "2021-07-07T12:10:00.533Z"
   },
   {
    "duration": 44,
    "start_time": "2021-07-07T12:10:00.553Z"
   },
   {
    "duration": 7,
    "start_time": "2021-07-07T12:10:00.600Z"
   },
   {
    "duration": 7,
    "start_time": "2021-07-07T12:19:45.761Z"
   },
   {
    "duration": 21,
    "start_time": "2021-07-07T12:21:35.482Z"
   },
   {
    "duration": 21,
    "start_time": "2021-07-07T12:29:23.569Z"
   },
   {
    "duration": 525,
    "start_time": "2021-07-07T12:29:44.542Z"
   },
   {
    "duration": 214,
    "start_time": "2021-07-07T12:29:45.069Z"
   },
   {
    "duration": 92,
    "start_time": "2021-07-07T12:29:45.285Z"
   },
   {
    "duration": 3,
    "start_time": "2021-07-07T12:29:45.379Z"
   },
   {
    "duration": 28,
    "start_time": "2021-07-07T12:29:45.384Z"
   },
   {
    "duration": 23,
    "start_time": "2021-07-07T12:29:45.413Z"
   },
   {
    "duration": 21,
    "start_time": "2021-07-07T12:29:45.437Z"
   },
   {
    "duration": 41,
    "start_time": "2021-07-07T12:29:45.460Z"
   },
   {
    "duration": 7,
    "start_time": "2021-07-07T12:29:45.502Z"
   },
   {
    "duration": 20,
    "start_time": "2021-07-07T12:29:45.511Z"
   },
   {
    "duration": 12,
    "start_time": "2021-07-07T12:34:02.800Z"
   },
   {
    "duration": 7,
    "start_time": "2021-07-07T12:35:10.479Z"
   },
   {
    "duration": 8,
    "start_time": "2021-07-07T12:35:22.440Z"
   },
   {
    "duration": 6,
    "start_time": "2021-07-07T12:35:35.649Z"
   },
   {
    "duration": 6,
    "start_time": "2021-07-07T12:35:43.107Z"
   },
   {
    "duration": 22,
    "start_time": "2021-07-07T12:38:03.029Z"
   },
   {
    "duration": 10,
    "start_time": "2021-07-07T12:38:06.592Z"
   },
   {
    "duration": 563,
    "start_time": "2021-07-07T12:38:46.493Z"
   },
   {
    "duration": 265,
    "start_time": "2021-07-07T12:38:47.058Z"
   },
   {
    "duration": 94,
    "start_time": "2021-07-07T12:38:47.325Z"
   },
   {
    "duration": 3,
    "start_time": "2021-07-07T12:38:47.422Z"
   },
   {
    "duration": 30,
    "start_time": "2021-07-07T12:38:47.427Z"
   },
   {
    "duration": 16,
    "start_time": "2021-07-07T12:38:53.305Z"
   },
   {
    "duration": 10,
    "start_time": "2021-07-07T12:38:53.499Z"
   },
   {
    "duration": 8,
    "start_time": "2021-07-07T12:39:48.161Z"
   },
   {
    "duration": 27,
    "start_time": "2021-07-07T12:41:17.629Z"
   },
   {
    "duration": 17,
    "start_time": "2021-07-07T12:41:17.867Z"
   },
   {
    "duration": 21,
    "start_time": "2021-07-07T12:41:19.310Z"
   },
   {
    "duration": 7,
    "start_time": "2021-07-07T12:41:19.544Z"
   },
   {
    "duration": 20,
    "start_time": "2021-07-07T12:41:20.504Z"
   },
   {
    "duration": 554,
    "start_time": "2021-07-07T12:56:23.696Z"
   },
   {
    "duration": 200,
    "start_time": "2021-07-07T12:56:25.234Z"
   },
   {
    "duration": 119,
    "start_time": "2021-07-07T12:56:25.480Z"
   },
   {
    "duration": 4,
    "start_time": "2021-07-07T12:56:25.762Z"
   },
   {
    "duration": 26,
    "start_time": "2021-07-07T12:56:27.172Z"
   },
   {
    "duration": 12,
    "start_time": "2021-07-07T12:56:29.051Z"
   },
   {
    "duration": 10,
    "start_time": "2021-07-07T12:56:29.291Z"
   },
   {
    "duration": 8,
    "start_time": "2021-07-07T12:56:29.623Z"
   },
   {
    "duration": 28,
    "start_time": "2021-07-07T12:56:32.137Z"
   },
   {
    "duration": 19,
    "start_time": "2021-07-07T12:56:39.785Z"
   },
   {
    "duration": 20,
    "start_time": "2021-07-07T12:56:44.297Z"
   },
   {
    "duration": 7,
    "start_time": "2021-07-07T12:56:45.392Z"
   },
   {
    "duration": 23,
    "start_time": "2021-07-07T12:56:46.615Z"
   },
   {
    "duration": 4,
    "start_time": "2021-07-07T12:57:06.625Z"
   },
   {
    "duration": 32,
    "start_time": "2021-07-07T12:57:36.690Z"
   },
   {
    "duration": 18,
    "start_time": "2021-07-07T12:58:00.149Z"
   },
   {
    "duration": 15,
    "start_time": "2021-07-07T12:59:16.793Z"
   },
   {
    "duration": 7,
    "start_time": "2021-07-07T13:19:22.624Z"
   },
   {
    "duration": 6,
    "start_time": "2021-07-07T14:17:33.527Z"
   },
   {
    "duration": 9,
    "start_time": "2021-07-07T14:17:48.409Z"
   },
   {
    "duration": 8,
    "start_time": "2021-07-07T14:20:13.060Z"
   },
   {
    "duration": 8,
    "start_time": "2021-07-07T14:20:37.957Z"
   },
   {
    "duration": 8,
    "start_time": "2021-07-07T14:20:47.470Z"
   },
   {
    "duration": 9,
    "start_time": "2021-07-07T14:20:54.503Z"
   },
   {
    "duration": 10,
    "start_time": "2021-07-07T14:28:57.763Z"
   },
   {
    "duration": 3,
    "start_time": "2021-07-07T14:30:23.377Z"
   },
   {
    "duration": 3,
    "start_time": "2021-07-07T14:30:36.489Z"
   },
   {
    "duration": 103,
    "start_time": "2021-07-07T14:30:52.351Z"
   },
   {
    "duration": 8,
    "start_time": "2021-07-07T14:30:54.763Z"
   },
   {
    "duration": 8,
    "start_time": "2021-07-07T14:31:29.301Z"
   },
   {
    "duration": 13,
    "start_time": "2021-07-07T14:31:44.516Z"
   },
   {
    "duration": 7,
    "start_time": "2021-07-07T14:33:10.972Z"
   },
   {
    "duration": 11,
    "start_time": "2021-07-07T14:33:27.780Z"
   },
   {
    "duration": 8,
    "start_time": "2021-07-07T14:34:44.588Z"
   },
   {
    "duration": 57,
    "start_time": "2021-07-07T14:35:59.042Z"
   },
   {
    "duration": 3,
    "start_time": "2021-07-07T14:36:28.168Z"
   },
   {
    "duration": 5,
    "start_time": "2021-07-07T14:36:46.254Z"
   },
   {
    "duration": 4,
    "start_time": "2021-07-07T14:36:52.714Z"
   },
   {
    "duration": 3,
    "start_time": "2021-07-07T14:36:56.612Z"
   },
   {
    "duration": 4,
    "start_time": "2021-07-07T14:36:57.049Z"
   },
   {
    "duration": 3,
    "start_time": "2021-07-07T14:39:21.214Z"
   },
   {
    "duration": 7,
    "start_time": "2021-07-07T14:39:52.406Z"
   },
   {
    "duration": 11,
    "start_time": "2021-07-07T14:39:58.576Z"
   },
   {
    "duration": 9,
    "start_time": "2021-07-07T14:40:26.301Z"
   },
   {
    "duration": 10,
    "start_time": "2021-07-07T14:40:31.704Z"
   },
   {
    "duration": 11,
    "start_time": "2021-07-07T14:40:36.249Z"
   },
   {
    "duration": 10,
    "start_time": "2021-07-07T14:40:39.783Z"
   },
   {
    "duration": 9,
    "start_time": "2021-07-07T14:40:48.558Z"
   },
   {
    "duration": 10,
    "start_time": "2021-07-07T14:40:57.143Z"
   },
   {
    "duration": 9,
    "start_time": "2021-07-07T14:41:06.074Z"
   },
   {
    "duration": 4324,
    "start_time": "2021-07-07T14:41:22.004Z"
   },
   {
    "duration": 11,
    "start_time": "2021-07-07T14:41:33.392Z"
   },
   {
    "duration": 9,
    "start_time": "2021-07-07T14:41:39.288Z"
   },
   {
    "duration": 569,
    "start_time": "2021-07-07T14:42:14.387Z"
   },
   {
    "duration": 197,
    "start_time": "2021-07-07T14:42:14.959Z"
   },
   {
    "duration": 84,
    "start_time": "2021-07-07T14:42:16.052Z"
   },
   {
    "duration": 4,
    "start_time": "2021-07-07T14:42:16.900Z"
   },
   {
    "duration": 27,
    "start_time": "2021-07-07T14:42:19.898Z"
   },
   {
    "duration": 12,
    "start_time": "2021-07-07T14:42:21.577Z"
   },
   {
    "duration": 9,
    "start_time": "2021-07-07T14:42:21.813Z"
   },
   {
    "duration": 9,
    "start_time": "2021-07-07T14:42:22.569Z"
   },
   {
    "duration": 29,
    "start_time": "2021-07-07T14:42:25.837Z"
   },
   {
    "duration": 20,
    "start_time": "2021-07-07T14:42:27.003Z"
   },
   {
    "duration": 21,
    "start_time": "2021-07-07T14:42:28.767Z"
   },
   {
    "duration": 7,
    "start_time": "2021-07-07T14:42:29.838Z"
   },
   {
    "duration": 4,
    "start_time": "2021-07-07T14:43:25.493Z"
   },
   {
    "duration": 7,
    "start_time": "2021-07-07T14:43:26.573Z"
   },
   {
    "duration": 10,
    "start_time": "2021-07-07T14:43:31.639Z"
   },
   {
    "duration": 9,
    "start_time": "2021-07-07T14:43:32.046Z"
   },
   {
    "duration": 10,
    "start_time": "2021-07-07T14:43:33.301Z"
   },
   {
    "duration": 12,
    "start_time": "2021-07-07T14:43:33.658Z"
   },
   {
    "duration": 8,
    "start_time": "2021-07-07T14:43:34.552Z"
   },
   {
    "duration": 9,
    "start_time": "2021-07-07T14:43:35.058Z"
   },
   {
    "duration": 12,
    "start_time": "2021-07-07T14:43:35.914Z"
   },
   {
    "duration": 17,
    "start_time": "2021-07-07T14:45:34.368Z"
   },
   {
    "duration": 512,
    "start_time": "2021-07-07T14:51:58.236Z"
   },
   {
    "duration": 223,
    "start_time": "2021-07-07T14:51:58.750Z"
   },
   {
    "duration": 93,
    "start_time": "2021-07-07T14:51:58.977Z"
   },
   {
    "duration": 4,
    "start_time": "2021-07-07T14:51:59.071Z"
   },
   {
    "duration": 37,
    "start_time": "2021-07-07T14:51:59.077Z"
   },
   {
    "duration": 18,
    "start_time": "2021-07-07T14:51:59.116Z"
   },
   {
    "duration": 10,
    "start_time": "2021-07-07T14:51:59.137Z"
   },
   {
    "duration": 8,
    "start_time": "2021-07-07T14:51:59.149Z"
   },
   {
    "duration": 54,
    "start_time": "2021-07-07T14:51:59.158Z"
   },
   {
    "duration": 18,
    "start_time": "2021-07-07T14:51:59.213Z"
   },
   {
    "duration": 22,
    "start_time": "2021-07-07T14:51:59.232Z"
   },
   {
    "duration": 36,
    "start_time": "2021-07-07T14:51:59.255Z"
   },
   {
    "duration": 7,
    "start_time": "2021-07-07T14:51:59.293Z"
   },
   {
    "duration": 10,
    "start_time": "2021-07-07T14:51:59.302Z"
   },
   {
    "duration": 9,
    "start_time": "2021-07-07T14:51:59.313Z"
   },
   {
    "duration": 11,
    "start_time": "2021-07-07T14:51:59.324Z"
   },
   {
    "duration": 8,
    "start_time": "2021-07-07T14:51:59.337Z"
   },
   {
    "duration": 46,
    "start_time": "2021-07-07T14:51:59.347Z"
   },
   {
    "duration": 22,
    "start_time": "2021-07-07T14:51:59.395Z"
   },
   {
    "duration": 24,
    "start_time": "2021-07-07T14:57:32.911Z"
   },
   {
    "duration": 7,
    "start_time": "2021-07-07T14:58:22.070Z"
   },
   {
    "duration": 4,
    "start_time": "2021-07-07T14:59:11.239Z"
   },
   {
    "duration": 25,
    "start_time": "2021-07-07T15:07:22.208Z"
   },
   {
    "duration": 16,
    "start_time": "2021-07-07T15:08:25.560Z"
   },
   {
    "duration": 15,
    "start_time": "2021-07-07T15:08:40.647Z"
   },
   {
    "duration": 14,
    "start_time": "2021-07-07T15:08:46.669Z"
   },
   {
    "duration": 533,
    "start_time": "2021-07-07T15:18:07.440Z"
   },
   {
    "duration": 173,
    "start_time": "2021-07-07T15:18:07.974Z"
   },
   {
    "duration": 84,
    "start_time": "2021-07-07T15:18:08.149Z"
   },
   {
    "duration": 3,
    "start_time": "2021-07-07T15:18:08.235Z"
   },
   {
    "duration": 30,
    "start_time": "2021-07-07T15:18:08.240Z"
   },
   {
    "duration": 22,
    "start_time": "2021-07-07T15:18:08.272Z"
   },
   {
    "duration": 11,
    "start_time": "2021-07-07T15:18:08.295Z"
   },
   {
    "duration": 11,
    "start_time": "2021-07-07T15:18:08.309Z"
   },
   {
    "duration": 40,
    "start_time": "2021-07-07T15:18:08.322Z"
   },
   {
    "duration": 42,
    "start_time": "2021-07-07T15:18:08.364Z"
   },
   {
    "duration": 22,
    "start_time": "2021-07-07T15:18:08.408Z"
   },
   {
    "duration": 5,
    "start_time": "2021-07-07T15:18:08.432Z"
   },
   {
    "duration": 13,
    "start_time": "2021-07-07T15:18:08.439Z"
   },
   {
    "duration": 9,
    "start_time": "2021-07-07T15:18:08.454Z"
   },
   {
    "duration": 32,
    "start_time": "2021-07-07T15:18:08.465Z"
   },
   {
    "duration": 10,
    "start_time": "2021-07-07T15:18:08.501Z"
   },
   {
    "duration": 7,
    "start_time": "2021-07-07T15:18:08.513Z"
   },
   {
    "duration": 11,
    "start_time": "2021-07-07T15:18:08.521Z"
   },
   {
    "duration": 17,
    "start_time": "2021-07-07T15:18:08.534Z"
   },
   {
    "duration": 44,
    "start_time": "2021-07-07T15:18:08.553Z"
   },
   {
    "duration": 22,
    "start_time": "2021-07-07T15:18:08.599Z"
   },
   {
    "duration": 61,
    "start_time": "2021-07-07T15:18:08.622Z"
   },
   {
    "duration": 7,
    "start_time": "2021-07-07T15:18:39.457Z"
   },
   {
    "duration": 5,
    "start_time": "2021-07-07T16:05:17.020Z"
   },
   {
    "duration": 5,
    "start_time": "2021-07-07T16:51:28.794Z"
   },
   {
    "duration": 546,
    "start_time": "2021-07-07T16:52:26.306Z"
   },
   {
    "duration": 203,
    "start_time": "2021-07-07T16:52:27.523Z"
   },
   {
    "duration": 85,
    "start_time": "2021-07-07T16:52:27.736Z"
   },
   {
    "duration": 4,
    "start_time": "2021-07-07T16:52:27.899Z"
   },
   {
    "duration": 25,
    "start_time": "2021-07-07T16:52:28.674Z"
   },
   {
    "duration": 8,
    "start_time": "2021-07-07T16:52:32.956Z"
   },
   {
    "duration": 18,
    "start_time": "2021-07-07T16:52:35.616Z"
   },
   {
    "duration": 6,
    "start_time": "2021-07-07T16:52:36.913Z"
   },
   {
    "duration": 11,
    "start_time": "2021-07-07T16:52:40.258Z"
   },
   {
    "duration": 10,
    "start_time": "2021-07-07T16:52:46.251Z"
   },
   {
    "duration": 8,
    "start_time": "2021-07-07T16:52:47.182Z"
   },
   {
    "duration": 27,
    "start_time": "2021-07-07T16:53:20.391Z"
   },
   {
    "duration": 20,
    "start_time": "2021-07-07T16:53:22.022Z"
   },
   {
    "duration": 23,
    "start_time": "2021-07-07T16:53:23.690Z"
   },
   {
    "duration": 8,
    "start_time": "2021-07-07T16:53:24.261Z"
   },
   {
    "duration": 4,
    "start_time": "2021-07-07T16:53:38.733Z"
   },
   {
    "duration": 7,
    "start_time": "2021-07-07T16:53:40.445Z"
   },
   {
    "duration": 11,
    "start_time": "2021-07-07T16:53:41.348Z"
   },
   {
    "duration": 13,
    "start_time": "2021-07-07T16:53:45.250Z"
   },
   {
    "duration": 12,
    "start_time": "2021-07-07T16:53:45.467Z"
   },
   {
    "duration": 4,
    "start_time": "2021-07-07T16:55:32.704Z"
   },
   {
    "duration": 12,
    "start_time": "2021-07-07T16:55:49.012Z"
   },
   {
    "duration": 18,
    "start_time": "2021-07-07T16:55:49.547Z"
   },
   {
    "duration": 611,
    "start_time": "2021-07-07T16:58:35.156Z"
   },
   {
    "duration": 200,
    "start_time": "2021-07-07T16:58:35.770Z"
   },
   {
    "duration": 86,
    "start_time": "2021-07-07T16:58:35.972Z"
   },
   {
    "duration": 3,
    "start_time": "2021-07-07T16:58:36.060Z"
   },
   {
    "duration": 27,
    "start_time": "2021-07-07T16:58:36.065Z"
   },
   {
    "duration": 8,
    "start_time": "2021-07-07T16:58:36.094Z"
   },
   {
    "duration": 17,
    "start_time": "2021-07-07T16:58:36.103Z"
   },
   {
    "duration": 5,
    "start_time": "2021-07-07T16:58:36.123Z"
   },
   {
    "duration": 11,
    "start_time": "2021-07-07T16:58:36.130Z"
   },
   {
    "duration": 7,
    "start_time": "2021-07-07T16:58:36.143Z"
   },
   {
    "duration": 37,
    "start_time": "2021-07-07T16:58:36.152Z"
   },
   {
    "duration": 27,
    "start_time": "2021-07-07T16:58:36.191Z"
   },
   {
    "duration": 19,
    "start_time": "2021-07-07T16:58:36.219Z"
   },
   {
    "duration": 49,
    "start_time": "2021-07-07T16:58:36.240Z"
   },
   {
    "duration": 6,
    "start_time": "2021-07-07T16:58:36.291Z"
   },
   {
    "duration": 3,
    "start_time": "2021-07-07T16:58:36.299Z"
   },
   {
    "duration": 13,
    "start_time": "2021-07-07T16:58:36.304Z"
   },
   {
    "duration": 10,
    "start_time": "2021-07-07T16:58:36.319Z"
   },
   {
    "duration": 10,
    "start_time": "2021-07-07T16:58:36.331Z"
   },
   {
    "duration": 44,
    "start_time": "2021-07-07T16:58:36.343Z"
   },
   {
    "duration": 4,
    "start_time": "2021-07-07T16:58:36.388Z"
   },
   {
    "duration": 13,
    "start_time": "2021-07-07T16:58:36.394Z"
   },
   {
    "duration": 16,
    "start_time": "2021-07-07T16:58:36.410Z"
   },
   {
    "duration": 8,
    "start_time": "2021-07-07T17:02:31.629Z"
   },
   {
    "duration": 8,
    "start_time": "2021-07-07T17:02:34.308Z"
   },
   {
    "duration": 6,
    "start_time": "2021-07-07T17:05:13.483Z"
   },
   {
    "duration": 17,
    "start_time": "2021-07-07T17:05:20.606Z"
   },
   {
    "duration": 7,
    "start_time": "2021-07-07T17:05:34.638Z"
   },
   {
    "duration": 3,
    "start_time": "2021-07-07T17:06:31.883Z"
   },
   {
    "duration": 570,
    "start_time": "2021-07-07T17:06:37.165Z"
   },
   {
    "duration": 174,
    "start_time": "2021-07-07T17:06:37.737Z"
   },
   {
    "duration": 47,
    "start_time": "2021-07-07T17:06:37.913Z"
   },
   {
    "duration": 3,
    "start_time": "2021-07-07T17:06:37.962Z"
   },
   {
    "duration": 27,
    "start_time": "2021-07-07T17:06:37.967Z"
   },
   {
    "duration": 7,
    "start_time": "2021-07-07T17:06:37.996Z"
   },
   {
    "duration": 16,
    "start_time": "2021-07-07T17:06:38.005Z"
   },
   {
    "duration": 6,
    "start_time": "2021-07-07T17:06:38.024Z"
   },
   {
    "duration": 12,
    "start_time": "2021-07-07T17:06:38.031Z"
   },
   {
    "duration": 41,
    "start_time": "2021-07-07T17:06:38.045Z"
   },
   {
    "duration": 8,
    "start_time": "2021-07-07T17:06:38.088Z"
   },
   {
    "duration": 26,
    "start_time": "2021-07-07T17:06:38.098Z"
   },
   {
    "duration": 17,
    "start_time": "2021-07-07T17:06:38.126Z"
   },
   {
    "duration": 43,
    "start_time": "2021-07-07T17:06:38.144Z"
   },
   {
    "duration": 6,
    "start_time": "2021-07-07T17:06:38.188Z"
   },
   {
    "duration": 5,
    "start_time": "2021-07-07T17:06:38.195Z"
   },
   {
    "duration": 9,
    "start_time": "2021-07-07T17:06:38.201Z"
   },
   {
    "duration": 12,
    "start_time": "2021-07-07T17:06:38.212Z"
   },
   {
    "duration": 11,
    "start_time": "2021-07-07T17:06:38.226Z"
   },
   {
    "duration": 47,
    "start_time": "2021-07-07T17:06:38.239Z"
   },
   {
    "duration": 4,
    "start_time": "2021-07-07T17:06:38.288Z"
   },
   {
    "duration": 13,
    "start_time": "2021-07-07T17:06:38.293Z"
   },
   {
    "duration": 5,
    "start_time": "2021-07-07T17:06:38.309Z"
   },
   {
    "duration": 18,
    "start_time": "2021-07-07T17:06:38.325Z"
   },
   {
    "duration": 20,
    "start_time": "2021-07-07T17:07:02.805Z"
   },
   {
    "duration": 19,
    "start_time": "2021-07-07T17:07:08.527Z"
   },
   {
    "duration": 19,
    "start_time": "2021-07-07T17:07:12.758Z"
   },
   {
    "duration": 22,
    "start_time": "2021-07-07T17:07:17.497Z"
   },
   {
    "duration": 19,
    "start_time": "2021-07-07T17:07:19.645Z"
   },
   {
    "duration": 10,
    "start_time": "2021-07-07T17:07:34.239Z"
   },
   {
    "duration": 17,
    "start_time": "2021-07-07T17:07:54.144Z"
   },
   {
    "duration": 14,
    "start_time": "2021-07-07T17:08:14.357Z"
   },
   {
    "duration": 616,
    "start_time": "2021-07-07T17:08:45.254Z"
   },
   {
    "duration": 178,
    "start_time": "2021-07-07T17:08:45.872Z"
   },
   {
    "duration": 60,
    "start_time": "2021-07-07T17:08:46.054Z"
   },
   {
    "duration": 3,
    "start_time": "2021-07-07T17:08:46.116Z"
   },
   {
    "duration": 26,
    "start_time": "2021-07-07T17:08:46.121Z"
   },
   {
    "duration": 7,
    "start_time": "2021-07-07T17:08:46.149Z"
   },
   {
    "duration": 17,
    "start_time": "2021-07-07T17:08:46.158Z"
   },
   {
    "duration": 14,
    "start_time": "2021-07-07T17:08:46.176Z"
   },
   {
    "duration": 17,
    "start_time": "2021-07-07T17:08:46.193Z"
   },
   {
    "duration": 9,
    "start_time": "2021-07-07T17:08:46.211Z"
   },
   {
    "duration": 21,
    "start_time": "2021-07-07T17:08:46.221Z"
   },
   {
    "duration": 49,
    "start_time": "2021-07-07T17:08:46.244Z"
   },
   {
    "duration": 24,
    "start_time": "2021-07-07T17:08:46.295Z"
   },
   {
    "duration": 22,
    "start_time": "2021-07-07T17:08:46.321Z"
   },
   {
    "duration": 6,
    "start_time": "2021-07-07T17:08:46.345Z"
   },
   {
    "duration": 5,
    "start_time": "2021-07-07T17:08:46.353Z"
   },
   {
    "duration": 13,
    "start_time": "2021-07-07T17:08:46.386Z"
   },
   {
    "duration": 12,
    "start_time": "2021-07-07T17:08:46.402Z"
   },
   {
    "duration": 10,
    "start_time": "2021-07-07T17:08:46.415Z"
   },
   {
    "duration": 7,
    "start_time": "2021-07-07T17:08:46.427Z"
   },
   {
    "duration": 8,
    "start_time": "2021-07-07T17:08:46.435Z"
   },
   {
    "duration": 68,
    "start_time": "2021-07-07T17:08:46.446Z"
   },
   {
    "duration": 13,
    "start_time": "2021-07-07T17:08:46.516Z"
   },
   {
    "duration": 78,
    "start_time": "2021-07-07T17:08:46.530Z"
   },
   {
    "duration": 40,
    "start_time": "2021-07-07T17:09:08.185Z"
   },
   {
    "duration": 16,
    "start_time": "2021-07-07T17:09:19.324Z"
   },
   {
    "duration": 21,
    "start_time": "2021-07-07T17:09:23.290Z"
   },
   {
    "duration": 13,
    "start_time": "2021-07-07T17:09:54.812Z"
   },
   {
    "duration": 13,
    "start_time": "2021-07-07T17:10:02.039Z"
   },
   {
    "duration": 10,
    "start_time": "2021-07-07T17:10:29.632Z"
   },
   {
    "duration": 13,
    "start_time": "2021-07-07T17:10:52.372Z"
   },
   {
    "duration": 13,
    "start_time": "2021-07-07T17:11:17.270Z"
   },
   {
    "duration": 13,
    "start_time": "2021-07-07T17:14:59.284Z"
   },
   {
    "duration": 547,
    "start_time": "2021-07-07T17:18:52.403Z"
   },
   {
    "duration": 163,
    "start_time": "2021-07-07T17:18:52.952Z"
   },
   {
    "duration": 44,
    "start_time": "2021-07-07T17:18:53.117Z"
   },
   {
    "duration": 3,
    "start_time": "2021-07-07T17:18:53.162Z"
   },
   {
    "duration": 26,
    "start_time": "2021-07-07T17:18:53.167Z"
   },
   {
    "duration": 6,
    "start_time": "2021-07-07T17:18:53.195Z"
   },
   {
    "duration": 15,
    "start_time": "2021-07-07T17:18:53.203Z"
   },
   {
    "duration": 5,
    "start_time": "2021-07-07T17:18:53.220Z"
   },
   {
    "duration": 11,
    "start_time": "2021-07-07T17:18:53.228Z"
   },
   {
    "duration": 9,
    "start_time": "2021-07-07T17:18:53.241Z"
   },
   {
    "duration": 41,
    "start_time": "2021-07-07T17:18:53.252Z"
   },
   {
    "duration": 33,
    "start_time": "2021-07-07T17:18:53.295Z"
   },
   {
    "duration": 19,
    "start_time": "2021-07-07T17:18:53.330Z"
   },
   {
    "duration": 49,
    "start_time": "2021-07-07T17:18:53.350Z"
   },
   {
    "duration": 5,
    "start_time": "2021-07-07T17:18:53.401Z"
   },
   {
    "duration": 5,
    "start_time": "2021-07-07T17:18:53.408Z"
   },
   {
    "duration": 11,
    "start_time": "2021-07-07T17:18:53.414Z"
   },
   {
    "duration": 9,
    "start_time": "2021-07-07T17:18:53.427Z"
   },
   {
    "duration": 10,
    "start_time": "2021-07-07T17:18:53.437Z"
   },
   {
    "duration": 39,
    "start_time": "2021-07-07T17:18:53.448Z"
   },
   {
    "duration": 26,
    "start_time": "2021-07-07T17:18:55.799Z"
   },
   {
    "duration": 598,
    "start_time": "2021-07-07T17:20:17.862Z"
   },
   {
    "duration": 161,
    "start_time": "2021-07-07T17:20:18.462Z"
   },
   {
    "duration": 45,
    "start_time": "2021-07-07T17:20:18.626Z"
   },
   {
    "duration": 4,
    "start_time": "2021-07-07T17:20:18.673Z"
   },
   {
    "duration": 38,
    "start_time": "2021-07-07T17:20:26.877Z"
   },
   {
    "duration": 7,
    "start_time": "2021-07-07T17:20:37.405Z"
   },
   {
    "duration": 19,
    "start_time": "2021-07-07T17:20:51.534Z"
   },
   {
    "duration": 5,
    "start_time": "2021-07-07T17:20:57.228Z"
   },
   {
    "duration": 7,
    "start_time": "2021-07-07T17:21:08.235Z"
   },
   {
    "duration": 19,
    "start_time": "2021-07-07T17:21:42.158Z"
   },
   {
    "duration": 14,
    "start_time": "2021-07-07T17:21:50.225Z"
   },
   {
    "duration": 22,
    "start_time": "2021-07-07T17:22:54.104Z"
   },
   {
    "duration": 5,
    "start_time": "2021-07-07T17:22:56.371Z"
   },
   {
    "duration": 14,
    "start_time": "2021-07-07T17:22:58.316Z"
   },
   {
    "duration": 5,
    "start_time": "2021-07-07T17:22:58.493Z"
   },
   {
    "duration": 35,
    "start_time": "2021-07-07T17:22:59.666Z"
   },
   {
    "duration": 6,
    "start_time": "2021-07-07T17:23:02.410Z"
   },
   {
    "duration": 611,
    "start_time": "2021-07-07T17:24:59.664Z"
   },
   {
    "duration": 178,
    "start_time": "2021-07-07T17:25:01.945Z"
   },
   {
    "duration": 47,
    "start_time": "2021-07-07T17:25:02.125Z"
   },
   {
    "duration": 2,
    "start_time": "2021-07-07T17:25:07.903Z"
   },
   {
    "duration": 254,
    "start_time": "2021-07-07T17:25:08.232Z"
   },
   {
    "duration": 182,
    "start_time": "2021-07-07T17:25:08.671Z"
   },
   {
    "duration": 6,
    "start_time": "2021-07-07T17:25:13.104Z"
   },
   {
    "duration": 36,
    "start_time": "2021-07-07T17:25:13.662Z"
   },
   {
    "duration": 7,
    "start_time": "2021-07-07T17:25:14.528Z"
   },
   {
    "duration": 24,
    "start_time": "2021-07-07T17:25:27.982Z"
   },
   {
    "duration": 3,
    "start_time": "2021-07-07T17:25:48.982Z"
   },
   {
    "duration": 165,
    "start_time": "2021-07-07T17:25:48.987Z"
   },
   {
    "duration": 50,
    "start_time": "2021-07-07T17:25:49.154Z"
   },
   {
    "duration": 4,
    "start_time": "2021-07-07T17:25:49.206Z"
   },
   {
    "duration": 26,
    "start_time": "2021-07-07T17:25:49.212Z"
   },
   {
    "duration": 7,
    "start_time": "2021-07-07T17:25:49.240Z"
   },
   {
    "duration": 16,
    "start_time": "2021-07-07T17:25:49.249Z"
   },
   {
    "duration": 22,
    "start_time": "2021-07-07T17:25:49.266Z"
   },
   {
    "duration": 16,
    "start_time": "2021-07-07T17:25:49.291Z"
   },
   {
    "duration": 9,
    "start_time": "2021-07-07T17:25:49.309Z"
   },
   {
    "duration": 7,
    "start_time": "2021-07-07T17:25:49.319Z"
   },
   {
    "duration": 28,
    "start_time": "2021-07-07T17:25:49.328Z"
   },
   {
    "duration": 44,
    "start_time": "2021-07-07T17:25:49.357Z"
   },
   {
    "duration": 22,
    "start_time": "2021-07-07T17:25:49.403Z"
   },
   {
    "duration": 7,
    "start_time": "2021-07-07T17:25:49.427Z"
   },
   {
    "duration": 3,
    "start_time": "2021-07-07T17:25:49.436Z"
   },
   {
    "duration": 44,
    "start_time": "2021-07-07T17:25:49.441Z"
   },
   {
    "duration": 12,
    "start_time": "2021-07-07T17:25:49.488Z"
   },
   {
    "duration": 13,
    "start_time": "2021-07-07T17:25:49.502Z"
   },
   {
    "duration": 10,
    "start_time": "2021-07-07T17:25:49.516Z"
   },
   {
    "duration": 62,
    "start_time": "2021-07-07T17:25:49.527Z"
   },
   {
    "duration": 26,
    "start_time": "2021-07-07T17:26:51.809Z"
   },
   {
    "duration": 26,
    "start_time": "2021-07-07T17:26:55.759Z"
   },
   {
    "duration": 26,
    "start_time": "2021-07-07T17:27:04.501Z"
   },
   {
    "duration": 25,
    "start_time": "2021-07-07T17:28:24.859Z"
   },
   {
    "duration": 21,
    "start_time": "2021-07-07T17:28:55.250Z"
   },
   {
    "duration": 21,
    "start_time": "2021-07-07T17:28:58.885Z"
   },
   {
    "duration": 7,
    "start_time": "2021-07-07T17:45:40.972Z"
   },
   {
    "duration": 13,
    "start_time": "2021-07-07T17:45:42.529Z"
   },
   {
    "duration": 27,
    "start_time": "2021-07-07T17:45:51.026Z"
   },
   {
    "duration": 518,
    "start_time": "2021-07-07T17:46:15.532Z"
   },
   {
    "duration": 235,
    "start_time": "2021-07-07T17:46:16.053Z"
   },
   {
    "duration": 80,
    "start_time": "2021-07-07T17:46:16.292Z"
   },
   {
    "duration": 5,
    "start_time": "2021-07-07T17:46:16.373Z"
   },
   {
    "duration": 26,
    "start_time": "2021-07-07T17:46:16.380Z"
   },
   {
    "duration": 7,
    "start_time": "2021-07-07T17:46:16.408Z"
   },
   {
    "duration": 16,
    "start_time": "2021-07-07T17:46:16.418Z"
   },
   {
    "duration": 5,
    "start_time": "2021-07-07T17:46:16.436Z"
   },
   {
    "duration": 13,
    "start_time": "2021-07-07T17:46:16.442Z"
   },
   {
    "duration": 35,
    "start_time": "2021-07-07T17:46:16.456Z"
   },
   {
    "duration": 8,
    "start_time": "2021-07-07T17:46:16.493Z"
   },
   {
    "duration": 28,
    "start_time": "2021-07-07T17:46:16.502Z"
   },
   {
    "duration": 17,
    "start_time": "2021-07-07T17:46:16.532Z"
   },
   {
    "duration": 44,
    "start_time": "2021-07-07T17:46:16.551Z"
   },
   {
    "duration": 6,
    "start_time": "2021-07-07T17:46:16.597Z"
   },
   {
    "duration": 4,
    "start_time": "2021-07-07T17:46:16.605Z"
   },
   {
    "duration": 9,
    "start_time": "2021-07-07T17:46:16.610Z"
   },
   {
    "duration": 9,
    "start_time": "2021-07-07T17:46:16.621Z"
   },
   {
    "duration": 10,
    "start_time": "2021-07-07T17:46:16.632Z"
   },
   {
    "duration": 43,
    "start_time": "2021-07-07T17:46:16.644Z"
   },
   {
    "duration": 26,
    "start_time": "2021-07-07T17:46:16.689Z"
   },
   {
    "duration": 19,
    "start_time": "2021-07-07T17:46:16.718Z"
   },
   {
    "duration": 8,
    "start_time": "2021-07-07T17:46:16.738Z"
   },
   {
    "duration": 43,
    "start_time": "2021-07-07T17:46:16.747Z"
   },
   {
    "duration": 19,
    "start_time": "2021-07-07T17:46:16.791Z"
   },
   {
    "duration": 9,
    "start_time": "2021-07-07T17:46:16.812Z"
   },
   {
    "duration": 60,
    "start_time": "2021-07-07T17:46:16.822Z"
   },
   {
    "duration": -8,
    "start_time": "2021-07-07T17:46:16.892Z"
   },
   {
    "duration": 12,
    "start_time": "2021-07-07T17:48:47.707Z"
   },
   {
    "duration": 553,
    "start_time": "2021-07-07T18:10:09.350Z"
   },
   {
    "duration": 230,
    "start_time": "2021-07-07T18:10:09.905Z"
   },
   {
    "duration": 97,
    "start_time": "2021-07-07T18:10:10.137Z"
   },
   {
    "duration": 5,
    "start_time": "2021-07-07T18:10:10.236Z"
   },
   {
    "duration": 29,
    "start_time": "2021-07-07T18:10:10.242Z"
   },
   {
    "duration": 7,
    "start_time": "2021-07-07T18:10:10.272Z"
   },
   {
    "duration": 15,
    "start_time": "2021-07-07T18:10:10.281Z"
   },
   {
    "duration": 4,
    "start_time": "2021-07-07T18:10:10.299Z"
   },
   {
    "duration": 14,
    "start_time": "2021-07-07T18:10:10.305Z"
   },
   {
    "duration": 8,
    "start_time": "2021-07-07T18:10:10.321Z"
   },
   {
    "duration": 8,
    "start_time": "2021-07-07T18:10:10.331Z"
   },
   {
    "duration": 56,
    "start_time": "2021-07-07T18:10:10.341Z"
   },
   {
    "duration": 19,
    "start_time": "2021-07-07T18:10:10.399Z"
   },
   {
    "duration": 23,
    "start_time": "2021-07-07T18:10:10.419Z"
   },
   {
    "duration": 6,
    "start_time": "2021-07-07T18:10:10.444Z"
   },
   {
    "duration": 9,
    "start_time": "2021-07-07T18:10:10.451Z"
   },
   {
    "duration": 30,
    "start_time": "2021-07-07T18:10:10.462Z"
   },
   {
    "duration": 9,
    "start_time": "2021-07-07T18:10:10.494Z"
   },
   {
    "duration": 14,
    "start_time": "2021-07-07T18:10:10.505Z"
   },
   {
    "duration": 7,
    "start_time": "2021-07-07T18:10:10.521Z"
   },
   {
    "duration": 26,
    "start_time": "2021-07-07T18:10:10.530Z"
   },
   {
    "duration": 44,
    "start_time": "2021-07-07T18:10:10.558Z"
   },
   {
    "duration": 7,
    "start_time": "2021-07-07T18:10:10.605Z"
   },
   {
    "duration": 11,
    "start_time": "2021-07-07T18:10:10.614Z"
   },
   {
    "duration": 19,
    "start_time": "2021-07-07T18:10:10.626Z"
   },
   {
    "duration": 44,
    "start_time": "2021-07-07T18:10:10.646Z"
   },
   {
    "duration": 516,
    "start_time": "2021-07-07T18:14:00.826Z"
   },
   {
    "duration": 230,
    "start_time": "2021-07-07T18:14:01.344Z"
   },
   {
    "duration": 105,
    "start_time": "2021-07-07T18:14:01.576Z"
   },
   {
    "duration": 5,
    "start_time": "2021-07-07T18:14:01.683Z"
   },
   {
    "duration": 46,
    "start_time": "2021-07-07T18:14:01.690Z"
   },
   {
    "duration": 7,
    "start_time": "2021-07-07T18:14:01.738Z"
   },
   {
    "duration": 20,
    "start_time": "2021-07-07T18:14:01.747Z"
   },
   {
    "duration": 16,
    "start_time": "2021-07-07T18:14:01.769Z"
   },
   {
    "duration": 14,
    "start_time": "2021-07-07T18:14:01.787Z"
   },
   {
    "duration": 15,
    "start_time": "2021-07-07T18:14:01.803Z"
   },
   {
    "duration": 12,
    "start_time": "2021-07-07T18:14:01.820Z"
   },
   {
    "duration": 35,
    "start_time": "2021-07-07T18:14:01.833Z"
   },
   {
    "duration": 31,
    "start_time": "2021-07-07T18:14:01.869Z"
   },
   {
    "duration": 37,
    "start_time": "2021-07-07T18:14:01.902Z"
   },
   {
    "duration": 8,
    "start_time": "2021-07-07T18:14:01.942Z"
   },
   {
    "duration": 16,
    "start_time": "2021-07-07T18:14:01.952Z"
   },
   {
    "duration": 13,
    "start_time": "2021-07-07T18:14:01.970Z"
   },
   {
    "duration": 32,
    "start_time": "2021-07-07T18:14:01.985Z"
   },
   {
    "duration": 11,
    "start_time": "2021-07-07T18:14:02.019Z"
   },
   {
    "duration": 22,
    "start_time": "2021-07-07T18:14:02.031Z"
   },
   {
    "duration": 27,
    "start_time": "2021-07-07T18:14:02.055Z"
   },
   {
    "duration": 18,
    "start_time": "2021-07-07T18:14:02.084Z"
   },
   {
    "duration": 18,
    "start_time": "2021-07-07T18:14:02.106Z"
   },
   {
    "duration": 11,
    "start_time": "2021-07-07T18:14:02.126Z"
   },
   {
    "duration": 21,
    "start_time": "2021-07-07T18:14:02.138Z"
   },
   {
    "duration": 32,
    "start_time": "2021-07-07T18:14:02.161Z"
   },
   {
    "duration": 28,
    "start_time": "2021-07-07T18:14:44.295Z"
   },
   {
    "duration": 6,
    "start_time": "2021-07-07T18:15:05.834Z"
   },
   {
    "duration": 511,
    "start_time": "2021-07-07T18:15:41.541Z"
   },
   {
    "duration": 183,
    "start_time": "2021-07-07T18:15:42.054Z"
   },
   {
    "duration": 50,
    "start_time": "2021-07-07T18:15:42.239Z"
   },
   {
    "duration": 5,
    "start_time": "2021-07-07T18:15:42.291Z"
   },
   {
    "duration": 48,
    "start_time": "2021-07-07T18:15:42.297Z"
   },
   {
    "duration": 8,
    "start_time": "2021-07-07T18:15:42.346Z"
   },
   {
    "duration": 17,
    "start_time": "2021-07-07T18:15:42.356Z"
   },
   {
    "duration": 15,
    "start_time": "2021-07-07T18:15:42.375Z"
   },
   {
    "duration": 12,
    "start_time": "2021-07-07T18:15:42.392Z"
   },
   {
    "duration": 7,
    "start_time": "2021-07-07T18:15:42.406Z"
   },
   {
    "duration": 7,
    "start_time": "2021-07-07T18:15:42.415Z"
   },
   {
    "duration": 29,
    "start_time": "2021-07-07T18:15:42.423Z"
   },
   {
    "duration": 43,
    "start_time": "2021-07-07T18:15:42.453Z"
   },
   {
    "duration": 18,
    "start_time": "2021-07-07T18:15:42.497Z"
   },
   {
    "duration": 6,
    "start_time": "2021-07-07T18:15:42.516Z"
   },
   {
    "duration": 3,
    "start_time": "2021-07-07T18:15:42.523Z"
   },
   {
    "duration": 18,
    "start_time": "2021-07-07T18:15:42.528Z"
   },
   {
    "duration": 10,
    "start_time": "2021-07-07T18:15:42.547Z"
   },
   {
    "duration": 36,
    "start_time": "2021-07-07T18:15:42.559Z"
   },
   {
    "duration": 8,
    "start_time": "2021-07-07T18:15:42.597Z"
   },
   {
    "duration": 28,
    "start_time": "2021-07-07T18:15:42.606Z"
   },
   {
    "duration": 52,
    "start_time": "2021-07-07T18:15:42.635Z"
   },
   {
    "duration": 7,
    "start_time": "2021-07-07T18:15:42.690Z"
   },
   {
    "duration": 10,
    "start_time": "2021-07-07T18:15:42.699Z"
   },
   {
    "duration": 19,
    "start_time": "2021-07-07T18:15:42.711Z"
   },
   {
    "duration": 9,
    "start_time": "2021-07-07T18:15:42.732Z"
   },
   {
    "duration": 5,
    "start_time": "2021-07-07T18:15:42.743Z"
   },
   {
    "duration": 1450,
    "start_time": "2021-07-07T18:15:51.984Z"
   },
   {
    "duration": 161,
    "start_time": "2021-07-07T18:15:53.435Z"
   },
   {
    "duration": 124,
    "start_time": "2021-07-07T18:15:53.598Z"
   },
   {
    "duration": 5,
    "start_time": "2021-07-07T18:15:53.724Z"
   },
   {
    "duration": 34,
    "start_time": "2021-07-07T18:15:53.730Z"
   },
   {
    "duration": 7,
    "start_time": "2021-07-07T18:15:53.765Z"
   },
   {
    "duration": 15,
    "start_time": "2021-07-07T18:15:53.773Z"
   },
   {
    "duration": 5,
    "start_time": "2021-07-07T18:15:53.791Z"
   },
   {
    "duration": 19,
    "start_time": "2021-07-07T18:15:53.798Z"
   },
   {
    "duration": 9,
    "start_time": "2021-07-07T18:15:53.818Z"
   },
   {
    "duration": 19,
    "start_time": "2021-07-07T18:15:53.828Z"
   },
   {
    "duration": 27,
    "start_time": "2021-07-07T18:15:53.848Z"
   },
   {
    "duration": 16,
    "start_time": "2021-07-07T18:15:53.884Z"
   },
   {
    "duration": 29,
    "start_time": "2021-07-07T18:15:53.901Z"
   },
   {
    "duration": 5,
    "start_time": "2021-07-07T18:15:53.932Z"
   },
   {
    "duration": 15,
    "start_time": "2021-07-07T18:15:53.939Z"
   },
   {
    "duration": 13,
    "start_time": "2021-07-07T18:15:53.956Z"
   },
   {
    "duration": 20,
    "start_time": "2021-07-07T18:15:53.971Z"
   },
   {
    "duration": 14,
    "start_time": "2021-07-07T18:15:53.992Z"
   },
   {
    "duration": 9,
    "start_time": "2021-07-07T18:15:54.009Z"
   },
   {
    "duration": 28,
    "start_time": "2021-07-07T18:15:54.020Z"
   },
   {
    "duration": 50,
    "start_time": "2021-07-07T18:15:54.051Z"
   },
   {
    "duration": 8,
    "start_time": "2021-07-07T18:15:54.105Z"
   },
   {
    "duration": 11,
    "start_time": "2021-07-07T18:15:54.115Z"
   },
   {
    "duration": 20,
    "start_time": "2021-07-07T18:15:54.128Z"
   },
   {
    "duration": 13,
    "start_time": "2021-07-07T18:15:54.184Z"
   },
   {
    "duration": 7,
    "start_time": "2021-07-07T18:15:54.199Z"
   },
   {
    "duration": 7,
    "start_time": "2021-07-07T18:17:08.042Z"
   },
   {
    "duration": 8,
    "start_time": "2021-07-07T18:17:21.008Z"
   },
   {
    "duration": 7,
    "start_time": "2021-07-07T18:17:29.003Z"
   },
   {
    "duration": 8,
    "start_time": "2021-07-07T18:17:32.492Z"
   },
   {
    "duration": 9,
    "start_time": "2021-07-07T18:17:41.758Z"
   },
   {
    "duration": 255,
    "start_time": "2021-07-07T18:20:20.897Z"
   },
   {
    "duration": 173,
    "start_time": "2021-07-07T18:20:26.636Z"
   },
   {
    "duration": 7,
    "start_time": "2021-07-07T18:21:47.164Z"
   },
   {
    "duration": 254,
    "start_time": "2021-07-07T18:23:08.703Z"
   },
   {
    "duration": 21,
    "start_time": "2021-07-07T18:23:22.506Z"
   },
   {
    "duration": 315,
    "start_time": "2021-07-07T18:25:54.801Z"
   },
   {
    "duration": 34,
    "start_time": "2021-07-07T18:26:51.817Z"
   },
   {
    "duration": 327,
    "start_time": "2021-07-07T18:26:56.147Z"
   },
   {
    "duration": 342,
    "start_time": "2021-07-07T18:27:15.887Z"
   },
   {
    "duration": 302,
    "start_time": "2021-07-07T18:28:18.569Z"
   },
   {
    "duration": 226,
    "start_time": "2021-07-07T18:29:20.879Z"
   },
   {
    "duration": 207,
    "start_time": "2021-07-07T18:29:58.114Z"
   },
   {
    "duration": 140,
    "start_time": "2021-07-07T18:32:04.372Z"
   },
   {
    "duration": 158,
    "start_time": "2021-07-07T18:32:32.508Z"
   },
   {
    "duration": 145,
    "start_time": "2021-07-07T18:32:41.365Z"
   },
   {
    "duration": 132,
    "start_time": "2021-07-07T18:32:45.199Z"
   },
   {
    "duration": 11,
    "start_time": "2021-07-07T18:35:24.679Z"
   },
   {
    "duration": 268,
    "start_time": "2021-07-07T18:36:16.145Z"
   },
   {
    "duration": 227,
    "start_time": "2021-07-07T18:37:04.918Z"
   },
   {
    "duration": 3,
    "start_time": "2021-07-07T18:37:33.012Z"
   },
   {
    "duration": 671,
    "start_time": "2021-07-07T18:37:38.295Z"
   },
   {
    "duration": 54,
    "start_time": "2021-07-07T18:37:53.406Z"
   },
   {
    "duration": 631,
    "start_time": "2021-07-07T18:37:56.463Z"
   },
   {
    "duration": 19,
    "start_time": "2021-07-07T18:39:40.535Z"
   },
   {
    "duration": 20,
    "start_time": "2021-07-07T18:40:12.236Z"
   },
   {
    "duration": 633,
    "start_time": "2021-07-07T18:42:00.398Z"
   },
   {
    "duration": 218,
    "start_time": "2021-07-07T18:42:01.033Z"
   },
   {
    "duration": 49,
    "start_time": "2021-07-07T18:42:01.253Z"
   },
   {
    "duration": 5,
    "start_time": "2021-07-07T18:42:01.303Z"
   },
   {
    "duration": 27,
    "start_time": "2021-07-07T18:42:01.310Z"
   },
   {
    "duration": 8,
    "start_time": "2021-07-07T18:42:01.339Z"
   },
   {
    "duration": 20,
    "start_time": "2021-07-07T18:42:01.348Z"
   },
   {
    "duration": 6,
    "start_time": "2021-07-07T18:42:01.386Z"
   },
   {
    "duration": 16,
    "start_time": "2021-07-07T18:42:01.394Z"
   },
   {
    "duration": 9,
    "start_time": "2021-07-07T18:42:01.411Z"
   },
   {
    "duration": 11,
    "start_time": "2021-07-07T18:42:01.421Z"
   },
   {
    "duration": 31,
    "start_time": "2021-07-07T18:42:01.434Z"
   },
   {
    "duration": 18,
    "start_time": "2021-07-07T18:42:01.485Z"
   },
   {
    "duration": 23,
    "start_time": "2021-07-07T18:42:01.505Z"
   },
   {
    "duration": 6,
    "start_time": "2021-07-07T18:42:01.530Z"
   },
   {
    "duration": 10,
    "start_time": "2021-07-07T18:42:01.538Z"
   },
   {
    "duration": 13,
    "start_time": "2021-07-07T18:42:01.550Z"
   },
   {
    "duration": 24,
    "start_time": "2021-07-07T18:42:01.564Z"
   },
   {
    "duration": 20,
    "start_time": "2021-07-07T18:42:01.590Z"
   },
   {
    "duration": 8,
    "start_time": "2021-07-07T18:42:01.611Z"
   },
   {
    "duration": 31,
    "start_time": "2021-07-07T18:42:01.620Z"
   },
   {
    "duration": 39,
    "start_time": "2021-07-07T18:42:01.653Z"
   },
   {
    "duration": 8,
    "start_time": "2021-07-07T18:42:01.696Z"
   },
   {
    "duration": 13,
    "start_time": "2021-07-07T18:42:01.705Z"
   },
   {
    "duration": 20,
    "start_time": "2021-07-07T18:42:01.720Z"
   },
   {
    "duration": 12,
    "start_time": "2021-07-07T18:42:01.741Z"
   },
   {
    "duration": 35,
    "start_time": "2021-07-07T18:42:01.755Z"
   },
   {
    "duration": 14,
    "start_time": "2021-07-07T18:42:01.792Z"
   },
   {
    "duration": 188,
    "start_time": "2021-07-07T18:42:01.808Z"
   },
   {
    "duration": 19,
    "start_time": "2021-07-07T18:42:01.998Z"
   },
   {
    "duration": 175,
    "start_time": "2021-07-07T18:42:02.019Z"
   },
   {
    "duration": 134,
    "start_time": "2021-07-07T18:42:02.196Z"
   },
   {
    "duration": 10,
    "start_time": "2021-07-07T18:42:02.331Z"
   },
   {
    "duration": 19,
    "start_time": "2021-07-07T18:42:02.343Z"
   },
   {
    "duration": 628,
    "start_time": "2021-07-07T18:46:30.701Z"
   },
   {
    "duration": 183,
    "start_time": "2021-07-07T18:46:31.331Z"
   },
   {
    "duration": 48,
    "start_time": "2021-07-07T18:46:31.516Z"
   },
   {
    "duration": 5,
    "start_time": "2021-07-07T18:46:31.566Z"
   },
   {
    "duration": 28,
    "start_time": "2021-07-07T18:46:31.572Z"
   },
   {
    "duration": 8,
    "start_time": "2021-07-07T18:46:31.602Z"
   },
   {
    "duration": 19,
    "start_time": "2021-07-07T18:46:31.611Z"
   },
   {
    "duration": 6,
    "start_time": "2021-07-07T18:46:31.633Z"
   },
   {
    "duration": 17,
    "start_time": "2021-07-07T18:46:31.642Z"
   },
   {
    "duration": 10,
    "start_time": "2021-07-07T18:46:31.684Z"
   },
   {
    "duration": 9,
    "start_time": "2021-07-07T18:46:31.695Z"
   },
   {
    "duration": 28,
    "start_time": "2021-07-07T18:46:31.705Z"
   },
   {
    "duration": 18,
    "start_time": "2021-07-07T18:46:31.735Z"
   },
   {
    "duration": 48,
    "start_time": "2021-07-07T18:46:31.755Z"
   },
   {
    "duration": 6,
    "start_time": "2021-07-07T18:46:31.804Z"
   },
   {
    "duration": 4,
    "start_time": "2021-07-07T18:46:31.812Z"
   },
   {
    "duration": 9,
    "start_time": "2021-07-07T18:46:31.817Z"
   },
   {
    "duration": 10,
    "start_time": "2021-07-07T18:46:31.827Z"
   },
   {
    "duration": 12,
    "start_time": "2021-07-07T18:46:31.838Z"
   },
   {
    "duration": 39,
    "start_time": "2021-07-07T18:46:31.851Z"
   },
   {
    "duration": 24,
    "start_time": "2021-07-07T18:46:31.892Z"
   },
   {
    "duration": 15,
    "start_time": "2021-07-07T18:46:31.918Z"
   },
   {
    "duration": 7,
    "start_time": "2021-07-07T18:46:31.936Z"
   },
   {
    "duration": 8,
    "start_time": "2021-07-07T18:46:31.944Z"
   },
   {
    "duration": 19,
    "start_time": "2021-07-07T18:46:31.984Z"
   },
   {
    "duration": 10,
    "start_time": "2021-07-07T18:46:32.004Z"
   },
   {
    "duration": 5,
    "start_time": "2021-07-07T18:46:32.016Z"
   },
   {
    "duration": 9,
    "start_time": "2021-07-07T18:46:32.023Z"
   },
   {
    "duration": 199,
    "start_time": "2021-07-07T18:46:32.033Z"
   },
   {
    "duration": 19,
    "start_time": "2021-07-07T18:46:32.234Z"
   },
   {
    "duration": 159,
    "start_time": "2021-07-07T18:46:32.255Z"
   },
   {
    "duration": 134,
    "start_time": "2021-07-07T18:46:32.416Z"
   },
   {
    "duration": 10,
    "start_time": "2021-07-07T18:46:32.552Z"
   },
   {
    "duration": 34,
    "start_time": "2021-07-07T18:46:32.563Z"
   },
   {
    "duration": 1039,
    "start_time": "2021-07-08T08:41:09.419Z"
   },
   {
    "duration": 333,
    "start_time": "2021-07-08T08:41:10.459Z"
   },
   {
    "duration": 173,
    "start_time": "2021-07-08T08:41:10.794Z"
   },
   {
    "duration": 5,
    "start_time": "2021-07-08T08:41:10.968Z"
   },
   {
    "duration": 25,
    "start_time": "2021-07-08T08:41:10.975Z"
   },
   {
    "duration": 9,
    "start_time": "2021-07-08T08:41:11.002Z"
   },
   {
    "duration": 18,
    "start_time": "2021-07-08T08:41:11.013Z"
   },
   {
    "duration": 6,
    "start_time": "2021-07-08T08:41:11.033Z"
   },
   {
    "duration": 44,
    "start_time": "2021-07-08T08:41:11.042Z"
   },
   {
    "duration": 10,
    "start_time": "2021-07-08T08:41:11.088Z"
   },
   {
    "duration": 9,
    "start_time": "2021-07-08T08:41:11.100Z"
   },
   {
    "duration": 27,
    "start_time": "2021-07-08T08:41:11.111Z"
   },
   {
    "duration": 46,
    "start_time": "2021-07-08T08:41:11.140Z"
   },
   {
    "duration": 17,
    "start_time": "2021-07-08T08:41:11.187Z"
   },
   {
    "duration": 6,
    "start_time": "2021-07-08T08:41:11.206Z"
   },
   {
    "duration": 5,
    "start_time": "2021-07-08T08:41:11.213Z"
   },
   {
    "duration": 10,
    "start_time": "2021-07-08T08:41:11.219Z"
   },
   {
    "duration": 9,
    "start_time": "2021-07-08T08:41:11.230Z"
   },
   {
    "duration": 45,
    "start_time": "2021-07-08T08:41:11.241Z"
   },
   {
    "duration": 7,
    "start_time": "2021-07-08T08:41:11.287Z"
   },
   {
    "duration": 24,
    "start_time": "2021-07-08T08:41:11.296Z"
   },
   {
    "duration": 16,
    "start_time": "2021-07-08T08:41:11.322Z"
   },
   {
    "duration": 7,
    "start_time": "2021-07-08T08:41:11.341Z"
   },
   {
    "duration": 41,
    "start_time": "2021-07-08T08:41:11.349Z"
   },
   {
    "duration": 17,
    "start_time": "2021-07-08T08:41:11.391Z"
   },
   {
    "duration": 9,
    "start_time": "2021-07-08T08:41:11.410Z"
   },
   {
    "duration": 5,
    "start_time": "2021-07-08T08:41:11.421Z"
   },
   {
    "duration": 6,
    "start_time": "2021-07-08T08:41:11.428Z"
   },
   {
    "duration": 198,
    "start_time": "2021-07-08T08:41:11.435Z"
   },
   {
    "duration": 18,
    "start_time": "2021-07-08T08:41:11.635Z"
   },
   {
    "duration": 155,
    "start_time": "2021-07-08T08:41:11.655Z"
   },
   {
    "duration": 138,
    "start_time": "2021-07-08T08:41:11.811Z"
   },
   {
    "duration": 10,
    "start_time": "2021-07-08T08:41:11.950Z"
   },
   {
    "duration": 29,
    "start_time": "2021-07-08T08:41:11.961Z"
   },
   {
    "duration": 171,
    "start_time": "2021-07-08T08:47:44.522Z"
   },
   {
    "duration": 124,
    "start_time": "2021-07-08T08:47:46.872Z"
   },
   {
    "duration": 191,
    "start_time": "2021-07-08T08:47:58.148Z"
   },
   {
    "duration": 191,
    "start_time": "2021-07-08T08:48:07.412Z"
   },
   {
    "duration": 261,
    "start_time": "2021-07-08T08:48:10.385Z"
   },
   {
    "duration": 255,
    "start_time": "2021-07-08T08:48:14.494Z"
   },
   {
    "duration": 219,
    "start_time": "2021-07-08T08:48:22.752Z"
   },
   {
    "duration": 173,
    "start_time": "2021-07-08T08:49:06.395Z"
   },
   {
    "duration": 180,
    "start_time": "2021-07-08T08:49:21.011Z"
   },
   {
    "duration": 6,
    "start_time": "2021-07-08T08:50:31.697Z"
   },
   {
    "duration": 10,
    "start_time": "2021-07-08T08:50:47.394Z"
   },
   {
    "duration": 11,
    "start_time": "2021-07-08T08:53:49.332Z"
   },
   {
    "duration": 171,
    "start_time": "2021-07-08T08:54:28.408Z"
   },
   {
    "duration": 636,
    "start_time": "2021-07-08T09:02:48.385Z"
   },
   {
    "duration": 227,
    "start_time": "2021-07-08T09:02:49.023Z"
   },
   {
    "duration": 104,
    "start_time": "2021-07-08T09:02:49.252Z"
   },
   {
    "duration": 5,
    "start_time": "2021-07-08T09:02:49.358Z"
   },
   {
    "duration": 27,
    "start_time": "2021-07-08T09:02:49.365Z"
   },
   {
    "duration": 8,
    "start_time": "2021-07-08T09:02:49.394Z"
   },
   {
    "duration": 18,
    "start_time": "2021-07-08T09:02:49.404Z"
   },
   {
    "duration": 6,
    "start_time": "2021-07-08T09:02:49.424Z"
   },
   {
    "duration": 11,
    "start_time": "2021-07-08T09:02:49.433Z"
   },
   {
    "duration": 13,
    "start_time": "2021-07-08T09:02:49.485Z"
   },
   {
    "duration": 9,
    "start_time": "2021-07-08T09:02:49.500Z"
   },
   {
    "duration": 38,
    "start_time": "2021-07-08T09:02:49.511Z"
   },
   {
    "duration": 42,
    "start_time": "2021-07-08T09:02:49.551Z"
   },
   {
    "duration": 21,
    "start_time": "2021-07-08T09:02:49.594Z"
   },
   {
    "duration": 6,
    "start_time": "2021-07-08T09:02:49.616Z"
   },
   {
    "duration": 3,
    "start_time": "2021-07-08T09:02:49.623Z"
   },
   {
    "duration": 9,
    "start_time": "2021-07-08T09:02:49.628Z"
   },
   {
    "duration": 52,
    "start_time": "2021-07-08T09:02:49.638Z"
   },
   {
    "duration": 11,
    "start_time": "2021-07-08T09:02:49.692Z"
   },
   {
    "duration": 8,
    "start_time": "2021-07-08T09:02:49.704Z"
   },
   {
    "duration": 27,
    "start_time": "2021-07-08T09:02:49.713Z"
   },
   {
    "duration": 59,
    "start_time": "2021-07-08T09:02:49.741Z"
   },
   {
    "duration": 8,
    "start_time": "2021-07-08T09:02:49.803Z"
   },
   {
    "duration": 14,
    "start_time": "2021-07-08T09:02:49.813Z"
   },
   {
    "duration": 20,
    "start_time": "2021-07-08T09:02:49.829Z"
   },
   {
    "duration": 44,
    "start_time": "2021-07-08T09:02:49.851Z"
   },
   {
    "duration": 14,
    "start_time": "2021-07-08T09:02:49.896Z"
   },
   {
    "duration": 221,
    "start_time": "2021-07-08T09:02:49.912Z"
   },
   {
    "duration": 6,
    "start_time": "2021-07-08T09:02:50.134Z"
   },
   {
    "duration": 206,
    "start_time": "2021-07-08T09:02:50.142Z"
   },
   {
    "duration": 19,
    "start_time": "2021-07-08T09:02:50.350Z"
   },
   {
    "duration": 21,
    "start_time": "2021-07-08T09:02:50.370Z"
   },
   {
    "duration": 20,
    "start_time": "2021-07-08T09:02:50.393Z"
   },
   {
    "duration": 5,
    "start_time": "2021-07-08T09:02:50.414Z"
   },
   {
    "duration": 5,
    "start_time": "2021-07-08T09:03:34.173Z"
   },
   {
    "duration": 6,
    "start_time": "2021-07-08T09:04:49.062Z"
   },
   {
    "duration": 9,
    "start_time": "2021-07-08T09:04:50.118Z"
   },
   {
    "duration": 14,
    "start_time": "2021-07-08T09:04:58.512Z"
   },
   {
    "duration": 9,
    "start_time": "2021-07-08T09:05:10.988Z"
   },
   {
    "duration": 11,
    "start_time": "2021-07-08T09:05:11.743Z"
   },
   {
    "duration": 7,
    "start_time": "2021-07-08T09:05:25.677Z"
   },
   {
    "duration": 13,
    "start_time": "2021-07-08T09:05:47.189Z"
   },
   {
    "duration": 13,
    "start_time": "2021-07-08T09:05:54.755Z"
   },
   {
    "duration": 4,
    "start_time": "2021-07-08T09:06:29.189Z"
   },
   {
    "duration": 244,
    "start_time": "2021-07-08T09:06:29.195Z"
   },
   {
    "duration": 91,
    "start_time": "2021-07-08T09:06:29.441Z"
   },
   {
    "duration": 4,
    "start_time": "2021-07-08T09:06:29.534Z"
   },
   {
    "duration": 28,
    "start_time": "2021-07-08T09:06:29.540Z"
   },
   {
    "duration": 6,
    "start_time": "2021-07-08T09:06:29.570Z"
   },
   {
    "duration": 18,
    "start_time": "2021-07-08T09:06:29.578Z"
   },
   {
    "duration": 5,
    "start_time": "2021-07-08T09:06:29.597Z"
   },
   {
    "duration": 13,
    "start_time": "2021-07-08T09:06:29.605Z"
   },
   {
    "duration": 8,
    "start_time": "2021-07-08T09:06:29.620Z"
   },
   {
    "duration": 7,
    "start_time": "2021-07-08T09:06:29.630Z"
   },
   {
    "duration": 63,
    "start_time": "2021-07-08T09:06:29.639Z"
   },
   {
    "duration": 17,
    "start_time": "2021-07-08T09:06:29.704Z"
   },
   {
    "duration": 20,
    "start_time": "2021-07-08T09:06:29.723Z"
   },
   {
    "duration": 6,
    "start_time": "2021-07-08T09:06:29.745Z"
   },
   {
    "duration": 3,
    "start_time": "2021-07-08T09:06:29.752Z"
   },
   {
    "duration": 7,
    "start_time": "2021-07-08T09:06:29.785Z"
   },
   {
    "duration": 11,
    "start_time": "2021-07-08T09:06:29.794Z"
   },
   {
    "duration": 15,
    "start_time": "2021-07-08T09:06:29.807Z"
   },
   {
    "duration": 8,
    "start_time": "2021-07-08T09:06:29.823Z"
   },
   {
    "duration": 70,
    "start_time": "2021-07-08T09:06:29.832Z"
   },
   {
    "duration": 17,
    "start_time": "2021-07-08T09:06:29.903Z"
   },
   {
    "duration": 9,
    "start_time": "2021-07-08T09:06:29.921Z"
   },
   {
    "duration": 9,
    "start_time": "2021-07-08T09:06:29.932Z"
   },
   {
    "duration": 57,
    "start_time": "2021-07-08T09:06:29.942Z"
   },
   {
    "duration": 11,
    "start_time": "2021-07-08T09:06:30.001Z"
   },
   {
    "duration": 19,
    "start_time": "2021-07-08T09:06:30.016Z"
   },
   {
    "duration": 217,
    "start_time": "2021-07-08T09:06:30.037Z"
   },
   {
    "duration": 6,
    "start_time": "2021-07-08T09:06:30.255Z"
   },
   {
    "duration": 205,
    "start_time": "2021-07-08T09:06:30.263Z"
   },
   {
    "duration": 27,
    "start_time": "2021-07-08T09:06:30.470Z"
   },
   {
    "duration": 11,
    "start_time": "2021-07-08T09:06:30.500Z"
   },
   {
    "duration": 31,
    "start_time": "2021-07-08T09:06:30.513Z"
   },
   {
    "duration": 18,
    "start_time": "2021-07-08T09:06:30.546Z"
   },
   {
    "duration": 11,
    "start_time": "2021-07-08T09:06:30.566Z"
   },
   {
    "duration": 19,
    "start_time": "2021-07-08T09:06:30.579Z"
   },
   {
    "duration": 20,
    "start_time": "2021-07-08T09:06:49.466Z"
   },
   {
    "duration": 9,
    "start_time": "2021-07-08T09:06:51.994Z"
   },
   {
    "duration": 20,
    "start_time": "2021-07-08T09:06:52.273Z"
   },
   {
    "duration": 246,
    "start_time": "2021-07-08T09:10:21.272Z"
   },
   {
    "duration": 84,
    "start_time": "2021-07-08T09:10:21.436Z"
   },
   {
    "duration": 7,
    "start_time": "2021-07-08T09:10:37.608Z"
   },
   {
    "duration": 189,
    "start_time": "2021-07-08T09:10:38.573Z"
   },
   {
    "duration": 185,
    "start_time": "2021-07-08T09:10:53.181Z"
   },
   {
    "duration": 11,
    "start_time": "2021-07-08T09:10:59.549Z"
   },
   {
    "duration": 42,
    "start_time": "2021-07-08T09:10:59.709Z"
   },
   {
    "duration": 12,
    "start_time": "2021-07-08T09:11:02.857Z"
   },
   {
    "duration": 28,
    "start_time": "2021-07-08T09:11:10.062Z"
   },
   {
    "duration": 249,
    "start_time": "2021-07-08T09:11:37.388Z"
   },
   {
    "duration": 232,
    "start_time": "2021-07-08T09:11:49.485Z"
   },
   {
    "duration": 453,
    "start_time": "2021-07-08T09:12:01.546Z"
   },
   {
    "duration": 440,
    "start_time": "2021-07-08T09:12:12.347Z"
   },
   {
    "duration": 213,
    "start_time": "2021-07-08T09:13:32.196Z"
   },
   {
    "duration": 172,
    "start_time": "2021-07-08T09:14:07.400Z"
   },
   {
    "duration": 185,
    "start_time": "2021-07-08T09:14:14.905Z"
   },
   {
    "duration": 209,
    "start_time": "2021-07-08T09:14:40.109Z"
   },
   {
    "duration": 201,
    "start_time": "2021-07-08T09:14:54.506Z"
   },
   {
    "duration": 622,
    "start_time": "2021-07-08T09:18:14.497Z"
   },
   {
    "duration": 220,
    "start_time": "2021-07-08T09:18:15.121Z"
   },
   {
    "duration": 79,
    "start_time": "2021-07-08T09:18:15.343Z"
   },
   {
    "duration": 4,
    "start_time": "2021-07-08T09:18:15.425Z"
   },
   {
    "duration": 24,
    "start_time": "2021-07-08T09:18:15.431Z"
   },
   {
    "duration": 8,
    "start_time": "2021-07-08T09:18:15.457Z"
   },
   {
    "duration": 16,
    "start_time": "2021-07-08T09:18:15.466Z"
   },
   {
    "duration": 5,
    "start_time": "2021-07-08T09:18:15.484Z"
   },
   {
    "duration": 10,
    "start_time": "2021-07-08T09:18:15.493Z"
   },
   {
    "duration": 8,
    "start_time": "2021-07-08T09:18:15.504Z"
   },
   {
    "duration": 7,
    "start_time": "2021-07-08T09:18:15.513Z"
   },
   {
    "duration": 26,
    "start_time": "2021-07-08T09:18:15.522Z"
   },
   {
    "duration": 49,
    "start_time": "2021-07-08T09:18:15.550Z"
   },
   {
    "duration": 21,
    "start_time": "2021-07-08T09:18:15.601Z"
   },
   {
    "duration": 8,
    "start_time": "2021-07-08T09:18:15.624Z"
   },
   {
    "duration": 3,
    "start_time": "2021-07-08T09:18:15.634Z"
   },
   {
    "duration": 8,
    "start_time": "2021-07-08T09:18:15.639Z"
   },
   {
    "duration": 45,
    "start_time": "2021-07-08T09:18:15.649Z"
   },
   {
    "duration": 13,
    "start_time": "2021-07-08T09:18:15.696Z"
   },
   {
    "duration": 10,
    "start_time": "2021-07-08T09:18:15.711Z"
   },
   {
    "duration": 64,
    "start_time": "2021-07-08T09:18:15.722Z"
   },
   {
    "duration": 19,
    "start_time": "2021-07-08T09:18:15.788Z"
   },
   {
    "duration": 9,
    "start_time": "2021-07-08T09:18:15.809Z"
   },
   {
    "duration": 9,
    "start_time": "2021-07-08T09:18:15.820Z"
   },
   {
    "duration": 18,
    "start_time": "2021-07-08T09:18:15.831Z"
   },
   {
    "duration": 43,
    "start_time": "2021-07-08T09:18:15.851Z"
   },
   {
    "duration": 12,
    "start_time": "2021-07-08T09:18:15.897Z"
   },
   {
    "duration": 219,
    "start_time": "2021-07-08T09:18:15.911Z"
   },
   {
    "duration": 8,
    "start_time": "2021-07-08T09:18:16.132Z"
   },
   {
    "duration": 199,
    "start_time": "2021-07-08T09:18:16.141Z"
   },
   {
    "duration": 18,
    "start_time": "2021-07-08T09:18:16.341Z"
   },
   {
    "duration": 24,
    "start_time": "2021-07-08T09:18:16.361Z"
   },
   {
    "duration": 24,
    "start_time": "2021-07-08T09:18:16.387Z"
   },
   {
    "duration": 211,
    "start_time": "2021-07-08T09:18:16.413Z"
   },
   {
    "duration": 18,
    "start_time": "2021-07-08T09:18:16.626Z"
   },
   {
    "duration": 596,
    "start_time": "2021-07-08T10:06:33.623Z"
   },
   {
    "duration": 181,
    "start_time": "2021-07-08T10:06:34.221Z"
   },
   {
    "duration": 176,
    "start_time": "2021-07-08T10:06:34.635Z"
   },
   {
    "duration": 239,
    "start_time": "2021-07-08T10:06:55.572Z"
   },
   {
    "duration": 6,
    "start_time": "2021-07-08T10:06:57.687Z"
   },
   {
    "duration": 4,
    "start_time": "2021-07-08T10:07:03.956Z"
   },
   {
    "duration": 4,
    "start_time": "2021-07-08T10:07:10.376Z"
   },
   {
    "duration": 4,
    "start_time": "2021-07-08T10:17:19.889Z"
   },
   {
    "duration": 3,
    "start_time": "2021-07-08T10:19:19.407Z"
   },
   {
    "duration": 197,
    "start_time": "2021-07-08T10:19:19.412Z"
   },
   {
    "duration": 127,
    "start_time": "2021-07-08T10:19:19.611Z"
   },
   {
    "duration": 4,
    "start_time": "2021-07-08T10:19:19.740Z"
   },
   {
    "duration": 27,
    "start_time": "2021-07-08T10:19:19.746Z"
   },
   {
    "duration": 7,
    "start_time": "2021-07-08T10:19:19.775Z"
   },
   {
    "duration": 30,
    "start_time": "2021-07-08T10:19:19.784Z"
   },
   {
    "duration": 7,
    "start_time": "2021-07-08T10:19:19.817Z"
   },
   {
    "duration": 26,
    "start_time": "2021-07-08T10:19:19.826Z"
   },
   {
    "duration": 18,
    "start_time": "2021-07-08T10:19:19.854Z"
   },
   {
    "duration": 14,
    "start_time": "2021-07-08T10:19:19.874Z"
   },
   {
    "duration": 48,
    "start_time": "2021-07-08T10:19:19.890Z"
   },
   {
    "duration": 17,
    "start_time": "2021-07-08T10:19:19.940Z"
   },
   {
    "duration": 38,
    "start_time": "2021-07-08T10:19:19.959Z"
   },
   {
    "duration": 8,
    "start_time": "2021-07-08T10:19:19.999Z"
   },
   {
    "duration": 15,
    "start_time": "2021-07-08T10:19:20.009Z"
   },
   {
    "duration": 22,
    "start_time": "2021-07-08T10:19:20.026Z"
   },
   {
    "duration": 10,
    "start_time": "2021-07-08T10:19:20.050Z"
   },
   {
    "duration": 10,
    "start_time": "2021-07-08T10:19:20.062Z"
   },
   {
    "duration": 20,
    "start_time": "2021-07-08T10:19:20.073Z"
   },
   {
    "duration": 29,
    "start_time": "2021-07-08T10:19:20.095Z"
   },
   {
    "duration": 17,
    "start_time": "2021-07-08T10:19:20.126Z"
   },
   {
    "duration": 40,
    "start_time": "2021-07-08T10:19:20.146Z"
   },
   {
    "duration": 15,
    "start_time": "2021-07-08T10:19:20.189Z"
   },
   {
    "duration": 19,
    "start_time": "2021-07-08T10:19:20.206Z"
   },
   {
    "duration": 10,
    "start_time": "2021-07-08T10:19:20.226Z"
   },
   {
    "duration": 11,
    "start_time": "2021-07-08T10:19:20.238Z"
   },
   {
    "duration": 297,
    "start_time": "2021-07-08T10:19:20.250Z"
   },
   {
    "duration": 6,
    "start_time": "2021-07-08T10:19:20.549Z"
   },
   {
    "duration": 191,
    "start_time": "2021-07-08T10:19:20.557Z"
   },
   {
    "duration": 19,
    "start_time": "2021-07-08T10:19:20.750Z"
   },
   {
    "duration": 20,
    "start_time": "2021-07-08T10:19:20.771Z"
   },
   {
    "duration": 15,
    "start_time": "2021-07-08T10:19:20.793Z"
   },
   {
    "duration": 222,
    "start_time": "2021-07-08T10:19:20.809Z"
   },
   {
    "duration": 20,
    "start_time": "2021-07-08T10:19:21.033Z"
   },
   {
    "duration": 27,
    "start_time": "2021-07-08T10:45:04.055Z"
   },
   {
    "duration": 8,
    "start_time": "2021-07-08T10:45:08.478Z"
   },
   {
    "duration": 8,
    "start_time": "2021-07-08T10:45:31.982Z"
   },
   {
    "duration": 10,
    "start_time": "2021-07-08T10:46:01.221Z"
   },
   {
    "duration": 17,
    "start_time": "2021-07-08T10:46:40.011Z"
   },
   {
    "duration": 193,
    "start_time": "2021-07-08T10:48:19.471Z"
   },
   {
    "duration": 225,
    "start_time": "2021-07-08T10:49:26.480Z"
   },
   {
    "duration": 204,
    "start_time": "2021-07-08T10:49:59.992Z"
   },
   {
    "duration": 435,
    "start_time": "2021-07-08T10:50:06.779Z"
   },
   {
    "duration": 199,
    "start_time": "2021-07-08T10:50:14.891Z"
   },
   {
    "duration": 204,
    "start_time": "2021-07-08T10:50:18.501Z"
   },
   {
    "duration": 244,
    "start_time": "2021-07-08T10:50:23.359Z"
   },
   {
    "duration": 192,
    "start_time": "2021-07-08T10:50:29.135Z"
   },
   {
    "duration": 218,
    "start_time": "2021-07-08T10:50:33.092Z"
   },
   {
    "duration": 207,
    "start_time": "2021-07-08T10:52:45.381Z"
   },
   {
    "duration": 5,
    "start_time": "2021-07-08T10:53:34.641Z"
   },
   {
    "duration": 196,
    "start_time": "2021-07-08T10:53:41.478Z"
   },
   {
    "duration": 43,
    "start_time": "2021-07-08T10:53:50.335Z"
   },
   {
    "duration": 32,
    "start_time": "2021-07-08T10:53:55.294Z"
   },
   {
    "duration": 55,
    "start_time": "2021-07-08T10:54:09.675Z"
   },
   {
    "duration": 16,
    "start_time": "2021-07-08T10:54:12.260Z"
   },
   {
    "duration": 15,
    "start_time": "2021-07-08T10:54:49.150Z"
   },
   {
    "duration": 20,
    "start_time": "2021-07-08T10:56:07.596Z"
   },
   {
    "duration": 16,
    "start_time": "2021-07-08T10:58:26.276Z"
   },
   {
    "duration": 22,
    "start_time": "2021-07-08T10:59:00.486Z"
   },
   {
    "duration": 18,
    "start_time": "2021-07-08T11:02:09.653Z"
   },
   {
    "duration": 10,
    "start_time": "2021-07-08T11:03:44.331Z"
   },
   {
    "duration": 10,
    "start_time": "2021-07-08T11:03:54.055Z"
   },
   {
    "duration": 12,
    "start_time": "2021-07-08T11:04:41.967Z"
   },
   {
    "duration": 24,
    "start_time": "2021-07-08T11:07:30.732Z"
   },
   {
    "duration": 6,
    "start_time": "2021-07-08T11:07:37.364Z"
   },
   {
    "duration": 16,
    "start_time": "2021-07-08T11:08:01.819Z"
   },
   {
    "duration": 17,
    "start_time": "2021-07-08T11:09:47.488Z"
   },
   {
    "duration": 246,
    "start_time": "2021-07-08T11:10:00.830Z"
   },
   {
    "duration": 18,
    "start_time": "2021-07-08T11:13:55.195Z"
   },
   {
    "duration": 204,
    "start_time": "2021-07-08T11:14:04.951Z"
   },
   {
    "duration": 19,
    "start_time": "2021-07-08T11:15:10.613Z"
   },
   {
    "duration": 680,
    "start_time": "2021-07-08T11:16:25.793Z"
   },
   {
    "duration": 451,
    "start_time": "2021-07-08T11:16:40.313Z"
   },
   {
    "duration": 469,
    "start_time": "2021-07-08T11:17:21.286Z"
   },
   {
    "duration": 20,
    "start_time": "2021-07-08T11:19:12.554Z"
   },
   {
    "duration": 35,
    "start_time": "2021-07-08T11:20:05.484Z"
   },
   {
    "duration": 53,
    "start_time": "2021-07-08T11:21:40.050Z"
   },
   {
    "duration": 13,
    "start_time": "2021-07-08T11:22:26.059Z"
   },
   {
    "duration": 19,
    "start_time": "2021-07-08T11:22:47.419Z"
   },
   {
    "duration": 25,
    "start_time": "2021-07-08T11:23:19.958Z"
   },
   {
    "duration": 29,
    "start_time": "2021-07-08T11:23:25.415Z"
   },
   {
    "duration": 10,
    "start_time": "2021-07-08T11:24:45.138Z"
   },
   {
    "duration": 19,
    "start_time": "2021-07-08T11:24:54.498Z"
   },
   {
    "duration": 12,
    "start_time": "2021-07-08T11:25:32.225Z"
   },
   {
    "duration": 19,
    "start_time": "2021-07-08T11:25:37.092Z"
   },
   {
    "duration": 17,
    "start_time": "2021-07-08T11:25:58.116Z"
   },
   {
    "duration": 15,
    "start_time": "2021-07-08T11:26:02.258Z"
   },
   {
    "duration": 8,
    "start_time": "2021-07-08T11:26:59.682Z"
   },
   {
    "duration": 184,
    "start_time": "2021-07-08T11:27:21.894Z"
   },
   {
    "duration": 8,
    "start_time": "2021-07-08T11:27:23.824Z"
   },
   {
    "duration": 202,
    "start_time": "2021-07-08T11:27:23.962Z"
   },
   {
    "duration": 360,
    "start_time": "2021-07-08T11:28:33.215Z"
   },
   {
    "duration": 231,
    "start_time": "2021-07-08T11:32:05.542Z"
   },
   {
    "duration": 607,
    "start_time": "2021-07-08T11:36:27.854Z"
   },
   {
    "duration": 241,
    "start_time": "2021-07-08T11:36:28.463Z"
   },
   {
    "duration": 67,
    "start_time": "2021-07-08T11:36:28.709Z"
   },
   {
    "duration": 5,
    "start_time": "2021-07-08T11:36:28.778Z"
   },
   {
    "duration": 32,
    "start_time": "2021-07-08T11:36:28.784Z"
   },
   {
    "duration": 11,
    "start_time": "2021-07-08T11:36:28.819Z"
   },
   {
    "duration": 20,
    "start_time": "2021-07-08T11:36:28.834Z"
   },
   {
    "duration": 36,
    "start_time": "2021-07-08T11:36:28.857Z"
   },
   {
    "duration": 16,
    "start_time": "2021-07-08T11:36:28.895Z"
   },
   {
    "duration": 14,
    "start_time": "2021-07-08T11:36:28.913Z"
   },
   {
    "duration": 9,
    "start_time": "2021-07-08T11:36:28.930Z"
   },
   {
    "duration": 55,
    "start_time": "2021-07-08T11:36:28.941Z"
   },
   {
    "duration": 27,
    "start_time": "2021-07-08T11:36:28.999Z"
   },
   {
    "duration": 30,
    "start_time": "2021-07-08T11:36:29.028Z"
   },
   {
    "duration": 31,
    "start_time": "2021-07-08T11:36:29.060Z"
   },
   {
    "duration": 3,
    "start_time": "2021-07-08T11:36:29.093Z"
   },
   {
    "duration": 12,
    "start_time": "2021-07-08T11:36:29.099Z"
   },
   {
    "duration": 11,
    "start_time": "2021-07-08T11:36:29.112Z"
   },
   {
    "duration": 12,
    "start_time": "2021-07-08T11:36:29.125Z"
   },
   {
    "duration": 9,
    "start_time": "2021-07-08T11:36:29.139Z"
   },
   {
    "duration": 31,
    "start_time": "2021-07-08T11:36:29.191Z"
   },
   {
    "duration": 17,
    "start_time": "2021-07-08T11:36:29.226Z"
   },
   {
    "duration": 7,
    "start_time": "2021-07-08T11:36:29.245Z"
   },
   {
    "duration": 10,
    "start_time": "2021-07-08T11:36:29.254Z"
   },
   {
    "duration": 30,
    "start_time": "2021-07-08T11:36:29.292Z"
   },
   {
    "duration": 11,
    "start_time": "2021-07-08T11:36:29.324Z"
   },
   {
    "duration": 11,
    "start_time": "2021-07-08T11:36:29.337Z"
   },
   {
    "duration": 230,
    "start_time": "2021-07-08T11:36:29.349Z"
   },
   {
    "duration": 13,
    "start_time": "2021-07-08T11:36:29.588Z"
   },
   {
    "duration": 205,
    "start_time": "2021-07-08T11:36:29.603Z"
   },
   {
    "duration": 20,
    "start_time": "2021-07-08T11:36:29.810Z"
   },
   {
    "duration": 9,
    "start_time": "2021-07-08T11:36:29.832Z"
   },
   {
    "duration": 16,
    "start_time": "2021-07-08T11:36:29.843Z"
   },
   {
    "duration": 283,
    "start_time": "2021-07-08T11:36:29.861Z"
   },
   {
    "duration": 50,
    "start_time": "2021-07-08T11:36:30.146Z"
   },
   {
    "duration": 14,
    "start_time": "2021-07-08T11:36:30.198Z"
   },
   {
    "duration": 11,
    "start_time": "2021-07-08T11:36:30.214Z"
   },
   {
    "duration": 245,
    "start_time": "2021-07-08T11:36:30.227Z"
   },
   {
    "duration": 439,
    "start_time": "2021-07-08T11:36:30.474Z"
   },
   {
    "duration": 210,
    "start_time": "2021-07-08T11:36:30.915Z"
   },
   {
    "duration": 15,
    "start_time": "2021-07-08T11:36:31.127Z"
   },
   {
    "duration": 17,
    "start_time": "2021-07-08T11:38:20.451Z"
   },
   {
    "duration": 642,
    "start_time": "2021-07-08T11:46:17.881Z"
   },
   {
    "duration": 210,
    "start_time": "2021-07-08T11:46:18.525Z"
   },
   {
    "duration": 104,
    "start_time": "2021-07-08T11:46:18.741Z"
   },
   {
    "duration": 8,
    "start_time": "2021-07-08T11:46:18.847Z"
   },
   {
    "duration": 25,
    "start_time": "2021-07-08T11:46:18.857Z"
   },
   {
    "duration": 14,
    "start_time": "2021-07-08T11:46:18.884Z"
   },
   {
    "duration": 22,
    "start_time": "2021-07-08T11:46:18.900Z"
   },
   {
    "duration": 5,
    "start_time": "2021-07-08T11:46:18.924Z"
   },
   {
    "duration": 13,
    "start_time": "2021-07-08T11:46:18.931Z"
   },
   {
    "duration": 45,
    "start_time": "2021-07-08T11:46:18.946Z"
   },
   {
    "duration": 12,
    "start_time": "2021-07-08T11:46:18.993Z"
   },
   {
    "duration": 38,
    "start_time": "2021-07-08T11:46:19.006Z"
   },
   {
    "duration": 50,
    "start_time": "2021-07-08T11:46:19.046Z"
   },
   {
    "duration": 29,
    "start_time": "2021-07-08T11:46:19.099Z"
   },
   {
    "duration": 7,
    "start_time": "2021-07-08T11:46:19.130Z"
   },
   {
    "duration": 3,
    "start_time": "2021-07-08T11:46:19.139Z"
   },
   {
    "duration": 11,
    "start_time": "2021-07-08T11:46:19.144Z"
   },
   {
    "duration": 40,
    "start_time": "2021-07-08T11:46:19.157Z"
   },
   {
    "duration": 15,
    "start_time": "2021-07-08T11:46:19.199Z"
   },
   {
    "duration": 10,
    "start_time": "2021-07-08T11:46:19.217Z"
   },
   {
    "duration": 68,
    "start_time": "2021-07-08T11:46:19.230Z"
   },
   {
    "duration": 17,
    "start_time": "2021-07-08T11:46:19.301Z"
   },
   {
    "duration": 7,
    "start_time": "2021-07-08T11:46:19.321Z"
   },
   {
    "duration": 11,
    "start_time": "2021-07-08T11:46:19.330Z"
   },
   {
    "duration": 59,
    "start_time": "2021-07-08T11:46:19.343Z"
   },
   {
    "duration": 17,
    "start_time": "2021-07-08T11:46:19.405Z"
   },
   {
    "duration": 16,
    "start_time": "2021-07-08T11:46:19.424Z"
   },
   {
    "duration": 252,
    "start_time": "2021-07-08T11:46:19.443Z"
   },
   {
    "duration": 9,
    "start_time": "2021-07-08T11:46:19.697Z"
   },
   {
    "duration": 224,
    "start_time": "2021-07-08T11:46:19.708Z"
   },
   {
    "duration": 21,
    "start_time": "2021-07-08T11:46:19.934Z"
   },
   {
    "duration": 9,
    "start_time": "2021-07-08T11:46:19.956Z"
   },
   {
    "duration": 32,
    "start_time": "2021-07-08T11:46:19.967Z"
   },
   {
    "duration": 288,
    "start_time": "2021-07-08T11:46:20.004Z"
   },
   {
    "duration": 23,
    "start_time": "2021-07-08T11:46:20.300Z"
   },
   {
    "duration": 11,
    "start_time": "2021-07-08T11:46:20.325Z"
   },
   {
    "duration": 11,
    "start_time": "2021-07-08T11:46:20.339Z"
   },
   {
    "duration": 259,
    "start_time": "2021-07-08T11:46:20.352Z"
   },
   {
    "duration": 438,
    "start_time": "2021-07-08T11:46:20.613Z"
   },
   {
    "duration": 207,
    "start_time": "2021-07-08T11:46:21.054Z"
   },
   {
    "duration": 27,
    "start_time": "2021-07-08T11:46:21.262Z"
   },
   {
    "duration": 19,
    "start_time": "2021-07-08T11:46:21.291Z"
   },
   {
    "duration": 820,
    "start_time": "2021-07-08T11:49:01.655Z"
   },
   {
    "duration": 372,
    "start_time": "2021-07-08T11:49:02.478Z"
   },
   {
    "duration": 98,
    "start_time": "2021-07-08T11:49:02.853Z"
   },
   {
    "duration": 6,
    "start_time": "2021-07-08T11:49:02.953Z"
   },
   {
    "duration": 39,
    "start_time": "2021-07-08T11:49:02.960Z"
   },
   {
    "duration": 9,
    "start_time": "2021-07-08T11:49:03.003Z"
   },
   {
    "duration": 23,
    "start_time": "2021-07-08T11:49:03.014Z"
   },
   {
    "duration": 6,
    "start_time": "2021-07-08T11:49:03.041Z"
   },
   {
    "duration": 20,
    "start_time": "2021-07-08T11:49:03.049Z"
   },
   {
    "duration": 18,
    "start_time": "2021-07-08T11:49:03.084Z"
   },
   {
    "duration": 14,
    "start_time": "2021-07-08T11:49:03.104Z"
   },
   {
    "duration": 39,
    "start_time": "2021-07-08T11:49:03.119Z"
   },
   {
    "duration": 38,
    "start_time": "2021-07-08T11:49:03.160Z"
   },
   {
    "duration": 26,
    "start_time": "2021-07-08T11:49:03.200Z"
   },
   {
    "duration": 7,
    "start_time": "2021-07-08T11:49:03.227Z"
   },
   {
    "duration": 4,
    "start_time": "2021-07-08T11:49:03.236Z"
   },
   {
    "duration": 15,
    "start_time": "2021-07-08T11:49:03.243Z"
   },
   {
    "duration": 21,
    "start_time": "2021-07-08T11:49:03.285Z"
   },
   {
    "duration": 17,
    "start_time": "2021-07-08T11:49:03.309Z"
   },
   {
    "duration": 10,
    "start_time": "2021-07-08T11:49:03.328Z"
   },
   {
    "duration": 65,
    "start_time": "2021-07-08T11:49:03.340Z"
   },
   {
    "duration": 18,
    "start_time": "2021-07-08T11:49:03.407Z"
   },
   {
    "duration": 8,
    "start_time": "2021-07-08T11:49:03.428Z"
   },
   {
    "duration": 15,
    "start_time": "2021-07-08T11:49:03.438Z"
   },
   {
    "duration": 40,
    "start_time": "2021-07-08T11:49:03.455Z"
   },
   {
    "duration": 12,
    "start_time": "2021-07-08T11:49:03.497Z"
   },
   {
    "duration": 29,
    "start_time": "2021-07-08T11:49:03.511Z"
   },
   {
    "duration": 285,
    "start_time": "2021-07-08T11:49:03.542Z"
   },
   {
    "duration": 8,
    "start_time": "2021-07-08T11:49:03.829Z"
   },
   {
    "duration": 227,
    "start_time": "2021-07-08T11:49:03.838Z"
   },
   {
    "duration": 40,
    "start_time": "2021-07-08T11:49:04.066Z"
   },
   {
    "duration": 10,
    "start_time": "2021-07-08T11:49:04.108Z"
   },
   {
    "duration": 26,
    "start_time": "2021-07-08T11:49:04.121Z"
   },
   {
    "duration": 290,
    "start_time": "2021-07-08T11:49:04.149Z"
   },
   {
    "duration": 26,
    "start_time": "2021-07-08T11:49:04.441Z"
   },
   {
    "duration": 31,
    "start_time": "2021-07-08T11:49:04.470Z"
   },
   {
    "duration": 14,
    "start_time": "2021-07-08T11:49:04.503Z"
   },
   {
    "duration": 259,
    "start_time": "2021-07-08T11:49:04.521Z"
   },
   {
    "duration": 480,
    "start_time": "2021-07-08T11:49:04.782Z"
   },
   {
    "duration": 225,
    "start_time": "2021-07-08T11:49:05.264Z"
   },
   {
    "duration": 22,
    "start_time": "2021-07-08T11:49:05.491Z"
   },
   {
    "duration": 24,
    "start_time": "2021-07-08T11:49:05.515Z"
   },
   {
    "duration": 634,
    "start_time": "2021-07-08T11:52:24.960Z"
   },
   {
    "duration": 199,
    "start_time": "2021-07-08T11:52:25.599Z"
   },
   {
    "duration": 106,
    "start_time": "2021-07-08T11:52:25.803Z"
   },
   {
    "duration": 7,
    "start_time": "2021-07-08T11:52:25.911Z"
   },
   {
    "duration": 29,
    "start_time": "2021-07-08T11:52:25.920Z"
   },
   {
    "duration": 7,
    "start_time": "2021-07-08T11:52:25.951Z"
   },
   {
    "duration": 26,
    "start_time": "2021-07-08T11:52:25.961Z"
   },
   {
    "duration": 11,
    "start_time": "2021-07-08T11:52:25.990Z"
   },
   {
    "duration": 29,
    "start_time": "2021-07-08T11:52:26.005Z"
   },
   {
    "duration": 9,
    "start_time": "2021-07-08T11:52:26.036Z"
   },
   {
    "duration": 8,
    "start_time": "2021-07-08T11:52:26.047Z"
   },
   {
    "duration": 63,
    "start_time": "2021-07-08T11:52:26.057Z"
   },
   {
    "duration": 17,
    "start_time": "2021-07-08T11:52:26.122Z"
   },
   {
    "duration": 43,
    "start_time": "2021-07-08T11:52:26.142Z"
   },
   {
    "duration": 17,
    "start_time": "2021-07-08T11:52:26.187Z"
   },
   {
    "duration": 5,
    "start_time": "2021-07-08T11:52:26.206Z"
   },
   {
    "duration": 12,
    "start_time": "2021-07-08T11:52:26.212Z"
   },
   {
    "duration": 11,
    "start_time": "2021-07-08T11:52:26.226Z"
   },
   {
    "duration": 12,
    "start_time": "2021-07-08T11:52:26.238Z"
   },
   {
    "duration": 38,
    "start_time": "2021-07-08T11:52:26.252Z"
   },
   {
    "duration": 40,
    "start_time": "2021-07-08T11:52:26.292Z"
   },
   {
    "duration": 17,
    "start_time": "2021-07-08T11:52:26.336Z"
   },
   {
    "duration": 39,
    "start_time": "2021-07-08T11:52:26.355Z"
   },
   {
    "duration": 11,
    "start_time": "2021-07-08T11:52:26.395Z"
   },
   {
    "duration": 23,
    "start_time": "2021-07-08T11:52:26.408Z"
   },
   {
    "duration": 12,
    "start_time": "2021-07-08T11:52:26.432Z"
   },
   {
    "duration": 41,
    "start_time": "2021-07-08T11:52:26.446Z"
   },
   {
    "duration": 215,
    "start_time": "2021-07-08T11:52:26.493Z"
   },
   {
    "duration": 8,
    "start_time": "2021-07-08T11:52:26.710Z"
   },
   {
    "duration": 228,
    "start_time": "2021-07-08T11:52:26.720Z"
   },
   {
    "duration": 18,
    "start_time": "2021-07-08T11:52:26.950Z"
   },
   {
    "duration": 35,
    "start_time": "2021-07-08T11:52:26.969Z"
   },
   {
    "duration": 23,
    "start_time": "2021-07-08T11:52:27.006Z"
   },
   {
    "duration": 258,
    "start_time": "2021-07-08T11:52:27.030Z"
   },
   {
    "duration": 24,
    "start_time": "2021-07-08T11:52:27.290Z"
   },
   {
    "duration": 12,
    "start_time": "2021-07-08T11:52:27.316Z"
   },
   {
    "duration": 10,
    "start_time": "2021-07-08T11:52:27.329Z"
   },
   {
    "duration": 298,
    "start_time": "2021-07-08T11:52:27.341Z"
   },
   {
    "duration": 436,
    "start_time": "2021-07-08T11:52:27.641Z"
   },
   {
    "duration": 216,
    "start_time": "2021-07-08T11:52:28.079Z"
   },
   {
    "duration": 20,
    "start_time": "2021-07-08T11:52:28.297Z"
   },
   {
    "duration": 17,
    "start_time": "2021-07-08T11:52:28.319Z"
   },
   {
    "duration": 874,
    "start_time": "2023-09-15T05:26:29.036Z"
   },
   {
    "duration": 279,
    "start_time": "2023-09-15T05:29:39.722Z"
   },
   {
    "duration": 11,
    "start_time": "2023-09-15T05:30:07.747Z"
   },
   {
    "duration": 131,
    "start_time": "2023-09-15T05:30:24.328Z"
   },
   {
    "duration": 16,
    "start_time": "2023-09-15T05:30:24.957Z"
   },
   {
    "duration": 16,
    "start_time": "2023-09-15T05:34:52.488Z"
   },
   {
    "duration": 17,
    "start_time": "2023-09-15T05:35:42.605Z"
   },
   {
    "duration": 7,
    "start_time": "2023-09-15T05:37:10.982Z"
   },
   {
    "duration": 128,
    "start_time": "2023-09-15T05:37:25.877Z"
   },
   {
    "duration": 15,
    "start_time": "2023-09-15T05:37:27.201Z"
   },
   {
    "duration": 15,
    "start_time": "2023-09-15T05:37:28.206Z"
   },
   {
    "duration": 16,
    "start_time": "2023-09-15T05:37:29.399Z"
   },
   {
    "duration": 10,
    "start_time": "2023-09-15T05:37:30.298Z"
   },
   {
    "duration": 7,
    "start_time": "2023-09-15T05:38:02.260Z"
   },
   {
    "duration": 12,
    "start_time": "2023-09-15T05:38:42.452Z"
   },
   {
    "duration": 9,
    "start_time": "2023-09-15T05:39:55.405Z"
   },
   {
    "duration": 487,
    "start_time": "2023-09-15T05:43:22.866Z"
   },
   {
    "duration": 672,
    "start_time": "2023-09-15T05:45:02.643Z"
   },
   {
    "duration": 573,
    "start_time": "2023-09-15T05:52:17.204Z"
   },
   {
    "duration": 322,
    "start_time": "2023-09-15T05:53:08.616Z"
   },
   {
    "duration": 344,
    "start_time": "2023-09-15T05:57:09.658Z"
   },
   {
    "duration": 6,
    "start_time": "2023-09-15T06:01:40.460Z"
   },
   {
    "duration": 16,
    "start_time": "2023-09-15T06:02:10.965Z"
   },
   {
    "duration": 4,
    "start_time": "2023-09-15T06:04:46.581Z"
   },
   {
    "duration": 12,
    "start_time": "2023-09-15T06:04:57.383Z"
   },
   {
    "duration": 16,
    "start_time": "2023-09-15T06:05:29.968Z"
   },
   {
    "duration": 8,
    "start_time": "2023-09-15T06:05:48.415Z"
   },
   {
    "duration": 8,
    "start_time": "2023-09-15T06:06:53.365Z"
   },
   {
    "duration": 21,
    "start_time": "2023-09-15T06:18:19.599Z"
   },
   {
    "duration": 12,
    "start_time": "2023-09-15T06:19:17.731Z"
   },
   {
    "duration": 20,
    "start_time": "2023-09-15T06:27:14.155Z"
   },
   {
    "duration": 11,
    "start_time": "2023-09-15T06:33:31.875Z"
   },
   {
    "duration": 9,
    "start_time": "2023-09-15T06:34:04.485Z"
   },
   {
    "duration": 21,
    "start_time": "2023-09-15T06:34:26.677Z"
   },
   {
    "duration": 17,
    "start_time": "2023-09-15T06:34:56.802Z"
   },
   {
    "duration": 21,
    "start_time": "2023-09-15T06:35:05.748Z"
   },
   {
    "duration": 15,
    "start_time": "2023-09-15T06:35:23.882Z"
   },
   {
    "duration": 21,
    "start_time": "2023-09-15T06:39:49.661Z"
   },
   {
    "duration": 26,
    "start_time": "2023-09-15T06:40:19.105Z"
   },
   {
    "duration": 41,
    "start_time": "2023-09-15T06:43:01.035Z"
   },
   {
    "duration": 24,
    "start_time": "2023-09-15T06:48:01.119Z"
   },
   {
    "duration": 28,
    "start_time": "2023-09-15T06:48:07.572Z"
   },
   {
    "duration": 809,
    "start_time": "2023-09-15T06:48:46.076Z"
   },
   {
    "duration": 156,
    "start_time": "2023-09-15T06:48:46.888Z"
   },
   {
    "duration": 29,
    "start_time": "2023-09-15T06:48:47.046Z"
   },
   {
    "duration": 23,
    "start_time": "2023-09-15T06:48:47.078Z"
   },
   {
    "duration": 38,
    "start_time": "2023-09-15T06:48:47.103Z"
   },
   {
    "duration": 24,
    "start_time": "2023-09-15T06:48:47.144Z"
   },
   {
    "duration": 25,
    "start_time": "2023-09-15T06:48:47.170Z"
   },
   {
    "duration": 29,
    "start_time": "2023-09-15T06:48:47.197Z"
   },
   {
    "duration": 49,
    "start_time": "2023-09-15T06:48:47.228Z"
   },
   {
    "duration": 31,
    "start_time": "2023-09-15T06:48:47.279Z"
   },
   {
    "duration": 24,
    "start_time": "2023-09-15T06:48:47.312Z"
   },
   {
    "duration": 45,
    "start_time": "2023-09-15T06:48:47.338Z"
   },
   {
    "duration": 16,
    "start_time": "2023-09-15T06:48:47.386Z"
   },
   {
    "duration": 27,
    "start_time": "2023-09-15T06:48:47.405Z"
   },
   {
    "duration": 29,
    "start_time": "2023-09-15T06:49:17.527Z"
   },
   {
    "duration": 15,
    "start_time": "2023-09-15T06:49:47.183Z"
   },
   {
    "duration": 6,
    "start_time": "2023-09-15T06:59:55.578Z"
   },
   {
    "duration": 6,
    "start_time": "2023-09-15T07:01:34.040Z"
   },
   {
    "duration": 8,
    "start_time": "2023-09-15T07:04:49.998Z"
   },
   {
    "duration": 7,
    "start_time": "2023-09-15T07:05:34.343Z"
   },
   {
    "duration": 5,
    "start_time": "2023-09-15T07:07:39.754Z"
   },
   {
    "duration": 83,
    "start_time": "2023-09-15T07:08:33.515Z"
   },
   {
    "duration": 684,
    "start_time": "2023-09-15T07:08:54.794Z"
   },
   {
    "duration": 130,
    "start_time": "2023-09-15T07:08:55.480Z"
   },
   {
    "duration": 20,
    "start_time": "2023-09-15T07:08:55.611Z"
   },
   {
    "duration": 16,
    "start_time": "2023-09-15T07:08:55.633Z"
   },
   {
    "duration": 42,
    "start_time": "2023-09-15T07:08:55.651Z"
   },
   {
    "duration": 23,
    "start_time": "2023-09-15T07:08:55.694Z"
   },
   {
    "duration": 16,
    "start_time": "2023-09-15T07:08:55.718Z"
   },
   {
    "duration": 17,
    "start_time": "2023-09-15T07:08:55.737Z"
   },
   {
    "duration": 26,
    "start_time": "2023-09-15T07:08:55.756Z"
   },
   {
    "duration": 11,
    "start_time": "2023-09-15T07:08:55.783Z"
   },
   {
    "duration": 8,
    "start_time": "2023-09-15T07:08:55.796Z"
   },
   {
    "duration": 10,
    "start_time": "2023-09-15T07:08:55.806Z"
   },
   {
    "duration": 29,
    "start_time": "2023-09-15T07:08:55.818Z"
   },
   {
    "duration": 9,
    "start_time": "2023-09-15T07:08:55.850Z"
   },
   {
    "duration": 24,
    "start_time": "2023-09-15T07:08:55.861Z"
   },
   {
    "duration": 17,
    "start_time": "2023-09-15T07:08:55.886Z"
   },
   {
    "duration": 12,
    "start_time": "2023-09-15T07:08:55.904Z"
   },
   {
    "duration": 31,
    "start_time": "2023-09-15T07:08:55.918Z"
   },
   {
    "duration": 26,
    "start_time": "2023-09-15T07:08:55.950Z"
   },
   {
    "duration": 80,
    "start_time": "2023-09-15T07:09:59.217Z"
   },
   {
    "duration": 13,
    "start_time": "2023-09-15T07:10:17.958Z"
   },
   {
    "duration": 5,
    "start_time": "2023-09-15T07:10:23.642Z"
   },
   {
    "duration": 12,
    "start_time": "2023-09-15T07:10:24.332Z"
   },
   {
    "duration": 743,
    "start_time": "2023-09-15T07:13:11.331Z"
   },
   {
    "duration": 135,
    "start_time": "2023-09-15T07:13:12.076Z"
   },
   {
    "duration": 20,
    "start_time": "2023-09-15T07:13:12.213Z"
   },
   {
    "duration": 15,
    "start_time": "2023-09-15T07:13:12.234Z"
   },
   {
    "duration": 41,
    "start_time": "2023-09-15T07:13:12.251Z"
   },
   {
    "duration": 12,
    "start_time": "2023-09-15T07:13:12.294Z"
   },
   {
    "duration": 23,
    "start_time": "2023-09-15T07:13:12.308Z"
   },
   {
    "duration": 20,
    "start_time": "2023-09-15T07:13:12.333Z"
   },
   {
    "duration": 44,
    "start_time": "2023-09-15T07:13:12.355Z"
   },
   {
    "duration": 25,
    "start_time": "2023-09-15T07:13:12.402Z"
   },
   {
    "duration": 40,
    "start_time": "2023-09-15T07:13:12.429Z"
   },
   {
    "duration": 27,
    "start_time": "2023-09-15T07:13:12.471Z"
   },
   {
    "duration": 28,
    "start_time": "2023-09-15T07:13:12.500Z"
   },
   {
    "duration": 22,
    "start_time": "2023-09-15T07:13:12.530Z"
   },
   {
    "duration": 17,
    "start_time": "2023-09-15T07:13:12.554Z"
   },
   {
    "duration": 22,
    "start_time": "2023-09-15T07:13:12.573Z"
   },
   {
    "duration": 16,
    "start_time": "2023-09-15T07:13:12.597Z"
   },
   {
    "duration": 25,
    "start_time": "2023-09-15T07:13:12.615Z"
   },
   {
    "duration": 10,
    "start_time": "2023-09-15T07:13:12.642Z"
   },
   {
    "duration": 3,
    "start_time": "2023-09-15T07:15:28.960Z"
   },
   {
    "duration": 176,
    "start_time": "2023-09-15T07:15:29.486Z"
   },
   {
    "duration": 18,
    "start_time": "2023-09-15T07:15:30.700Z"
   },
   {
    "duration": 806,
    "start_time": "2023-09-15T07:15:31.123Z"
   },
   {
    "duration": 1474,
    "start_time": "2023-09-15T07:15:31.931Z"
   },
   {
    "duration": 968,
    "start_time": "2023-09-15T07:15:33.408Z"
   },
   {
    "duration": 915,
    "start_time": "2023-09-15T07:15:34.378Z"
   },
   {
    "duration": 1447,
    "start_time": "2023-09-15T07:15:35.296Z"
   },
   {
    "duration": 20,
    "start_time": "2023-09-15T07:15:39.015Z"
   },
   {
    "duration": 12,
    "start_time": "2023-09-15T07:15:42.851Z"
   },
   {
    "duration": 8,
    "start_time": "2023-09-15T07:15:44.930Z"
   },
   {
    "duration": 9,
    "start_time": "2023-09-15T07:15:45.809Z"
   },
   {
    "duration": 5,
    "start_time": "2023-09-15T07:15:47.283Z"
   },
   {
    "duration": 11,
    "start_time": "2023-09-15T07:15:49.922Z"
   },
   {
    "duration": 7,
    "start_time": "2023-09-15T07:15:53.126Z"
   },
   {
    "duration": 5,
    "start_time": "2023-09-15T07:15:55.240Z"
   },
   {
    "duration": 85,
    "start_time": "2023-09-15T07:16:04.019Z"
   },
   {
    "duration": 12,
    "start_time": "2023-09-15T07:16:26.579Z"
   },
   {
    "duration": 10,
    "start_time": "2023-09-15T07:16:35.642Z"
   },
   {
    "duration": 11,
    "start_time": "2023-09-15T07:16:40.684Z"
   },
   {
    "duration": 5,
    "start_time": "2023-09-15T07:16:58.995Z"
   },
   {
    "duration": 8,
    "start_time": "2023-09-15T07:16:59.514Z"
   },
   {
    "duration": 13,
    "start_time": "2023-09-15T07:17:00.328Z"
   },
   {
    "duration": 6,
    "start_time": "2023-09-15T07:17:01.439Z"
   },
   {
    "duration": 13,
    "start_time": "2023-09-15T07:17:02.313Z"
   },
   {
    "duration": 12,
    "start_time": "2023-09-15T07:17:13.747Z"
   },
   {
    "duration": 11,
    "start_time": "2023-09-15T07:17:18.960Z"
   },
   {
    "duration": 690,
    "start_time": "2023-09-15T07:18:05.640Z"
   },
   {
    "duration": 132,
    "start_time": "2023-09-15T07:18:06.332Z"
   },
   {
    "duration": 20,
    "start_time": "2023-09-15T07:18:06.465Z"
   },
   {
    "duration": 40,
    "start_time": "2023-09-15T07:18:06.487Z"
   },
   {
    "duration": 41,
    "start_time": "2023-09-15T07:18:06.529Z"
   },
   {
    "duration": 22,
    "start_time": "2023-09-15T07:18:06.572Z"
   },
   {
    "duration": 30,
    "start_time": "2023-09-15T07:18:06.597Z"
   },
   {
    "duration": 33,
    "start_time": "2023-09-15T07:18:06.629Z"
   },
   {
    "duration": 29,
    "start_time": "2023-09-15T07:18:06.664Z"
   },
   {
    "duration": 23,
    "start_time": "2023-09-15T07:18:06.695Z"
   },
   {
    "duration": 13,
    "start_time": "2023-09-15T07:18:06.720Z"
   },
   {
    "duration": 30,
    "start_time": "2023-09-15T07:18:06.734Z"
   },
   {
    "duration": 20,
    "start_time": "2023-09-15T07:18:06.766Z"
   },
   {
    "duration": 21,
    "start_time": "2023-09-15T07:18:06.788Z"
   },
   {
    "duration": 30,
    "start_time": "2023-09-15T07:18:06.811Z"
   },
   {
    "duration": 9,
    "start_time": "2023-09-15T07:18:06.843Z"
   },
   {
    "duration": 19,
    "start_time": "2023-09-15T07:18:06.853Z"
   },
   {
    "duration": 32,
    "start_time": "2023-09-15T07:18:06.874Z"
   },
   {
    "duration": 38,
    "start_time": "2023-09-15T07:18:06.907Z"
   },
   {
    "duration": 84,
    "start_time": "2023-09-15T07:18:25.943Z"
   },
   {
    "duration": 14,
    "start_time": "2023-09-15T07:18:30.942Z"
   },
   {
    "duration": 660,
    "start_time": "2023-09-15T07:18:38.264Z"
   },
   {
    "duration": 135,
    "start_time": "2023-09-15T07:18:38.926Z"
   },
   {
    "duration": 21,
    "start_time": "2023-09-15T07:18:39.064Z"
   },
   {
    "duration": 17,
    "start_time": "2023-09-15T07:18:39.087Z"
   },
   {
    "duration": 30,
    "start_time": "2023-09-15T07:18:39.106Z"
   },
   {
    "duration": 43,
    "start_time": "2023-09-15T07:18:39.137Z"
   },
   {
    "duration": 81,
    "start_time": "2023-09-15T07:18:39.181Z"
   },
   {
    "duration": 40,
    "start_time": "2023-09-15T07:18:39.263Z"
   },
   {
    "duration": 33,
    "start_time": "2023-09-15T07:18:39.305Z"
   },
   {
    "duration": 10,
    "start_time": "2023-09-15T07:18:39.339Z"
   },
   {
    "duration": 32,
    "start_time": "2023-09-15T07:18:39.350Z"
   },
   {
    "duration": 30,
    "start_time": "2023-09-15T07:18:39.385Z"
   },
   {
    "duration": 36,
    "start_time": "2023-09-15T07:18:39.417Z"
   },
   {
    "duration": 62,
    "start_time": "2023-09-15T07:18:39.456Z"
   },
   {
    "duration": 55,
    "start_time": "2023-09-15T07:18:39.520Z"
   },
   {
    "duration": 44,
    "start_time": "2023-09-15T07:18:39.577Z"
   },
   {
    "duration": 15,
    "start_time": "2023-09-15T07:18:39.623Z"
   },
   {
    "duration": 34,
    "start_time": "2023-09-15T07:18:39.640Z"
   },
   {
    "duration": 25,
    "start_time": "2023-09-15T07:18:39.676Z"
   },
   {
    "duration": 14,
    "start_time": "2023-09-15T07:20:34.336Z"
   },
   {
    "duration": 11,
    "start_time": "2023-09-15T07:22:10.084Z"
   },
   {
    "duration": 14,
    "start_time": "2023-09-15T07:25:00.766Z"
   },
   {
    "duration": 12,
    "start_time": "2023-09-15T07:25:16.460Z"
   },
   {
    "duration": 20,
    "start_time": "2023-09-15T07:26:15.006Z"
   },
   {
    "duration": 6,
    "start_time": "2023-09-15T07:26:52.415Z"
   },
   {
    "duration": 12,
    "start_time": "2023-09-15T07:26:54.294Z"
   },
   {
    "duration": 682,
    "start_time": "2023-09-15T07:27:04.245Z"
   },
   {
    "duration": 128,
    "start_time": "2023-09-15T07:27:04.929Z"
   },
   {
    "duration": 18,
    "start_time": "2023-09-15T07:27:05.059Z"
   },
   {
    "duration": 35,
    "start_time": "2023-09-15T07:27:05.079Z"
   },
   {
    "duration": 38,
    "start_time": "2023-09-15T07:27:05.116Z"
   },
   {
    "duration": 16,
    "start_time": "2023-09-15T07:27:05.156Z"
   },
   {
    "duration": 33,
    "start_time": "2023-09-15T07:27:05.174Z"
   },
   {
    "duration": 49,
    "start_time": "2023-09-15T07:27:05.210Z"
   },
   {
    "duration": 125,
    "start_time": "2023-09-15T07:27:05.261Z"
   },
   {
    "duration": 25,
    "start_time": "2023-09-15T07:27:05.388Z"
   },
   {
    "duration": 52,
    "start_time": "2023-09-15T07:27:05.415Z"
   },
   {
    "duration": 25,
    "start_time": "2023-09-15T07:27:05.468Z"
   },
   {
    "duration": 65,
    "start_time": "2023-09-15T07:27:05.495Z"
   },
   {
    "duration": 41,
    "start_time": "2023-09-15T07:27:05.562Z"
   },
   {
    "duration": 29,
    "start_time": "2023-09-15T07:27:05.605Z"
   },
   {
    "duration": 51,
    "start_time": "2023-09-15T07:27:05.636Z"
   },
   {
    "duration": 37,
    "start_time": "2023-09-15T07:27:05.689Z"
   },
   {
    "duration": 41,
    "start_time": "2023-09-15T07:27:05.728Z"
   },
   {
    "duration": 31,
    "start_time": "2023-09-15T07:27:05.771Z"
   },
   {
    "duration": 87,
    "start_time": "2023-09-15T07:41:50.631Z"
   },
   {
    "duration": 3,
    "start_time": "2023-09-15T07:44:26.793Z"
   },
   {
    "duration": 127,
    "start_time": "2023-09-15T07:44:27.327Z"
   },
   {
    "duration": 15,
    "start_time": "2023-09-15T07:44:28.809Z"
   },
   {
    "duration": 673,
    "start_time": "2023-09-15T07:44:39.971Z"
   },
   {
    "duration": 131,
    "start_time": "2023-09-15T07:44:40.646Z"
   },
   {
    "duration": 21,
    "start_time": "2023-09-15T07:44:40.778Z"
   },
   {
    "duration": 16,
    "start_time": "2023-09-15T07:44:40.800Z"
   },
   {
    "duration": 18,
    "start_time": "2023-09-15T07:44:40.818Z"
   },
   {
    "duration": 8,
    "start_time": "2023-09-15T07:44:40.837Z"
   },
   {
    "duration": 8,
    "start_time": "2023-09-15T07:44:40.848Z"
   },
   {
    "duration": 20,
    "start_time": "2023-09-15T07:44:40.858Z"
   },
   {
    "duration": 26,
    "start_time": "2023-09-15T07:44:40.880Z"
   },
   {
    "duration": 23,
    "start_time": "2023-09-15T07:44:40.907Z"
   },
   {
    "duration": 8,
    "start_time": "2023-09-15T07:44:40.932Z"
   },
   {
    "duration": 19,
    "start_time": "2023-09-15T07:44:40.942Z"
   },
   {
    "duration": 16,
    "start_time": "2023-09-15T07:44:40.962Z"
   },
   {
    "duration": 14,
    "start_time": "2023-09-15T07:44:40.981Z"
   },
   {
    "duration": 9,
    "start_time": "2023-09-15T07:44:40.996Z"
   },
   {
    "duration": 28,
    "start_time": "2023-09-15T07:44:41.007Z"
   },
   {
    "duration": 17,
    "start_time": "2023-09-15T07:44:41.038Z"
   },
   {
    "duration": 20,
    "start_time": "2023-09-15T07:44:41.056Z"
   },
   {
    "duration": 686,
    "start_time": "2023-09-15T07:47:54.899Z"
   },
   {
    "duration": 133,
    "start_time": "2023-09-15T07:47:55.587Z"
   },
   {
    "duration": 20,
    "start_time": "2023-09-15T07:47:55.721Z"
   },
   {
    "duration": 23,
    "start_time": "2023-09-15T07:47:55.743Z"
   },
   {
    "duration": 58,
    "start_time": "2023-09-15T07:47:55.768Z"
   },
   {
    "duration": 26,
    "start_time": "2023-09-15T07:47:55.827Z"
   },
   {
    "duration": 41,
    "start_time": "2023-09-15T07:47:55.855Z"
   },
   {
    "duration": 74,
    "start_time": "2023-09-15T07:47:55.898Z"
   },
   {
    "duration": 32,
    "start_time": "2023-09-15T07:47:55.974Z"
   },
   {
    "duration": 10,
    "start_time": "2023-09-15T07:47:56.007Z"
   },
   {
    "duration": 12,
    "start_time": "2023-09-15T07:47:56.019Z"
   },
   {
    "duration": 29,
    "start_time": "2023-09-15T07:47:56.033Z"
   },
   {
    "duration": 8,
    "start_time": "2023-09-15T07:47:56.064Z"
   },
   {
    "duration": 13,
    "start_time": "2023-09-15T07:47:56.074Z"
   },
   {
    "duration": 17,
    "start_time": "2023-09-15T07:47:56.089Z"
   },
   {
    "duration": 20,
    "start_time": "2023-09-15T07:47:56.108Z"
   },
   {
    "duration": 6,
    "start_time": "2023-09-15T07:47:56.130Z"
   },
   {
    "duration": 18,
    "start_time": "2023-09-15T07:47:56.137Z"
   },
   {
    "duration": 6,
    "start_time": "2023-09-15T07:51:02.441Z"
   },
   {
    "duration": 76,
    "start_time": "2023-09-15T07:56:56.665Z"
   },
   {
    "duration": 14,
    "start_time": "2023-09-15T07:57:05.313Z"
   },
   {
    "duration": 58,
    "start_time": "2023-09-15T07:59:22.601Z"
   },
   {
    "duration": 20,
    "start_time": "2023-09-15T08:01:15.427Z"
   },
   {
    "duration": 5,
    "start_time": "2023-09-15T08:11:46.066Z"
   },
   {
    "duration": 14,
    "start_time": "2023-09-15T08:12:06.342Z"
   },
   {
    "duration": 17,
    "start_time": "2023-09-15T08:14:53.512Z"
   },
   {
    "duration": 11,
    "start_time": "2023-09-15T08:16:48.602Z"
   },
   {
    "duration": 21,
    "start_time": "2023-09-15T08:17:29.306Z"
   },
   {
    "duration": 12,
    "start_time": "2023-09-15T08:22:13.698Z"
   },
   {
    "duration": 18,
    "start_time": "2023-09-15T08:23:00.136Z"
   },
   {
    "duration": 12,
    "start_time": "2023-09-15T08:24:12.719Z"
   },
   {
    "duration": 18,
    "start_time": "2023-09-15T08:27:00.915Z"
   },
   {
    "duration": 19,
    "start_time": "2023-09-15T08:32:40.734Z"
   },
   {
    "duration": 20,
    "start_time": "2023-09-15T08:35:30.515Z"
   },
   {
    "duration": 13,
    "start_time": "2023-09-15T08:36:40.197Z"
   },
   {
    "duration": 19,
    "start_time": "2023-09-15T08:37:09.927Z"
   },
   {
    "duration": 12,
    "start_time": "2023-09-15T08:43:56.689Z"
   },
   {
    "duration": 37,
    "start_time": "2023-09-15T08:55:05.345Z"
   },
   {
    "duration": 30,
    "start_time": "2023-09-15T08:55:49.541Z"
   },
   {
    "duration": 9,
    "start_time": "2023-09-15T08:56:10.776Z"
   },
   {
    "duration": 15,
    "start_time": "2023-09-15T08:56:50.711Z"
   },
   {
    "duration": 15,
    "start_time": "2023-09-15T08:58:27.924Z"
   },
   {
    "duration": 15,
    "start_time": "2023-09-15T09:01:52.767Z"
   },
   {
    "duration": 15,
    "start_time": "2023-09-15T09:08:12.790Z"
   },
   {
    "duration": 7,
    "start_time": "2023-09-15T09:13:48.902Z"
   },
   {
    "duration": 10,
    "start_time": "2023-09-15T09:15:21.309Z"
   },
   {
    "duration": 29,
    "start_time": "2023-09-15T09:20:19.592Z"
   },
   {
    "duration": 33,
    "start_time": "2023-09-15T09:20:41.738Z"
   },
   {
    "duration": 25,
    "start_time": "2023-09-15T09:21:23.396Z"
   },
   {
    "duration": 33,
    "start_time": "2023-09-15T09:25:01.792Z"
   },
   {
    "duration": 1627,
    "start_time": "2023-09-15T09:28:17.514Z"
   },
   {
    "duration": 19,
    "start_time": "2023-09-15T09:28:28.788Z"
   },
   {
    "duration": 21,
    "start_time": "2023-09-15T09:43:28.048Z"
   },
   {
    "duration": 21,
    "start_time": "2023-09-15T09:43:43.112Z"
   },
   {
    "duration": 21,
    "start_time": "2023-09-15T09:47:18.719Z"
   },
   {
    "duration": 20,
    "start_time": "2023-09-15T09:47:57.368Z"
   },
   {
    "duration": 11,
    "start_time": "2023-09-15T10:12:47.976Z"
   },
   {
    "duration": 1021,
    "start_time": "2023-09-15T10:13:55.173Z"
   },
   {
    "duration": 132,
    "start_time": "2023-09-15T10:13:56.197Z"
   },
   {
    "duration": 26,
    "start_time": "2023-09-15T10:13:56.331Z"
   },
   {
    "duration": 17,
    "start_time": "2023-09-15T10:13:56.360Z"
   },
   {
    "duration": 30,
    "start_time": "2023-09-15T10:13:56.380Z"
   },
   {
    "duration": 12,
    "start_time": "2023-09-15T10:13:56.412Z"
   },
   {
    "duration": 23,
    "start_time": "2023-09-15T10:13:56.426Z"
   },
   {
    "duration": 14,
    "start_time": "2023-09-15T10:13:56.451Z"
   },
   {
    "duration": 25,
    "start_time": "2023-09-15T10:13:56.467Z"
   },
   {
    "duration": 10,
    "start_time": "2023-09-15T10:13:56.495Z"
   },
   {
    "duration": 46,
    "start_time": "2023-09-15T10:13:56.507Z"
   },
   {
    "duration": 14,
    "start_time": "2023-09-15T10:13:56.555Z"
   },
   {
    "duration": 9,
    "start_time": "2023-09-15T10:13:56.570Z"
   },
   {
    "duration": 20,
    "start_time": "2023-09-15T10:13:56.581Z"
   },
   {
    "duration": 17,
    "start_time": "2023-09-15T10:13:56.603Z"
   },
   {
    "duration": 18,
    "start_time": "2023-09-15T10:13:56.622Z"
   },
   {
    "duration": 4,
    "start_time": "2023-09-15T10:13:56.647Z"
   },
   {
    "duration": 10,
    "start_time": "2023-09-15T10:13:56.652Z"
   },
   {
    "duration": 9,
    "start_time": "2023-09-15T10:13:56.664Z"
   },
   {
    "duration": 20,
    "start_time": "2023-09-15T10:13:56.675Z"
   },
   {
    "duration": 89,
    "start_time": "2023-09-15T10:13:56.698Z"
   },
   {
    "duration": 20,
    "start_time": "2023-09-15T10:13:56.789Z"
   },
   {
    "duration": 15,
    "start_time": "2023-09-15T10:13:56.811Z"
   },
   {
    "duration": 37,
    "start_time": "2023-09-15T10:13:56.827Z"
   },
   {
    "duration": 40,
    "start_time": "2023-09-15T10:13:56.866Z"
   },
   {
    "duration": 27,
    "start_time": "2023-09-15T10:13:56.908Z"
   },
   {
    "duration": 13,
    "start_time": "2023-09-15T10:13:56.937Z"
   },
   {
    "duration": 24,
    "start_time": "2023-09-15T10:13:56.956Z"
   },
   {
    "duration": 16,
    "start_time": "2023-09-15T10:13:56.982Z"
   },
   {
    "duration": 49,
    "start_time": "2023-09-15T10:13:57.000Z"
   },
   {
    "duration": 33,
    "start_time": "2023-09-15T10:13:57.052Z"
   },
   {
    "duration": 29,
    "start_time": "2023-09-15T10:13:57.087Z"
   },
   {
    "duration": 9,
    "start_time": "2023-09-15T10:13:57.117Z"
   },
   {
    "duration": 27,
    "start_time": "2023-09-15T10:13:57.127Z"
   },
   {
    "duration": 34,
    "start_time": "2023-09-15T10:13:57.156Z"
   },
   {
    "duration": 28,
    "start_time": "2023-09-15T10:13:57.192Z"
   },
   {
    "duration": 44,
    "start_time": "2023-09-15T10:13:57.222Z"
   },
   {
    "duration": 18,
    "start_time": "2023-09-15T10:13:57.269Z"
   },
   {
    "duration": 39,
    "start_time": "2023-09-15T10:13:57.290Z"
   },
   {
    "duration": 36,
    "start_time": "2023-09-15T10:13:57.348Z"
   },
   {
    "duration": 115,
    "start_time": "2023-09-15T10:13:57.387Z"
   },
   {
    "duration": 0,
    "start_time": "2023-09-15T10:13:57.504Z"
   },
   {
    "duration": 0,
    "start_time": "2023-09-15T10:13:57.505Z"
   },
   {
    "duration": 4,
    "start_time": "2023-09-15T10:14:52.855Z"
   },
   {
    "duration": 5,
    "start_time": "2023-09-15T10:15:04.144Z"
   },
   {
    "duration": 4,
    "start_time": "2023-09-15T10:15:15.796Z"
   },
   {
    "duration": 5,
    "start_time": "2023-09-15T10:15:29.371Z"
   },
   {
    "duration": 9,
    "start_time": "2023-09-15T10:15:49.434Z"
   },
   {
    "duration": 21,
    "start_time": "2023-09-15T10:16:29.975Z"
   },
   {
    "duration": 30,
    "start_time": "2023-09-15T10:16:50.226Z"
   },
   {
    "duration": 31,
    "start_time": "2023-09-15T10:17:56.727Z"
   },
   {
    "duration": 35,
    "start_time": "2023-09-15T10:18:30.999Z"
   },
   {
    "duration": 30,
    "start_time": "2023-09-15T10:18:44.957Z"
   },
   {
    "duration": 26,
    "start_time": "2023-09-15T10:18:58.145Z"
   },
   {
    "duration": 33,
    "start_time": "2023-09-15T10:19:19.354Z"
   },
   {
    "duration": 3917,
    "start_time": "2023-09-15T10:21:22.406Z"
   },
   {
    "duration": 3021,
    "start_time": "2023-09-15T10:21:36.046Z"
   },
   {
    "duration": 6,
    "start_time": "2023-09-15T10:22:03.595Z"
   },
   {
    "duration": 26,
    "start_time": "2023-09-15T10:22:38.778Z"
   },
   {
    "duration": 6,
    "start_time": "2023-09-15T10:34:23.237Z"
   },
   {
    "duration": 30,
    "start_time": "2023-09-15T10:34:59.548Z"
   },
   {
    "duration": 691,
    "start_time": "2023-09-15T10:35:19.890Z"
   },
   {
    "duration": 130,
    "start_time": "2023-09-15T10:35:20.583Z"
   },
   {
    "duration": 19,
    "start_time": "2023-09-15T10:35:20.715Z"
   },
   {
    "duration": 30,
    "start_time": "2023-09-15T10:35:20.736Z"
   },
   {
    "duration": 37,
    "start_time": "2023-09-15T10:35:20.770Z"
   },
   {
    "duration": 32,
    "start_time": "2023-09-15T10:35:20.809Z"
   },
   {
    "duration": 20,
    "start_time": "2023-09-15T10:35:20.843Z"
   },
   {
    "duration": 26,
    "start_time": "2023-09-15T10:35:20.865Z"
   },
   {
    "duration": 34,
    "start_time": "2023-09-15T10:35:20.893Z"
   },
   {
    "duration": 11,
    "start_time": "2023-09-15T10:35:20.929Z"
   },
   {
    "duration": 21,
    "start_time": "2023-09-15T10:35:20.942Z"
   },
   {
    "duration": 21,
    "start_time": "2023-09-15T10:35:20.965Z"
   },
   {
    "duration": 10,
    "start_time": "2023-09-15T10:35:20.987Z"
   },
   {
    "duration": 24,
    "start_time": "2023-09-15T10:35:21.000Z"
   },
   {
    "duration": 34,
    "start_time": "2023-09-15T10:35:21.026Z"
   },
   {
    "duration": 32,
    "start_time": "2023-09-15T10:35:21.062Z"
   },
   {
    "duration": 14,
    "start_time": "2023-09-15T10:35:21.096Z"
   },
   {
    "duration": 25,
    "start_time": "2023-09-15T10:35:21.111Z"
   },
   {
    "duration": 25,
    "start_time": "2023-09-15T10:35:21.138Z"
   },
   {
    "duration": 38,
    "start_time": "2023-09-15T10:35:21.165Z"
   },
   {
    "duration": 92,
    "start_time": "2023-09-15T10:35:21.205Z"
   },
   {
    "duration": 20,
    "start_time": "2023-09-15T10:35:21.299Z"
   },
   {
    "duration": 29,
    "start_time": "2023-09-15T10:35:21.321Z"
   },
   {
    "duration": 36,
    "start_time": "2023-09-15T10:35:21.352Z"
   },
   {
    "duration": 39,
    "start_time": "2023-09-15T10:35:21.390Z"
   },
   {
    "duration": 23,
    "start_time": "2023-09-15T10:35:21.431Z"
   },
   {
    "duration": 24,
    "start_time": "2023-09-15T10:35:21.456Z"
   },
   {
    "duration": 54,
    "start_time": "2023-09-15T10:35:21.482Z"
   },
   {
    "duration": 27,
    "start_time": "2023-09-15T10:35:21.537Z"
   },
   {
    "duration": 53,
    "start_time": "2023-09-15T10:35:21.566Z"
   },
   {
    "duration": 32,
    "start_time": "2023-09-15T10:35:21.620Z"
   },
   {
    "duration": 28,
    "start_time": "2023-09-15T10:35:21.653Z"
   },
   {
    "duration": 27,
    "start_time": "2023-09-15T10:35:21.682Z"
   },
   {
    "duration": 45,
    "start_time": "2023-09-15T10:35:21.710Z"
   },
   {
    "duration": 33,
    "start_time": "2023-09-15T10:35:21.757Z"
   },
   {
    "duration": 30,
    "start_time": "2023-09-15T10:35:21.791Z"
   },
   {
    "duration": 61,
    "start_time": "2023-09-15T10:35:21.823Z"
   },
   {
    "duration": 26,
    "start_time": "2023-09-15T10:35:21.886Z"
   },
   {
    "duration": 42,
    "start_time": "2023-09-15T10:35:21.914Z"
   },
   {
    "duration": 21,
    "start_time": "2023-09-15T10:35:21.959Z"
   },
   {
    "duration": 29,
    "start_time": "2023-09-15T10:35:21.985Z"
   },
   {
    "duration": 26,
    "start_time": "2023-09-15T10:35:22.017Z"
   },
   {
    "duration": 42,
    "start_time": "2023-09-15T10:35:22.045Z"
   },
   {
    "duration": 32,
    "start_time": "2023-09-15T10:35:22.089Z"
   },
   {
    "duration": 58,
    "start_time": "2023-09-15T10:35:22.123Z"
   },
   {
    "duration": 20,
    "start_time": "2023-09-15T10:37:59.210Z"
   },
   {
    "duration": 21,
    "start_time": "2023-09-15T10:43:33.658Z"
   },
   {
    "duration": 20,
    "start_time": "2023-09-15T10:43:43.098Z"
   },
   {
    "duration": 6,
    "start_time": "2023-09-15T10:46:23.176Z"
   },
   {
    "duration": 21,
    "start_time": "2023-09-15T10:47:37.688Z"
   },
   {
    "duration": 6,
    "start_time": "2023-09-15T10:47:57.580Z"
   },
   {
    "duration": 765,
    "start_time": "2023-09-15T10:48:14.571Z"
   },
   {
    "duration": 140,
    "start_time": "2023-09-15T10:48:15.338Z"
   },
   {
    "duration": 25,
    "start_time": "2023-09-15T10:48:15.480Z"
   },
   {
    "duration": 19,
    "start_time": "2023-09-15T10:48:15.509Z"
   },
   {
    "duration": 24,
    "start_time": "2023-09-15T10:48:15.530Z"
   },
   {
    "duration": 11,
    "start_time": "2023-09-15T10:48:15.556Z"
   },
   {
    "duration": 12,
    "start_time": "2023-09-15T10:48:15.569Z"
   },
   {
    "duration": 18,
    "start_time": "2023-09-15T10:48:15.584Z"
   },
   {
    "duration": 51,
    "start_time": "2023-09-15T10:48:15.605Z"
   },
   {
    "duration": 15,
    "start_time": "2023-09-15T10:48:15.660Z"
   },
   {
    "duration": 10,
    "start_time": "2023-09-15T10:48:15.677Z"
   },
   {
    "duration": 15,
    "start_time": "2023-09-15T10:48:15.689Z"
   },
   {
    "duration": 42,
    "start_time": "2023-09-15T10:48:15.705Z"
   },
   {
    "duration": 7,
    "start_time": "2023-09-15T10:48:15.748Z"
   },
   {
    "duration": 17,
    "start_time": "2023-09-15T10:48:15.757Z"
   },
   {
    "duration": 12,
    "start_time": "2023-09-15T10:48:15.776Z"
   },
   {
    "duration": 4,
    "start_time": "2023-09-15T10:48:15.790Z"
   },
   {
    "duration": 11,
    "start_time": "2023-09-15T10:48:15.795Z"
   },
   {
    "duration": 7,
    "start_time": "2023-09-15T10:48:15.808Z"
   },
   {
    "duration": 37,
    "start_time": "2023-09-15T10:48:15.817Z"
   },
   {
    "duration": 62,
    "start_time": "2023-09-15T10:48:15.856Z"
   },
   {
    "duration": 34,
    "start_time": "2023-09-15T10:48:15.920Z"
   },
   {
    "duration": 25,
    "start_time": "2023-09-15T10:48:15.956Z"
   },
   {
    "duration": 21,
    "start_time": "2023-09-15T10:48:15.982Z"
   },
   {
    "duration": 48,
    "start_time": "2023-09-15T10:48:16.005Z"
   },
   {
    "duration": 34,
    "start_time": "2023-09-15T10:48:16.056Z"
   },
   {
    "duration": 23,
    "start_time": "2023-09-15T10:48:16.092Z"
   },
   {
    "duration": 32,
    "start_time": "2023-09-15T10:48:16.120Z"
   },
   {
    "duration": 16,
    "start_time": "2023-09-15T10:48:16.154Z"
   },
   {
    "duration": 30,
    "start_time": "2023-09-15T10:48:16.172Z"
   },
   {
    "duration": 35,
    "start_time": "2023-09-15T10:48:16.204Z"
   },
   {
    "duration": 19,
    "start_time": "2023-09-15T10:48:16.241Z"
   },
   {
    "duration": 6,
    "start_time": "2023-09-15T10:48:16.262Z"
   },
   {
    "duration": 37,
    "start_time": "2023-09-15T10:48:16.270Z"
   },
   {
    "duration": 28,
    "start_time": "2023-09-15T10:48:16.309Z"
   },
   {
    "duration": 25,
    "start_time": "2023-09-15T10:48:16.346Z"
   },
   {
    "duration": 34,
    "start_time": "2023-09-15T10:48:16.372Z"
   },
   {
    "duration": 40,
    "start_time": "2023-09-15T10:48:16.408Z"
   },
   {
    "duration": 24,
    "start_time": "2023-09-15T10:48:16.450Z"
   },
   {
    "duration": 25,
    "start_time": "2023-09-15T10:48:16.476Z"
   },
   {
    "duration": 44,
    "start_time": "2023-09-15T10:48:16.503Z"
   },
   {
    "duration": 6,
    "start_time": "2023-09-15T10:48:16.549Z"
   },
   {
    "duration": 23,
    "start_time": "2023-09-15T10:48:16.557Z"
   },
   {
    "duration": 7,
    "start_time": "2023-09-15T10:48:16.582Z"
   },
   {
    "duration": 8,
    "start_time": "2023-09-15T10:52:45.416Z"
   },
   {
    "duration": 7,
    "start_time": "2023-09-15T10:55:18.860Z"
   },
   {
    "duration": 18,
    "start_time": "2023-09-15T10:55:28.293Z"
   },
   {
    "duration": 97,
    "start_time": "2023-09-15T11:00:17.559Z"
   },
   {
    "duration": 10,
    "start_time": "2023-09-15T11:00:36.045Z"
   },
   {
    "duration": 671,
    "start_time": "2023-09-15T11:01:36.168Z"
   },
   {
    "duration": 133,
    "start_time": "2023-09-15T11:01:36.841Z"
   },
   {
    "duration": 21,
    "start_time": "2023-09-15T11:01:36.976Z"
   },
   {
    "duration": 17,
    "start_time": "2023-09-15T11:01:36.999Z"
   },
   {
    "duration": 22,
    "start_time": "2023-09-15T11:01:37.019Z"
   },
   {
    "duration": 10,
    "start_time": "2023-09-15T11:01:37.043Z"
   },
   {
    "duration": 17,
    "start_time": "2023-09-15T11:01:37.054Z"
   },
   {
    "duration": 35,
    "start_time": "2023-09-15T11:01:37.072Z"
   },
   {
    "duration": 30,
    "start_time": "2023-09-15T11:01:37.109Z"
   },
   {
    "duration": 10,
    "start_time": "2023-09-15T11:01:37.141Z"
   },
   {
    "duration": 24,
    "start_time": "2023-09-15T11:01:37.153Z"
   },
   {
    "duration": 25,
    "start_time": "2023-09-15T11:01:37.178Z"
   },
   {
    "duration": 13,
    "start_time": "2023-09-15T11:01:37.205Z"
   },
   {
    "duration": 5,
    "start_time": "2023-09-15T11:01:37.221Z"
   },
   {
    "duration": 22,
    "start_time": "2023-09-15T11:01:37.227Z"
   },
   {
    "duration": 10,
    "start_time": "2023-09-15T11:01:37.251Z"
   },
   {
    "duration": 6,
    "start_time": "2023-09-15T11:01:37.262Z"
   },
   {
    "duration": 8,
    "start_time": "2023-09-15T11:01:37.269Z"
   },
   {
    "duration": 19,
    "start_time": "2023-09-15T11:01:37.279Z"
   },
   {
    "duration": 21,
    "start_time": "2023-09-15T11:01:37.300Z"
   },
   {
    "duration": 59,
    "start_time": "2023-09-15T11:01:37.324Z"
   },
   {
    "duration": 20,
    "start_time": "2023-09-15T11:01:37.384Z"
   },
   {
    "duration": 14,
    "start_time": "2023-09-15T11:01:37.405Z"
   },
   {
    "duration": 33,
    "start_time": "2023-09-15T11:01:37.421Z"
   },
   {
    "duration": 25,
    "start_time": "2023-09-15T11:01:37.456Z"
   },
   {
    "duration": 31,
    "start_time": "2023-09-15T11:01:37.483Z"
   },
   {
    "duration": 28,
    "start_time": "2023-09-15T11:01:37.516Z"
   },
   {
    "duration": 23,
    "start_time": "2023-09-15T11:01:37.546Z"
   },
   {
    "duration": 30,
    "start_time": "2023-09-15T11:01:37.570Z"
   },
   {
    "duration": 33,
    "start_time": "2023-09-15T11:01:37.602Z"
   },
   {
    "duration": 37,
    "start_time": "2023-09-15T11:01:37.637Z"
   },
   {
    "duration": 53,
    "start_time": "2023-09-15T11:01:37.676Z"
   },
   {
    "duration": 9,
    "start_time": "2023-09-15T11:01:37.731Z"
   },
   {
    "duration": 18,
    "start_time": "2023-09-15T11:01:37.742Z"
   },
   {
    "duration": 25,
    "start_time": "2023-09-15T11:01:37.762Z"
   },
   {
    "duration": 24,
    "start_time": "2023-09-15T11:01:37.789Z"
   },
   {
    "duration": 50,
    "start_time": "2023-09-15T11:01:37.815Z"
   },
   {
    "duration": 20,
    "start_time": "2023-09-15T11:01:37.867Z"
   },
   {
    "duration": 38,
    "start_time": "2023-09-15T11:01:37.889Z"
   },
   {
    "duration": 40,
    "start_time": "2023-09-15T11:01:37.930Z"
   },
   {
    "duration": 38,
    "start_time": "2023-09-15T11:01:37.975Z"
   },
   {
    "duration": 13,
    "start_time": "2023-09-15T11:01:38.015Z"
   },
   {
    "duration": 43,
    "start_time": "2023-09-15T11:01:38.030Z"
   },
   {
    "duration": 20,
    "start_time": "2023-09-15T11:01:38.075Z"
   },
   {
    "duration": 47,
    "start_time": "2023-09-15T11:01:38.096Z"
   },
   {
    "duration": 97,
    "start_time": "2023-09-15T11:01:38.145Z"
   },
   {
    "duration": 10,
    "start_time": "2023-09-15T11:02:12.200Z"
   },
   {
    "duration": 662,
    "start_time": "2023-09-15T11:02:21.898Z"
   },
   {
    "duration": 133,
    "start_time": "2023-09-15T11:02:22.562Z"
   },
   {
    "duration": 19,
    "start_time": "2023-09-15T11:02:22.697Z"
   },
   {
    "duration": 17,
    "start_time": "2023-09-15T11:02:22.718Z"
   },
   {
    "duration": 40,
    "start_time": "2023-09-15T11:02:22.737Z"
   },
   {
    "duration": 19,
    "start_time": "2023-09-15T11:02:22.779Z"
   },
   {
    "duration": 38,
    "start_time": "2023-09-15T11:02:22.800Z"
   },
   {
    "duration": 46,
    "start_time": "2023-09-15T11:02:22.839Z"
   },
   {
    "duration": 41,
    "start_time": "2023-09-15T11:02:22.887Z"
   },
   {
    "duration": 25,
    "start_time": "2023-09-15T11:02:22.930Z"
   },
   {
    "duration": 22,
    "start_time": "2023-09-15T11:02:22.956Z"
   },
   {
    "duration": 28,
    "start_time": "2023-09-15T11:02:22.979Z"
   },
   {
    "duration": 18,
    "start_time": "2023-09-15T11:02:23.009Z"
   },
   {
    "duration": 31,
    "start_time": "2023-09-15T11:02:23.031Z"
   },
   {
    "duration": 27,
    "start_time": "2023-09-15T11:02:23.064Z"
   },
   {
    "duration": 30,
    "start_time": "2023-09-15T11:02:23.092Z"
   },
   {
    "duration": 24,
    "start_time": "2023-09-15T11:02:23.124Z"
   },
   {
    "duration": 48,
    "start_time": "2023-09-15T11:02:23.149Z"
   },
   {
    "duration": 28,
    "start_time": "2023-09-15T11:02:23.199Z"
   },
   {
    "duration": 31,
    "start_time": "2023-09-15T11:02:23.228Z"
   },
   {
    "duration": 73,
    "start_time": "2023-09-15T11:02:23.260Z"
   },
   {
    "duration": 21,
    "start_time": "2023-09-15T11:02:23.335Z"
   },
   {
    "duration": 46,
    "start_time": "2023-09-15T11:02:23.358Z"
   },
   {
    "duration": 33,
    "start_time": "2023-09-15T11:02:23.406Z"
   },
   {
    "duration": 66,
    "start_time": "2023-09-15T11:02:23.440Z"
   },
   {
    "duration": 39,
    "start_time": "2023-09-15T11:02:23.507Z"
   },
   {
    "duration": 18,
    "start_time": "2023-09-15T11:02:23.548Z"
   },
   {
    "duration": 54,
    "start_time": "2023-09-15T11:02:23.568Z"
   },
   {
    "duration": 83,
    "start_time": "2023-09-15T11:02:23.624Z"
   },
   {
    "duration": 41,
    "start_time": "2023-09-15T11:02:23.708Z"
   },
   {
    "duration": 55,
    "start_time": "2023-09-15T11:02:23.751Z"
   },
   {
    "duration": 56,
    "start_time": "2023-09-15T11:02:23.808Z"
   },
   {
    "duration": 23,
    "start_time": "2023-09-15T11:02:23.865Z"
   },
   {
    "duration": 52,
    "start_time": "2023-09-15T11:02:23.889Z"
   },
   {
    "duration": 42,
    "start_time": "2023-09-15T11:02:23.942Z"
   },
   {
    "duration": 26,
    "start_time": "2023-09-15T11:02:23.986Z"
   },
   {
    "duration": 35,
    "start_time": "2023-09-15T11:02:24.014Z"
   },
   {
    "duration": 20,
    "start_time": "2023-09-15T11:02:24.050Z"
   },
   {
    "duration": 27,
    "start_time": "2023-09-15T11:02:24.072Z"
   },
   {
    "duration": 46,
    "start_time": "2023-09-15T11:02:24.102Z"
   },
   {
    "duration": 31,
    "start_time": "2023-09-15T11:02:24.152Z"
   },
   {
    "duration": 5,
    "start_time": "2023-09-15T11:02:24.185Z"
   },
   {
    "duration": 36,
    "start_time": "2023-09-15T11:02:24.192Z"
   },
   {
    "duration": 168,
    "start_time": "2023-09-15T11:02:24.229Z"
   },
   {
    "duration": 59,
    "start_time": "2023-09-15T11:02:24.399Z"
   },
   {
    "duration": 94,
    "start_time": "2023-09-15T11:02:24.460Z"
   },
   {
    "duration": 7,
    "start_time": "2023-09-15T11:03:11.062Z"
   },
   {
    "duration": 10,
    "start_time": "2023-09-15T11:03:14.678Z"
   },
   {
    "duration": 16,
    "start_time": "2023-09-15T11:03:53.748Z"
   },
   {
    "duration": 901,
    "start_time": "2023-09-16T06:31:38.529Z"
   },
   {
    "duration": 3,
    "start_time": "2023-09-16T06:31:39.433Z"
   },
   {
    "duration": 284,
    "start_time": "2023-09-16T06:31:39.438Z"
   },
   {
    "duration": 8,
    "start_time": "2023-09-16T06:41:20.995Z"
   },
   {
    "duration": 5,
    "start_time": "2023-09-16T06:42:42.601Z"
   },
   {
    "duration": 6,
    "start_time": "2023-09-16T06:43:47.386Z"
   },
   {
    "duration": 13,
    "start_time": "2023-09-16T06:45:43.083Z"
   },
   {
    "duration": 678,
    "start_time": "2023-09-16T06:45:56.936Z"
   },
   {
    "duration": 4,
    "start_time": "2023-09-16T06:45:57.616Z"
   },
   {
    "duration": 173,
    "start_time": "2023-09-16T06:45:57.622Z"
   },
   {
    "duration": 21,
    "start_time": "2023-09-16T06:45:57.798Z"
   },
   {
    "duration": 18,
    "start_time": "2023-09-16T06:45:57.821Z"
   },
   {
    "duration": 17,
    "start_time": "2023-09-16T06:45:57.841Z"
   },
   {
    "duration": 9,
    "start_time": "2023-09-16T06:45:57.860Z"
   },
   {
    "duration": 9,
    "start_time": "2023-09-16T06:45:57.871Z"
   },
   {
    "duration": 21,
    "start_time": "2023-09-16T06:45:57.881Z"
   },
   {
    "duration": 23,
    "start_time": "2023-09-16T06:45:57.905Z"
   },
   {
    "duration": 15,
    "start_time": "2023-09-16T06:45:57.947Z"
   },
   {
    "duration": 10,
    "start_time": "2023-09-16T06:45:57.964Z"
   },
   {
    "duration": 16,
    "start_time": "2023-09-16T06:45:57.976Z"
   },
   {
    "duration": 8,
    "start_time": "2023-09-16T06:45:57.994Z"
   },
   {
    "duration": 21,
    "start_time": "2023-09-16T06:45:58.004Z"
   },
   {
    "duration": 8,
    "start_time": "2023-09-16T06:45:58.046Z"
   },
   {
    "duration": 13,
    "start_time": "2023-09-16T06:45:58.055Z"
   },
   {
    "duration": 11,
    "start_time": "2023-09-16T06:45:58.069Z"
   },
   {
    "duration": 9,
    "start_time": "2023-09-16T06:45:58.082Z"
   },
   {
    "duration": 7,
    "start_time": "2023-09-16T06:45:58.094Z"
   },
   {
    "duration": 21,
    "start_time": "2023-09-16T06:45:58.103Z"
   },
   {
    "duration": 75,
    "start_time": "2023-09-16T06:45:58.126Z"
   },
   {
    "duration": 19,
    "start_time": "2023-09-16T06:45:58.203Z"
   },
   {
    "duration": 38,
    "start_time": "2023-09-16T06:45:58.224Z"
   },
   {
    "duration": 36,
    "start_time": "2023-09-16T06:45:58.264Z"
   },
   {
    "duration": 16,
    "start_time": "2023-09-16T06:45:58.302Z"
   },
   {
    "duration": 36,
    "start_time": "2023-09-16T06:45:58.320Z"
   },
   {
    "duration": 12,
    "start_time": "2023-09-16T06:45:58.361Z"
   },
   {
    "duration": 28,
    "start_time": "2023-09-16T06:45:58.375Z"
   },
   {
    "duration": 12,
    "start_time": "2023-09-16T06:45:58.405Z"
   },
   {
    "duration": 50,
    "start_time": "2023-09-16T06:45:58.419Z"
   },
   {
    "duration": 23,
    "start_time": "2023-09-16T06:45:58.471Z"
   },
   {
    "duration": 15,
    "start_time": "2023-09-16T06:45:58.496Z"
   },
   {
    "duration": 6,
    "start_time": "2023-09-16T06:45:58.513Z"
   },
   {
    "duration": 30,
    "start_time": "2023-09-16T06:45:58.521Z"
   },
   {
    "duration": 31,
    "start_time": "2023-09-16T06:45:58.553Z"
   },
   {
    "duration": 24,
    "start_time": "2023-09-16T06:45:58.586Z"
   },
   {
    "duration": 60,
    "start_time": "2023-09-16T06:45:58.612Z"
   },
   {
    "duration": 19,
    "start_time": "2023-09-16T06:45:58.674Z"
   },
   {
    "duration": 21,
    "start_time": "2023-09-16T06:45:58.695Z"
   },
   {
    "duration": 45,
    "start_time": "2023-09-16T06:45:58.718Z"
   },
   {
    "duration": 20,
    "start_time": "2023-09-16T06:45:58.765Z"
   },
   {
    "duration": 5,
    "start_time": "2023-09-16T06:45:58.787Z"
   },
   {
    "duration": 55,
    "start_time": "2023-09-16T06:45:58.793Z"
   },
   {
    "duration": 5,
    "start_time": "2023-09-16T06:45:58.850Z"
   },
   {
    "duration": 11,
    "start_time": "2023-09-16T06:45:58.857Z"
   },
   {
    "duration": 17,
    "start_time": "2023-09-16T06:45:58.869Z"
   },
   {
    "duration": 5,
    "start_time": "2023-09-16T06:45:58.888Z"
   },
   {
    "duration": 4,
    "start_time": "2023-09-16T06:45:58.895Z"
   },
   {
    "duration": 12,
    "start_time": "2023-09-16T06:49:13.672Z"
   },
   {
    "duration": 13,
    "start_time": "2023-09-16T06:51:24.445Z"
   },
   {
    "duration": 8,
    "start_time": "2023-09-16T06:51:37.755Z"
   },
   {
    "duration": 5,
    "start_time": "2023-09-16T06:51:59.549Z"
   },
   {
    "duration": 10,
    "start_time": "2023-09-16T07:22:30.733Z"
   },
   {
    "duration": 735,
    "start_time": "2023-09-16T07:22:30.746Z"
   },
   {
    "duration": 4,
    "start_time": "2023-09-16T07:22:31.483Z"
   },
   {
    "duration": 157,
    "start_time": "2023-09-16T07:22:31.490Z"
   },
   {
    "duration": 20,
    "start_time": "2023-09-16T07:22:31.649Z"
   },
   {
    "duration": 47,
    "start_time": "2023-09-16T07:22:31.670Z"
   },
   {
    "duration": 41,
    "start_time": "2023-09-16T07:22:31.719Z"
   },
   {
    "duration": 28,
    "start_time": "2023-09-16T07:22:31.762Z"
   },
   {
    "duration": 23,
    "start_time": "2023-09-16T07:22:31.792Z"
   },
   {
    "duration": 41,
    "start_time": "2023-09-16T07:22:31.818Z"
   },
   {
    "duration": 88,
    "start_time": "2023-09-16T07:22:31.861Z"
   },
   {
    "duration": 27,
    "start_time": "2023-09-16T07:22:31.951Z"
   },
   {
    "duration": 24,
    "start_time": "2023-09-16T07:22:31.980Z"
   },
   {
    "duration": 20,
    "start_time": "2023-09-16T07:22:32.006Z"
   },
   {
    "duration": 13,
    "start_time": "2023-09-16T07:22:32.027Z"
   },
   {
    "duration": 10,
    "start_time": "2023-09-16T07:22:32.042Z"
   },
   {
    "duration": 25,
    "start_time": "2023-09-16T07:22:32.054Z"
   },
   {
    "duration": 22,
    "start_time": "2023-09-16T07:22:32.080Z"
   },
   {
    "duration": 31,
    "start_time": "2023-09-16T07:22:32.104Z"
   },
   {
    "duration": 13,
    "start_time": "2023-09-16T07:22:32.137Z"
   },
   {
    "duration": 23,
    "start_time": "2023-09-16T07:22:32.152Z"
   },
   {
    "duration": 47,
    "start_time": "2023-09-16T07:22:32.178Z"
   },
   {
    "duration": 65,
    "start_time": "2023-09-16T07:22:32.227Z"
   },
   {
    "duration": 19,
    "start_time": "2023-09-16T07:22:32.294Z"
   },
   {
    "duration": 85,
    "start_time": "2023-09-16T07:22:32.315Z"
   },
   {
    "duration": 40,
    "start_time": "2023-09-16T07:22:32.402Z"
   },
   {
    "duration": 32,
    "start_time": "2023-09-16T07:22:32.444Z"
   },
   {
    "duration": 35,
    "start_time": "2023-09-16T07:22:32.480Z"
   },
   {
    "duration": 16,
    "start_time": "2023-09-16T07:22:32.518Z"
   },
   {
    "duration": 29,
    "start_time": "2023-09-16T07:22:32.535Z"
   },
   {
    "duration": 13,
    "start_time": "2023-09-16T07:22:32.566Z"
   },
   {
    "duration": 49,
    "start_time": "2023-09-16T07:22:32.581Z"
   },
   {
    "duration": 29,
    "start_time": "2023-09-16T07:22:32.632Z"
   },
   {
    "duration": 46,
    "start_time": "2023-09-16T07:22:32.662Z"
   },
   {
    "duration": 33,
    "start_time": "2023-09-16T07:22:32.710Z"
   },
   {
    "duration": 29,
    "start_time": "2023-09-16T07:22:32.745Z"
   },
   {
    "duration": 47,
    "start_time": "2023-09-16T07:22:32.775Z"
   },
   {
    "duration": 36,
    "start_time": "2023-09-16T07:22:32.824Z"
   },
   {
    "duration": 38,
    "start_time": "2023-09-16T07:22:32.862Z"
   },
   {
    "duration": 15,
    "start_time": "2023-09-16T07:22:32.901Z"
   },
   {
    "duration": 97,
    "start_time": "2023-09-16T07:22:32.917Z"
   },
   {
    "duration": 23,
    "start_time": "2023-09-16T07:22:33.016Z"
   },
   {
    "duration": 20,
    "start_time": "2023-09-16T07:22:33.041Z"
   },
   {
    "duration": 6,
    "start_time": "2023-09-16T07:22:33.063Z"
   },
   {
    "duration": 30,
    "start_time": "2023-09-16T07:22:33.071Z"
   },
   {
    "duration": 14,
    "start_time": "2023-09-16T07:22:33.103Z"
   },
   {
    "duration": 48,
    "start_time": "2023-09-16T07:22:33.118Z"
   },
   {
    "duration": 25,
    "start_time": "2023-09-16T07:22:33.167Z"
   },
   {
    "duration": 16,
    "start_time": "2023-09-16T07:22:33.193Z"
   },
   {
    "duration": 52,
    "start_time": "2023-09-16T07:22:33.211Z"
   },
   {
    "duration": 102,
    "start_time": "2023-09-16T07:22:33.265Z"
   },
   {
    "duration": 9,
    "start_time": "2023-09-16T07:22:33.369Z"
   },
   {
    "duration": 47,
    "start_time": "2023-09-16T07:22:33.380Z"
   },
   {
    "duration": 17,
    "start_time": "2023-09-16T07:25:25.154Z"
   },
   {
    "duration": 6,
    "start_time": "2023-09-16T07:25:28.614Z"
   },
   {
    "duration": 7,
    "start_time": "2023-09-16T07:26:05.956Z"
   },
   {
    "duration": 24,
    "start_time": "2023-09-16T07:39:30.421Z"
   },
   {
    "duration": 23,
    "start_time": "2023-09-16T07:41:15.301Z"
   },
   {
    "duration": 27,
    "start_time": "2023-09-16T07:41:33.476Z"
   },
   {
    "duration": 24,
    "start_time": "2023-09-16T07:49:14.364Z"
   },
   {
    "duration": 11,
    "start_time": "2023-09-16T08:01:35.175Z"
   },
   {
    "duration": 27,
    "start_time": "2023-09-16T08:04:02.064Z"
   },
   {
    "duration": 17,
    "start_time": "2023-09-16T08:08:12.530Z"
   },
   {
    "duration": 16,
    "start_time": "2023-09-16T08:08:46.124Z"
   },
   {
    "duration": 6,
    "start_time": "2023-09-16T08:13:13.743Z"
   },
   {
    "duration": 9,
    "start_time": "2023-09-16T08:13:30.099Z"
   },
   {
    "duration": 5,
    "start_time": "2023-09-16T08:13:40.842Z"
   },
   {
    "duration": 18,
    "start_time": "2023-09-16T08:14:05.297Z"
   },
   {
    "duration": 17,
    "start_time": "2023-09-16T08:14:18.791Z"
   },
   {
    "duration": 80,
    "start_time": "2023-09-16T08:14:40.432Z"
   },
   {
    "duration": 10,
    "start_time": "2023-09-16T08:19:43.360Z"
   },
   {
    "duration": 706,
    "start_time": "2023-09-16T08:19:43.372Z"
   },
   {
    "duration": 4,
    "start_time": "2023-09-16T08:19:44.080Z"
   },
   {
    "duration": 153,
    "start_time": "2023-09-16T08:19:44.086Z"
   },
   {
    "duration": 19,
    "start_time": "2023-09-16T08:19:44.242Z"
   },
   {
    "duration": 73,
    "start_time": "2023-09-16T08:19:44.263Z"
   },
   {
    "duration": 211,
    "start_time": "2023-09-16T08:19:44.338Z"
   },
   {
    "duration": 205,
    "start_time": "2023-09-16T08:19:44.551Z"
   },
   {
    "duration": 31,
    "start_time": "2023-09-16T08:19:44.758Z"
   },
   {
    "duration": 26,
    "start_time": "2023-09-16T08:19:44.791Z"
   },
   {
    "duration": 30,
    "start_time": "2023-09-16T08:19:44.819Z"
   },
   {
    "duration": 11,
    "start_time": "2023-09-16T08:19:44.851Z"
   },
   {
    "duration": 10,
    "start_time": "2023-09-16T08:19:44.863Z"
   },
   {
    "duration": 15,
    "start_time": "2023-09-16T08:19:44.878Z"
   },
   {
    "duration": 8,
    "start_time": "2023-09-16T08:19:44.895Z"
   },
   {
    "duration": 6,
    "start_time": "2023-09-16T08:19:44.905Z"
   },
   {
    "duration": 44,
    "start_time": "2023-09-16T08:19:44.913Z"
   },
   {
    "duration": 22,
    "start_time": "2023-09-16T08:19:44.959Z"
   },
   {
    "duration": 5,
    "start_time": "2023-09-16T08:19:44.982Z"
   },
   {
    "duration": 9,
    "start_time": "2023-09-16T08:19:44.989Z"
   },
   {
    "duration": 10,
    "start_time": "2023-09-16T08:19:45.000Z"
   },
   {
    "duration": 67,
    "start_time": "2023-09-16T08:19:45.012Z"
   },
   {
    "duration": 60,
    "start_time": "2023-09-16T08:19:45.081Z"
   },
   {
    "duration": 19,
    "start_time": "2023-09-16T08:19:45.142Z"
   },
   {
    "duration": 18,
    "start_time": "2023-09-16T08:19:45.163Z"
   },
   {
    "duration": 40,
    "start_time": "2023-09-16T08:19:45.184Z"
   },
   {
    "duration": 29,
    "start_time": "2023-09-16T08:19:45.226Z"
   },
   {
    "duration": 43,
    "start_time": "2023-09-16T08:19:45.258Z"
   },
   {
    "duration": 22,
    "start_time": "2023-09-16T08:19:45.303Z"
   },
   {
    "duration": 40,
    "start_time": "2023-09-16T08:19:45.328Z"
   },
   {
    "duration": 17,
    "start_time": "2023-09-16T08:19:45.371Z"
   },
   {
    "duration": 27,
    "start_time": "2023-09-16T08:19:45.390Z"
   },
   {
    "duration": 38,
    "start_time": "2023-09-16T08:19:45.419Z"
   },
   {
    "duration": 16,
    "start_time": "2023-09-16T08:19:45.460Z"
   },
   {
    "duration": 17,
    "start_time": "2023-09-16T08:19:45.479Z"
   },
   {
    "duration": 27,
    "start_time": "2023-09-16T08:19:45.499Z"
   },
   {
    "duration": 53,
    "start_time": "2023-09-16T08:19:45.528Z"
   },
   {
    "duration": 39,
    "start_time": "2023-09-16T08:19:45.584Z"
   },
   {
    "duration": 49,
    "start_time": "2023-09-16T08:19:45.626Z"
   },
   {
    "duration": 17,
    "start_time": "2023-09-16T08:19:45.677Z"
   },
   {
    "duration": 50,
    "start_time": "2023-09-16T08:19:45.698Z"
   },
   {
    "duration": 27,
    "start_time": "2023-09-16T08:19:45.750Z"
   },
   {
    "duration": 33,
    "start_time": "2023-09-16T08:19:45.779Z"
   },
   {
    "duration": 8,
    "start_time": "2023-09-16T08:19:45.814Z"
   },
   {
    "duration": 23,
    "start_time": "2023-09-16T08:19:45.846Z"
   },
   {
    "duration": 10,
    "start_time": "2023-09-16T08:19:45.871Z"
   },
   {
    "duration": 13,
    "start_time": "2023-09-16T08:19:45.883Z"
   },
   {
    "duration": 31,
    "start_time": "2023-09-16T08:19:45.898Z"
   },
   {
    "duration": 21,
    "start_time": "2023-09-16T08:19:45.931Z"
   },
   {
    "duration": 6,
    "start_time": "2023-09-16T08:19:45.953Z"
   },
   {
    "duration": 15,
    "start_time": "2023-09-16T08:19:45.961Z"
   },
   {
    "duration": 11,
    "start_time": "2023-09-16T08:19:45.978Z"
   },
   {
    "duration": 3,
    "start_time": "2023-09-16T08:19:45.991Z"
   },
   {
    "duration": 4,
    "start_time": "2023-09-16T08:19:45.997Z"
   },
   {
    "duration": 6,
    "start_time": "2023-09-16T08:19:46.046Z"
   },
   {
    "duration": 36,
    "start_time": "2023-09-16T08:19:46.054Z"
   },
   {
    "duration": 29,
    "start_time": "2023-09-16T08:19:46.093Z"
   },
   {
    "duration": 53,
    "start_time": "2023-09-16T08:19:46.124Z"
   },
   {
    "duration": 9,
    "start_time": "2023-09-16T08:19:46.179Z"
   },
   {
    "duration": 35,
    "start_time": "2023-09-16T08:19:46.190Z"
   },
   {
    "duration": 27,
    "start_time": "2023-09-16T08:19:46.247Z"
   },
   {
    "duration": 44,
    "start_time": "2023-09-16T08:19:46.277Z"
   },
   {
    "duration": 56,
    "start_time": "2023-09-16T08:20:46.433Z"
   },
   {
    "duration": 7,
    "start_time": "2023-09-16T08:21:36.672Z"
   },
   {
    "duration": 7,
    "start_time": "2023-09-16T08:21:46.025Z"
   },
   {
    "duration": 10,
    "start_time": "2023-09-16T08:44:19.575Z"
   },
   {
    "duration": 29,
    "start_time": "2023-09-16T08:45:10.786Z"
   },
   {
    "duration": 24,
    "start_time": "2023-09-16T08:46:46.954Z"
   },
   {
    "duration": 24,
    "start_time": "2023-09-16T08:54:14.847Z"
   },
   {
    "duration": 32,
    "start_time": "2023-09-16T08:54:31.135Z"
   },
   {
    "duration": 13,
    "start_time": "2023-09-16T08:55:17.892Z"
   },
   {
    "duration": 13,
    "start_time": "2023-09-16T08:55:47.201Z"
   },
   {
    "duration": 15,
    "start_time": "2023-09-16T08:55:56.704Z"
   },
   {
    "duration": 10,
    "start_time": "2023-09-16T08:56:23.365Z"
   },
   {
    "duration": 10,
    "start_time": "2023-09-16T08:56:44.633Z"
   },
   {
    "duration": 10,
    "start_time": "2023-09-16T08:57:03.352Z"
   },
   {
    "duration": 16,
    "start_time": "2023-09-16T08:57:27.593Z"
   },
   {
    "duration": 17,
    "start_time": "2023-09-16T08:59:01.398Z"
   },
   {
    "duration": 16,
    "start_time": "2023-09-16T08:59:27.741Z"
   },
   {
    "duration": 227,
    "start_time": "2023-09-16T09:06:16.782Z"
   },
   {
    "duration": 4,
    "start_time": "2023-09-16T09:10:41.354Z"
   },
   {
    "duration": 9,
    "start_time": "2023-09-16T09:10:54.428Z"
   },
   {
    "duration": 155,
    "start_time": "2023-09-16T09:13:07.176Z"
   },
   {
    "duration": 148,
    "start_time": "2023-09-16T09:13:35.996Z"
   },
   {
    "duration": 5,
    "start_time": "2023-09-16T09:17:22.916Z"
   },
   {
    "duration": 8,
    "start_time": "2023-09-16T09:19:25.459Z"
   },
   {
    "duration": 170,
    "start_time": "2023-09-16T09:20:24.811Z"
   },
   {
    "duration": 174,
    "start_time": "2023-09-16T09:20:36.336Z"
   },
   {
    "duration": 283,
    "start_time": "2023-09-16T09:28:53.298Z"
   },
   {
    "duration": 269,
    "start_time": "2023-09-16T09:29:55.667Z"
   },
   {
    "duration": 18,
    "start_time": "2023-09-16T09:41:02.147Z"
   },
   {
    "duration": 5,
    "start_time": "2023-09-16T09:44:52.022Z"
   },
   {
    "duration": 4,
    "start_time": "2023-09-16T09:45:19.238Z"
   },
   {
    "duration": 177,
    "start_time": "2023-09-16T10:19:57.405Z"
   },
   {
    "duration": 10,
    "start_time": "2023-09-16T11:16:59.987Z"
   },
   {
    "duration": 264,
    "start_time": "2023-09-16T11:19:10.283Z"
   },
   {
    "duration": 152,
    "start_time": "2023-09-16T11:19:35.810Z"
   },
   {
    "duration": 322,
    "start_time": "2023-09-16T11:21:48.127Z"
   },
   {
    "duration": 14,
    "start_time": "2023-09-16T11:27:11.616Z"
   },
   {
    "duration": 14,
    "start_time": "2023-09-16T11:27:28.243Z"
   },
   {
    "duration": 30,
    "start_time": "2023-09-16T11:32:15.736Z"
   },
   {
    "duration": 8,
    "start_time": "2023-09-16T11:47:04.416Z"
   },
   {
    "duration": 10,
    "start_time": "2023-09-16T11:50:31.266Z"
   },
   {
    "duration": 13,
    "start_time": "2023-09-16T12:01:47.886Z"
   },
   {
    "duration": 8,
    "start_time": "2023-09-16T12:03:14.168Z"
   },
   {
    "duration": 26,
    "start_time": "2023-09-16T12:03:59.003Z"
   },
   {
    "duration": 14,
    "start_time": "2023-09-16T12:05:20.159Z"
   },
   {
    "duration": 23,
    "start_time": "2023-09-16T12:05:21.074Z"
   },
   {
    "duration": 9,
    "start_time": "2023-09-16T12:05:32.250Z"
   },
   {
    "duration": 719,
    "start_time": "2023-09-16T12:05:32.262Z"
   },
   {
    "duration": 3,
    "start_time": "2023-09-16T12:05:32.983Z"
   },
   {
    "duration": 138,
    "start_time": "2023-09-16T12:05:32.988Z"
   },
   {
    "duration": 18,
    "start_time": "2023-09-16T12:05:33.128Z"
   },
   {
    "duration": 38,
    "start_time": "2023-09-16T12:05:33.148Z"
   },
   {
    "duration": 33,
    "start_time": "2023-09-16T12:05:33.187Z"
   },
   {
    "duration": 51,
    "start_time": "2023-09-16T12:05:33.223Z"
   },
   {
    "duration": 49,
    "start_time": "2023-09-16T12:05:33.276Z"
   },
   {
    "duration": 48,
    "start_time": "2023-09-16T12:05:33.328Z"
   },
   {
    "duration": 25,
    "start_time": "2023-09-16T12:05:33.378Z"
   },
   {
    "duration": 28,
    "start_time": "2023-09-16T12:05:33.405Z"
   },
   {
    "duration": 42,
    "start_time": "2023-09-16T12:05:33.434Z"
   },
   {
    "duration": 48,
    "start_time": "2023-09-16T12:05:33.478Z"
   },
   {
    "duration": 19,
    "start_time": "2023-09-16T12:05:33.528Z"
   },
   {
    "duration": 40,
    "start_time": "2023-09-16T12:05:33.550Z"
   },
   {
    "duration": 40,
    "start_time": "2023-09-16T12:05:33.591Z"
   },
   {
    "duration": 45,
    "start_time": "2023-09-16T12:05:33.634Z"
   },
   {
    "duration": 23,
    "start_time": "2023-09-16T12:05:33.681Z"
   },
   {
    "duration": 27,
    "start_time": "2023-09-16T12:05:33.706Z"
   },
   {
    "duration": 39,
    "start_time": "2023-09-16T12:05:33.735Z"
   },
   {
    "duration": 36,
    "start_time": "2023-09-16T12:05:33.776Z"
   },
   {
    "duration": 84,
    "start_time": "2023-09-16T12:05:33.813Z"
   },
   {
    "duration": 19,
    "start_time": "2023-09-16T12:05:33.898Z"
   },
   {
    "duration": 30,
    "start_time": "2023-09-16T12:05:33.918Z"
   },
   {
    "duration": 26,
    "start_time": "2023-09-16T12:05:33.949Z"
   },
   {
    "duration": 23,
    "start_time": "2023-09-16T12:05:33.977Z"
   },
   {
    "duration": 36,
    "start_time": "2023-09-16T12:05:34.005Z"
   },
   {
    "duration": 13,
    "start_time": "2023-09-16T12:05:34.042Z"
   },
   {
    "duration": 25,
    "start_time": "2023-09-16T12:05:34.057Z"
   },
   {
    "duration": 35,
    "start_time": "2023-09-16T12:05:34.085Z"
   },
   {
    "duration": 34,
    "start_time": "2023-09-16T12:05:34.122Z"
   },
   {
    "duration": 28,
    "start_time": "2023-09-16T12:05:34.158Z"
   },
   {
    "duration": 24,
    "start_time": "2023-09-16T12:05:34.188Z"
   },
   {
    "duration": 15,
    "start_time": "2023-09-16T12:05:34.214Z"
   },
   {
    "duration": 26,
    "start_time": "2023-09-16T12:05:34.231Z"
   },
   {
    "duration": 37,
    "start_time": "2023-09-16T12:05:34.260Z"
   },
   {
    "duration": 28,
    "start_time": "2023-09-16T12:05:34.299Z"
   },
   {
    "duration": 30,
    "start_time": "2023-09-16T12:05:34.347Z"
   },
   {
    "duration": 16,
    "start_time": "2023-09-16T12:05:34.379Z"
   },
   {
    "duration": 29,
    "start_time": "2023-09-16T12:05:34.397Z"
   },
   {
    "duration": 30,
    "start_time": "2023-09-16T12:05:34.428Z"
   },
   {
    "duration": 31,
    "start_time": "2023-09-16T12:05:34.460Z"
   },
   {
    "duration": 6,
    "start_time": "2023-09-16T12:05:34.492Z"
   },
   {
    "duration": 23,
    "start_time": "2023-09-16T12:05:34.499Z"
   },
   {
    "duration": 25,
    "start_time": "2023-09-16T12:05:34.524Z"
   },
   {
    "duration": 19,
    "start_time": "2023-09-16T12:05:34.551Z"
   },
   {
    "duration": 35,
    "start_time": "2023-09-16T12:05:34.572Z"
   },
   {
    "duration": 7,
    "start_time": "2023-09-16T12:05:34.609Z"
   },
   {
    "duration": 4,
    "start_time": "2023-09-16T12:05:34.618Z"
   },
   {
    "duration": 23,
    "start_time": "2023-09-16T12:05:34.624Z"
   },
   {
    "duration": 14,
    "start_time": "2023-09-16T12:05:34.649Z"
   },
   {
    "duration": 47,
    "start_time": "2023-09-16T12:05:34.664Z"
   },
   {
    "duration": 40,
    "start_time": "2023-09-16T12:05:34.713Z"
   },
   {
    "duration": 21,
    "start_time": "2023-09-16T12:05:34.755Z"
   },
   {
    "duration": 41,
    "start_time": "2023-09-16T12:05:34.778Z"
   },
   {
    "duration": 25,
    "start_time": "2023-09-16T12:05:34.821Z"
   },
   {
    "duration": 21,
    "start_time": "2023-09-16T12:05:34.848Z"
   },
   {
    "duration": 42,
    "start_time": "2023-09-16T12:05:34.871Z"
   },
   {
    "duration": 6,
    "start_time": "2023-09-16T12:05:34.914Z"
   },
   {
    "duration": 31,
    "start_time": "2023-09-16T12:05:34.921Z"
   },
   {
    "duration": 50,
    "start_time": "2023-09-16T12:05:34.954Z"
   },
   {
    "duration": 36,
    "start_time": "2023-09-16T12:05:35.006Z"
   },
   {
    "duration": 26,
    "start_time": "2023-09-16T12:05:35.044Z"
   },
   {
    "duration": 32,
    "start_time": "2023-09-16T12:05:35.071Z"
   },
   {
    "duration": 256,
    "start_time": "2023-09-16T12:05:35.105Z"
   },
   {
    "duration": 250,
    "start_time": "2023-09-16T12:05:35.362Z"
   },
   {
    "duration": 161,
    "start_time": "2023-09-16T12:05:35.614Z"
   },
   {
    "duration": 5,
    "start_time": "2023-09-16T12:05:35.777Z"
   },
   {
    "duration": 31,
    "start_time": "2023-09-16T12:05:35.784Z"
   },
   {
    "duration": 191,
    "start_time": "2023-09-16T12:05:35.817Z"
   },
   {
    "duration": 324,
    "start_time": "2023-09-16T12:05:36.010Z"
   },
   {
    "duration": 13,
    "start_time": "2023-09-16T12:05:36.335Z"
   },
   {
    "duration": 19,
    "start_time": "2023-09-16T12:05:36.350Z"
   },
   {
    "duration": 25,
    "start_time": "2023-09-16T12:05:36.370Z"
   },
   {
    "duration": 275,
    "start_time": "2023-09-16T12:05:36.397Z"
   },
   {
    "duration": 12,
    "start_time": "2023-09-16T12:05:36.674Z"
   },
   {
    "duration": 37,
    "start_time": "2023-09-16T12:05:36.688Z"
   },
   {
    "duration": 8,
    "start_time": "2023-09-16T12:05:36.727Z"
   },
   {
    "duration": 16,
    "start_time": "2023-09-16T12:05:36.747Z"
   },
   {
    "duration": 10,
    "start_time": "2023-09-16T12:05:36.764Z"
   },
   {
    "duration": 29,
    "start_time": "2023-09-16T12:05:36.781Z"
   },
   {
    "duration": 21,
    "start_time": "2023-09-16T12:05:57.556Z"
   },
   {
    "duration": 32,
    "start_time": "2023-09-16T12:07:14.391Z"
   },
   {
    "duration": 80,
    "start_time": "2023-09-16T12:08:24.461Z"
   },
   {
    "duration": 15,
    "start_time": "2023-09-16T12:13:02.357Z"
   },
   {
    "duration": 37,
    "start_time": "2023-09-16T12:13:12.168Z"
   },
   {
    "duration": 24,
    "start_time": "2023-09-16T12:13:29.602Z"
   },
   {
    "duration": 7,
    "start_time": "2023-09-16T12:14:13.517Z"
   },
   {
    "duration": 10,
    "start_time": "2023-09-16T12:14:51.071Z"
   },
   {
    "duration": 8,
    "start_time": "2023-09-16T12:30:58.432Z"
   },
   {
    "duration": 9,
    "start_time": "2023-09-16T12:31:05.737Z"
   },
   {
    "duration": 10,
    "start_time": "2023-09-16T12:31:05.748Z"
   },
   {
    "duration": 717,
    "start_time": "2023-09-16T12:31:05.760Z"
   },
   {
    "duration": 4,
    "start_time": "2023-09-16T12:31:06.479Z"
   },
   {
    "duration": 156,
    "start_time": "2023-09-16T12:31:06.486Z"
   },
   {
    "duration": 19,
    "start_time": "2023-09-16T12:31:06.644Z"
   },
   {
    "duration": 14,
    "start_time": "2023-09-16T12:31:06.665Z"
   },
   {
    "duration": 23,
    "start_time": "2023-09-16T12:31:06.681Z"
   },
   {
    "duration": 7,
    "start_time": "2023-09-16T12:31:06.706Z"
   },
   {
    "duration": 35,
    "start_time": "2023-09-16T12:31:06.715Z"
   },
   {
    "duration": 26,
    "start_time": "2023-09-16T12:31:06.752Z"
   },
   {
    "duration": 22,
    "start_time": "2023-09-16T12:31:06.779Z"
   },
   {
    "duration": 10,
    "start_time": "2023-09-16T12:31:06.803Z"
   },
   {
    "duration": 8,
    "start_time": "2023-09-16T12:31:06.816Z"
   },
   {
    "duration": 36,
    "start_time": "2023-09-16T12:31:06.826Z"
   },
   {
    "duration": 10,
    "start_time": "2023-09-16T12:31:06.865Z"
   },
   {
    "duration": 6,
    "start_time": "2023-09-16T12:31:06.877Z"
   },
   {
    "duration": 19,
    "start_time": "2023-09-16T12:31:06.885Z"
   },
   {
    "duration": 29,
    "start_time": "2023-09-16T12:31:06.906Z"
   },
   {
    "duration": 3,
    "start_time": "2023-09-16T12:31:06.937Z"
   },
   {
    "duration": 10,
    "start_time": "2023-09-16T12:31:06.947Z"
   },
   {
    "duration": 7,
    "start_time": "2023-09-16T12:31:06.958Z"
   },
   {
    "duration": 12,
    "start_time": "2023-09-16T12:31:06.967Z"
   },
   {
    "duration": 79,
    "start_time": "2023-09-16T12:31:06.981Z"
   },
   {
    "duration": 18,
    "start_time": "2023-09-16T12:31:07.061Z"
   },
   {
    "duration": 22,
    "start_time": "2023-09-16T12:31:07.081Z"
   },
   {
    "duration": 18,
    "start_time": "2023-09-16T12:31:07.105Z"
   },
   {
    "duration": 31,
    "start_time": "2023-09-16T12:31:07.125Z"
   },
   {
    "duration": 17,
    "start_time": "2023-09-16T12:31:07.158Z"
   },
   {
    "duration": 13,
    "start_time": "2023-09-16T12:31:07.177Z"
   },
   {
    "duration": 28,
    "start_time": "2023-09-16T12:31:07.192Z"
   },
   {
    "duration": 30,
    "start_time": "2023-09-16T12:31:07.222Z"
   },
   {
    "duration": 31,
    "start_time": "2023-09-16T12:31:07.254Z"
   },
   {
    "duration": 13,
    "start_time": "2023-09-16T12:31:07.286Z"
   },
   {
    "duration": 17,
    "start_time": "2023-09-16T12:31:07.301Z"
   },
   {
    "duration": 7,
    "start_time": "2023-09-16T12:31:07.320Z"
   },
   {
    "duration": 26,
    "start_time": "2023-09-16T12:31:07.328Z"
   },
   {
    "duration": 28,
    "start_time": "2023-09-16T12:31:07.355Z"
   },
   {
    "duration": 26,
    "start_time": "2023-09-16T12:31:07.385Z"
   },
   {
    "duration": 58,
    "start_time": "2023-09-16T12:31:07.413Z"
   },
   {
    "duration": 16,
    "start_time": "2023-09-16T12:31:07.477Z"
   },
   {
    "duration": 27,
    "start_time": "2023-09-16T12:31:07.494Z"
   },
   {
    "duration": 42,
    "start_time": "2023-09-16T12:31:07.523Z"
   },
   {
    "duration": 27,
    "start_time": "2023-09-16T12:31:07.567Z"
   },
   {
    "duration": 24,
    "start_time": "2023-09-16T12:31:07.597Z"
   },
   {
    "duration": 23,
    "start_time": "2023-09-16T12:31:07.623Z"
   },
   {
    "duration": 7,
    "start_time": "2023-09-16T12:31:07.648Z"
   },
   {
    "duration": 49,
    "start_time": "2023-09-16T12:31:07.657Z"
   },
   {
    "duration": 34,
    "start_time": "2023-09-16T12:31:07.708Z"
   },
   {
    "duration": 22,
    "start_time": "2023-09-16T12:31:07.744Z"
   },
   {
    "duration": 13,
    "start_time": "2023-09-16T12:31:07.767Z"
   },
   {
    "duration": 40,
    "start_time": "2023-09-16T12:31:07.782Z"
   },
   {
    "duration": 48,
    "start_time": "2023-09-16T12:31:07.825Z"
   },
   {
    "duration": 23,
    "start_time": "2023-09-16T12:31:07.875Z"
   },
   {
    "duration": 227,
    "start_time": "2023-09-16T12:31:07.900Z"
   },
   {
    "duration": 42,
    "start_time": "2023-09-16T12:31:08.130Z"
   },
   {
    "duration": 45,
    "start_time": "2023-09-16T12:31:08.174Z"
   },
   {
    "duration": 63,
    "start_time": "2023-09-16T12:31:08.222Z"
   },
   {
    "duration": 18,
    "start_time": "2023-09-16T12:31:08.287Z"
   },
   {
    "duration": 50,
    "start_time": "2023-09-16T12:31:08.306Z"
   },
   {
    "duration": 5,
    "start_time": "2023-09-16T12:31:08.358Z"
   },
   {
    "duration": 11,
    "start_time": "2023-09-16T12:31:08.365Z"
   },
   {
    "duration": 28,
    "start_time": "2023-09-16T12:31:08.378Z"
   },
   {
    "duration": 57,
    "start_time": "2023-09-16T12:31:08.408Z"
   },
   {
    "duration": 9,
    "start_time": "2023-09-16T12:31:08.466Z"
   },
   {
    "duration": 22,
    "start_time": "2023-09-16T12:31:08.477Z"
   },
   {
    "duration": 222,
    "start_time": "2023-09-16T12:31:08.501Z"
   },
   {
    "duration": 247,
    "start_time": "2023-09-16T12:31:08.725Z"
   },
   {
    "duration": 165,
    "start_time": "2023-09-16T12:31:08.974Z"
   },
   {
    "duration": 8,
    "start_time": "2023-09-16T12:31:09.140Z"
   },
   {
    "duration": 28,
    "start_time": "2023-09-16T12:31:09.150Z"
   },
   {
    "duration": 186,
    "start_time": "2023-09-16T12:31:09.179Z"
   },
   {
    "duration": 335,
    "start_time": "2023-09-16T12:31:09.367Z"
   },
   {
    "duration": 15,
    "start_time": "2023-09-16T12:31:09.703Z"
   },
   {
    "duration": 16,
    "start_time": "2023-09-16T12:31:09.720Z"
   },
   {
    "duration": 15,
    "start_time": "2023-09-16T12:31:09.738Z"
   },
   {
    "duration": 301,
    "start_time": "2023-09-16T12:31:09.754Z"
   },
   {
    "duration": 13,
    "start_time": "2023-09-16T12:31:10.057Z"
   },
   {
    "duration": 116,
    "start_time": "2023-09-16T12:31:10.072Z"
   },
   {
    "duration": 11,
    "start_time": "2023-09-16T12:31:10.190Z"
   },
   {
    "duration": 19,
    "start_time": "2023-09-16T12:31:10.203Z"
   },
   {
    "duration": 34,
    "start_time": "2023-09-16T12:31:10.224Z"
   },
   {
    "duration": 9,
    "start_time": "2023-09-16T12:31:10.260Z"
   },
   {
    "duration": 47,
    "start_time": "2023-09-16T12:31:10.271Z"
   },
   {
    "duration": 35,
    "start_time": "2023-09-16T12:38:14.043Z"
   },
   {
    "duration": 15,
    "start_time": "2023-09-16T12:40:06.497Z"
   },
   {
    "duration": 19,
    "start_time": "2023-09-16T12:41:00.862Z"
   },
   {
    "duration": 20,
    "start_time": "2023-09-16T12:41:47.034Z"
   },
   {
    "duration": 11,
    "start_time": "2023-09-16T12:42:33.835Z"
   },
   {
    "duration": 13,
    "start_time": "2023-09-16T12:45:00.573Z"
   },
   {
    "duration": 16,
    "start_time": "2023-09-16T12:48:45.554Z"
   },
   {
    "duration": 17,
    "start_time": "2023-09-16T12:49:24.207Z"
   },
   {
    "duration": 17,
    "start_time": "2023-09-16T12:51:36.454Z"
   },
   {
    "duration": 16,
    "start_time": "2023-09-16T12:52:13.694Z"
   },
   {
    "duration": 15,
    "start_time": "2023-09-16T12:52:21.202Z"
   },
   {
    "duration": 17,
    "start_time": "2023-09-16T12:52:30.590Z"
   },
   {
    "duration": 9,
    "start_time": "2023-09-16T12:52:41.028Z"
   },
   {
    "duration": 38,
    "start_time": "2023-09-16T12:52:41.039Z"
   },
   {
    "duration": 649,
    "start_time": "2023-09-16T12:52:41.078Z"
   },
   {
    "duration": 3,
    "start_time": "2023-09-16T12:52:41.729Z"
   },
   {
    "duration": 149,
    "start_time": "2023-09-16T12:52:41.734Z"
   },
   {
    "duration": 18,
    "start_time": "2023-09-16T12:52:41.885Z"
   },
   {
    "duration": 24,
    "start_time": "2023-09-16T12:52:41.904Z"
   },
   {
    "duration": 59,
    "start_time": "2023-09-16T12:52:41.930Z"
   },
   {
    "duration": 60,
    "start_time": "2023-09-16T12:52:41.991Z"
   },
   {
    "duration": 111,
    "start_time": "2023-09-16T12:52:42.054Z"
   },
   {
    "duration": 59,
    "start_time": "2023-09-16T12:52:42.166Z"
   },
   {
    "duration": 54,
    "start_time": "2023-09-16T12:52:42.227Z"
   },
   {
    "duration": 20,
    "start_time": "2023-09-16T12:52:42.283Z"
   },
   {
    "duration": 43,
    "start_time": "2023-09-16T12:52:42.304Z"
   },
   {
    "duration": 35,
    "start_time": "2023-09-16T12:52:42.349Z"
   },
   {
    "duration": 16,
    "start_time": "2023-09-16T12:52:42.386Z"
   },
   {
    "duration": 70,
    "start_time": "2023-09-16T12:52:42.404Z"
   },
   {
    "duration": 24,
    "start_time": "2023-09-16T12:52:42.475Z"
   },
   {
    "duration": 60,
    "start_time": "2023-09-16T12:52:42.501Z"
   },
   {
    "duration": 13,
    "start_time": "2023-09-16T12:52:42.563Z"
   },
   {
    "duration": 15,
    "start_time": "2023-09-16T12:52:42.578Z"
   },
   {
    "duration": 41,
    "start_time": "2023-09-16T12:52:42.595Z"
   },
   {
    "duration": 21,
    "start_time": "2023-09-16T12:52:42.638Z"
   },
   {
    "duration": 60,
    "start_time": "2023-09-16T12:52:42.661Z"
   },
   {
    "duration": 17,
    "start_time": "2023-09-16T12:52:42.722Z"
   },
   {
    "duration": 15,
    "start_time": "2023-09-16T12:52:42.740Z"
   },
   {
    "duration": 15,
    "start_time": "2023-09-16T12:52:42.757Z"
   },
   {
    "duration": 14,
    "start_time": "2023-09-16T12:52:42.777Z"
   },
   {
    "duration": 34,
    "start_time": "2023-09-16T12:52:42.793Z"
   },
   {
    "duration": 23,
    "start_time": "2023-09-16T12:52:42.829Z"
   },
   {
    "duration": 30,
    "start_time": "2023-09-16T12:52:42.854Z"
   },
   {
    "duration": 11,
    "start_time": "2023-09-16T12:52:42.886Z"
   },
   {
    "duration": 49,
    "start_time": "2023-09-16T12:52:42.899Z"
   },
   {
    "duration": 20,
    "start_time": "2023-09-16T12:52:42.950Z"
   },
   {
    "duration": 24,
    "start_time": "2023-09-16T12:52:42.972Z"
   },
   {
    "duration": 19,
    "start_time": "2023-09-16T12:52:42.997Z"
   },
   {
    "duration": 18,
    "start_time": "2023-09-16T12:52:43.017Z"
   },
   {
    "duration": 40,
    "start_time": "2023-09-16T12:52:43.037Z"
   },
   {
    "duration": 25,
    "start_time": "2023-09-16T12:52:43.079Z"
   },
   {
    "duration": 27,
    "start_time": "2023-09-16T12:52:43.106Z"
   },
   {
    "duration": 28,
    "start_time": "2023-09-16T12:52:43.135Z"
   },
   {
    "duration": 36,
    "start_time": "2023-09-16T12:52:43.164Z"
   },
   {
    "duration": 58,
    "start_time": "2023-09-16T12:52:43.202Z"
   },
   {
    "duration": 40,
    "start_time": "2023-09-16T12:52:43.262Z"
   },
   {
    "duration": 5,
    "start_time": "2023-09-16T12:52:43.304Z"
   },
   {
    "duration": 36,
    "start_time": "2023-09-16T12:52:43.310Z"
   },
   {
    "duration": 27,
    "start_time": "2023-09-16T12:52:43.347Z"
   },
   {
    "duration": 55,
    "start_time": "2023-09-16T12:52:43.376Z"
   },
   {
    "duration": 27,
    "start_time": "2023-09-16T12:52:43.433Z"
   },
   {
    "duration": 20,
    "start_time": "2023-09-16T12:52:43.462Z"
   },
   {
    "duration": 11,
    "start_time": "2023-09-16T12:52:43.483Z"
   },
   {
    "duration": 37,
    "start_time": "2023-09-16T12:52:43.495Z"
   },
   {
    "duration": 13,
    "start_time": "2023-09-16T12:52:43.534Z"
   },
   {
    "duration": 25,
    "start_time": "2023-09-16T12:52:43.549Z"
   },
   {
    "duration": 17,
    "start_time": "2023-09-16T12:52:43.576Z"
   },
   {
    "duration": 20,
    "start_time": "2023-09-16T12:52:43.595Z"
   },
   {
    "duration": 32,
    "start_time": "2023-09-16T12:52:43.617Z"
   },
   {
    "duration": 45,
    "start_time": "2023-09-16T12:52:43.651Z"
   },
   {
    "duration": 17,
    "start_time": "2023-09-16T12:52:43.698Z"
   },
   {
    "duration": 39,
    "start_time": "2023-09-16T12:52:43.717Z"
   },
   {
    "duration": 6,
    "start_time": "2023-09-16T12:52:43.758Z"
   },
   {
    "duration": 24,
    "start_time": "2023-09-16T12:52:43.765Z"
   },
   {
    "duration": 53,
    "start_time": "2023-09-16T12:52:43.791Z"
   },
   {
    "duration": 34,
    "start_time": "2023-09-16T12:52:43.846Z"
   },
   {
    "duration": 9,
    "start_time": "2023-09-16T12:52:43.882Z"
   },
   {
    "duration": 82,
    "start_time": "2023-09-16T12:52:43.892Z"
   },
   {
    "duration": 234,
    "start_time": "2023-09-16T12:52:43.975Z"
   },
   {
    "duration": 227,
    "start_time": "2023-09-16T12:52:44.210Z"
   },
   {
    "duration": 150,
    "start_time": "2023-09-16T12:52:44.439Z"
   },
   {
    "duration": 6,
    "start_time": "2023-09-16T12:52:44.591Z"
   },
   {
    "duration": 27,
    "start_time": "2023-09-16T12:52:44.599Z"
   },
   {
    "duration": 183,
    "start_time": "2023-09-16T12:52:44.628Z"
   },
   {
    "duration": 320,
    "start_time": "2023-09-16T12:52:44.813Z"
   },
   {
    "duration": 14,
    "start_time": "2023-09-16T12:52:45.135Z"
   },
   {
    "duration": 18,
    "start_time": "2023-09-16T12:52:45.151Z"
   },
   {
    "duration": 27,
    "start_time": "2023-09-16T12:52:45.171Z"
   },
   {
    "duration": 301,
    "start_time": "2023-09-16T12:52:45.199Z"
   },
   {
    "duration": 12,
    "start_time": "2023-09-16T12:52:45.502Z"
   },
   {
    "duration": 41,
    "start_time": "2023-09-16T12:52:45.516Z"
   },
   {
    "duration": 7,
    "start_time": "2023-09-16T12:52:45.559Z"
   },
   {
    "duration": 17,
    "start_time": "2023-09-16T12:52:45.568Z"
   },
   {
    "duration": 25,
    "start_time": "2023-09-16T12:52:45.590Z"
   },
   {
    "duration": 9,
    "start_time": "2023-09-16T12:52:45.617Z"
   },
   {
    "duration": 23,
    "start_time": "2023-09-16T12:52:45.627Z"
   },
   {
    "duration": 36,
    "start_time": "2023-09-16T12:52:45.651Z"
   },
   {
    "duration": 27,
    "start_time": "2023-09-16T12:52:45.688Z"
   },
   {
    "duration": 17,
    "start_time": "2023-09-16T12:53:00.833Z"
   },
   {
    "duration": 18,
    "start_time": "2023-09-16T12:53:20.698Z"
   },
   {
    "duration": 9,
    "start_time": "2023-09-16T12:53:27.267Z"
   },
   {
    "duration": 8,
    "start_time": "2023-09-16T12:53:27.277Z"
   },
   {
    "duration": 666,
    "start_time": "2023-09-16T12:53:27.287Z"
   },
   {
    "duration": 3,
    "start_time": "2023-09-16T12:53:27.955Z"
   },
   {
    "duration": 138,
    "start_time": "2023-09-16T12:53:27.960Z"
   },
   {
    "duration": 20,
    "start_time": "2023-09-16T12:53:28.100Z"
   },
   {
    "duration": 14,
    "start_time": "2023-09-16T12:53:28.122Z"
   },
   {
    "duration": 28,
    "start_time": "2023-09-16T12:53:28.138Z"
   },
   {
    "duration": 30,
    "start_time": "2023-09-16T12:53:28.168Z"
   },
   {
    "duration": 9,
    "start_time": "2023-09-16T12:53:28.201Z"
   },
   {
    "duration": 19,
    "start_time": "2023-09-16T12:53:28.212Z"
   },
   {
    "duration": 33,
    "start_time": "2023-09-16T12:53:28.233Z"
   },
   {
    "duration": 9,
    "start_time": "2023-09-16T12:53:28.268Z"
   },
   {
    "duration": 20,
    "start_time": "2023-09-16T12:53:28.279Z"
   },
   {
    "duration": 15,
    "start_time": "2023-09-16T12:53:28.301Z"
   },
   {
    "duration": 12,
    "start_time": "2023-09-16T12:53:28.317Z"
   },
   {
    "duration": 11,
    "start_time": "2023-09-16T12:53:28.330Z"
   },
   {
    "duration": 14,
    "start_time": "2023-09-16T12:53:28.342Z"
   },
   {
    "duration": 7,
    "start_time": "2023-09-16T12:53:28.358Z"
   },
   {
    "duration": 3,
    "start_time": "2023-09-16T12:53:28.367Z"
   },
   {
    "duration": 10,
    "start_time": "2023-09-16T12:53:28.372Z"
   },
   {
    "duration": 6,
    "start_time": "2023-09-16T12:53:28.384Z"
   },
   {
    "duration": 26,
    "start_time": "2023-09-16T12:53:28.391Z"
   },
   {
    "duration": 64,
    "start_time": "2023-09-16T12:53:28.419Z"
   },
   {
    "duration": 18,
    "start_time": "2023-09-16T12:53:28.484Z"
   },
   {
    "duration": 22,
    "start_time": "2023-09-16T12:53:28.503Z"
   },
   {
    "duration": 29,
    "start_time": "2023-09-16T12:53:28.527Z"
   },
   {
    "duration": 30,
    "start_time": "2023-09-16T12:53:28.560Z"
   },
   {
    "duration": 17,
    "start_time": "2023-09-16T12:53:28.592Z"
   },
   {
    "duration": 29,
    "start_time": "2023-09-16T12:53:28.610Z"
   },
   {
    "duration": 32,
    "start_time": "2023-09-16T12:53:28.640Z"
   },
   {
    "duration": 11,
    "start_time": "2023-09-16T12:53:28.674Z"
   },
   {
    "duration": 24,
    "start_time": "2023-09-16T12:53:28.686Z"
   },
   {
    "duration": 12,
    "start_time": "2023-09-16T12:53:28.711Z"
   },
   {
    "duration": 21,
    "start_time": "2023-09-16T12:53:28.725Z"
   },
   {
    "duration": 22,
    "start_time": "2023-09-16T12:53:28.748Z"
   },
   {
    "duration": 22,
    "start_time": "2023-09-16T12:53:28.771Z"
   },
   {
    "duration": 43,
    "start_time": "2023-09-16T12:53:28.795Z"
   },
   {
    "duration": 24,
    "start_time": "2023-09-16T12:53:28.839Z"
   },
   {
    "duration": 28,
    "start_time": "2023-09-16T12:53:28.865Z"
   },
   {
    "duration": 16,
    "start_time": "2023-09-16T12:53:28.894Z"
   },
   {
    "duration": 39,
    "start_time": "2023-09-16T12:53:28.912Z"
   },
   {
    "duration": 39,
    "start_time": "2023-09-16T12:53:28.953Z"
   },
   {
    "duration": 28,
    "start_time": "2023-09-16T12:53:28.994Z"
   },
   {
    "duration": 5,
    "start_time": "2023-09-16T12:53:29.025Z"
   },
   {
    "duration": 28,
    "start_time": "2023-09-16T12:53:29.032Z"
   },
   {
    "duration": 5,
    "start_time": "2023-09-16T12:53:29.061Z"
   },
   {
    "duration": 10,
    "start_time": "2023-09-16T12:53:29.068Z"
   },
   {
    "duration": 34,
    "start_time": "2023-09-16T12:53:29.080Z"
   },
   {
    "duration": 20,
    "start_time": "2023-09-16T12:53:29.115Z"
   },
   {
    "duration": 12,
    "start_time": "2023-09-16T12:53:29.137Z"
   },
   {
    "duration": 30,
    "start_time": "2023-09-16T12:53:29.150Z"
   },
   {
    "duration": 16,
    "start_time": "2023-09-16T12:53:29.181Z"
   },
   {
    "duration": 25,
    "start_time": "2023-09-16T12:53:29.199Z"
   },
   {
    "duration": 37,
    "start_time": "2023-09-16T12:53:29.226Z"
   },
   {
    "duration": 20,
    "start_time": "2023-09-16T12:53:29.265Z"
   },
   {
    "duration": 24,
    "start_time": "2023-09-16T12:53:29.287Z"
   },
   {
    "duration": 52,
    "start_time": "2023-09-16T12:53:29.313Z"
   },
   {
    "duration": 15,
    "start_time": "2023-09-16T12:53:29.367Z"
   },
   {
    "duration": 46,
    "start_time": "2023-09-16T12:53:29.384Z"
   },
   {
    "duration": 15,
    "start_time": "2023-09-16T12:53:29.432Z"
   },
   {
    "duration": 6,
    "start_time": "2023-09-16T12:53:29.448Z"
   },
   {
    "duration": 31,
    "start_time": "2023-09-16T12:53:29.456Z"
   },
   {
    "duration": 58,
    "start_time": "2023-09-16T12:53:29.489Z"
   },
   {
    "duration": 10,
    "start_time": "2023-09-16T12:53:29.549Z"
   },
   {
    "duration": 19,
    "start_time": "2023-09-16T12:53:29.561Z"
   },
   {
    "duration": 219,
    "start_time": "2023-09-16T12:53:29.581Z"
   },
   {
    "duration": 239,
    "start_time": "2023-09-16T12:53:29.802Z"
   },
   {
    "duration": 164,
    "start_time": "2023-09-16T12:53:30.044Z"
   },
   {
    "duration": 4,
    "start_time": "2023-09-16T12:53:30.210Z"
   },
   {
    "duration": 50,
    "start_time": "2023-09-16T12:53:30.215Z"
   },
   {
    "duration": 241,
    "start_time": "2023-09-16T12:53:30.266Z"
   },
   {
    "duration": 333,
    "start_time": "2023-09-16T12:53:30.509Z"
   },
   {
    "duration": 16,
    "start_time": "2023-09-16T12:53:30.845Z"
   },
   {
    "duration": 39,
    "start_time": "2023-09-16T12:53:30.863Z"
   },
   {
    "duration": 37,
    "start_time": "2023-09-16T12:53:30.904Z"
   },
   {
    "duration": 372,
    "start_time": "2023-09-16T12:53:30.943Z"
   },
   {
    "duration": 13,
    "start_time": "2023-09-16T12:53:31.317Z"
   },
   {
    "duration": 67,
    "start_time": "2023-09-16T12:53:31.331Z"
   },
   {
    "duration": 75,
    "start_time": "2023-09-16T12:53:31.399Z"
   },
   {
    "duration": 52,
    "start_time": "2023-09-16T12:53:31.476Z"
   },
   {
    "duration": 35,
    "start_time": "2023-09-16T12:53:31.533Z"
   },
   {
    "duration": 33,
    "start_time": "2023-09-16T12:53:31.570Z"
   },
   {
    "duration": 25,
    "start_time": "2023-09-16T12:53:31.605Z"
   },
   {
    "duration": 53,
    "start_time": "2023-09-16T12:53:31.632Z"
   },
   {
    "duration": 24,
    "start_time": "2023-09-16T12:53:31.686Z"
   },
   {
    "duration": 12,
    "start_time": "2023-09-16T12:53:54.122Z"
   },
   {
    "duration": 12,
    "start_time": "2023-09-16T13:01:10.829Z"
   },
   {
    "duration": 79,
    "start_time": "2023-09-16T13:08:23.704Z"
   },
   {
    "duration": 14,
    "start_time": "2023-09-16T13:11:02.928Z"
   },
   {
    "duration": 10,
    "start_time": "2023-09-16T13:11:43.932Z"
   },
   {
    "duration": 6,
    "start_time": "2023-09-16T13:11:43.945Z"
   },
   {
    "duration": 707,
    "start_time": "2023-09-16T13:11:43.953Z"
   },
   {
    "duration": 2,
    "start_time": "2023-09-16T13:11:44.662Z"
   },
   {
    "duration": 153,
    "start_time": "2023-09-16T13:11:44.666Z"
   },
   {
    "duration": 18,
    "start_time": "2023-09-16T13:11:44.820Z"
   },
   {
    "duration": 29,
    "start_time": "2023-09-16T13:11:44.839Z"
   },
   {
    "duration": 23,
    "start_time": "2023-09-16T13:11:44.870Z"
   },
   {
    "duration": 12,
    "start_time": "2023-09-16T13:11:44.895Z"
   },
   {
    "duration": 20,
    "start_time": "2023-09-16T13:11:44.909Z"
   },
   {
    "duration": 22,
    "start_time": "2023-09-16T13:11:44.931Z"
   },
   {
    "duration": 19,
    "start_time": "2023-09-16T13:11:44.955Z"
   },
   {
    "duration": 8,
    "start_time": "2023-09-16T13:11:44.976Z"
   },
   {
    "duration": 63,
    "start_time": "2023-09-16T13:11:44.987Z"
   },
   {
    "duration": 36,
    "start_time": "2023-09-16T13:11:45.052Z"
   },
   {
    "duration": 26,
    "start_time": "2023-09-16T13:11:45.090Z"
   },
   {
    "duration": 8,
    "start_time": "2023-09-16T13:11:45.118Z"
   },
   {
    "duration": 11,
    "start_time": "2023-09-16T13:11:45.128Z"
   },
   {
    "duration": 23,
    "start_time": "2023-09-16T13:11:45.141Z"
   },
   {
    "duration": 13,
    "start_time": "2023-09-16T13:11:45.165Z"
   },
   {
    "duration": 26,
    "start_time": "2023-09-16T13:11:45.179Z"
   },
   {
    "duration": 13,
    "start_time": "2023-09-16T13:11:45.207Z"
   },
   {
    "duration": 13,
    "start_time": "2023-09-16T13:11:45.222Z"
   },
   {
    "duration": 85,
    "start_time": "2023-09-16T13:11:45.237Z"
   },
   {
    "duration": 23,
    "start_time": "2023-09-16T13:11:45.325Z"
   },
   {
    "duration": 17,
    "start_time": "2023-09-16T13:11:45.350Z"
   },
   {
    "duration": 29,
    "start_time": "2023-09-16T13:11:45.369Z"
   },
   {
    "duration": 22,
    "start_time": "2023-09-16T13:11:45.400Z"
   },
   {
    "duration": 56,
    "start_time": "2023-09-16T13:11:45.424Z"
   },
   {
    "duration": 12,
    "start_time": "2023-09-16T13:11:45.482Z"
   },
   {
    "duration": 29,
    "start_time": "2023-09-16T13:11:45.496Z"
   },
   {
    "duration": 12,
    "start_time": "2023-09-16T13:11:45.527Z"
   },
   {
    "duration": 31,
    "start_time": "2023-09-16T13:11:45.541Z"
   },
   {
    "duration": 23,
    "start_time": "2023-09-16T13:11:45.574Z"
   },
   {
    "duration": 21,
    "start_time": "2023-09-16T13:11:45.599Z"
   },
   {
    "duration": 12,
    "start_time": "2023-09-16T13:11:45.621Z"
   },
   {
    "duration": 27,
    "start_time": "2023-09-16T13:11:45.634Z"
   },
   {
    "duration": 27,
    "start_time": "2023-09-16T13:11:45.663Z"
   },
   {
    "duration": 26,
    "start_time": "2023-09-16T13:11:45.692Z"
   },
   {
    "duration": 42,
    "start_time": "2023-09-16T13:11:45.720Z"
   },
   {
    "duration": 16,
    "start_time": "2023-09-16T13:11:45.767Z"
   },
   {
    "duration": 32,
    "start_time": "2023-09-16T13:11:45.784Z"
   },
   {
    "duration": 32,
    "start_time": "2023-09-16T13:11:45.817Z"
   },
   {
    "duration": 22,
    "start_time": "2023-09-16T13:11:45.850Z"
   },
   {
    "duration": 6,
    "start_time": "2023-09-16T13:11:45.873Z"
   },
   {
    "duration": 26,
    "start_time": "2023-09-16T13:11:45.880Z"
   },
   {
    "duration": 11,
    "start_time": "2023-09-16T13:11:45.908Z"
   },
   {
    "duration": 26,
    "start_time": "2023-09-16T13:11:45.921Z"
   },
   {
    "duration": 22,
    "start_time": "2023-09-16T13:11:45.949Z"
   },
   {
    "duration": 8,
    "start_time": "2023-09-16T13:11:45.973Z"
   },
   {
    "duration": 7,
    "start_time": "2023-09-16T13:11:45.983Z"
   },
   {
    "duration": 10,
    "start_time": "2023-09-16T13:11:45.991Z"
   },
   {
    "duration": 7,
    "start_time": "2023-09-16T13:11:46.003Z"
   },
   {
    "duration": 50,
    "start_time": "2023-09-16T13:11:46.011Z"
   },
   {
    "duration": 16,
    "start_time": "2023-09-16T13:11:46.063Z"
   },
   {
    "duration": 22,
    "start_time": "2023-09-16T13:11:46.081Z"
   },
   {
    "duration": 8,
    "start_time": "2023-09-16T13:11:46.105Z"
   },
   {
    "duration": 24,
    "start_time": "2023-09-16T13:11:46.146Z"
   },
   {
    "duration": 15,
    "start_time": "2023-09-16T13:11:46.172Z"
   },
   {
    "duration": 59,
    "start_time": "2023-09-16T13:11:46.189Z"
   },
   {
    "duration": 6,
    "start_time": "2023-09-16T13:11:46.250Z"
   },
   {
    "duration": 11,
    "start_time": "2023-09-16T13:11:46.257Z"
   },
   {
    "duration": 28,
    "start_time": "2023-09-16T13:11:46.269Z"
   },
   {
    "duration": 64,
    "start_time": "2023-09-16T13:11:46.299Z"
   },
   {
    "duration": 9,
    "start_time": "2023-09-16T13:11:46.364Z"
   },
   {
    "duration": 32,
    "start_time": "2023-09-16T13:11:46.374Z"
   },
   {
    "duration": 192,
    "start_time": "2023-09-16T13:11:46.407Z"
   },
   {
    "duration": 231,
    "start_time": "2023-09-16T13:11:46.601Z"
   },
   {
    "duration": 160,
    "start_time": "2023-09-16T13:11:46.833Z"
   },
   {
    "duration": 6,
    "start_time": "2023-09-16T13:11:46.994Z"
   },
   {
    "duration": 19,
    "start_time": "2023-09-16T13:11:47.001Z"
   },
   {
    "duration": 187,
    "start_time": "2023-09-16T13:11:47.022Z"
   },
   {
    "duration": 318,
    "start_time": "2023-09-16T13:11:47.211Z"
   },
   {
    "duration": 13,
    "start_time": "2023-09-16T13:11:47.531Z"
   },
   {
    "duration": 20,
    "start_time": "2023-09-16T13:11:47.546Z"
   },
   {
    "duration": 9,
    "start_time": "2023-09-16T13:11:47.568Z"
   },
   {
    "duration": 252,
    "start_time": "2023-09-16T13:11:47.579Z"
   },
   {
    "duration": 19,
    "start_time": "2023-09-16T13:11:47.832Z"
   },
   {
    "duration": 41,
    "start_time": "2023-09-16T13:11:47.852Z"
   },
   {
    "duration": 8,
    "start_time": "2023-09-16T13:11:47.894Z"
   },
   {
    "duration": 20,
    "start_time": "2023-09-16T13:11:47.904Z"
   },
   {
    "duration": 35,
    "start_time": "2023-09-16T13:11:47.926Z"
   },
   {
    "duration": 16,
    "start_time": "2023-09-16T13:11:47.962Z"
   },
   {
    "duration": 24,
    "start_time": "2023-09-16T13:11:47.979Z"
   },
   {
    "duration": 22,
    "start_time": "2023-09-16T13:11:48.004Z"
   },
   {
    "duration": 76,
    "start_time": "2023-09-16T13:11:48.028Z"
   },
   {
    "duration": 0,
    "start_time": "2023-09-16T13:11:48.106Z"
   },
   {
    "duration": 13,
    "start_time": "2023-09-16T13:12:38.721Z"
   },
   {
    "duration": 15,
    "start_time": "2023-09-16T13:13:14.046Z"
   },
   {
    "duration": 9,
    "start_time": "2023-09-16T13:13:21.118Z"
   },
   {
    "duration": 8,
    "start_time": "2023-09-16T13:13:21.129Z"
   },
   {
    "duration": 691,
    "start_time": "2023-09-16T13:13:21.139Z"
   },
   {
    "duration": 3,
    "start_time": "2023-09-16T13:13:21.832Z"
   },
   {
    "duration": 141,
    "start_time": "2023-09-16T13:13:21.837Z"
   },
   {
    "duration": 18,
    "start_time": "2023-09-16T13:13:21.980Z"
   },
   {
    "duration": 14,
    "start_time": "2023-09-16T13:13:21.999Z"
   },
   {
    "duration": 18,
    "start_time": "2023-09-16T13:13:22.015Z"
   },
   {
    "duration": 11,
    "start_time": "2023-09-16T13:13:22.035Z"
   },
   {
    "duration": 7,
    "start_time": "2023-09-16T13:13:22.049Z"
   },
   {
    "duration": 19,
    "start_time": "2023-09-16T13:13:22.057Z"
   },
   {
    "duration": 28,
    "start_time": "2023-09-16T13:13:22.077Z"
   },
   {
    "duration": 9,
    "start_time": "2023-09-16T13:13:22.107Z"
   },
   {
    "duration": 14,
    "start_time": "2023-09-16T13:13:22.118Z"
   },
   {
    "duration": 27,
    "start_time": "2023-09-16T13:13:22.134Z"
   },
   {
    "duration": 8,
    "start_time": "2023-09-16T13:13:22.162Z"
   },
   {
    "duration": 10,
    "start_time": "2023-09-16T13:13:22.172Z"
   },
   {
    "duration": 11,
    "start_time": "2023-09-16T13:13:22.184Z"
   },
   {
    "duration": 12,
    "start_time": "2023-09-16T13:13:22.196Z"
   },
   {
    "duration": 4,
    "start_time": "2023-09-16T13:13:22.210Z"
   },
   {
    "duration": 9,
    "start_time": "2023-09-16T13:13:22.216Z"
   },
   {
    "duration": 6,
    "start_time": "2023-09-16T13:13:22.247Z"
   },
   {
    "duration": 12,
    "start_time": "2023-09-16T13:13:22.255Z"
   },
   {
    "duration": 80,
    "start_time": "2023-09-16T13:13:22.268Z"
   },
   {
    "duration": 18,
    "start_time": "2023-09-16T13:13:22.350Z"
   },
   {
    "duration": 19,
    "start_time": "2023-09-16T13:13:22.370Z"
   },
   {
    "duration": 20,
    "start_time": "2023-09-16T13:13:22.391Z"
   },
   {
    "duration": 31,
    "start_time": "2023-09-16T13:13:22.417Z"
   },
   {
    "duration": 27,
    "start_time": "2023-09-16T13:13:22.449Z"
   },
   {
    "duration": 11,
    "start_time": "2023-09-16T13:13:22.478Z"
   },
   {
    "duration": 28,
    "start_time": "2023-09-16T13:13:22.491Z"
   },
   {
    "duration": 14,
    "start_time": "2023-09-16T13:13:22.521Z"
   },
   {
    "duration": 17,
    "start_time": "2023-09-16T13:13:22.546Z"
   },
   {
    "duration": 13,
    "start_time": "2023-09-16T13:13:22.564Z"
   },
   {
    "duration": 11,
    "start_time": "2023-09-16T13:13:22.579Z"
   },
   {
    "duration": 22,
    "start_time": "2023-09-16T13:13:22.592Z"
   },
   {
    "duration": 15,
    "start_time": "2023-09-16T13:13:22.616Z"
   },
   {
    "duration": 31,
    "start_time": "2023-09-16T13:13:22.632Z"
   },
   {
    "duration": 23,
    "start_time": "2023-09-16T13:13:22.665Z"
   },
   {
    "duration": 27,
    "start_time": "2023-09-16T13:13:22.690Z"
   },
   {
    "duration": 41,
    "start_time": "2023-09-16T13:13:22.719Z"
   },
   {
    "duration": 21,
    "start_time": "2023-09-16T13:13:22.762Z"
   },
   {
    "duration": 28,
    "start_time": "2023-09-16T13:13:22.785Z"
   },
   {
    "duration": 25,
    "start_time": "2023-09-16T13:13:22.815Z"
   },
   {
    "duration": 5,
    "start_time": "2023-09-16T13:13:22.847Z"
   },
   {
    "duration": 23,
    "start_time": "2023-09-16T13:13:22.853Z"
   },
   {
    "duration": 5,
    "start_time": "2023-09-16T13:13:22.878Z"
   },
   {
    "duration": 6,
    "start_time": "2023-09-16T13:13:22.885Z"
   },
   {
    "duration": 15,
    "start_time": "2023-09-16T13:13:22.893Z"
   },
   {
    "duration": 17,
    "start_time": "2023-09-16T13:13:22.909Z"
   },
   {
    "duration": 8,
    "start_time": "2023-09-16T13:13:22.946Z"
   },
   {
    "duration": 17,
    "start_time": "2023-09-16T13:13:22.955Z"
   },
   {
    "duration": 6,
    "start_time": "2023-09-16T13:13:22.974Z"
   },
   {
    "duration": 22,
    "start_time": "2023-09-16T13:13:22.981Z"
   },
   {
    "duration": 17,
    "start_time": "2023-09-16T13:13:23.005Z"
   },
   {
    "duration": 41,
    "start_time": "2023-09-16T13:13:23.024Z"
   },
   {
    "duration": 15,
    "start_time": "2023-09-16T13:13:23.067Z"
   },
   {
    "duration": 30,
    "start_time": "2023-09-16T13:13:23.083Z"
   },
   {
    "duration": 16,
    "start_time": "2023-09-16T13:13:23.114Z"
   },
   {
    "duration": 49,
    "start_time": "2023-09-16T13:13:23.132Z"
   },
   {
    "duration": 6,
    "start_time": "2023-09-16T13:13:23.182Z"
   },
   {
    "duration": 21,
    "start_time": "2023-09-16T13:13:23.189Z"
   },
   {
    "duration": 44,
    "start_time": "2023-09-16T13:13:23.212Z"
   },
   {
    "duration": 31,
    "start_time": "2023-09-16T13:13:23.258Z"
   },
   {
    "duration": 8,
    "start_time": "2023-09-16T13:13:23.291Z"
   },
   {
    "duration": 25,
    "start_time": "2023-09-16T13:13:23.301Z"
   },
   {
    "duration": 224,
    "start_time": "2023-09-16T13:13:23.329Z"
   },
   {
    "duration": 230,
    "start_time": "2023-09-16T13:13:23.555Z"
   },
   {
    "duration": 148,
    "start_time": "2023-09-16T13:13:23.786Z"
   },
   {
    "duration": 11,
    "start_time": "2023-09-16T13:13:23.936Z"
   },
   {
    "duration": 34,
    "start_time": "2023-09-16T13:13:23.948Z"
   },
   {
    "duration": 206,
    "start_time": "2023-09-16T13:13:23.984Z"
   },
   {
    "duration": 313,
    "start_time": "2023-09-16T13:13:24.192Z"
   },
   {
    "duration": 12,
    "start_time": "2023-09-16T13:13:24.507Z"
   },
   {
    "duration": 31,
    "start_time": "2023-09-16T13:13:24.521Z"
   },
   {
    "duration": 27,
    "start_time": "2023-09-16T13:13:24.554Z"
   },
   {
    "duration": 281,
    "start_time": "2023-09-16T13:13:24.583Z"
   },
   {
    "duration": 14,
    "start_time": "2023-09-16T13:13:24.866Z"
   },
   {
    "duration": 32,
    "start_time": "2023-09-16T13:13:24.881Z"
   },
   {
    "duration": 9,
    "start_time": "2023-09-16T13:13:24.915Z"
   },
   {
    "duration": 35,
    "start_time": "2023-09-16T13:13:24.925Z"
   },
   {
    "duration": 11,
    "start_time": "2023-09-16T13:13:24.966Z"
   },
   {
    "duration": 7,
    "start_time": "2023-09-16T13:13:24.979Z"
   },
   {
    "duration": 19,
    "start_time": "2023-09-16T13:13:24.988Z"
   },
   {
    "duration": 49,
    "start_time": "2023-09-16T13:13:25.009Z"
   },
   {
    "duration": 50,
    "start_time": "2023-09-16T13:13:25.060Z"
   },
   {
    "duration": 8,
    "start_time": "2023-09-16T13:13:25.112Z"
   },
   {
    "duration": 14,
    "start_time": "2023-09-16T13:13:53.473Z"
   },
   {
    "duration": 7,
    "start_time": "2023-09-16T13:14:08.034Z"
   },
   {
    "duration": 11,
    "start_time": "2023-09-16T13:14:13.626Z"
   },
   {
    "duration": 9,
    "start_time": "2023-09-16T13:14:21.953Z"
   },
   {
    "duration": 19,
    "start_time": "2023-09-16T13:14:21.964Z"
   },
   {
    "duration": 673,
    "start_time": "2023-09-16T13:14:21.985Z"
   },
   {
    "duration": 3,
    "start_time": "2023-09-16T13:14:22.660Z"
   },
   {
    "duration": 132,
    "start_time": "2023-09-16T13:14:22.665Z"
   },
   {
    "duration": 18,
    "start_time": "2023-09-16T13:14:22.799Z"
   },
   {
    "duration": 14,
    "start_time": "2023-09-16T13:14:22.818Z"
   },
   {
    "duration": 20,
    "start_time": "2023-09-16T13:14:22.834Z"
   },
   {
    "duration": 7,
    "start_time": "2023-09-16T13:14:22.856Z"
   },
   {
    "duration": 6,
    "start_time": "2023-09-16T13:14:22.867Z"
   },
   {
    "duration": 11,
    "start_time": "2023-09-16T13:14:22.875Z"
   },
   {
    "duration": 17,
    "start_time": "2023-09-16T13:14:22.888Z"
   },
   {
    "duration": 40,
    "start_time": "2023-09-16T13:14:22.907Z"
   },
   {
    "duration": 9,
    "start_time": "2023-09-16T13:14:22.949Z"
   },
   {
    "duration": 22,
    "start_time": "2023-09-16T13:14:22.960Z"
   },
   {
    "duration": 15,
    "start_time": "2023-09-16T13:14:22.984Z"
   },
   {
    "duration": 6,
    "start_time": "2023-09-16T13:14:23.001Z"
   },
   {
    "duration": 14,
    "start_time": "2023-09-16T13:14:23.009Z"
   },
   {
    "duration": 26,
    "start_time": "2023-09-16T13:14:23.025Z"
   },
   {
    "duration": 5,
    "start_time": "2023-09-16T13:14:23.052Z"
   },
   {
    "duration": 13,
    "start_time": "2023-09-16T13:14:23.058Z"
   },
   {
    "duration": 7,
    "start_time": "2023-09-16T13:14:23.073Z"
   },
   {
    "duration": 13,
    "start_time": "2023-09-16T13:14:23.081Z"
   },
   {
    "duration": 74,
    "start_time": "2023-09-16T13:14:23.095Z"
   },
   {
    "duration": 17,
    "start_time": "2023-09-16T13:14:23.171Z"
   },
   {
    "duration": 14,
    "start_time": "2023-09-16T13:14:23.190Z"
   },
   {
    "duration": 21,
    "start_time": "2023-09-16T13:14:23.205Z"
   },
   {
    "duration": 11,
    "start_time": "2023-09-16T13:14:23.248Z"
   },
   {
    "duration": 26,
    "start_time": "2023-09-16T13:14:23.261Z"
   },
   {
    "duration": 11,
    "start_time": "2023-09-16T13:14:23.288Z"
   },
   {
    "duration": 21,
    "start_time": "2023-09-16T13:14:23.301Z"
   },
   {
    "duration": 29,
    "start_time": "2023-09-16T13:14:23.325Z"
   },
   {
    "duration": 18,
    "start_time": "2023-09-16T13:14:23.356Z"
   },
   {
    "duration": 23,
    "start_time": "2023-09-16T13:14:23.375Z"
   },
   {
    "duration": 11,
    "start_time": "2023-09-16T13:14:23.399Z"
   },
   {
    "duration": 6,
    "start_time": "2023-09-16T13:14:23.412Z"
   },
   {
    "duration": 30,
    "start_time": "2023-09-16T13:14:23.419Z"
   },
   {
    "duration": 25,
    "start_time": "2023-09-16T13:14:23.451Z"
   },
   {
    "duration": 24,
    "start_time": "2023-09-16T13:14:23.478Z"
   },
   {
    "duration": 50,
    "start_time": "2023-09-16T13:14:23.504Z"
   },
   {
    "duration": 15,
    "start_time": "2023-09-16T13:14:23.556Z"
   },
   {
    "duration": 28,
    "start_time": "2023-09-16T13:14:23.573Z"
   },
   {
    "duration": 19,
    "start_time": "2023-09-16T13:14:23.602Z"
   },
   {
    "duration": 35,
    "start_time": "2023-09-16T13:14:23.623Z"
   },
   {
    "duration": 5,
    "start_time": "2023-09-16T13:14:23.660Z"
   },
   {
    "duration": 20,
    "start_time": "2023-09-16T13:14:23.666Z"
   },
   {
    "duration": 5,
    "start_time": "2023-09-16T13:14:23.688Z"
   },
   {
    "duration": 9,
    "start_time": "2023-09-16T13:14:23.694Z"
   },
   {
    "duration": 16,
    "start_time": "2023-09-16T13:14:23.704Z"
   },
   {
    "duration": 4,
    "start_time": "2023-09-16T13:14:23.747Z"
   },
   {
    "duration": 4,
    "start_time": "2023-09-16T13:14:23.753Z"
   },
   {
    "duration": 11,
    "start_time": "2023-09-16T13:14:23.759Z"
   },
   {
    "duration": 7,
    "start_time": "2023-09-16T13:14:23.771Z"
   },
   {
    "duration": 22,
    "start_time": "2023-09-16T13:14:23.779Z"
   },
   {
    "duration": 50,
    "start_time": "2023-09-16T13:14:23.803Z"
   },
   {
    "duration": 21,
    "start_time": "2023-09-16T13:14:23.855Z"
   },
   {
    "duration": 8,
    "start_time": "2023-09-16T13:14:23.878Z"
   },
   {
    "duration": 27,
    "start_time": "2023-09-16T13:14:23.888Z"
   },
   {
    "duration": 45,
    "start_time": "2023-09-16T13:14:23.917Z"
   },
   {
    "duration": 38,
    "start_time": "2023-09-16T13:14:23.963Z"
   },
   {
    "duration": 7,
    "start_time": "2023-09-16T13:14:24.003Z"
   },
   {
    "duration": 18,
    "start_time": "2023-09-16T13:14:24.012Z"
   },
   {
    "duration": 30,
    "start_time": "2023-09-16T13:14:24.046Z"
   },
   {
    "duration": 35,
    "start_time": "2023-09-16T13:14:24.078Z"
   },
   {
    "duration": 34,
    "start_time": "2023-09-16T13:14:24.115Z"
   },
   {
    "duration": 20,
    "start_time": "2023-09-16T13:14:24.150Z"
   },
   {
    "duration": 209,
    "start_time": "2023-09-16T13:14:24.172Z"
   },
   {
    "duration": 233,
    "start_time": "2023-09-16T13:14:24.383Z"
   },
   {
    "duration": 153,
    "start_time": "2023-09-16T13:14:24.618Z"
   },
   {
    "duration": 5,
    "start_time": "2023-09-16T13:14:24.773Z"
   },
   {
    "duration": 9,
    "start_time": "2023-09-16T13:14:24.780Z"
   },
   {
    "duration": 194,
    "start_time": "2023-09-16T13:14:24.791Z"
   },
   {
    "duration": 351,
    "start_time": "2023-09-16T13:14:24.987Z"
   },
   {
    "duration": 16,
    "start_time": "2023-09-16T13:14:25.340Z"
   },
   {
    "duration": 24,
    "start_time": "2023-09-16T13:14:25.359Z"
   },
   {
    "duration": 14,
    "start_time": "2023-09-16T13:14:25.385Z"
   },
   {
    "duration": 309,
    "start_time": "2023-09-16T13:14:25.401Z"
   },
   {
    "duration": 12,
    "start_time": "2023-09-16T13:14:25.711Z"
   },
   {
    "duration": 38,
    "start_time": "2023-09-16T13:14:25.725Z"
   },
   {
    "duration": 8,
    "start_time": "2023-09-16T13:14:25.765Z"
   },
   {
    "duration": 10,
    "start_time": "2023-09-16T13:14:25.774Z"
   },
   {
    "duration": 10,
    "start_time": "2023-09-16T13:14:25.790Z"
   },
   {
    "duration": 24,
    "start_time": "2023-09-16T13:14:25.802Z"
   },
   {
    "duration": 25,
    "start_time": "2023-09-16T13:14:25.828Z"
   },
   {
    "duration": 19,
    "start_time": "2023-09-16T13:14:25.855Z"
   },
   {
    "duration": 6,
    "start_time": "2023-09-16T13:14:25.876Z"
   },
   {
    "duration": 82,
    "start_time": "2023-09-16T13:14:25.883Z"
   },
   {
    "duration": 6,
    "start_time": "2023-09-16T13:18:26.492Z"
   },
   {
    "duration": 11,
    "start_time": "2023-09-16T13:18:29.848Z"
   },
   {
    "duration": 8,
    "start_time": "2023-09-16T13:18:41.641Z"
   },
   {
    "duration": 26,
    "start_time": "2023-09-16T13:18:41.651Z"
   },
   {
    "duration": 682,
    "start_time": "2023-09-16T13:18:41.679Z"
   },
   {
    "duration": 4,
    "start_time": "2023-09-16T13:18:42.363Z"
   },
   {
    "duration": 139,
    "start_time": "2023-09-16T13:18:42.369Z"
   },
   {
    "duration": 18,
    "start_time": "2023-09-16T13:18:42.510Z"
   },
   {
    "duration": 23,
    "start_time": "2023-09-16T13:18:42.529Z"
   },
   {
    "duration": 27,
    "start_time": "2023-09-16T13:18:42.554Z"
   },
   {
    "duration": 9,
    "start_time": "2023-09-16T13:18:42.583Z"
   },
   {
    "duration": 19,
    "start_time": "2023-09-16T13:18:42.594Z"
   },
   {
    "duration": 11,
    "start_time": "2023-09-16T13:18:42.615Z"
   },
   {
    "duration": 39,
    "start_time": "2023-09-16T13:18:42.628Z"
   },
   {
    "duration": 10,
    "start_time": "2023-09-16T13:18:42.670Z"
   },
   {
    "duration": 24,
    "start_time": "2023-09-16T13:18:42.684Z"
   },
   {
    "duration": 17,
    "start_time": "2023-09-16T13:18:42.709Z"
   },
   {
    "duration": 11,
    "start_time": "2023-09-16T13:18:42.728Z"
   },
   {
    "duration": 14,
    "start_time": "2023-09-16T13:18:42.740Z"
   },
   {
    "duration": 29,
    "start_time": "2023-09-16T13:18:42.756Z"
   },
   {
    "duration": 15,
    "start_time": "2023-09-16T13:18:42.787Z"
   },
   {
    "duration": 9,
    "start_time": "2023-09-16T13:18:42.804Z"
   },
   {
    "duration": 14,
    "start_time": "2023-09-16T13:18:42.815Z"
   },
   {
    "duration": 9,
    "start_time": "2023-09-16T13:18:42.831Z"
   },
   {
    "duration": 16,
    "start_time": "2023-09-16T13:18:42.841Z"
   },
   {
    "duration": 63,
    "start_time": "2023-09-16T13:18:42.859Z"
   },
   {
    "duration": 24,
    "start_time": "2023-09-16T13:18:42.923Z"
   },
   {
    "duration": 12,
    "start_time": "2023-09-16T13:18:42.949Z"
   },
   {
    "duration": 40,
    "start_time": "2023-09-16T13:18:42.963Z"
   },
   {
    "duration": 48,
    "start_time": "2023-09-16T13:18:43.005Z"
   },
   {
    "duration": 19,
    "start_time": "2023-09-16T13:18:43.055Z"
   },
   {
    "duration": 11,
    "start_time": "2023-09-16T13:18:43.075Z"
   },
   {
    "duration": 33,
    "start_time": "2023-09-16T13:18:43.087Z"
   },
   {
    "duration": 25,
    "start_time": "2023-09-16T13:18:43.121Z"
   },
   {
    "duration": 17,
    "start_time": "2023-09-16T13:18:43.148Z"
   },
   {
    "duration": 16,
    "start_time": "2023-09-16T13:18:43.167Z"
   },
   {
    "duration": 17,
    "start_time": "2023-09-16T13:18:43.185Z"
   },
   {
    "duration": 8,
    "start_time": "2023-09-16T13:18:43.204Z"
   },
   {
    "duration": 13,
    "start_time": "2023-09-16T13:18:43.214Z"
   },
   {
    "duration": 27,
    "start_time": "2023-09-16T13:18:43.247Z"
   },
   {
    "duration": 26,
    "start_time": "2023-09-16T13:18:43.276Z"
   },
   {
    "duration": 54,
    "start_time": "2023-09-16T13:18:43.304Z"
   },
   {
    "duration": 15,
    "start_time": "2023-09-16T13:18:43.363Z"
   },
   {
    "duration": 22,
    "start_time": "2023-09-16T13:18:43.380Z"
   },
   {
    "duration": 23,
    "start_time": "2023-09-16T13:18:43.404Z"
   },
   {
    "duration": 36,
    "start_time": "2023-09-16T13:18:43.428Z"
   },
   {
    "duration": 6,
    "start_time": "2023-09-16T13:18:43.466Z"
   },
   {
    "duration": 28,
    "start_time": "2023-09-16T13:18:43.473Z"
   },
   {
    "duration": 6,
    "start_time": "2023-09-16T13:18:43.503Z"
   },
   {
    "duration": 17,
    "start_time": "2023-09-16T13:18:43.511Z"
   },
   {
    "duration": 30,
    "start_time": "2023-09-16T13:18:43.530Z"
   },
   {
    "duration": 6,
    "start_time": "2023-09-16T13:18:43.562Z"
   },
   {
    "duration": 9,
    "start_time": "2023-09-16T13:18:43.570Z"
   },
   {
    "duration": 12,
    "start_time": "2023-09-16T13:18:43.581Z"
   },
   {
    "duration": 8,
    "start_time": "2023-09-16T13:18:43.596Z"
   },
   {
    "duration": 47,
    "start_time": "2023-09-16T13:18:43.605Z"
   },
   {
    "duration": 18,
    "start_time": "2023-09-16T13:18:43.654Z"
   },
   {
    "duration": 22,
    "start_time": "2023-09-16T13:18:43.673Z"
   },
   {
    "duration": 17,
    "start_time": "2023-09-16T13:18:43.696Z"
   },
   {
    "duration": 46,
    "start_time": "2023-09-16T13:18:43.715Z"
   },
   {
    "duration": 18,
    "start_time": "2023-09-16T13:18:43.763Z"
   },
   {
    "duration": 43,
    "start_time": "2023-09-16T13:18:43.782Z"
   },
   {
    "duration": 24,
    "start_time": "2023-09-16T13:18:43.827Z"
   },
   {
    "duration": 9,
    "start_time": "2023-09-16T13:18:43.853Z"
   },
   {
    "duration": 30,
    "start_time": "2023-09-16T13:18:43.864Z"
   },
   {
    "duration": 61,
    "start_time": "2023-09-16T13:18:43.896Z"
   },
   {
    "duration": 8,
    "start_time": "2023-09-16T13:18:43.959Z"
   },
   {
    "duration": 29,
    "start_time": "2023-09-16T13:18:43.969Z"
   },
   {
    "duration": 234,
    "start_time": "2023-09-16T13:18:43.999Z"
   },
   {
    "duration": 237,
    "start_time": "2023-09-16T13:18:44.235Z"
   },
   {
    "duration": 155,
    "start_time": "2023-09-16T13:18:44.473Z"
   },
   {
    "duration": 5,
    "start_time": "2023-09-16T13:18:44.630Z"
   },
   {
    "duration": 17,
    "start_time": "2023-09-16T13:18:44.646Z"
   },
   {
    "duration": 192,
    "start_time": "2023-09-16T13:18:44.665Z"
   },
   {
    "duration": 307,
    "start_time": "2023-09-16T13:18:44.859Z"
   },
   {
    "duration": 13,
    "start_time": "2023-09-16T13:18:45.168Z"
   },
   {
    "duration": 24,
    "start_time": "2023-09-16T13:18:45.183Z"
   },
   {
    "duration": 30,
    "start_time": "2023-09-16T13:18:45.209Z"
   },
   {
    "duration": 337,
    "start_time": "2023-09-16T13:18:45.240Z"
   },
   {
    "duration": 13,
    "start_time": "2023-09-16T13:18:45.579Z"
   },
   {
    "duration": 34,
    "start_time": "2023-09-16T13:18:45.593Z"
   },
   {
    "duration": 39,
    "start_time": "2023-09-16T13:18:45.629Z"
   },
   {
    "duration": 17,
    "start_time": "2023-09-16T13:18:45.670Z"
   },
   {
    "duration": 16,
    "start_time": "2023-09-16T13:18:45.688Z"
   },
   {
    "duration": 18,
    "start_time": "2023-09-16T13:18:45.706Z"
   },
   {
    "duration": 25,
    "start_time": "2023-09-16T13:18:45.726Z"
   },
   {
    "duration": 26,
    "start_time": "2023-09-16T13:18:45.753Z"
   },
   {
    "duration": 6,
    "start_time": "2023-09-16T13:18:45.781Z"
   },
   {
    "duration": 14,
    "start_time": "2023-09-16T13:18:45.788Z"
   },
   {
    "duration": 7,
    "start_time": "2023-09-16T13:19:08.889Z"
   },
   {
    "duration": 12,
    "start_time": "2023-09-16T13:19:10.086Z"
   },
   {
    "duration": 9,
    "start_time": "2023-09-16T13:19:16.216Z"
   },
   {
    "duration": 19,
    "start_time": "2023-09-16T13:19:16.228Z"
   },
   {
    "duration": 670,
    "start_time": "2023-09-16T13:19:16.249Z"
   },
   {
    "duration": 3,
    "start_time": "2023-09-16T13:19:16.921Z"
   },
   {
    "duration": 140,
    "start_time": "2023-09-16T13:19:16.925Z"
   },
   {
    "duration": 18,
    "start_time": "2023-09-16T13:19:17.067Z"
   },
   {
    "duration": 15,
    "start_time": "2023-09-16T13:19:17.086Z"
   },
   {
    "duration": 16,
    "start_time": "2023-09-16T13:19:17.103Z"
   },
   {
    "duration": 7,
    "start_time": "2023-09-16T13:19:17.121Z"
   },
   {
    "duration": 22,
    "start_time": "2023-09-16T13:19:17.130Z"
   },
   {
    "duration": 10,
    "start_time": "2023-09-16T13:19:17.153Z"
   },
   {
    "duration": 26,
    "start_time": "2023-09-16T13:19:17.165Z"
   },
   {
    "duration": 9,
    "start_time": "2023-09-16T13:19:17.192Z"
   },
   {
    "duration": 26,
    "start_time": "2023-09-16T13:19:17.203Z"
   },
   {
    "duration": 79,
    "start_time": "2023-09-16T13:19:17.231Z"
   },
   {
    "duration": 194,
    "start_time": "2023-09-16T13:19:17.311Z"
   },
   {
    "duration": 31,
    "start_time": "2023-09-16T13:19:17.507Z"
   },
   {
    "duration": 11,
    "start_time": "2023-09-16T13:19:17.539Z"
   },
   {
    "duration": 11,
    "start_time": "2023-09-16T13:19:17.551Z"
   },
   {
    "duration": 3,
    "start_time": "2023-09-16T13:19:17.564Z"
   },
   {
    "duration": 17,
    "start_time": "2023-09-16T13:19:17.569Z"
   },
   {
    "duration": 7,
    "start_time": "2023-09-16T13:19:17.588Z"
   },
   {
    "duration": 15,
    "start_time": "2023-09-16T13:19:17.597Z"
   },
   {
    "duration": 65,
    "start_time": "2023-09-16T13:19:17.616Z"
   },
   {
    "duration": 17,
    "start_time": "2023-09-16T13:19:17.682Z"
   },
   {
    "duration": 17,
    "start_time": "2023-09-16T13:19:17.701Z"
   },
   {
    "duration": 32,
    "start_time": "2023-09-16T13:19:17.720Z"
   },
   {
    "duration": 12,
    "start_time": "2023-09-16T13:19:17.754Z"
   },
   {
    "duration": 27,
    "start_time": "2023-09-16T13:19:17.767Z"
   },
   {
    "duration": 11,
    "start_time": "2023-09-16T13:19:17.796Z"
   },
   {
    "duration": 18,
    "start_time": "2023-09-16T13:19:17.808Z"
   },
   {
    "duration": 11,
    "start_time": "2023-09-16T13:19:17.847Z"
   },
   {
    "duration": 19,
    "start_time": "2023-09-16T13:19:17.859Z"
   },
   {
    "duration": 15,
    "start_time": "2023-09-16T13:19:17.880Z"
   },
   {
    "duration": 11,
    "start_time": "2023-09-16T13:19:17.897Z"
   },
   {
    "duration": 5,
    "start_time": "2023-09-16T13:19:17.910Z"
   },
   {
    "duration": 36,
    "start_time": "2023-09-16T13:19:17.917Z"
   },
   {
    "duration": 25,
    "start_time": "2023-09-16T13:19:17.955Z"
   },
   {
    "duration": 23,
    "start_time": "2023-09-16T13:19:17.982Z"
   },
   {
    "duration": 53,
    "start_time": "2023-09-16T13:19:18.007Z"
   },
   {
    "duration": 15,
    "start_time": "2023-09-16T13:19:18.061Z"
   },
   {
    "duration": 52,
    "start_time": "2023-09-16T13:19:18.077Z"
   },
   {
    "duration": 25,
    "start_time": "2023-09-16T13:19:18.131Z"
   },
   {
    "duration": 23,
    "start_time": "2023-09-16T13:19:18.158Z"
   },
   {
    "duration": 6,
    "start_time": "2023-09-16T13:19:18.183Z"
   },
   {
    "duration": 69,
    "start_time": "2023-09-16T13:19:18.191Z"
   },
   {
    "duration": 12,
    "start_time": "2023-09-16T13:19:18.262Z"
   },
   {
    "duration": 9,
    "start_time": "2023-09-16T13:19:18.276Z"
   },
   {
    "duration": 18,
    "start_time": "2023-09-16T13:19:18.286Z"
   },
   {
    "duration": 7,
    "start_time": "2023-09-16T13:19:18.306Z"
   },
   {
    "duration": 5,
    "start_time": "2023-09-16T13:19:18.314Z"
   },
   {
    "duration": 32,
    "start_time": "2023-09-16T13:19:18.320Z"
   },
   {
    "duration": 44,
    "start_time": "2023-09-16T13:19:18.353Z"
   },
   {
    "duration": 41,
    "start_time": "2023-09-16T13:19:18.399Z"
   },
   {
    "duration": 17,
    "start_time": "2023-09-16T13:19:18.441Z"
   },
   {
    "duration": 73,
    "start_time": "2023-09-16T13:19:18.460Z"
   },
   {
    "duration": 8,
    "start_time": "2023-09-16T13:19:18.535Z"
   },
   {
    "duration": 40,
    "start_time": "2023-09-16T13:19:18.545Z"
   },
   {
    "duration": 17,
    "start_time": "2023-09-16T13:19:18.588Z"
   },
   {
    "duration": 41,
    "start_time": "2023-09-16T13:19:18.607Z"
   },
   {
    "duration": 80,
    "start_time": "2023-09-16T13:19:18.650Z"
   },
   {
    "duration": 7,
    "start_time": "2023-09-16T13:19:18.733Z"
   },
   {
    "duration": 31,
    "start_time": "2023-09-16T13:19:18.742Z"
   },
   {
    "duration": 35,
    "start_time": "2023-09-16T13:19:18.775Z"
   },
   {
    "duration": 9,
    "start_time": "2023-09-16T13:19:18.812Z"
   },
   {
    "duration": 44,
    "start_time": "2023-09-16T13:19:18.822Z"
   },
   {
    "duration": 212,
    "start_time": "2023-09-16T13:19:18.868Z"
   },
   {
    "duration": 257,
    "start_time": "2023-09-16T13:19:19.082Z"
   },
   {
    "duration": 160,
    "start_time": "2023-09-16T13:19:19.350Z"
   },
   {
    "duration": 5,
    "start_time": "2023-09-16T13:19:19.512Z"
   },
   {
    "duration": 28,
    "start_time": "2023-09-16T13:19:19.519Z"
   },
   {
    "duration": 236,
    "start_time": "2023-09-16T13:19:19.548Z"
   },
   {
    "duration": 391,
    "start_time": "2023-09-16T13:19:19.786Z"
   },
   {
    "duration": 18,
    "start_time": "2023-09-16T13:19:20.179Z"
   },
   {
    "duration": 36,
    "start_time": "2023-09-16T13:19:20.199Z"
   },
   {
    "duration": 24,
    "start_time": "2023-09-16T13:19:20.237Z"
   },
   {
    "duration": 389,
    "start_time": "2023-09-16T13:19:20.263Z"
   },
   {
    "duration": 17,
    "start_time": "2023-09-16T13:19:20.654Z"
   },
   {
    "duration": 56,
    "start_time": "2023-09-16T13:19:20.673Z"
   },
   {
    "duration": 21,
    "start_time": "2023-09-16T13:19:20.731Z"
   },
   {
    "duration": 65,
    "start_time": "2023-09-16T13:19:20.755Z"
   },
   {
    "duration": 245,
    "start_time": "2023-09-16T13:19:20.822Z"
   },
   {
    "duration": 64,
    "start_time": "2023-09-16T13:19:21.070Z"
   },
   {
    "duration": 143,
    "start_time": "2023-09-16T13:19:21.136Z"
   },
   {
    "duration": 31,
    "start_time": "2023-09-16T13:19:21.281Z"
   },
   {
    "duration": 10,
    "start_time": "2023-09-16T13:19:21.315Z"
   },
   {
    "duration": 58,
    "start_time": "2023-09-16T13:19:21.327Z"
   },
   {
    "duration": 7,
    "start_time": "2023-09-16T13:19:45.975Z"
   },
   {
    "duration": 11,
    "start_time": "2023-09-16T13:19:46.558Z"
   },
   {
    "duration": 8,
    "start_time": "2023-09-16T13:19:53.281Z"
   },
   {
    "duration": 48,
    "start_time": "2023-09-16T13:19:53.292Z"
   },
   {
    "duration": 780,
    "start_time": "2023-09-16T13:19:53.341Z"
   },
   {
    "duration": 3,
    "start_time": "2023-09-16T13:19:54.123Z"
   },
   {
    "duration": 178,
    "start_time": "2023-09-16T13:19:54.129Z"
   },
   {
    "duration": 19,
    "start_time": "2023-09-16T13:19:54.309Z"
   },
   {
    "duration": 42,
    "start_time": "2023-09-16T13:19:54.330Z"
   },
   {
    "duration": 45,
    "start_time": "2023-09-16T13:19:54.374Z"
   },
   {
    "duration": 37,
    "start_time": "2023-09-16T13:19:54.421Z"
   },
   {
    "duration": 35,
    "start_time": "2023-09-16T13:19:54.459Z"
   },
   {
    "duration": 45,
    "start_time": "2023-09-16T13:19:54.495Z"
   },
   {
    "duration": 40,
    "start_time": "2023-09-16T13:19:54.542Z"
   },
   {
    "duration": 43,
    "start_time": "2023-09-16T13:19:54.584Z"
   },
   {
    "duration": 49,
    "start_time": "2023-09-16T13:19:54.630Z"
   },
   {
    "duration": 37,
    "start_time": "2023-09-16T13:19:54.681Z"
   },
   {
    "duration": 32,
    "start_time": "2023-09-16T13:19:54.720Z"
   },
   {
    "duration": 21,
    "start_time": "2023-09-16T13:19:54.754Z"
   },
   {
    "duration": 29,
    "start_time": "2023-09-16T13:19:54.777Z"
   },
   {
    "duration": 60,
    "start_time": "2023-09-16T13:19:54.808Z"
   },
   {
    "duration": 40,
    "start_time": "2023-09-16T13:19:54.870Z"
   },
   {
    "duration": 47,
    "start_time": "2023-09-16T13:19:54.912Z"
   },
   {
    "duration": 51,
    "start_time": "2023-09-16T13:19:54.961Z"
   },
   {
    "duration": 48,
    "start_time": "2023-09-16T13:19:55.014Z"
   },
   {
    "duration": 76,
    "start_time": "2023-09-16T13:19:55.063Z"
   },
   {
    "duration": 17,
    "start_time": "2023-09-16T13:19:55.141Z"
   },
   {
    "duration": 40,
    "start_time": "2023-09-16T13:19:55.160Z"
   },
   {
    "duration": 36,
    "start_time": "2023-09-16T13:19:55.202Z"
   },
   {
    "duration": 28,
    "start_time": "2023-09-16T13:19:55.241Z"
   },
   {
    "duration": 33,
    "start_time": "2023-09-16T13:19:55.272Z"
   },
   {
    "duration": 15,
    "start_time": "2023-09-16T13:19:55.308Z"
   },
   {
    "duration": 60,
    "start_time": "2023-09-16T13:19:55.325Z"
   },
   {
    "duration": 27,
    "start_time": "2023-09-16T13:19:55.388Z"
   },
   {
    "duration": 65,
    "start_time": "2023-09-16T13:19:55.417Z"
   },
   {
    "duration": 28,
    "start_time": "2023-09-16T13:19:55.483Z"
   },
   {
    "duration": 38,
    "start_time": "2023-09-16T13:19:55.513Z"
   },
   {
    "duration": 25,
    "start_time": "2023-09-16T13:19:55.553Z"
   },
   {
    "duration": 26,
    "start_time": "2023-09-16T13:19:55.580Z"
   },
   {
    "duration": 43,
    "start_time": "2023-09-16T13:19:55.608Z"
   },
   {
    "duration": 25,
    "start_time": "2023-09-16T13:19:55.653Z"
   },
   {
    "duration": 30,
    "start_time": "2023-09-16T13:19:55.680Z"
   },
   {
    "duration": 39,
    "start_time": "2023-09-16T13:19:55.716Z"
   },
   {
    "duration": 35,
    "start_time": "2023-09-16T13:19:55.757Z"
   },
   {
    "duration": 51,
    "start_time": "2023-09-16T13:19:55.794Z"
   },
   {
    "duration": 50,
    "start_time": "2023-09-16T13:19:55.847Z"
   },
   {
    "duration": 49,
    "start_time": "2023-09-16T13:19:55.899Z"
   },
   {
    "duration": 98,
    "start_time": "2023-09-16T13:19:55.949Z"
   },
   {
    "duration": 40,
    "start_time": "2023-09-16T13:19:56.049Z"
   },
   {
    "duration": 50,
    "start_time": "2023-09-16T13:19:56.091Z"
   },
   {
    "duration": 29,
    "start_time": "2023-09-16T13:19:56.143Z"
   },
   {
    "duration": 30,
    "start_time": "2023-09-16T13:19:56.173Z"
   },
   {
    "duration": 20,
    "start_time": "2023-09-16T13:19:56.205Z"
   },
   {
    "duration": 59,
    "start_time": "2023-09-16T13:19:56.227Z"
   },
   {
    "duration": 30,
    "start_time": "2023-09-16T13:19:56.288Z"
   },
   {
    "duration": 47,
    "start_time": "2023-09-16T13:19:56.320Z"
   },
   {
    "duration": 32,
    "start_time": "2023-09-16T13:19:56.369Z"
   },
   {
    "duration": 77,
    "start_time": "2023-09-16T13:19:56.402Z"
   },
   {
    "duration": 41,
    "start_time": "2023-09-16T13:19:56.481Z"
   },
   {
    "duration": 54,
    "start_time": "2023-09-16T13:19:56.524Z"
   },
   {
    "duration": 39,
    "start_time": "2023-09-16T13:19:56.581Z"
   },
   {
    "duration": 62,
    "start_time": "2023-09-16T13:19:56.622Z"
   },
   {
    "duration": 10,
    "start_time": "2023-09-16T13:19:56.686Z"
   },
   {
    "duration": 43,
    "start_time": "2023-09-16T13:19:56.697Z"
   },
   {
    "duration": 67,
    "start_time": "2023-09-16T13:19:56.742Z"
   },
   {
    "duration": 59,
    "start_time": "2023-09-16T13:19:56.811Z"
   },
   {
    "duration": 9,
    "start_time": "2023-09-16T13:19:56.872Z"
   },
   {
    "duration": 95,
    "start_time": "2023-09-16T13:19:56.882Z"
   },
   {
    "duration": 230,
    "start_time": "2023-09-16T13:19:56.978Z"
   },
   {
    "duration": 220,
    "start_time": "2023-09-16T13:19:57.210Z"
   },
   {
    "duration": 215,
    "start_time": "2023-09-16T13:19:57.432Z"
   },
   {
    "duration": 5,
    "start_time": "2023-09-16T13:19:57.648Z"
   },
   {
    "duration": 27,
    "start_time": "2023-09-16T13:19:57.655Z"
   },
   {
    "duration": 186,
    "start_time": "2023-09-16T13:19:57.684Z"
   },
   {
    "duration": 306,
    "start_time": "2023-09-16T13:19:57.871Z"
   },
   {
    "duration": 13,
    "start_time": "2023-09-16T13:19:58.179Z"
   },
   {
    "duration": 35,
    "start_time": "2023-09-16T13:19:58.193Z"
   },
   {
    "duration": 27,
    "start_time": "2023-09-16T13:19:58.230Z"
   },
   {
    "duration": 294,
    "start_time": "2023-09-16T13:19:58.259Z"
   },
   {
    "duration": 13,
    "start_time": "2023-09-16T13:19:58.555Z"
   },
   {
    "duration": 59,
    "start_time": "2023-09-16T13:19:58.569Z"
   },
   {
    "duration": 30,
    "start_time": "2023-09-16T13:19:58.630Z"
   },
   {
    "duration": 32,
    "start_time": "2023-09-16T13:19:58.662Z"
   },
   {
    "duration": 38,
    "start_time": "2023-09-16T13:19:58.695Z"
   },
   {
    "duration": 28,
    "start_time": "2023-09-16T13:19:58.734Z"
   },
   {
    "duration": 56,
    "start_time": "2023-09-16T13:19:58.764Z"
   },
   {
    "duration": 47,
    "start_time": "2023-09-16T13:19:58.822Z"
   },
   {
    "duration": 16,
    "start_time": "2023-09-16T13:19:58.870Z"
   },
   {
    "duration": 53,
    "start_time": "2023-09-16T13:19:58.888Z"
   },
   {
    "duration": 10,
    "start_time": "2023-09-16T13:23:01.961Z"
   },
   {
    "duration": 40,
    "start_time": "2023-09-16T13:23:01.974Z"
   },
   {
    "duration": 719,
    "start_time": "2023-09-16T13:23:02.016Z"
   },
   {
    "duration": 3,
    "start_time": "2023-09-16T13:23:02.737Z"
   },
   {
    "duration": 190,
    "start_time": "2023-09-16T13:23:02.741Z"
   },
   {
    "duration": 18,
    "start_time": "2023-09-16T13:23:02.933Z"
   },
   {
    "duration": 99,
    "start_time": "2023-09-16T13:23:02.952Z"
   },
   {
    "duration": 58,
    "start_time": "2023-09-16T13:23:03.052Z"
   },
   {
    "duration": 13,
    "start_time": "2023-09-16T13:23:03.112Z"
   },
   {
    "duration": 24,
    "start_time": "2023-09-16T13:23:03.127Z"
   },
   {
    "duration": 21,
    "start_time": "2023-09-16T13:23:03.153Z"
   },
   {
    "duration": 59,
    "start_time": "2023-09-16T13:23:03.176Z"
   },
   {
    "duration": 36,
    "start_time": "2023-09-16T13:23:03.236Z"
   },
   {
    "duration": 91,
    "start_time": "2023-09-16T13:23:03.274Z"
   },
   {
    "duration": 99,
    "start_time": "2023-09-16T13:23:03.368Z"
   },
   {
    "duration": 11,
    "start_time": "2023-09-16T13:23:03.468Z"
   },
   {
    "duration": 5,
    "start_time": "2023-09-16T13:23:03.481Z"
   },
   {
    "duration": 9,
    "start_time": "2023-09-16T13:23:03.487Z"
   },
   {
    "duration": 11,
    "start_time": "2023-09-16T13:23:03.498Z"
   },
   {
    "duration": 4,
    "start_time": "2023-09-16T13:23:03.510Z"
   },
   {
    "duration": 11,
    "start_time": "2023-09-16T13:23:03.515Z"
   },
   {
    "duration": 19,
    "start_time": "2023-09-16T13:23:03.528Z"
   },
   {
    "duration": 10,
    "start_time": "2023-09-16T13:23:03.549Z"
   },
   {
    "duration": 66,
    "start_time": "2023-09-16T13:23:03.561Z"
   },
   {
    "duration": 23,
    "start_time": "2023-09-16T13:23:03.629Z"
   },
   {
    "duration": 13,
    "start_time": "2023-09-16T13:23:03.654Z"
   },
   {
    "duration": 14,
    "start_time": "2023-09-16T13:23:03.669Z"
   },
   {
    "duration": 12,
    "start_time": "2023-09-16T13:23:03.685Z"
   },
   {
    "duration": 26,
    "start_time": "2023-09-16T13:23:03.698Z"
   },
   {
    "duration": 12,
    "start_time": "2023-09-16T13:23:03.746Z"
   },
   {
    "duration": 22,
    "start_time": "2023-09-16T13:23:03.760Z"
   },
   {
    "duration": 11,
    "start_time": "2023-09-16T13:23:03.784Z"
   },
   {
    "duration": 21,
    "start_time": "2023-09-16T13:23:03.797Z"
   },
   {
    "duration": 39,
    "start_time": "2023-09-16T13:23:03.819Z"
   },
   {
    "duration": 12,
    "start_time": "2023-09-16T13:23:03.860Z"
   },
   {
    "duration": 11,
    "start_time": "2023-09-16T13:23:03.874Z"
   },
   {
    "duration": 11,
    "start_time": "2023-09-16T13:23:03.886Z"
   },
   {
    "duration": 61,
    "start_time": "2023-09-16T13:23:03.898Z"
   },
   {
    "duration": 37,
    "start_time": "2023-09-16T13:23:03.961Z"
   },
   {
    "duration": 27,
    "start_time": "2023-09-16T13:23:04.000Z"
   },
   {
    "duration": 27,
    "start_time": "2023-09-16T13:23:04.028Z"
   },
   {
    "duration": 41,
    "start_time": "2023-09-16T13:23:04.060Z"
   },
   {
    "duration": 19,
    "start_time": "2023-09-16T13:23:04.103Z"
   },
   {
    "duration": 31,
    "start_time": "2023-09-16T13:23:04.124Z"
   },
   {
    "duration": 5,
    "start_time": "2023-09-16T13:23:04.157Z"
   },
   {
    "duration": 25,
    "start_time": "2023-09-16T13:23:04.163Z"
   },
   {
    "duration": 26,
    "start_time": "2023-09-16T13:23:04.189Z"
   },
   {
    "duration": 12,
    "start_time": "2023-09-16T13:23:04.217Z"
   },
   {
    "duration": 30,
    "start_time": "2023-09-16T13:23:04.231Z"
   },
   {
    "duration": 4,
    "start_time": "2023-09-16T13:23:04.263Z"
   },
   {
    "duration": 14,
    "start_time": "2023-09-16T13:23:04.269Z"
   },
   {
    "duration": 31,
    "start_time": "2023-09-16T13:23:04.284Z"
   },
   {
    "duration": 11,
    "start_time": "2023-09-16T13:23:04.317Z"
   },
   {
    "duration": 21,
    "start_time": "2023-09-16T13:23:04.329Z"
   },
   {
    "duration": 19,
    "start_time": "2023-09-16T13:23:04.352Z"
   },
   {
    "duration": 22,
    "start_time": "2023-09-16T13:23:04.372Z"
   },
   {
    "duration": 22,
    "start_time": "2023-09-16T13:23:04.396Z"
   },
   {
    "duration": 23,
    "start_time": "2023-09-16T13:23:04.420Z"
   },
   {
    "duration": 15,
    "start_time": "2023-09-16T13:23:04.445Z"
   },
   {
    "duration": 36,
    "start_time": "2023-09-16T13:23:04.462Z"
   },
   {
    "duration": 5,
    "start_time": "2023-09-16T13:23:04.500Z"
   },
   {
    "duration": 10,
    "start_time": "2023-09-16T13:23:04.507Z"
   },
   {
    "duration": 56,
    "start_time": "2023-09-16T13:23:04.518Z"
   },
   {
    "duration": 35,
    "start_time": "2023-09-16T13:23:04.575Z"
   },
   {
    "duration": 9,
    "start_time": "2023-09-16T13:23:04.611Z"
   },
   {
    "duration": 17,
    "start_time": "2023-09-16T13:23:04.646Z"
   },
   {
    "duration": 216,
    "start_time": "2023-09-16T13:23:04.664Z"
   },
   {
    "duration": 220,
    "start_time": "2023-09-16T13:23:04.881Z"
   },
   {
    "duration": 184,
    "start_time": "2023-09-16T13:23:05.102Z"
   },
   {
    "duration": 6,
    "start_time": "2023-09-16T13:23:05.288Z"
   },
   {
    "duration": 18,
    "start_time": "2023-09-16T13:23:05.296Z"
   },
   {
    "duration": 199,
    "start_time": "2023-09-16T13:23:05.316Z"
   },
   {
    "duration": 300,
    "start_time": "2023-09-16T13:23:05.517Z"
   },
   {
    "duration": 13,
    "start_time": "2023-09-16T13:23:05.819Z"
   },
   {
    "duration": 5,
    "start_time": "2023-09-16T13:23:05.834Z"
   },
   {
    "duration": 10,
    "start_time": "2023-09-16T13:23:05.841Z"
   },
   {
    "duration": 269,
    "start_time": "2023-09-16T13:23:05.852Z"
   },
   {
    "duration": 13,
    "start_time": "2023-09-16T13:23:06.123Z"
   },
   {
    "duration": 29,
    "start_time": "2023-09-16T13:23:06.147Z"
   },
   {
    "duration": 7,
    "start_time": "2023-09-16T13:23:06.178Z"
   },
   {
    "duration": 22,
    "start_time": "2023-09-16T13:23:06.187Z"
   },
   {
    "duration": 12,
    "start_time": "2023-09-16T13:23:06.211Z"
   },
   {
    "duration": 7,
    "start_time": "2023-09-16T13:23:06.225Z"
   },
   {
    "duration": 24,
    "start_time": "2023-09-16T13:23:06.234Z"
   },
   {
    "duration": 19,
    "start_time": "2023-09-16T13:23:06.260Z"
   },
   {
    "duration": 5,
    "start_time": "2023-09-16T13:23:06.281Z"
   },
   {
    "duration": 17,
    "start_time": "2023-09-16T13:23:06.288Z"
   },
   {
    "duration": 10,
    "start_time": "2023-09-16T13:24:18.774Z"
   },
   {
    "duration": 7,
    "start_time": "2023-09-16T13:24:18.786Z"
   },
   {
    "duration": 735,
    "start_time": "2023-09-16T13:24:18.794Z"
   },
   {
    "duration": 4,
    "start_time": "2023-09-16T13:24:19.531Z"
   },
   {
    "duration": 151,
    "start_time": "2023-09-16T13:24:19.538Z"
   },
   {
    "duration": 20,
    "start_time": "2023-09-16T13:24:19.691Z"
   },
   {
    "duration": 17,
    "start_time": "2023-09-16T13:24:19.712Z"
   },
   {
    "duration": 26,
    "start_time": "2023-09-16T13:24:19.731Z"
   },
   {
    "duration": 6,
    "start_time": "2023-09-16T13:24:19.759Z"
   },
   {
    "duration": 13,
    "start_time": "2023-09-16T13:24:19.767Z"
   },
   {
    "duration": 11,
    "start_time": "2023-09-16T13:24:19.782Z"
   },
   {
    "duration": 17,
    "start_time": "2023-09-16T13:24:19.795Z"
   },
   {
    "duration": 34,
    "start_time": "2023-09-16T13:24:19.813Z"
   },
   {
    "duration": 8,
    "start_time": "2023-09-16T13:24:19.850Z"
   },
   {
    "duration": 26,
    "start_time": "2023-09-16T13:24:19.860Z"
   },
   {
    "duration": 8,
    "start_time": "2023-09-16T13:24:19.888Z"
   },
   {
    "duration": 9,
    "start_time": "2023-09-16T13:24:19.897Z"
   },
   {
    "duration": 16,
    "start_time": "2023-09-16T13:24:19.907Z"
   },
   {
    "duration": 60,
    "start_time": "2023-09-16T13:24:19.924Z"
   },
   {
    "duration": 9,
    "start_time": "2023-09-16T13:24:19.986Z"
   },
   {
    "duration": 30,
    "start_time": "2023-09-16T13:24:19.996Z"
   },
   {
    "duration": 12,
    "start_time": "2023-09-16T13:24:20.028Z"
   },
   {
    "duration": 30,
    "start_time": "2023-09-16T13:24:20.042Z"
   },
   {
    "duration": 73,
    "start_time": "2023-09-16T13:24:20.073Z"
   },
   {
    "duration": 17,
    "start_time": "2023-09-16T13:24:20.147Z"
   },
   {
    "duration": 18,
    "start_time": "2023-09-16T13:24:20.166Z"
   },
   {
    "duration": 15,
    "start_time": "2023-09-16T13:24:20.186Z"
   },
   {
    "duration": 14,
    "start_time": "2023-09-16T13:24:20.203Z"
   },
   {
    "duration": 38,
    "start_time": "2023-09-16T13:24:20.219Z"
   },
   {
    "duration": 10,
    "start_time": "2023-09-16T13:24:20.259Z"
   },
   {
    "duration": 25,
    "start_time": "2023-09-16T13:24:20.271Z"
   },
   {
    "duration": 12,
    "start_time": "2023-09-16T13:24:20.298Z"
   },
   {
    "duration": 37,
    "start_time": "2023-09-16T13:24:20.312Z"
   },
   {
    "duration": 17,
    "start_time": "2023-09-16T13:24:20.350Z"
   },
   {
    "duration": 12,
    "start_time": "2023-09-16T13:24:20.369Z"
   },
   {
    "duration": 5,
    "start_time": "2023-09-16T13:24:20.383Z"
   },
   {
    "duration": 12,
    "start_time": "2023-09-16T13:24:20.390Z"
   },
   {
    "duration": 59,
    "start_time": "2023-09-16T13:24:20.403Z"
   },
   {
    "duration": 25,
    "start_time": "2023-09-16T13:24:20.463Z"
   },
   {
    "duration": 28,
    "start_time": "2023-09-16T13:24:20.489Z"
   },
   {
    "duration": 34,
    "start_time": "2023-09-16T13:24:20.521Z"
   },
   {
    "duration": 38,
    "start_time": "2023-09-16T13:24:20.557Z"
   },
   {
    "duration": 17,
    "start_time": "2023-09-16T13:24:20.597Z"
   },
   {
    "duration": 24,
    "start_time": "2023-09-16T13:24:20.616Z"
   },
   {
    "duration": 5,
    "start_time": "2023-09-16T13:24:20.646Z"
   },
   {
    "duration": 37,
    "start_time": "2023-09-16T13:24:20.653Z"
   },
   {
    "duration": 30,
    "start_time": "2023-09-16T13:24:20.693Z"
   },
   {
    "duration": 17,
    "start_time": "2023-09-16T13:24:20.725Z"
   },
   {
    "duration": 24,
    "start_time": "2023-09-16T13:24:20.744Z"
   },
   {
    "duration": 10,
    "start_time": "2023-09-16T13:24:20.770Z"
   },
   {
    "duration": 5,
    "start_time": "2023-09-16T13:24:20.782Z"
   },
   {
    "duration": 9,
    "start_time": "2023-09-16T13:24:20.788Z"
   },
   {
    "duration": 43,
    "start_time": "2023-09-16T13:24:20.799Z"
   },
   {
    "duration": 34,
    "start_time": "2023-09-16T13:24:20.843Z"
   },
   {
    "duration": 18,
    "start_time": "2023-09-16T13:24:20.879Z"
   },
   {
    "duration": 21,
    "start_time": "2023-09-16T13:24:20.898Z"
   },
   {
    "duration": 8,
    "start_time": "2023-09-16T13:24:20.921Z"
   },
   {
    "duration": 25,
    "start_time": "2023-09-16T13:24:20.947Z"
   },
   {
    "duration": 18,
    "start_time": "2023-09-16T13:24:20.974Z"
   },
   {
    "duration": 66,
    "start_time": "2023-09-16T13:24:20.993Z"
   },
   {
    "duration": 5,
    "start_time": "2023-09-16T13:24:21.061Z"
   },
   {
    "duration": 12,
    "start_time": "2023-09-16T13:24:21.068Z"
   },
   {
    "duration": 29,
    "start_time": "2023-09-16T13:24:21.082Z"
   },
   {
    "duration": 55,
    "start_time": "2023-09-16T13:24:21.113Z"
   },
   {
    "duration": 9,
    "start_time": "2023-09-16T13:24:21.169Z"
   },
   {
    "duration": 25,
    "start_time": "2023-09-16T13:24:21.179Z"
   },
   {
    "duration": 214,
    "start_time": "2023-09-16T13:24:21.206Z"
   },
   {
    "duration": 231,
    "start_time": "2023-09-16T13:24:21.422Z"
   },
   {
    "duration": 149,
    "start_time": "2023-09-16T13:24:21.655Z"
   },
   {
    "duration": 5,
    "start_time": "2023-09-16T13:24:21.806Z"
   },
   {
    "duration": 9,
    "start_time": "2023-09-16T13:24:21.813Z"
   },
   {
    "duration": 201,
    "start_time": "2023-09-16T13:24:21.823Z"
   },
   {
    "duration": 324,
    "start_time": "2023-09-16T13:24:22.026Z"
   },
   {
    "duration": 14,
    "start_time": "2023-09-16T13:24:22.351Z"
   },
   {
    "duration": 15,
    "start_time": "2023-09-16T13:24:22.367Z"
   },
   {
    "duration": 19,
    "start_time": "2023-09-16T13:24:22.384Z"
   },
   {
    "duration": 268,
    "start_time": "2023-09-16T13:24:22.406Z"
   },
   {
    "duration": 13,
    "start_time": "2023-09-16T13:24:22.677Z"
   },
   {
    "duration": 23,
    "start_time": "2023-09-16T13:24:22.692Z"
   },
   {
    "duration": 32,
    "start_time": "2023-09-16T13:24:22.717Z"
   },
   {
    "duration": 9,
    "start_time": "2023-09-16T13:24:22.750Z"
   },
   {
    "duration": 14,
    "start_time": "2023-09-16T13:24:22.761Z"
   },
   {
    "duration": 5,
    "start_time": "2023-09-16T13:24:22.777Z"
   },
   {
    "duration": 16,
    "start_time": "2023-09-16T13:24:22.784Z"
   },
   {
    "duration": 45,
    "start_time": "2023-09-16T13:24:22.802Z"
   },
   {
    "duration": 6,
    "start_time": "2023-09-16T13:24:22.849Z"
   },
   {
    "duration": 30,
    "start_time": "2023-09-16T13:24:22.857Z"
   },
   {
    "duration": 30,
    "start_time": "2023-09-16T13:34:29.128Z"
   },
   {
    "duration": 32,
    "start_time": "2023-09-16T13:34:44.257Z"
   },
   {
    "duration": 36,
    "start_time": "2023-09-16T13:35:38.861Z"
   },
   {
    "duration": 370,
    "start_time": "2023-09-16T13:39:02.351Z"
   },
   {
    "duration": 367,
    "start_time": "2023-09-16T13:39:14.764Z"
   },
   {
    "duration": 9,
    "start_time": "2023-09-16T16:08:36.457Z"
   },
   {
    "duration": 4,
    "start_time": "2023-09-16T16:08:36.468Z"
   },
   {
    "duration": 675,
    "start_time": "2023-09-16T16:08:36.473Z"
   },
   {
    "duration": 3,
    "start_time": "2023-09-16T16:08:37.150Z"
   },
   {
    "duration": 140,
    "start_time": "2023-09-16T16:08:37.155Z"
   },
   {
    "duration": 16,
    "start_time": "2023-09-16T16:08:37.296Z"
   },
   {
    "duration": 22,
    "start_time": "2023-09-16T16:08:37.313Z"
   },
   {
    "duration": 35,
    "start_time": "2023-09-16T16:08:37.336Z"
   },
   {
    "duration": 20,
    "start_time": "2023-09-16T16:08:37.372Z"
   },
   {
    "duration": 19,
    "start_time": "2023-09-16T16:08:37.393Z"
   },
   {
    "duration": 25,
    "start_time": "2023-09-16T16:08:37.413Z"
   },
   {
    "duration": 25,
    "start_time": "2023-09-16T16:08:37.441Z"
   },
   {
    "duration": 10,
    "start_time": "2023-09-16T16:08:37.467Z"
   },
   {
    "duration": 21,
    "start_time": "2023-09-16T16:08:37.479Z"
   },
   {
    "duration": 30,
    "start_time": "2023-09-16T16:08:37.502Z"
   },
   {
    "duration": 26,
    "start_time": "2023-09-16T16:08:37.534Z"
   },
   {
    "duration": 5,
    "start_time": "2023-09-16T16:08:37.562Z"
   },
   {
    "duration": 25,
    "start_time": "2023-09-16T16:08:37.569Z"
   },
   {
    "duration": 9,
    "start_time": "2023-09-16T16:08:37.595Z"
   },
   {
    "duration": 9,
    "start_time": "2023-09-16T16:08:37.605Z"
   },
   {
    "duration": 12,
    "start_time": "2023-09-16T16:08:37.616Z"
   },
   {
    "duration": 49,
    "start_time": "2023-09-16T16:08:37.629Z"
   },
   {
    "duration": 17,
    "start_time": "2023-09-16T16:08:37.680Z"
   },
   {
    "duration": 53,
    "start_time": "2023-09-16T16:08:37.698Z"
   },
   {
    "duration": 19,
    "start_time": "2023-09-16T16:08:37.752Z"
   },
   {
    "duration": 17,
    "start_time": "2023-09-16T16:08:37.772Z"
   },
   {
    "duration": 19,
    "start_time": "2023-09-16T16:08:37.791Z"
   },
   {
    "duration": 18,
    "start_time": "2023-09-16T16:08:37.812Z"
   },
   {
    "duration": 23,
    "start_time": "2023-09-16T16:08:37.843Z"
   },
   {
    "duration": 11,
    "start_time": "2023-09-16T16:08:37.867Z"
   },
   {
    "duration": 17,
    "start_time": "2023-09-16T16:08:37.879Z"
   },
   {
    "duration": 14,
    "start_time": "2023-09-16T16:08:37.898Z"
   },
   {
    "duration": 44,
    "start_time": "2023-09-16T16:08:37.917Z"
   },
   {
    "duration": 16,
    "start_time": "2023-09-16T16:08:37.962Z"
   },
   {
    "duration": 20,
    "start_time": "2023-09-16T16:08:37.980Z"
   },
   {
    "duration": 11,
    "start_time": "2023-09-16T16:08:38.001Z"
   },
   {
    "duration": 16,
    "start_time": "2023-09-16T16:08:38.014Z"
   },
   {
    "duration": 45,
    "start_time": "2023-09-16T16:08:38.031Z"
   },
   {
    "duration": 21,
    "start_time": "2023-09-16T16:08:38.078Z"
   },
   {
    "duration": 24,
    "start_time": "2023-09-16T16:08:38.100Z"
   },
   {
    "duration": 31,
    "start_time": "2023-09-16T16:08:38.126Z"
   },
   {
    "duration": 32,
    "start_time": "2023-09-16T16:08:38.158Z"
   },
   {
    "duration": 22,
    "start_time": "2023-09-16T16:08:38.192Z"
   },
   {
    "duration": 32,
    "start_time": "2023-09-16T16:08:38.215Z"
   },
   {
    "duration": 8,
    "start_time": "2023-09-16T16:08:38.249Z"
   },
   {
    "duration": 19,
    "start_time": "2023-09-16T16:08:38.259Z"
   },
   {
    "duration": 11,
    "start_time": "2023-09-16T16:08:38.280Z"
   },
   {
    "duration": 8,
    "start_time": "2023-09-16T16:08:38.292Z"
   },
   {
    "duration": 20,
    "start_time": "2023-09-16T16:08:38.302Z"
   },
   {
    "duration": 10,
    "start_time": "2023-09-16T16:08:38.324Z"
   },
   {
    "duration": 6,
    "start_time": "2023-09-16T16:08:38.345Z"
   },
   {
    "duration": 22,
    "start_time": "2023-09-16T16:08:38.354Z"
   },
   {
    "duration": 4,
    "start_time": "2023-09-16T16:08:38.378Z"
   },
   {
    "duration": 28,
    "start_time": "2023-09-16T16:08:38.383Z"
   },
   {
    "duration": 18,
    "start_time": "2023-09-16T16:08:38.412Z"
   },
   {
    "duration": 36,
    "start_time": "2023-09-16T16:08:38.432Z"
   },
   {
    "duration": 6,
    "start_time": "2023-09-16T16:08:38.470Z"
   },
   {
    "duration": 21,
    "start_time": "2023-09-16T16:08:38.478Z"
   },
   {
    "duration": 15,
    "start_time": "2023-09-16T16:08:38.501Z"
   },
   {
    "duration": 66,
    "start_time": "2023-09-16T16:08:38.517Z"
   },
   {
    "duration": 5,
    "start_time": "2023-09-16T16:08:38.585Z"
   },
   {
    "duration": 21,
    "start_time": "2023-09-16T16:08:38.591Z"
   },
   {
    "duration": 48,
    "start_time": "2023-09-16T16:08:38.614Z"
   },
   {
    "duration": 45,
    "start_time": "2023-09-16T16:08:38.664Z"
   },
   {
    "duration": 9,
    "start_time": "2023-09-16T16:08:38.711Z"
   },
   {
    "duration": 19,
    "start_time": "2023-09-16T16:08:38.745Z"
   },
   {
    "duration": 200,
    "start_time": "2023-09-16T16:08:38.766Z"
   },
   {
    "duration": 225,
    "start_time": "2023-09-16T16:08:38.967Z"
   },
   {
    "duration": 137,
    "start_time": "2023-09-16T16:08:39.193Z"
   },
   {
    "duration": 4,
    "start_time": "2023-09-16T16:08:39.332Z"
   },
   {
    "duration": 14,
    "start_time": "2023-09-16T16:08:39.345Z"
   },
   {
    "duration": 173,
    "start_time": "2023-09-16T16:08:39.361Z"
   },
   {
    "duration": 269,
    "start_time": "2023-09-16T16:08:39.535Z"
   },
   {
    "duration": 12,
    "start_time": "2023-09-16T16:08:39.805Z"
   },
   {
    "duration": 16,
    "start_time": "2023-09-16T16:08:39.818Z"
   },
   {
    "duration": 17,
    "start_time": "2023-09-16T16:08:39.835Z"
   },
   {
    "duration": 250,
    "start_time": "2023-09-16T16:08:39.854Z"
   },
   {
    "duration": 11,
    "start_time": "2023-09-16T16:08:40.106Z"
   },
   {
    "duration": 35,
    "start_time": "2023-09-16T16:08:40.119Z"
   },
   {
    "duration": 8,
    "start_time": "2023-09-16T16:08:40.156Z"
   },
   {
    "duration": 11,
    "start_time": "2023-09-16T16:08:40.166Z"
   },
   {
    "duration": 16,
    "start_time": "2023-09-16T16:08:40.178Z"
   },
   {
    "duration": 6,
    "start_time": "2023-09-16T16:08:40.196Z"
   },
   {
    "duration": 17,
    "start_time": "2023-09-16T16:08:40.203Z"
   },
   {
    "duration": 42,
    "start_time": "2023-09-16T16:08:40.221Z"
   },
   {
    "duration": 5,
    "start_time": "2023-09-16T16:08:40.265Z"
   },
   {
    "duration": 22,
    "start_time": "2023-09-16T16:08:40.271Z"
   },
   {
    "duration": 31,
    "start_time": "2023-09-16T16:08:40.295Z"
   },
   {
    "duration": 352,
    "start_time": "2023-09-16T16:08:40.327Z"
   },
   {
    "duration": 6,
    "start_time": "2023-09-16T18:21:41.679Z"
   },
   {
    "duration": 11,
    "start_time": "2023-09-16T18:23:30.714Z"
   },
   {
    "duration": 19,
    "start_time": "2023-09-16T18:23:41.474Z"
   },
   {
    "duration": 18,
    "start_time": "2023-09-16T18:24:16.679Z"
   },
   {
    "duration": 17,
    "start_time": "2023-09-16T18:34:11.897Z"
   },
   {
    "duration": 178,
    "start_time": "2023-09-19T07:42:20.468Z"
   },
   {
    "duration": 44,
    "start_time": "2023-09-19T07:53:52.026Z"
   },
   {
    "duration": 9,
    "start_time": "2023-09-19T07:54:34.681Z"
   },
   {
    "duration": 19,
    "start_time": "2023-09-19T07:54:34.692Z"
   },
   {
    "duration": 877,
    "start_time": "2023-09-19T07:54:34.713Z"
   },
   {
    "duration": 4,
    "start_time": "2023-09-19T07:54:35.591Z"
   },
   {
    "duration": 287,
    "start_time": "2023-09-19T07:54:35.597Z"
   },
   {
    "duration": 21,
    "start_time": "2023-09-19T07:54:35.886Z"
   },
   {
    "duration": 18,
    "start_time": "2023-09-19T07:54:35.909Z"
   },
   {
    "duration": 23,
    "start_time": "2023-09-19T07:54:35.929Z"
   },
   {
    "duration": 30,
    "start_time": "2023-09-19T07:54:35.954Z"
   },
   {
    "duration": 15,
    "start_time": "2023-09-19T07:54:35.986Z"
   },
   {
    "duration": 28,
    "start_time": "2023-09-19T07:54:36.003Z"
   },
   {
    "duration": 34,
    "start_time": "2023-09-19T07:54:36.033Z"
   },
   {
    "duration": 34,
    "start_time": "2023-09-19T07:54:36.069Z"
   },
   {
    "duration": 29,
    "start_time": "2023-09-19T07:54:36.107Z"
   },
   {
    "duration": 15,
    "start_time": "2023-09-19T07:54:36.138Z"
   },
   {
    "duration": 18,
    "start_time": "2023-09-19T07:54:36.156Z"
   },
   {
    "duration": 10,
    "start_time": "2023-09-19T07:54:36.176Z"
   },
   {
    "duration": 34,
    "start_time": "2023-09-19T07:54:36.187Z"
   },
   {
    "duration": 31,
    "start_time": "2023-09-19T07:54:36.223Z"
   },
   {
    "duration": 14,
    "start_time": "2023-09-19T07:54:36.256Z"
   },
   {
    "duration": 5,
    "start_time": "2023-09-19T07:54:36.272Z"
   },
   {
    "duration": 26,
    "start_time": "2023-09-19T07:54:36.279Z"
   },
   {
    "duration": 11,
    "start_time": "2023-09-19T07:54:36.307Z"
   },
   {
    "duration": 9,
    "start_time": "2023-09-19T07:54:36.320Z"
   },
   {
    "duration": 12,
    "start_time": "2023-09-19T07:54:36.331Z"
   },
   {
    "duration": 73,
    "start_time": "2023-09-19T07:54:36.344Z"
   },
   {
    "duration": 18,
    "start_time": "2023-09-19T07:54:36.419Z"
   },
   {
    "duration": 13,
    "start_time": "2023-09-19T07:54:36.439Z"
   },
   {
    "duration": 40,
    "start_time": "2023-09-19T07:54:36.455Z"
   },
   {
    "duration": 12,
    "start_time": "2023-09-19T07:54:36.496Z"
   },
   {
    "duration": 21,
    "start_time": "2023-09-19T07:54:36.510Z"
   },
   {
    "duration": 51,
    "start_time": "2023-09-19T07:54:36.533Z"
   },
   {
    "duration": 23,
    "start_time": "2023-09-19T07:54:36.586Z"
   },
   {
    "duration": 15,
    "start_time": "2023-09-19T07:54:36.611Z"
   },
   {
    "duration": 58,
    "start_time": "2023-09-19T07:54:36.628Z"
   },
   {
    "duration": 18,
    "start_time": "2023-09-19T07:54:36.688Z"
   },
   {
    "duration": 20,
    "start_time": "2023-09-19T07:54:36.708Z"
   },
   {
    "duration": 6,
    "start_time": "2023-09-19T07:54:36.730Z"
   },
   {
    "duration": 47,
    "start_time": "2023-09-19T07:54:36.739Z"
   },
   {
    "duration": 59,
    "start_time": "2023-09-19T07:54:36.788Z"
   },
   {
    "duration": 28,
    "start_time": "2023-09-19T07:54:36.853Z"
   },
   {
    "duration": 29,
    "start_time": "2023-09-19T07:54:36.884Z"
   },
   {
    "duration": 19,
    "start_time": "2023-09-19T07:54:36.915Z"
   },
   {
    "duration": 55,
    "start_time": "2023-09-19T07:54:36.936Z"
   },
   {
    "duration": 19,
    "start_time": "2023-09-19T07:54:36.993Z"
   },
   {
    "duration": 23,
    "start_time": "2023-09-19T07:54:37.014Z"
   },
   {
    "duration": 9,
    "start_time": "2023-09-19T07:54:37.038Z"
   },
   {
    "duration": 43,
    "start_time": "2023-09-19T07:54:37.048Z"
   },
   {
    "duration": 6,
    "start_time": "2023-09-19T07:54:37.092Z"
   },
   {
    "duration": 12,
    "start_time": "2023-09-19T07:54:37.099Z"
   },
   {
    "duration": 16,
    "start_time": "2023-09-19T07:54:37.112Z"
   },
   {
    "duration": 8,
    "start_time": "2023-09-19T07:54:37.129Z"
   },
   {
    "duration": 7,
    "start_time": "2023-09-19T07:54:37.138Z"
   },
   {
    "duration": 45,
    "start_time": "2023-09-19T07:54:37.147Z"
   },
   {
    "duration": 6,
    "start_time": "2023-09-19T07:54:37.194Z"
   },
   {
    "duration": 26,
    "start_time": "2023-09-19T07:54:37.201Z"
   },
   {
    "duration": 57,
    "start_time": "2023-09-19T07:54:37.229Z"
   },
   {
    "duration": 21,
    "start_time": "2023-09-19T07:54:37.287Z"
   },
   {
    "duration": 10,
    "start_time": "2023-09-19T07:54:37.310Z"
   },
   {
    "duration": 23,
    "start_time": "2023-09-19T07:54:37.322Z"
   },
   {
    "duration": 51,
    "start_time": "2023-09-19T07:54:37.347Z"
   },
   {
    "duration": 47,
    "start_time": "2023-09-19T07:54:37.400Z"
   },
   {
    "duration": 6,
    "start_time": "2023-09-19T07:54:37.449Z"
   },
   {
    "duration": 31,
    "start_time": "2023-09-19T07:54:37.456Z"
   },
   {
    "duration": 39,
    "start_time": "2023-09-19T07:54:37.489Z"
   },
   {
    "duration": 66,
    "start_time": "2023-09-19T07:54:37.530Z"
   },
   {
    "duration": 9,
    "start_time": "2023-09-19T07:54:37.598Z"
   },
   {
    "duration": 18,
    "start_time": "2023-09-19T07:54:37.609Z"
   },
   {
    "duration": 221,
    "start_time": "2023-09-19T07:54:37.628Z"
   },
   {
    "duration": 243,
    "start_time": "2023-09-19T07:54:37.851Z"
   },
   {
    "duration": 147,
    "start_time": "2023-09-19T07:54:38.096Z"
   },
   {
    "duration": 4,
    "start_time": "2023-09-19T07:54:38.245Z"
   },
   {
    "duration": 14,
    "start_time": "2023-09-19T07:54:38.251Z"
   },
   {
    "duration": 185,
    "start_time": "2023-09-19T07:54:38.281Z"
   },
   {
    "duration": 272,
    "start_time": "2023-09-19T07:54:38.468Z"
   },
   {
    "duration": 13,
    "start_time": "2023-09-19T07:54:38.742Z"
   },
   {
    "duration": 25,
    "start_time": "2023-09-19T07:54:38.757Z"
   },
   {
    "duration": 15,
    "start_time": "2023-09-19T07:54:38.784Z"
   },
   {
    "duration": 265,
    "start_time": "2023-09-19T07:54:38.801Z"
   },
   {
    "duration": 19,
    "start_time": "2023-09-19T07:54:39.068Z"
   },
   {
    "duration": 25,
    "start_time": "2023-09-19T07:54:39.089Z"
   },
   {
    "duration": 20,
    "start_time": "2023-09-19T07:54:39.116Z"
   },
   {
    "duration": 15,
    "start_time": "2023-09-19T07:54:39.137Z"
   },
   {
    "duration": 23,
    "start_time": "2023-09-19T07:54:39.154Z"
   },
   {
    "duration": 8,
    "start_time": "2023-09-19T07:54:39.185Z"
   },
   {
    "duration": 19,
    "start_time": "2023-09-19T07:54:39.194Z"
   },
   {
    "duration": 20,
    "start_time": "2023-09-19T07:54:39.214Z"
   },
   {
    "duration": 11,
    "start_time": "2023-09-19T07:54:39.236Z"
   },
   {
    "duration": 34,
    "start_time": "2023-09-19T07:54:39.248Z"
   },
   {
    "duration": 42,
    "start_time": "2023-09-19T07:54:39.284Z"
   },
   {
    "duration": 359,
    "start_time": "2023-09-19T07:54:39.328Z"
   },
   {
    "duration": 20,
    "start_time": "2023-09-19T07:55:29.556Z"
   },
   {
    "duration": 9,
    "start_time": "2023-09-19T07:55:50.457Z"
   },
   {
    "duration": 9,
    "start_time": "2023-09-19T07:55:50.468Z"
   },
   {
    "duration": 696,
    "start_time": "2023-09-19T07:55:50.479Z"
   },
   {
    "duration": 3,
    "start_time": "2023-09-19T07:55:51.177Z"
   },
   {
    "duration": 150,
    "start_time": "2023-09-19T07:55:51.182Z"
   },
   {
    "duration": 18,
    "start_time": "2023-09-19T07:55:51.334Z"
   },
   {
    "duration": 15,
    "start_time": "2023-09-19T07:55:51.354Z"
   },
   {
    "duration": 43,
    "start_time": "2023-09-19T07:55:51.371Z"
   },
   {
    "duration": 14,
    "start_time": "2023-09-19T07:55:51.416Z"
   },
   {
    "duration": 31,
    "start_time": "2023-09-19T07:55:51.432Z"
   },
   {
    "duration": 21,
    "start_time": "2023-09-19T07:55:51.464Z"
   },
   {
    "duration": 29,
    "start_time": "2023-09-19T07:55:51.487Z"
   },
   {
    "duration": 11,
    "start_time": "2023-09-19T07:55:51.518Z"
   },
   {
    "duration": 13,
    "start_time": "2023-09-19T07:55:51.532Z"
   },
   {
    "duration": 35,
    "start_time": "2023-09-19T07:55:51.547Z"
   },
   {
    "duration": 28,
    "start_time": "2023-09-19T07:55:51.584Z"
   },
   {
    "duration": 24,
    "start_time": "2023-09-19T07:55:51.614Z"
   },
   {
    "duration": 12,
    "start_time": "2023-09-19T07:55:51.641Z"
   },
   {
    "duration": 12,
    "start_time": "2023-09-19T07:55:51.654Z"
   },
   {
    "duration": 30,
    "start_time": "2023-09-19T07:55:51.668Z"
   },
   {
    "duration": 15,
    "start_time": "2023-09-19T07:55:51.700Z"
   },
   {
    "duration": 16,
    "start_time": "2023-09-19T07:55:51.717Z"
   },
   {
    "duration": 16,
    "start_time": "2023-09-19T07:55:51.735Z"
   },
   {
    "duration": 9,
    "start_time": "2023-09-19T07:55:51.753Z"
   },
   {
    "duration": 24,
    "start_time": "2023-09-19T07:55:51.764Z"
   },
   {
    "duration": 22,
    "start_time": "2023-09-19T07:55:51.790Z"
   },
   {
    "duration": 53,
    "start_time": "2023-09-19T07:55:51.814Z"
   },
   {
    "duration": 18,
    "start_time": "2023-09-19T07:55:51.869Z"
   },
   {
    "duration": 20,
    "start_time": "2023-09-19T07:55:51.889Z"
   },
   {
    "duration": 17,
    "start_time": "2023-09-19T07:55:51.910Z"
   },
   {
    "duration": 24,
    "start_time": "2023-09-19T07:55:51.929Z"
   },
   {
    "duration": 32,
    "start_time": "2023-09-19T07:55:51.955Z"
   },
   {
    "duration": 10,
    "start_time": "2023-09-19T07:55:51.988Z"
   },
   {
    "duration": 28,
    "start_time": "2023-09-19T07:55:52.000Z"
   },
   {
    "duration": 30,
    "start_time": "2023-09-19T07:55:52.030Z"
   },
   {
    "duration": 22,
    "start_time": "2023-09-19T07:55:52.062Z"
   },
   {
    "duration": 24,
    "start_time": "2023-09-19T07:55:52.085Z"
   },
   {
    "duration": 14,
    "start_time": "2023-09-19T07:55:52.110Z"
   },
   {
    "duration": 15,
    "start_time": "2023-09-19T07:55:52.125Z"
   },
   {
    "duration": 23,
    "start_time": "2023-09-19T07:55:52.141Z"
   },
   {
    "duration": 26,
    "start_time": "2023-09-19T07:55:52.169Z"
   },
   {
    "duration": 24,
    "start_time": "2023-09-19T07:55:52.197Z"
   },
   {
    "duration": 28,
    "start_time": "2023-09-19T07:55:52.223Z"
   },
   {
    "duration": 41,
    "start_time": "2023-09-19T07:55:52.253Z"
   },
   {
    "duration": 23,
    "start_time": "2023-09-19T07:55:52.296Z"
   },
   {
    "duration": 27,
    "start_time": "2023-09-19T07:55:52.321Z"
   },
   {
    "duration": 42,
    "start_time": "2023-09-19T07:55:52.350Z"
   },
   {
    "duration": 5,
    "start_time": "2023-09-19T07:55:52.394Z"
   },
   {
    "duration": 36,
    "start_time": "2023-09-19T07:55:52.400Z"
   },
   {
    "duration": 10,
    "start_time": "2023-09-19T07:55:52.438Z"
   },
   {
    "duration": 15,
    "start_time": "2023-09-19T07:55:52.449Z"
   },
   {
    "duration": 27,
    "start_time": "2023-09-19T07:55:52.466Z"
   },
   {
    "duration": 6,
    "start_time": "2023-09-19T07:55:52.495Z"
   },
   {
    "duration": 22,
    "start_time": "2023-09-19T07:55:52.503Z"
   },
   {
    "duration": 10,
    "start_time": "2023-09-19T07:55:52.527Z"
   },
   {
    "duration": 7,
    "start_time": "2023-09-19T07:55:52.539Z"
   },
   {
    "duration": 47,
    "start_time": "2023-09-19T07:55:52.548Z"
   },
   {
    "duration": 18,
    "start_time": "2023-09-19T07:55:52.597Z"
   },
   {
    "duration": 21,
    "start_time": "2023-09-19T07:55:52.617Z"
   },
   {
    "duration": 42,
    "start_time": "2023-09-19T07:55:52.640Z"
   },
   {
    "duration": 23,
    "start_time": "2023-09-19T07:55:52.684Z"
   },
   {
    "duration": 18,
    "start_time": "2023-09-19T07:55:52.709Z"
   },
   {
    "duration": 79,
    "start_time": "2023-09-19T07:55:52.729Z"
   },
   {
    "duration": 8,
    "start_time": "2023-09-19T07:55:52.810Z"
   },
   {
    "duration": 16,
    "start_time": "2023-09-19T07:55:52.820Z"
   },
   {
    "duration": 45,
    "start_time": "2023-09-19T07:55:52.837Z"
   },
   {
    "duration": 32,
    "start_time": "2023-09-19T07:55:52.884Z"
   },
   {
    "duration": 8,
    "start_time": "2023-09-19T07:55:52.918Z"
   },
   {
    "duration": 20,
    "start_time": "2023-09-19T07:55:52.928Z"
   },
   {
    "duration": 213,
    "start_time": "2023-09-19T07:55:52.950Z"
   },
   {
    "duration": 234,
    "start_time": "2023-09-19T07:55:53.165Z"
   },
   {
    "duration": 181,
    "start_time": "2023-09-19T07:55:53.401Z"
   },
   {
    "duration": 4,
    "start_time": "2023-09-19T07:55:53.584Z"
   },
   {
    "duration": 13,
    "start_time": "2023-09-19T07:55:53.590Z"
   },
   {
    "duration": 219,
    "start_time": "2023-09-19T07:55:53.605Z"
   },
   {
    "duration": 278,
    "start_time": "2023-09-19T07:55:53.825Z"
   },
   {
    "duration": 12,
    "start_time": "2023-09-19T07:55:54.105Z"
   },
   {
    "duration": 9,
    "start_time": "2023-09-19T07:55:54.118Z"
   },
   {
    "duration": 15,
    "start_time": "2023-09-19T07:55:54.128Z"
   },
   {
    "duration": 266,
    "start_time": "2023-09-19T07:55:54.145Z"
   },
   {
    "duration": 12,
    "start_time": "2023-09-19T07:55:54.413Z"
   },
   {
    "duration": 24,
    "start_time": "2023-09-19T07:55:54.427Z"
   },
   {
    "duration": 37,
    "start_time": "2023-09-19T07:55:54.452Z"
   },
   {
    "duration": 13,
    "start_time": "2023-09-19T07:55:54.491Z"
   },
   {
    "duration": 10,
    "start_time": "2023-09-19T07:55:54.506Z"
   },
   {
    "duration": 6,
    "start_time": "2023-09-19T07:55:54.518Z"
   },
   {
    "duration": 17,
    "start_time": "2023-09-19T07:55:54.525Z"
   },
   {
    "duration": 53,
    "start_time": "2023-09-19T07:55:54.544Z"
   },
   {
    "duration": 6,
    "start_time": "2023-09-19T07:55:54.600Z"
   },
   {
    "duration": 18,
    "start_time": "2023-09-19T07:55:54.608Z"
   },
   {
    "duration": 63,
    "start_time": "2023-09-19T07:55:54.628Z"
   },
   {
    "duration": 354,
    "start_time": "2023-09-19T07:55:54.693Z"
   },
   {
    "duration": 4,
    "start_time": "2023-09-19T08:14:57.685Z"
   },
   {
    "duration": 3,
    "start_time": "2023-09-19T08:16:18.743Z"
   },
   {
    "duration": 34,
    "start_time": "2023-09-19T08:22:08.595Z"
   },
   {
    "duration": 17,
    "start_time": "2023-09-19T08:24:40.705Z"
   },
   {
    "duration": 9,
    "start_time": "2023-09-19T08:25:13.226Z"
   },
   {
    "duration": 5,
    "start_time": "2023-09-19T08:25:13.263Z"
   },
   {
    "duration": 736,
    "start_time": "2023-09-19T08:25:13.270Z"
   },
   {
    "duration": 3,
    "start_time": "2023-09-19T08:25:14.008Z"
   },
   {
    "duration": 172,
    "start_time": "2023-09-19T08:25:14.013Z"
   },
   {
    "duration": 21,
    "start_time": "2023-09-19T08:25:14.188Z"
   },
   {
    "duration": 15,
    "start_time": "2023-09-19T08:25:14.211Z"
   },
   {
    "duration": 19,
    "start_time": "2023-09-19T08:25:14.228Z"
   },
   {
    "duration": 36,
    "start_time": "2023-09-19T08:25:14.249Z"
   },
   {
    "duration": 12,
    "start_time": "2023-09-19T08:25:14.287Z"
   },
   {
    "duration": 16,
    "start_time": "2023-09-19T08:25:14.301Z"
   },
   {
    "duration": 21,
    "start_time": "2023-09-19T08:25:14.319Z"
   },
   {
    "duration": 39,
    "start_time": "2023-09-19T08:25:14.342Z"
   },
   {
    "duration": 9,
    "start_time": "2023-09-19T08:25:14.383Z"
   },
   {
    "duration": 16,
    "start_time": "2023-09-19T08:25:14.396Z"
   },
   {
    "duration": 28,
    "start_time": "2023-09-19T08:25:14.415Z"
   },
   {
    "duration": 43,
    "start_time": "2023-09-19T08:25:14.446Z"
   },
   {
    "duration": 17,
    "start_time": "2023-09-19T08:25:14.492Z"
   },
   {
    "duration": 6,
    "start_time": "2023-09-19T08:25:14.511Z"
   },
   {
    "duration": 11,
    "start_time": "2023-09-19T08:25:14.519Z"
   },
   {
    "duration": 11,
    "start_time": "2023-09-19T08:25:14.532Z"
   },
   {
    "duration": 15,
    "start_time": "2023-09-19T08:25:14.545Z"
   },
   {
    "duration": 23,
    "start_time": "2023-09-19T08:25:14.562Z"
   },
   {
    "duration": 6,
    "start_time": "2023-09-19T08:25:14.587Z"
   },
   {
    "duration": 6,
    "start_time": "2023-09-19T08:25:14.595Z"
   },
   {
    "duration": 32,
    "start_time": "2023-09-19T08:25:14.603Z"
   },
   {
    "duration": 80,
    "start_time": "2023-09-19T08:25:14.637Z"
   },
   {
    "duration": 19,
    "start_time": "2023-09-19T08:25:14.719Z"
   },
   {
    "duration": 22,
    "start_time": "2023-09-19T08:25:14.739Z"
   },
   {
    "duration": 33,
    "start_time": "2023-09-19T08:25:14.764Z"
   },
   {
    "duration": 22,
    "start_time": "2023-09-19T08:25:14.799Z"
   },
   {
    "duration": 19,
    "start_time": "2023-09-19T08:25:14.823Z"
   },
   {
    "duration": 36,
    "start_time": "2023-09-19T08:25:14.845Z"
   },
   {
    "duration": 19,
    "start_time": "2023-09-19T08:25:14.882Z"
   },
   {
    "duration": 16,
    "start_time": "2023-09-19T08:25:14.902Z"
   },
   {
    "duration": 23,
    "start_time": "2023-09-19T08:25:14.920Z"
   },
   {
    "duration": 40,
    "start_time": "2023-09-19T08:25:14.945Z"
   },
   {
    "duration": 18,
    "start_time": "2023-09-19T08:25:14.986Z"
   },
   {
    "duration": 43,
    "start_time": "2023-09-19T08:25:15.006Z"
   },
   {
    "duration": 52,
    "start_time": "2023-09-19T08:25:15.051Z"
   },
   {
    "duration": 24,
    "start_time": "2023-09-19T08:25:15.104Z"
   },
   {
    "duration": 40,
    "start_time": "2023-09-19T08:25:15.133Z"
   },
   {
    "duration": 30,
    "start_time": "2023-09-19T08:25:15.175Z"
   },
   {
    "duration": 31,
    "start_time": "2023-09-19T08:25:15.207Z"
   },
   {
    "duration": 16,
    "start_time": "2023-09-19T08:25:15.239Z"
   },
   {
    "duration": 38,
    "start_time": "2023-09-19T08:25:15.257Z"
   },
   {
    "duration": 18,
    "start_time": "2023-09-19T08:25:15.297Z"
   },
   {
    "duration": 37,
    "start_time": "2023-09-19T08:25:15.317Z"
   },
   {
    "duration": 10,
    "start_time": "2023-09-19T08:25:15.356Z"
   },
   {
    "duration": 20,
    "start_time": "2023-09-19T08:25:15.381Z"
   },
   {
    "duration": 19,
    "start_time": "2023-09-19T08:25:15.403Z"
   },
   {
    "duration": 13,
    "start_time": "2023-09-19T08:25:15.424Z"
   },
   {
    "duration": 19,
    "start_time": "2023-09-19T08:25:15.439Z"
   },
   {
    "duration": 24,
    "start_time": "2023-09-19T08:25:15.460Z"
   },
   {
    "duration": 8,
    "start_time": "2023-09-19T08:25:15.485Z"
   },
   {
    "duration": 12,
    "start_time": "2023-09-19T08:25:15.495Z"
   },
   {
    "duration": 8,
    "start_time": "2023-09-19T08:25:15.509Z"
   },
   {
    "duration": 26,
    "start_time": "2023-09-19T08:25:15.518Z"
   },
   {
    "duration": 44,
    "start_time": "2023-09-19T08:25:15.546Z"
   },
   {
    "duration": 33,
    "start_time": "2023-09-19T08:25:15.592Z"
   },
   {
    "duration": 20,
    "start_time": "2023-09-19T08:25:15.626Z"
   },
   {
    "duration": 39,
    "start_time": "2023-09-19T08:25:15.648Z"
   },
   {
    "duration": 8,
    "start_time": "2023-09-19T08:25:15.689Z"
   },
   {
    "duration": 25,
    "start_time": "2023-09-19T08:25:15.699Z"
   },
   {
    "duration": 58,
    "start_time": "2023-09-19T08:25:15.726Z"
   },
   {
    "duration": 39,
    "start_time": "2023-09-19T08:25:15.786Z"
   },
   {
    "duration": 7,
    "start_time": "2023-09-19T08:25:15.827Z"
   },
   {
    "duration": 7,
    "start_time": "2023-09-19T08:25:15.836Z"
   },
   {
    "duration": 72,
    "start_time": "2023-09-19T08:25:15.846Z"
   },
   {
    "duration": 58,
    "start_time": "2023-09-19T08:25:15.920Z"
   },
   {
    "duration": 11,
    "start_time": "2023-09-19T08:25:15.980Z"
   },
   {
    "duration": 30,
    "start_time": "2023-09-19T08:25:15.992Z"
   },
   {
    "duration": 212,
    "start_time": "2023-09-19T08:25:16.023Z"
   },
   {
    "duration": 250,
    "start_time": "2023-09-19T08:25:16.237Z"
   },
   {
    "duration": 159,
    "start_time": "2023-09-19T08:25:16.490Z"
   },
   {
    "duration": 5,
    "start_time": "2023-09-19T08:25:16.651Z"
   },
   {
    "duration": 28,
    "start_time": "2023-09-19T08:25:16.658Z"
   },
   {
    "duration": 195,
    "start_time": "2023-09-19T08:25:16.688Z"
   },
   {
    "duration": 414,
    "start_time": "2023-09-19T08:25:16.885Z"
   },
   {
    "duration": 13,
    "start_time": "2023-09-19T08:25:17.301Z"
   },
   {
    "duration": 5,
    "start_time": "2023-09-19T08:25:17.316Z"
   },
   {
    "duration": 10,
    "start_time": "2023-09-19T08:25:17.323Z"
   },
   {
    "duration": 285,
    "start_time": "2023-09-19T08:25:17.334Z"
   },
   {
    "duration": 14,
    "start_time": "2023-09-19T08:25:17.620Z"
   },
   {
    "duration": 23,
    "start_time": "2023-09-19T08:25:17.636Z"
   },
   {
    "duration": 27,
    "start_time": "2023-09-19T08:25:17.660Z"
   },
   {
    "duration": 12,
    "start_time": "2023-09-19T08:25:17.688Z"
   },
   {
    "duration": 20,
    "start_time": "2023-09-19T08:25:17.702Z"
   },
   {
    "duration": 9,
    "start_time": "2023-09-19T08:25:17.723Z"
   },
   {
    "duration": 21,
    "start_time": "2023-09-19T08:25:17.734Z"
   },
   {
    "duration": 39,
    "start_time": "2023-09-19T08:25:17.757Z"
   },
   {
    "duration": 6,
    "start_time": "2023-09-19T08:25:17.797Z"
   },
   {
    "duration": 13,
    "start_time": "2023-09-19T08:25:17.804Z"
   },
   {
    "duration": 63,
    "start_time": "2023-09-19T08:25:17.819Z"
   },
   {
    "duration": 347,
    "start_time": "2023-09-19T08:25:17.884Z"
   },
   {
    "duration": 201,
    "start_time": "2023-09-19T08:31:04.446Z"
   },
   {
    "duration": 170,
    "start_time": "2023-09-19T08:31:42.607Z"
   },
   {
    "duration": 186,
    "start_time": "2023-09-19T08:32:53.674Z"
   },
   {
    "duration": 262,
    "start_time": "2023-09-19T08:34:08.158Z"
   },
   {
    "duration": 160,
    "start_time": "2023-09-19T08:35:09.025Z"
   },
   {
    "duration": 219,
    "start_time": "2023-09-19T08:36:26.649Z"
   },
   {
    "duration": 275,
    "start_time": "2023-09-19T08:42:12.811Z"
   },
   {
    "duration": 266,
    "start_time": "2023-09-19T08:42:19.624Z"
   },
   {
    "duration": 337,
    "start_time": "2023-09-19T08:45:01.144Z"
   },
   {
    "duration": 246,
    "start_time": "2023-09-19T08:45:21.322Z"
   },
   {
    "duration": 120,
    "start_time": "2023-09-19T08:51:12.660Z"
   },
   {
    "duration": 121,
    "start_time": "2023-09-19T08:51:26.961Z"
   },
   {
    "duration": 155,
    "start_time": "2023-09-19T08:52:17.502Z"
   },
   {
    "duration": 197,
    "start_time": "2023-09-19T08:54:47.072Z"
   },
   {
    "duration": 309,
    "start_time": "2023-09-19T09:02:14.639Z"
   },
   {
    "duration": 390,
    "start_time": "2023-09-19T09:04:25.870Z"
   },
   {
    "duration": 297,
    "start_time": "2023-09-19T09:04:57.886Z"
   },
   {
    "duration": 285,
    "start_time": "2023-09-19T09:05:55.049Z"
   },
   {
    "duration": 9,
    "start_time": "2023-09-19T09:08:54.121Z"
   },
   {
    "duration": 6,
    "start_time": "2023-09-19T09:08:54.133Z"
   },
   {
    "duration": 807,
    "start_time": "2023-09-19T09:08:54.141Z"
   },
   {
    "duration": 3,
    "start_time": "2023-09-19T09:08:54.950Z"
   },
   {
    "duration": 190,
    "start_time": "2023-09-19T09:08:54.956Z"
   },
   {
    "duration": 18,
    "start_time": "2023-09-19T09:08:55.148Z"
   },
   {
    "duration": 23,
    "start_time": "2023-09-19T09:08:55.168Z"
   },
   {
    "duration": 53,
    "start_time": "2023-09-19T09:08:55.193Z"
   },
   {
    "duration": 15,
    "start_time": "2023-09-19T09:08:55.249Z"
   },
   {
    "duration": 55,
    "start_time": "2023-09-19T09:08:55.266Z"
   },
   {
    "duration": 43,
    "start_time": "2023-09-19T09:08:55.322Z"
   },
   {
    "duration": 44,
    "start_time": "2023-09-19T09:08:55.367Z"
   },
   {
    "duration": 9,
    "start_time": "2023-09-19T09:08:55.413Z"
   },
   {
    "duration": 37,
    "start_time": "2023-09-19T09:08:55.424Z"
   },
   {
    "duration": 58,
    "start_time": "2023-09-19T09:08:55.463Z"
   },
   {
    "duration": 23,
    "start_time": "2023-09-19T09:08:55.523Z"
   },
   {
    "duration": 33,
    "start_time": "2023-09-19T09:08:55.548Z"
   },
   {
    "duration": 34,
    "start_time": "2023-09-19T09:08:55.582Z"
   },
   {
    "duration": 38,
    "start_time": "2023-09-19T09:08:55.618Z"
   },
   {
    "duration": 25,
    "start_time": "2023-09-19T09:08:55.658Z"
   },
   {
    "duration": 43,
    "start_time": "2023-09-19T09:08:55.685Z"
   },
   {
    "duration": 40,
    "start_time": "2023-09-19T09:08:55.729Z"
   },
   {
    "duration": 38,
    "start_time": "2023-09-19T09:08:55.771Z"
   },
   {
    "duration": 70,
    "start_time": "2023-09-19T09:08:55.810Z"
   },
   {
    "duration": 27,
    "start_time": "2023-09-19T09:08:55.881Z"
   },
   {
    "duration": 56,
    "start_time": "2023-09-19T09:08:55.909Z"
   },
   {
    "duration": 78,
    "start_time": "2023-09-19T09:08:55.969Z"
   },
   {
    "duration": 17,
    "start_time": "2023-09-19T09:08:56.049Z"
   },
   {
    "duration": 58,
    "start_time": "2023-09-19T09:08:56.069Z"
   },
   {
    "duration": 43,
    "start_time": "2023-09-19T09:08:56.128Z"
   },
   {
    "duration": 30,
    "start_time": "2023-09-19T09:08:56.173Z"
   },
   {
    "duration": 42,
    "start_time": "2023-09-19T09:08:56.205Z"
   },
   {
    "duration": 17,
    "start_time": "2023-09-19T09:08:56.248Z"
   },
   {
    "duration": 63,
    "start_time": "2023-09-19T09:08:56.266Z"
   },
   {
    "duration": 26,
    "start_time": "2023-09-19T09:08:56.331Z"
   },
   {
    "duration": 18,
    "start_time": "2023-09-19T09:08:56.360Z"
   },
   {
    "duration": 23,
    "start_time": "2023-09-19T09:08:56.380Z"
   },
   {
    "duration": 20,
    "start_time": "2023-09-19T09:08:56.405Z"
   },
   {
    "duration": 6,
    "start_time": "2023-09-19T09:08:56.427Z"
   },
   {
    "duration": 21,
    "start_time": "2023-09-19T09:08:56.435Z"
   },
   {
    "duration": 5,
    "start_time": "2023-09-19T09:08:56.458Z"
   },
   {
    "duration": 60,
    "start_time": "2023-09-19T09:08:56.465Z"
   },
   {
    "duration": 39,
    "start_time": "2023-09-19T09:08:56.527Z"
   },
   {
    "duration": 46,
    "start_time": "2023-09-19T09:08:56.568Z"
   },
   {
    "duration": 22,
    "start_time": "2023-09-19T09:08:56.616Z"
   },
   {
    "duration": 55,
    "start_time": "2023-09-19T09:08:56.641Z"
   },
   {
    "duration": 26,
    "start_time": "2023-09-19T09:08:56.699Z"
   },
   {
    "duration": 31,
    "start_time": "2023-09-19T09:08:56.728Z"
   },
   {
    "duration": 7,
    "start_time": "2023-09-19T09:08:56.781Z"
   },
   {
    "duration": 29,
    "start_time": "2023-09-19T09:08:56.790Z"
   },
   {
    "duration": 8,
    "start_time": "2023-09-19T09:08:56.822Z"
   },
   {
    "duration": 10,
    "start_time": "2023-09-19T09:08:56.832Z"
   },
   {
    "duration": 53,
    "start_time": "2023-09-19T09:08:56.845Z"
   },
   {
    "duration": 9,
    "start_time": "2023-09-19T09:08:56.900Z"
   },
   {
    "duration": 7,
    "start_time": "2023-09-19T09:08:56.912Z"
   },
   {
    "duration": 15,
    "start_time": "2023-09-19T09:08:56.922Z"
   },
   {
    "duration": 42,
    "start_time": "2023-09-19T09:08:56.940Z"
   },
   {
    "duration": 28,
    "start_time": "2023-09-19T09:08:56.985Z"
   },
   {
    "duration": 19,
    "start_time": "2023-09-19T09:08:57.015Z"
   },
   {
    "duration": 54,
    "start_time": "2023-09-19T09:08:57.035Z"
   },
   {
    "duration": 36,
    "start_time": "2023-09-19T09:08:57.091Z"
   },
   {
    "duration": 22,
    "start_time": "2023-09-19T09:08:57.129Z"
   },
   {
    "duration": 31,
    "start_time": "2023-09-19T09:08:57.153Z"
   },
   {
    "duration": 32,
    "start_time": "2023-09-19T09:08:57.186Z"
   },
   {
    "duration": 20,
    "start_time": "2023-09-19T09:08:57.220Z"
   },
   {
    "duration": 70,
    "start_time": "2023-09-19T09:08:57.243Z"
   },
   {
    "duration": 7,
    "start_time": "2023-09-19T09:08:57.314Z"
   },
   {
    "duration": 7,
    "start_time": "2023-09-19T09:08:57.323Z"
   },
   {
    "duration": 58,
    "start_time": "2023-09-19T09:08:57.332Z"
   },
   {
    "duration": 33,
    "start_time": "2023-09-19T09:08:57.392Z"
   },
   {
    "duration": 9,
    "start_time": "2023-09-19T09:08:57.427Z"
   },
   {
    "duration": 55,
    "start_time": "2023-09-19T09:08:57.438Z"
   },
   {
    "duration": 219,
    "start_time": "2023-09-19T09:08:57.495Z"
   },
   {
    "duration": 255,
    "start_time": "2023-09-19T09:08:57.716Z"
   },
   {
    "duration": 159,
    "start_time": "2023-09-19T09:08:57.973Z"
   },
   {
    "duration": 5,
    "start_time": "2023-09-19T09:08:58.134Z"
   },
   {
    "duration": 9,
    "start_time": "2023-09-19T09:08:58.141Z"
   },
   {
    "duration": 211,
    "start_time": "2023-09-19T09:08:58.152Z"
   },
   {
    "duration": 297,
    "start_time": "2023-09-19T09:08:58.365Z"
   },
   {
    "duration": 21,
    "start_time": "2023-09-19T09:08:58.664Z"
   },
   {
    "duration": 4,
    "start_time": "2023-09-19T09:08:58.690Z"
   },
   {
    "duration": 10,
    "start_time": "2023-09-19T09:08:58.696Z"
   },
   {
    "duration": 299,
    "start_time": "2023-09-19T09:08:58.707Z"
   },
   {
    "duration": 14,
    "start_time": "2023-09-19T09:08:59.007Z"
   },
   {
    "duration": 63,
    "start_time": "2023-09-19T09:08:59.022Z"
   },
   {
    "duration": 32,
    "start_time": "2023-09-19T09:08:59.087Z"
   },
   {
    "duration": 11,
    "start_time": "2023-09-19T09:08:59.121Z"
   },
   {
    "duration": 13,
    "start_time": "2023-09-19T09:08:59.134Z"
   },
   {
    "duration": 7,
    "start_time": "2023-09-19T09:08:59.149Z"
   },
   {
    "duration": 30,
    "start_time": "2023-09-19T09:08:59.158Z"
   },
   {
    "duration": 27,
    "start_time": "2023-09-19T09:08:59.190Z"
   },
   {
    "duration": 7,
    "start_time": "2023-09-19T09:08:59.219Z"
   },
   {
    "duration": 16,
    "start_time": "2023-09-19T09:08:59.228Z"
   },
   {
    "duration": 62,
    "start_time": "2023-09-19T09:08:59.246Z"
   },
   {
    "duration": 374,
    "start_time": "2023-09-19T09:08:59.310Z"
   },
   {
    "duration": 398,
    "start_time": "2023-09-19T09:16:41.226Z"
   },
   {
    "duration": 484,
    "start_time": "2023-09-19T09:17:18.615Z"
   },
   {
    "duration": 215,
    "start_time": "2023-09-19T09:36:50.254Z"
   },
   {
    "duration": 9,
    "start_time": "2023-09-19T10:24:02.611Z"
   },
   {
    "duration": 57,
    "start_time": "2023-09-19T10:24:02.622Z"
   },
   {
    "duration": 999,
    "start_time": "2023-09-19T10:24:02.680Z"
   },
   {
    "duration": 3,
    "start_time": "2023-09-19T10:24:03.681Z"
   },
   {
    "duration": 176,
    "start_time": "2023-09-19T10:24:03.686Z"
   },
   {
    "duration": 17,
    "start_time": "2023-09-19T10:24:03.864Z"
   },
   {
    "duration": 59,
    "start_time": "2023-09-19T10:24:03.883Z"
   },
   {
    "duration": 51,
    "start_time": "2023-09-19T10:24:03.944Z"
   },
   {
    "duration": 36,
    "start_time": "2023-09-19T10:24:03.996Z"
   },
   {
    "duration": 34,
    "start_time": "2023-09-19T10:24:04.036Z"
   },
   {
    "duration": 45,
    "start_time": "2023-09-19T10:24:04.074Z"
   },
   {
    "duration": 45,
    "start_time": "2023-09-19T10:24:04.121Z"
   },
   {
    "duration": 46,
    "start_time": "2023-09-19T10:24:04.167Z"
   },
   {
    "duration": 33,
    "start_time": "2023-09-19T10:24:04.215Z"
   },
   {
    "duration": 22,
    "start_time": "2023-09-19T10:24:04.250Z"
   },
   {
    "duration": 34,
    "start_time": "2023-09-19T10:24:04.274Z"
   },
   {
    "duration": 27,
    "start_time": "2023-09-19T10:24:04.310Z"
   },
   {
    "duration": 48,
    "start_time": "2023-09-19T10:24:04.339Z"
   },
   {
    "duration": 28,
    "start_time": "2023-09-19T10:24:04.389Z"
   },
   {
    "duration": 31,
    "start_time": "2023-09-19T10:24:04.419Z"
   },
   {
    "duration": 44,
    "start_time": "2023-09-19T10:24:04.452Z"
   },
   {
    "duration": 19,
    "start_time": "2023-09-19T10:24:04.498Z"
   },
   {
    "duration": 35,
    "start_time": "2023-09-19T10:24:04.518Z"
   },
   {
    "duration": 67,
    "start_time": "2023-09-19T10:24:04.555Z"
   },
   {
    "duration": 44,
    "start_time": "2023-09-19T10:24:04.624Z"
   },
   {
    "duration": 44,
    "start_time": "2023-09-19T10:24:04.669Z"
   },
   {
    "duration": 95,
    "start_time": "2023-09-19T10:24:04.717Z"
   },
   {
    "duration": 17,
    "start_time": "2023-09-19T10:24:04.814Z"
   },
   {
    "duration": 54,
    "start_time": "2023-09-19T10:24:04.833Z"
   },
   {
    "duration": 26,
    "start_time": "2023-09-19T10:24:04.889Z"
   },
   {
    "duration": 15,
    "start_time": "2023-09-19T10:24:04.917Z"
   },
   {
    "duration": 17,
    "start_time": "2023-09-19T10:24:04.934Z"
   },
   {
    "duration": 29,
    "start_time": "2023-09-19T10:24:04.953Z"
   },
   {
    "duration": 17,
    "start_time": "2023-09-19T10:24:04.984Z"
   },
   {
    "duration": 12,
    "start_time": "2023-09-19T10:24:05.003Z"
   },
   {
    "duration": 21,
    "start_time": "2023-09-19T10:24:05.017Z"
   },
   {
    "duration": 46,
    "start_time": "2023-09-19T10:24:05.040Z"
   },
   {
    "duration": 11,
    "start_time": "2023-09-19T10:24:05.088Z"
   },
   {
    "duration": 6,
    "start_time": "2023-09-19T10:24:05.100Z"
   },
   {
    "duration": 14,
    "start_time": "2023-09-19T10:24:05.108Z"
   },
   {
    "duration": 4,
    "start_time": "2023-09-19T10:24:05.124Z"
   },
   {
    "duration": 68,
    "start_time": "2023-09-19T10:24:05.130Z"
   },
   {
    "duration": 29,
    "start_time": "2023-09-19T10:24:05.200Z"
   },
   {
    "duration": 51,
    "start_time": "2023-09-19T10:24:05.231Z"
   },
   {
    "duration": 17,
    "start_time": "2023-09-19T10:24:05.283Z"
   },
   {
    "duration": 27,
    "start_time": "2023-09-19T10:24:05.302Z"
   },
   {
    "duration": 19,
    "start_time": "2023-09-19T10:24:05.330Z"
   },
   {
    "duration": 46,
    "start_time": "2023-09-19T10:24:05.350Z"
   },
   {
    "duration": 4,
    "start_time": "2023-09-19T10:24:05.398Z"
   },
   {
    "duration": 34,
    "start_time": "2023-09-19T10:24:05.404Z"
   },
   {
    "duration": 7,
    "start_time": "2023-09-19T10:24:05.440Z"
   },
   {
    "duration": 14,
    "start_time": "2023-09-19T10:24:05.449Z"
   },
   {
    "duration": 29,
    "start_time": "2023-09-19T10:24:05.464Z"
   },
   {
    "duration": 12,
    "start_time": "2023-09-19T10:24:05.494Z"
   },
   {
    "duration": 7,
    "start_time": "2023-09-19T10:24:05.507Z"
   },
   {
    "duration": 11,
    "start_time": "2023-09-19T10:24:05.516Z"
   },
   {
    "duration": 5,
    "start_time": "2023-09-19T10:24:05.529Z"
   },
   {
    "duration": 57,
    "start_time": "2023-09-19T10:24:05.536Z"
   },
   {
    "duration": 15,
    "start_time": "2023-09-19T10:24:05.594Z"
   },
   {
    "duration": 19,
    "start_time": "2023-09-19T10:24:05.611Z"
   },
   {
    "duration": 18,
    "start_time": "2023-09-19T10:24:05.632Z"
   },
   {
    "duration": 46,
    "start_time": "2023-09-19T10:24:05.651Z"
   },
   {
    "duration": 9,
    "start_time": "2023-09-19T10:24:05.699Z"
   },
   {
    "duration": 31,
    "start_time": "2023-09-19T10:24:05.710Z"
   },
   {
    "duration": 38,
    "start_time": "2023-09-19T10:24:05.743Z"
   },
   {
    "duration": 37,
    "start_time": "2023-09-19T10:24:05.783Z"
   },
   {
    "duration": 5,
    "start_time": "2023-09-19T10:24:05.822Z"
   },
   {
    "duration": 36,
    "start_time": "2023-09-19T10:24:05.828Z"
   },
   {
    "duration": 37,
    "start_time": "2023-09-19T10:24:05.866Z"
   },
   {
    "duration": 33,
    "start_time": "2023-09-19T10:24:05.905Z"
   },
   {
    "duration": 8,
    "start_time": "2023-09-19T10:24:05.940Z"
   },
   {
    "duration": 43,
    "start_time": "2023-09-19T10:24:05.950Z"
   },
   {
    "duration": 202,
    "start_time": "2023-09-19T10:24:05.994Z"
   },
   {
    "duration": 250,
    "start_time": "2023-09-19T10:24:06.197Z"
   },
   {
    "duration": 172,
    "start_time": "2023-09-19T10:24:06.449Z"
   },
   {
    "duration": 6,
    "start_time": "2023-09-19T10:24:06.623Z"
   },
   {
    "duration": 11,
    "start_time": "2023-09-19T10:24:06.631Z"
   },
   {
    "duration": 261,
    "start_time": "2023-09-19T10:24:06.644Z"
   },
   {
    "duration": 3326,
    "start_time": "2023-09-19T10:24:06.907Z"
   },
   {
    "duration": 0,
    "start_time": "2023-09-19T10:24:10.235Z"
   },
   {
    "duration": 0,
    "start_time": "2023-09-19T10:24:10.236Z"
   },
   {
    "duration": 0,
    "start_time": "2023-09-19T10:24:10.237Z"
   },
   {
    "duration": 0,
    "start_time": "2023-09-19T10:24:10.238Z"
   },
   {
    "duration": 0,
    "start_time": "2023-09-19T10:24:10.239Z"
   },
   {
    "duration": 0,
    "start_time": "2023-09-19T10:24:10.240Z"
   },
   {
    "duration": 0,
    "start_time": "2023-09-19T10:24:10.241Z"
   },
   {
    "duration": 0,
    "start_time": "2023-09-19T10:24:10.242Z"
   },
   {
    "duration": 0,
    "start_time": "2023-09-19T10:24:10.243Z"
   },
   {
    "duration": 0,
    "start_time": "2023-09-19T10:24:10.245Z"
   },
   {
    "duration": 0,
    "start_time": "2023-09-19T10:24:10.246Z"
   },
   {
    "duration": 0,
    "start_time": "2023-09-19T10:24:10.247Z"
   },
   {
    "duration": 0,
    "start_time": "2023-09-19T10:24:10.248Z"
   },
   {
    "duration": 0,
    "start_time": "2023-09-19T10:24:10.249Z"
   },
   {
    "duration": 0,
    "start_time": "2023-09-19T10:24:10.250Z"
   },
   {
    "duration": 0,
    "start_time": "2023-09-19T10:24:10.251Z"
   },
   {
    "duration": 0,
    "start_time": "2023-09-19T10:24:10.252Z"
   },
   {
    "duration": 186,
    "start_time": "2023-09-19T10:24:52.013Z"
   },
   {
    "duration": 333,
    "start_time": "2023-09-19T10:25:12.431Z"
   },
   {
    "duration": 496,
    "start_time": "2023-09-19T10:25:30.590Z"
   },
   {
    "duration": 575,
    "start_time": "2023-09-19T10:29:07.819Z"
   },
   {
    "duration": 482,
    "start_time": "2023-09-19T10:29:44.884Z"
   },
   {
    "duration": 8,
    "start_time": "2023-09-19T10:30:18.859Z"
   },
   {
    "duration": 131,
    "start_time": "2023-09-19T10:32:36.219Z"
   },
   {
    "duration": 126,
    "start_time": "2023-09-19T10:35:33.161Z"
   },
   {
    "duration": 122,
    "start_time": "2023-09-19T10:36:17.901Z"
   },
   {
    "duration": 9,
    "start_time": "2023-09-19T10:40:53.057Z"
   },
   {
    "duration": 7,
    "start_time": "2023-09-19T10:40:53.068Z"
   },
   {
    "duration": 722,
    "start_time": "2023-09-19T10:40:53.076Z"
   },
   {
    "duration": 6,
    "start_time": "2023-09-19T10:40:53.800Z"
   },
   {
    "duration": 136,
    "start_time": "2023-09-19T10:40:53.808Z"
   },
   {
    "duration": 18,
    "start_time": "2023-09-19T10:40:53.945Z"
   },
   {
    "duration": 14,
    "start_time": "2023-09-19T10:40:53.965Z"
   },
   {
    "duration": 23,
    "start_time": "2023-09-19T10:40:53.980Z"
   },
   {
    "duration": 7,
    "start_time": "2023-09-19T10:40:54.005Z"
   },
   {
    "duration": 13,
    "start_time": "2023-09-19T10:40:54.014Z"
   },
   {
    "duration": 16,
    "start_time": "2023-09-19T10:40:54.029Z"
   },
   {
    "duration": 36,
    "start_time": "2023-09-19T10:40:54.046Z"
   },
   {
    "duration": 9,
    "start_time": "2023-09-19T10:40:54.084Z"
   },
   {
    "duration": 9,
    "start_time": "2023-09-19T10:40:54.095Z"
   },
   {
    "duration": 13,
    "start_time": "2023-09-19T10:40:54.106Z"
   },
   {
    "duration": 16,
    "start_time": "2023-09-19T10:40:54.121Z"
   },
   {
    "duration": 53,
    "start_time": "2023-09-19T10:40:54.139Z"
   },
   {
    "duration": 11,
    "start_time": "2023-09-19T10:40:54.194Z"
   },
   {
    "duration": 7,
    "start_time": "2023-09-19T10:40:54.206Z"
   },
   {
    "duration": 21,
    "start_time": "2023-09-19T10:40:54.215Z"
   },
   {
    "duration": 12,
    "start_time": "2023-09-19T10:40:54.237Z"
   },
   {
    "duration": 3,
    "start_time": "2023-09-19T10:40:54.251Z"
   },
   {
    "duration": 27,
    "start_time": "2023-09-19T10:40:54.255Z"
   },
   {
    "duration": 7,
    "start_time": "2023-09-19T10:40:54.284Z"
   },
   {
    "duration": 9,
    "start_time": "2023-09-19T10:40:54.293Z"
   },
   {
    "duration": 18,
    "start_time": "2023-09-19T10:40:54.303Z"
   },
   {
    "duration": 86,
    "start_time": "2023-09-19T10:40:54.322Z"
   },
   {
    "duration": 18,
    "start_time": "2023-09-19T10:40:54.413Z"
   },
   {
    "duration": 18,
    "start_time": "2023-09-19T10:40:54.433Z"
   },
   {
    "duration": 33,
    "start_time": "2023-09-19T10:40:54.453Z"
   },
   {
    "duration": 13,
    "start_time": "2023-09-19T10:40:54.488Z"
   },
   {
    "duration": 19,
    "start_time": "2023-09-19T10:40:54.503Z"
   },
   {
    "duration": 11,
    "start_time": "2023-09-19T10:40:54.523Z"
   },
   {
    "duration": 63,
    "start_time": "2023-09-19T10:40:54.536Z"
   },
   {
    "duration": 19,
    "start_time": "2023-09-19T10:40:54.601Z"
   },
   {
    "duration": 22,
    "start_time": "2023-09-19T10:40:54.622Z"
   },
   {
    "duration": 36,
    "start_time": "2023-09-19T10:40:54.646Z"
   },
   {
    "duration": 12,
    "start_time": "2023-09-19T10:40:54.686Z"
   },
   {
    "duration": 10,
    "start_time": "2023-09-19T10:40:54.700Z"
   },
   {
    "duration": 14,
    "start_time": "2023-09-19T10:40:54.712Z"
   },
   {
    "duration": 4,
    "start_time": "2023-09-19T10:40:54.728Z"
   },
   {
    "duration": 61,
    "start_time": "2023-09-19T10:40:54.734Z"
   },
   {
    "duration": 29,
    "start_time": "2023-09-19T10:40:54.797Z"
   },
   {
    "duration": 56,
    "start_time": "2023-09-19T10:40:54.828Z"
   },
   {
    "duration": 19,
    "start_time": "2023-09-19T10:40:54.886Z"
   },
   {
    "duration": 20,
    "start_time": "2023-09-19T10:40:54.907Z"
   },
   {
    "duration": 54,
    "start_time": "2023-09-19T10:40:54.929Z"
   },
   {
    "duration": 21,
    "start_time": "2023-09-19T10:40:54.985Z"
   },
   {
    "duration": 6,
    "start_time": "2023-09-19T10:40:55.008Z"
   },
   {
    "duration": 22,
    "start_time": "2023-09-19T10:40:55.016Z"
   },
   {
    "duration": 6,
    "start_time": "2023-09-19T10:40:55.081Z"
   },
   {
    "duration": 14,
    "start_time": "2023-09-19T10:40:55.090Z"
   },
   {
    "duration": 18,
    "start_time": "2023-09-19T10:40:55.106Z"
   },
   {
    "duration": 6,
    "start_time": "2023-09-19T10:40:55.126Z"
   },
   {
    "duration": 8,
    "start_time": "2023-09-19T10:40:55.134Z"
   },
   {
    "duration": 10,
    "start_time": "2023-09-19T10:40:55.181Z"
   },
   {
    "duration": 14,
    "start_time": "2023-09-19T10:40:55.193Z"
   },
   {
    "duration": 30,
    "start_time": "2023-09-19T10:40:55.209Z"
   },
   {
    "duration": 14,
    "start_time": "2023-09-19T10:40:55.241Z"
   },
   {
    "duration": 19,
    "start_time": "2023-09-19T10:40:55.281Z"
   },
   {
    "duration": 30,
    "start_time": "2023-09-19T10:40:55.302Z"
   },
   {
    "duration": 20,
    "start_time": "2023-09-19T10:40:55.334Z"
   },
   {
    "duration": 9,
    "start_time": "2023-09-19T10:40:55.380Z"
   },
   {
    "duration": 32,
    "start_time": "2023-09-19T10:40:55.390Z"
   },
   {
    "duration": 18,
    "start_time": "2023-09-19T10:40:55.424Z"
   },
   {
    "duration": 57,
    "start_time": "2023-09-19T10:40:55.444Z"
   },
   {
    "duration": 6,
    "start_time": "2023-09-19T10:40:55.503Z"
   },
   {
    "duration": 11,
    "start_time": "2023-09-19T10:40:55.511Z"
   },
   {
    "duration": 58,
    "start_time": "2023-09-19T10:40:55.524Z"
   },
   {
    "duration": 33,
    "start_time": "2023-09-19T10:40:55.584Z"
   },
   {
    "duration": 9,
    "start_time": "2023-09-19T10:40:55.619Z"
   },
   {
    "duration": 18,
    "start_time": "2023-09-19T10:40:55.629Z"
   },
   {
    "duration": 236,
    "start_time": "2023-09-19T10:40:55.649Z"
   },
   {
    "duration": 253,
    "start_time": "2023-09-19T10:40:55.887Z"
   },
   {
    "duration": 157,
    "start_time": "2023-09-19T10:40:56.142Z"
   },
   {
    "duration": 5,
    "start_time": "2023-09-19T10:40:56.301Z"
   },
   {
    "duration": 24,
    "start_time": "2023-09-19T10:40:56.307Z"
   },
   {
    "duration": 199,
    "start_time": "2023-09-19T10:40:56.333Z"
   },
   {
    "duration": 573,
    "start_time": "2023-09-19T10:40:56.534Z"
   },
   {
    "duration": 144,
    "start_time": "2023-09-19T10:40:57.109Z"
   },
   {
    "duration": 302,
    "start_time": "2023-09-19T10:40:57.255Z"
   },
   {
    "duration": 22,
    "start_time": "2023-09-19T10:40:57.563Z"
   },
   {
    "duration": 5,
    "start_time": "2023-09-19T10:40:57.587Z"
   },
   {
    "duration": 13,
    "start_time": "2023-09-19T10:40:57.594Z"
   },
   {
    "duration": 302,
    "start_time": "2023-09-19T10:40:57.609Z"
   },
   {
    "duration": 14,
    "start_time": "2023-09-19T10:40:57.913Z"
   },
   {
    "duration": 52,
    "start_time": "2023-09-19T10:40:57.929Z"
   },
   {
    "duration": 7,
    "start_time": "2023-09-19T10:40:57.983Z"
   },
   {
    "duration": 15,
    "start_time": "2023-09-19T10:40:57.992Z"
   },
   {
    "duration": 10,
    "start_time": "2023-09-19T10:40:58.009Z"
   },
   {
    "duration": 6,
    "start_time": "2023-09-19T10:40:58.020Z"
   },
   {
    "duration": 17,
    "start_time": "2023-09-19T10:40:58.028Z"
   },
   {
    "duration": 54,
    "start_time": "2023-09-19T10:40:58.047Z"
   },
   {
    "duration": 7,
    "start_time": "2023-09-19T10:40:58.103Z"
   },
   {
    "duration": 17,
    "start_time": "2023-09-19T10:40:58.112Z"
   },
   {
    "duration": 70,
    "start_time": "2023-09-19T10:40:58.131Z"
   },
   {
    "duration": 453,
    "start_time": "2023-09-19T10:40:58.203Z"
   },
   {
    "duration": 9,
    "start_time": "2023-09-19T10:41:49.798Z"
   },
   {
    "duration": 44,
    "start_time": "2023-09-19T10:41:49.809Z"
   },
   {
    "duration": 722,
    "start_time": "2023-09-19T10:41:49.855Z"
   },
   {
    "duration": 3,
    "start_time": "2023-09-19T10:41:50.579Z"
   },
   {
    "duration": 143,
    "start_time": "2023-09-19T10:41:50.584Z"
   },
   {
    "duration": 19,
    "start_time": "2023-09-19T10:41:50.729Z"
   },
   {
    "duration": 22,
    "start_time": "2023-09-19T10:41:50.749Z"
   },
   {
    "duration": 18,
    "start_time": "2023-09-19T10:41:50.772Z"
   },
   {
    "duration": 7,
    "start_time": "2023-09-19T10:41:50.793Z"
   },
   {
    "duration": 17,
    "start_time": "2023-09-19T10:41:50.802Z"
   },
   {
    "duration": 21,
    "start_time": "2023-09-19T10:41:50.821Z"
   },
   {
    "duration": 33,
    "start_time": "2023-09-19T10:41:50.844Z"
   },
   {
    "duration": 10,
    "start_time": "2023-09-19T10:41:50.879Z"
   },
   {
    "duration": 15,
    "start_time": "2023-09-19T10:41:50.890Z"
   },
   {
    "duration": 15,
    "start_time": "2023-09-19T10:41:50.907Z"
   },
   {
    "duration": 16,
    "start_time": "2023-09-19T10:41:50.924Z"
   },
   {
    "duration": 41,
    "start_time": "2023-09-19T10:41:50.942Z"
   },
   {
    "duration": 12,
    "start_time": "2023-09-19T10:41:50.985Z"
   },
   {
    "duration": 6,
    "start_time": "2023-09-19T10:41:50.999Z"
   },
   {
    "duration": 9,
    "start_time": "2023-09-19T10:41:51.006Z"
   },
   {
    "duration": 19,
    "start_time": "2023-09-19T10:41:51.017Z"
   },
   {
    "duration": 3,
    "start_time": "2023-09-19T10:41:51.038Z"
   },
   {
    "duration": 13,
    "start_time": "2023-09-19T10:41:51.043Z"
   },
   {
    "duration": 6,
    "start_time": "2023-09-19T10:41:51.080Z"
   },
   {
    "duration": 18,
    "start_time": "2023-09-19T10:41:51.088Z"
   },
   {
    "duration": 17,
    "start_time": "2023-09-19T10:41:51.108Z"
   },
   {
    "duration": 77,
    "start_time": "2023-09-19T10:41:51.127Z"
   },
   {
    "duration": 20,
    "start_time": "2023-09-19T10:41:51.205Z"
   },
   {
    "duration": 13,
    "start_time": "2023-09-19T10:41:51.226Z"
   },
   {
    "duration": 46,
    "start_time": "2023-09-19T10:41:51.240Z"
   },
   {
    "duration": 24,
    "start_time": "2023-09-19T10:41:51.287Z"
   },
   {
    "duration": 17,
    "start_time": "2023-09-19T10:41:51.313Z"
   },
   {
    "duration": 13,
    "start_time": "2023-09-19T10:41:51.333Z"
   },
   {
    "duration": 46,
    "start_time": "2023-09-19T10:41:51.348Z"
   },
   {
    "duration": 13,
    "start_time": "2023-09-19T10:41:51.396Z"
   },
   {
    "duration": 22,
    "start_time": "2023-09-19T10:41:51.411Z"
   },
   {
    "duration": 12,
    "start_time": "2023-09-19T10:41:51.435Z"
   },
   {
    "duration": 42,
    "start_time": "2023-09-19T10:41:51.449Z"
   },
   {
    "duration": 6,
    "start_time": "2023-09-19T10:41:51.492Z"
   },
   {
    "duration": 17,
    "start_time": "2023-09-19T10:41:51.500Z"
   },
   {
    "duration": 4,
    "start_time": "2023-09-19T10:41:51.518Z"
   },
   {
    "duration": 62,
    "start_time": "2023-09-19T10:41:51.523Z"
   },
   {
    "duration": 26,
    "start_time": "2023-09-19T10:41:51.587Z"
   },
   {
    "duration": 26,
    "start_time": "2023-09-19T10:41:51.615Z"
   },
   {
    "duration": 40,
    "start_time": "2023-09-19T10:41:51.643Z"
   },
   {
    "duration": 19,
    "start_time": "2023-09-19T10:41:51.684Z"
   },
   {
    "duration": 17,
    "start_time": "2023-09-19T10:41:51.704Z"
   },
   {
    "duration": 20,
    "start_time": "2023-09-19T10:41:51.722Z"
   },
   {
    "duration": 40,
    "start_time": "2023-09-19T10:41:51.743Z"
   },
   {
    "duration": 19,
    "start_time": "2023-09-19T10:41:51.785Z"
   },
   {
    "duration": 17,
    "start_time": "2023-09-19T10:41:51.805Z"
   },
   {
    "duration": 9,
    "start_time": "2023-09-19T10:41:51.823Z"
   },
   {
    "duration": 23,
    "start_time": "2023-09-19T10:41:51.834Z"
   },
   {
    "duration": 22,
    "start_time": "2023-09-19T10:41:51.859Z"
   },
   {
    "duration": 16,
    "start_time": "2023-09-19T10:41:51.882Z"
   },
   {
    "duration": 14,
    "start_time": "2023-09-19T10:41:51.900Z"
   },
   {
    "duration": 7,
    "start_time": "2023-09-19T10:41:51.916Z"
   },
   {
    "duration": 33,
    "start_time": "2023-09-19T10:41:51.925Z"
   },
   {
    "duration": 36,
    "start_time": "2023-09-19T10:41:51.960Z"
   },
   {
    "duration": 19,
    "start_time": "2023-09-19T10:41:51.998Z"
   },
   {
    "duration": 20,
    "start_time": "2023-09-19T10:41:52.019Z"
   },
   {
    "duration": 55,
    "start_time": "2023-09-19T10:41:52.041Z"
   },
   {
    "duration": 7,
    "start_time": "2023-09-19T10:41:52.098Z"
   },
   {
    "duration": 21,
    "start_time": "2023-09-19T10:41:52.106Z"
   },
   {
    "duration": 29,
    "start_time": "2023-09-19T10:41:52.129Z"
   },
   {
    "duration": 38,
    "start_time": "2023-09-19T10:41:52.182Z"
   },
   {
    "duration": 5,
    "start_time": "2023-09-19T10:41:52.222Z"
   },
   {
    "duration": 30,
    "start_time": "2023-09-19T10:41:52.228Z"
   },
   {
    "duration": 45,
    "start_time": "2023-09-19T10:41:52.264Z"
   },
   {
    "duration": 36,
    "start_time": "2023-09-19T10:41:52.310Z"
   },
   {
    "duration": 35,
    "start_time": "2023-09-19T10:41:52.348Z"
   },
   {
    "duration": 28,
    "start_time": "2023-09-19T10:41:52.385Z"
   },
   {
    "duration": 216,
    "start_time": "2023-09-19T10:41:52.416Z"
   },
   {
    "duration": 237,
    "start_time": "2023-09-19T10:41:52.634Z"
   },
   {
    "duration": 149,
    "start_time": "2023-09-19T10:41:52.873Z"
   },
   {
    "duration": 5,
    "start_time": "2023-09-19T10:41:53.024Z"
   },
   {
    "duration": 9,
    "start_time": "2023-09-19T10:41:53.031Z"
   },
   {
    "duration": 224,
    "start_time": "2023-09-19T10:41:53.042Z"
   },
   {
    "duration": 487,
    "start_time": "2023-09-19T10:41:53.268Z"
   },
   {
    "duration": 135,
    "start_time": "2023-09-19T10:41:53.756Z"
   },
   {
    "duration": 302,
    "start_time": "2023-09-19T10:41:53.893Z"
   },
   {
    "duration": 13,
    "start_time": "2023-09-19T10:41:54.197Z"
   },
   {
    "duration": 6,
    "start_time": "2023-09-19T10:41:54.212Z"
   },
   {
    "duration": 9,
    "start_time": "2023-09-19T10:41:54.220Z"
   },
   {
    "duration": 307,
    "start_time": "2023-09-19T10:41:54.231Z"
   },
   {
    "duration": 13,
    "start_time": "2023-09-19T10:41:54.539Z"
   },
   {
    "duration": 38,
    "start_time": "2023-09-19T10:41:54.553Z"
   },
   {
    "duration": 42,
    "start_time": "2023-09-19T10:41:54.593Z"
   },
   {
    "duration": 9,
    "start_time": "2023-09-19T10:41:54.637Z"
   },
   {
    "duration": 28,
    "start_time": "2023-09-19T10:41:54.649Z"
   },
   {
    "duration": 7,
    "start_time": "2023-09-19T10:41:54.679Z"
   },
   {
    "duration": 18,
    "start_time": "2023-09-19T10:41:54.687Z"
   },
   {
    "duration": 21,
    "start_time": "2023-09-19T10:41:54.707Z"
   },
   {
    "duration": 6,
    "start_time": "2023-09-19T10:41:54.730Z"
   },
   {
    "duration": 12,
    "start_time": "2023-09-19T10:41:54.737Z"
   },
   {
    "duration": 36,
    "start_time": "2023-09-19T10:41:54.780Z"
   },
   {
    "duration": 475,
    "start_time": "2023-09-19T10:41:54.818Z"
   },
   {
    "duration": 111,
    "start_time": "2023-09-19T10:42:16.414Z"
   },
   {
    "duration": 9,
    "start_time": "2023-09-19T10:43:20.353Z"
   },
   {
    "duration": 19,
    "start_time": "2023-09-19T10:43:20.364Z"
   },
   {
    "duration": 751,
    "start_time": "2023-09-19T10:43:20.384Z"
   },
   {
    "duration": 3,
    "start_time": "2023-09-19T10:43:21.137Z"
   },
   {
    "duration": 155,
    "start_time": "2023-09-19T10:43:21.142Z"
   },
   {
    "duration": 19,
    "start_time": "2023-09-19T10:43:21.298Z"
   },
   {
    "duration": 14,
    "start_time": "2023-09-19T10:43:21.319Z"
   },
   {
    "duration": 67,
    "start_time": "2023-09-19T10:43:21.335Z"
   },
   {
    "duration": 36,
    "start_time": "2023-09-19T10:43:21.405Z"
   },
   {
    "duration": 15,
    "start_time": "2023-09-19T10:43:21.443Z"
   },
   {
    "duration": 13,
    "start_time": "2023-09-19T10:43:21.460Z"
   },
   {
    "duration": 19,
    "start_time": "2023-09-19T10:43:21.475Z"
   },
   {
    "duration": 10,
    "start_time": "2023-09-19T10:43:21.496Z"
   },
   {
    "duration": 35,
    "start_time": "2023-09-19T10:43:21.508Z"
   },
   {
    "duration": 13,
    "start_time": "2023-09-19T10:43:21.545Z"
   },
   {
    "duration": 21,
    "start_time": "2023-09-19T10:43:21.560Z"
   },
   {
    "duration": 15,
    "start_time": "2023-09-19T10:43:21.582Z"
   },
   {
    "duration": 15,
    "start_time": "2023-09-19T10:43:21.599Z"
   },
   {
    "duration": 21,
    "start_time": "2023-09-19T10:43:21.615Z"
   },
   {
    "duration": 8,
    "start_time": "2023-09-19T10:43:21.638Z"
   },
   {
    "duration": 37,
    "start_time": "2023-09-19T10:43:21.647Z"
   },
   {
    "duration": 4,
    "start_time": "2023-09-19T10:43:21.685Z"
   },
   {
    "duration": 14,
    "start_time": "2023-09-19T10:43:21.690Z"
   },
   {
    "duration": 6,
    "start_time": "2023-09-19T10:43:21.707Z"
   },
   {
    "duration": 11,
    "start_time": "2023-09-19T10:43:21.714Z"
   },
   {
    "duration": 20,
    "start_time": "2023-09-19T10:43:21.726Z"
   },
   {
    "duration": 117,
    "start_time": "2023-09-19T10:43:21.748Z"
   },
   {
    "duration": 19,
    "start_time": "2023-09-19T10:43:21.867Z"
   },
   {
    "duration": 37,
    "start_time": "2023-09-19T10:43:21.888Z"
   },
   {
    "duration": 17,
    "start_time": "2023-09-19T10:43:21.927Z"
   },
   {
    "duration": 50,
    "start_time": "2023-09-19T10:43:21.946Z"
   },
   {
    "duration": 19,
    "start_time": "2023-09-19T10:43:21.997Z"
   },
   {
    "duration": 11,
    "start_time": "2023-09-19T10:43:22.018Z"
   },
   {
    "duration": 29,
    "start_time": "2023-09-19T10:43:22.031Z"
   },
   {
    "duration": 23,
    "start_time": "2023-09-19T10:43:22.080Z"
   },
   {
    "duration": 56,
    "start_time": "2023-09-19T10:43:22.105Z"
   },
   {
    "duration": 39,
    "start_time": "2023-09-19T10:43:22.164Z"
   },
   {
    "duration": 17,
    "start_time": "2023-09-19T10:43:22.206Z"
   },
   {
    "duration": 36,
    "start_time": "2023-09-19T10:43:22.225Z"
   },
   {
    "duration": 33,
    "start_time": "2023-09-19T10:43:22.263Z"
   },
   {
    "duration": 20,
    "start_time": "2023-09-19T10:43:22.298Z"
   },
   {
    "duration": 37,
    "start_time": "2023-09-19T10:43:22.320Z"
   },
   {
    "duration": 24,
    "start_time": "2023-09-19T10:43:22.359Z"
   },
   {
    "duration": 27,
    "start_time": "2023-09-19T10:43:22.385Z"
   },
   {
    "duration": 15,
    "start_time": "2023-09-19T10:43:22.414Z"
   },
   {
    "duration": 34,
    "start_time": "2023-09-19T10:43:22.431Z"
   },
   {
    "duration": 36,
    "start_time": "2023-09-19T10:43:22.467Z"
   },
   {
    "duration": 35,
    "start_time": "2023-09-19T10:43:22.504Z"
   },
   {
    "duration": 8,
    "start_time": "2023-09-19T10:43:22.541Z"
   },
   {
    "duration": 35,
    "start_time": "2023-09-19T10:43:22.550Z"
   },
   {
    "duration": 20,
    "start_time": "2023-09-19T10:43:22.586Z"
   },
   {
    "duration": 20,
    "start_time": "2023-09-19T10:43:22.608Z"
   },
   {
    "duration": 32,
    "start_time": "2023-09-19T10:43:22.629Z"
   },
   {
    "duration": 24,
    "start_time": "2023-09-19T10:43:22.663Z"
   },
   {
    "duration": 9,
    "start_time": "2023-09-19T10:43:22.688Z"
   },
   {
    "duration": 17,
    "start_time": "2023-09-19T10:43:22.699Z"
   },
   {
    "duration": 25,
    "start_time": "2023-09-19T10:43:22.717Z"
   },
   {
    "duration": 43,
    "start_time": "2023-09-19T10:43:22.744Z"
   },
   {
    "duration": 17,
    "start_time": "2023-09-19T10:43:22.789Z"
   },
   {
    "duration": 34,
    "start_time": "2023-09-19T10:43:22.808Z"
   },
   {
    "duration": 32,
    "start_time": "2023-09-19T10:43:22.844Z"
   },
   {
    "duration": 20,
    "start_time": "2023-09-19T10:43:22.878Z"
   },
   {
    "duration": 11,
    "start_time": "2023-09-19T10:43:22.900Z"
   },
   {
    "duration": 22,
    "start_time": "2023-09-19T10:43:22.913Z"
   },
   {
    "duration": 50,
    "start_time": "2023-09-19T10:43:22.937Z"
   },
   {
    "duration": 57,
    "start_time": "2023-09-19T10:43:22.989Z"
   },
   {
    "duration": 11,
    "start_time": "2023-09-19T10:43:23.048Z"
   },
   {
    "duration": 23,
    "start_time": "2023-09-19T10:43:23.061Z"
   },
   {
    "duration": 30,
    "start_time": "2023-09-19T10:43:23.090Z"
   },
   {
    "duration": 35,
    "start_time": "2023-09-19T10:43:23.122Z"
   },
   {
    "duration": 11,
    "start_time": "2023-09-19T10:43:23.186Z"
   },
   {
    "duration": 22,
    "start_time": "2023-09-19T10:43:23.198Z"
   },
   {
    "duration": 235,
    "start_time": "2023-09-19T10:43:23.222Z"
   },
   {
    "duration": 235,
    "start_time": "2023-09-19T10:43:23.458Z"
   },
   {
    "duration": 157,
    "start_time": "2023-09-19T10:43:23.695Z"
   },
   {
    "duration": 4,
    "start_time": "2023-09-19T10:43:23.854Z"
   },
   {
    "duration": 23,
    "start_time": "2023-09-19T10:43:23.860Z"
   },
   {
    "duration": 210,
    "start_time": "2023-09-19T10:43:23.885Z"
   },
   {
    "duration": 486,
    "start_time": "2023-09-19T10:43:24.096Z"
   },
   {
    "duration": 134,
    "start_time": "2023-09-19T10:43:24.584Z"
   },
   {
    "duration": 285,
    "start_time": "2023-09-19T10:43:24.720Z"
   },
   {
    "duration": 14,
    "start_time": "2023-09-19T10:43:25.006Z"
   },
   {
    "duration": 31,
    "start_time": "2023-09-19T10:43:25.021Z"
   },
   {
    "duration": 33,
    "start_time": "2023-09-19T10:43:25.054Z"
   },
   {
    "duration": 296,
    "start_time": "2023-09-19T10:43:25.089Z"
   },
   {
    "duration": 13,
    "start_time": "2023-09-19T10:43:25.386Z"
   },
   {
    "duration": 54,
    "start_time": "2023-09-19T10:43:25.401Z"
   },
   {
    "duration": 8,
    "start_time": "2023-09-19T10:43:25.457Z"
   },
   {
    "duration": 38,
    "start_time": "2023-09-19T10:43:25.467Z"
   },
   {
    "duration": 54,
    "start_time": "2023-09-19T10:43:25.507Z"
   },
   {
    "duration": 9,
    "start_time": "2023-09-19T10:43:25.563Z"
   },
   {
    "duration": 41,
    "start_time": "2023-09-19T10:43:25.574Z"
   },
   {
    "duration": 28,
    "start_time": "2023-09-19T10:43:25.617Z"
   },
   {
    "duration": 5,
    "start_time": "2023-09-19T10:43:25.647Z"
   },
   {
    "duration": 21,
    "start_time": "2023-09-19T10:43:25.654Z"
   },
   {
    "duration": 58,
    "start_time": "2023-09-19T10:43:25.676Z"
   },
   {
    "duration": 426,
    "start_time": "2023-09-19T10:43:25.735Z"
   },
   {
    "duration": 132,
    "start_time": "2023-09-19T10:43:45.933Z"
   },
   {
    "duration": 114,
    "start_time": "2023-09-19T10:44:20.579Z"
   },
   {
    "duration": 113,
    "start_time": "2023-09-19T10:44:31.820Z"
   },
   {
    "duration": 470,
    "start_time": "2023-09-19T10:47:27.556Z"
   },
   {
    "duration": 459,
    "start_time": "2023-09-19T10:48:28.481Z"
   },
   {
    "duration": 9,
    "start_time": "2023-09-19T11:07:23.605Z"
   },
   {
    "duration": 51,
    "start_time": "2023-09-19T11:07:23.616Z"
   },
   {
    "duration": 747,
    "start_time": "2023-09-19T11:07:23.669Z"
   },
   {
    "duration": 3,
    "start_time": "2023-09-19T11:07:24.418Z"
   },
   {
    "duration": 140,
    "start_time": "2023-09-19T11:07:24.423Z"
   },
   {
    "duration": 20,
    "start_time": "2023-09-19T11:07:24.565Z"
   },
   {
    "duration": 22,
    "start_time": "2023-09-19T11:07:24.586Z"
   },
   {
    "duration": 74,
    "start_time": "2023-09-19T11:07:24.610Z"
   },
   {
    "duration": 13,
    "start_time": "2023-09-19T11:07:24.685Z"
   },
   {
    "duration": 15,
    "start_time": "2023-09-19T11:07:24.700Z"
   },
   {
    "duration": 16,
    "start_time": "2023-09-19T11:07:24.717Z"
   },
   {
    "duration": 38,
    "start_time": "2023-09-19T11:07:24.734Z"
   },
   {
    "duration": 15,
    "start_time": "2023-09-19T11:07:24.774Z"
   },
   {
    "duration": 25,
    "start_time": "2023-09-19T11:07:24.793Z"
   },
   {
    "duration": 13,
    "start_time": "2023-09-19T11:07:24.820Z"
   },
   {
    "duration": 15,
    "start_time": "2023-09-19T11:07:24.835Z"
   },
   {
    "duration": 144,
    "start_time": "2023-09-19T11:07:24.852Z"
   },
   {
    "duration": 20,
    "start_time": "2023-09-19T11:07:24.998Z"
   },
   {
    "duration": 60,
    "start_time": "2023-09-19T11:07:25.020Z"
   },
   {
    "duration": 36,
    "start_time": "2023-09-19T11:07:25.082Z"
   },
   {
    "duration": 18,
    "start_time": "2023-09-19T11:07:25.120Z"
   },
   {
    "duration": 22,
    "start_time": "2023-09-19T11:07:25.140Z"
   },
   {
    "duration": 22,
    "start_time": "2023-09-19T11:07:25.164Z"
   },
   {
    "duration": 30,
    "start_time": "2023-09-19T11:07:25.188Z"
   },
   {
    "duration": 21,
    "start_time": "2023-09-19T11:07:25.221Z"
   },
   {
    "duration": 22,
    "start_time": "2023-09-19T11:07:25.243Z"
   },
   {
    "duration": 17,
    "start_time": "2023-09-19T11:07:25.266Z"
   },
   {
    "duration": 63,
    "start_time": "2023-09-19T11:07:25.285Z"
   },
   {
    "duration": 16,
    "start_time": "2023-09-19T11:07:25.350Z"
   },
   {
    "duration": 57,
    "start_time": "2023-09-19T11:07:25.368Z"
   },
   {
    "duration": 40,
    "start_time": "2023-09-19T11:07:25.427Z"
   },
   {
    "duration": 34,
    "start_time": "2023-09-19T11:07:25.469Z"
   },
   {
    "duration": 29,
    "start_time": "2023-09-19T11:07:25.505Z"
   },
   {
    "duration": 12,
    "start_time": "2023-09-19T11:07:25.536Z"
   },
   {
    "duration": 21,
    "start_time": "2023-09-19T11:07:25.550Z"
   },
   {
    "duration": 13,
    "start_time": "2023-09-19T11:07:25.580Z"
   },
   {
    "duration": 59,
    "start_time": "2023-09-19T11:07:25.595Z"
   },
   {
    "duration": 41,
    "start_time": "2023-09-19T11:07:25.656Z"
   },
   {
    "duration": 33,
    "start_time": "2023-09-19T11:07:25.699Z"
   },
   {
    "duration": 22,
    "start_time": "2023-09-19T11:07:25.734Z"
   },
   {
    "duration": 35,
    "start_time": "2023-09-19T11:07:25.761Z"
   },
   {
    "duration": 9,
    "start_time": "2023-09-19T11:07:25.800Z"
   },
   {
    "duration": 43,
    "start_time": "2023-09-19T11:07:25.811Z"
   },
   {
    "duration": 25,
    "start_time": "2023-09-19T11:07:25.856Z"
   },
   {
    "duration": 49,
    "start_time": "2023-09-19T11:07:25.883Z"
   },
   {
    "duration": 15,
    "start_time": "2023-09-19T11:07:25.934Z"
   },
   {
    "duration": 44,
    "start_time": "2023-09-19T11:07:25.951Z"
   },
   {
    "duration": 30,
    "start_time": "2023-09-19T11:07:25.997Z"
   },
   {
    "duration": 29,
    "start_time": "2023-09-19T11:07:26.029Z"
   },
   {
    "duration": 8,
    "start_time": "2023-09-19T11:07:26.059Z"
   },
   {
    "duration": 25,
    "start_time": "2023-09-19T11:07:26.068Z"
   },
   {
    "duration": 10,
    "start_time": "2023-09-19T11:07:26.095Z"
   },
   {
    "duration": 7,
    "start_time": "2023-09-19T11:07:26.107Z"
   },
   {
    "duration": 47,
    "start_time": "2023-09-19T11:07:26.116Z"
   },
   {
    "duration": 27,
    "start_time": "2023-09-19T11:07:26.165Z"
   },
   {
    "duration": 28,
    "start_time": "2023-09-19T11:07:26.194Z"
   },
   {
    "duration": 24,
    "start_time": "2023-09-19T11:07:26.224Z"
   },
   {
    "duration": 6,
    "start_time": "2023-09-19T11:07:26.250Z"
   },
   {
    "duration": 40,
    "start_time": "2023-09-19T11:07:26.258Z"
   },
   {
    "duration": 17,
    "start_time": "2023-09-19T11:07:26.300Z"
   },
   {
    "duration": 18,
    "start_time": "2023-09-19T11:07:26.319Z"
   },
   {
    "duration": 46,
    "start_time": "2023-09-19T11:07:26.340Z"
   },
   {
    "duration": 23,
    "start_time": "2023-09-19T11:07:26.388Z"
   },
   {
    "duration": 16,
    "start_time": "2023-09-19T11:07:26.413Z"
   },
   {
    "duration": 50,
    "start_time": "2023-09-19T11:07:26.431Z"
   },
   {
    "duration": 17,
    "start_time": "2023-09-19T11:07:26.482Z"
   },
   {
    "duration": 39,
    "start_time": "2023-09-19T11:07:26.500Z"
   },
   {
    "duration": 6,
    "start_time": "2023-09-19T11:07:26.541Z"
   },
   {
    "duration": 40,
    "start_time": "2023-09-19T11:07:26.549Z"
   },
   {
    "duration": 34,
    "start_time": "2023-09-19T11:07:26.591Z"
   },
   {
    "duration": 81,
    "start_time": "2023-09-19T11:07:26.627Z"
   },
   {
    "duration": 12,
    "start_time": "2023-09-19T11:07:26.710Z"
   },
   {
    "duration": 19,
    "start_time": "2023-09-19T11:07:26.724Z"
   },
   {
    "duration": 242,
    "start_time": "2023-09-19T11:07:26.746Z"
   },
   {
    "duration": 250,
    "start_time": "2023-09-19T11:07:26.990Z"
   },
   {
    "duration": 156,
    "start_time": "2023-09-19T11:07:27.242Z"
   },
   {
    "duration": 6,
    "start_time": "2023-09-19T11:07:27.400Z"
   },
   {
    "duration": 14,
    "start_time": "2023-09-19T11:07:27.408Z"
   },
   {
    "duration": 220,
    "start_time": "2023-09-19T11:07:27.424Z"
   },
   {
    "duration": 294,
    "start_time": "2023-09-19T11:07:27.647Z"
   },
   {
    "duration": 14,
    "start_time": "2023-09-19T11:07:27.942Z"
   },
   {
    "duration": 25,
    "start_time": "2023-09-19T11:07:27.957Z"
   },
   {
    "duration": 16,
    "start_time": "2023-09-19T11:07:27.984Z"
   },
   {
    "duration": 279,
    "start_time": "2023-09-19T11:07:28.002Z"
   },
   {
    "duration": 14,
    "start_time": "2023-09-19T11:07:28.282Z"
   },
   {
    "duration": 42,
    "start_time": "2023-09-19T11:07:28.297Z"
   },
   {
    "duration": 9,
    "start_time": "2023-09-19T11:07:28.341Z"
   },
   {
    "duration": 37,
    "start_time": "2023-09-19T11:07:28.351Z"
   },
   {
    "duration": 25,
    "start_time": "2023-09-19T11:07:28.389Z"
   },
   {
    "duration": 13,
    "start_time": "2023-09-19T11:07:28.415Z"
   },
   {
    "duration": 53,
    "start_time": "2023-09-19T11:07:28.429Z"
   },
   {
    "duration": 35,
    "start_time": "2023-09-19T11:07:28.484Z"
   },
   {
    "duration": 6,
    "start_time": "2023-09-19T11:07:28.521Z"
   },
   {
    "duration": 46,
    "start_time": "2023-09-19T11:07:28.528Z"
   },
   {
    "duration": 46,
    "start_time": "2023-09-19T11:07:28.576Z"
   },
   {
    "duration": 458,
    "start_time": "2023-09-19T11:07:28.623Z"
   },
   {
    "duration": 5,
    "start_time": "2023-09-19T11:09:54.973Z"
   },
   {
    "duration": 4,
    "start_time": "2023-09-19T11:09:59.221Z"
   },
   {
    "duration": 4,
    "start_time": "2023-09-19T11:10:00.267Z"
   },
   {
    "duration": 8,
    "start_time": "2023-09-19T11:10:08.659Z"
   },
   {
    "duration": 28,
    "start_time": "2023-09-19T11:10:08.669Z"
   },
   {
    "duration": 719,
    "start_time": "2023-09-19T11:10:08.699Z"
   },
   {
    "duration": 3,
    "start_time": "2023-09-19T11:10:09.420Z"
   },
   {
    "duration": 156,
    "start_time": "2023-09-19T11:10:09.425Z"
   },
   {
    "duration": 19,
    "start_time": "2023-09-19T11:10:09.583Z"
   },
   {
    "duration": 22,
    "start_time": "2023-09-19T11:10:09.603Z"
   },
   {
    "duration": 33,
    "start_time": "2023-09-19T11:10:09.626Z"
   },
   {
    "duration": 29,
    "start_time": "2023-09-19T11:10:09.662Z"
   },
   {
    "duration": 20,
    "start_time": "2023-09-19T11:10:09.694Z"
   },
   {
    "duration": 29,
    "start_time": "2023-09-19T11:10:09.716Z"
   },
   {
    "duration": 26,
    "start_time": "2023-09-19T11:10:09.747Z"
   },
   {
    "duration": 22,
    "start_time": "2023-09-19T11:10:09.775Z"
   },
   {
    "duration": 17,
    "start_time": "2023-09-19T11:10:09.799Z"
   },
   {
    "duration": 18,
    "start_time": "2023-09-19T11:10:09.817Z"
   },
   {
    "duration": 21,
    "start_time": "2023-09-19T11:10:09.837Z"
   },
   {
    "duration": 19,
    "start_time": "2023-09-19T11:10:09.861Z"
   },
   {
    "duration": 9,
    "start_time": "2023-09-19T11:10:09.882Z"
   },
   {
    "duration": 6,
    "start_time": "2023-09-19T11:10:09.892Z"
   },
   {
    "duration": 10,
    "start_time": "2023-09-19T11:10:09.900Z"
   },
   {
    "duration": 9,
    "start_time": "2023-09-19T11:10:09.912Z"
   },
   {
    "duration": 8,
    "start_time": "2023-09-19T11:10:09.923Z"
   },
   {
    "duration": 9,
    "start_time": "2023-09-19T11:10:09.933Z"
   },
   {
    "duration": 38,
    "start_time": "2023-09-19T11:10:09.944Z"
   },
   {
    "duration": 6,
    "start_time": "2023-09-19T11:10:09.984Z"
   },
   {
    "duration": 9,
    "start_time": "2023-09-19T11:10:09.991Z"
   },
   {
    "duration": 49,
    "start_time": "2023-09-19T11:10:10.001Z"
   },
   {
    "duration": 64,
    "start_time": "2023-09-19T11:10:10.055Z"
   },
   {
    "duration": 18,
    "start_time": "2023-09-19T11:10:10.121Z"
   },
   {
    "duration": 45,
    "start_time": "2023-09-19T11:10:10.140Z"
   },
   {
    "duration": 43,
    "start_time": "2023-09-19T11:10:10.187Z"
   },
   {
    "duration": 30,
    "start_time": "2023-09-19T11:10:10.231Z"
   },
   {
    "duration": 61,
    "start_time": "2023-09-19T11:10:10.263Z"
   },
   {
    "duration": 32,
    "start_time": "2023-09-19T11:10:10.326Z"
   },
   {
    "duration": 138,
    "start_time": "2023-09-19T11:10:10.360Z"
   },
   {
    "duration": 38,
    "start_time": "2023-09-19T11:10:10.500Z"
   },
   {
    "duration": 65,
    "start_time": "2023-09-19T11:10:10.540Z"
   },
   {
    "duration": 56,
    "start_time": "2023-09-19T11:10:10.606Z"
   },
   {
    "duration": 25,
    "start_time": "2023-09-19T11:10:10.664Z"
   },
   {
    "duration": 36,
    "start_time": "2023-09-19T11:10:10.691Z"
   },
   {
    "duration": 40,
    "start_time": "2023-09-19T11:10:10.729Z"
   },
   {
    "duration": 22,
    "start_time": "2023-09-19T11:10:10.771Z"
   },
   {
    "duration": 36,
    "start_time": "2023-09-19T11:10:10.795Z"
   },
   {
    "duration": 29,
    "start_time": "2023-09-19T11:10:10.833Z"
   },
   {
    "duration": 34,
    "start_time": "2023-09-19T11:10:10.864Z"
   },
   {
    "duration": 17,
    "start_time": "2023-09-19T11:10:10.900Z"
   },
   {
    "duration": 108,
    "start_time": "2023-09-19T11:10:10.919Z"
   },
   {
    "duration": 38,
    "start_time": "2023-09-19T11:10:11.029Z"
   },
   {
    "duration": 29,
    "start_time": "2023-09-19T11:10:11.069Z"
   },
   {
    "duration": 8,
    "start_time": "2023-09-19T11:10:11.100Z"
   },
   {
    "duration": 27,
    "start_time": "2023-09-19T11:10:11.110Z"
   },
   {
    "duration": 11,
    "start_time": "2023-09-19T11:10:11.139Z"
   },
   {
    "duration": 58,
    "start_time": "2023-09-19T11:10:11.151Z"
   },
   {
    "duration": 30,
    "start_time": "2023-09-19T11:10:11.211Z"
   },
   {
    "duration": 18,
    "start_time": "2023-09-19T11:10:11.243Z"
   },
   {
    "duration": 34,
    "start_time": "2023-09-19T11:10:11.263Z"
   },
   {
    "duration": 26,
    "start_time": "2023-09-19T11:10:11.298Z"
   },
   {
    "duration": 12,
    "start_time": "2023-09-19T11:10:11.326Z"
   },
   {
    "duration": 35,
    "start_time": "2023-09-19T11:10:11.340Z"
   },
   {
    "duration": 34,
    "start_time": "2023-09-19T11:10:11.377Z"
   },
   {
    "duration": 18,
    "start_time": "2023-09-19T11:10:11.413Z"
   },
   {
    "duration": 17,
    "start_time": "2023-09-19T11:10:11.433Z"
   },
   {
    "duration": 34,
    "start_time": "2023-09-19T11:10:11.451Z"
   },
   {
    "duration": 16,
    "start_time": "2023-09-19T11:10:11.486Z"
   },
   {
    "duration": 29,
    "start_time": "2023-09-19T11:10:11.503Z"
   },
   {
    "duration": 16,
    "start_time": "2023-09-19T11:10:11.534Z"
   },
   {
    "duration": 64,
    "start_time": "2023-09-19T11:10:11.551Z"
   },
   {
    "duration": 5,
    "start_time": "2023-09-19T11:10:11.617Z"
   },
   {
    "duration": 15,
    "start_time": "2023-09-19T11:10:11.623Z"
   },
   {
    "duration": 47,
    "start_time": "2023-09-19T11:10:11.640Z"
   },
   {
    "duration": 32,
    "start_time": "2023-09-19T11:10:11.689Z"
   },
   {
    "duration": 8,
    "start_time": "2023-09-19T11:10:11.722Z"
   },
   {
    "duration": 23,
    "start_time": "2023-09-19T11:10:11.732Z"
   },
   {
    "duration": 229,
    "start_time": "2023-09-19T11:10:11.756Z"
   },
   {
    "duration": 258,
    "start_time": "2023-09-19T11:10:11.987Z"
   },
   {
    "duration": 159,
    "start_time": "2023-09-19T11:10:12.246Z"
   },
   {
    "duration": 5,
    "start_time": "2023-09-19T11:10:12.407Z"
   },
   {
    "duration": 111,
    "start_time": "2023-09-19T11:10:12.413Z"
   },
   {
    "duration": 252,
    "start_time": "2023-09-19T11:10:12.526Z"
   },
   {
    "duration": 300,
    "start_time": "2023-09-19T11:10:12.780Z"
   },
   {
    "duration": 15,
    "start_time": "2023-09-19T11:10:13.082Z"
   },
   {
    "duration": 6,
    "start_time": "2023-09-19T11:10:13.103Z"
   },
   {
    "duration": 9,
    "start_time": "2023-09-19T11:10:13.111Z"
   },
   {
    "duration": 331,
    "start_time": "2023-09-19T11:10:13.122Z"
   },
   {
    "duration": 31,
    "start_time": "2023-09-19T11:10:13.454Z"
   },
   {
    "duration": 24,
    "start_time": "2023-09-19T11:10:13.487Z"
   },
   {
    "duration": 7,
    "start_time": "2023-09-19T11:10:13.512Z"
   },
   {
    "duration": 15,
    "start_time": "2023-09-19T11:10:13.521Z"
   },
   {
    "duration": 12,
    "start_time": "2023-09-19T11:10:13.538Z"
   },
   {
    "duration": 33,
    "start_time": "2023-09-19T11:10:13.552Z"
   },
   {
    "duration": 28,
    "start_time": "2023-09-19T11:10:13.587Z"
   },
   {
    "duration": 21,
    "start_time": "2023-09-19T11:10:13.617Z"
   },
   {
    "duration": 8,
    "start_time": "2023-09-19T11:10:13.640Z"
   },
   {
    "duration": 33,
    "start_time": "2023-09-19T11:10:13.649Z"
   },
   {
    "duration": 33,
    "start_time": "2023-09-19T11:10:13.684Z"
   },
   {
    "duration": 385,
    "start_time": "2023-09-19T11:10:13.719Z"
   },
   {
    "duration": 5,
    "start_time": "2023-09-19T11:10:41.291Z"
   },
   {
    "duration": 9,
    "start_time": "2023-09-19T11:10:48.862Z"
   },
   {
    "duration": 9,
    "start_time": "2023-09-19T11:10:48.873Z"
   },
   {
    "duration": 778,
    "start_time": "2023-09-19T11:10:48.884Z"
   },
   {
    "duration": 3,
    "start_time": "2023-09-19T11:10:49.664Z"
   },
   {
    "duration": 131,
    "start_time": "2023-09-19T11:10:49.669Z"
   },
   {
    "duration": 18,
    "start_time": "2023-09-19T11:10:49.802Z"
   },
   {
    "duration": 16,
    "start_time": "2023-09-19T11:10:49.821Z"
   },
   {
    "duration": 18,
    "start_time": "2023-09-19T11:10:49.838Z"
   },
   {
    "duration": 7,
    "start_time": "2023-09-19T11:10:49.858Z"
   },
   {
    "duration": 6,
    "start_time": "2023-09-19T11:10:49.881Z"
   },
   {
    "duration": 22,
    "start_time": "2023-09-19T11:10:49.889Z"
   },
   {
    "duration": 17,
    "start_time": "2023-09-19T11:10:49.913Z"
   },
   {
    "duration": 12,
    "start_time": "2023-09-19T11:10:49.931Z"
   },
   {
    "duration": 8,
    "start_time": "2023-09-19T11:10:49.945Z"
   },
   {
    "duration": 15,
    "start_time": "2023-09-19T11:10:49.980Z"
   },
   {
    "duration": 18,
    "start_time": "2023-09-19T11:10:49.997Z"
   },
   {
    "duration": 31,
    "start_time": "2023-09-19T11:10:50.018Z"
   },
   {
    "duration": 36,
    "start_time": "2023-09-19T11:10:50.050Z"
   },
   {
    "duration": 6,
    "start_time": "2023-09-19T11:10:50.088Z"
   },
   {
    "duration": 8,
    "start_time": "2023-09-19T11:10:50.096Z"
   },
   {
    "duration": 16,
    "start_time": "2023-09-19T11:10:50.106Z"
   },
   {
    "duration": 8,
    "start_time": "2023-09-19T11:10:50.124Z"
   },
   {
    "duration": 6,
    "start_time": "2023-09-19T11:10:50.133Z"
   },
   {
    "duration": 8,
    "start_time": "2023-09-19T11:10:50.140Z"
   },
   {
    "duration": 5,
    "start_time": "2023-09-19T11:10:50.181Z"
   },
   {
    "duration": 9,
    "start_time": "2023-09-19T11:10:50.188Z"
   },
   {
    "duration": 16,
    "start_time": "2023-09-19T11:10:50.199Z"
   },
   {
    "duration": 82,
    "start_time": "2023-09-19T11:10:50.217Z"
   },
   {
    "duration": 17,
    "start_time": "2023-09-19T11:10:50.301Z"
   },
   {
    "duration": 20,
    "start_time": "2023-09-19T11:10:50.320Z"
   },
   {
    "duration": 15,
    "start_time": "2023-09-19T11:10:50.342Z"
   },
   {
    "duration": 34,
    "start_time": "2023-09-19T11:10:50.358Z"
   },
   {
    "duration": 18,
    "start_time": "2023-09-19T11:10:50.393Z"
   },
   {
    "duration": 11,
    "start_time": "2023-09-19T11:10:50.413Z"
   },
   {
    "duration": 37,
    "start_time": "2023-09-19T11:10:50.426Z"
   },
   {
    "duration": 11,
    "start_time": "2023-09-19T11:10:50.480Z"
   },
   {
    "duration": 19,
    "start_time": "2023-09-19T11:10:50.493Z"
   },
   {
    "duration": 13,
    "start_time": "2023-09-19T11:10:50.514Z"
   },
   {
    "duration": 25,
    "start_time": "2023-09-19T11:10:50.529Z"
   },
   {
    "duration": 34,
    "start_time": "2023-09-19T11:10:50.556Z"
   },
   {
    "duration": 20,
    "start_time": "2023-09-19T11:10:50.597Z"
   },
   {
    "duration": 7,
    "start_time": "2023-09-19T11:10:50.620Z"
   },
   {
    "duration": 31,
    "start_time": "2023-09-19T11:10:50.628Z"
   },
   {
    "duration": 42,
    "start_time": "2023-09-19T11:10:50.661Z"
   },
   {
    "duration": 28,
    "start_time": "2023-09-19T11:10:50.705Z"
   },
   {
    "duration": 16,
    "start_time": "2023-09-19T11:10:50.734Z"
   },
   {
    "duration": 46,
    "start_time": "2023-09-19T11:10:50.752Z"
   },
   {
    "duration": 25,
    "start_time": "2023-09-19T11:10:50.799Z"
   },
   {
    "duration": 22,
    "start_time": "2023-09-19T11:10:50.826Z"
   },
   {
    "duration": 31,
    "start_time": "2023-09-19T11:10:50.849Z"
   },
   {
    "duration": 23,
    "start_time": "2023-09-19T11:10:50.883Z"
   },
   {
    "duration": 6,
    "start_time": "2023-09-19T11:10:50.907Z"
   },
   {
    "duration": 8,
    "start_time": "2023-09-19T11:10:50.915Z"
   },
   {
    "duration": 24,
    "start_time": "2023-09-19T11:10:50.924Z"
   },
   {
    "duration": 16,
    "start_time": "2023-09-19T11:10:50.950Z"
   },
   {
    "duration": 5,
    "start_time": "2023-09-19T11:10:50.981Z"
   },
   {
    "duration": 15,
    "start_time": "2023-09-19T11:10:50.988Z"
   },
   {
    "duration": 13,
    "start_time": "2023-09-19T11:10:51.004Z"
   },
   {
    "duration": 39,
    "start_time": "2023-09-19T11:10:51.019Z"
   },
   {
    "duration": 17,
    "start_time": "2023-09-19T11:10:51.080Z"
   },
   {
    "duration": 18,
    "start_time": "2023-09-19T11:10:51.099Z"
   },
   {
    "duration": 25,
    "start_time": "2023-09-19T11:10:51.119Z"
   },
   {
    "duration": 47,
    "start_time": "2023-09-19T11:10:51.146Z"
   },
   {
    "duration": 9,
    "start_time": "2023-09-19T11:10:51.195Z"
   },
   {
    "duration": 21,
    "start_time": "2023-09-19T11:10:51.206Z"
   },
   {
    "duration": 51,
    "start_time": "2023-09-19T11:10:51.229Z"
   },
   {
    "duration": 35,
    "start_time": "2023-09-19T11:10:51.282Z"
   },
   {
    "duration": 13,
    "start_time": "2023-09-19T11:10:51.319Z"
   },
   {
    "duration": 15,
    "start_time": "2023-09-19T11:10:51.334Z"
   },
   {
    "duration": 53,
    "start_time": "2023-09-19T11:10:51.351Z"
   },
   {
    "duration": 37,
    "start_time": "2023-09-19T11:10:51.405Z"
   },
   {
    "duration": 9,
    "start_time": "2023-09-19T11:10:51.444Z"
   },
   {
    "duration": 37,
    "start_time": "2023-09-19T11:10:51.454Z"
   },
   {
    "duration": 200,
    "start_time": "2023-09-19T11:10:51.493Z"
   },
   {
    "duration": 228,
    "start_time": "2023-09-19T11:10:51.695Z"
   },
   {
    "duration": 162,
    "start_time": "2023-09-19T11:10:51.925Z"
   },
   {
    "duration": 5,
    "start_time": "2023-09-19T11:10:52.089Z"
   },
   {
    "duration": 13,
    "start_time": "2023-09-19T11:10:52.096Z"
   },
   {
    "duration": 197,
    "start_time": "2023-09-19T11:10:52.111Z"
   },
   {
    "duration": 281,
    "start_time": "2023-09-19T11:10:52.310Z"
   },
   {
    "duration": 13,
    "start_time": "2023-09-19T11:10:52.593Z"
   },
   {
    "duration": 6,
    "start_time": "2023-09-19T11:10:52.608Z"
   },
   {
    "duration": 10,
    "start_time": "2023-09-19T11:10:52.615Z"
   },
   {
    "duration": 297,
    "start_time": "2023-09-19T11:10:52.626Z"
   },
   {
    "duration": 14,
    "start_time": "2023-09-19T11:10:52.925Z"
   },
   {
    "duration": 46,
    "start_time": "2023-09-19T11:10:52.941Z"
   },
   {
    "duration": 21,
    "start_time": "2023-09-19T11:10:52.989Z"
   },
   {
    "duration": 11,
    "start_time": "2023-09-19T11:10:53.012Z"
   },
   {
    "duration": 28,
    "start_time": "2023-09-19T11:10:53.025Z"
   },
   {
    "duration": 33,
    "start_time": "2023-09-19T11:10:53.055Z"
   },
   {
    "duration": 32,
    "start_time": "2023-09-19T11:10:53.090Z"
   },
   {
    "duration": 52,
    "start_time": "2023-09-19T11:10:53.123Z"
   },
   {
    "duration": 16,
    "start_time": "2023-09-19T11:10:53.177Z"
   },
   {
    "duration": 23,
    "start_time": "2023-09-19T11:10:53.195Z"
   },
   {
    "duration": 48,
    "start_time": "2023-09-19T11:10:53.220Z"
   },
   {
    "duration": 384,
    "start_time": "2023-09-19T11:10:53.270Z"
   },
   {
    "duration": 9,
    "start_time": "2023-09-19T11:12:53.284Z"
   },
   {
    "duration": 6,
    "start_time": "2023-09-19T11:12:53.296Z"
   },
   {
    "duration": 684,
    "start_time": "2023-09-19T11:12:53.303Z"
   },
   {
    "duration": 3,
    "start_time": "2023-09-19T11:12:53.990Z"
   },
   {
    "duration": 152,
    "start_time": "2023-09-19T11:12:53.995Z"
   },
   {
    "duration": 21,
    "start_time": "2023-09-19T11:12:54.149Z"
   },
   {
    "duration": 15,
    "start_time": "2023-09-19T11:12:54.172Z"
   },
   {
    "duration": 23,
    "start_time": "2023-09-19T11:12:54.189Z"
   },
   {
    "duration": 7,
    "start_time": "2023-09-19T11:12:54.214Z"
   },
   {
    "duration": 7,
    "start_time": "2023-09-19T11:12:54.224Z"
   },
   {
    "duration": 12,
    "start_time": "2023-09-19T11:12:54.233Z"
   },
   {
    "duration": 52,
    "start_time": "2023-09-19T11:12:54.246Z"
   },
   {
    "duration": 10,
    "start_time": "2023-09-19T11:12:54.300Z"
   },
   {
    "duration": 11,
    "start_time": "2023-09-19T11:12:54.311Z"
   },
   {
    "duration": 16,
    "start_time": "2023-09-19T11:12:54.324Z"
   },
   {
    "duration": 50,
    "start_time": "2023-09-19T11:12:54.342Z"
   },
   {
    "duration": 15,
    "start_time": "2023-09-19T11:12:54.394Z"
   },
   {
    "duration": 9,
    "start_time": "2023-09-19T11:12:54.410Z"
   },
   {
    "duration": 5,
    "start_time": "2023-09-19T11:12:54.421Z"
   },
   {
    "duration": 8,
    "start_time": "2023-09-19T11:12:54.427Z"
   },
   {
    "duration": 10,
    "start_time": "2023-09-19T11:12:54.480Z"
   },
   {
    "duration": 7,
    "start_time": "2023-09-19T11:12:54.491Z"
   },
   {
    "duration": 9,
    "start_time": "2023-09-19T11:12:54.500Z"
   },
   {
    "duration": 7,
    "start_time": "2023-09-19T11:12:54.511Z"
   },
   {
    "duration": 19,
    "start_time": "2023-09-19T11:12:54.520Z"
   },
   {
    "duration": 90,
    "start_time": "2023-09-19T11:12:54.541Z"
   },
   {
    "duration": 17,
    "start_time": "2023-09-19T11:12:54.633Z"
   },
   {
    "duration": 35,
    "start_time": "2023-09-19T11:12:54.654Z"
   },
   {
    "duration": 26,
    "start_time": "2023-09-19T11:12:54.690Z"
   },
   {
    "duration": 17,
    "start_time": "2023-09-19T11:12:54.717Z"
   },
   {
    "duration": 18,
    "start_time": "2023-09-19T11:12:54.736Z"
   },
   {
    "duration": 11,
    "start_time": "2023-09-19T11:12:54.782Z"
   },
   {
    "duration": 28,
    "start_time": "2023-09-19T11:12:54.795Z"
   },
   {
    "duration": 12,
    "start_time": "2023-09-19T11:12:54.825Z"
   },
   {
    "duration": 50,
    "start_time": "2023-09-19T11:12:54.838Z"
   },
   {
    "duration": 23,
    "start_time": "2023-09-19T11:12:54.890Z"
   },
   {
    "duration": 15,
    "start_time": "2023-09-19T11:12:54.915Z"
   },
   {
    "duration": 5,
    "start_time": "2023-09-19T11:12:54.932Z"
   },
   {
    "duration": 20,
    "start_time": "2023-09-19T11:12:54.938Z"
   },
   {
    "duration": 26,
    "start_time": "2023-09-19T11:12:54.960Z"
   },
   {
    "duration": 34,
    "start_time": "2023-09-19T11:12:54.988Z"
   },
   {
    "duration": 28,
    "start_time": "2023-09-19T11:12:55.024Z"
   },
   {
    "duration": 49,
    "start_time": "2023-09-19T11:12:55.054Z"
   },
   {
    "duration": 16,
    "start_time": "2023-09-19T11:12:55.105Z"
   },
   {
    "duration": 23,
    "start_time": "2023-09-19T11:12:55.123Z"
   },
   {
    "duration": 52,
    "start_time": "2023-09-19T11:12:55.148Z"
   },
   {
    "duration": 21,
    "start_time": "2023-09-19T11:12:55.202Z"
   },
   {
    "duration": 5,
    "start_time": "2023-09-19T11:12:55.225Z"
   },
   {
    "duration": 53,
    "start_time": "2023-09-19T11:12:55.232Z"
   },
   {
    "duration": 5,
    "start_time": "2023-09-19T11:12:55.287Z"
   },
   {
    "duration": 26,
    "start_time": "2023-09-19T11:12:55.293Z"
   },
   {
    "duration": 28,
    "start_time": "2023-09-19T11:12:55.320Z"
   },
   {
    "duration": 27,
    "start_time": "2023-09-19T11:12:55.350Z"
   },
   {
    "duration": 20,
    "start_time": "2023-09-19T11:12:55.378Z"
   },
   {
    "duration": 35,
    "start_time": "2023-09-19T11:12:55.400Z"
   },
   {
    "duration": 12,
    "start_time": "2023-09-19T11:12:55.436Z"
   },
   {
    "duration": 49,
    "start_time": "2023-09-19T11:12:55.450Z"
   },
   {
    "duration": 15,
    "start_time": "2023-09-19T11:12:55.500Z"
   },
   {
    "duration": 53,
    "start_time": "2023-09-19T11:12:55.517Z"
   },
   {
    "duration": 28,
    "start_time": "2023-09-19T11:12:55.571Z"
   },
   {
    "duration": 28,
    "start_time": "2023-09-19T11:12:55.601Z"
   },
   {
    "duration": 28,
    "start_time": "2023-09-19T11:12:55.630Z"
   },
   {
    "duration": 46,
    "start_time": "2023-09-19T11:12:55.660Z"
   },
   {
    "duration": 17,
    "start_time": "2023-09-19T11:12:55.708Z"
   },
   {
    "duration": 55,
    "start_time": "2023-09-19T11:12:55.727Z"
   },
   {
    "duration": 6,
    "start_time": "2023-09-19T11:12:55.784Z"
   },
   {
    "duration": 18,
    "start_time": "2023-09-19T11:12:55.792Z"
   },
   {
    "duration": 31,
    "start_time": "2023-09-19T11:12:55.811Z"
   },
   {
    "duration": 79,
    "start_time": "2023-09-19T11:12:55.844Z"
   },
   {
    "duration": 9,
    "start_time": "2023-09-19T11:12:55.924Z"
   },
   {
    "duration": 59,
    "start_time": "2023-09-19T11:12:55.934Z"
   },
   {
    "duration": 221,
    "start_time": "2023-09-19T11:12:55.994Z"
   },
   {
    "duration": 257,
    "start_time": "2023-09-19T11:12:56.217Z"
   },
   {
    "duration": 208,
    "start_time": "2023-09-19T11:12:56.476Z"
   },
   {
    "duration": 7,
    "start_time": "2023-09-19T11:12:56.686Z"
   },
   {
    "duration": 13,
    "start_time": "2023-09-19T11:12:56.695Z"
   },
   {
    "duration": 259,
    "start_time": "2023-09-19T11:12:56.711Z"
   },
   {
    "duration": 317,
    "start_time": "2023-09-19T11:12:56.971Z"
   },
   {
    "duration": 14,
    "start_time": "2023-09-19T11:12:57.290Z"
   },
   {
    "duration": 7,
    "start_time": "2023-09-19T11:12:57.305Z"
   },
   {
    "duration": 14,
    "start_time": "2023-09-19T11:12:57.314Z"
   },
   {
    "duration": 287,
    "start_time": "2023-09-19T11:12:57.333Z"
   },
   {
    "duration": 13,
    "start_time": "2023-09-19T11:12:57.622Z"
   },
   {
    "duration": 52,
    "start_time": "2023-09-19T11:12:57.636Z"
   },
   {
    "duration": 11,
    "start_time": "2023-09-19T11:12:57.690Z"
   },
   {
    "duration": 12,
    "start_time": "2023-09-19T11:12:57.702Z"
   },
   {
    "duration": 14,
    "start_time": "2023-09-19T11:12:57.716Z"
   },
   {
    "duration": 7,
    "start_time": "2023-09-19T11:12:57.732Z"
   },
   {
    "duration": 55,
    "start_time": "2023-09-19T11:12:57.741Z"
   },
   {
    "duration": 19,
    "start_time": "2023-09-19T11:12:57.798Z"
   },
   {
    "duration": 6,
    "start_time": "2023-09-19T11:12:57.819Z"
   },
   {
    "duration": 21,
    "start_time": "2023-09-19T11:12:57.827Z"
   },
   {
    "duration": 79,
    "start_time": "2023-09-19T11:12:57.850Z"
   },
   {
    "duration": 383,
    "start_time": "2023-09-19T11:12:57.931Z"
   },
   {
    "duration": 5,
    "start_time": "2023-09-19T11:16:30.193Z"
   },
   {
    "duration": 13,
    "start_time": "2023-09-19T11:17:23.562Z"
   },
   {
    "duration": 17,
    "start_time": "2023-09-19T11:17:23.577Z"
   },
   {
    "duration": 906,
    "start_time": "2023-09-19T11:17:23.596Z"
   },
   {
    "duration": 3,
    "start_time": "2023-09-19T11:17:24.505Z"
   },
   {
    "duration": 145,
    "start_time": "2023-09-19T11:17:24.509Z"
   },
   {
    "duration": 20,
    "start_time": "2023-09-19T11:17:24.656Z"
   },
   {
    "duration": 29,
    "start_time": "2023-09-19T11:17:24.677Z"
   },
   {
    "duration": 40,
    "start_time": "2023-09-19T11:17:24.708Z"
   },
   {
    "duration": 9,
    "start_time": "2023-09-19T11:17:24.750Z"
   },
   {
    "duration": 27,
    "start_time": "2023-09-19T11:17:24.763Z"
   },
   {
    "duration": 24,
    "start_time": "2023-09-19T11:17:24.792Z"
   },
   {
    "duration": 40,
    "start_time": "2023-09-19T11:17:24.818Z"
   },
   {
    "duration": 14,
    "start_time": "2023-09-19T11:17:24.860Z"
   },
   {
    "duration": 19,
    "start_time": "2023-09-19T11:17:24.880Z"
   },
   {
    "duration": 29,
    "start_time": "2023-09-19T11:17:24.901Z"
   },
   {
    "duration": 30,
    "start_time": "2023-09-19T11:17:24.932Z"
   },
   {
    "duration": 24,
    "start_time": "2023-09-19T11:17:24.963Z"
   },
   {
    "duration": 48,
    "start_time": "2023-09-19T11:17:24.989Z"
   },
   {
    "duration": 31,
    "start_time": "2023-09-19T11:17:25.039Z"
   },
   {
    "duration": 26,
    "start_time": "2023-09-19T11:17:25.072Z"
   },
   {
    "duration": 50,
    "start_time": "2023-09-19T11:17:25.100Z"
   },
   {
    "duration": 47,
    "start_time": "2023-09-19T11:17:25.152Z"
   },
   {
    "duration": 7,
    "start_time": "2023-09-19T11:17:25.201Z"
   },
   {
    "duration": 28,
    "start_time": "2023-09-19T11:17:25.210Z"
   },
   {
    "duration": 33,
    "start_time": "2023-09-19T11:17:25.241Z"
   },
   {
    "duration": 20,
    "start_time": "2023-09-19T11:17:25.277Z"
   },
   {
    "duration": 78,
    "start_time": "2023-09-19T11:17:25.299Z"
   },
   {
    "duration": 24,
    "start_time": "2023-09-19T11:17:25.384Z"
   },
   {
    "duration": 26,
    "start_time": "2023-09-19T11:17:25.411Z"
   },
   {
    "duration": 27,
    "start_time": "2023-09-19T11:17:25.439Z"
   },
   {
    "duration": 27,
    "start_time": "2023-09-19T11:17:25.468Z"
   },
   {
    "duration": 29,
    "start_time": "2023-09-19T11:17:25.496Z"
   },
   {
    "duration": 11,
    "start_time": "2023-09-19T11:17:25.527Z"
   },
   {
    "duration": 27,
    "start_time": "2023-09-19T11:17:25.539Z"
   },
   {
    "duration": 22,
    "start_time": "2023-09-19T11:17:25.568Z"
   },
   {
    "duration": 35,
    "start_time": "2023-09-19T11:17:25.592Z"
   },
   {
    "duration": 29,
    "start_time": "2023-09-19T11:17:25.629Z"
   },
   {
    "duration": 23,
    "start_time": "2023-09-19T11:17:25.659Z"
   },
   {
    "duration": 17,
    "start_time": "2023-09-19T11:17:25.684Z"
   },
   {
    "duration": 13,
    "start_time": "2023-09-19T11:17:25.703Z"
   },
   {
    "duration": 18,
    "start_time": "2023-09-19T11:17:25.717Z"
   },
   {
    "duration": 33,
    "start_time": "2023-09-19T11:17:25.736Z"
   },
   {
    "duration": 27,
    "start_time": "2023-09-19T11:17:25.771Z"
   },
   {
    "duration": 27,
    "start_time": "2023-09-19T11:17:25.799Z"
   },
   {
    "duration": 15,
    "start_time": "2023-09-19T11:17:25.828Z"
   },
   {
    "duration": 53,
    "start_time": "2023-09-19T11:17:25.844Z"
   },
   {
    "duration": 20,
    "start_time": "2023-09-19T11:17:25.899Z"
   },
   {
    "duration": 20,
    "start_time": "2023-09-19T11:17:25.921Z"
   },
   {
    "duration": 38,
    "start_time": "2023-09-19T11:17:25.943Z"
   },
   {
    "duration": 20,
    "start_time": "2023-09-19T11:17:25.983Z"
   },
   {
    "duration": 14,
    "start_time": "2023-09-19T11:17:26.004Z"
   },
   {
    "duration": 19,
    "start_time": "2023-09-19T11:17:26.019Z"
   },
   {
    "duration": 27,
    "start_time": "2023-09-19T11:17:26.040Z"
   },
   {
    "duration": 14,
    "start_time": "2023-09-19T11:17:26.069Z"
   },
   {
    "duration": 12,
    "start_time": "2023-09-19T11:17:26.085Z"
   },
   {
    "duration": 16,
    "start_time": "2023-09-19T11:17:26.099Z"
   },
   {
    "duration": 24,
    "start_time": "2023-09-19T11:17:26.116Z"
   },
   {
    "duration": 40,
    "start_time": "2023-09-19T11:17:26.142Z"
   },
   {
    "duration": 14,
    "start_time": "2023-09-19T11:17:26.184Z"
   },
   {
    "duration": 26,
    "start_time": "2023-09-19T11:17:26.200Z"
   },
   {
    "duration": 41,
    "start_time": "2023-09-19T11:17:26.228Z"
   },
   {
    "duration": 34,
    "start_time": "2023-09-19T11:17:26.272Z"
   },
   {
    "duration": 46,
    "start_time": "2023-09-19T11:17:26.308Z"
   },
   {
    "duration": 45,
    "start_time": "2023-09-19T11:17:26.356Z"
   },
   {
    "duration": 17,
    "start_time": "2023-09-19T11:17:26.403Z"
   },
   {
    "duration": 85,
    "start_time": "2023-09-19T11:17:26.422Z"
   },
   {
    "duration": 6,
    "start_time": "2023-09-19T11:17:26.509Z"
   },
   {
    "duration": 23,
    "start_time": "2023-09-19T11:17:26.517Z"
   },
   {
    "duration": 47,
    "start_time": "2023-09-19T11:17:26.542Z"
   },
   {
    "duration": 32,
    "start_time": "2023-09-19T11:17:26.591Z"
   },
   {
    "duration": 9,
    "start_time": "2023-09-19T11:17:26.625Z"
   },
   {
    "duration": 50,
    "start_time": "2023-09-19T11:17:26.635Z"
   },
   {
    "duration": 274,
    "start_time": "2023-09-19T11:17:26.687Z"
   },
   {
    "duration": 266,
    "start_time": "2023-09-19T11:17:26.963Z"
   },
   {
    "duration": 166,
    "start_time": "2023-09-19T11:17:27.231Z"
   },
   {
    "duration": 5,
    "start_time": "2023-09-19T11:17:27.399Z"
   },
   {
    "duration": 14,
    "start_time": "2023-09-19T11:17:27.406Z"
   },
   {
    "duration": 205,
    "start_time": "2023-09-19T11:17:27.422Z"
   },
   {
    "duration": 298,
    "start_time": "2023-09-19T11:17:27.629Z"
   },
   {
    "duration": 15,
    "start_time": "2023-09-19T11:17:27.929Z"
   },
   {
    "duration": 24,
    "start_time": "2023-09-19T11:17:27.947Z"
   },
   {
    "duration": 11,
    "start_time": "2023-09-19T11:17:27.984Z"
   },
   {
    "duration": 303,
    "start_time": "2023-09-19T11:17:27.997Z"
   },
   {
    "duration": 15,
    "start_time": "2023-09-19T11:17:28.302Z"
   },
   {
    "duration": 25,
    "start_time": "2023-09-19T11:17:28.319Z"
   },
   {
    "duration": 36,
    "start_time": "2023-09-19T11:17:28.346Z"
   },
   {
    "duration": 11,
    "start_time": "2023-09-19T11:17:28.384Z"
   },
   {
    "duration": 26,
    "start_time": "2023-09-19T11:17:28.397Z"
   },
   {
    "duration": 19,
    "start_time": "2023-09-19T11:17:28.425Z"
   },
   {
    "duration": 45,
    "start_time": "2023-09-19T11:17:28.446Z"
   },
   {
    "duration": 38,
    "start_time": "2023-09-19T11:17:28.493Z"
   },
   {
    "duration": 89,
    "start_time": "2023-09-19T11:17:28.533Z"
   },
   {
    "duration": 105,
    "start_time": "2023-09-19T11:17:28.624Z"
   },
   {
    "duration": 50,
    "start_time": "2023-09-19T11:17:28.731Z"
   },
   {
    "duration": 400,
    "start_time": "2023-09-19T11:17:28.783Z"
   },
   {
    "duration": 20,
    "start_time": "2023-09-19T12:16:25.410Z"
   },
   {
    "duration": 10,
    "start_time": "2023-09-19T12:16:37.693Z"
   },
   {
    "duration": 23,
    "start_time": "2023-09-19T12:16:37.705Z"
   },
   {
    "duration": 691,
    "start_time": "2023-09-19T12:16:37.729Z"
   },
   {
    "duration": 3,
    "start_time": "2023-09-19T12:16:38.422Z"
   },
   {
    "duration": 169,
    "start_time": "2023-09-19T12:16:38.427Z"
   },
   {
    "duration": 19,
    "start_time": "2023-09-19T12:16:38.598Z"
   },
   {
    "duration": 48,
    "start_time": "2023-09-19T12:16:38.619Z"
   },
   {
    "duration": 58,
    "start_time": "2023-09-19T12:16:38.669Z"
   },
   {
    "duration": 37,
    "start_time": "2023-09-19T12:16:38.729Z"
   },
   {
    "duration": 78,
    "start_time": "2023-09-19T12:16:38.771Z"
   },
   {
    "duration": 41,
    "start_time": "2023-09-19T12:16:38.851Z"
   },
   {
    "duration": 57,
    "start_time": "2023-09-19T12:16:38.895Z"
   },
   {
    "duration": 19,
    "start_time": "2023-09-19T12:16:38.954Z"
   },
   {
    "duration": 67,
    "start_time": "2023-09-19T12:16:38.974Z"
   },
   {
    "duration": 41,
    "start_time": "2023-09-19T12:16:39.043Z"
   },
   {
    "duration": 72,
    "start_time": "2023-09-19T12:16:39.086Z"
   },
   {
    "duration": 43,
    "start_time": "2023-09-19T12:16:39.160Z"
   },
   {
    "duration": 53,
    "start_time": "2023-09-19T12:16:39.205Z"
   },
   {
    "duration": 49,
    "start_time": "2023-09-19T12:16:39.260Z"
   },
   {
    "duration": 61,
    "start_time": "2023-09-19T12:16:39.312Z"
   },
   {
    "duration": 69,
    "start_time": "2023-09-19T12:16:39.375Z"
   },
   {
    "duration": 35,
    "start_time": "2023-09-19T12:16:39.446Z"
   },
   {
    "duration": 64,
    "start_time": "2023-09-19T12:16:39.483Z"
   },
   {
    "duration": 46,
    "start_time": "2023-09-19T12:16:39.549Z"
   },
   {
    "duration": 63,
    "start_time": "2023-09-19T12:16:39.597Z"
   },
   {
    "duration": 38,
    "start_time": "2023-09-19T12:16:39.661Z"
   },
   {
    "duration": 89,
    "start_time": "2023-09-19T12:16:39.700Z"
   },
   {
    "duration": 17,
    "start_time": "2023-09-19T12:16:39.794Z"
   },
   {
    "duration": 56,
    "start_time": "2023-09-19T12:16:39.813Z"
   },
   {
    "duration": 65,
    "start_time": "2023-09-19T12:16:39.871Z"
   },
   {
    "duration": 75,
    "start_time": "2023-09-19T12:16:39.938Z"
   },
   {
    "duration": 52,
    "start_time": "2023-09-19T12:16:40.015Z"
   },
   {
    "duration": 31,
    "start_time": "2023-09-19T12:16:40.069Z"
   },
   {
    "duration": 78,
    "start_time": "2023-09-19T12:16:40.102Z"
   },
   {
    "duration": 68,
    "start_time": "2023-09-19T12:16:40.182Z"
   },
   {
    "duration": 97,
    "start_time": "2023-09-19T12:16:40.252Z"
   },
   {
    "duration": 59,
    "start_time": "2023-09-19T12:16:40.350Z"
   },
   {
    "duration": 42,
    "start_time": "2023-09-19T12:16:40.411Z"
   },
   {
    "duration": 66,
    "start_time": "2023-09-19T12:16:40.455Z"
   },
   {
    "duration": 46,
    "start_time": "2023-09-19T12:16:40.522Z"
   },
   {
    "duration": 47,
    "start_time": "2023-09-19T12:16:40.570Z"
   },
   {
    "duration": 69,
    "start_time": "2023-09-19T12:16:40.619Z"
   },
   {
    "duration": 72,
    "start_time": "2023-09-19T12:16:40.690Z"
   },
   {
    "duration": 59,
    "start_time": "2023-09-19T12:16:40.764Z"
   },
   {
    "duration": 59,
    "start_time": "2023-09-19T12:16:40.824Z"
   },
   {
    "duration": 51,
    "start_time": "2023-09-19T12:16:40.884Z"
   },
   {
    "duration": 74,
    "start_time": "2023-09-19T12:16:40.936Z"
   },
   {
    "duration": 75,
    "start_time": "2023-09-19T12:16:41.011Z"
   },
   {
    "duration": 58,
    "start_time": "2023-09-19T12:16:41.087Z"
   },
   {
    "duration": 51,
    "start_time": "2023-09-19T12:16:41.147Z"
   },
   {
    "duration": 71,
    "start_time": "2023-09-19T12:16:41.200Z"
   },
   {
    "duration": 59,
    "start_time": "2023-09-19T12:16:41.273Z"
   },
   {
    "duration": 54,
    "start_time": "2023-09-19T12:16:41.334Z"
   },
   {
    "duration": 114,
    "start_time": "2023-09-19T12:16:41.389Z"
   },
   {
    "duration": 51,
    "start_time": "2023-09-19T12:16:41.505Z"
   },
   {
    "duration": 100,
    "start_time": "2023-09-19T12:16:41.557Z"
   },
   {
    "duration": 11,
    "start_time": "2023-09-19T12:16:41.660Z"
   },
   {
    "duration": 47,
    "start_time": "2023-09-19T12:16:41.672Z"
   },
   {
    "duration": 26,
    "start_time": "2023-09-19T12:16:41.721Z"
   },
   {
    "duration": 65,
    "start_time": "2023-09-19T12:16:41.749Z"
   },
   {
    "duration": 69,
    "start_time": "2023-09-19T12:16:41.816Z"
   },
   {
    "duration": 40,
    "start_time": "2023-09-19T12:16:41.887Z"
   },
   {
    "duration": 76,
    "start_time": "2023-09-19T12:16:41.929Z"
   },
   {
    "duration": 81,
    "start_time": "2023-09-19T12:16:42.006Z"
   },
   {
    "duration": 59,
    "start_time": "2023-09-19T12:16:42.088Z"
   },
   {
    "duration": 54,
    "start_time": "2023-09-19T12:16:42.149Z"
   },
   {
    "duration": 34,
    "start_time": "2023-09-19T12:16:42.205Z"
   },
   {
    "duration": 70,
    "start_time": "2023-09-19T12:16:42.242Z"
   },
   {
    "duration": 70,
    "start_time": "2023-09-19T12:16:42.315Z"
   },
   {
    "duration": 34,
    "start_time": "2023-09-19T12:16:42.386Z"
   },
   {
    "duration": 56,
    "start_time": "2023-09-19T12:16:42.421Z"
   },
   {
    "duration": 40,
    "start_time": "2023-09-19T12:16:42.479Z"
   },
   {
    "duration": 216,
    "start_time": "2023-09-19T12:16:42.520Z"
   },
   {
    "duration": 249,
    "start_time": "2023-09-19T12:16:42.738Z"
   },
   {
    "duration": 165,
    "start_time": "2023-09-19T12:16:42.989Z"
   },
   {
    "duration": 5,
    "start_time": "2023-09-19T12:16:43.156Z"
   },
   {
    "duration": 29,
    "start_time": "2023-09-19T12:16:43.162Z"
   },
   {
    "duration": 199,
    "start_time": "2023-09-19T12:16:43.193Z"
   },
   {
    "duration": 287,
    "start_time": "2023-09-19T12:16:43.394Z"
   },
   {
    "duration": 13,
    "start_time": "2023-09-19T12:16:43.683Z"
   },
   {
    "duration": 26,
    "start_time": "2023-09-19T12:16:43.698Z"
   },
   {
    "duration": 14,
    "start_time": "2023-09-19T12:16:43.730Z"
   },
   {
    "duration": 299,
    "start_time": "2023-09-19T12:16:43.746Z"
   },
   {
    "duration": 13,
    "start_time": "2023-09-19T12:16:44.046Z"
   },
   {
    "duration": 47,
    "start_time": "2023-09-19T12:16:44.061Z"
   },
   {
    "duration": 8,
    "start_time": "2023-09-19T12:16:44.110Z"
   },
   {
    "duration": 18,
    "start_time": "2023-09-19T12:16:44.119Z"
   },
   {
    "duration": 16,
    "start_time": "2023-09-19T12:16:44.139Z"
   },
   {
    "duration": 26,
    "start_time": "2023-09-19T12:16:44.157Z"
   },
   {
    "duration": 38,
    "start_time": "2023-09-19T12:16:44.185Z"
   },
   {
    "duration": 31,
    "start_time": "2023-09-19T12:16:44.224Z"
   },
   {
    "duration": 6,
    "start_time": "2023-09-19T12:16:44.256Z"
   },
   {
    "duration": 26,
    "start_time": "2023-09-19T12:16:44.263Z"
   },
   {
    "duration": 38,
    "start_time": "2023-09-19T12:16:44.291Z"
   },
   {
    "duration": 397,
    "start_time": "2023-09-19T12:16:44.331Z"
   },
   {
    "duration": 281,
    "start_time": "2023-09-19T12:17:16.897Z"
   },
   {
    "duration": 366,
    "start_time": "2023-09-19T12:18:02.855Z"
   },
   {
    "duration": 21,
    "start_time": "2023-09-19T12:20:39.593Z"
   },
   {
    "duration": 21,
    "start_time": "2023-09-19T12:20:51.487Z"
   },
   {
    "duration": 29,
    "start_time": "2023-09-19T12:22:59.314Z"
   },
   {
    "duration": 10,
    "start_time": "2023-09-19T12:23:09.690Z"
   },
   {
    "duration": 20,
    "start_time": "2023-09-19T12:23:09.702Z"
   },
   {
    "duration": 710,
    "start_time": "2023-09-19T12:23:09.724Z"
   },
   {
    "duration": 4,
    "start_time": "2023-09-19T12:23:10.436Z"
   },
   {
    "duration": 145,
    "start_time": "2023-09-19T12:23:10.444Z"
   },
   {
    "duration": 22,
    "start_time": "2023-09-19T12:23:10.591Z"
   },
   {
    "duration": 19,
    "start_time": "2023-09-19T12:23:10.615Z"
   },
   {
    "duration": 34,
    "start_time": "2023-09-19T12:23:10.636Z"
   },
   {
    "duration": 13,
    "start_time": "2023-09-19T12:23:10.682Z"
   },
   {
    "duration": 20,
    "start_time": "2023-09-19T12:23:10.697Z"
   },
   {
    "duration": 12,
    "start_time": "2023-09-19T12:23:10.719Z"
   },
   {
    "duration": 19,
    "start_time": "2023-09-19T12:23:10.732Z"
   },
   {
    "duration": 35,
    "start_time": "2023-09-19T12:23:10.754Z"
   },
   {
    "duration": 18,
    "start_time": "2023-09-19T12:23:10.792Z"
   },
   {
    "duration": 14,
    "start_time": "2023-09-19T12:23:10.812Z"
   },
   {
    "duration": 17,
    "start_time": "2023-09-19T12:23:10.828Z"
   },
   {
    "duration": 46,
    "start_time": "2023-09-19T12:23:10.847Z"
   },
   {
    "duration": 8,
    "start_time": "2023-09-19T12:23:10.894Z"
   },
   {
    "duration": 7,
    "start_time": "2023-09-19T12:23:10.904Z"
   },
   {
    "duration": 10,
    "start_time": "2023-09-19T12:23:10.913Z"
   },
   {
    "duration": 30,
    "start_time": "2023-09-19T12:23:10.925Z"
   },
   {
    "duration": 24,
    "start_time": "2023-09-19T12:23:10.957Z"
   },
   {
    "duration": 38,
    "start_time": "2023-09-19T12:23:10.983Z"
   },
   {
    "duration": 14,
    "start_time": "2023-09-19T12:23:11.023Z"
   },
   {
    "duration": 23,
    "start_time": "2023-09-19T12:23:11.038Z"
   },
   {
    "duration": 34,
    "start_time": "2023-09-19T12:23:11.062Z"
   },
   {
    "duration": 60,
    "start_time": "2023-09-19T12:23:11.098Z"
   },
   {
    "duration": 33,
    "start_time": "2023-09-19T12:23:11.160Z"
   },
   {
    "duration": 17,
    "start_time": "2023-09-19T12:23:11.195Z"
   },
   {
    "duration": 23,
    "start_time": "2023-09-19T12:23:11.215Z"
   },
   {
    "duration": 19,
    "start_time": "2023-09-19T12:23:11.240Z"
   },
   {
    "duration": 20,
    "start_time": "2023-09-19T12:23:11.281Z"
   },
   {
    "duration": 13,
    "start_time": "2023-09-19T12:23:11.302Z"
   },
   {
    "duration": 27,
    "start_time": "2023-09-19T12:23:11.316Z"
   },
   {
    "duration": 44,
    "start_time": "2023-09-19T12:23:11.345Z"
   },
   {
    "duration": 19,
    "start_time": "2023-09-19T12:23:11.391Z"
   },
   {
    "duration": 40,
    "start_time": "2023-09-19T12:23:11.411Z"
   },
   {
    "duration": 19,
    "start_time": "2023-09-19T12:23:11.453Z"
   },
   {
    "duration": 16,
    "start_time": "2023-09-19T12:23:11.474Z"
   },
   {
    "duration": 17,
    "start_time": "2023-09-19T12:23:11.491Z"
   },
   {
    "duration": 17,
    "start_time": "2023-09-19T12:23:11.514Z"
   },
   {
    "duration": 84,
    "start_time": "2023-09-19T12:23:11.532Z"
   },
   {
    "duration": 28,
    "start_time": "2023-09-19T12:23:11.618Z"
   },
   {
    "duration": 55,
    "start_time": "2023-09-19T12:23:11.649Z"
   },
   {
    "duration": 17,
    "start_time": "2023-09-19T12:23:11.706Z"
   },
   {
    "duration": 34,
    "start_time": "2023-09-19T12:23:11.724Z"
   },
   {
    "duration": 38,
    "start_time": "2023-09-19T12:23:11.760Z"
   },
   {
    "duration": 25,
    "start_time": "2023-09-19T12:23:11.800Z"
   },
   {
    "duration": 7,
    "start_time": "2023-09-19T12:23:11.828Z"
   },
   {
    "duration": 45,
    "start_time": "2023-09-19T12:23:11.837Z"
   },
   {
    "duration": 6,
    "start_time": "2023-09-19T12:23:11.884Z"
   },
   {
    "duration": 22,
    "start_time": "2023-09-19T12:23:11.891Z"
   },
   {
    "duration": 23,
    "start_time": "2023-09-19T12:23:11.915Z"
   },
   {
    "duration": 12,
    "start_time": "2023-09-19T12:23:11.940Z"
   },
   {
    "duration": 26,
    "start_time": "2023-09-19T12:23:11.955Z"
   },
   {
    "duration": 15,
    "start_time": "2023-09-19T12:23:11.983Z"
   },
   {
    "duration": 9,
    "start_time": "2023-09-19T12:23:12.000Z"
   },
   {
    "duration": 30,
    "start_time": "2023-09-19T12:23:12.011Z"
   },
   {
    "duration": 45,
    "start_time": "2023-09-19T12:23:12.043Z"
   },
   {
    "duration": 20,
    "start_time": "2023-09-19T12:23:12.090Z"
   },
   {
    "duration": 60,
    "start_time": "2023-09-19T12:23:12.112Z"
   },
   {
    "duration": 25,
    "start_time": "2023-09-19T12:23:12.174Z"
   },
   {
    "duration": 26,
    "start_time": "2023-09-19T12:23:12.201Z"
   },
   {
    "duration": 40,
    "start_time": "2023-09-19T12:23:12.229Z"
   },
   {
    "duration": 24,
    "start_time": "2023-09-19T12:23:12.271Z"
   },
   {
    "duration": 38,
    "start_time": "2023-09-19T12:23:12.297Z"
   },
   {
    "duration": 6,
    "start_time": "2023-09-19T12:23:12.337Z"
   },
   {
    "duration": 17,
    "start_time": "2023-09-19T12:23:12.345Z"
   },
   {
    "duration": 40,
    "start_time": "2023-09-19T12:23:12.383Z"
   },
   {
    "duration": 36,
    "start_time": "2023-09-19T12:23:12.425Z"
   },
   {
    "duration": 26,
    "start_time": "2023-09-19T12:23:12.463Z"
   },
   {
    "duration": 34,
    "start_time": "2023-09-19T12:23:12.490Z"
   },
   {
    "duration": 219,
    "start_time": "2023-09-19T12:23:12.526Z"
   },
   {
    "duration": 270,
    "start_time": "2023-09-19T12:23:12.747Z"
   },
   {
    "duration": 172,
    "start_time": "2023-09-19T12:23:13.020Z"
   },
   {
    "duration": 6,
    "start_time": "2023-09-19T12:23:13.194Z"
   },
   {
    "duration": 11,
    "start_time": "2023-09-19T12:23:13.201Z"
   },
   {
    "duration": 245,
    "start_time": "2023-09-19T12:23:13.214Z"
   },
   {
    "duration": 312,
    "start_time": "2023-09-19T12:23:13.461Z"
   },
   {
    "duration": 14,
    "start_time": "2023-09-19T12:23:13.774Z"
   },
   {
    "duration": 5,
    "start_time": "2023-09-19T12:23:13.790Z"
   },
   {
    "duration": 15,
    "start_time": "2023-09-19T12:23:13.797Z"
   },
   {
    "duration": 339,
    "start_time": "2023-09-19T12:23:13.815Z"
   },
   {
    "duration": 25,
    "start_time": "2023-09-19T12:23:14.156Z"
   },
   {
    "duration": 25,
    "start_time": "2023-09-19T12:23:14.183Z"
   },
   {
    "duration": 8,
    "start_time": "2023-09-19T12:23:14.210Z"
   },
   {
    "duration": 10,
    "start_time": "2023-09-19T12:23:14.219Z"
   },
   {
    "duration": 53,
    "start_time": "2023-09-19T12:23:14.231Z"
   },
   {
    "duration": 6,
    "start_time": "2023-09-19T12:23:14.286Z"
   },
   {
    "duration": 29,
    "start_time": "2023-09-19T12:23:14.294Z"
   },
   {
    "duration": 22,
    "start_time": "2023-09-19T12:23:14.324Z"
   },
   {
    "duration": 33,
    "start_time": "2023-09-19T12:23:14.348Z"
   },
   {
    "duration": 11,
    "start_time": "2023-09-19T12:23:14.383Z"
   },
   {
    "duration": 62,
    "start_time": "2023-09-19T12:23:14.396Z"
   },
   {
    "duration": 398,
    "start_time": "2023-09-19T12:23:14.460Z"
   },
   {
    "duration": 20,
    "start_time": "2023-09-19T12:23:40.577Z"
   },
   {
    "duration": 11,
    "start_time": "2023-09-19T12:28:31.178Z"
   },
   {
    "duration": 40,
    "start_time": "2023-09-19T12:28:31.192Z"
   },
   {
    "duration": 731,
    "start_time": "2023-09-19T12:28:31.233Z"
   },
   {
    "duration": 4,
    "start_time": "2023-09-19T12:28:31.967Z"
   },
   {
    "duration": 158,
    "start_time": "2023-09-19T12:28:31.981Z"
   },
   {
    "duration": 21,
    "start_time": "2023-09-19T12:28:32.141Z"
   },
   {
    "duration": 24,
    "start_time": "2023-09-19T12:28:32.164Z"
   },
   {
    "duration": 67,
    "start_time": "2023-09-19T12:28:32.190Z"
   },
   {
    "duration": 64,
    "start_time": "2023-09-19T12:28:32.259Z"
   },
   {
    "duration": 23,
    "start_time": "2023-09-19T12:28:32.326Z"
   },
   {
    "duration": 35,
    "start_time": "2023-09-19T12:28:32.352Z"
   },
   {
    "duration": 102,
    "start_time": "2023-09-19T12:28:32.390Z"
   },
   {
    "duration": 44,
    "start_time": "2023-09-19T12:28:32.493Z"
   },
   {
    "duration": 40,
    "start_time": "2023-09-19T12:28:32.540Z"
   },
   {
    "duration": 27,
    "start_time": "2023-09-19T12:28:32.583Z"
   },
   {
    "duration": 28,
    "start_time": "2023-09-19T12:28:32.613Z"
   },
   {
    "duration": 35,
    "start_time": "2023-09-19T12:28:32.644Z"
   },
   {
    "duration": 22,
    "start_time": "2023-09-19T12:28:32.681Z"
   },
   {
    "duration": 10,
    "start_time": "2023-09-19T12:28:32.706Z"
   },
   {
    "duration": 16,
    "start_time": "2023-09-19T12:28:32.718Z"
   },
   {
    "duration": 15,
    "start_time": "2023-09-19T12:28:32.736Z"
   },
   {
    "duration": 18,
    "start_time": "2023-09-19T12:28:32.753Z"
   },
   {
    "duration": 9,
    "start_time": "2023-09-19T12:28:32.773Z"
   },
   {
    "duration": 10,
    "start_time": "2023-09-19T12:28:32.784Z"
   },
   {
    "duration": 7,
    "start_time": "2023-09-19T12:28:32.796Z"
   },
   {
    "duration": 18,
    "start_time": "2023-09-19T12:28:32.805Z"
   },
   {
    "duration": 79,
    "start_time": "2023-09-19T12:28:32.825Z"
   },
   {
    "duration": 18,
    "start_time": "2023-09-19T12:28:32.909Z"
   },
   {
    "duration": 19,
    "start_time": "2023-09-19T12:28:32.928Z"
   },
   {
    "duration": 43,
    "start_time": "2023-09-19T12:28:32.949Z"
   },
   {
    "duration": 21,
    "start_time": "2023-09-19T12:28:32.994Z"
   },
   {
    "duration": 17,
    "start_time": "2023-09-19T12:28:33.016Z"
   },
   {
    "duration": 12,
    "start_time": "2023-09-19T12:28:33.034Z"
   },
   {
    "duration": 51,
    "start_time": "2023-09-19T12:28:33.047Z"
   },
   {
    "duration": 14,
    "start_time": "2023-09-19T12:28:33.099Z"
   },
   {
    "duration": 29,
    "start_time": "2023-09-19T12:28:33.115Z"
   },
   {
    "duration": 44,
    "start_time": "2023-09-19T12:28:33.146Z"
   },
   {
    "duration": 22,
    "start_time": "2023-09-19T12:28:33.192Z"
   },
   {
    "duration": 15,
    "start_time": "2023-09-19T12:28:33.216Z"
   },
   {
    "duration": 15,
    "start_time": "2023-09-19T12:28:33.233Z"
   },
   {
    "duration": 20,
    "start_time": "2023-09-19T12:28:33.250Z"
   },
   {
    "duration": 32,
    "start_time": "2023-09-19T12:28:33.280Z"
   },
   {
    "duration": 27,
    "start_time": "2023-09-19T12:28:33.315Z"
   },
   {
    "duration": 60,
    "start_time": "2023-09-19T12:28:33.344Z"
   },
   {
    "duration": 19,
    "start_time": "2023-09-19T12:28:33.406Z"
   },
   {
    "duration": 27,
    "start_time": "2023-09-19T12:28:33.427Z"
   },
   {
    "duration": 40,
    "start_time": "2023-09-19T12:28:33.456Z"
   },
   {
    "duration": 22,
    "start_time": "2023-09-19T12:28:33.498Z"
   },
   {
    "duration": 5,
    "start_time": "2023-09-19T12:28:33.521Z"
   },
   {
    "duration": 27,
    "start_time": "2023-09-19T12:28:33.527Z"
   },
   {
    "duration": 27,
    "start_time": "2023-09-19T12:28:33.555Z"
   },
   {
    "duration": 17,
    "start_time": "2023-09-19T12:28:33.583Z"
   },
   {
    "duration": 22,
    "start_time": "2023-09-19T12:28:33.601Z"
   },
   {
    "duration": 12,
    "start_time": "2023-09-19T12:28:33.625Z"
   },
   {
    "duration": 12,
    "start_time": "2023-09-19T12:28:33.639Z"
   },
   {
    "duration": 14,
    "start_time": "2023-09-19T12:28:33.653Z"
   },
   {
    "duration": 24,
    "start_time": "2023-09-19T12:28:33.669Z"
   },
   {
    "duration": 38,
    "start_time": "2023-09-19T12:28:33.695Z"
   },
   {
    "duration": 15,
    "start_time": "2023-09-19T12:28:33.735Z"
   },
   {
    "duration": 30,
    "start_time": "2023-09-19T12:28:33.752Z"
   },
   {
    "duration": 18,
    "start_time": "2023-09-19T12:28:33.785Z"
   },
   {
    "duration": 24,
    "start_time": "2023-09-19T12:28:33.806Z"
   },
   {
    "duration": 18,
    "start_time": "2023-09-19T12:28:33.832Z"
   },
   {
    "duration": 61,
    "start_time": "2023-09-19T12:28:33.852Z"
   },
   {
    "duration": 18,
    "start_time": "2023-09-19T12:28:33.916Z"
   },
   {
    "duration": 49,
    "start_time": "2023-09-19T12:28:33.936Z"
   },
   {
    "duration": 7,
    "start_time": "2023-09-19T12:28:33.987Z"
   },
   {
    "duration": 24,
    "start_time": "2023-09-19T12:28:33.996Z"
   },
   {
    "duration": 39,
    "start_time": "2023-09-19T12:28:34.022Z"
   },
   {
    "duration": 44,
    "start_time": "2023-09-19T12:28:34.063Z"
   },
   {
    "duration": 11,
    "start_time": "2023-09-19T12:28:34.109Z"
   },
   {
    "duration": 18,
    "start_time": "2023-09-19T12:28:34.122Z"
   },
   {
    "duration": 221,
    "start_time": "2023-09-19T12:28:34.142Z"
   },
   {
    "duration": 255,
    "start_time": "2023-09-19T12:28:34.366Z"
   },
   {
    "duration": 161,
    "start_time": "2023-09-19T12:28:34.623Z"
   },
   {
    "duration": 5,
    "start_time": "2023-09-19T12:28:34.787Z"
   },
   {
    "duration": 19,
    "start_time": "2023-09-19T12:28:34.794Z"
   },
   {
    "duration": 198,
    "start_time": "2023-09-19T12:28:34.815Z"
   },
   {
    "duration": 290,
    "start_time": "2023-09-19T12:28:35.015Z"
   },
   {
    "duration": 16,
    "start_time": "2023-09-19T12:28:35.307Z"
   },
   {
    "duration": 8,
    "start_time": "2023-09-19T12:28:35.325Z"
   },
   {
    "duration": 45,
    "start_time": "2023-09-19T12:28:35.339Z"
   },
   {
    "duration": 272,
    "start_time": "2023-09-19T12:28:35.386Z"
   },
   {
    "duration": 25,
    "start_time": "2023-09-19T12:28:35.659Z"
   },
   {
    "duration": 36,
    "start_time": "2023-09-19T12:28:35.686Z"
   },
   {
    "duration": 8,
    "start_time": "2023-09-19T12:28:35.724Z"
   },
   {
    "duration": 35,
    "start_time": "2023-09-19T12:28:35.733Z"
   },
   {
    "duration": 23,
    "start_time": "2023-09-19T12:28:35.770Z"
   },
   {
    "duration": 21,
    "start_time": "2023-09-19T12:28:35.795Z"
   },
   {
    "duration": 27,
    "start_time": "2023-09-19T12:28:35.818Z"
   },
   {
    "duration": 22,
    "start_time": "2023-09-19T12:28:35.847Z"
   },
   {
    "duration": 6,
    "start_time": "2023-09-19T12:28:35.871Z"
   },
   {
    "duration": 9,
    "start_time": "2023-09-19T12:28:35.881Z"
   },
   {
    "duration": 44,
    "start_time": "2023-09-19T12:28:35.892Z"
   },
   {
    "duration": 371,
    "start_time": "2023-09-19T12:28:35.938Z"
   },
   {
    "duration": 9,
    "start_time": "2023-09-19T12:46:49.887Z"
   },
   {
    "duration": 14,
    "start_time": "2023-09-19T12:46:49.898Z"
   },
   {
    "duration": 636,
    "start_time": "2023-09-19T12:46:49.913Z"
   },
   {
    "duration": 4,
    "start_time": "2023-09-19T12:46:50.550Z"
   },
   {
    "duration": 157,
    "start_time": "2023-09-19T12:46:50.556Z"
   },
   {
    "duration": 18,
    "start_time": "2023-09-19T12:46:50.714Z"
   },
   {
    "duration": 44,
    "start_time": "2023-09-19T12:46:50.733Z"
   },
   {
    "duration": 33,
    "start_time": "2023-09-19T12:46:50.778Z"
   },
   {
    "duration": 11,
    "start_time": "2023-09-19T12:46:50.812Z"
   },
   {
    "duration": 36,
    "start_time": "2023-09-19T12:46:50.825Z"
   },
   {
    "duration": 36,
    "start_time": "2023-09-19T12:46:50.863Z"
   },
   {
    "duration": 28,
    "start_time": "2023-09-19T12:46:50.901Z"
   },
   {
    "duration": 27,
    "start_time": "2023-09-19T12:46:50.931Z"
   },
   {
    "duration": 21,
    "start_time": "2023-09-19T12:46:50.961Z"
   },
   {
    "duration": 19,
    "start_time": "2023-09-19T12:46:50.984Z"
   },
   {
    "duration": 27,
    "start_time": "2023-09-19T12:46:51.005Z"
   },
   {
    "duration": 48,
    "start_time": "2023-09-19T12:46:51.033Z"
   },
   {
    "duration": 22,
    "start_time": "2023-09-19T12:46:51.082Z"
   },
   {
    "duration": 17,
    "start_time": "2023-09-19T12:46:51.106Z"
   },
   {
    "duration": 28,
    "start_time": "2023-09-19T12:46:51.125Z"
   },
   {
    "duration": 28,
    "start_time": "2023-09-19T12:46:51.154Z"
   },
   {
    "duration": 28,
    "start_time": "2023-09-19T12:46:51.184Z"
   },
   {
    "duration": 18,
    "start_time": "2023-09-19T12:46:51.214Z"
   },
   {
    "duration": 45,
    "start_time": "2023-09-19T12:46:51.233Z"
   },
   {
    "duration": 17,
    "start_time": "2023-09-19T12:46:51.280Z"
   },
   {
    "duration": 31,
    "start_time": "2023-09-19T12:46:51.299Z"
   },
   {
    "duration": 85,
    "start_time": "2023-09-19T12:46:51.332Z"
   },
   {
    "duration": 18,
    "start_time": "2023-09-19T12:46:51.419Z"
   },
   {
    "duration": 33,
    "start_time": "2023-09-19T12:46:51.439Z"
   },
   {
    "duration": 29,
    "start_time": "2023-09-19T12:46:51.474Z"
   },
   {
    "duration": 35,
    "start_time": "2023-09-19T12:46:51.505Z"
   },
   {
    "duration": 34,
    "start_time": "2023-09-19T12:46:51.541Z"
   },
   {
    "duration": 11,
    "start_time": "2023-09-19T12:46:51.576Z"
   },
   {
    "duration": 28,
    "start_time": "2023-09-19T12:46:51.588Z"
   },
   {
    "duration": 20,
    "start_time": "2023-09-19T12:46:51.617Z"
   },
   {
    "duration": 58,
    "start_time": "2023-09-19T12:46:51.638Z"
   },
   {
    "duration": 31,
    "start_time": "2023-09-19T12:46:51.698Z"
   },
   {
    "duration": 31,
    "start_time": "2023-09-19T12:46:51.730Z"
   },
   {
    "duration": 21,
    "start_time": "2023-09-19T12:46:51.762Z"
   },
   {
    "duration": 36,
    "start_time": "2023-09-19T12:46:51.785Z"
   },
   {
    "duration": 15,
    "start_time": "2023-09-19T12:46:51.826Z"
   },
   {
    "duration": 41,
    "start_time": "2023-09-19T12:46:51.842Z"
   },
   {
    "duration": 23,
    "start_time": "2023-09-19T12:46:51.885Z"
   },
   {
    "duration": 26,
    "start_time": "2023-09-19T12:46:51.910Z"
   },
   {
    "duration": 14,
    "start_time": "2023-09-19T12:46:51.938Z"
   },
   {
    "duration": 40,
    "start_time": "2023-09-19T12:46:51.954Z"
   },
   {
    "duration": 26,
    "start_time": "2023-09-19T12:46:51.996Z"
   },
   {
    "duration": 44,
    "start_time": "2023-09-19T12:46:52.023Z"
   },
   {
    "duration": 13,
    "start_time": "2023-09-19T12:46:52.069Z"
   },
   {
    "duration": 33,
    "start_time": "2023-09-19T12:46:52.084Z"
   },
   {
    "duration": 22,
    "start_time": "2023-09-19T12:46:52.119Z"
   },
   {
    "duration": 26,
    "start_time": "2023-09-19T12:46:52.142Z"
   },
   {
    "duration": 44,
    "start_time": "2023-09-19T12:46:52.170Z"
   },
   {
    "duration": 7,
    "start_time": "2023-09-19T12:46:52.216Z"
   },
   {
    "duration": 24,
    "start_time": "2023-09-19T12:46:52.225Z"
   },
   {
    "duration": 29,
    "start_time": "2023-09-19T12:46:52.251Z"
   },
   {
    "duration": 28,
    "start_time": "2023-09-19T12:46:52.282Z"
   },
   {
    "duration": 46,
    "start_time": "2023-09-19T12:46:52.312Z"
   },
   {
    "duration": 24,
    "start_time": "2023-09-19T12:46:52.359Z"
   },
   {
    "duration": 45,
    "start_time": "2023-09-19T12:46:52.385Z"
   },
   {
    "duration": 46,
    "start_time": "2023-09-19T12:46:52.431Z"
   },
   {
    "duration": 40,
    "start_time": "2023-09-19T12:46:52.478Z"
   },
   {
    "duration": 16,
    "start_time": "2023-09-19T12:46:52.520Z"
   },
   {
    "duration": 45,
    "start_time": "2023-09-19T12:46:52.537Z"
   },
   {
    "duration": 19,
    "start_time": "2023-09-19T12:46:52.584Z"
   },
   {
    "duration": 47,
    "start_time": "2023-09-19T12:46:52.604Z"
   },
   {
    "duration": 11,
    "start_time": "2023-09-19T12:46:52.653Z"
   },
   {
    "duration": 13,
    "start_time": "2023-09-19T12:46:52.665Z"
   },
   {
    "duration": 50,
    "start_time": "2023-09-19T12:46:52.680Z"
   },
   {
    "duration": 32,
    "start_time": "2023-09-19T12:46:52.732Z"
   },
   {
    "duration": 8,
    "start_time": "2023-09-19T12:46:52.766Z"
   },
   {
    "duration": 34,
    "start_time": "2023-09-19T12:46:52.776Z"
   },
   {
    "duration": 194,
    "start_time": "2023-09-19T12:46:52.812Z"
   },
   {
    "duration": 235,
    "start_time": "2023-09-19T12:46:53.008Z"
   },
   {
    "duration": 150,
    "start_time": "2023-09-19T12:46:53.244Z"
   },
   {
    "duration": 4,
    "start_time": "2023-09-19T12:46:53.395Z"
   },
   {
    "duration": 26,
    "start_time": "2023-09-19T12:46:53.401Z"
   },
   {
    "duration": 186,
    "start_time": "2023-09-19T12:46:53.428Z"
   },
   {
    "duration": 313,
    "start_time": "2023-09-19T12:46:53.616Z"
   },
   {
    "duration": 14,
    "start_time": "2023-09-19T12:46:53.931Z"
   },
   {
    "duration": 11,
    "start_time": "2023-09-19T12:46:53.947Z"
   },
   {
    "duration": 13,
    "start_time": "2023-09-19T12:46:53.960Z"
   },
   {
    "duration": 271,
    "start_time": "2023-09-19T12:46:53.975Z"
   },
   {
    "duration": 12,
    "start_time": "2023-09-19T12:46:54.248Z"
   },
   {
    "duration": 38,
    "start_time": "2023-09-19T12:46:54.262Z"
   },
   {
    "duration": 8,
    "start_time": "2023-09-19T12:46:54.301Z"
   },
   {
    "duration": 19,
    "start_time": "2023-09-19T12:46:54.310Z"
   },
   {
    "duration": 10,
    "start_time": "2023-09-19T12:46:54.330Z"
   },
   {
    "duration": 10,
    "start_time": "2023-09-19T12:46:54.342Z"
   },
   {
    "duration": 38,
    "start_time": "2023-09-19T12:46:54.354Z"
   },
   {
    "duration": 46,
    "start_time": "2023-09-19T12:46:54.394Z"
   },
   {
    "duration": 6,
    "start_time": "2023-09-19T12:46:54.442Z"
   },
   {
    "duration": 29,
    "start_time": "2023-09-19T12:46:54.450Z"
   },
   {
    "duration": 50,
    "start_time": "2023-09-19T12:46:54.481Z"
   },
   {
    "duration": 370,
    "start_time": "2023-09-19T12:46:54.533Z"
   },
   {
    "duration": 8,
    "start_time": "2023-09-19T16:09:33.746Z"
   },
   {
    "duration": 22,
    "start_time": "2023-09-19T16:09:33.756Z"
   },
   {
    "duration": 755,
    "start_time": "2023-09-19T16:09:33.780Z"
   },
   {
    "duration": 4,
    "start_time": "2023-09-19T16:09:34.536Z"
   },
   {
    "duration": 170,
    "start_time": "2023-09-19T16:09:34.542Z"
   },
   {
    "duration": 24,
    "start_time": "2023-09-19T16:09:34.715Z"
   },
   {
    "duration": 25,
    "start_time": "2023-09-19T16:09:34.741Z"
   },
   {
    "duration": 44,
    "start_time": "2023-09-19T16:09:34.768Z"
   },
   {
    "duration": 54,
    "start_time": "2023-09-19T16:09:34.813Z"
   },
   {
    "duration": 29,
    "start_time": "2023-09-19T16:09:34.869Z"
   },
   {
    "duration": 32,
    "start_time": "2023-09-19T16:09:34.900Z"
   },
   {
    "duration": 40,
    "start_time": "2023-09-19T16:09:34.933Z"
   },
   {
    "duration": 11,
    "start_time": "2023-09-19T16:09:34.975Z"
   },
   {
    "duration": 26,
    "start_time": "2023-09-19T16:09:34.988Z"
   },
   {
    "duration": 36,
    "start_time": "2023-09-19T16:09:35.016Z"
   },
   {
    "duration": 15,
    "start_time": "2023-09-19T16:09:35.054Z"
   },
   {
    "duration": 22,
    "start_time": "2023-09-19T16:09:35.070Z"
   },
   {
    "duration": 144,
    "start_time": "2023-09-19T16:09:35.094Z"
   },
   {
    "duration": 248,
    "start_time": "2023-09-19T16:09:35.240Z"
   },
   {
    "duration": 12,
    "start_time": "2023-09-19T16:09:35.490Z"
   },
   {
    "duration": 49,
    "start_time": "2023-09-19T16:09:35.504Z"
   },
   {
    "duration": 33,
    "start_time": "2023-09-19T16:09:35.554Z"
   },
   {
    "duration": 36,
    "start_time": "2023-09-19T16:09:35.589Z"
   },
   {
    "duration": 48,
    "start_time": "2023-09-19T16:09:35.627Z"
   },
   {
    "duration": 45,
    "start_time": "2023-09-19T16:09:35.677Z"
   },
   {
    "duration": 49,
    "start_time": "2023-09-19T16:09:35.725Z"
   },
   {
    "duration": 69,
    "start_time": "2023-09-19T16:09:35.775Z"
   },
   {
    "duration": 18,
    "start_time": "2023-09-19T16:09:35.846Z"
   },
   {
    "duration": 50,
    "start_time": "2023-09-19T16:09:35.867Z"
   },
   {
    "duration": 44,
    "start_time": "2023-09-19T16:09:35.919Z"
   },
   {
    "duration": 60,
    "start_time": "2023-09-19T16:09:35.964Z"
   },
   {
    "duration": 42,
    "start_time": "2023-09-19T16:09:36.026Z"
   },
   {
    "duration": 28,
    "start_time": "2023-09-19T16:09:36.070Z"
   },
   {
    "duration": 53,
    "start_time": "2023-09-19T16:09:36.099Z"
   },
   {
    "duration": 37,
    "start_time": "2023-09-19T16:09:36.154Z"
   },
   {
    "duration": 91,
    "start_time": "2023-09-19T16:09:36.193Z"
   },
   {
    "duration": 64,
    "start_time": "2023-09-19T16:09:36.290Z"
   },
   {
    "duration": 52,
    "start_time": "2023-09-19T16:09:36.356Z"
   },
   {
    "duration": 32,
    "start_time": "2023-09-19T16:09:36.411Z"
   },
   {
    "duration": 36,
    "start_time": "2023-09-19T16:09:36.445Z"
   },
   {
    "duration": 17,
    "start_time": "2023-09-19T16:09:36.483Z"
   },
   {
    "duration": 79,
    "start_time": "2023-09-19T16:09:36.502Z"
   },
   {
    "duration": 31,
    "start_time": "2023-09-19T16:09:36.583Z"
   },
   {
    "duration": 29,
    "start_time": "2023-09-19T16:09:36.616Z"
   },
   {
    "duration": 18,
    "start_time": "2023-09-19T16:09:36.646Z"
   },
   {
    "duration": 48,
    "start_time": "2023-09-19T16:09:36.666Z"
   },
   {
    "duration": 107,
    "start_time": "2023-09-19T16:09:36.716Z"
   },
   {
    "duration": 31,
    "start_time": "2023-09-19T16:09:36.825Z"
   },
   {
    "duration": 20,
    "start_time": "2023-09-19T16:09:36.857Z"
   },
   {
    "duration": 36,
    "start_time": "2023-09-19T16:09:36.878Z"
   },
   {
    "duration": 9,
    "start_time": "2023-09-19T16:09:36.916Z"
   },
   {
    "duration": 33,
    "start_time": "2023-09-19T16:09:36.928Z"
   },
   {
    "duration": 44,
    "start_time": "2023-09-19T16:09:36.963Z"
   },
   {
    "duration": 21,
    "start_time": "2023-09-19T16:09:37.009Z"
   },
   {
    "duration": 43,
    "start_time": "2023-09-19T16:09:37.033Z"
   },
   {
    "duration": 45,
    "start_time": "2023-09-19T16:09:37.077Z"
   },
   {
    "duration": 31,
    "start_time": "2023-09-19T16:09:37.123Z"
   },
   {
    "duration": 47,
    "start_time": "2023-09-19T16:09:37.156Z"
   },
   {
    "duration": 14,
    "start_time": "2023-09-19T16:09:37.205Z"
   },
   {
    "duration": 18,
    "start_time": "2023-09-19T16:09:37.220Z"
   },
   {
    "duration": 23,
    "start_time": "2023-09-19T16:09:37.240Z"
   },
   {
    "duration": 61,
    "start_time": "2023-09-19T16:09:37.265Z"
   },
   {
    "duration": 15,
    "start_time": "2023-09-19T16:09:37.329Z"
   },
   {
    "duration": 46,
    "start_time": "2023-09-19T16:09:37.346Z"
   },
   {
    "duration": 15,
    "start_time": "2023-09-19T16:09:37.394Z"
   },
   {
    "duration": 37,
    "start_time": "2023-09-19T16:09:37.411Z"
   },
   {
    "duration": 15,
    "start_time": "2023-09-19T16:09:37.449Z"
   },
   {
    "duration": 8,
    "start_time": "2023-09-19T16:09:37.466Z"
   },
   {
    "duration": 54,
    "start_time": "2023-09-19T16:09:37.475Z"
   },
   {
    "duration": 33,
    "start_time": "2023-09-19T16:09:37.531Z"
   },
   {
    "duration": 15,
    "start_time": "2023-09-19T16:09:37.566Z"
   },
   {
    "duration": 40,
    "start_time": "2023-09-19T16:09:37.582Z"
   },
   {
    "duration": 230,
    "start_time": "2023-09-19T16:09:37.624Z"
   },
   {
    "duration": 261,
    "start_time": "2023-09-19T16:09:37.856Z"
   },
   {
    "duration": 153,
    "start_time": "2023-09-19T16:09:38.118Z"
   },
   {
    "duration": 5,
    "start_time": "2023-09-19T16:09:38.272Z"
   },
   {
    "duration": 28,
    "start_time": "2023-09-19T16:09:38.279Z"
   },
   {
    "duration": 246,
    "start_time": "2023-09-19T16:09:38.310Z"
   },
   {
    "duration": 331,
    "start_time": "2023-09-19T16:09:38.558Z"
   },
   {
    "duration": 13,
    "start_time": "2023-09-19T16:09:38.902Z"
   },
   {
    "duration": 12,
    "start_time": "2023-09-19T16:09:38.916Z"
   },
   {
    "duration": 23,
    "start_time": "2023-09-19T16:09:38.930Z"
   },
   {
    "duration": 276,
    "start_time": "2023-09-19T16:09:38.955Z"
   },
   {
    "duration": 14,
    "start_time": "2023-09-19T16:09:39.233Z"
   },
   {
    "duration": 42,
    "start_time": "2023-09-19T16:09:39.249Z"
   },
   {
    "duration": 15,
    "start_time": "2023-09-19T16:09:39.293Z"
   },
   {
    "duration": 38,
    "start_time": "2023-09-19T16:09:39.311Z"
   },
   {
    "duration": 28,
    "start_time": "2023-09-19T16:09:39.351Z"
   },
   {
    "duration": 37,
    "start_time": "2023-09-19T16:09:39.381Z"
   },
   {
    "duration": 43,
    "start_time": "2023-09-19T16:09:39.420Z"
   },
   {
    "duration": 22,
    "start_time": "2023-09-19T16:09:39.465Z"
   },
   {
    "duration": 19,
    "start_time": "2023-09-19T16:09:39.489Z"
   },
   {
    "duration": 31,
    "start_time": "2023-09-19T16:09:39.510Z"
   },
   {
    "duration": 104,
    "start_time": "2023-09-19T16:09:39.543Z"
   },
   {
    "duration": 368,
    "start_time": "2023-09-19T16:09:39.649Z"
   },
   {
    "duration": 2377,
    "start_time": "2023-09-19T17:16:44.712Z"
   },
   {
    "duration": 239,
    "start_time": "2023-09-19T17:17:08.939Z"
   },
   {
    "duration": 214,
    "start_time": "2023-09-19T17:17:25.669Z"
   },
   {
    "duration": 217,
    "start_time": "2023-09-19T17:17:34.085Z"
   },
   {
    "duration": 209,
    "start_time": "2023-09-19T17:17:40.818Z"
   },
   {
    "duration": 202,
    "start_time": "2023-09-19T17:18:45.069Z"
   }
  ],
  "colab": {
   "name": "DA+. Сборный проект 1. Шаблон (1).ipynb",
   "provenance": []
  },
  "kernelspec": {
   "display_name": "Python 3 (ipykernel)",
   "language": "python",
   "name": "python3"
  },
  "language_info": {
   "codemirror_mode": {
    "name": "ipython",
    "version": 3
   },
   "file_extension": ".py",
   "mimetype": "text/x-python",
   "name": "python",
   "nbconvert_exporter": "python",
   "pygments_lexer": "ipython3",
   "version": "3.9.5"
  },
  "toc": {
   "base_numbering": 1,
   "nav_menu": {},
   "number_sections": true,
   "sideBar": true,
   "skip_h1_title": true,
   "title_cell": "Table of Contents",
   "title_sidebar": "Contents",
   "toc_cell": false,
   "toc_position": {
    "height": "calc(100% - 180px)",
    "left": "10px",
    "top": "150px",
    "width": "165px"
   },
   "toc_section_display": true,
   "toc_window_display": true
  }
 },
 "nbformat": 4,
 "nbformat_minor": 1
}
